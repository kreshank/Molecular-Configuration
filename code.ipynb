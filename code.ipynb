{
 "cells": [
  {
   "cell_type": "code",
   "execution_count": 1,
   "id": "a961ca72-a2e2-490c-8640-ff90ed69e36a",
   "metadata": {},
   "outputs": [],
   "source": [
    "import numpy as np\n",
    "import matplotlib.pyplot as plt \n",
    "import torch\n",
    "import generator\n",
    "import plotly.graph_objects as go\n",
    "from itertools import combinations\n",
    "from scipy.spatial.transform import Rotation as R\n",
    "from sklearn.decomposition import PCA"
   ]
  },
  {
   "cell_type": "code",
   "execution_count": 2,
   "id": "059e854a-7289-44f4-bd0c-4663afb581e1",
   "metadata": {},
   "outputs": [],
   "source": [
    "def V(X, i, j):\n",
    "    r_ij = X[i] - X[j]\n",
    "    r = torch.norm(r_ij).pow(-6)\n",
    "    return r.pow(2) - 2 * r\n",
    "\n",
    "def center(X):\n",
    "    Y = X - X[0]\n",
    "    return Y\n",
    "    \n",
    "def system_potential(X):\n",
    "    N, _ = X.shape\n",
    "    energy = 0.0\n",
    "    Y = center(X)\n",
    "    for i in range(N - 1):\n",
    "        for j in range(i + 1, N): \n",
    "            energy += V(Y, i, j)\n",
    "    return energy\n",
    "\n",
    "def line_search(X, energy, g, alpha_0=1.0, factor=0.5, c=1e-4, max_iter=10, tol=1e-8):\n",
    "    alpha = alpha_0\n",
    "    dot = torch.sum(-g * g).item()    \n",
    "    for _ in range(max_iter):\n",
    "        X_k = X - alpha * g\n",
    "        energy_new = system_potential(X_k)\n",
    "\n",
    "        if energy_new <= energy + c * alpha * dot:\n",
    "            break\n",
    "        alpha *= factor\n",
    "        if alpha < tol:\n",
    "            break\n",
    "    return alpha\n",
    "\n",
    "def gd_solve(natoms, lr=0.008, energy_tol=1e-8, tol=1e-8, max_iter=2001, debug=True, debug_rate=400, save_initial=False, gen=generator.uniform_sphere, track_energy=False):\n",
    "    X = gen(natoms).clone().requires_grad_().to('cuda' if torch.cuda.is_available() else 'cpu', torch.float64)\n",
    "    if save_initial:\n",
    "        orig = X.clone()\n",
    "    if track_energy:\n",
    "        nrg_list = []\n",
    "\n",
    "    for _iter_ in range(max_iter):\n",
    "        energy = system_potential(X)\n",
    "        if track_energy:\n",
    "            nrg_list.append(energy.detach())\n",
    "        g = torch.autograd.grad(energy, X)[0] \n",
    "        \n",
    "        g_norm = g.norm().item()\n",
    "        if g_norm < tol:\n",
    "            if debug:\n",
    "                print(f\"Converged on step {_iter_}, energy: {energy.item():.6f}, gradient norm = {g_norm:.3e}\")\n",
    "            break\n",
    "        \n",
    "        with torch.no_grad(): \n",
    "            X -= line_search(X, energy, g) * g \n",
    "            X.requires_grad_() \n",
    "\n",
    "        energy_new = system_potential(X)\n",
    "\n",
    "        if abs(energy_new - energy) < energy_tol:\n",
    "            if debug:\n",
    "                print(f\"Converged on step {_iter_}, energy: {energy_new.item():.6f}, gradient norm = {g_norm:.3e}\")\n",
    "            break\n",
    "\n",
    "        if debug and _iter_ % debug_rate == 0:\n",
    "            print(f\"Step {_iter_}, energy: {energy.item():.6f}, gradient norm: {g_norm:.2e}\")\n",
    "    if save_initial:\n",
    "        return orig.detach(), center(X.detach()), energy    \n",
    "    if track_energy: \n",
    "        return torch.tensor(nrg_list), energy\n",
    "    return center(X.detach()), energy"
   ]
  },
  {
   "cell_type": "code",
   "execution_count": 3,
   "id": "145a60c0-23c4-4a87-9f39-d66bd82b947c",
   "metadata": {},
   "outputs": [],
   "source": [
    "def plot_3d_points(points, energy):\n",
    "    points_np = center(points).numpy()\n",
    "    N,_ = points_np.shape\n",
    "    x = points_np[:, 0]\n",
    "    y = points_np[:, 1]\n",
    "    z = points_np[:, 2]\n",
    "    fig = go.Figure()\n",
    "    for i, j in combinations(range(len(points_np)), 2):\n",
    "        edge_len = np.linalg.norm(points_np[i] - points_np[j])\n",
    "        V_ij = V(points, i, j)\n",
    "        fig.add_trace(go.Scatter3d(\n",
    "            x=[points_np[i, 0], points_np[j, 0]],\n",
    "            y=[points_np[i, 1], points_np[j, 1]],\n",
    "            z=[points_np[i, 2], points_np[j, 2]],\n",
    "            mode='lines',\n",
    "            line=dict(color='rgb(173, 216, 230, 0.4)', width=8),\n",
    "            showlegend=False, \n",
    "            hovertext=f\"Length: {edge_len:.2e}, Contributes {V_ij:.2e}J\",\n",
    "            hoverinfo=\"text\",\n",
    "        ))\n",
    "    fig.add_trace(go.Scatter3d(\n",
    "        x=x, y=y, z=z,\n",
    "        mode='markers',\n",
    "        hovertext=[f\"Point {i + 1}\" for i in range(N)],\n",
    "        marker=dict(size=8, color='red'),\n",
    "        showlegend=False\n",
    "    ))\n",
    "    fig.update_layout(\n",
    "        scene=dict(\n",
    "            xaxis=dict(showgrid=False, zeroline=False, showticklabels=False, title=''),  # Remove grid, zero line, and ticks\n",
    "            yaxis=dict(showgrid=False, zeroline=False, showticklabels=False, title=''),\n",
    "            zaxis=dict(showgrid=False, zeroline=False, showticklabels=False, title=''),\n",
    "        ),\n",
    "        title=f\"{N}-Atom Configuration: {energy:.4f}J\",\n",
    "        width=600,\n",
    "        height=400,\n",
    "        plot_bgcolor='rgba(0,0,0,0)',\n",
    "        paper_bgcolor='rgba(0,0,0,0)',\n",
    "    )\n",
    "    fig.update_scenes(xaxis_visible=False, yaxis_visible=False,zaxis_visible=False)\n",
    "    fig.show()"
   ]
  },
  {
   "cell_type": "code",
   "execution_count": null,
   "id": "73675db7-3339-41c2-8577-8d0dbbe92031",
   "metadata": {
    "scrolled": true
   },
   "outputs": [],
   "source": [
    "for atoms in range(2,15):\n",
    "    config = gd_solve(atoms, debug=False)\n",
    "    plot_3d_points(*config)"
   ]
  },
  {
   "cell_type": "code",
   "execution_count": 4,
   "id": "1af3c7eb",
   "metadata": {},
   "outputs": [
    {
     "name": "stdout",
     "output_type": "stream",
     "text": [
      "Iter  0: E = -0.221921, ‖grad‖ = 7.62e-01, a = 0.100\n",
      "Iter  1: E = -0.289849, ‖grad‖ = 1.04e+00, a = 0.100\n",
      "Iter  2: E = -0.424871, ‖grad‖ = 1.61e+00, a = 0.100\n",
      "Iter  3: E = -0.803233, ‖grad‖ = 3.29e+00, a = 0.100\n",
      "Iter  4: E = -1.279765, ‖grad‖ = 3.61e+01, a = 0.006\n",
      "Iter  5: E = -1.635842, ‖grad‖ = 6.56e+00, a = 0.025\n",
      "Iter  6: E = -2.858243, ‖grad‖ = 5.87e+00, a = 0.013\n",
      "Iter  7: E = -2.863041, ‖grad‖ = 9.64e+00, a = 0.006\n",
      "Iter  8: E = -2.927801, ‖grad‖ = 4.59e+00, a = 0.006\n",
      "Iter  9: E = -2.999994, ‖grad‖ = 4.41e-02, a = 0.006\n",
      "Iter 10: E = -3.000000, ‖grad‖ = 1.52e-02, a = 0.006\n",
      "Iter 11: E = -3.000000, ‖grad‖ = 5.25e-03, a = 0.006\n",
      "Iter 12: E = -3.000000, ‖grad‖ = 1.80e-03, a = 0.025\n",
      "Iter 13: E = -3.000000, ‖grad‖ = 7.38e-03, a = 0.006\n",
      "Iter 14: E = -3.000000, ‖grad‖ = 2.58e-03, a = 0.013\n",
      "Iter 15: E = -3.000000, ‖grad‖ = 4.34e-03, a = 0.006\n",
      "Iter 16: E = -3.000000, ‖grad‖ = 1.52e-03, a = 0.025\n",
      "Iter 17: E = -3.000000, ‖grad‖ = 6.68e-03, a = 0.006\n",
      "Iter 18: E = -3.000000, ‖grad‖ = 2.33e-03, a = 0.013\n",
      "Iter 19: E = -3.000000, ‖grad‖ = 3.95e-03, a = 0.006\n"
     ]
    }
   ],
   "source": [
    "# Verify that line search works right\n",
    "\n",
    "X = generator.uniform_sphere(3).clone().requires_grad_(True)\n",
    "for i in range(20):\n",
    "    E = system_potential(X)\n",
    "    g = torch.autograd.grad(E, X)[0]\n",
    "    p = -g.view(-1)                        \n",
    "    a = line_search(X, E, g, alpha_0=0.1)   # try 0.1 or whatever lr\n",
    "    with torch.no_grad():\n",
    "        X = X + a * p.view_as(X)\n",
    "        X = X - X[0]\n",
    "    X.requires_grad_(True)\n",
    "    print(f\"Iter {i:2d}: E = {E.item():.6f}, ‖grad‖ = {g.norm().item():.2e}, a = {a:.3f}\")\n"
   ]
  },
  {
   "cell_type": "code",
   "execution_count": null,
   "id": "464babdc-52a0-4566-9a48-62b8b50b3947",
   "metadata": {},
   "outputs": [],
   "source": [
    "\n",
    "def strong_wolfe_line_search(X, energy, g, p,\n",
    "                             alpha0=1.0, c1=1e-4, c2=0.9,\n",
    "                             max_iter=20):\n",
    "    def phi(a):\n",
    "        Xt = X + a * p\n",
    "        return system_potential(Xt).item()\n",
    "    def der_phi(a):\n",
    "        Xt = X + a * p\n",
    "        Xt = Xt.clone().detach().requires_grad_(True)\n",
    "        Et = system_potential(Xt)\n",
    "        grad_t = torch.autograd.grad(Et, Xt)[0]\n",
    "        return (grad_t.view(-1) @ p.view(-1)).item()\n",
    "\n",
    "    alpha_prev = 0.0\n",
    "    phi0       = energy\n",
    "    derphi0    = (g.view(-1) @ p.view(-1)).item()\n",
    "    alpha = alpha0\n",
    "    phi_prev = phi0\n",
    "\n",
    "    for i in range(max_iter):\n",
    "        phi_a = phi(alpha)\n",
    "        if (phi_a > phi0 + c1 * alpha * derphi0) or (i > 0 and phi_a >= phi_prev):\n",
    "            # need to zoom between alpha_prev and alpha\n",
    "            return zoom(alpha_prev, alpha, phi, der_phi, phi0, derphi0, c1, c2)\n",
    "        derphi_a = der_phi(alpha)\n",
    "        if abs(derphi_a) <= -c2 * derphi0:\n",
    "            return alpha\n",
    "        if derphi_a >= 0:\n",
    "            # curvature condition violated: derivative has changed sign\n",
    "            return zoom(alpha, alpha_prev, phi, der_phi, phi0, derphi0, c1, c2)\n",
    "        alpha_prev, phi_prev = alpha, phi_a\n",
    "        alpha = alpha * 2.0  # increase alpha and keep searching\n",
    "\n",
    "    return alpha  # fallback\n",
    "\n",
    "def zoom(a_lo, a_hi, phi, der_phi, phi0, derphi0, c1, c2):\n",
    "    for j in range(20):\n",
    "        # interpolate midpoint\n",
    "        a_j = 0.5 * (a_lo + a_hi)\n",
    "        phi_aj = phi(a_j)\n",
    "        if (phi_aj > phi0 + c1 * a_j * derphi0) or (phi_aj >= phi(a_lo)):\n",
    "            a_hi = a_j\n",
    "        else:\n",
    "            derphi_aj = der_phi(a_j)\n",
    "            if abs(derphi_aj) <= -c2 * derphi0:\n",
    "                return a_j\n",
    "            if derphi_aj * (a_hi - a_lo) >= 0:\n",
    "                a_hi = a_lo\n",
    "            a_lo = a_j\n",
    "    return a_j"
   ]
  },
  {
   "cell_type": "code",
   "execution_count": 122,
   "id": "ff3686c0-5963-4a8e-9491-b68311a7ca28",
   "metadata": {},
   "outputs": [],
   "source": [
    "def bfgs_step(X, energy, g, H_inv, alpha=1.0, max_iter=10, tol=1e-8):\n",
    "    N, _ = X.shape\n",
    "\n",
    "    # flatten & slice out the free variables\n",
    "    g_full = g.view(-1)\n",
    "    g_free = g_full[3:]\n",
    "    # print(\"||g_full|| =\", g_full.norm().item())\n",
    "    # print(\"||g_free|| =\", g_free.norm().item())\n",
    "    # print(\"H_inv diag:\", torch.diag(H_inv)[:6])\n",
    "    # print(\"H_inv.shape =\", H_inv.shape)\n",
    "    # print(\"g_free.shape =\", g_free.shape)\n",
    "\n",
    "    # descent dir in the free subspace\n",
    "    s_free = - H_inv @ g_free\n",
    "\n",
    "    p = torch.zeros_like(g_full, device=g_full.device)\n",
    "    p[3:] = s_free\n",
    "    p = p.view_as(X)\n",
    "\n",
    "    # line search (still uses the full X and full g)\n",
    "    alpha = strong_wolfe_line_search(X, energy, g, p)\n",
    "\n",
    "    # take a step in the free variables\n",
    "    x_full = X.clone().detach().view(-1)\n",
    "    x_free = x_full[3:]\n",
    "\n",
    "    # print(\"||s_free|| =\", s_free.norm().item())\n",
    "    # print(\"alpha =\", alpha)\n",
    "    # print(\"x_free (first 5) =\", x_free[:5])\n",
    "    x_free_new = x_free + alpha * s_free\n",
    "    # print(\"x_free_new (first 5) =\", x_free_new[:5])\n",
    "    # print(\"s = x_free_new - x_free (first 5) =\", (x_free_new - x_free)[:5])\n",
    "\n",
    "    # reassemble X_new\n",
    "    x_full[3:] = x_free_new\n",
    "    X_new = x_full.view(N,3).requires_grad_(True)\n",
    "\n",
    "    # eval new energy & gradient\n",
    "    energy_new = system_potential(X_new)\n",
    "    g_new_full = torch.autograd.grad(energy_new, X_new)[0]\n",
    "    g_new = g_new_full.view(-1)\n",
    "    g_new_free = g_new[3:]\n",
    "\n",
    "    # BFGS inverse‐Hessian update on the free subspace\n",
    "    w = alpha * s_free\n",
    "    y = g_new_free - g_free\n",
    "    # print (f\"y={y}\")\n",
    "    # print (f\"s={s}\")\n",
    "    # print (f\"ys={y @ s}\")\n",
    "    ys = (y @ w).item()\n",
    "    # print(f\"||s|| = {w.norm().item():.2e}, ||y|| = {y.norm().item():.2e}, y^T s = {ys:.2e}\")\n",
    "\n",
    "\n",
    "    if ys <= 1e-24:\n",
    "        H_inv_new = H_inv.clone()\n",
    "        valid = True\n",
    "    else:\n",
    "        #print (\"does this run\")\n",
    "        rho = 1.0 / ys\n",
    "        I   = torch.eye(H_inv.shape[0], device=H_inv.device)\n",
    "        V   = I - rho * torch.outer(w, y)\n",
    "        with torch.no_grad():\n",
    "            H_inv_new = V @ H_inv @ V.T + rho * torch.outer(w, w)\n",
    "        valid = True\n",
    "\n",
    "    return X_new, energy_new, g_new_full, H_inv_new, alpha, valid\n",
    "\n",
    "def bfgs(natoms, lr=0.008, g_tol=1e-8, energy_tol=1e-8, max_iter=2001, debug=True, debug_rate=400, save_initial=False, gen=generator.uniform_sphere, track_energy=False):\n",
    "    X = gen(natoms).clone().requires_grad_().to('cuda' if torch.cuda.is_available() else 'cpu', torch.float64)\n",
    "    if save_initial:\n",
    "        orig = X.clone()\n",
    "    N, _ = X.shape\n",
    "    H_inv = torch.eye(3 * (N - 1), dtype=torch.float64).to(X.device) \n",
    "\n",
    "    X = X.clone().detach().requires_grad_(True) # make sure autograd returns valid\n",
    "\n",
    "    if track_energy: \n",
    "        nrg_list = [system_potential(X)]\n",
    "    for _iter_ in range(max_iter):\n",
    "        energy = system_potential(X)\n",
    "        g = torch.autograd.grad(energy, X)[0]\n",
    "\n",
    "        X_new, energy_new, g_new, H_inv, alpha, valid = bfgs_step(X, energy, g, H_inv, alpha=lr)\n",
    "\n",
    "        if track_energy and valid: \n",
    "            nrg_list.append(energy_new.detach())\n",
    "        \n",
    "        if abs(energy_new - energy) < energy_tol:\n",
    "            if debug:\n",
    "                print(f\"Converged on step {_iter_}, energy: {energy_new.item():.6f}, gradient norm = {g_norm:.3e}\")\n",
    "            break\n",
    "\n",
    "        g_norm = g.norm().item()\n",
    "        if g_norm < g_tol:\n",
    "            if debug:\n",
    "                print(f\"Converged on step {_iter_}, energy: {energy.item():.6f}, gradient norm = {g_norm:.3e}\")\n",
    "            break\n",
    "        \n",
    "        if debug and _iter_ % debug_rate == 0:\n",
    "            print(f\"Step {_iter_}, energy: {energy_new.item():.6f}, gradient norm: {g_norm:.2e}, step size: {alpha:.4e}\")\n",
    "        \n",
    "        X, energy = X_new, energy_new\n",
    "\n",
    "    if save_initial:\n",
    "        return orig.detach(), X.detach(), energy_new \n",
    "    if track_energy: \n",
    "        print (len(nrg_list))\n",
    "        return torch.tensor(nrg_list), energy_new\n",
    "\n",
    "    return X.detach(), energy_new"
   ]
  },
  {
   "cell_type": "code",
   "execution_count": 123,
   "id": "7556e3ce",
   "metadata": {},
   "outputs": [
    {
     "name": "stdout",
     "output_type": "stream",
     "text": [
      "Step 0, energy: -0.000013, gradient norm: 3.95e+02, step size: 5.0000e-01\n",
      "Step 20, energy: -3.000000, gradient norm: 8.07e-02, step size: 1.0000e+00\n",
      "Converged on step 24, energy: -3.000000, gradient norm = 8.425e-05\n"
     ]
    },
    {
     "data": {
      "application/vnd.plotly.v1+json": {
       "config": {
        "plotlyServerURL": "https://plot.ly"
       },
       "data": [
        {
         "hoverinfo": "text",
         "hovertext": "Length: 4.01e+01, Contributes -4.81e-10J",
         "line": {
          "color": "rgb(173, 216, 230, 0.4)",
          "width": 8
         },
         "mode": "lines",
         "showlegend": false,
         "type": "scatter3d",
         "x": [
          0,
          14.703578999304934
         ],
         "y": [
          0,
          23.927904469829993
         ],
         "z": [
          0,
          28.6233484550395
         ]
        },
        {
         "hoverinfo": "text",
         "hovertext": "Length: 2.71e+01, Contributes -5.05e-09J",
         "line": {
          "color": "rgb(173, 216, 230, 0.4)",
          "width": 8
         },
         "mode": "lines",
         "showlegend": false,
         "type": "scatter3d",
         "x": [
          0,
          -13.163569715296177
         ],
         "y": [
          0,
          -22.210310763750407
         ],
         "z": [
          0,
          -8.243892429495595
         ]
        },
        {
         "hoverinfo": "text",
         "hovertext": "Length: 8.41e+01, Contributes -5.65e-12J",
         "line": {
          "color": "rgb(173, 216, 230, 0.4)",
          "width": 8
         },
         "mode": "lines",
         "showlegend": false,
         "type": "scatter3d",
         "x": [
          0,
          8.040899559599376
         ],
         "y": [
          0,
          81.46619111994266
         ],
         "z": [
          0,
          -19.28366614957521
         ]
        },
        {
         "hoverinfo": "text",
         "hovertext": "Length: 4.95e+01, Contributes -1.36e-10J",
         "line": {
          "color": "rgb(173, 216, 230, 0.4)",
          "width": 8
         },
         "mode": "lines",
         "showlegend": false,
         "type": "scatter3d",
         "x": [
          0,
          -23.174478238962607
         ],
         "y": [
          0,
          -43.73796735166827
         ],
         "z": [
          0,
          -0.4153496285770588
         ]
        },
        {
         "hoverinfo": "text",
         "hovertext": "Length: 3.56e+01, Contributes -9.78e-10J",
         "line": {
          "color": "rgb(173, 216, 230, 0.4)",
          "width": 8
         },
         "mode": "lines",
         "showlegend": false,
         "type": "scatter3d",
         "x": [
          0,
          29.49892718523541
         ],
         "y": [
          0,
          13.764176376810935
         ],
         "z": [
          0,
          14.479613649096537
         ]
        },
        {
         "hoverinfo": "text",
         "hovertext": "Length: 2.64e+01, Contributes -5.96e-09J",
         "line": {
          "color": "rgb(173, 216, 230, 0.4)",
          "width": 8
         },
         "mode": "lines",
         "showlegend": false,
         "type": "scatter3d",
         "x": [
          0,
          -18.492426072055498
         ],
         "y": [
          0,
          17.364859443716046
         ],
         "z": [
          0,
          7.173668352467027
         ]
        },
        {
         "hoverinfo": "text",
         "hovertext": "Length: 4.86e+01, Contributes -1.51e-10J",
         "line": {
          "color": "rgb(173, 216, 230, 0.4)",
          "width": 8
         },
         "mode": "lines",
         "showlegend": false,
         "type": "scatter3d",
         "x": [
          0,
          -22.660759441340687
         ],
         "y": [
          0,
          -43.03620747548902
         ],
         "z": [
          0,
          -0.9089345279650655
         ]
        },
        {
         "hoverinfo": "text",
         "hovertext": "Length: 2.64e+01, Contributes -5.97e-09J",
         "line": {
          "color": "rgb(173, 216, 230, 0.4)",
          "width": 8
         },
         "mode": "lines",
         "showlegend": false,
         "type": "scatter3d",
         "x": [
          0,
          24.29797621303842
         ],
         "y": [
          0,
          -4.858007388007722
         ],
         "z": [
          0,
          -8.974135525193333
         ]
        },
        {
         "hoverinfo": "text",
         "hovertext": "Length: 3.68e+01, Contributes -8.05e-10J",
         "line": {
          "color": "rgb(173, 216, 230, 0.4)",
          "width": 8
         },
         "mode": "lines",
         "showlegend": false,
         "type": "scatter3d",
         "x": [
          0,
          -6.2756588978663626
         ],
         "y": [
          0,
          32.36889828021873
         ],
         "z": [
          0,
          -16.352705515992184
         ]
        },
        {
         "hoverinfo": "text",
         "hovertext": "Length: 4.95e+01, Contributes -1.36e-10J",
         "line": {
          "color": "rgb(173, 216, 230, 0.4)",
          "width": 8
         },
         "mode": "lines",
         "showlegend": false,
         "type": "scatter3d",
         "x": [
          0,
          -23.03931009159568
         ],
         "y": [
          0,
          -43.818986274131504
         ],
         "z": [
          0,
          -1.4028542775634856
         ]
        },
        {
         "hoverinfo": "text",
         "hovertext": "Length: 8.35e+01, Contributes -5.92e-12J",
         "line": {
          "color": "rgb(173, 216, 230, 0.4)",
          "width": 8
         },
         "mode": "lines",
         "showlegend": false,
         "type": "scatter3d",
         "x": [
          0,
          61.45499634763051
         ],
         "y": [
          0,
          53.7254053652725
         ],
         "z": [
          0,
          17.417078386131028
         ]
        },
        {
         "hoverinfo": "text",
         "hovertext": "Length: 2.66e+01, Contributes -5.67e-09J",
         "line": {
          "color": "rgb(173, 216, 230, 0.4)",
          "width": 8
         },
         "mode": "lines",
         "showlegend": false,
         "type": "scatter3d",
         "x": [
          0,
          -11.1804945360904
         ],
         "y": [
          0,
          -23.261243626827373
         ],
         "z": [
          0,
          6.355035261362194
         ]
        },
        {
         "hoverinfo": "text",
         "hovertext": "Length: 4.15e+01, Contributes -3.91e-10J",
         "line": {
          "color": "rgb(173, 216, 230, 0.4)",
          "width": 8
         },
         "mode": "lines",
         "showlegend": false,
         "type": "scatter3d",
         "x": [
          0,
          10.557129022410304
         ],
         "y": [
          0,
          26.092260648344872
         ],
         "z": [
          0,
          -30.499076850764663
         ]
        },
        {
         "hoverinfo": "text",
         "hovertext": "Length: 7.29e+01, Contributes -1.33e-11J",
         "line": {
          "color": "rgb(173, 216, 230, 0.4)",
          "width": 8
         },
         "mode": "lines",
         "showlegend": false,
         "type": "scatter3d",
         "x": [
          0,
          -37.55064211203484
         ],
         "y": [
          0,
          -22.72306563591669
         ],
         "z": [
          0,
          -58.24408970216907
         ]
        },
        {
         "hoverinfo": "text",
         "hovertext": "Length: 6.53e+01, Contributes -2.58e-11J",
         "line": {
          "color": "rgb(173, 216, 230, 0.4)",
          "width": 8
         },
         "mode": "lines",
         "showlegend": false,
         "type": "scatter3d",
         "x": [
          14.703578999304934,
          -13.163569715296177
         ],
         "y": [
          23.927904469829993,
          -22.210310763750407
         ],
         "z": [
          28.6233484550395,
          -8.243892429495595
         ]
        },
        {
         "hoverinfo": "text",
         "hovertext": "Length: 7.52e+01, Contributes -1.11e-11J",
         "line": {
          "color": "rgb(173, 216, 230, 0.4)",
          "width": 8
         },
         "mode": "lines",
         "showlegend": false,
         "type": "scatter3d",
         "x": [
          14.703578999304934,
          8.040899559599376
         ],
         "y": [
          23.927904469829993,
          81.46619111994266
         ],
         "z": [
          28.6233484550395,
          -19.28366614957521
         ]
        },
        {
         "hoverinfo": "text",
         "hovertext": "Length: 8.28e+01, Contributes -6.20e-12J",
         "line": {
          "color": "rgb(173, 216, 230, 0.4)",
          "width": 8
         },
         "mode": "lines",
         "showlegend": false,
         "type": "scatter3d",
         "x": [
          14.703578999304934,
          -23.174478238962607
         ],
         "y": [
          23.927904469829993,
          -43.73796735166827
         ],
         "z": [
          28.6233484550395,
          -0.4153496285770588
         ]
        },
        {
         "hoverinfo": "text",
         "hovertext": "Length: 2.29e+01, Contributes -1.40e-08J",
         "line": {
          "color": "rgb(173, 216, 230, 0.4)",
          "width": 8
         },
         "mode": "lines",
         "showlegend": false,
         "type": "scatter3d",
         "x": [
          14.703578999304934,
          29.49892718523541
         ],
         "y": [
          23.927904469829993,
          13.764176376810935
         ],
         "z": [
          28.6233484550395,
          14.479613649096537
         ]
        },
        {
         "hoverinfo": "text",
         "hovertext": "Length: 4.01e+01, Contributes -4.84e-10J",
         "line": {
          "color": "rgb(173, 216, 230, 0.4)",
          "width": 8
         },
         "mode": "lines",
         "showlegend": false,
         "type": "scatter3d",
         "x": [
          14.703578999304934,
          -18.492426072055498
         ],
         "y": [
          23.927904469829993,
          17.364859443716046
         ],
         "z": [
          28.6233484550395,
          7.173668352467027
         ]
        },
        {
         "hoverinfo": "text",
         "hovertext": "Length: 8.22e+01, Contributes -6.50e-12J",
         "line": {
          "color": "rgb(173, 216, 230, 0.4)",
          "width": 8
         },
         "mode": "lines",
         "showlegend": false,
         "type": "scatter3d",
         "x": [
          14.703578999304934,
          -22.660759441340687
         ],
         "y": [
          23.927904469829993,
          -43.03620747548902
         ],
         "z": [
          28.6233484550395,
          -0.9089345279650655
         ]
        },
        {
         "hoverinfo": "text",
         "hovertext": "Length: 4.83e+01, Contributes -1.57e-10J",
         "line": {
          "color": "rgb(173, 216, 230, 0.4)",
          "width": 8
         },
         "mode": "lines",
         "showlegend": false,
         "type": "scatter3d",
         "x": [
          14.703578999304934,
          24.29797621303842
         ],
         "y": [
          23.927904469829993,
          -4.858007388007722
         ],
         "z": [
          28.6233484550395,
          -8.974135525193333
         ]
        },
        {
         "hoverinfo": "text",
         "hovertext": "Length: 5.03e+01, Contributes -1.23e-10J",
         "line": {
          "color": "rgb(173, 216, 230, 0.4)",
          "width": 8
         },
         "mode": "lines",
         "showlegend": false,
         "type": "scatter3d",
         "x": [
          14.703578999304934,
          -6.2756588978663626
         ],
         "y": [
          23.927904469829993,
          32.36889828021873
         ],
         "z": [
          28.6233484550395,
          -16.352705515992184
         ]
        },
        {
         "hoverinfo": "text",
         "hovertext": "Length: 8.32e+01, Contributes -6.05e-12J",
         "line": {
          "color": "rgb(173, 216, 230, 0.4)",
          "width": 8
         },
         "mode": "lines",
         "showlegend": false,
         "type": "scatter3d",
         "x": [
          14.703578999304934,
          -23.03931009159568
         ],
         "y": [
          23.927904469829993,
          -43.818986274131504
         ],
         "z": [
          28.6233484550395,
          -1.4028542775634856
         ]
        },
        {
         "hoverinfo": "text",
         "hovertext": "Length: 5.66e+01, Contributes -6.11e-11J",
         "line": {
          "color": "rgb(173, 216, 230, 0.4)",
          "width": 8
         },
         "mode": "lines",
         "showlegend": false,
         "type": "scatter3d",
         "x": [
          14.703578999304934,
          61.45499634763051
         ],
         "y": [
          23.927904469829993,
          53.7254053652725
         ],
         "z": [
          28.6233484550395,
          17.417078386131028
         ]
        },
        {
         "hoverinfo": "text",
         "hovertext": "Length: 5.82e+01, Contributes -5.12e-11J",
         "line": {
          "color": "rgb(173, 216, 230, 0.4)",
          "width": 8
         },
         "mode": "lines",
         "showlegend": false,
         "type": "scatter3d",
         "x": [
          14.703578999304934,
          -11.1804945360904
         ],
         "y": [
          23.927904469829993,
          -23.261243626827373
         ],
         "z": [
          28.6233484550395,
          6.355035261362194
         ]
        },
        {
         "hoverinfo": "text",
         "hovertext": "Length: 5.93e+01, Contributes -4.60e-11J",
         "line": {
          "color": "rgb(173, 216, 230, 0.4)",
          "width": 8
         },
         "mode": "lines",
         "showlegend": false,
         "type": "scatter3d",
         "x": [
          14.703578999304934,
          10.557129022410304
         ],
         "y": [
          23.927904469829993,
          26.092260648344872
         ],
         "z": [
          28.6233484550395,
          -30.499076850764663
         ]
        },
        {
         "hoverinfo": "text",
         "hovertext": "Length: 1.12e+02, Contributes -1.04e-12J",
         "line": {
          "color": "rgb(173, 216, 230, 0.4)",
          "width": 8
         },
         "mode": "lines",
         "showlegend": false,
         "type": "scatter3d",
         "x": [
          14.703578999304934,
          -37.55064211203484
         ],
         "y": [
          23.927904469829993,
          -22.72306563591669
         ],
         "z": [
          28.6233484550395,
          -58.24408970216907
         ]
        },
        {
         "hoverinfo": "text",
         "hovertext": "Length: 1.06e+02, Contributes -1.38e-12J",
         "line": {
          "color": "rgb(173, 216, 230, 0.4)",
          "width": 8
         },
         "mode": "lines",
         "showlegend": false,
         "type": "scatter3d",
         "x": [
          -13.163569715296177,
          8.040899559599376
         ],
         "y": [
          -22.210310763750407,
          81.46619111994266
         ],
         "z": [
          -8.243892429495595,
          -19.28366614957521
         ]
        },
        {
         "hoverinfo": "text",
         "hovertext": "Length: 2.50e+01, Contributes -8.19e-09J",
         "line": {
          "color": "rgb(173, 216, 230, 0.4)",
          "width": 8
         },
         "mode": "lines",
         "showlegend": false,
         "type": "scatter3d",
         "x": [
          -13.163569715296177,
          -23.174478238962607
         ],
         "y": [
          -22.210310763750407,
          -43.73796735166827
         ],
         "z": [
          -8.243892429495595,
          -0.4153496285770588
         ]
        },
        {
         "hoverinfo": "text",
         "hovertext": "Length: 6.03e+01, Contributes -4.18e-11J",
         "line": {
          "color": "rgb(173, 216, 230, 0.4)",
          "width": 8
         },
         "mode": "lines",
         "showlegend": false,
         "type": "scatter3d",
         "x": [
          -13.163569715296177,
          29.49892718523541
         ],
         "y": [
          -22.210310763750407,
          13.764176376810935
         ],
         "z": [
          -8.243892429495595,
          14.479613649096537
         ]
        },
        {
         "hoverinfo": "text",
         "hovertext": "Length: 4.28e+01, Contributes -3.25e-10J",
         "line": {
          "color": "rgb(173, 216, 230, 0.4)",
          "width": 8
         },
         "mode": "lines",
         "showlegend": false,
         "type": "scatter3d",
         "x": [
          -13.163569715296177,
          -18.492426072055498
         ],
         "y": [
          -22.210310763750407,
          17.364859443716046
         ],
         "z": [
          -8.243892429495595,
          7.173668352467027
         ]
        },
        {
         "hoverinfo": "text",
         "hovertext": "Length: 2.40e+01, Contributes -1.04e-08J",
         "line": {
          "color": "rgb(173, 216, 230, 0.4)",
          "width": 8
         },
         "mode": "lines",
         "showlegend": false,
         "type": "scatter3d",
         "x": [
          -13.163569715296177,
          -22.660759441340687
         ],
         "y": [
          -22.210310763750407,
          -43.03620747548902
         ],
         "z": [
          -8.243892429495595,
          -0.9089345279650655
         ]
        },
        {
         "hoverinfo": "text",
         "hovertext": "Length: 4.13e+01, Contributes -4.04e-10J",
         "line": {
          "color": "rgb(173, 216, 230, 0.4)",
          "width": 8
         },
         "mode": "lines",
         "showlegend": false,
         "type": "scatter3d",
         "x": [
          -13.163569715296177,
          24.29797621303842
         ],
         "y": [
          -22.210310763750407,
          -4.858007388007722
         ],
         "z": [
          -8.243892429495595,
          -8.974135525193333
         ]
        },
        {
         "hoverinfo": "text",
         "hovertext": "Length: 5.56e+01, Contributes -6.77e-11J",
         "line": {
          "color": "rgb(173, 216, 230, 0.4)",
          "width": 8
         },
         "mode": "lines",
         "showlegend": false,
         "type": "scatter3d",
         "x": [
          -13.163569715296177,
          -6.2756588978663626
         ],
         "y": [
          -22.210310763750407,
          32.36889828021873
         ],
         "z": [
          -8.243892429495595,
          -16.352705515992184
         ]
        },
        {
         "hoverinfo": "text",
         "hovertext": "Length: 2.47e+01, Contributes -8.76e-09J",
         "line": {
          "color": "rgb(173, 216, 230, 0.4)",
          "width": 8
         },
         "mode": "lines",
         "showlegend": false,
         "type": "scatter3d",
         "x": [
          -13.163569715296177,
          -23.03931009159568
         ],
         "y": [
          -22.210310763750407,
          -43.818986274131504
         ],
         "z": [
          -8.243892429495595,
          -1.4028542775634856
         ]
        },
        {
         "hoverinfo": "text",
         "hovertext": "Length: 1.10e+02, Contributes -1.16e-12J",
         "line": {
          "color": "rgb(173, 216, 230, 0.4)",
          "width": 8
         },
         "mode": "lines",
         "showlegend": false,
         "type": "scatter3d",
         "x": [
          -13.163569715296177,
          61.45499634763051
         ],
         "y": [
          -22.210310763750407,
          53.7254053652725
         ],
         "z": [
          -8.243892429495595,
          17.417078386131028
         ]
        },
        {
         "hoverinfo": "text",
         "hovertext": "Length: 1.48e+01, Contributes -1.93e-07J",
         "line": {
          "color": "rgb(173, 216, 230, 0.4)",
          "width": 8
         },
         "mode": "lines",
         "showlegend": false,
         "type": "scatter3d",
         "x": [
          -13.163569715296177,
          -11.1804945360904
         ],
         "y": [
          -22.210310763750407,
          -23.261243626827373
         ],
         "z": [
          -8.243892429495595,
          6.355035261362194
         ]
        },
        {
         "hoverinfo": "text",
         "hovertext": "Length: 5.82e+01, Contributes -5.13e-11J",
         "line": {
          "color": "rgb(173, 216, 230, 0.4)",
          "width": 8
         },
         "mode": "lines",
         "showlegend": false,
         "type": "scatter3d",
         "x": [
          -13.163569715296177,
          10.557129022410304
         ],
         "y": [
          -22.210310763750407,
          26.092260648344872
         ],
         "z": [
          -8.243892429495595,
          -30.499076850764663
         ]
        },
        {
         "hoverinfo": "text",
         "hovertext": "Length: 5.56e+01, Contributes -6.75e-11J",
         "line": {
          "color": "rgb(173, 216, 230, 0.4)",
          "width": 8
         },
         "mode": "lines",
         "showlegend": false,
         "type": "scatter3d",
         "x": [
          -13.163569715296177,
          -37.55064211203484
         ],
         "y": [
          -22.210310763750407,
          -22.72306563591669
         ],
         "z": [
          -8.243892429495595,
          -58.24408970216907
         ]
        },
        {
         "hoverinfo": "text",
         "hovertext": "Length: 1.30e+02, Contributes -4.07e-13J",
         "line": {
          "color": "rgb(173, 216, 230, 0.4)",
          "width": 8
         },
         "mode": "lines",
         "showlegend": false,
         "type": "scatter3d",
         "x": [
          8.040899559599376,
          -23.174478238962607
         ],
         "y": [
          81.46619111994266,
          -43.73796735166827
         ],
         "z": [
          -19.28366614957521,
          -0.4153496285770588
         ]
        },
        {
         "hoverinfo": "text",
         "hovertext": "Length: 7.86e+01, Contributes -8.46e-12J",
         "line": {
          "color": "rgb(173, 216, 230, 0.4)",
          "width": 8
         },
         "mode": "lines",
         "showlegend": false,
         "type": "scatter3d",
         "x": [
          8.040899559599376,
          29.49892718523541
         ],
         "y": [
          81.46619111994266,
          13.764176376810935
         ],
         "z": [
          -19.28366614957521,
          14.479613649096537
         ]
        },
        {
         "hoverinfo": "text",
         "hovertext": "Length: 7.42e+01, Contributes -1.19e-11J",
         "line": {
          "color": "rgb(173, 216, 230, 0.4)",
          "width": 8
         },
         "mode": "lines",
         "showlegend": false,
         "type": "scatter3d",
         "x": [
          8.040899559599376,
          -18.492426072055498
         ],
         "y": [
          81.46619111994266,
          17.364859443716046
         ],
         "z": [
          -19.28366614957521,
          7.173668352467027
         ]
        },
        {
         "hoverinfo": "text",
         "hovertext": "Length: 1.30e+02, Contributes -4.23e-13J",
         "line": {
          "color": "rgb(173, 216, 230, 0.4)",
          "width": 8
         },
         "mode": "lines",
         "showlegend": false,
         "type": "scatter3d",
         "x": [
          8.040899559599376,
          -22.660759441340687
         ],
         "y": [
          81.46619111994266,
          -43.03620747548902
         ],
         "z": [
          -19.28366614957521,
          -0.9089345279650655
         ]
        },
        {
         "hoverinfo": "text",
         "hovertext": "Length: 8.84e+01, Contributes -4.18e-12J",
         "line": {
          "color": "rgb(173, 216, 230, 0.4)",
          "width": 8
         },
         "mode": "lines",
         "showlegend": false,
         "type": "scatter3d",
         "x": [
          8.040899559599376,
          24.29797621303842
         ],
         "y": [
          81.46619111994266,
          -4.858007388007722
         ],
         "z": [
          -19.28366614957521,
          -8.974135525193333
         ]
        },
        {
         "hoverinfo": "text",
         "hovertext": "Length: 5.12e+01, Contributes -1.11e-10J",
         "line": {
          "color": "rgb(173, 216, 230, 0.4)",
          "width": 8
         },
         "mode": "lines",
         "showlegend": false,
         "type": "scatter3d",
         "x": [
          8.040899559599376,
          -6.2756588978663626
         ],
         "y": [
          81.46619111994266,
          32.36889828021873
         ],
         "z": [
          -19.28366614957521,
          -16.352705515992184
         ]
        },
        {
         "hoverinfo": "text",
         "hovertext": "Length: 1.30e+02, Contributes -4.08e-13J",
         "line": {
          "color": "rgb(173, 216, 230, 0.4)",
          "width": 8
         },
         "mode": "lines",
         "showlegend": false,
         "type": "scatter3d",
         "x": [
          8.040899559599376,
          -23.03931009159568
         ],
         "y": [
          81.46619111994266,
          -43.818986274131504
         ],
         "z": [
          -19.28366614957521,
          -1.4028542775634856
         ]
        },
        {
         "hoverinfo": "text",
         "hovertext": "Length: 7.05e+01, Contributes -1.63e-11J",
         "line": {
          "color": "rgb(173, 216, 230, 0.4)",
          "width": 8
         },
         "mode": "lines",
         "showlegend": false,
         "type": "scatter3d",
         "x": [
          8.040899559599376,
          61.45499634763051
         ],
         "y": [
          81.46619111994266,
          53.7254053652725
         ],
         "z": [
          -19.28366614957521,
          17.417078386131028
         ]
        },
        {
         "hoverinfo": "text",
         "hovertext": "Length: 1.10e+02, Contributes -1.16e-12J",
         "line": {
          "color": "rgb(173, 216, 230, 0.4)",
          "width": 8
         },
         "mode": "lines",
         "showlegend": false,
         "type": "scatter3d",
         "x": [
          8.040899559599376,
          -11.1804945360904
         ],
         "y": [
          81.46619111994266,
          -23.261243626827373
         ],
         "z": [
          -19.28366614957521,
          6.355035261362194
         ]
        },
        {
         "hoverinfo": "text",
         "hovertext": "Length: 5.66e+01, Contributes -6.11e-11J",
         "line": {
          "color": "rgb(173, 216, 230, 0.4)",
          "width": 8
         },
         "mode": "lines",
         "showlegend": false,
         "type": "scatter3d",
         "x": [
          8.040899559599376,
          10.557129022410304
         ],
         "y": [
          81.46619111994266,
          26.092260648344872
         ],
         "z": [
          -19.28366614957521,
          -30.499076850764663
         ]
        },
        {
         "hoverinfo": "text",
         "hovertext": "Length: 1.20e+02, Contributes -6.63e-13J",
         "line": {
          "color": "rgb(173, 216, 230, 0.4)",
          "width": 8
         },
         "mode": "lines",
         "showlegend": false,
         "type": "scatter3d",
         "x": [
          8.040899559599376,
          -37.55064211203484
         ],
         "y": [
          81.46619111994266,
          -22.72306563591669
         ],
         "z": [
          -19.28366614957521,
          -58.24408970216907
         ]
        },
        {
         "hoverinfo": "text",
         "hovertext": "Length: 7.94e+01, Contributes -7.99e-12J",
         "line": {
          "color": "rgb(173, 216, 230, 0.4)",
          "width": 8
         },
         "mode": "lines",
         "showlegend": false,
         "type": "scatter3d",
         "x": [
          -23.174478238962607,
          29.49892718523541
         ],
         "y": [
          -43.73796735166827,
          13.764176376810935
         ],
         "z": [
          -0.4153496285770588,
          14.479613649096537
         ]
        },
        {
         "hoverinfo": "text",
         "hovertext": "Length: 6.18e+01, Contributes -3.61e-11J",
         "line": {
          "color": "rgb(173, 216, 230, 0.4)",
          "width": 8
         },
         "mode": "lines",
         "showlegend": false,
         "type": "scatter3d",
         "x": [
          -23.174478238962607,
          -18.492426072055498
         ],
         "y": [
          -43.73796735166827,
          17.364859443716046
         ],
         "z": [
          -0.4153496285770588,
          7.173668352467027
         ]
        },
        {
         "hoverinfo": "text",
         "hovertext": "Length: 1.00e+00, Contributes -1.00e+00J",
         "line": {
          "color": "rgb(173, 216, 230, 0.4)",
          "width": 8
         },
         "mode": "lines",
         "showlegend": false,
         "type": "scatter3d",
         "x": [
          -23.174478238962607,
          -22.660759441340687
         ],
         "y": [
          -43.73796735166827,
          -43.03620747548902
         ],
         "z": [
          -0.4153496285770588,
          -0.9089345279650655
         ]
        },
        {
         "hoverinfo": "text",
         "hovertext": "Length: 6.20e+01, Contributes -3.54e-11J",
         "line": {
          "color": "rgb(173, 216, 230, 0.4)",
          "width": 8
         },
         "mode": "lines",
         "showlegend": false,
         "type": "scatter3d",
         "x": [
          -23.174478238962607,
          24.29797621303842
         ],
         "y": [
          -43.73796735166827,
          -4.858007388007722
         ],
         "z": [
          -0.4153496285770588,
          -8.974135525193333
         ]
        },
        {
         "hoverinfo": "text",
         "hovertext": "Length: 7.96e+01, Contributes -7.88e-12J",
         "line": {
          "color": "rgb(173, 216, 230, 0.4)",
          "width": 8
         },
         "mode": "lines",
         "showlegend": false,
         "type": "scatter3d",
         "x": [
          -23.174478238962607,
          -6.2756588978663626
         ],
         "y": [
          -43.73796735166827,
          32.36889828021873
         ],
         "z": [
          -0.4153496285770588,
          -16.352705515992184
         ]
        },
        {
         "hoverinfo": "text",
         "hovertext": "Length: 1.00e+00, Contributes -1.00e+00J",
         "line": {
          "color": "rgb(173, 216, 230, 0.4)",
          "width": 8
         },
         "mode": "lines",
         "showlegend": false,
         "type": "scatter3d",
         "x": [
          -23.174478238962607,
          -23.03931009159568
         ],
         "y": [
          -43.73796735166827,
          -43.818986274131504
         ],
         "z": [
          -0.4153496285770588,
          -1.4028542775634856
         ]
        },
        {
         "hoverinfo": "text",
         "hovertext": "Length: 1.30e+02, Contributes -4.09e-13J",
         "line": {
          "color": "rgb(173, 216, 230, 0.4)",
          "width": 8
         },
         "mode": "lines",
         "showlegend": false,
         "type": "scatter3d",
         "x": [
          -23.174478238962607,
          61.45499634763051
         ],
         "y": [
          -43.73796735166827,
          53.7254053652725
         ],
         "z": [
          -0.4153496285770588,
          17.417078386131028
         ]
        },
        {
         "hoverinfo": "text",
         "hovertext": "Length: 2.47e+01, Contributes -8.86e-09J",
         "line": {
          "color": "rgb(173, 216, 230, 0.4)",
          "width": 8
         },
         "mode": "lines",
         "showlegend": false,
         "type": "scatter3d",
         "x": [
          -23.174478238962607,
          -11.1804945360904
         ],
         "y": [
          -43.73796735166827,
          -23.261243626827373
         ],
         "z": [
          -0.4153496285770588,
          6.355035261362194
         ]
        },
        {
         "hoverinfo": "text",
         "hovertext": "Length: 8.32e+01, Contributes -6.04e-12J",
         "line": {
          "color": "rgb(173, 216, 230, 0.4)",
          "width": 8
         },
         "mode": "lines",
         "showlegend": false,
         "type": "scatter3d",
         "x": [
          -23.174478238962607,
          10.557129022410304
         ],
         "y": [
          -43.73796735166827,
          26.092260648344872
         ],
         "z": [
          -0.4153496285770588,
          -30.499076850764663
         ]
        },
        {
         "hoverinfo": "text",
         "hovertext": "Length: 6.32e+01, Contributes -3.14e-11J",
         "line": {
          "color": "rgb(173, 216, 230, 0.4)",
          "width": 8
         },
         "mode": "lines",
         "showlegend": false,
         "type": "scatter3d",
         "x": [
          -23.174478238962607,
          -37.55064211203484
         ],
         "y": [
          -43.73796735166827,
          -22.72306563591669
         ],
         "z": [
          -0.4153496285770588,
          -58.24408970216907
         ]
        },
        {
         "hoverinfo": "text",
         "hovertext": "Length: 4.87e+01, Contributes -1.50e-10J",
         "line": {
          "color": "rgb(173, 216, 230, 0.4)",
          "width": 8
         },
         "mode": "lines",
         "showlegend": false,
         "type": "scatter3d",
         "x": [
          29.49892718523541,
          -18.492426072055498
         ],
         "y": [
          13.764176376810935,
          17.364859443716046
         ],
         "z": [
          14.479613649096537,
          7.173668352467027
         ]
        },
        {
         "hoverinfo": "text",
         "hovertext": "Length: 7.86e+01, Contributes -8.46e-12J",
         "line": {
          "color": "rgb(173, 216, 230, 0.4)",
          "width": 8
         },
         "mode": "lines",
         "showlegend": false,
         "type": "scatter3d",
         "x": [
          29.49892718523541,
          -22.660759441340687
         ],
         "y": [
          13.764176376810935,
          -43.03620747548902
         ],
         "z": [
          14.479613649096537,
          -0.9089345279650655
         ]
        },
        {
         "hoverinfo": "text",
         "hovertext": "Length: 3.04e+01, Contributes -2.54e-09J",
         "line": {
          "color": "rgb(173, 216, 230, 0.4)",
          "width": 8
         },
         "mode": "lines",
         "showlegend": false,
         "type": "scatter3d",
         "x": [
          29.49892718523541,
          24.29797621303842
         ],
         "y": [
          13.764176376810935,
          -4.858007388007722
         ],
         "z": [
          14.479613649096537,
          -8.974135525193333
         ]
        },
        {
         "hoverinfo": "text",
         "hovertext": "Length: 5.08e+01, Contributes -1.17e-10J",
         "line": {
          "color": "rgb(173, 216, 230, 0.4)",
          "width": 8
         },
         "mode": "lines",
         "showlegend": false,
         "type": "scatter3d",
         "x": [
          29.49892718523541,
          -6.2756588978663626
         ],
         "y": [
          13.764176376810935,
          32.36889828021873
         ],
         "z": [
          14.479613649096537,
          -16.352705515992184
         ]
        },
        {
         "hoverinfo": "text",
         "hovertext": "Length: 7.96e+01, Contributes -7.89e-12J",
         "line": {
          "color": "rgb(173, 216, 230, 0.4)",
          "width": 8
         },
         "mode": "lines",
         "showlegend": false,
         "type": "scatter3d",
         "x": [
          29.49892718523541,
          -23.03931009159568
         ],
         "y": [
          13.764176376810935,
          -43.818986274131504
         ],
         "z": [
          14.479613649096537,
          -1.4028542775634856
         ]
        },
        {
         "hoverinfo": "text",
         "hovertext": "Length: 5.13e+01, Contributes -1.10e-10J",
         "line": {
          "color": "rgb(173, 216, 230, 0.4)",
          "width": 8
         },
         "mode": "lines",
         "showlegend": false,
         "type": "scatter3d",
         "x": [
          29.49892718523541,
          61.45499634763051
         ],
         "y": [
          13.764176376810935,
          53.7254053652725
         ],
         "z": [
          14.479613649096537,
          17.417078386131028
         ]
        },
        {
         "hoverinfo": "text",
         "hovertext": "Length: 5.56e+01, Contributes -6.77e-11J",
         "line": {
          "color": "rgb(173, 216, 230, 0.4)",
          "width": 8
         },
         "mode": "lines",
         "showlegend": false,
         "type": "scatter3d",
         "x": [
          29.49892718523541,
          -11.1804945360904
         ],
         "y": [
          13.764176376810935,
          -23.261243626827373
         ],
         "z": [
          14.479613649096537,
          6.355035261362194
         ]
        },
        {
         "hoverinfo": "text",
         "hovertext": "Length: 5.03e+01, Contributes -1.23e-10J",
         "line": {
          "color": "rgb(173, 216, 230, 0.4)",
          "width": 8
         },
         "mode": "lines",
         "showlegend": false,
         "type": "scatter3d",
         "x": [
          29.49892718523541,
          10.557129022410304
         ],
         "y": [
          13.764176376810935,
          26.092260648344872
         ],
         "z": [
          14.479613649096537,
          -30.499076850764663
         ]
        },
        {
         "hoverinfo": "text",
         "hovertext": "Length: 1.05e+02, Contributes -1.46e-12J",
         "line": {
          "color": "rgb(173, 216, 230, 0.4)",
          "width": 8
         },
         "mode": "lines",
         "showlegend": false,
         "type": "scatter3d",
         "x": [
          29.49892718523541,
          -37.55064211203484
         ],
         "y": [
          13.764176376810935,
          -22.72306563591669
         ],
         "z": [
          14.479613649096537,
          -58.24408970216907
         ]
        },
        {
         "hoverinfo": "text",
         "hovertext": "Length: 6.11e+01, Contributes -3.85e-11J",
         "line": {
          "color": "rgb(173, 216, 230, 0.4)",
          "width": 8
         },
         "mode": "lines",
         "showlegend": false,
         "type": "scatter3d",
         "x": [
          -18.492426072055498,
          -22.660759441340687
         ],
         "y": [
          17.364859443716046,
          -43.03620747548902
         ],
         "z": [
          7.173668352467027,
          -0.9089345279650655
         ]
        },
        {
         "hoverinfo": "text",
         "hovertext": "Length: 5.08e+01, Contributes -1.16e-10J",
         "line": {
          "color": "rgb(173, 216, 230, 0.4)",
          "width": 8
         },
         "mode": "lines",
         "showlegend": false,
         "type": "scatter3d",
         "x": [
          -18.492426072055498,
          24.29797621303842
         ],
         "y": [
          17.364859443716046,
          -4.858007388007722
         ],
         "z": [
          7.173668352467027,
          -8.974135525193333
         ]
        },
        {
         "hoverinfo": "text",
         "hovertext": "Length: 3.05e+01, Contributes -2.50e-09J",
         "line": {
          "color": "rgb(173, 216, 230, 0.4)",
          "width": 8
         },
         "mode": "lines",
         "showlegend": false,
         "type": "scatter3d",
         "x": [
          -18.492426072055498,
          -6.2756588978663626
         ],
         "y": [
          17.364859443716046,
          32.36889828021873
         ],
         "z": [
          7.173668352467027,
          -16.352705515992184
         ]
        },
        {
         "hoverinfo": "text",
         "hovertext": "Length: 6.19e+01, Contributes -3.54e-11J",
         "line": {
          "color": "rgb(173, 216, 230, 0.4)",
          "width": 8
         },
         "mode": "lines",
         "showlegend": false,
         "type": "scatter3d",
         "x": [
          -18.492426072055498,
          -23.03931009159568
         ],
         "y": [
          17.364859443716046,
          -43.818986274131504
         ],
         "z": [
          7.173668352467027,
          -1.4028542775634856
         ]
        },
        {
         "hoverinfo": "text",
         "hovertext": "Length: 8.84e+01, Contributes -4.18e-12J",
         "line": {
          "color": "rgb(173, 216, 230, 0.4)",
          "width": 8
         },
         "mode": "lines",
         "showlegend": false,
         "type": "scatter3d",
         "x": [
          -18.492426072055498,
          61.45499634763051
         ],
         "y": [
          17.364859443716046,
          53.7254053652725
         ],
         "z": [
          7.173668352467027,
          17.417078386131028
         ]
        },
        {
         "hoverinfo": "text",
         "hovertext": "Length: 4.13e+01, Contributes -4.04e-10J",
         "line": {
          "color": "rgb(173, 216, 230, 0.4)",
          "width": 8
         },
         "mode": "lines",
         "showlegend": false,
         "type": "scatter3d",
         "x": [
          -18.492426072055498,
          -11.1804945360904
         ],
         "y": [
          17.364859443716046,
          -23.261243626827373
         ],
         "z": [
          7.173668352467027,
          6.355035261362194
         ]
        },
        {
         "hoverinfo": "text",
         "hovertext": "Length: 4.84e+01, Contributes -1.56e-10J",
         "line": {
          "color": "rgb(173, 216, 230, 0.4)",
          "width": 8
         },
         "mode": "lines",
         "showlegend": false,
         "type": "scatter3d",
         "x": [
          -18.492426072055498,
          10.557129022410304
         ],
         "y": [
          17.364859443716046,
          26.092260648344872
         ],
         "z": [
          7.173668352467027,
          -30.499076850764663
         ]
        },
        {
         "hoverinfo": "text",
         "hovertext": "Length: 7.91e+01, Contributes -8.19e-12J",
         "line": {
          "color": "rgb(173, 216, 230, 0.4)",
          "width": 8
         },
         "mode": "lines",
         "showlegend": false,
         "type": "scatter3d",
         "x": [
          -18.492426072055498,
          -37.55064211203484
         ],
         "y": [
          17.364859443716046,
          -22.72306563591669
         ],
         "z": [
          7.173668352467027,
          -58.24408970216907
         ]
        },
        {
         "hoverinfo": "text",
         "hovertext": "Length: 6.11e+01, Contributes -3.86e-11J",
         "line": {
          "color": "rgb(173, 216, 230, 0.4)",
          "width": 8
         },
         "mode": "lines",
         "showlegend": false,
         "type": "scatter3d",
         "x": [
          -22.660759441340687,
          24.29797621303842
         ],
         "y": [
          -43.03620747548902,
          -4.858007388007722
         ],
         "z": [
          -0.9089345279650655,
          -8.974135525193333
         ]
        },
        {
         "hoverinfo": "text",
         "hovertext": "Length: 7.87e+01, Contributes -8.42e-12J",
         "line": {
          "color": "rgb(173, 216, 230, 0.4)",
          "width": 8
         },
         "mode": "lines",
         "showlegend": false,
         "type": "scatter3d",
         "x": [
          -22.660759441340687,
          -6.2756588978663626
         ],
         "y": [
          -43.03620747548902,
          32.36889828021873
         ],
         "z": [
          -0.9089345279650655,
          -16.352705515992184
         ]
        },
        {
         "hoverinfo": "text",
         "hovertext": "Length: 1.00e+00, Contributes -1.00e+00J",
         "line": {
          "color": "rgb(173, 216, 230, 0.4)",
          "width": 8
         },
         "mode": "lines",
         "showlegend": false,
         "type": "scatter3d",
         "x": [
          -22.660759441340687,
          -23.03931009159568
         ],
         "y": [
          -43.03620747548902,
          -43.818986274131504
         ],
         "z": [
          -0.9089345279650655,
          -1.4028542775634856
         ]
        },
        {
         "hoverinfo": "text",
         "hovertext": "Length: 1.30e+02, Contributes -4.24e-13J",
         "line": {
          "color": "rgb(173, 216, 230, 0.4)",
          "width": 8
         },
         "mode": "lines",
         "showlegend": false,
         "type": "scatter3d",
         "x": [
          -22.660759441340687,
          61.45499634763051
         ],
         "y": [
          -43.03620747548902,
          53.7254053652725
         ],
         "z": [
          -0.9089345279650655,
          17.417078386131028
         ]
        },
        {
         "hoverinfo": "text",
         "hovertext": "Length: 2.40e+01, Contributes -1.05e-08J",
         "line": {
          "color": "rgb(173, 216, 230, 0.4)",
          "width": 8
         },
         "mode": "lines",
         "showlegend": false,
         "type": "scatter3d",
         "x": [
          -22.660759441340687,
          -11.1804945360904
         ],
         "y": [
          -43.03620747548902,
          -23.261243626827373
         ],
         "z": [
          -0.9089345279650655,
          6.355035261362194
         ]
        },
        {
         "hoverinfo": "text",
         "hovertext": "Length: 8.22e+01, Contributes -6.48e-12J",
         "line": {
          "color": "rgb(173, 216, 230, 0.4)",
          "width": 8
         },
         "mode": "lines",
         "showlegend": false,
         "type": "scatter3d",
         "x": [
          -22.660759441340687,
          10.557129022410304
         ],
         "y": [
          -43.03620747548902,
          26.092260648344872
         ],
         "z": [
          -0.9089345279650655,
          -30.499076850764663
         ]
        },
        {
         "hoverinfo": "text",
         "hovertext": "Length: 6.26e+01, Contributes -3.32e-11J",
         "line": {
          "color": "rgb(173, 216, 230, 0.4)",
          "width": 8
         },
         "mode": "lines",
         "showlegend": false,
         "type": "scatter3d",
         "x": [
          -22.660759441340687,
          -37.55064211203484
         ],
         "y": [
          -43.03620747548902,
          -22.72306563591669
         ],
         "z": [
          -0.9089345279650655,
          -58.24408970216907
         ]
        },
        {
         "hoverinfo": "text",
         "hovertext": "Length: 4.87e+01, Contributes -1.49e-10J",
         "line": {
          "color": "rgb(173, 216, 230, 0.4)",
          "width": 8
         },
         "mode": "lines",
         "showlegend": false,
         "type": "scatter3d",
         "x": [
          24.29797621303842,
          -6.2756588978663626
         ],
         "y": [
          -4.858007388007722,
          32.36889828021873
         ],
         "z": [
          -8.974135525193333,
          -16.352705515992184
         ]
        },
        {
         "hoverinfo": "text",
         "hovertext": "Length: 6.18e+01, Contributes -3.60e-11J",
         "line": {
          "color": "rgb(173, 216, 230, 0.4)",
          "width": 8
         },
         "mode": "lines",
         "showlegend": false,
         "type": "scatter3d",
         "x": [
          24.29797621303842,
          -23.03931009159568
         ],
         "y": [
          -4.858007388007722,
          -43.818986274131504
         ],
         "z": [
          -8.974135525193333,
          -1.4028542775634856
         ]
        },
        {
         "hoverinfo": "text",
         "hovertext": "Length: 7.42e+01, Contributes -1.20e-11J",
         "line": {
          "color": "rgb(173, 216, 230, 0.4)",
          "width": 8
         },
         "mode": "lines",
         "showlegend": false,
         "type": "scatter3d",
         "x": [
          24.29797621303842,
          61.45499634763051
         ],
         "y": [
          -4.858007388007722,
          53.7254053652725
         ],
         "z": [
          -8.974135525193333,
          17.417078386131028
         ]
        },
        {
         "hoverinfo": "text",
         "hovertext": "Length: 4.28e+01, Contributes -3.25e-10J",
         "line": {
          "color": "rgb(173, 216, 230, 0.4)",
          "width": 8
         },
         "mode": "lines",
         "showlegend": false,
         "type": "scatter3d",
         "x": [
          24.29797621303842,
          -11.1804945360904
         ],
         "y": [
          -4.858007388007722,
          -23.261243626827373
         ],
         "z": [
          -8.974135525193333,
          6.355035261362194
         ]
        },
        {
         "hoverinfo": "text",
         "hovertext": "Length: 4.01e+01, Contributes -4.79e-10J",
         "line": {
          "color": "rgb(173, 216, 230, 0.4)",
          "width": 8
         },
         "mode": "lines",
         "showlegend": false,
         "type": "scatter3d",
         "x": [
          24.29797621303842,
          10.557129022410304
         ],
         "y": [
          -4.858007388007722,
          26.092260648344872
         ],
         "z": [
          -8.974135525193333,
          -30.499076850764663
         ]
        },
        {
         "hoverinfo": "text",
         "hovertext": "Length: 8.11e+01, Contributes -7.05e-12J",
         "line": {
          "color": "rgb(173, 216, 230, 0.4)",
          "width": 8
         },
         "mode": "lines",
         "showlegend": false,
         "type": "scatter3d",
         "x": [
          24.29797621303842,
          -37.55064211203484
         ],
         "y": [
          -4.858007388007722,
          -22.72306563591669
         ],
         "z": [
          -8.974135525193333,
          -58.24408970216907
         ]
        },
        {
         "hoverinfo": "text",
         "hovertext": "Length: 7.94e+01, Contributes -7.96e-12J",
         "line": {
          "color": "rgb(173, 216, 230, 0.4)",
          "width": 8
         },
         "mode": "lines",
         "showlegend": false,
         "type": "scatter3d",
         "x": [
          -6.2756588978663626,
          -23.03931009159568
         ],
         "y": [
          32.36889828021873,
          -43.818986274131504
         ],
         "z": [
          -16.352705515992184,
          -1.4028542775634856
         ]
        },
        {
         "hoverinfo": "text",
         "hovertext": "Length: 7.86e+01, Contributes -8.46e-12J",
         "line": {
          "color": "rgb(173, 216, 230, 0.4)",
          "width": 8
         },
         "mode": "lines",
         "showlegend": false,
         "type": "scatter3d",
         "x": [
          -6.2756588978663626,
          61.45499634763051
         ],
         "y": [
          32.36889828021873,
          53.7254053652725
         ],
         "z": [
          -16.352705515992184,
          17.417078386131028
         ]
        },
        {
         "hoverinfo": "text",
         "hovertext": "Length: 6.03e+01, Contributes -4.17e-11J",
         "line": {
          "color": "rgb(173, 216, 230, 0.4)",
          "width": 8
         },
         "mode": "lines",
         "showlegend": false,
         "type": "scatter3d",
         "x": [
          -6.2756588978663626,
          -11.1804945360904
         ],
         "y": [
          32.36889828021873,
          -23.261243626827373
         ],
         "z": [
          -16.352705515992184,
          6.355035261362194
         ]
        },
        {
         "hoverinfo": "text",
         "hovertext": "Length: 2.29e+01, Contributes -1.40e-08J",
         "line": {
          "color": "rgb(173, 216, 230, 0.4)",
          "width": 8
         },
         "mode": "lines",
         "showlegend": false,
         "type": "scatter3d",
         "x": [
          -6.2756588978663626,
          10.557129022410304
         ],
         "y": [
          32.36889828021873,
          26.092260648344872
         ],
         "z": [
          -16.352705515992184,
          -30.499076850764663
         ]
        },
        {
         "hoverinfo": "text",
         "hovertext": "Length: 7.59e+01, Contributes -1.04e-11J",
         "line": {
          "color": "rgb(173, 216, 230, 0.4)",
          "width": 8
         },
         "mode": "lines",
         "showlegend": false,
         "type": "scatter3d",
         "x": [
          -6.2756588978663626,
          -37.55064211203484
         ],
         "y": [
          32.36889828021873,
          -22.72306563591669
         ],
         "z": [
          -16.352705515992184,
          -58.24408970216907
         ]
        },
        {
         "hoverinfo": "text",
         "hovertext": "Length: 1.30e+02, Contributes -4.06e-13J",
         "line": {
          "color": "rgb(173, 216, 230, 0.4)",
          "width": 8
         },
         "mode": "lines",
         "showlegend": false,
         "type": "scatter3d",
         "x": [
          -23.03931009159568,
          61.45499634763051
         ],
         "y": [
          -43.818986274131504,
          53.7254053652725
         ],
         "z": [
          -1.4028542775634856,
          17.417078386131028
         ]
        },
        {
         "hoverinfo": "text",
         "hovertext": "Length: 2.50e+01, Contributes -8.25e-09J",
         "line": {
          "color": "rgb(173, 216, 230, 0.4)",
          "width": 8
         },
         "mode": "lines",
         "showlegend": false,
         "type": "scatter3d",
         "x": [
          -23.03931009159568,
          -11.1804945360904
         ],
         "y": [
          -43.818986274131504,
          -23.261243626827373
         ],
         "z": [
          -1.4028542775634856,
          6.355035261362194
         ]
        },
        {
         "hoverinfo": "text",
         "hovertext": "Length: 8.28e+01, Contributes -6.19e-12J",
         "line": {
          "color": "rgb(173, 216, 230, 0.4)",
          "width": 8
         },
         "mode": "lines",
         "showlegend": false,
         "type": "scatter3d",
         "x": [
          -23.03931009159568,
          10.557129022410304
         ],
         "y": [
          -43.818986274131504,
          26.092260648344872
         ],
         "z": [
          -1.4028542775634856,
          -30.499076850764663
         ]
        },
        {
         "hoverinfo": "text",
         "hovertext": "Length: 6.23e+01, Contributes -3.41e-11J",
         "line": {
          "color": "rgb(173, 216, 230, 0.4)",
          "width": 8
         },
         "mode": "lines",
         "showlegend": false,
         "type": "scatter3d",
         "x": [
          -23.03931009159568,
          -37.55064211203484
         ],
         "y": [
          -43.818986274131504,
          -22.72306563591669
         ],
         "z": [
          -1.4028542775634856,
          -58.24408970216907
         ]
        },
        {
         "hoverinfo": "text",
         "hovertext": "Length: 1.06e+02, Contributes -1.38e-12J",
         "line": {
          "color": "rgb(173, 216, 230, 0.4)",
          "width": 8
         },
         "mode": "lines",
         "showlegend": false,
         "type": "scatter3d",
         "x": [
          61.45499634763051,
          -11.1804945360904
         ],
         "y": [
          53.7254053652725,
          -23.261243626827373
         ],
         "z": [
          17.417078386131028,
          6.355035261362194
         ]
        },
        {
         "hoverinfo": "text",
         "hovertext": "Length: 7.52e+01, Contributes -1.11e-11J",
         "line": {
          "color": "rgb(173, 216, 230, 0.4)",
          "width": 8
         },
         "mode": "lines",
         "showlegend": false,
         "type": "scatter3d",
         "x": [
          61.45499634763051,
          10.557129022410304
         ],
         "y": [
          53.7254053652725,
          26.092260648344872
         ],
         "z": [
          17.417078386131028,
          -30.499076850764663
         ]
        },
        {
         "hoverinfo": "text",
         "hovertext": "Length: 1.46e+02, Contributes -2.05e-13J",
         "line": {
          "color": "rgb(173, 216, 230, 0.4)",
          "width": 8
         },
         "mode": "lines",
         "showlegend": false,
         "type": "scatter3d",
         "x": [
          61.45499634763051,
          -37.55064211203484
         ],
         "y": [
          53.7254053652725,
          -22.72306563591669
         ],
         "z": [
          17.417078386131028,
          -58.24408970216907
         ]
        },
        {
         "hoverinfo": "text",
         "hovertext": "Length: 6.53e+01, Contributes -2.58e-11J",
         "line": {
          "color": "rgb(173, 216, 230, 0.4)",
          "width": 8
         },
         "mode": "lines",
         "showlegend": false,
         "type": "scatter3d",
         "x": [
          -11.1804945360904,
          10.557129022410304
         ],
         "y": [
          -23.261243626827373,
          26.092260648344872
         ],
         "z": [
          6.355035261362194,
          -30.499076850764663
         ]
        },
        {
         "hoverinfo": "text",
         "hovertext": "Length: 6.98e+01, Contributes -1.73e-11J",
         "line": {
          "color": "rgb(173, 216, 230, 0.4)",
          "width": 8
         },
         "mode": "lines",
         "showlegend": false,
         "type": "scatter3d",
         "x": [
          -11.1804945360904,
          -37.55064211203484
         ],
         "y": [
          -23.261243626827373,
          -22.72306563591669
         ],
         "z": [
          6.355035261362194,
          -58.24408970216907
         ]
        },
        {
         "hoverinfo": "text",
         "hovertext": "Length: 7.39e+01, Contributes -1.22e-11J",
         "line": {
          "color": "rgb(173, 216, 230, 0.4)",
          "width": 8
         },
         "mode": "lines",
         "showlegend": false,
         "type": "scatter3d",
         "x": [
          10.557129022410304,
          -37.55064211203484
         ],
         "y": [
          26.092260648344872,
          -22.72306563591669
         ],
         "z": [
          -30.499076850764663,
          -58.24408970216907
         ]
        },
        {
         "hovertext": [
          "Point 1",
          "Point 2",
          "Point 3",
          "Point 4",
          "Point 5",
          "Point 6",
          "Point 7",
          "Point 8",
          "Point 9",
          "Point 10",
          "Point 11",
          "Point 12",
          "Point 13",
          "Point 14",
          "Point 15"
         ],
         "marker": {
          "color": "red",
          "size": 8
         },
         "mode": "markers",
         "showlegend": false,
         "type": "scatter3d",
         "x": {
          "bdata": "AAAAAAAAAACOVbCBO2gtQFCg42i/UyrA3cx9yfAUIEBENRqbqiw3wOKrJ7G5fz1AFS2Tog9+MsDcFN+HJ6k2wGf8SStITDhA7r98U0YaGcBkzuU5EAo3wK5vAFI9uk5A3Dqjx2lcJsA2z+UDQB0lQLl+03B7xkLA",
          "dtype": "f8"
         },
         "y": {
          "bdata": "AAAAAAAAAABnu7cli+03QAZOHO3WNTbAuHVHE9ZdVEApd9S2dd5FwLeORSBChytArWWybWddMUBMjFFyooRFwNHgHH2ZbhPAiIsQDzgvQEBEos+K1OhFwBsYQBXa3EpAEoPB3OBCN8BXWdNknhc6QKYfW9QauTbA",
          "dtype": "f8"
         },
         "z": {
          "bdata": "AAAAAAAAAAAjaKzDk588QOTZ8HfffCDAZGhDWJ5IM8DQOsmbFpXav3Erk+uP9SxAysjYHdaxHEC9Ffrc/RXtv4AnPeTB8iHAJE6g6EpaMMCkBbNTF3L2vx1NLKbFajFA5egRXY5rGUCTOSCAw38+wKMN1FQ+H03A",
          "dtype": "f8"
         }
        }
       ],
       "layout": {
        "height": 400,
        "paper_bgcolor": "rgba(0,0,0,0)",
        "plot_bgcolor": "rgba(0,0,0,0)",
        "scene": {
         "xaxis": {
          "showgrid": false,
          "showticklabels": false,
          "title": {
           "text": ""
          },
          "visible": false,
          "zeroline": false
         },
         "yaxis": {
          "showgrid": false,
          "showticklabels": false,
          "title": {
           "text": ""
          },
          "visible": false,
          "zeroline": false
         },
         "zaxis": {
          "showgrid": false,
          "showticklabels": false,
          "title": {
           "text": ""
          },
          "visible": false,
          "zeroline": false
         }
        },
        "template": {
         "data": {
          "bar": [
           {
            "error_x": {
             "color": "#2a3f5f"
            },
            "error_y": {
             "color": "#2a3f5f"
            },
            "marker": {
             "line": {
              "color": "#E5ECF6",
              "width": 0.5
             },
             "pattern": {
              "fillmode": "overlay",
              "size": 10,
              "solidity": 0.2
             }
            },
            "type": "bar"
           }
          ],
          "barpolar": [
           {
            "marker": {
             "line": {
              "color": "#E5ECF6",
              "width": 0.5
             },
             "pattern": {
              "fillmode": "overlay",
              "size": 10,
              "solidity": 0.2
             }
            },
            "type": "barpolar"
           }
          ],
          "carpet": [
           {
            "aaxis": {
             "endlinecolor": "#2a3f5f",
             "gridcolor": "white",
             "linecolor": "white",
             "minorgridcolor": "white",
             "startlinecolor": "#2a3f5f"
            },
            "baxis": {
             "endlinecolor": "#2a3f5f",
             "gridcolor": "white",
             "linecolor": "white",
             "minorgridcolor": "white",
             "startlinecolor": "#2a3f5f"
            },
            "type": "carpet"
           }
          ],
          "choropleth": [
           {
            "colorbar": {
             "outlinewidth": 0,
             "ticks": ""
            },
            "type": "choropleth"
           }
          ],
          "contour": [
           {
            "colorbar": {
             "outlinewidth": 0,
             "ticks": ""
            },
            "colorscale": [
             [
              0,
              "#0d0887"
             ],
             [
              0.1111111111111111,
              "#46039f"
             ],
             [
              0.2222222222222222,
              "#7201a8"
             ],
             [
              0.3333333333333333,
              "#9c179e"
             ],
             [
              0.4444444444444444,
              "#bd3786"
             ],
             [
              0.5555555555555556,
              "#d8576b"
             ],
             [
              0.6666666666666666,
              "#ed7953"
             ],
             [
              0.7777777777777778,
              "#fb9f3a"
             ],
             [
              0.8888888888888888,
              "#fdca26"
             ],
             [
              1,
              "#f0f921"
             ]
            ],
            "type": "contour"
           }
          ],
          "contourcarpet": [
           {
            "colorbar": {
             "outlinewidth": 0,
             "ticks": ""
            },
            "type": "contourcarpet"
           }
          ],
          "heatmap": [
           {
            "colorbar": {
             "outlinewidth": 0,
             "ticks": ""
            },
            "colorscale": [
             [
              0,
              "#0d0887"
             ],
             [
              0.1111111111111111,
              "#46039f"
             ],
             [
              0.2222222222222222,
              "#7201a8"
             ],
             [
              0.3333333333333333,
              "#9c179e"
             ],
             [
              0.4444444444444444,
              "#bd3786"
             ],
             [
              0.5555555555555556,
              "#d8576b"
             ],
             [
              0.6666666666666666,
              "#ed7953"
             ],
             [
              0.7777777777777778,
              "#fb9f3a"
             ],
             [
              0.8888888888888888,
              "#fdca26"
             ],
             [
              1,
              "#f0f921"
             ]
            ],
            "type": "heatmap"
           }
          ],
          "histogram": [
           {
            "marker": {
             "pattern": {
              "fillmode": "overlay",
              "size": 10,
              "solidity": 0.2
             }
            },
            "type": "histogram"
           }
          ],
          "histogram2d": [
           {
            "colorbar": {
             "outlinewidth": 0,
             "ticks": ""
            },
            "colorscale": [
             [
              0,
              "#0d0887"
             ],
             [
              0.1111111111111111,
              "#46039f"
             ],
             [
              0.2222222222222222,
              "#7201a8"
             ],
             [
              0.3333333333333333,
              "#9c179e"
             ],
             [
              0.4444444444444444,
              "#bd3786"
             ],
             [
              0.5555555555555556,
              "#d8576b"
             ],
             [
              0.6666666666666666,
              "#ed7953"
             ],
             [
              0.7777777777777778,
              "#fb9f3a"
             ],
             [
              0.8888888888888888,
              "#fdca26"
             ],
             [
              1,
              "#f0f921"
             ]
            ],
            "type": "histogram2d"
           }
          ],
          "histogram2dcontour": [
           {
            "colorbar": {
             "outlinewidth": 0,
             "ticks": ""
            },
            "colorscale": [
             [
              0,
              "#0d0887"
             ],
             [
              0.1111111111111111,
              "#46039f"
             ],
             [
              0.2222222222222222,
              "#7201a8"
             ],
             [
              0.3333333333333333,
              "#9c179e"
             ],
             [
              0.4444444444444444,
              "#bd3786"
             ],
             [
              0.5555555555555556,
              "#d8576b"
             ],
             [
              0.6666666666666666,
              "#ed7953"
             ],
             [
              0.7777777777777778,
              "#fb9f3a"
             ],
             [
              0.8888888888888888,
              "#fdca26"
             ],
             [
              1,
              "#f0f921"
             ]
            ],
            "type": "histogram2dcontour"
           }
          ],
          "mesh3d": [
           {
            "colorbar": {
             "outlinewidth": 0,
             "ticks": ""
            },
            "type": "mesh3d"
           }
          ],
          "parcoords": [
           {
            "line": {
             "colorbar": {
              "outlinewidth": 0,
              "ticks": ""
             }
            },
            "type": "parcoords"
           }
          ],
          "pie": [
           {
            "automargin": true,
            "type": "pie"
           }
          ],
          "scatter": [
           {
            "fillpattern": {
             "fillmode": "overlay",
             "size": 10,
             "solidity": 0.2
            },
            "type": "scatter"
           }
          ],
          "scatter3d": [
           {
            "line": {
             "colorbar": {
              "outlinewidth": 0,
              "ticks": ""
             }
            },
            "marker": {
             "colorbar": {
              "outlinewidth": 0,
              "ticks": ""
             }
            },
            "type": "scatter3d"
           }
          ],
          "scattercarpet": [
           {
            "marker": {
             "colorbar": {
              "outlinewidth": 0,
              "ticks": ""
             }
            },
            "type": "scattercarpet"
           }
          ],
          "scattergeo": [
           {
            "marker": {
             "colorbar": {
              "outlinewidth": 0,
              "ticks": ""
             }
            },
            "type": "scattergeo"
           }
          ],
          "scattergl": [
           {
            "marker": {
             "colorbar": {
              "outlinewidth": 0,
              "ticks": ""
             }
            },
            "type": "scattergl"
           }
          ],
          "scattermap": [
           {
            "marker": {
             "colorbar": {
              "outlinewidth": 0,
              "ticks": ""
             }
            },
            "type": "scattermap"
           }
          ],
          "scattermapbox": [
           {
            "marker": {
             "colorbar": {
              "outlinewidth": 0,
              "ticks": ""
             }
            },
            "type": "scattermapbox"
           }
          ],
          "scatterpolar": [
           {
            "marker": {
             "colorbar": {
              "outlinewidth": 0,
              "ticks": ""
             }
            },
            "type": "scatterpolar"
           }
          ],
          "scatterpolargl": [
           {
            "marker": {
             "colorbar": {
              "outlinewidth": 0,
              "ticks": ""
             }
            },
            "type": "scatterpolargl"
           }
          ],
          "scatterternary": [
           {
            "marker": {
             "colorbar": {
              "outlinewidth": 0,
              "ticks": ""
             }
            },
            "type": "scatterternary"
           }
          ],
          "surface": [
           {
            "colorbar": {
             "outlinewidth": 0,
             "ticks": ""
            },
            "colorscale": [
             [
              0,
              "#0d0887"
             ],
             [
              0.1111111111111111,
              "#46039f"
             ],
             [
              0.2222222222222222,
              "#7201a8"
             ],
             [
              0.3333333333333333,
              "#9c179e"
             ],
             [
              0.4444444444444444,
              "#bd3786"
             ],
             [
              0.5555555555555556,
              "#d8576b"
             ],
             [
              0.6666666666666666,
              "#ed7953"
             ],
             [
              0.7777777777777778,
              "#fb9f3a"
             ],
             [
              0.8888888888888888,
              "#fdca26"
             ],
             [
              1,
              "#f0f921"
             ]
            ],
            "type": "surface"
           }
          ],
          "table": [
           {
            "cells": {
             "fill": {
              "color": "#EBF0F8"
             },
             "line": {
              "color": "white"
             }
            },
            "header": {
             "fill": {
              "color": "#C8D4E3"
             },
             "line": {
              "color": "white"
             }
            },
            "type": "table"
           }
          ]
         },
         "layout": {
          "annotationdefaults": {
           "arrowcolor": "#2a3f5f",
           "arrowhead": 0,
           "arrowwidth": 1
          },
          "autotypenumbers": "strict",
          "coloraxis": {
           "colorbar": {
            "outlinewidth": 0,
            "ticks": ""
           }
          },
          "colorscale": {
           "diverging": [
            [
             0,
             "#8e0152"
            ],
            [
             0.1,
             "#c51b7d"
            ],
            [
             0.2,
             "#de77ae"
            ],
            [
             0.3,
             "#f1b6da"
            ],
            [
             0.4,
             "#fde0ef"
            ],
            [
             0.5,
             "#f7f7f7"
            ],
            [
             0.6,
             "#e6f5d0"
            ],
            [
             0.7,
             "#b8e186"
            ],
            [
             0.8,
             "#7fbc41"
            ],
            [
             0.9,
             "#4d9221"
            ],
            [
             1,
             "#276419"
            ]
           ],
           "sequential": [
            [
             0,
             "#0d0887"
            ],
            [
             0.1111111111111111,
             "#46039f"
            ],
            [
             0.2222222222222222,
             "#7201a8"
            ],
            [
             0.3333333333333333,
             "#9c179e"
            ],
            [
             0.4444444444444444,
             "#bd3786"
            ],
            [
             0.5555555555555556,
             "#d8576b"
            ],
            [
             0.6666666666666666,
             "#ed7953"
            ],
            [
             0.7777777777777778,
             "#fb9f3a"
            ],
            [
             0.8888888888888888,
             "#fdca26"
            ],
            [
             1,
             "#f0f921"
            ]
           ],
           "sequentialminus": [
            [
             0,
             "#0d0887"
            ],
            [
             0.1111111111111111,
             "#46039f"
            ],
            [
             0.2222222222222222,
             "#7201a8"
            ],
            [
             0.3333333333333333,
             "#9c179e"
            ],
            [
             0.4444444444444444,
             "#bd3786"
            ],
            [
             0.5555555555555556,
             "#d8576b"
            ],
            [
             0.6666666666666666,
             "#ed7953"
            ],
            [
             0.7777777777777778,
             "#fb9f3a"
            ],
            [
             0.8888888888888888,
             "#fdca26"
            ],
            [
             1,
             "#f0f921"
            ]
           ]
          },
          "colorway": [
           "#636efa",
           "#EF553B",
           "#00cc96",
           "#ab63fa",
           "#FFA15A",
           "#19d3f3",
           "#FF6692",
           "#B6E880",
           "#FF97FF",
           "#FECB52"
          ],
          "font": {
           "color": "#2a3f5f"
          },
          "geo": {
           "bgcolor": "white",
           "lakecolor": "white",
           "landcolor": "#E5ECF6",
           "showlakes": true,
           "showland": true,
           "subunitcolor": "white"
          },
          "hoverlabel": {
           "align": "left"
          },
          "hovermode": "closest",
          "mapbox": {
           "style": "light"
          },
          "paper_bgcolor": "white",
          "plot_bgcolor": "#E5ECF6",
          "polar": {
           "angularaxis": {
            "gridcolor": "white",
            "linecolor": "white",
            "ticks": ""
           },
           "bgcolor": "#E5ECF6",
           "radialaxis": {
            "gridcolor": "white",
            "linecolor": "white",
            "ticks": ""
           }
          },
          "scene": {
           "xaxis": {
            "backgroundcolor": "#E5ECF6",
            "gridcolor": "white",
            "gridwidth": 2,
            "linecolor": "white",
            "showbackground": true,
            "ticks": "",
            "zerolinecolor": "white"
           },
           "yaxis": {
            "backgroundcolor": "#E5ECF6",
            "gridcolor": "white",
            "gridwidth": 2,
            "linecolor": "white",
            "showbackground": true,
            "ticks": "",
            "zerolinecolor": "white"
           },
           "zaxis": {
            "backgroundcolor": "#E5ECF6",
            "gridcolor": "white",
            "gridwidth": 2,
            "linecolor": "white",
            "showbackground": true,
            "ticks": "",
            "zerolinecolor": "white"
           }
          },
          "shapedefaults": {
           "line": {
            "color": "#2a3f5f"
           }
          },
          "ternary": {
           "aaxis": {
            "gridcolor": "white",
            "linecolor": "white",
            "ticks": ""
           },
           "baxis": {
            "gridcolor": "white",
            "linecolor": "white",
            "ticks": ""
           },
           "bgcolor": "#E5ECF6",
           "caxis": {
            "gridcolor": "white",
            "linecolor": "white",
            "ticks": ""
           }
          },
          "title": {
           "x": 0.05
          },
          "xaxis": {
           "automargin": true,
           "gridcolor": "white",
           "linecolor": "white",
           "ticks": "",
           "title": {
            "standoff": 15
           },
           "zerolinecolor": "white",
           "zerolinewidth": 2
          },
          "yaxis": {
           "automargin": true,
           "gridcolor": "white",
           "linecolor": "white",
           "ticks": "",
           "title": {
            "standoff": 15
           },
           "zerolinecolor": "white",
           "zerolinewidth": 2
          }
         }
        },
        "title": {
         "text": "15-Atom Configuration: -3.0000J"
        },
        "width": 600
       }
      }
     },
     "metadata": {},
     "output_type": "display_data"
    }
   ],
   "source": [
    "config = bfgs(15, debug=True, g_tol=1e-8, energy_tol=1e-12, debug_rate=20, track_energy=False)\n",
    "plot_3d_points(*config)"
   ]
  },
  {
   "cell_type": "code",
   "execution_count": 124,
   "id": "86bd98dd-7148-4699-acba-da11e4dde82d",
   "metadata": {},
   "outputs": [
    {
     "data": {
      "application/vnd.plotly.v1+json": {
       "config": {
        "plotlyServerURL": "https://plot.ly"
       },
       "data": [
        {
         "hoverinfo": "text",
         "hovertext": "Length: 1.00e+00, Contributes -1.00e+00J",
         "line": {
          "color": "rgb(173, 216, 230, 0.4)",
          "width": 8
         },
         "mode": "lines",
         "showlegend": false,
         "type": "scatter3d",
         "x": [
          0,
          -0.7923314017678589
         ],
         "y": [
          0,
          0.3080590714449051
         ],
         "z": [
          0,
          -0.5266040890397995
         ]
        },
        {
         "hovertext": [
          "Point 1",
          "Point 2"
         ],
         "marker": {
          "color": "red",
          "size": 8
         },
         "mode": "markers",
         "showlegend": false,
         "type": "scatter3d",
         "x": {
          "bdata": "AAAAAAAAAAAw+kVix1rpvw==",
          "dtype": "f8"
         },
         "y": {
          "bdata": "AAAAAAAAAAA+40VlPbfTPw==",
          "dtype": "f8"
         },
         "z": {
          "bdata": "AAAAAAAAAAC5tIvR8Nngvw==",
          "dtype": "f8"
         }
        }
       ],
       "layout": {
        "height": 400,
        "paper_bgcolor": "rgba(0,0,0,0)",
        "plot_bgcolor": "rgba(0,0,0,0)",
        "scene": {
         "xaxis": {
          "showgrid": false,
          "showticklabels": false,
          "title": {
           "text": ""
          },
          "visible": false,
          "zeroline": false
         },
         "yaxis": {
          "showgrid": false,
          "showticklabels": false,
          "title": {
           "text": ""
          },
          "visible": false,
          "zeroline": false
         },
         "zaxis": {
          "showgrid": false,
          "showticklabels": false,
          "title": {
           "text": ""
          },
          "visible": false,
          "zeroline": false
         }
        },
        "template": {
         "data": {
          "bar": [
           {
            "error_x": {
             "color": "#2a3f5f"
            },
            "error_y": {
             "color": "#2a3f5f"
            },
            "marker": {
             "line": {
              "color": "#E5ECF6",
              "width": 0.5
             },
             "pattern": {
              "fillmode": "overlay",
              "size": 10,
              "solidity": 0.2
             }
            },
            "type": "bar"
           }
          ],
          "barpolar": [
           {
            "marker": {
             "line": {
              "color": "#E5ECF6",
              "width": 0.5
             },
             "pattern": {
              "fillmode": "overlay",
              "size": 10,
              "solidity": 0.2
             }
            },
            "type": "barpolar"
           }
          ],
          "carpet": [
           {
            "aaxis": {
             "endlinecolor": "#2a3f5f",
             "gridcolor": "white",
             "linecolor": "white",
             "minorgridcolor": "white",
             "startlinecolor": "#2a3f5f"
            },
            "baxis": {
             "endlinecolor": "#2a3f5f",
             "gridcolor": "white",
             "linecolor": "white",
             "minorgridcolor": "white",
             "startlinecolor": "#2a3f5f"
            },
            "type": "carpet"
           }
          ],
          "choropleth": [
           {
            "colorbar": {
             "outlinewidth": 0,
             "ticks": ""
            },
            "type": "choropleth"
           }
          ],
          "contour": [
           {
            "colorbar": {
             "outlinewidth": 0,
             "ticks": ""
            },
            "colorscale": [
             [
              0,
              "#0d0887"
             ],
             [
              0.1111111111111111,
              "#46039f"
             ],
             [
              0.2222222222222222,
              "#7201a8"
             ],
             [
              0.3333333333333333,
              "#9c179e"
             ],
             [
              0.4444444444444444,
              "#bd3786"
             ],
             [
              0.5555555555555556,
              "#d8576b"
             ],
             [
              0.6666666666666666,
              "#ed7953"
             ],
             [
              0.7777777777777778,
              "#fb9f3a"
             ],
             [
              0.8888888888888888,
              "#fdca26"
             ],
             [
              1,
              "#f0f921"
             ]
            ],
            "type": "contour"
           }
          ],
          "contourcarpet": [
           {
            "colorbar": {
             "outlinewidth": 0,
             "ticks": ""
            },
            "type": "contourcarpet"
           }
          ],
          "heatmap": [
           {
            "colorbar": {
             "outlinewidth": 0,
             "ticks": ""
            },
            "colorscale": [
             [
              0,
              "#0d0887"
             ],
             [
              0.1111111111111111,
              "#46039f"
             ],
             [
              0.2222222222222222,
              "#7201a8"
             ],
             [
              0.3333333333333333,
              "#9c179e"
             ],
             [
              0.4444444444444444,
              "#bd3786"
             ],
             [
              0.5555555555555556,
              "#d8576b"
             ],
             [
              0.6666666666666666,
              "#ed7953"
             ],
             [
              0.7777777777777778,
              "#fb9f3a"
             ],
             [
              0.8888888888888888,
              "#fdca26"
             ],
             [
              1,
              "#f0f921"
             ]
            ],
            "type": "heatmap"
           }
          ],
          "histogram": [
           {
            "marker": {
             "pattern": {
              "fillmode": "overlay",
              "size": 10,
              "solidity": 0.2
             }
            },
            "type": "histogram"
           }
          ],
          "histogram2d": [
           {
            "colorbar": {
             "outlinewidth": 0,
             "ticks": ""
            },
            "colorscale": [
             [
              0,
              "#0d0887"
             ],
             [
              0.1111111111111111,
              "#46039f"
             ],
             [
              0.2222222222222222,
              "#7201a8"
             ],
             [
              0.3333333333333333,
              "#9c179e"
             ],
             [
              0.4444444444444444,
              "#bd3786"
             ],
             [
              0.5555555555555556,
              "#d8576b"
             ],
             [
              0.6666666666666666,
              "#ed7953"
             ],
             [
              0.7777777777777778,
              "#fb9f3a"
             ],
             [
              0.8888888888888888,
              "#fdca26"
             ],
             [
              1,
              "#f0f921"
             ]
            ],
            "type": "histogram2d"
           }
          ],
          "histogram2dcontour": [
           {
            "colorbar": {
             "outlinewidth": 0,
             "ticks": ""
            },
            "colorscale": [
             [
              0,
              "#0d0887"
             ],
             [
              0.1111111111111111,
              "#46039f"
             ],
             [
              0.2222222222222222,
              "#7201a8"
             ],
             [
              0.3333333333333333,
              "#9c179e"
             ],
             [
              0.4444444444444444,
              "#bd3786"
             ],
             [
              0.5555555555555556,
              "#d8576b"
             ],
             [
              0.6666666666666666,
              "#ed7953"
             ],
             [
              0.7777777777777778,
              "#fb9f3a"
             ],
             [
              0.8888888888888888,
              "#fdca26"
             ],
             [
              1,
              "#f0f921"
             ]
            ],
            "type": "histogram2dcontour"
           }
          ],
          "mesh3d": [
           {
            "colorbar": {
             "outlinewidth": 0,
             "ticks": ""
            },
            "type": "mesh3d"
           }
          ],
          "parcoords": [
           {
            "line": {
             "colorbar": {
              "outlinewidth": 0,
              "ticks": ""
             }
            },
            "type": "parcoords"
           }
          ],
          "pie": [
           {
            "automargin": true,
            "type": "pie"
           }
          ],
          "scatter": [
           {
            "fillpattern": {
             "fillmode": "overlay",
             "size": 10,
             "solidity": 0.2
            },
            "type": "scatter"
           }
          ],
          "scatter3d": [
           {
            "line": {
             "colorbar": {
              "outlinewidth": 0,
              "ticks": ""
             }
            },
            "marker": {
             "colorbar": {
              "outlinewidth": 0,
              "ticks": ""
             }
            },
            "type": "scatter3d"
           }
          ],
          "scattercarpet": [
           {
            "marker": {
             "colorbar": {
              "outlinewidth": 0,
              "ticks": ""
             }
            },
            "type": "scattercarpet"
           }
          ],
          "scattergeo": [
           {
            "marker": {
             "colorbar": {
              "outlinewidth": 0,
              "ticks": ""
             }
            },
            "type": "scattergeo"
           }
          ],
          "scattergl": [
           {
            "marker": {
             "colorbar": {
              "outlinewidth": 0,
              "ticks": ""
             }
            },
            "type": "scattergl"
           }
          ],
          "scattermap": [
           {
            "marker": {
             "colorbar": {
              "outlinewidth": 0,
              "ticks": ""
             }
            },
            "type": "scattermap"
           }
          ],
          "scattermapbox": [
           {
            "marker": {
             "colorbar": {
              "outlinewidth": 0,
              "ticks": ""
             }
            },
            "type": "scattermapbox"
           }
          ],
          "scatterpolar": [
           {
            "marker": {
             "colorbar": {
              "outlinewidth": 0,
              "ticks": ""
             }
            },
            "type": "scatterpolar"
           }
          ],
          "scatterpolargl": [
           {
            "marker": {
             "colorbar": {
              "outlinewidth": 0,
              "ticks": ""
             }
            },
            "type": "scatterpolargl"
           }
          ],
          "scatterternary": [
           {
            "marker": {
             "colorbar": {
              "outlinewidth": 0,
              "ticks": ""
             }
            },
            "type": "scatterternary"
           }
          ],
          "surface": [
           {
            "colorbar": {
             "outlinewidth": 0,
             "ticks": ""
            },
            "colorscale": [
             [
              0,
              "#0d0887"
             ],
             [
              0.1111111111111111,
              "#46039f"
             ],
             [
              0.2222222222222222,
              "#7201a8"
             ],
             [
              0.3333333333333333,
              "#9c179e"
             ],
             [
              0.4444444444444444,
              "#bd3786"
             ],
             [
              0.5555555555555556,
              "#d8576b"
             ],
             [
              0.6666666666666666,
              "#ed7953"
             ],
             [
              0.7777777777777778,
              "#fb9f3a"
             ],
             [
              0.8888888888888888,
              "#fdca26"
             ],
             [
              1,
              "#f0f921"
             ]
            ],
            "type": "surface"
           }
          ],
          "table": [
           {
            "cells": {
             "fill": {
              "color": "#EBF0F8"
             },
             "line": {
              "color": "white"
             }
            },
            "header": {
             "fill": {
              "color": "#C8D4E3"
             },
             "line": {
              "color": "white"
             }
            },
            "type": "table"
           }
          ]
         },
         "layout": {
          "annotationdefaults": {
           "arrowcolor": "#2a3f5f",
           "arrowhead": 0,
           "arrowwidth": 1
          },
          "autotypenumbers": "strict",
          "coloraxis": {
           "colorbar": {
            "outlinewidth": 0,
            "ticks": ""
           }
          },
          "colorscale": {
           "diverging": [
            [
             0,
             "#8e0152"
            ],
            [
             0.1,
             "#c51b7d"
            ],
            [
             0.2,
             "#de77ae"
            ],
            [
             0.3,
             "#f1b6da"
            ],
            [
             0.4,
             "#fde0ef"
            ],
            [
             0.5,
             "#f7f7f7"
            ],
            [
             0.6,
             "#e6f5d0"
            ],
            [
             0.7,
             "#b8e186"
            ],
            [
             0.8,
             "#7fbc41"
            ],
            [
             0.9,
             "#4d9221"
            ],
            [
             1,
             "#276419"
            ]
           ],
           "sequential": [
            [
             0,
             "#0d0887"
            ],
            [
             0.1111111111111111,
             "#46039f"
            ],
            [
             0.2222222222222222,
             "#7201a8"
            ],
            [
             0.3333333333333333,
             "#9c179e"
            ],
            [
             0.4444444444444444,
             "#bd3786"
            ],
            [
             0.5555555555555556,
             "#d8576b"
            ],
            [
             0.6666666666666666,
             "#ed7953"
            ],
            [
             0.7777777777777778,
             "#fb9f3a"
            ],
            [
             0.8888888888888888,
             "#fdca26"
            ],
            [
             1,
             "#f0f921"
            ]
           ],
           "sequentialminus": [
            [
             0,
             "#0d0887"
            ],
            [
             0.1111111111111111,
             "#46039f"
            ],
            [
             0.2222222222222222,
             "#7201a8"
            ],
            [
             0.3333333333333333,
             "#9c179e"
            ],
            [
             0.4444444444444444,
             "#bd3786"
            ],
            [
             0.5555555555555556,
             "#d8576b"
            ],
            [
             0.6666666666666666,
             "#ed7953"
            ],
            [
             0.7777777777777778,
             "#fb9f3a"
            ],
            [
             0.8888888888888888,
             "#fdca26"
            ],
            [
             1,
             "#f0f921"
            ]
           ]
          },
          "colorway": [
           "#636efa",
           "#EF553B",
           "#00cc96",
           "#ab63fa",
           "#FFA15A",
           "#19d3f3",
           "#FF6692",
           "#B6E880",
           "#FF97FF",
           "#FECB52"
          ],
          "font": {
           "color": "#2a3f5f"
          },
          "geo": {
           "bgcolor": "white",
           "lakecolor": "white",
           "landcolor": "#E5ECF6",
           "showlakes": true,
           "showland": true,
           "subunitcolor": "white"
          },
          "hoverlabel": {
           "align": "left"
          },
          "hovermode": "closest",
          "mapbox": {
           "style": "light"
          },
          "paper_bgcolor": "white",
          "plot_bgcolor": "#E5ECF6",
          "polar": {
           "angularaxis": {
            "gridcolor": "white",
            "linecolor": "white",
            "ticks": ""
           },
           "bgcolor": "#E5ECF6",
           "radialaxis": {
            "gridcolor": "white",
            "linecolor": "white",
            "ticks": ""
           }
          },
          "scene": {
           "xaxis": {
            "backgroundcolor": "#E5ECF6",
            "gridcolor": "white",
            "gridwidth": 2,
            "linecolor": "white",
            "showbackground": true,
            "ticks": "",
            "zerolinecolor": "white"
           },
           "yaxis": {
            "backgroundcolor": "#E5ECF6",
            "gridcolor": "white",
            "gridwidth": 2,
            "linecolor": "white",
            "showbackground": true,
            "ticks": "",
            "zerolinecolor": "white"
           },
           "zaxis": {
            "backgroundcolor": "#E5ECF6",
            "gridcolor": "white",
            "gridwidth": 2,
            "linecolor": "white",
            "showbackground": true,
            "ticks": "",
            "zerolinecolor": "white"
           }
          },
          "shapedefaults": {
           "line": {
            "color": "#2a3f5f"
           }
          },
          "ternary": {
           "aaxis": {
            "gridcolor": "white",
            "linecolor": "white",
            "ticks": ""
           },
           "baxis": {
            "gridcolor": "white",
            "linecolor": "white",
            "ticks": ""
           },
           "bgcolor": "#E5ECF6",
           "caxis": {
            "gridcolor": "white",
            "linecolor": "white",
            "ticks": ""
           }
          },
          "title": {
           "x": 0.05
          },
          "xaxis": {
           "automargin": true,
           "gridcolor": "white",
           "linecolor": "white",
           "ticks": "",
           "title": {
            "standoff": 15
           },
           "zerolinecolor": "white",
           "zerolinewidth": 2
          },
          "yaxis": {
           "automargin": true,
           "gridcolor": "white",
           "linecolor": "white",
           "ticks": "",
           "title": {
            "standoff": 15
           },
           "zerolinecolor": "white",
           "zerolinewidth": 2
          }
         }
        },
        "title": {
         "text": "2-Atom Configuration: -1.0000J"
        },
        "width": 600
       }
      }
     },
     "metadata": {},
     "output_type": "display_data"
    },
    {
     "data": {
      "application/vnd.plotly.v1+json": {
       "config": {
        "plotlyServerURL": "https://plot.ly"
       },
       "data": [
        {
         "hoverinfo": "text",
         "hovertext": "Length: 1.00e+00, Contributes -1.00e+00J",
         "line": {
          "color": "rgb(173, 216, 230, 0.4)",
          "width": 8
         },
         "mode": "lines",
         "showlegend": false,
         "type": "scatter3d",
         "x": [
          0,
          -0.8205771945659999
         ],
         "y": [
          0,
          0.20550736262633654
         ],
         "z": [
          0,
          -0.5332970894852034
         ]
        },
        {
         "hoverinfo": "text",
         "hovertext": "Length: 1.00e+00, Contributes -1.00e+00J",
         "line": {
          "color": "rgb(173, 216, 230, 0.4)",
          "width": 8
         },
         "mode": "lines",
         "showlegend": false,
         "type": "scatter3d",
         "x": [
          0,
          -0.2457912376912343
         ],
         "y": [
          0,
          -0.574483207499245
         ],
         "z": [
          0,
          -0.7807455890830497
         ]
        },
        {
         "hoverinfo": "text",
         "hovertext": "Length: 1.00e+00, Contributes -1.00e+00J",
         "line": {
          "color": "rgb(173, 216, 230, 0.4)",
          "width": 8
         },
         "mode": "lines",
         "showlegend": false,
         "type": "scatter3d",
         "x": [
          -0.8205771945659999,
          -0.2457912376912343
         ],
         "y": [
          0.20550736262633654,
          -0.574483207499245
         ],
         "z": [
          -0.5332970894852034,
          -0.7807455890830497
         ]
        },
        {
         "hovertext": [
          "Point 1",
          "Point 2",
          "Point 3"
         ],
         "marker": {
          "color": "red",
          "size": 8
         },
         "mode": "markers",
         "showlegend": false,
         "type": "scatter3d",
         "x": {
          "bdata": "AAAAAAAAAAAIJNAaK0Lqv757w1cWds+/",
          "dtype": "f8"
         },
         "y": {
          "bdata": "AAAAAAAAAAA1nsi0EE7KPx7viZsqYuK/",
          "dtype": "f8"
         },
         "z": {
          "bdata": "AAAAAAAAAACIgswOxRDhv1p0cyze++i/",
          "dtype": "f8"
         }
        }
       ],
       "layout": {
        "height": 400,
        "paper_bgcolor": "rgba(0,0,0,0)",
        "plot_bgcolor": "rgba(0,0,0,0)",
        "scene": {
         "xaxis": {
          "showgrid": false,
          "showticklabels": false,
          "title": {
           "text": ""
          },
          "visible": false,
          "zeroline": false
         },
         "yaxis": {
          "showgrid": false,
          "showticklabels": false,
          "title": {
           "text": ""
          },
          "visible": false,
          "zeroline": false
         },
         "zaxis": {
          "showgrid": false,
          "showticklabels": false,
          "title": {
           "text": ""
          },
          "visible": false,
          "zeroline": false
         }
        },
        "template": {
         "data": {
          "bar": [
           {
            "error_x": {
             "color": "#2a3f5f"
            },
            "error_y": {
             "color": "#2a3f5f"
            },
            "marker": {
             "line": {
              "color": "#E5ECF6",
              "width": 0.5
             },
             "pattern": {
              "fillmode": "overlay",
              "size": 10,
              "solidity": 0.2
             }
            },
            "type": "bar"
           }
          ],
          "barpolar": [
           {
            "marker": {
             "line": {
              "color": "#E5ECF6",
              "width": 0.5
             },
             "pattern": {
              "fillmode": "overlay",
              "size": 10,
              "solidity": 0.2
             }
            },
            "type": "barpolar"
           }
          ],
          "carpet": [
           {
            "aaxis": {
             "endlinecolor": "#2a3f5f",
             "gridcolor": "white",
             "linecolor": "white",
             "minorgridcolor": "white",
             "startlinecolor": "#2a3f5f"
            },
            "baxis": {
             "endlinecolor": "#2a3f5f",
             "gridcolor": "white",
             "linecolor": "white",
             "minorgridcolor": "white",
             "startlinecolor": "#2a3f5f"
            },
            "type": "carpet"
           }
          ],
          "choropleth": [
           {
            "colorbar": {
             "outlinewidth": 0,
             "ticks": ""
            },
            "type": "choropleth"
           }
          ],
          "contour": [
           {
            "colorbar": {
             "outlinewidth": 0,
             "ticks": ""
            },
            "colorscale": [
             [
              0,
              "#0d0887"
             ],
             [
              0.1111111111111111,
              "#46039f"
             ],
             [
              0.2222222222222222,
              "#7201a8"
             ],
             [
              0.3333333333333333,
              "#9c179e"
             ],
             [
              0.4444444444444444,
              "#bd3786"
             ],
             [
              0.5555555555555556,
              "#d8576b"
             ],
             [
              0.6666666666666666,
              "#ed7953"
             ],
             [
              0.7777777777777778,
              "#fb9f3a"
             ],
             [
              0.8888888888888888,
              "#fdca26"
             ],
             [
              1,
              "#f0f921"
             ]
            ],
            "type": "contour"
           }
          ],
          "contourcarpet": [
           {
            "colorbar": {
             "outlinewidth": 0,
             "ticks": ""
            },
            "type": "contourcarpet"
           }
          ],
          "heatmap": [
           {
            "colorbar": {
             "outlinewidth": 0,
             "ticks": ""
            },
            "colorscale": [
             [
              0,
              "#0d0887"
             ],
             [
              0.1111111111111111,
              "#46039f"
             ],
             [
              0.2222222222222222,
              "#7201a8"
             ],
             [
              0.3333333333333333,
              "#9c179e"
             ],
             [
              0.4444444444444444,
              "#bd3786"
             ],
             [
              0.5555555555555556,
              "#d8576b"
             ],
             [
              0.6666666666666666,
              "#ed7953"
             ],
             [
              0.7777777777777778,
              "#fb9f3a"
             ],
             [
              0.8888888888888888,
              "#fdca26"
             ],
             [
              1,
              "#f0f921"
             ]
            ],
            "type": "heatmap"
           }
          ],
          "histogram": [
           {
            "marker": {
             "pattern": {
              "fillmode": "overlay",
              "size": 10,
              "solidity": 0.2
             }
            },
            "type": "histogram"
           }
          ],
          "histogram2d": [
           {
            "colorbar": {
             "outlinewidth": 0,
             "ticks": ""
            },
            "colorscale": [
             [
              0,
              "#0d0887"
             ],
             [
              0.1111111111111111,
              "#46039f"
             ],
             [
              0.2222222222222222,
              "#7201a8"
             ],
             [
              0.3333333333333333,
              "#9c179e"
             ],
             [
              0.4444444444444444,
              "#bd3786"
             ],
             [
              0.5555555555555556,
              "#d8576b"
             ],
             [
              0.6666666666666666,
              "#ed7953"
             ],
             [
              0.7777777777777778,
              "#fb9f3a"
             ],
             [
              0.8888888888888888,
              "#fdca26"
             ],
             [
              1,
              "#f0f921"
             ]
            ],
            "type": "histogram2d"
           }
          ],
          "histogram2dcontour": [
           {
            "colorbar": {
             "outlinewidth": 0,
             "ticks": ""
            },
            "colorscale": [
             [
              0,
              "#0d0887"
             ],
             [
              0.1111111111111111,
              "#46039f"
             ],
             [
              0.2222222222222222,
              "#7201a8"
             ],
             [
              0.3333333333333333,
              "#9c179e"
             ],
             [
              0.4444444444444444,
              "#bd3786"
             ],
             [
              0.5555555555555556,
              "#d8576b"
             ],
             [
              0.6666666666666666,
              "#ed7953"
             ],
             [
              0.7777777777777778,
              "#fb9f3a"
             ],
             [
              0.8888888888888888,
              "#fdca26"
             ],
             [
              1,
              "#f0f921"
             ]
            ],
            "type": "histogram2dcontour"
           }
          ],
          "mesh3d": [
           {
            "colorbar": {
             "outlinewidth": 0,
             "ticks": ""
            },
            "type": "mesh3d"
           }
          ],
          "parcoords": [
           {
            "line": {
             "colorbar": {
              "outlinewidth": 0,
              "ticks": ""
             }
            },
            "type": "parcoords"
           }
          ],
          "pie": [
           {
            "automargin": true,
            "type": "pie"
           }
          ],
          "scatter": [
           {
            "fillpattern": {
             "fillmode": "overlay",
             "size": 10,
             "solidity": 0.2
            },
            "type": "scatter"
           }
          ],
          "scatter3d": [
           {
            "line": {
             "colorbar": {
              "outlinewidth": 0,
              "ticks": ""
             }
            },
            "marker": {
             "colorbar": {
              "outlinewidth": 0,
              "ticks": ""
             }
            },
            "type": "scatter3d"
           }
          ],
          "scattercarpet": [
           {
            "marker": {
             "colorbar": {
              "outlinewidth": 0,
              "ticks": ""
             }
            },
            "type": "scattercarpet"
           }
          ],
          "scattergeo": [
           {
            "marker": {
             "colorbar": {
              "outlinewidth": 0,
              "ticks": ""
             }
            },
            "type": "scattergeo"
           }
          ],
          "scattergl": [
           {
            "marker": {
             "colorbar": {
              "outlinewidth": 0,
              "ticks": ""
             }
            },
            "type": "scattergl"
           }
          ],
          "scattermap": [
           {
            "marker": {
             "colorbar": {
              "outlinewidth": 0,
              "ticks": ""
             }
            },
            "type": "scattermap"
           }
          ],
          "scattermapbox": [
           {
            "marker": {
             "colorbar": {
              "outlinewidth": 0,
              "ticks": ""
             }
            },
            "type": "scattermapbox"
           }
          ],
          "scatterpolar": [
           {
            "marker": {
             "colorbar": {
              "outlinewidth": 0,
              "ticks": ""
             }
            },
            "type": "scatterpolar"
           }
          ],
          "scatterpolargl": [
           {
            "marker": {
             "colorbar": {
              "outlinewidth": 0,
              "ticks": ""
             }
            },
            "type": "scatterpolargl"
           }
          ],
          "scatterternary": [
           {
            "marker": {
             "colorbar": {
              "outlinewidth": 0,
              "ticks": ""
             }
            },
            "type": "scatterternary"
           }
          ],
          "surface": [
           {
            "colorbar": {
             "outlinewidth": 0,
             "ticks": ""
            },
            "colorscale": [
             [
              0,
              "#0d0887"
             ],
             [
              0.1111111111111111,
              "#46039f"
             ],
             [
              0.2222222222222222,
              "#7201a8"
             ],
             [
              0.3333333333333333,
              "#9c179e"
             ],
             [
              0.4444444444444444,
              "#bd3786"
             ],
             [
              0.5555555555555556,
              "#d8576b"
             ],
             [
              0.6666666666666666,
              "#ed7953"
             ],
             [
              0.7777777777777778,
              "#fb9f3a"
             ],
             [
              0.8888888888888888,
              "#fdca26"
             ],
             [
              1,
              "#f0f921"
             ]
            ],
            "type": "surface"
           }
          ],
          "table": [
           {
            "cells": {
             "fill": {
              "color": "#EBF0F8"
             },
             "line": {
              "color": "white"
             }
            },
            "header": {
             "fill": {
              "color": "#C8D4E3"
             },
             "line": {
              "color": "white"
             }
            },
            "type": "table"
           }
          ]
         },
         "layout": {
          "annotationdefaults": {
           "arrowcolor": "#2a3f5f",
           "arrowhead": 0,
           "arrowwidth": 1
          },
          "autotypenumbers": "strict",
          "coloraxis": {
           "colorbar": {
            "outlinewidth": 0,
            "ticks": ""
           }
          },
          "colorscale": {
           "diverging": [
            [
             0,
             "#8e0152"
            ],
            [
             0.1,
             "#c51b7d"
            ],
            [
             0.2,
             "#de77ae"
            ],
            [
             0.3,
             "#f1b6da"
            ],
            [
             0.4,
             "#fde0ef"
            ],
            [
             0.5,
             "#f7f7f7"
            ],
            [
             0.6,
             "#e6f5d0"
            ],
            [
             0.7,
             "#b8e186"
            ],
            [
             0.8,
             "#7fbc41"
            ],
            [
             0.9,
             "#4d9221"
            ],
            [
             1,
             "#276419"
            ]
           ],
           "sequential": [
            [
             0,
             "#0d0887"
            ],
            [
             0.1111111111111111,
             "#46039f"
            ],
            [
             0.2222222222222222,
             "#7201a8"
            ],
            [
             0.3333333333333333,
             "#9c179e"
            ],
            [
             0.4444444444444444,
             "#bd3786"
            ],
            [
             0.5555555555555556,
             "#d8576b"
            ],
            [
             0.6666666666666666,
             "#ed7953"
            ],
            [
             0.7777777777777778,
             "#fb9f3a"
            ],
            [
             0.8888888888888888,
             "#fdca26"
            ],
            [
             1,
             "#f0f921"
            ]
           ],
           "sequentialminus": [
            [
             0,
             "#0d0887"
            ],
            [
             0.1111111111111111,
             "#46039f"
            ],
            [
             0.2222222222222222,
             "#7201a8"
            ],
            [
             0.3333333333333333,
             "#9c179e"
            ],
            [
             0.4444444444444444,
             "#bd3786"
            ],
            [
             0.5555555555555556,
             "#d8576b"
            ],
            [
             0.6666666666666666,
             "#ed7953"
            ],
            [
             0.7777777777777778,
             "#fb9f3a"
            ],
            [
             0.8888888888888888,
             "#fdca26"
            ],
            [
             1,
             "#f0f921"
            ]
           ]
          },
          "colorway": [
           "#636efa",
           "#EF553B",
           "#00cc96",
           "#ab63fa",
           "#FFA15A",
           "#19d3f3",
           "#FF6692",
           "#B6E880",
           "#FF97FF",
           "#FECB52"
          ],
          "font": {
           "color": "#2a3f5f"
          },
          "geo": {
           "bgcolor": "white",
           "lakecolor": "white",
           "landcolor": "#E5ECF6",
           "showlakes": true,
           "showland": true,
           "subunitcolor": "white"
          },
          "hoverlabel": {
           "align": "left"
          },
          "hovermode": "closest",
          "mapbox": {
           "style": "light"
          },
          "paper_bgcolor": "white",
          "plot_bgcolor": "#E5ECF6",
          "polar": {
           "angularaxis": {
            "gridcolor": "white",
            "linecolor": "white",
            "ticks": ""
           },
           "bgcolor": "#E5ECF6",
           "radialaxis": {
            "gridcolor": "white",
            "linecolor": "white",
            "ticks": ""
           }
          },
          "scene": {
           "xaxis": {
            "backgroundcolor": "#E5ECF6",
            "gridcolor": "white",
            "gridwidth": 2,
            "linecolor": "white",
            "showbackground": true,
            "ticks": "",
            "zerolinecolor": "white"
           },
           "yaxis": {
            "backgroundcolor": "#E5ECF6",
            "gridcolor": "white",
            "gridwidth": 2,
            "linecolor": "white",
            "showbackground": true,
            "ticks": "",
            "zerolinecolor": "white"
           },
           "zaxis": {
            "backgroundcolor": "#E5ECF6",
            "gridcolor": "white",
            "gridwidth": 2,
            "linecolor": "white",
            "showbackground": true,
            "ticks": "",
            "zerolinecolor": "white"
           }
          },
          "shapedefaults": {
           "line": {
            "color": "#2a3f5f"
           }
          },
          "ternary": {
           "aaxis": {
            "gridcolor": "white",
            "linecolor": "white",
            "ticks": ""
           },
           "baxis": {
            "gridcolor": "white",
            "linecolor": "white",
            "ticks": ""
           },
           "bgcolor": "#E5ECF6",
           "caxis": {
            "gridcolor": "white",
            "linecolor": "white",
            "ticks": ""
           }
          },
          "title": {
           "x": 0.05
          },
          "xaxis": {
           "automargin": true,
           "gridcolor": "white",
           "linecolor": "white",
           "ticks": "",
           "title": {
            "standoff": 15
           },
           "zerolinecolor": "white",
           "zerolinewidth": 2
          },
          "yaxis": {
           "automargin": true,
           "gridcolor": "white",
           "linecolor": "white",
           "ticks": "",
           "title": {
            "standoff": 15
           },
           "zerolinecolor": "white",
           "zerolinewidth": 2
          }
         }
        },
        "title": {
         "text": "3-Atom Configuration: -3.0000J"
        },
        "width": 600
       }
      }
     },
     "metadata": {},
     "output_type": "display_data"
    },
    {
     "data": {
      "application/vnd.plotly.v1+json": {
       "config": {
        "plotlyServerURL": "https://plot.ly"
       },
       "data": [
        {
         "hoverinfo": "text",
         "hovertext": "Length: 1.00e+00, Contributes -1.00e+00J",
         "line": {
          "color": "rgb(173, 216, 230, 0.4)",
          "width": 8
         },
         "mode": "lines",
         "showlegend": false,
         "type": "scatter3d",
         "x": [
          0,
          -0.9199992637152121
         ],
         "y": [
          0,
          -0.05579572043568099
         ],
         "z": [
          0,
          -0.38792720671121717
         ]
        },
        {
         "hoverinfo": "text",
         "hovertext": "Length: 1.00e+00, Contributes -1.00e+00J",
         "line": {
          "color": "rgb(173, 216, 230, 0.4)",
          "width": 8
         },
         "mode": "lines",
         "showlegend": false,
         "type": "scatter3d",
         "x": [
          0,
          -0.283004507098534
         ],
         "y": [
          0,
          -0.8184717588377344
         ],
         "z": [
          0,
          -0.500002846354194
         ]
        },
        {
         "hoverinfo": "text",
         "hovertext": "Length: 1.00e+00, Contributes -1.00e+00J",
         "line": {
          "color": "rgb(173, 216, 230, 0.4)",
          "width": 8
         },
         "mode": "lines",
         "showlegend": false,
         "type": "scatter3d",
         "x": [
          0,
          -0.12795952865544458
         ],
         "y": [
          0,
          0.03876973676058062
         ],
         "z": [
          0,
          -0.9910184702145506
         ]
        },
        {
         "hoverinfo": "text",
         "hovertext": "Length: 1.00e+00, Contributes -1.00e+00J",
         "line": {
          "color": "rgb(173, 216, 230, 0.4)",
          "width": 8
         },
         "mode": "lines",
         "showlegend": false,
         "type": "scatter3d",
         "x": [
          -0.9199992637152121,
          -0.283004507098534
         ],
         "y": [
          -0.05579572043568099,
          -0.8184717588377344
         ],
         "z": [
          -0.38792720671121717,
          -0.500002846354194
         ]
        },
        {
         "hoverinfo": "text",
         "hovertext": "Length: 1.00e+00, Contributes -1.00e+00J",
         "line": {
          "color": "rgb(173, 216, 230, 0.4)",
          "width": 8
         },
         "mode": "lines",
         "showlegend": false,
         "type": "scatter3d",
         "x": [
          -0.9199992637152121,
          -0.12795952865544458
         ],
         "y": [
          -0.05579572043568099,
          0.03876973676058062
         ],
         "z": [
          -0.38792720671121717,
          -0.9910184702145506
         ]
        },
        {
         "hoverinfo": "text",
         "hovertext": "Length: 1.00e+00, Contributes -1.00e+00J",
         "line": {
          "color": "rgb(173, 216, 230, 0.4)",
          "width": 8
         },
         "mode": "lines",
         "showlegend": false,
         "type": "scatter3d",
         "x": [
          -0.283004507098534,
          -0.12795952865544458
         ],
         "y": [
          -0.8184717588377344,
          0.03876973676058062
         ],
         "z": [
          -0.500002846354194,
          -0.9910184702145506
         ]
        },
        {
         "hovertext": [
          "Point 1",
          "Point 2",
          "Point 3",
          "Point 4"
         ],
         "marker": {
          "color": "red",
          "size": 8
         },
         "mode": "markers",
         "showlegend": false,
         "type": "scatter3d",
         "x": {
          "bdata": "AAAAAAAAAACAB8BLonDtv6L2pu++HNK/5LJkU/pgwL8=",
          "dtype": "f8"
         },
         "y": {
          "bdata": "AAAAAAAAAAApVw61QZGsv54Lna/rMOq/YyXsfqDZoz8=",
          "dtype": "f8"
         },
         "z": {
          "bdata": "AAAAAAAAAABsaYOizNPYvw/xH/gFAOC/0rXpXWy2778=",
          "dtype": "f8"
         }
        }
       ],
       "layout": {
        "height": 400,
        "paper_bgcolor": "rgba(0,0,0,0)",
        "plot_bgcolor": "rgba(0,0,0,0)",
        "scene": {
         "xaxis": {
          "showgrid": false,
          "showticklabels": false,
          "title": {
           "text": ""
          },
          "visible": false,
          "zeroline": false
         },
         "yaxis": {
          "showgrid": false,
          "showticklabels": false,
          "title": {
           "text": ""
          },
          "visible": false,
          "zeroline": false
         },
         "zaxis": {
          "showgrid": false,
          "showticklabels": false,
          "title": {
           "text": ""
          },
          "visible": false,
          "zeroline": false
         }
        },
        "template": {
         "data": {
          "bar": [
           {
            "error_x": {
             "color": "#2a3f5f"
            },
            "error_y": {
             "color": "#2a3f5f"
            },
            "marker": {
             "line": {
              "color": "#E5ECF6",
              "width": 0.5
             },
             "pattern": {
              "fillmode": "overlay",
              "size": 10,
              "solidity": 0.2
             }
            },
            "type": "bar"
           }
          ],
          "barpolar": [
           {
            "marker": {
             "line": {
              "color": "#E5ECF6",
              "width": 0.5
             },
             "pattern": {
              "fillmode": "overlay",
              "size": 10,
              "solidity": 0.2
             }
            },
            "type": "barpolar"
           }
          ],
          "carpet": [
           {
            "aaxis": {
             "endlinecolor": "#2a3f5f",
             "gridcolor": "white",
             "linecolor": "white",
             "minorgridcolor": "white",
             "startlinecolor": "#2a3f5f"
            },
            "baxis": {
             "endlinecolor": "#2a3f5f",
             "gridcolor": "white",
             "linecolor": "white",
             "minorgridcolor": "white",
             "startlinecolor": "#2a3f5f"
            },
            "type": "carpet"
           }
          ],
          "choropleth": [
           {
            "colorbar": {
             "outlinewidth": 0,
             "ticks": ""
            },
            "type": "choropleth"
           }
          ],
          "contour": [
           {
            "colorbar": {
             "outlinewidth": 0,
             "ticks": ""
            },
            "colorscale": [
             [
              0,
              "#0d0887"
             ],
             [
              0.1111111111111111,
              "#46039f"
             ],
             [
              0.2222222222222222,
              "#7201a8"
             ],
             [
              0.3333333333333333,
              "#9c179e"
             ],
             [
              0.4444444444444444,
              "#bd3786"
             ],
             [
              0.5555555555555556,
              "#d8576b"
             ],
             [
              0.6666666666666666,
              "#ed7953"
             ],
             [
              0.7777777777777778,
              "#fb9f3a"
             ],
             [
              0.8888888888888888,
              "#fdca26"
             ],
             [
              1,
              "#f0f921"
             ]
            ],
            "type": "contour"
           }
          ],
          "contourcarpet": [
           {
            "colorbar": {
             "outlinewidth": 0,
             "ticks": ""
            },
            "type": "contourcarpet"
           }
          ],
          "heatmap": [
           {
            "colorbar": {
             "outlinewidth": 0,
             "ticks": ""
            },
            "colorscale": [
             [
              0,
              "#0d0887"
             ],
             [
              0.1111111111111111,
              "#46039f"
             ],
             [
              0.2222222222222222,
              "#7201a8"
             ],
             [
              0.3333333333333333,
              "#9c179e"
             ],
             [
              0.4444444444444444,
              "#bd3786"
             ],
             [
              0.5555555555555556,
              "#d8576b"
             ],
             [
              0.6666666666666666,
              "#ed7953"
             ],
             [
              0.7777777777777778,
              "#fb9f3a"
             ],
             [
              0.8888888888888888,
              "#fdca26"
             ],
             [
              1,
              "#f0f921"
             ]
            ],
            "type": "heatmap"
           }
          ],
          "histogram": [
           {
            "marker": {
             "pattern": {
              "fillmode": "overlay",
              "size": 10,
              "solidity": 0.2
             }
            },
            "type": "histogram"
           }
          ],
          "histogram2d": [
           {
            "colorbar": {
             "outlinewidth": 0,
             "ticks": ""
            },
            "colorscale": [
             [
              0,
              "#0d0887"
             ],
             [
              0.1111111111111111,
              "#46039f"
             ],
             [
              0.2222222222222222,
              "#7201a8"
             ],
             [
              0.3333333333333333,
              "#9c179e"
             ],
             [
              0.4444444444444444,
              "#bd3786"
             ],
             [
              0.5555555555555556,
              "#d8576b"
             ],
             [
              0.6666666666666666,
              "#ed7953"
             ],
             [
              0.7777777777777778,
              "#fb9f3a"
             ],
             [
              0.8888888888888888,
              "#fdca26"
             ],
             [
              1,
              "#f0f921"
             ]
            ],
            "type": "histogram2d"
           }
          ],
          "histogram2dcontour": [
           {
            "colorbar": {
             "outlinewidth": 0,
             "ticks": ""
            },
            "colorscale": [
             [
              0,
              "#0d0887"
             ],
             [
              0.1111111111111111,
              "#46039f"
             ],
             [
              0.2222222222222222,
              "#7201a8"
             ],
             [
              0.3333333333333333,
              "#9c179e"
             ],
             [
              0.4444444444444444,
              "#bd3786"
             ],
             [
              0.5555555555555556,
              "#d8576b"
             ],
             [
              0.6666666666666666,
              "#ed7953"
             ],
             [
              0.7777777777777778,
              "#fb9f3a"
             ],
             [
              0.8888888888888888,
              "#fdca26"
             ],
             [
              1,
              "#f0f921"
             ]
            ],
            "type": "histogram2dcontour"
           }
          ],
          "mesh3d": [
           {
            "colorbar": {
             "outlinewidth": 0,
             "ticks": ""
            },
            "type": "mesh3d"
           }
          ],
          "parcoords": [
           {
            "line": {
             "colorbar": {
              "outlinewidth": 0,
              "ticks": ""
             }
            },
            "type": "parcoords"
           }
          ],
          "pie": [
           {
            "automargin": true,
            "type": "pie"
           }
          ],
          "scatter": [
           {
            "fillpattern": {
             "fillmode": "overlay",
             "size": 10,
             "solidity": 0.2
            },
            "type": "scatter"
           }
          ],
          "scatter3d": [
           {
            "line": {
             "colorbar": {
              "outlinewidth": 0,
              "ticks": ""
             }
            },
            "marker": {
             "colorbar": {
              "outlinewidth": 0,
              "ticks": ""
             }
            },
            "type": "scatter3d"
           }
          ],
          "scattercarpet": [
           {
            "marker": {
             "colorbar": {
              "outlinewidth": 0,
              "ticks": ""
             }
            },
            "type": "scattercarpet"
           }
          ],
          "scattergeo": [
           {
            "marker": {
             "colorbar": {
              "outlinewidth": 0,
              "ticks": ""
             }
            },
            "type": "scattergeo"
           }
          ],
          "scattergl": [
           {
            "marker": {
             "colorbar": {
              "outlinewidth": 0,
              "ticks": ""
             }
            },
            "type": "scattergl"
           }
          ],
          "scattermap": [
           {
            "marker": {
             "colorbar": {
              "outlinewidth": 0,
              "ticks": ""
             }
            },
            "type": "scattermap"
           }
          ],
          "scattermapbox": [
           {
            "marker": {
             "colorbar": {
              "outlinewidth": 0,
              "ticks": ""
             }
            },
            "type": "scattermapbox"
           }
          ],
          "scatterpolar": [
           {
            "marker": {
             "colorbar": {
              "outlinewidth": 0,
              "ticks": ""
             }
            },
            "type": "scatterpolar"
           }
          ],
          "scatterpolargl": [
           {
            "marker": {
             "colorbar": {
              "outlinewidth": 0,
              "ticks": ""
             }
            },
            "type": "scatterpolargl"
           }
          ],
          "scatterternary": [
           {
            "marker": {
             "colorbar": {
              "outlinewidth": 0,
              "ticks": ""
             }
            },
            "type": "scatterternary"
           }
          ],
          "surface": [
           {
            "colorbar": {
             "outlinewidth": 0,
             "ticks": ""
            },
            "colorscale": [
             [
              0,
              "#0d0887"
             ],
             [
              0.1111111111111111,
              "#46039f"
             ],
             [
              0.2222222222222222,
              "#7201a8"
             ],
             [
              0.3333333333333333,
              "#9c179e"
             ],
             [
              0.4444444444444444,
              "#bd3786"
             ],
             [
              0.5555555555555556,
              "#d8576b"
             ],
             [
              0.6666666666666666,
              "#ed7953"
             ],
             [
              0.7777777777777778,
              "#fb9f3a"
             ],
             [
              0.8888888888888888,
              "#fdca26"
             ],
             [
              1,
              "#f0f921"
             ]
            ],
            "type": "surface"
           }
          ],
          "table": [
           {
            "cells": {
             "fill": {
              "color": "#EBF0F8"
             },
             "line": {
              "color": "white"
             }
            },
            "header": {
             "fill": {
              "color": "#C8D4E3"
             },
             "line": {
              "color": "white"
             }
            },
            "type": "table"
           }
          ]
         },
         "layout": {
          "annotationdefaults": {
           "arrowcolor": "#2a3f5f",
           "arrowhead": 0,
           "arrowwidth": 1
          },
          "autotypenumbers": "strict",
          "coloraxis": {
           "colorbar": {
            "outlinewidth": 0,
            "ticks": ""
           }
          },
          "colorscale": {
           "diverging": [
            [
             0,
             "#8e0152"
            ],
            [
             0.1,
             "#c51b7d"
            ],
            [
             0.2,
             "#de77ae"
            ],
            [
             0.3,
             "#f1b6da"
            ],
            [
             0.4,
             "#fde0ef"
            ],
            [
             0.5,
             "#f7f7f7"
            ],
            [
             0.6,
             "#e6f5d0"
            ],
            [
             0.7,
             "#b8e186"
            ],
            [
             0.8,
             "#7fbc41"
            ],
            [
             0.9,
             "#4d9221"
            ],
            [
             1,
             "#276419"
            ]
           ],
           "sequential": [
            [
             0,
             "#0d0887"
            ],
            [
             0.1111111111111111,
             "#46039f"
            ],
            [
             0.2222222222222222,
             "#7201a8"
            ],
            [
             0.3333333333333333,
             "#9c179e"
            ],
            [
             0.4444444444444444,
             "#bd3786"
            ],
            [
             0.5555555555555556,
             "#d8576b"
            ],
            [
             0.6666666666666666,
             "#ed7953"
            ],
            [
             0.7777777777777778,
             "#fb9f3a"
            ],
            [
             0.8888888888888888,
             "#fdca26"
            ],
            [
             1,
             "#f0f921"
            ]
           ],
           "sequentialminus": [
            [
             0,
             "#0d0887"
            ],
            [
             0.1111111111111111,
             "#46039f"
            ],
            [
             0.2222222222222222,
             "#7201a8"
            ],
            [
             0.3333333333333333,
             "#9c179e"
            ],
            [
             0.4444444444444444,
             "#bd3786"
            ],
            [
             0.5555555555555556,
             "#d8576b"
            ],
            [
             0.6666666666666666,
             "#ed7953"
            ],
            [
             0.7777777777777778,
             "#fb9f3a"
            ],
            [
             0.8888888888888888,
             "#fdca26"
            ],
            [
             1,
             "#f0f921"
            ]
           ]
          },
          "colorway": [
           "#636efa",
           "#EF553B",
           "#00cc96",
           "#ab63fa",
           "#FFA15A",
           "#19d3f3",
           "#FF6692",
           "#B6E880",
           "#FF97FF",
           "#FECB52"
          ],
          "font": {
           "color": "#2a3f5f"
          },
          "geo": {
           "bgcolor": "white",
           "lakecolor": "white",
           "landcolor": "#E5ECF6",
           "showlakes": true,
           "showland": true,
           "subunitcolor": "white"
          },
          "hoverlabel": {
           "align": "left"
          },
          "hovermode": "closest",
          "mapbox": {
           "style": "light"
          },
          "paper_bgcolor": "white",
          "plot_bgcolor": "#E5ECF6",
          "polar": {
           "angularaxis": {
            "gridcolor": "white",
            "linecolor": "white",
            "ticks": ""
           },
           "bgcolor": "#E5ECF6",
           "radialaxis": {
            "gridcolor": "white",
            "linecolor": "white",
            "ticks": ""
           }
          },
          "scene": {
           "xaxis": {
            "backgroundcolor": "#E5ECF6",
            "gridcolor": "white",
            "gridwidth": 2,
            "linecolor": "white",
            "showbackground": true,
            "ticks": "",
            "zerolinecolor": "white"
           },
           "yaxis": {
            "backgroundcolor": "#E5ECF6",
            "gridcolor": "white",
            "gridwidth": 2,
            "linecolor": "white",
            "showbackground": true,
            "ticks": "",
            "zerolinecolor": "white"
           },
           "zaxis": {
            "backgroundcolor": "#E5ECF6",
            "gridcolor": "white",
            "gridwidth": 2,
            "linecolor": "white",
            "showbackground": true,
            "ticks": "",
            "zerolinecolor": "white"
           }
          },
          "shapedefaults": {
           "line": {
            "color": "#2a3f5f"
           }
          },
          "ternary": {
           "aaxis": {
            "gridcolor": "white",
            "linecolor": "white",
            "ticks": ""
           },
           "baxis": {
            "gridcolor": "white",
            "linecolor": "white",
            "ticks": ""
           },
           "bgcolor": "#E5ECF6",
           "caxis": {
            "gridcolor": "white",
            "linecolor": "white",
            "ticks": ""
           }
          },
          "title": {
           "x": 0.05
          },
          "xaxis": {
           "automargin": true,
           "gridcolor": "white",
           "linecolor": "white",
           "ticks": "",
           "title": {
            "standoff": 15
           },
           "zerolinecolor": "white",
           "zerolinewidth": 2
          },
          "yaxis": {
           "automargin": true,
           "gridcolor": "white",
           "linecolor": "white",
           "ticks": "",
           "title": {
            "standoff": 15
           },
           "zerolinecolor": "white",
           "zerolinewidth": 2
          }
         }
        },
        "title": {
         "text": "4-Atom Configuration: -6.0000J"
        },
        "width": 600
       }
      }
     },
     "metadata": {},
     "output_type": "display_data"
    },
    {
     "data": {
      "application/vnd.plotly.v1+json": {
       "config": {
        "plotlyServerURL": "https://plot.ly"
       },
       "data": [
        {
         "hoverinfo": "text",
         "hovertext": "Length: 9.98e-01, Contributes -1.00e+00J",
         "line": {
          "color": "rgb(173, 216, 230, 0.4)",
          "width": 8
         },
         "mode": "lines",
         "showlegend": false,
         "type": "scatter3d",
         "x": [
          0,
          -0.7553121418176663
         ],
         "y": [
          0,
          0.4546134248081649
         ],
         "z": [
          0,
          -0.4675999791086943
         ]
        },
        {
         "hoverinfo": "text",
         "hovertext": "Length: 9.98e-01, Contributes -1.00e+00J",
         "line": {
          "color": "rgb(173, 216, 230, 0.4)",
          "width": 8
         },
         "mode": "lines",
         "showlegend": false,
         "type": "scatter3d",
         "x": [
          0,
          -0.4552037411594667
         ],
         "y": [
          0,
          -0.4539221491602531
         ],
         "z": [
          0,
          -0.7632567141742466
         ]
        },
        {
         "hoverinfo": "text",
         "hovertext": "Length: 9.98e-01, Contributes -1.00e+00J",
         "line": {
          "color": "rgb(173, 216, 230, 0.4)",
          "width": 8
         },
         "mode": "lines",
         "showlegend": false,
         "type": "scatter3d",
         "x": [
          0,
          0.12709265207554787
         ],
         "y": [
          0,
          0.34399934876087196
         ],
         "z": [
          0,
          -0.9280759586877754
         ]
        },
        {
         "hoverinfo": "text",
         "hovertext": "Length: 1.63e+00, Contributes -1.05e-01J",
         "line": {
          "color": "rgb(173, 216, 230, 0.4)",
          "width": 8
         },
         "mode": "lines",
         "showlegend": false,
         "type": "scatter3d",
         "x": [
          0,
          -0.7222790240694792
         ],
         "y": [
          0,
          0.22978884328517832
         ],
         "z": [
          0,
          -1.4392929949034268
         ]
        },
        {
         "hoverinfo": "text",
         "hovertext": "Length: 1.00e+00, Contributes -1.00e+00J",
         "line": {
          "color": "rgb(173, 216, 230, 0.4)",
          "width": 8
         },
         "mode": "lines",
         "showlegend": false,
         "type": "scatter3d",
         "x": [
          -0.7553121418176663,
          -0.4552037411594667
         ],
         "y": [
          0.4546134248081649,
          -0.4539221491602531
         ],
         "z": [
          -0.4675999791086943,
          -0.7632567141742466
         ]
        },
        {
         "hoverinfo": "text",
         "hovertext": "Length: 1.00e+00, Contributes -1.00e+00J",
         "line": {
          "color": "rgb(173, 216, 230, 0.4)",
          "width": 8
         },
         "mode": "lines",
         "showlegend": false,
         "type": "scatter3d",
         "x": [
          -0.7553121418176663,
          0.12709265207554787
         ],
         "y": [
          0.4546134248081649,
          0.34399934876087196
         ],
         "z": [
          -0.4675999791086943,
          -0.9280759586877754
         ]
        },
        {
         "hoverinfo": "text",
         "hovertext": "Length: 9.98e-01, Contributes -1.00e+00J",
         "line": {
          "color": "rgb(173, 216, 230, 0.4)",
          "width": 8
         },
         "mode": "lines",
         "showlegend": false,
         "type": "scatter3d",
         "x": [
          -0.7553121418176663,
          -0.7222790240694792
         ],
         "y": [
          0.4546134248081649,
          0.22978884328517832
         ],
         "z": [
          -0.4675999791086943,
          -1.4392929949034268
         ]
        },
        {
         "hoverinfo": "text",
         "hovertext": "Length: 1.00e+00, Contributes -1.00e+00J",
         "line": {
          "color": "rgb(173, 216, 230, 0.4)",
          "width": 8
         },
         "mode": "lines",
         "showlegend": false,
         "type": "scatter3d",
         "x": [
          -0.4552037411594667,
          0.12709265207554787
         ],
         "y": [
          -0.4539221491602531,
          0.34399934876087196
         ],
         "z": [
          -0.7632567141742466,
          -0.9280759586877754
         ]
        },
        {
         "hoverinfo": "text",
         "hovertext": "Length: 9.98e-01, Contributes -1.00e+00J",
         "line": {
          "color": "rgb(173, 216, 230, 0.4)",
          "width": 8
         },
         "mode": "lines",
         "showlegend": false,
         "type": "scatter3d",
         "x": [
          -0.4552037411594667,
          -0.7222790240694792
         ],
         "y": [
          -0.4539221491602531,
          0.22978884328517832
         ],
         "z": [
          -0.7632567141742466,
          -1.4392929949034268
         ]
        },
        {
         "hoverinfo": "text",
         "hovertext": "Length: 9.98e-01, Contributes -1.00e+00J",
         "line": {
          "color": "rgb(173, 216, 230, 0.4)",
          "width": 8
         },
         "mode": "lines",
         "showlegend": false,
         "type": "scatter3d",
         "x": [
          0.12709265207554787,
          -0.7222790240694792
         ],
         "y": [
          0.34399934876087196,
          0.22978884328517832
         ],
         "z": [
          -0.9280759586877754,
          -1.4392929949034268
         ]
        },
        {
         "hovertext": [
          "Point 1",
          "Point 2",
          "Point 3",
          "Point 4",
          "Point 5"
         ],
         "marker": {
          "color": "red",
          "size": 8
         },
         "mode": "markers",
         "showlegend": false,
         "type": "scatter3d",
         "x": {
          "bdata": "AAAAAAAAAABqHWxehCvovxj+Ut8OIt2/LPoccJJEwD8A417m6Bznvw==",
          "dtype": "f8"
         },
         "y": {
          "bdata": "AAAAAAAAAABy6ffnYhjdP0qxZHwPDd2/0Xwx2BUE1j8ToHKHuGnNPw==",
          "dtype": "f8"
         },
         "z": {
          "bdata": "AAAAAAAAAAC9dHh2KO3dv/yVOliZbOi/KpJYWsyy7b/GjWcXWAf3vw==",
          "dtype": "f8"
         }
        }
       ],
       "layout": {
        "height": 400,
        "paper_bgcolor": "rgba(0,0,0,0)",
        "plot_bgcolor": "rgba(0,0,0,0)",
        "scene": {
         "xaxis": {
          "showgrid": false,
          "showticklabels": false,
          "title": {
           "text": ""
          },
          "visible": false,
          "zeroline": false
         },
         "yaxis": {
          "showgrid": false,
          "showticklabels": false,
          "title": {
           "text": ""
          },
          "visible": false,
          "zeroline": false
         },
         "zaxis": {
          "showgrid": false,
          "showticklabels": false,
          "title": {
           "text": ""
          },
          "visible": false,
          "zeroline": false
         }
        },
        "template": {
         "data": {
          "bar": [
           {
            "error_x": {
             "color": "#2a3f5f"
            },
            "error_y": {
             "color": "#2a3f5f"
            },
            "marker": {
             "line": {
              "color": "#E5ECF6",
              "width": 0.5
             },
             "pattern": {
              "fillmode": "overlay",
              "size": 10,
              "solidity": 0.2
             }
            },
            "type": "bar"
           }
          ],
          "barpolar": [
           {
            "marker": {
             "line": {
              "color": "#E5ECF6",
              "width": 0.5
             },
             "pattern": {
              "fillmode": "overlay",
              "size": 10,
              "solidity": 0.2
             }
            },
            "type": "barpolar"
           }
          ],
          "carpet": [
           {
            "aaxis": {
             "endlinecolor": "#2a3f5f",
             "gridcolor": "white",
             "linecolor": "white",
             "minorgridcolor": "white",
             "startlinecolor": "#2a3f5f"
            },
            "baxis": {
             "endlinecolor": "#2a3f5f",
             "gridcolor": "white",
             "linecolor": "white",
             "minorgridcolor": "white",
             "startlinecolor": "#2a3f5f"
            },
            "type": "carpet"
           }
          ],
          "choropleth": [
           {
            "colorbar": {
             "outlinewidth": 0,
             "ticks": ""
            },
            "type": "choropleth"
           }
          ],
          "contour": [
           {
            "colorbar": {
             "outlinewidth": 0,
             "ticks": ""
            },
            "colorscale": [
             [
              0,
              "#0d0887"
             ],
             [
              0.1111111111111111,
              "#46039f"
             ],
             [
              0.2222222222222222,
              "#7201a8"
             ],
             [
              0.3333333333333333,
              "#9c179e"
             ],
             [
              0.4444444444444444,
              "#bd3786"
             ],
             [
              0.5555555555555556,
              "#d8576b"
             ],
             [
              0.6666666666666666,
              "#ed7953"
             ],
             [
              0.7777777777777778,
              "#fb9f3a"
             ],
             [
              0.8888888888888888,
              "#fdca26"
             ],
             [
              1,
              "#f0f921"
             ]
            ],
            "type": "contour"
           }
          ],
          "contourcarpet": [
           {
            "colorbar": {
             "outlinewidth": 0,
             "ticks": ""
            },
            "type": "contourcarpet"
           }
          ],
          "heatmap": [
           {
            "colorbar": {
             "outlinewidth": 0,
             "ticks": ""
            },
            "colorscale": [
             [
              0,
              "#0d0887"
             ],
             [
              0.1111111111111111,
              "#46039f"
             ],
             [
              0.2222222222222222,
              "#7201a8"
             ],
             [
              0.3333333333333333,
              "#9c179e"
             ],
             [
              0.4444444444444444,
              "#bd3786"
             ],
             [
              0.5555555555555556,
              "#d8576b"
             ],
             [
              0.6666666666666666,
              "#ed7953"
             ],
             [
              0.7777777777777778,
              "#fb9f3a"
             ],
             [
              0.8888888888888888,
              "#fdca26"
             ],
             [
              1,
              "#f0f921"
             ]
            ],
            "type": "heatmap"
           }
          ],
          "histogram": [
           {
            "marker": {
             "pattern": {
              "fillmode": "overlay",
              "size": 10,
              "solidity": 0.2
             }
            },
            "type": "histogram"
           }
          ],
          "histogram2d": [
           {
            "colorbar": {
             "outlinewidth": 0,
             "ticks": ""
            },
            "colorscale": [
             [
              0,
              "#0d0887"
             ],
             [
              0.1111111111111111,
              "#46039f"
             ],
             [
              0.2222222222222222,
              "#7201a8"
             ],
             [
              0.3333333333333333,
              "#9c179e"
             ],
             [
              0.4444444444444444,
              "#bd3786"
             ],
             [
              0.5555555555555556,
              "#d8576b"
             ],
             [
              0.6666666666666666,
              "#ed7953"
             ],
             [
              0.7777777777777778,
              "#fb9f3a"
             ],
             [
              0.8888888888888888,
              "#fdca26"
             ],
             [
              1,
              "#f0f921"
             ]
            ],
            "type": "histogram2d"
           }
          ],
          "histogram2dcontour": [
           {
            "colorbar": {
             "outlinewidth": 0,
             "ticks": ""
            },
            "colorscale": [
             [
              0,
              "#0d0887"
             ],
             [
              0.1111111111111111,
              "#46039f"
             ],
             [
              0.2222222222222222,
              "#7201a8"
             ],
             [
              0.3333333333333333,
              "#9c179e"
             ],
             [
              0.4444444444444444,
              "#bd3786"
             ],
             [
              0.5555555555555556,
              "#d8576b"
             ],
             [
              0.6666666666666666,
              "#ed7953"
             ],
             [
              0.7777777777777778,
              "#fb9f3a"
             ],
             [
              0.8888888888888888,
              "#fdca26"
             ],
             [
              1,
              "#f0f921"
             ]
            ],
            "type": "histogram2dcontour"
           }
          ],
          "mesh3d": [
           {
            "colorbar": {
             "outlinewidth": 0,
             "ticks": ""
            },
            "type": "mesh3d"
           }
          ],
          "parcoords": [
           {
            "line": {
             "colorbar": {
              "outlinewidth": 0,
              "ticks": ""
             }
            },
            "type": "parcoords"
           }
          ],
          "pie": [
           {
            "automargin": true,
            "type": "pie"
           }
          ],
          "scatter": [
           {
            "fillpattern": {
             "fillmode": "overlay",
             "size": 10,
             "solidity": 0.2
            },
            "type": "scatter"
           }
          ],
          "scatter3d": [
           {
            "line": {
             "colorbar": {
              "outlinewidth": 0,
              "ticks": ""
             }
            },
            "marker": {
             "colorbar": {
              "outlinewidth": 0,
              "ticks": ""
             }
            },
            "type": "scatter3d"
           }
          ],
          "scattercarpet": [
           {
            "marker": {
             "colorbar": {
              "outlinewidth": 0,
              "ticks": ""
             }
            },
            "type": "scattercarpet"
           }
          ],
          "scattergeo": [
           {
            "marker": {
             "colorbar": {
              "outlinewidth": 0,
              "ticks": ""
             }
            },
            "type": "scattergeo"
           }
          ],
          "scattergl": [
           {
            "marker": {
             "colorbar": {
              "outlinewidth": 0,
              "ticks": ""
             }
            },
            "type": "scattergl"
           }
          ],
          "scattermap": [
           {
            "marker": {
             "colorbar": {
              "outlinewidth": 0,
              "ticks": ""
             }
            },
            "type": "scattermap"
           }
          ],
          "scattermapbox": [
           {
            "marker": {
             "colorbar": {
              "outlinewidth": 0,
              "ticks": ""
             }
            },
            "type": "scattermapbox"
           }
          ],
          "scatterpolar": [
           {
            "marker": {
             "colorbar": {
              "outlinewidth": 0,
              "ticks": ""
             }
            },
            "type": "scatterpolar"
           }
          ],
          "scatterpolargl": [
           {
            "marker": {
             "colorbar": {
              "outlinewidth": 0,
              "ticks": ""
             }
            },
            "type": "scatterpolargl"
           }
          ],
          "scatterternary": [
           {
            "marker": {
             "colorbar": {
              "outlinewidth": 0,
              "ticks": ""
             }
            },
            "type": "scatterternary"
           }
          ],
          "surface": [
           {
            "colorbar": {
             "outlinewidth": 0,
             "ticks": ""
            },
            "colorscale": [
             [
              0,
              "#0d0887"
             ],
             [
              0.1111111111111111,
              "#46039f"
             ],
             [
              0.2222222222222222,
              "#7201a8"
             ],
             [
              0.3333333333333333,
              "#9c179e"
             ],
             [
              0.4444444444444444,
              "#bd3786"
             ],
             [
              0.5555555555555556,
              "#d8576b"
             ],
             [
              0.6666666666666666,
              "#ed7953"
             ],
             [
              0.7777777777777778,
              "#fb9f3a"
             ],
             [
              0.8888888888888888,
              "#fdca26"
             ],
             [
              1,
              "#f0f921"
             ]
            ],
            "type": "surface"
           }
          ],
          "table": [
           {
            "cells": {
             "fill": {
              "color": "#EBF0F8"
             },
             "line": {
              "color": "white"
             }
            },
            "header": {
             "fill": {
              "color": "#C8D4E3"
             },
             "line": {
              "color": "white"
             }
            },
            "type": "table"
           }
          ]
         },
         "layout": {
          "annotationdefaults": {
           "arrowcolor": "#2a3f5f",
           "arrowhead": 0,
           "arrowwidth": 1
          },
          "autotypenumbers": "strict",
          "coloraxis": {
           "colorbar": {
            "outlinewidth": 0,
            "ticks": ""
           }
          },
          "colorscale": {
           "diverging": [
            [
             0,
             "#8e0152"
            ],
            [
             0.1,
             "#c51b7d"
            ],
            [
             0.2,
             "#de77ae"
            ],
            [
             0.3,
             "#f1b6da"
            ],
            [
             0.4,
             "#fde0ef"
            ],
            [
             0.5,
             "#f7f7f7"
            ],
            [
             0.6,
             "#e6f5d0"
            ],
            [
             0.7,
             "#b8e186"
            ],
            [
             0.8,
             "#7fbc41"
            ],
            [
             0.9,
             "#4d9221"
            ],
            [
             1,
             "#276419"
            ]
           ],
           "sequential": [
            [
             0,
             "#0d0887"
            ],
            [
             0.1111111111111111,
             "#46039f"
            ],
            [
             0.2222222222222222,
             "#7201a8"
            ],
            [
             0.3333333333333333,
             "#9c179e"
            ],
            [
             0.4444444444444444,
             "#bd3786"
            ],
            [
             0.5555555555555556,
             "#d8576b"
            ],
            [
             0.6666666666666666,
             "#ed7953"
            ],
            [
             0.7777777777777778,
             "#fb9f3a"
            ],
            [
             0.8888888888888888,
             "#fdca26"
            ],
            [
             1,
             "#f0f921"
            ]
           ],
           "sequentialminus": [
            [
             0,
             "#0d0887"
            ],
            [
             0.1111111111111111,
             "#46039f"
            ],
            [
             0.2222222222222222,
             "#7201a8"
            ],
            [
             0.3333333333333333,
             "#9c179e"
            ],
            [
             0.4444444444444444,
             "#bd3786"
            ],
            [
             0.5555555555555556,
             "#d8576b"
            ],
            [
             0.6666666666666666,
             "#ed7953"
            ],
            [
             0.7777777777777778,
             "#fb9f3a"
            ],
            [
             0.8888888888888888,
             "#fdca26"
            ],
            [
             1,
             "#f0f921"
            ]
           ]
          },
          "colorway": [
           "#636efa",
           "#EF553B",
           "#00cc96",
           "#ab63fa",
           "#FFA15A",
           "#19d3f3",
           "#FF6692",
           "#B6E880",
           "#FF97FF",
           "#FECB52"
          ],
          "font": {
           "color": "#2a3f5f"
          },
          "geo": {
           "bgcolor": "white",
           "lakecolor": "white",
           "landcolor": "#E5ECF6",
           "showlakes": true,
           "showland": true,
           "subunitcolor": "white"
          },
          "hoverlabel": {
           "align": "left"
          },
          "hovermode": "closest",
          "mapbox": {
           "style": "light"
          },
          "paper_bgcolor": "white",
          "plot_bgcolor": "#E5ECF6",
          "polar": {
           "angularaxis": {
            "gridcolor": "white",
            "linecolor": "white",
            "ticks": ""
           },
           "bgcolor": "#E5ECF6",
           "radialaxis": {
            "gridcolor": "white",
            "linecolor": "white",
            "ticks": ""
           }
          },
          "scene": {
           "xaxis": {
            "backgroundcolor": "#E5ECF6",
            "gridcolor": "white",
            "gridwidth": 2,
            "linecolor": "white",
            "showbackground": true,
            "ticks": "",
            "zerolinecolor": "white"
           },
           "yaxis": {
            "backgroundcolor": "#E5ECF6",
            "gridcolor": "white",
            "gridwidth": 2,
            "linecolor": "white",
            "showbackground": true,
            "ticks": "",
            "zerolinecolor": "white"
           },
           "zaxis": {
            "backgroundcolor": "#E5ECF6",
            "gridcolor": "white",
            "gridwidth": 2,
            "linecolor": "white",
            "showbackground": true,
            "ticks": "",
            "zerolinecolor": "white"
           }
          },
          "shapedefaults": {
           "line": {
            "color": "#2a3f5f"
           }
          },
          "ternary": {
           "aaxis": {
            "gridcolor": "white",
            "linecolor": "white",
            "ticks": ""
           },
           "baxis": {
            "gridcolor": "white",
            "linecolor": "white",
            "ticks": ""
           },
           "bgcolor": "#E5ECF6",
           "caxis": {
            "gridcolor": "white",
            "linecolor": "white",
            "ticks": ""
           }
          },
          "title": {
           "x": 0.05
          },
          "xaxis": {
           "automargin": true,
           "gridcolor": "white",
           "linecolor": "white",
           "ticks": "",
           "title": {
            "standoff": 15
           },
           "zerolinecolor": "white",
           "zerolinewidth": 2
          },
          "yaxis": {
           "automargin": true,
           "gridcolor": "white",
           "linecolor": "white",
           "ticks": "",
           "title": {
            "standoff": 15
           },
           "zerolinecolor": "white",
           "zerolinewidth": 2
          }
         }
        },
        "title": {
         "text": "5-Atom Configuration: -9.1039J"
        },
        "width": 600
       }
      }
     },
     "metadata": {},
     "output_type": "display_data"
    },
    {
     "data": {
      "application/vnd.plotly.v1+json": {
       "config": {
        "plotlyServerURL": "https://plot.ly"
       },
       "data": [
        {
         "hoverinfo": "text",
         "hovertext": "Length: 1.00e+00, Contributes -1.00e+00J",
         "line": {
          "color": "rgb(173, 216, 230, 0.4)",
          "width": 8
         },
         "mode": "lines",
         "showlegend": false,
         "type": "scatter3d",
         "x": [
          0,
          -0.9394864364544656
         ],
         "y": [
          0,
          0.2774465291697808
         ],
         "z": [
          0,
          -0.19885187353918166
         ]
        },
        {
         "hoverinfo": "text",
         "hovertext": "Length: 9.95e-01, Contributes -9.99e-01J",
         "line": {
          "color": "rgb(173, 216, 230, 0.4)",
          "width": 8
         },
         "mode": "lines",
         "showlegend": false,
         "type": "scatter3d",
         "x": [
          0,
          -0.5522248349382577
         ],
         "y": [
          0,
          -0.5341581706818336
         ],
         "z": [
          0,
          -0.632007313318171
         ]
        },
        {
         "hoverinfo": "text",
         "hovertext": "Length: 9.95e-01, Contributes -9.99e-01J",
         "line": {
          "color": "rgb(173, 216, 230, 0.4)",
          "width": 8
         },
         "mode": "lines",
         "showlegend": false,
         "type": "scatter3d",
         "x": [
          0,
          -0.22650080877068884
         ],
         "y": [
          0,
          0.38455206878245884
         ],
         "z": [
          0,
          -0.8891207355730923
         ]
        },
        {
         "hoverinfo": "text",
         "hovertext": "Length: 1.62e+00, Contributes -1.06e-01J",
         "line": {
          "color": "rgb(173, 216, 230, 0.4)",
          "width": 8
         },
         "mode": "lines",
         "showlegend": false,
         "type": "scatter3d",
         "x": [
          0,
          -1.138842381178427
         ],
         "y": [
          0,
          0.08020889523253882
         ],
         "z": [
          0,
          -1.15614963057993
         ]
        },
        {
         "hoverinfo": "text",
         "hovertext": "Length: 1.64e+00, Contributes -9.84e-02J",
         "line": {
          "color": "rgb(173, 216, 230, 0.4)",
          "width": 8
         },
         "mode": "lines",
         "showlegend": false,
         "type": "scatter3d",
         "x": [
          0,
          -0.3287471176426845
         ],
         "y": [
          0,
          -0.3252465844539413
         ],
         "z": [
          0,
          -1.5786452189385383
         ]
        },
        {
         "hoverinfo": "text",
         "hovertext": "Length: 9.98e-01, Contributes -1.00e+00J",
         "line": {
          "color": "rgb(173, 216, 230, 0.4)",
          "width": 8
         },
         "mode": "lines",
         "showlegend": false,
         "type": "scatter3d",
         "x": [
          -0.9394864364544656,
          -0.5522248349382577
         ],
         "y": [
          0.2774465291697808,
          -0.5341581706818336
         ],
         "z": [
          -0.19885187353918166,
          -0.632007313318171
         ]
        },
        {
         "hoverinfo": "text",
         "hovertext": "Length: 9.98e-01, Contributes -1.00e+00J",
         "line": {
          "color": "rgb(173, 216, 230, 0.4)",
          "width": 8
         },
         "mode": "lines",
         "showlegend": false,
         "type": "scatter3d",
         "x": [
          -0.9394864364544656,
          -0.22650080877068884
         ],
         "y": [
          0.2774465291697808,
          0.38455206878245884
         ],
         "z": [
          -0.19885187353918166,
          -0.8891207355730923
         ]
        },
        {
         "hoverinfo": "text",
         "hovertext": "Length: 9.98e-01, Contributes -1.00e+00J",
         "line": {
          "color": "rgb(173, 216, 230, 0.4)",
          "width": 8
         },
         "mode": "lines",
         "showlegend": false,
         "type": "scatter3d",
         "x": [
          -0.9394864364544656,
          -1.138842381178427
         ],
         "y": [
          0.2774465291697808,
          0.08020889523253882
         ],
         "z": [
          -0.19885187353918166,
          -1.15614963057993
         ]
        },
        {
         "hoverinfo": "text",
         "hovertext": "Length: 1.62e+00, Contributes -1.06e-01J",
         "line": {
          "color": "rgb(173, 216, 230, 0.4)",
          "width": 8
         },
         "mode": "lines",
         "showlegend": false,
         "type": "scatter3d",
         "x": [
          -0.9394864364544656,
          -0.3287471176426845
         ],
         "y": [
          0.2774465291697808,
          -0.3252465844539413
         ],
         "z": [
          -0.19885187353918166,
          -1.5786452189385383
         ]
        },
        {
         "hoverinfo": "text",
         "hovertext": "Length: 1.01e+00, Contributes -9.98e-01J",
         "line": {
          "color": "rgb(173, 216, 230, 0.4)",
          "width": 8
         },
         "mode": "lines",
         "showlegend": false,
         "type": "scatter3d",
         "x": [
          -0.5522248349382577,
          -0.22650080877068884
         ],
         "y": [
          -0.5341581706818336,
          0.38455206878245884
         ],
         "z": [
          -0.632007313318171,
          -0.8891207355730923
         ]
        },
        {
         "hoverinfo": "text",
         "hovertext": "Length: 9.98e-01, Contributes -1.00e+00J",
         "line": {
          "color": "rgb(173, 216, 230, 0.4)",
          "width": 8
         },
         "mode": "lines",
         "showlegend": false,
         "type": "scatter3d",
         "x": [
          -0.5522248349382577,
          -1.138842381178427
         ],
         "y": [
          -0.5341581706818336,
          0.08020889523253882
         ],
         "z": [
          -0.632007313318171,
          -1.15614963057993
         ]
        },
        {
         "hoverinfo": "text",
         "hovertext": "Length: 9.95e-01, Contributes -9.99e-01J",
         "line": {
          "color": "rgb(173, 216, 230, 0.4)",
          "width": 8
         },
         "mode": "lines",
         "showlegend": false,
         "type": "scatter3d",
         "x": [
          -0.5522248349382577,
          -0.3287471176426845
         ],
         "y": [
          -0.5341581706818336,
          -0.3252465844539413
         ],
         "z": [
          -0.632007313318171,
          -1.5786452189385383
         ]
        },
        {
         "hoverinfo": "text",
         "hovertext": "Length: 9.98e-01, Contributes -1.00e+00J",
         "line": {
          "color": "rgb(173, 216, 230, 0.4)",
          "width": 8
         },
         "mode": "lines",
         "showlegend": false,
         "type": "scatter3d",
         "x": [
          -0.22650080877068884,
          -1.138842381178427
         ],
         "y": [
          0.38455206878245884,
          0.08020889523253882
         ],
         "z": [
          -0.8891207355730923,
          -1.15614963057993
         ]
        },
        {
         "hoverinfo": "text",
         "hovertext": "Length: 9.95e-01, Contributes -9.99e-01J",
         "line": {
          "color": "rgb(173, 216, 230, 0.4)",
          "width": 8
         },
         "mode": "lines",
         "showlegend": false,
         "type": "scatter3d",
         "x": [
          -0.22650080877068884,
          -0.3287471176426845
         ],
         "y": [
          0.38455206878245884,
          -0.3252465844539413
         ],
         "z": [
          -0.8891207355730923,
          -1.5786452189385383
         ]
        },
        {
         "hoverinfo": "text",
         "hovertext": "Length: 1.00e+00, Contributes -1.00e+00J",
         "line": {
          "color": "rgb(173, 216, 230, 0.4)",
          "width": 8
         },
         "mode": "lines",
         "showlegend": false,
         "type": "scatter3d",
         "x": [
          -1.138842381178427,
          -0.3287471176426845
         ],
         "y": [
          0.08020889523253882,
          -0.3252465844539413
         ],
         "z": [
          -1.15614963057993,
          -1.5786452189385383
         ]
        },
        {
         "hovertext": [
          "Point 1",
          "Point 2",
          "Point 3",
          "Point 4",
          "Point 5",
          "Point 6"
         ],
         "marker": {
          "color": "red",
          "size": 8
         },
         "mode": "markers",
         "showlegend": false,
         "type": "scatter3d",
         "x": {
          "bdata": "AAAAAAAAAAC9cPPbRRDuv34pw2rTq+G/MgUYf/r9zL+cXOfJsjjyv3p+u1kxCtW/",
          "dtype": "f8"
         },
         "y": {
          "bdata": "AAAAAAAAAAAZEUsWr8HRP3cHP+DSF+G/TOjBR4Cc2D9QPt/1kYi0P2Ji1wzX0NS/",
          "dtype": "f8"
         },
         "z": {
          "bdata": "AAAAAAAAAAC8r8xq+nPJv44ZsWZnOeS/sGsvVK1z7L/1+EnBln/yv5g+NX0hQvm/",
          "dtype": "f8"
         }
        }
       ],
       "layout": {
        "height": 400,
        "paper_bgcolor": "rgba(0,0,0,0)",
        "plot_bgcolor": "rgba(0,0,0,0)",
        "scene": {
         "xaxis": {
          "showgrid": false,
          "showticklabels": false,
          "title": {
           "text": ""
          },
          "visible": false,
          "zeroline": false
         },
         "yaxis": {
          "showgrid": false,
          "showticklabels": false,
          "title": {
           "text": ""
          },
          "visible": false,
          "zeroline": false
         },
         "zaxis": {
          "showgrid": false,
          "showticklabels": false,
          "title": {
           "text": ""
          },
          "visible": false,
          "zeroline": false
         }
        },
        "template": {
         "data": {
          "bar": [
           {
            "error_x": {
             "color": "#2a3f5f"
            },
            "error_y": {
             "color": "#2a3f5f"
            },
            "marker": {
             "line": {
              "color": "#E5ECF6",
              "width": 0.5
             },
             "pattern": {
              "fillmode": "overlay",
              "size": 10,
              "solidity": 0.2
             }
            },
            "type": "bar"
           }
          ],
          "barpolar": [
           {
            "marker": {
             "line": {
              "color": "#E5ECF6",
              "width": 0.5
             },
             "pattern": {
              "fillmode": "overlay",
              "size": 10,
              "solidity": 0.2
             }
            },
            "type": "barpolar"
           }
          ],
          "carpet": [
           {
            "aaxis": {
             "endlinecolor": "#2a3f5f",
             "gridcolor": "white",
             "linecolor": "white",
             "minorgridcolor": "white",
             "startlinecolor": "#2a3f5f"
            },
            "baxis": {
             "endlinecolor": "#2a3f5f",
             "gridcolor": "white",
             "linecolor": "white",
             "minorgridcolor": "white",
             "startlinecolor": "#2a3f5f"
            },
            "type": "carpet"
           }
          ],
          "choropleth": [
           {
            "colorbar": {
             "outlinewidth": 0,
             "ticks": ""
            },
            "type": "choropleth"
           }
          ],
          "contour": [
           {
            "colorbar": {
             "outlinewidth": 0,
             "ticks": ""
            },
            "colorscale": [
             [
              0,
              "#0d0887"
             ],
             [
              0.1111111111111111,
              "#46039f"
             ],
             [
              0.2222222222222222,
              "#7201a8"
             ],
             [
              0.3333333333333333,
              "#9c179e"
             ],
             [
              0.4444444444444444,
              "#bd3786"
             ],
             [
              0.5555555555555556,
              "#d8576b"
             ],
             [
              0.6666666666666666,
              "#ed7953"
             ],
             [
              0.7777777777777778,
              "#fb9f3a"
             ],
             [
              0.8888888888888888,
              "#fdca26"
             ],
             [
              1,
              "#f0f921"
             ]
            ],
            "type": "contour"
           }
          ],
          "contourcarpet": [
           {
            "colorbar": {
             "outlinewidth": 0,
             "ticks": ""
            },
            "type": "contourcarpet"
           }
          ],
          "heatmap": [
           {
            "colorbar": {
             "outlinewidth": 0,
             "ticks": ""
            },
            "colorscale": [
             [
              0,
              "#0d0887"
             ],
             [
              0.1111111111111111,
              "#46039f"
             ],
             [
              0.2222222222222222,
              "#7201a8"
             ],
             [
              0.3333333333333333,
              "#9c179e"
             ],
             [
              0.4444444444444444,
              "#bd3786"
             ],
             [
              0.5555555555555556,
              "#d8576b"
             ],
             [
              0.6666666666666666,
              "#ed7953"
             ],
             [
              0.7777777777777778,
              "#fb9f3a"
             ],
             [
              0.8888888888888888,
              "#fdca26"
             ],
             [
              1,
              "#f0f921"
             ]
            ],
            "type": "heatmap"
           }
          ],
          "histogram": [
           {
            "marker": {
             "pattern": {
              "fillmode": "overlay",
              "size": 10,
              "solidity": 0.2
             }
            },
            "type": "histogram"
           }
          ],
          "histogram2d": [
           {
            "colorbar": {
             "outlinewidth": 0,
             "ticks": ""
            },
            "colorscale": [
             [
              0,
              "#0d0887"
             ],
             [
              0.1111111111111111,
              "#46039f"
             ],
             [
              0.2222222222222222,
              "#7201a8"
             ],
             [
              0.3333333333333333,
              "#9c179e"
             ],
             [
              0.4444444444444444,
              "#bd3786"
             ],
             [
              0.5555555555555556,
              "#d8576b"
             ],
             [
              0.6666666666666666,
              "#ed7953"
             ],
             [
              0.7777777777777778,
              "#fb9f3a"
             ],
             [
              0.8888888888888888,
              "#fdca26"
             ],
             [
              1,
              "#f0f921"
             ]
            ],
            "type": "histogram2d"
           }
          ],
          "histogram2dcontour": [
           {
            "colorbar": {
             "outlinewidth": 0,
             "ticks": ""
            },
            "colorscale": [
             [
              0,
              "#0d0887"
             ],
             [
              0.1111111111111111,
              "#46039f"
             ],
             [
              0.2222222222222222,
              "#7201a8"
             ],
             [
              0.3333333333333333,
              "#9c179e"
             ],
             [
              0.4444444444444444,
              "#bd3786"
             ],
             [
              0.5555555555555556,
              "#d8576b"
             ],
             [
              0.6666666666666666,
              "#ed7953"
             ],
             [
              0.7777777777777778,
              "#fb9f3a"
             ],
             [
              0.8888888888888888,
              "#fdca26"
             ],
             [
              1,
              "#f0f921"
             ]
            ],
            "type": "histogram2dcontour"
           }
          ],
          "mesh3d": [
           {
            "colorbar": {
             "outlinewidth": 0,
             "ticks": ""
            },
            "type": "mesh3d"
           }
          ],
          "parcoords": [
           {
            "line": {
             "colorbar": {
              "outlinewidth": 0,
              "ticks": ""
             }
            },
            "type": "parcoords"
           }
          ],
          "pie": [
           {
            "automargin": true,
            "type": "pie"
           }
          ],
          "scatter": [
           {
            "fillpattern": {
             "fillmode": "overlay",
             "size": 10,
             "solidity": 0.2
            },
            "type": "scatter"
           }
          ],
          "scatter3d": [
           {
            "line": {
             "colorbar": {
              "outlinewidth": 0,
              "ticks": ""
             }
            },
            "marker": {
             "colorbar": {
              "outlinewidth": 0,
              "ticks": ""
             }
            },
            "type": "scatter3d"
           }
          ],
          "scattercarpet": [
           {
            "marker": {
             "colorbar": {
              "outlinewidth": 0,
              "ticks": ""
             }
            },
            "type": "scattercarpet"
           }
          ],
          "scattergeo": [
           {
            "marker": {
             "colorbar": {
              "outlinewidth": 0,
              "ticks": ""
             }
            },
            "type": "scattergeo"
           }
          ],
          "scattergl": [
           {
            "marker": {
             "colorbar": {
              "outlinewidth": 0,
              "ticks": ""
             }
            },
            "type": "scattergl"
           }
          ],
          "scattermap": [
           {
            "marker": {
             "colorbar": {
              "outlinewidth": 0,
              "ticks": ""
             }
            },
            "type": "scattermap"
           }
          ],
          "scattermapbox": [
           {
            "marker": {
             "colorbar": {
              "outlinewidth": 0,
              "ticks": ""
             }
            },
            "type": "scattermapbox"
           }
          ],
          "scatterpolar": [
           {
            "marker": {
             "colorbar": {
              "outlinewidth": 0,
              "ticks": ""
             }
            },
            "type": "scatterpolar"
           }
          ],
          "scatterpolargl": [
           {
            "marker": {
             "colorbar": {
              "outlinewidth": 0,
              "ticks": ""
             }
            },
            "type": "scatterpolargl"
           }
          ],
          "scatterternary": [
           {
            "marker": {
             "colorbar": {
              "outlinewidth": 0,
              "ticks": ""
             }
            },
            "type": "scatterternary"
           }
          ],
          "surface": [
           {
            "colorbar": {
             "outlinewidth": 0,
             "ticks": ""
            },
            "colorscale": [
             [
              0,
              "#0d0887"
             ],
             [
              0.1111111111111111,
              "#46039f"
             ],
             [
              0.2222222222222222,
              "#7201a8"
             ],
             [
              0.3333333333333333,
              "#9c179e"
             ],
             [
              0.4444444444444444,
              "#bd3786"
             ],
             [
              0.5555555555555556,
              "#d8576b"
             ],
             [
              0.6666666666666666,
              "#ed7953"
             ],
             [
              0.7777777777777778,
              "#fb9f3a"
             ],
             [
              0.8888888888888888,
              "#fdca26"
             ],
             [
              1,
              "#f0f921"
             ]
            ],
            "type": "surface"
           }
          ],
          "table": [
           {
            "cells": {
             "fill": {
              "color": "#EBF0F8"
             },
             "line": {
              "color": "white"
             }
            },
            "header": {
             "fill": {
              "color": "#C8D4E3"
             },
             "line": {
              "color": "white"
             }
            },
            "type": "table"
           }
          ]
         },
         "layout": {
          "annotationdefaults": {
           "arrowcolor": "#2a3f5f",
           "arrowhead": 0,
           "arrowwidth": 1
          },
          "autotypenumbers": "strict",
          "coloraxis": {
           "colorbar": {
            "outlinewidth": 0,
            "ticks": ""
           }
          },
          "colorscale": {
           "diverging": [
            [
             0,
             "#8e0152"
            ],
            [
             0.1,
             "#c51b7d"
            ],
            [
             0.2,
             "#de77ae"
            ],
            [
             0.3,
             "#f1b6da"
            ],
            [
             0.4,
             "#fde0ef"
            ],
            [
             0.5,
             "#f7f7f7"
            ],
            [
             0.6,
             "#e6f5d0"
            ],
            [
             0.7,
             "#b8e186"
            ],
            [
             0.8,
             "#7fbc41"
            ],
            [
             0.9,
             "#4d9221"
            ],
            [
             1,
             "#276419"
            ]
           ],
           "sequential": [
            [
             0,
             "#0d0887"
            ],
            [
             0.1111111111111111,
             "#46039f"
            ],
            [
             0.2222222222222222,
             "#7201a8"
            ],
            [
             0.3333333333333333,
             "#9c179e"
            ],
            [
             0.4444444444444444,
             "#bd3786"
            ],
            [
             0.5555555555555556,
             "#d8576b"
            ],
            [
             0.6666666666666666,
             "#ed7953"
            ],
            [
             0.7777777777777778,
             "#fb9f3a"
            ],
            [
             0.8888888888888888,
             "#fdca26"
            ],
            [
             1,
             "#f0f921"
            ]
           ],
           "sequentialminus": [
            [
             0,
             "#0d0887"
            ],
            [
             0.1111111111111111,
             "#46039f"
            ],
            [
             0.2222222222222222,
             "#7201a8"
            ],
            [
             0.3333333333333333,
             "#9c179e"
            ],
            [
             0.4444444444444444,
             "#bd3786"
            ],
            [
             0.5555555555555556,
             "#d8576b"
            ],
            [
             0.6666666666666666,
             "#ed7953"
            ],
            [
             0.7777777777777778,
             "#fb9f3a"
            ],
            [
             0.8888888888888888,
             "#fdca26"
            ],
            [
             1,
             "#f0f921"
            ]
           ]
          },
          "colorway": [
           "#636efa",
           "#EF553B",
           "#00cc96",
           "#ab63fa",
           "#FFA15A",
           "#19d3f3",
           "#FF6692",
           "#B6E880",
           "#FF97FF",
           "#FECB52"
          ],
          "font": {
           "color": "#2a3f5f"
          },
          "geo": {
           "bgcolor": "white",
           "lakecolor": "white",
           "landcolor": "#E5ECF6",
           "showlakes": true,
           "showland": true,
           "subunitcolor": "white"
          },
          "hoverlabel": {
           "align": "left"
          },
          "hovermode": "closest",
          "mapbox": {
           "style": "light"
          },
          "paper_bgcolor": "white",
          "plot_bgcolor": "#E5ECF6",
          "polar": {
           "angularaxis": {
            "gridcolor": "white",
            "linecolor": "white",
            "ticks": ""
           },
           "bgcolor": "#E5ECF6",
           "radialaxis": {
            "gridcolor": "white",
            "linecolor": "white",
            "ticks": ""
           }
          },
          "scene": {
           "xaxis": {
            "backgroundcolor": "#E5ECF6",
            "gridcolor": "white",
            "gridwidth": 2,
            "linecolor": "white",
            "showbackground": true,
            "ticks": "",
            "zerolinecolor": "white"
           },
           "yaxis": {
            "backgroundcolor": "#E5ECF6",
            "gridcolor": "white",
            "gridwidth": 2,
            "linecolor": "white",
            "showbackground": true,
            "ticks": "",
            "zerolinecolor": "white"
           },
           "zaxis": {
            "backgroundcolor": "#E5ECF6",
            "gridcolor": "white",
            "gridwidth": 2,
            "linecolor": "white",
            "showbackground": true,
            "ticks": "",
            "zerolinecolor": "white"
           }
          },
          "shapedefaults": {
           "line": {
            "color": "#2a3f5f"
           }
          },
          "ternary": {
           "aaxis": {
            "gridcolor": "white",
            "linecolor": "white",
            "ticks": ""
           },
           "baxis": {
            "gridcolor": "white",
            "linecolor": "white",
            "ticks": ""
           },
           "bgcolor": "#E5ECF6",
           "caxis": {
            "gridcolor": "white",
            "linecolor": "white",
            "ticks": ""
           }
          },
          "title": {
           "x": 0.05
          },
          "xaxis": {
           "automargin": true,
           "gridcolor": "white",
           "linecolor": "white",
           "ticks": "",
           "title": {
            "standoff": 15
           },
           "zerolinecolor": "white",
           "zerolinewidth": 2
          },
          "yaxis": {
           "automargin": true,
           "gridcolor": "white",
           "linecolor": "white",
           "ticks": "",
           "title": {
            "standoff": 15
           },
           "zerolinecolor": "white",
           "zerolinewidth": 2
          }
         }
        },
        "title": {
         "text": "6-Atom Configuration: -12.3029J"
        },
        "width": 600
       }
      }
     },
     "metadata": {},
     "output_type": "display_data"
    },
    {
     "data": {
      "application/vnd.plotly.v1+json": {
       "config": {
        "plotlyServerURL": "https://plot.ly"
       },
       "data": [
        {
         "hoverinfo": "text",
         "hovertext": "Length: 9.99e-01, Contributes -1.00e+00J",
         "line": {
          "color": "rgb(173, 216, 230, 0.4)",
          "width": 8
         },
         "mode": "lines",
         "showlegend": false,
         "type": "scatter3d",
         "x": [
          0,
          -0.972471722589831
         ],
         "y": [
          0,
          0.058114744961186036
         ],
         "z": [
          0,
          -0.2231724628443592
         ]
        },
        {
         "hoverinfo": "text",
         "hovertext": "Length: 9.95e-01, Contributes -9.99e-01J",
         "line": {
          "color": "rgb(173, 216, 230, 0.4)",
          "width": 8
         },
         "mode": "lines",
         "showlegend": false,
         "type": "scatter3d",
         "x": [
          0,
          -0.4207510213994982
         ],
         "y": [
          0,
          -0.7025602281978452
         ],
         "z": [
          0,
          -0.5647521250145161
         ]
        },
        {
         "hoverinfo": "text",
         "hovertext": "Length: 9.94e-01, Contributes -9.99e-01J",
         "line": {
          "color": "rgb(173, 216, 230, 0.4)",
          "width": 8
         },
         "mode": "lines",
         "showlegend": false,
         "type": "scatter3d",
         "x": [
          0,
          -0.2864912360056724
         ],
         "y": [
          0,
          0.22546355249476546
         ],
         "z": [
          0,
          -0.9245181183136986
         ]
        },
        {
         "hoverinfo": "text",
         "hovertext": "Length: 1.63e+00, Contributes -1.05e-01J",
         "line": {
          "color": "rgb(173, 216, 230, 0.4)",
          "width": 8
         },
         "mode": "lines",
         "showlegend": false,
         "type": "scatter3d",
         "x": [
          0,
          -1.1192971303376507
         ],
         "y": [
          0,
          -0.29191930013482015
         ],
         "z": [
          0,
          -1.1423007944715833
         ]
        },
        {
         "hoverinfo": "text",
         "hovertext": "Length: 1.65e+00, Contributes -9.70e-02J",
         "line": {
          "color": "rgb(173, 216, 230, 0.4)",
          "width": 8
         },
         "mode": "lines",
         "showlegend": false,
         "type": "scatter3d",
         "x": [
          0,
          -0.2388592315390019
         ],
         "y": [
          0,
          -0.5612945666069925
         ],
         "z": [
          0,
          -1.5321371409748004
         ]
        },
        {
         "hoverinfo": "text",
         "hovertext": "Length: 1.98e+00, Contributes -3.32e-02J",
         "line": {
          "color": "rgb(173, 216, 230, 0.4)",
          "width": 8
         },
         "mode": "lines",
         "showlegend": false,
         "type": "scatter3d",
         "x": [
          0,
          -0.6873872772261101
         ],
         "y": [
          0,
          0.27992278012935895
         ],
         "z": [
          0,
          -1.8322392357972563
         ]
        },
        {
         "hoverinfo": "text",
         "hovertext": "Length: 1.00e+00, Contributes -1.00e+00J",
         "line": {
          "color": "rgb(173, 216, 230, 0.4)",
          "width": 8
         },
         "mode": "lines",
         "showlegend": false,
         "type": "scatter3d",
         "x": [
          -0.972471722589831,
          -0.4207510213994982
         ],
         "y": [
          0.058114744961186036,
          -0.7025602281978452
         ],
         "z": [
          -0.2231724628443592,
          -0.5647521250145161
         ]
        },
        {
         "hoverinfo": "text",
         "hovertext": "Length: 9.95e-01, Contributes -9.99e-01J",
         "line": {
          "color": "rgb(173, 216, 230, 0.4)",
          "width": 8
         },
         "mode": "lines",
         "showlegend": false,
         "type": "scatter3d",
         "x": [
          -0.972471722589831,
          -0.2864912360056724
         ],
         "y": [
          0.058114744961186036,
          0.22546355249476546
         ],
         "z": [
          -0.2231724628443592,
          -0.9245181183136986
         ]
        },
        {
         "hoverinfo": "text",
         "hovertext": "Length: 9.94e-01, Contributes -9.99e-01J",
         "line": {
          "color": "rgb(173, 216, 230, 0.4)",
          "width": 8
         },
         "mode": "lines",
         "showlegend": false,
         "type": "scatter3d",
         "x": [
          -0.972471722589831,
          -1.1192971303376507
         ],
         "y": [
          0.058114744961186036,
          -0.29191930013482015
         ],
         "z": [
          -0.2231724628443592,
          -1.1423007944715833
         ]
        },
        {
         "hoverinfo": "text",
         "hovertext": "Length: 1.62e+00, Contributes -1.06e-01J",
         "line": {
          "color": "rgb(173, 216, 230, 0.4)",
          "width": 8
         },
         "mode": "lines",
         "showlegend": false,
         "type": "scatter3d",
         "x": [
          -0.972471722589831,
          -0.2388592315390019
         ],
         "y": [
          0.058114744961186036,
          -0.5612945666069925
         ],
         "z": [
          -0.2231724628443592,
          -1.5321371409748004
         ]
        },
        {
         "hoverinfo": "text",
         "hovertext": "Length: 1.65e+00, Contributes -9.70e-02J",
         "line": {
          "color": "rgb(173, 216, 230, 0.4)",
          "width": 8
         },
         "mode": "lines",
         "showlegend": false,
         "type": "scatter3d",
         "x": [
          -0.972471722589831,
          -0.6873872772261101
         ],
         "y": [
          0.058114744961186036,
          0.27992278012935895
         ],
         "z": [
          -0.2231724628443592,
          -1.8322392357972563
         ]
        },
        {
         "hoverinfo": "text",
         "hovertext": "Length: 1.00e+00, Contributes -9.99e-01J",
         "line": {
          "color": "rgb(173, 216, 230, 0.4)",
          "width": 8
         },
         "mode": "lines",
         "showlegend": false,
         "type": "scatter3d",
         "x": [
          -0.4207510213994982,
          -0.2864912360056724
         ],
         "y": [
          -0.7025602281978452,
          0.22546355249476546
         ],
         "z": [
          -0.5647521250145161,
          -0.9245181183136986
         ]
        },
        {
         "hoverinfo": "text",
         "hovertext": "Length: 9.95e-01, Contributes -9.99e-01J",
         "line": {
          "color": "rgb(173, 216, 230, 0.4)",
          "width": 8
         },
         "mode": "lines",
         "showlegend": false,
         "type": "scatter3d",
         "x": [
          -0.4207510213994982,
          -1.1192971303376507
         ],
         "y": [
          -0.7025602281978452,
          -0.29191930013482015
         ],
         "z": [
          -0.5647521250145161,
          -1.1423007944715833
         ]
        },
        {
         "hoverinfo": "text",
         "hovertext": "Length: 9.94e-01, Contributes -9.99e-01J",
         "line": {
          "color": "rgb(173, 216, 230, 0.4)",
          "width": 8
         },
         "mode": "lines",
         "showlegend": false,
         "type": "scatter3d",
         "x": [
          -0.4207510213994982,
          -0.2388592315390019
         ],
         "y": [
          -0.7025602281978452,
          -0.5612945666069925
         ],
         "z": [
          -0.5647521250145161,
          -1.5321371409748004
         ]
        },
        {
         "hoverinfo": "text",
         "hovertext": "Length: 1.63e+00, Contributes -1.05e-01J",
         "line": {
          "color": "rgb(173, 216, 230, 0.4)",
          "width": 8
         },
         "mode": "lines",
         "showlegend": false,
         "type": "scatter3d",
         "x": [
          -0.4207510213994982,
          -0.6873872772261101
         ],
         "y": [
          -0.7025602281978452,
          0.27992278012935895
         ],
         "z": [
          -0.5647521250145161,
          -1.8322392357972563
         ]
        },
        {
         "hoverinfo": "text",
         "hovertext": "Length: 1.00e+00, Contributes -9.99e-01J",
         "line": {
          "color": "rgb(173, 216, 230, 0.4)",
          "width": 8
         },
         "mode": "lines",
         "showlegend": false,
         "type": "scatter3d",
         "x": [
          -0.2864912360056724,
          -1.1192971303376507
         ],
         "y": [
          0.22546355249476546,
          -0.29191930013482015
         ],
         "z": [
          -0.9245181183136986,
          -1.1423007944715833
         ]
        },
        {
         "hoverinfo": "text",
         "hovertext": "Length: 9.95e-01, Contributes -9.99e-01J",
         "line": {
          "color": "rgb(173, 216, 230, 0.4)",
          "width": 8
         },
         "mode": "lines",
         "showlegend": false,
         "type": "scatter3d",
         "x": [
          -0.2864912360056724,
          -0.2388592315390019
         ],
         "y": [
          0.22546355249476546,
          -0.5612945666069925
         ],
         "z": [
          -0.9245181183136986,
          -1.5321371409748004
         ]
        },
        {
         "hoverinfo": "text",
         "hovertext": "Length: 9.94e-01, Contributes -9.99e-01J",
         "line": {
          "color": "rgb(173, 216, 230, 0.4)",
          "width": 8
         },
         "mode": "lines",
         "showlegend": false,
         "type": "scatter3d",
         "x": [
          -0.2864912360056724,
          -0.6873872772261101
         ],
         "y": [
          0.22546355249476546,
          0.27992278012935895
         ],
         "z": [
          -0.9245181183136986,
          -1.8322392357972563
         ]
        },
        {
         "hoverinfo": "text",
         "hovertext": "Length: 1.00e+00, Contributes -1.00e+00J",
         "line": {
          "color": "rgb(173, 216, 230, 0.4)",
          "width": 8
         },
         "mode": "lines",
         "showlegend": false,
         "type": "scatter3d",
         "x": [
          -1.1192971303376507,
          -0.2388592315390019
         ],
         "y": [
          -0.29191930013482015,
          -0.5612945666069925
         ],
         "z": [
          -1.1423007944715833,
          -1.5321371409748004
         ]
        },
        {
         "hoverinfo": "text",
         "hovertext": "Length: 9.95e-01, Contributes -9.99e-01J",
         "line": {
          "color": "rgb(173, 216, 230, 0.4)",
          "width": 8
         },
         "mode": "lines",
         "showlegend": false,
         "type": "scatter3d",
         "x": [
          -1.1192971303376507,
          -0.6873872772261101
         ],
         "y": [
          -0.29191930013482015,
          0.27992278012935895
         ],
         "z": [
          -1.1423007944715833,
          -1.8322392357972563
         ]
        },
        {
         "hoverinfo": "text",
         "hovertext": "Length: 9.99e-01, Contributes -1.00e+00J",
         "line": {
          "color": "rgb(173, 216, 230, 0.4)",
          "width": 8
         },
         "mode": "lines",
         "showlegend": false,
         "type": "scatter3d",
         "x": [
          -0.2388592315390019,
          -0.6873872772261101
         ],
         "y": [
          -0.5612945666069925,
          0.27992278012935895
         ],
         "z": [
          -1.5321371409748004,
          -1.8322392357972563
         ]
        },
        {
         "hovertext": [
          "Point 1",
          "Point 2",
          "Point 3",
          "Point 4",
          "Point 5",
          "Point 6",
          "Point 7"
         ],
         "marker": {
          "color": "red",
          "size": 8
         },
         "mode": "markers",
         "showlegend": false,
         "type": "scatter3d",
         "x": {
          "bdata": "AAAAAAAAAAAG3JkEfR7vvx/YKrGV7dq/7AlPVt9V0r/l6JQbpOjxv+Bi53Xwks6/k+xrmhP/5b8=",
          "dtype": "f8"
         },
         "y": {
          "bdata": "AAAAAAAAAAAbHwxCN8GtP7WPcpZfe+a/8NYzXP3bzD/gnclJzq7Svx/83wUg9uG/WeeDPEHq0T8=",
          "dtype": "f8"
         },
         "z": {
          "bdata": "AAAAAAAAAADgY6RO6pDMv00VaQxzEuK/+u9WBaeV7b9MNKcy3Ubyv1CUFzyig/i/7ifDFtpQ/b8=",
          "dtype": "f8"
         }
        }
       ],
       "layout": {
        "height": 400,
        "paper_bgcolor": "rgba(0,0,0,0)",
        "plot_bgcolor": "rgba(0,0,0,0)",
        "scene": {
         "xaxis": {
          "showgrid": false,
          "showticklabels": false,
          "title": {
           "text": ""
          },
          "visible": false,
          "zeroline": false
         },
         "yaxis": {
          "showgrid": false,
          "showticklabels": false,
          "title": {
           "text": ""
          },
          "visible": false,
          "zeroline": false
         },
         "zaxis": {
          "showgrid": false,
          "showticklabels": false,
          "title": {
           "text": ""
          },
          "visible": false,
          "zeroline": false
         }
        },
        "template": {
         "data": {
          "bar": [
           {
            "error_x": {
             "color": "#2a3f5f"
            },
            "error_y": {
             "color": "#2a3f5f"
            },
            "marker": {
             "line": {
              "color": "#E5ECF6",
              "width": 0.5
             },
             "pattern": {
              "fillmode": "overlay",
              "size": 10,
              "solidity": 0.2
             }
            },
            "type": "bar"
           }
          ],
          "barpolar": [
           {
            "marker": {
             "line": {
              "color": "#E5ECF6",
              "width": 0.5
             },
             "pattern": {
              "fillmode": "overlay",
              "size": 10,
              "solidity": 0.2
             }
            },
            "type": "barpolar"
           }
          ],
          "carpet": [
           {
            "aaxis": {
             "endlinecolor": "#2a3f5f",
             "gridcolor": "white",
             "linecolor": "white",
             "minorgridcolor": "white",
             "startlinecolor": "#2a3f5f"
            },
            "baxis": {
             "endlinecolor": "#2a3f5f",
             "gridcolor": "white",
             "linecolor": "white",
             "minorgridcolor": "white",
             "startlinecolor": "#2a3f5f"
            },
            "type": "carpet"
           }
          ],
          "choropleth": [
           {
            "colorbar": {
             "outlinewidth": 0,
             "ticks": ""
            },
            "type": "choropleth"
           }
          ],
          "contour": [
           {
            "colorbar": {
             "outlinewidth": 0,
             "ticks": ""
            },
            "colorscale": [
             [
              0,
              "#0d0887"
             ],
             [
              0.1111111111111111,
              "#46039f"
             ],
             [
              0.2222222222222222,
              "#7201a8"
             ],
             [
              0.3333333333333333,
              "#9c179e"
             ],
             [
              0.4444444444444444,
              "#bd3786"
             ],
             [
              0.5555555555555556,
              "#d8576b"
             ],
             [
              0.6666666666666666,
              "#ed7953"
             ],
             [
              0.7777777777777778,
              "#fb9f3a"
             ],
             [
              0.8888888888888888,
              "#fdca26"
             ],
             [
              1,
              "#f0f921"
             ]
            ],
            "type": "contour"
           }
          ],
          "contourcarpet": [
           {
            "colorbar": {
             "outlinewidth": 0,
             "ticks": ""
            },
            "type": "contourcarpet"
           }
          ],
          "heatmap": [
           {
            "colorbar": {
             "outlinewidth": 0,
             "ticks": ""
            },
            "colorscale": [
             [
              0,
              "#0d0887"
             ],
             [
              0.1111111111111111,
              "#46039f"
             ],
             [
              0.2222222222222222,
              "#7201a8"
             ],
             [
              0.3333333333333333,
              "#9c179e"
             ],
             [
              0.4444444444444444,
              "#bd3786"
             ],
             [
              0.5555555555555556,
              "#d8576b"
             ],
             [
              0.6666666666666666,
              "#ed7953"
             ],
             [
              0.7777777777777778,
              "#fb9f3a"
             ],
             [
              0.8888888888888888,
              "#fdca26"
             ],
             [
              1,
              "#f0f921"
             ]
            ],
            "type": "heatmap"
           }
          ],
          "histogram": [
           {
            "marker": {
             "pattern": {
              "fillmode": "overlay",
              "size": 10,
              "solidity": 0.2
             }
            },
            "type": "histogram"
           }
          ],
          "histogram2d": [
           {
            "colorbar": {
             "outlinewidth": 0,
             "ticks": ""
            },
            "colorscale": [
             [
              0,
              "#0d0887"
             ],
             [
              0.1111111111111111,
              "#46039f"
             ],
             [
              0.2222222222222222,
              "#7201a8"
             ],
             [
              0.3333333333333333,
              "#9c179e"
             ],
             [
              0.4444444444444444,
              "#bd3786"
             ],
             [
              0.5555555555555556,
              "#d8576b"
             ],
             [
              0.6666666666666666,
              "#ed7953"
             ],
             [
              0.7777777777777778,
              "#fb9f3a"
             ],
             [
              0.8888888888888888,
              "#fdca26"
             ],
             [
              1,
              "#f0f921"
             ]
            ],
            "type": "histogram2d"
           }
          ],
          "histogram2dcontour": [
           {
            "colorbar": {
             "outlinewidth": 0,
             "ticks": ""
            },
            "colorscale": [
             [
              0,
              "#0d0887"
             ],
             [
              0.1111111111111111,
              "#46039f"
             ],
             [
              0.2222222222222222,
              "#7201a8"
             ],
             [
              0.3333333333333333,
              "#9c179e"
             ],
             [
              0.4444444444444444,
              "#bd3786"
             ],
             [
              0.5555555555555556,
              "#d8576b"
             ],
             [
              0.6666666666666666,
              "#ed7953"
             ],
             [
              0.7777777777777778,
              "#fb9f3a"
             ],
             [
              0.8888888888888888,
              "#fdca26"
             ],
             [
              1,
              "#f0f921"
             ]
            ],
            "type": "histogram2dcontour"
           }
          ],
          "mesh3d": [
           {
            "colorbar": {
             "outlinewidth": 0,
             "ticks": ""
            },
            "type": "mesh3d"
           }
          ],
          "parcoords": [
           {
            "line": {
             "colorbar": {
              "outlinewidth": 0,
              "ticks": ""
             }
            },
            "type": "parcoords"
           }
          ],
          "pie": [
           {
            "automargin": true,
            "type": "pie"
           }
          ],
          "scatter": [
           {
            "fillpattern": {
             "fillmode": "overlay",
             "size": 10,
             "solidity": 0.2
            },
            "type": "scatter"
           }
          ],
          "scatter3d": [
           {
            "line": {
             "colorbar": {
              "outlinewidth": 0,
              "ticks": ""
             }
            },
            "marker": {
             "colorbar": {
              "outlinewidth": 0,
              "ticks": ""
             }
            },
            "type": "scatter3d"
           }
          ],
          "scattercarpet": [
           {
            "marker": {
             "colorbar": {
              "outlinewidth": 0,
              "ticks": ""
             }
            },
            "type": "scattercarpet"
           }
          ],
          "scattergeo": [
           {
            "marker": {
             "colorbar": {
              "outlinewidth": 0,
              "ticks": ""
             }
            },
            "type": "scattergeo"
           }
          ],
          "scattergl": [
           {
            "marker": {
             "colorbar": {
              "outlinewidth": 0,
              "ticks": ""
             }
            },
            "type": "scattergl"
           }
          ],
          "scattermap": [
           {
            "marker": {
             "colorbar": {
              "outlinewidth": 0,
              "ticks": ""
             }
            },
            "type": "scattermap"
           }
          ],
          "scattermapbox": [
           {
            "marker": {
             "colorbar": {
              "outlinewidth": 0,
              "ticks": ""
             }
            },
            "type": "scattermapbox"
           }
          ],
          "scatterpolar": [
           {
            "marker": {
             "colorbar": {
              "outlinewidth": 0,
              "ticks": ""
             }
            },
            "type": "scatterpolar"
           }
          ],
          "scatterpolargl": [
           {
            "marker": {
             "colorbar": {
              "outlinewidth": 0,
              "ticks": ""
             }
            },
            "type": "scatterpolargl"
           }
          ],
          "scatterternary": [
           {
            "marker": {
             "colorbar": {
              "outlinewidth": 0,
              "ticks": ""
             }
            },
            "type": "scatterternary"
           }
          ],
          "surface": [
           {
            "colorbar": {
             "outlinewidth": 0,
             "ticks": ""
            },
            "colorscale": [
             [
              0,
              "#0d0887"
             ],
             [
              0.1111111111111111,
              "#46039f"
             ],
             [
              0.2222222222222222,
              "#7201a8"
             ],
             [
              0.3333333333333333,
              "#9c179e"
             ],
             [
              0.4444444444444444,
              "#bd3786"
             ],
             [
              0.5555555555555556,
              "#d8576b"
             ],
             [
              0.6666666666666666,
              "#ed7953"
             ],
             [
              0.7777777777777778,
              "#fb9f3a"
             ],
             [
              0.8888888888888888,
              "#fdca26"
             ],
             [
              1,
              "#f0f921"
             ]
            ],
            "type": "surface"
           }
          ],
          "table": [
           {
            "cells": {
             "fill": {
              "color": "#EBF0F8"
             },
             "line": {
              "color": "white"
             }
            },
            "header": {
             "fill": {
              "color": "#C8D4E3"
             },
             "line": {
              "color": "white"
             }
            },
            "type": "table"
           }
          ]
         },
         "layout": {
          "annotationdefaults": {
           "arrowcolor": "#2a3f5f",
           "arrowhead": 0,
           "arrowwidth": 1
          },
          "autotypenumbers": "strict",
          "coloraxis": {
           "colorbar": {
            "outlinewidth": 0,
            "ticks": ""
           }
          },
          "colorscale": {
           "diverging": [
            [
             0,
             "#8e0152"
            ],
            [
             0.1,
             "#c51b7d"
            ],
            [
             0.2,
             "#de77ae"
            ],
            [
             0.3,
             "#f1b6da"
            ],
            [
             0.4,
             "#fde0ef"
            ],
            [
             0.5,
             "#f7f7f7"
            ],
            [
             0.6,
             "#e6f5d0"
            ],
            [
             0.7,
             "#b8e186"
            ],
            [
             0.8,
             "#7fbc41"
            ],
            [
             0.9,
             "#4d9221"
            ],
            [
             1,
             "#276419"
            ]
           ],
           "sequential": [
            [
             0,
             "#0d0887"
            ],
            [
             0.1111111111111111,
             "#46039f"
            ],
            [
             0.2222222222222222,
             "#7201a8"
            ],
            [
             0.3333333333333333,
             "#9c179e"
            ],
            [
             0.4444444444444444,
             "#bd3786"
            ],
            [
             0.5555555555555556,
             "#d8576b"
            ],
            [
             0.6666666666666666,
             "#ed7953"
            ],
            [
             0.7777777777777778,
             "#fb9f3a"
            ],
            [
             0.8888888888888888,
             "#fdca26"
            ],
            [
             1,
             "#f0f921"
            ]
           ],
           "sequentialminus": [
            [
             0,
             "#0d0887"
            ],
            [
             0.1111111111111111,
             "#46039f"
            ],
            [
             0.2222222222222222,
             "#7201a8"
            ],
            [
             0.3333333333333333,
             "#9c179e"
            ],
            [
             0.4444444444444444,
             "#bd3786"
            ],
            [
             0.5555555555555556,
             "#d8576b"
            ],
            [
             0.6666666666666666,
             "#ed7953"
            ],
            [
             0.7777777777777778,
             "#fb9f3a"
            ],
            [
             0.8888888888888888,
             "#fdca26"
            ],
            [
             1,
             "#f0f921"
            ]
           ]
          },
          "colorway": [
           "#636efa",
           "#EF553B",
           "#00cc96",
           "#ab63fa",
           "#FFA15A",
           "#19d3f3",
           "#FF6692",
           "#B6E880",
           "#FF97FF",
           "#FECB52"
          ],
          "font": {
           "color": "#2a3f5f"
          },
          "geo": {
           "bgcolor": "white",
           "lakecolor": "white",
           "landcolor": "#E5ECF6",
           "showlakes": true,
           "showland": true,
           "subunitcolor": "white"
          },
          "hoverlabel": {
           "align": "left"
          },
          "hovermode": "closest",
          "mapbox": {
           "style": "light"
          },
          "paper_bgcolor": "white",
          "plot_bgcolor": "#E5ECF6",
          "polar": {
           "angularaxis": {
            "gridcolor": "white",
            "linecolor": "white",
            "ticks": ""
           },
           "bgcolor": "#E5ECF6",
           "radialaxis": {
            "gridcolor": "white",
            "linecolor": "white",
            "ticks": ""
           }
          },
          "scene": {
           "xaxis": {
            "backgroundcolor": "#E5ECF6",
            "gridcolor": "white",
            "gridwidth": 2,
            "linecolor": "white",
            "showbackground": true,
            "ticks": "",
            "zerolinecolor": "white"
           },
           "yaxis": {
            "backgroundcolor": "#E5ECF6",
            "gridcolor": "white",
            "gridwidth": 2,
            "linecolor": "white",
            "showbackground": true,
            "ticks": "",
            "zerolinecolor": "white"
           },
           "zaxis": {
            "backgroundcolor": "#E5ECF6",
            "gridcolor": "white",
            "gridwidth": 2,
            "linecolor": "white",
            "showbackground": true,
            "ticks": "",
            "zerolinecolor": "white"
           }
          },
          "shapedefaults": {
           "line": {
            "color": "#2a3f5f"
           }
          },
          "ternary": {
           "aaxis": {
            "gridcolor": "white",
            "linecolor": "white",
            "ticks": ""
           },
           "baxis": {
            "gridcolor": "white",
            "linecolor": "white",
            "ticks": ""
           },
           "bgcolor": "#E5ECF6",
           "caxis": {
            "gridcolor": "white",
            "linecolor": "white",
            "ticks": ""
           }
          },
          "title": {
           "x": 0.05
          },
          "xaxis": {
           "automargin": true,
           "gridcolor": "white",
           "linecolor": "white",
           "ticks": "",
           "title": {
            "standoff": 15
           },
           "zerolinecolor": "white",
           "zerolinewidth": 2
          },
          "yaxis": {
           "automargin": true,
           "gridcolor": "white",
           "linecolor": "white",
           "ticks": "",
           "title": {
            "standoff": 15
           },
           "zerolinecolor": "white",
           "zerolinewidth": 2
          }
         }
        },
        "title": {
         "text": "7-Atom Configuration: -15.5331J"
        },
        "width": 600
       }
      }
     },
     "metadata": {},
     "output_type": "display_data"
    },
    {
     "data": {
      "application/vnd.plotly.v1+json": {
       "config": {
        "plotlyServerURL": "https://plot.ly"
       },
       "data": [
        {
         "hoverinfo": "text",
         "hovertext": "Length: 9.92e-01, Contributes -9.98e-01J",
         "line": {
          "color": "rgb(173, 216, 230, 0.4)",
          "width": 8
         },
         "mode": "lines",
         "showlegend": false,
         "type": "scatter3d",
         "x": [
          0,
          -0.7573190267785763
         ],
         "y": [
          0,
          0.523152169725594
         ],
         "z": [
          0,
          -0.37082564146987673
         ]
        },
        {
         "hoverinfo": "text",
         "hovertext": "Length: 9.97e-01, Contributes -1.00e+00J",
         "line": {
          "color": "rgb(173, 216, 230, 0.4)",
          "width": 8
         },
         "mode": "lines",
         "showlegend": false,
         "type": "scatter3d",
         "x": [
          0,
          -0.7176524258487774
         ],
         "y": [
          0,
          -0.45053067920363593
         ],
         "z": [
          0,
          -0.526002630723355
         ]
        },
        {
         "hoverinfo": "text",
         "hovertext": "Length: 9.99e-01, Contributes -1.00e+00J",
         "line": {
          "color": "rgb(173, 216, 230, 0.4)",
          "width": 8
         },
         "mode": "lines",
         "showlegend": false,
         "type": "scatter3d",
         "x": [
          0,
          0.17187730282099578
         ],
         "y": [
          0,
          0.7580221745885589
         ],
         "z": [
          0,
          -0.6280542076999653
         ]
        },
        {
         "hoverinfo": "text",
         "hovertext": "Length: 1.72e+00, Contributes -7.65e-02J",
         "line": {
          "color": "rgb(173, 216, 230, 0.4)",
          "width": 8
         },
         "mode": "lines",
         "showlegend": false,
         "type": "scatter3d",
         "x": [
          0,
          -1.3589137529501545
         ],
         "y": [
          0,
          0.10096402456080461
         ],
         "z": [
          0,
          -1.0450084171332457
         ]
        },
        {
         "hoverinfo": "text",
         "hovertext": "Length: 9.92e-01, Contributes -9.98e-01J",
         "line": {
          "color": "rgb(173, 216, 230, 0.4)",
          "width": 8
         },
         "mode": "lines",
         "showlegend": false,
         "type": "scatter3d",
         "x": [
          0,
          0.11830708120118205
         ],
         "y": [
          0,
          -0.17194080303490245
         ],
         "z": [
          0,
          -0.9701415516635779
         ]
        },
        {
         "hoverinfo": "text",
         "hovertext": "Length: 1.50e+00, Contributes -1.65e-01J",
         "line": {
          "color": "rgb(173, 216, 230, 0.4)",
          "width": 8
         },
         "mode": "lines",
         "showlegend": false,
         "type": "scatter3d",
         "x": [
          0,
          -0.4994858059295953
         ],
         "y": [
          0,
          0.5116993370861419
         ],
         "z": [
          0,
          -1.3232441566121493
         ]
        },
        {
         "hoverinfo": "text",
         "hovertext": "Length: 1.72e+00, Contributes -7.65e-02J",
         "line": {
          "color": "rgb(173, 216, 230, 0.4)",
          "width": 8
         },
         "mode": "lines",
         "showlegend": false,
         "type": "scatter3d",
         "x": [
          0,
          -0.6691034183140095
         ],
         "y": [
          0,
          -0.4466154664058858
         ],
         "z": [
          0,
          -1.517145000907338
         ]
        },
        {
         "hoverinfo": "text",
         "hovertext": "Length: 9.87e-01, Contributes -9.93e-01J",
         "line": {
          "color": "rgb(173, 216, 230, 0.4)",
          "width": 8
         },
         "mode": "lines",
         "showlegend": false,
         "type": "scatter3d",
         "x": [
          -0.7573190267785763,
          -0.7176524258487774
         ],
         "y": [
          0.523152169725594,
          -0.45053067920363593
         ],
         "z": [
          -0.37082564146987673,
          -0.526002630723355
         ]
        },
        {
         "hoverinfo": "text",
         "hovertext": "Length: 9.92e-01, Contributes -9.98e-01J",
         "line": {
          "color": "rgb(173, 216, 230, 0.4)",
          "width": 8
         },
         "mode": "lines",
         "showlegend": false,
         "type": "scatter3d",
         "x": [
          -0.7573190267785763,
          0.17187730282099578
         ],
         "y": [
          0.523152169725594,
          0.7580221745885589
         ],
         "z": [
          -0.37082564146987673,
          -0.6280542076999653
         ]
        },
        {
         "hoverinfo": "text",
         "hovertext": "Length: 9.97e-01, Contributes -1.00e+00J",
         "line": {
          "color": "rgb(173, 216, 230, 0.4)",
          "width": 8
         },
         "mode": "lines",
         "showlegend": false,
         "type": "scatter3d",
         "x": [
          -0.7573190267785763,
          -1.3589137529501545
         ],
         "y": [
          0.523152169725594,
          0.10096402456080461
         ],
         "z": [
          -0.37082564146987673,
          -1.0450084171332457
         ]
        },
        {
         "hoverinfo": "text",
         "hovertext": "Length: 1.27e+00, Contributes -4.22e-01J",
         "line": {
          "color": "rgb(173, 216, 230, 0.4)",
          "width": 8
         },
         "mode": "lines",
         "showlegend": false,
         "type": "scatter3d",
         "x": [
          -0.7573190267785763,
          0.11830708120118205
         ],
         "y": [
          0.523152169725594,
          -0.17194080303490245
         ],
         "z": [
          -0.37082564146987673,
          -0.9701415516635779
         ]
        },
        {
         "hoverinfo": "text",
         "hovertext": "Length: 9.87e-01, Contributes -9.93e-01J",
         "line": {
          "color": "rgb(173, 216, 230, 0.4)",
          "width": 8
         },
         "mode": "lines",
         "showlegend": false,
         "type": "scatter3d",
         "x": [
          -0.7573190267785763,
          -0.4994858059295953
         ],
         "y": [
          0.523152169725594,
          0.5116993370861419
         ],
         "z": [
          -0.37082564146987673,
          -1.3232441566121493
         ]
        },
        {
         "hoverinfo": "text",
         "hovertext": "Length: 1.50e+00, Contributes -1.65e-01J",
         "line": {
          "color": "rgb(173, 216, 230, 0.4)",
          "width": 8
         },
         "mode": "lines",
         "showlegend": false,
         "type": "scatter3d",
         "x": [
          -0.7573190267785763,
          -0.6691034183140095
         ],
         "y": [
          0.523152169725594,
          -0.4466154664058858
         ],
         "z": [
          -0.37082564146987673,
          -1.517145000907338
         ]
        },
        {
         "hoverinfo": "text",
         "hovertext": "Length: 1.50e+00, Contributes -1.65e-01J",
         "line": {
          "color": "rgb(173, 216, 230, 0.4)",
          "width": 8
         },
         "mode": "lines",
         "showlegend": false,
         "type": "scatter3d",
         "x": [
          -0.7176524258487774,
          0.17187730282099578
         ],
         "y": [
          -0.45053067920363593,
          0.7580221745885589
         ],
         "z": [
          -0.526002630723355,
          -0.6280542076999653
         ]
        },
        {
         "hoverinfo": "text",
         "hovertext": "Length: 9.92e-01, Contributes -9.98e-01J",
         "line": {
          "color": "rgb(173, 216, 230, 0.4)",
          "width": 8
         },
         "mode": "lines",
         "showlegend": false,
         "type": "scatter3d",
         "x": [
          -0.7176524258487774,
          -1.3589137529501545
         ],
         "y": [
          -0.45053067920363593,
          0.10096402456080461
         ],
         "z": [
          -0.526002630723355,
          -1.0450084171332457
         ]
        },
        {
         "hoverinfo": "text",
         "hovertext": "Length: 9.87e-01, Contributes -9.93e-01J",
         "line": {
          "color": "rgb(173, 216, 230, 0.4)",
          "width": 8
         },
         "mode": "lines",
         "showlegend": false,
         "type": "scatter3d",
         "x": [
          -0.7176524258487774,
          0.11830708120118205
         ],
         "y": [
          -0.45053067920363593,
          -0.17194080303490245
         ],
         "z": [
          -0.526002630723355,
          -0.9701415516635779
         ]
        },
        {
         "hoverinfo": "text",
         "hovertext": "Length: 1.27e+00, Contributes -4.22e-01J",
         "line": {
          "color": "rgb(173, 216, 230, 0.4)",
          "width": 8
         },
         "mode": "lines",
         "showlegend": false,
         "type": "scatter3d",
         "x": [
          -0.7176524258487774,
          -0.4994858059295953
         ],
         "y": [
          -0.45053067920363593,
          0.5116993370861419
         ],
         "z": [
          -0.526002630723355,
          -1.3232441566121493
         ]
        },
        {
         "hoverinfo": "text",
         "hovertext": "Length: 9.92e-01, Contributes -9.98e-01J",
         "line": {
          "color": "rgb(173, 216, 230, 0.4)",
          "width": 8
         },
         "mode": "lines",
         "showlegend": false,
         "type": "scatter3d",
         "x": [
          -0.7176524258487774,
          -0.6691034183140095
         ],
         "y": [
          -0.45053067920363593,
          -0.4466154664058858
         ],
         "z": [
          -0.526002630723355,
          -1.517145000907338
         ]
        },
        {
         "hoverinfo": "text",
         "hovertext": "Length: 1.72e+00, Contributes -7.65e-02J",
         "line": {
          "color": "rgb(173, 216, 230, 0.4)",
          "width": 8
         },
         "mode": "lines",
         "showlegend": false,
         "type": "scatter3d",
         "x": [
          0.17187730282099578,
          -1.3589137529501545
         ],
         "y": [
          0.7580221745885589,
          0.10096402456080461
         ],
         "z": [
          -0.6280542076999653,
          -1.0450084171332457
         ]
        },
        {
         "hoverinfo": "text",
         "hovertext": "Length: 9.92e-01, Contributes -9.98e-01J",
         "line": {
          "color": "rgb(173, 216, 230, 0.4)",
          "width": 8
         },
         "mode": "lines",
         "showlegend": false,
         "type": "scatter3d",
         "x": [
          0.17187730282099578,
          0.11830708120118205
         ],
         "y": [
          0.7580221745885589,
          -0.17194080303490245
         ],
         "z": [
          -0.6280542076999653,
          -0.9701415516635779
         ]
        },
        {
         "hoverinfo": "text",
         "hovertext": "Length: 9.97e-01, Contributes -1.00e+00J",
         "line": {
          "color": "rgb(173, 216, 230, 0.4)",
          "width": 8
         },
         "mode": "lines",
         "showlegend": false,
         "type": "scatter3d",
         "x": [
          0.17187730282099578,
          -0.4994858059295953
         ],
         "y": [
          0.7580221745885589,
          0.5116993370861419
         ],
         "z": [
          -0.6280542076999653,
          -1.3232441566121493
         ]
        },
        {
         "hoverinfo": "text",
         "hovertext": "Length: 1.72e+00, Contributes -7.65e-02J",
         "line": {
          "color": "rgb(173, 216, 230, 0.4)",
          "width": 8
         },
         "mode": "lines",
         "showlegend": false,
         "type": "scatter3d",
         "x": [
          0.17187730282099578,
          -0.6691034183140095
         ],
         "y": [
          0.7580221745885589,
          -0.4466154664058858
         ],
         "z": [
          -0.6280542076999653,
          -1.517145000907338
         ]
        },
        {
         "hoverinfo": "text",
         "hovertext": "Length: 1.50e+00, Contributes -1.65e-01J",
         "line": {
          "color": "rgb(173, 216, 230, 0.4)",
          "width": 8
         },
         "mode": "lines",
         "showlegend": false,
         "type": "scatter3d",
         "x": [
          -1.3589137529501545,
          0.11830708120118205
         ],
         "y": [
          0.10096402456080461,
          -0.17194080303490245
         ],
         "z": [
          -1.0450084171332457,
          -0.9701415516635779
         ]
        },
        {
         "hoverinfo": "text",
         "hovertext": "Length: 9.92e-01, Contributes -9.98e-01J",
         "line": {
          "color": "rgb(173, 216, 230, 0.4)",
          "width": 8
         },
         "mode": "lines",
         "showlegend": false,
         "type": "scatter3d",
         "x": [
          -1.3589137529501545,
          -0.4994858059295953
         ],
         "y": [
          0.10096402456080461,
          0.5116993370861419
         ],
         "z": [
          -1.0450084171332457,
          -1.3232441566121493
         ]
        },
        {
         "hoverinfo": "text",
         "hovertext": "Length: 9.99e-01, Contributes -1.00e+00J",
         "line": {
          "color": "rgb(173, 216, 230, 0.4)",
          "width": 8
         },
         "mode": "lines",
         "showlegend": false,
         "type": "scatter3d",
         "x": [
          -1.3589137529501545,
          -0.6691034183140095
         ],
         "y": [
          0.10096402456080461,
          -0.4466154664058858
         ],
         "z": [
          -1.0450084171332457,
          -1.517145000907338
         ]
        },
        {
         "hoverinfo": "text",
         "hovertext": "Length: 9.87e-01, Contributes -9.93e-01J",
         "line": {
          "color": "rgb(173, 216, 230, 0.4)",
          "width": 8
         },
         "mode": "lines",
         "showlegend": false,
         "type": "scatter3d",
         "x": [
          0.11830708120118205,
          -0.4994858059295953
         ],
         "y": [
          -0.17194080303490245,
          0.5116993370861419
         ],
         "z": [
          -0.9701415516635779,
          -1.3232441566121493
         ]
        },
        {
         "hoverinfo": "text",
         "hovertext": "Length: 9.97e-01, Contributes -1.00e+00J",
         "line": {
          "color": "rgb(173, 216, 230, 0.4)",
          "width": 8
         },
         "mode": "lines",
         "showlegend": false,
         "type": "scatter3d",
         "x": [
          0.11830708120118205,
          -0.6691034183140095
         ],
         "y": [
          -0.17194080303490245,
          -0.4466154664058858
         ],
         "z": [
          -0.9701415516635779,
          -1.517145000907338
         ]
        },
        {
         "hoverinfo": "text",
         "hovertext": "Length: 9.92e-01, Contributes -9.98e-01J",
         "line": {
          "color": "rgb(173, 216, 230, 0.4)",
          "width": 8
         },
         "mode": "lines",
         "showlegend": false,
         "type": "scatter3d",
         "x": [
          -0.4994858059295953,
          -0.6691034183140095
         ],
         "y": [
          0.5116993370861419,
          -0.4466154664058858
         ],
         "z": [
          -1.3232441566121493,
          -1.517145000907338
         ]
        },
        {
         "hovertext": [
          "Point 1",
          "Point 2",
          "Point 3",
          "Point 4",
          "Point 5",
          "Point 6",
          "Point 7",
          "Point 8"
         ],
         "marker": {
          "color": "red",
          "size": 8
         },
         "mode": "markers",
         "showlegend": false,
         "type": "scatter3d",
         "x": {
          "bdata": "AAAAAAAAAACO4ZQc9Tvov01MXTgC9+a/FDtFURMAxj+uFvBYHL71v2jwpHRfSb4/BSpSUJP337+FnWmSS2nlvw==",
          "dtype": "f8"
         },
         "y": {
          "bdata": "AAAAAAAAAAAXsXmeqb3gP92NQaF+1dy/bgUwuLdB6D+Uqo8/x9i5P1QC8f4nAsa/fW/FSddf4D/ed4YJWZXcvw==",
          "dtype": "f8"
         },
         "z": {
          "bdata": "AAAAAAAAAADoZ6h4m7vXvwQjEngD1eC/KPhFIwUZ5L+9HPq+WrjwvyhYnEtmC++/RluUEAIs9b+S/SLWOUb4vw==",
          "dtype": "f8"
         }
        }
       ],
       "layout": {
        "height": 400,
        "paper_bgcolor": "rgba(0,0,0,0)",
        "plot_bgcolor": "rgba(0,0,0,0)",
        "scene": {
         "xaxis": {
          "showgrid": false,
          "showticklabels": false,
          "title": {
           "text": ""
          },
          "visible": false,
          "zeroline": false
         },
         "yaxis": {
          "showgrid": false,
          "showticklabels": false,
          "title": {
           "text": ""
          },
          "visible": false,
          "zeroline": false
         },
         "zaxis": {
          "showgrid": false,
          "showticklabels": false,
          "title": {
           "text": ""
          },
          "visible": false,
          "zeroline": false
         }
        },
        "template": {
         "data": {
          "bar": [
           {
            "error_x": {
             "color": "#2a3f5f"
            },
            "error_y": {
             "color": "#2a3f5f"
            },
            "marker": {
             "line": {
              "color": "#E5ECF6",
              "width": 0.5
             },
             "pattern": {
              "fillmode": "overlay",
              "size": 10,
              "solidity": 0.2
             }
            },
            "type": "bar"
           }
          ],
          "barpolar": [
           {
            "marker": {
             "line": {
              "color": "#E5ECF6",
              "width": 0.5
             },
             "pattern": {
              "fillmode": "overlay",
              "size": 10,
              "solidity": 0.2
             }
            },
            "type": "barpolar"
           }
          ],
          "carpet": [
           {
            "aaxis": {
             "endlinecolor": "#2a3f5f",
             "gridcolor": "white",
             "linecolor": "white",
             "minorgridcolor": "white",
             "startlinecolor": "#2a3f5f"
            },
            "baxis": {
             "endlinecolor": "#2a3f5f",
             "gridcolor": "white",
             "linecolor": "white",
             "minorgridcolor": "white",
             "startlinecolor": "#2a3f5f"
            },
            "type": "carpet"
           }
          ],
          "choropleth": [
           {
            "colorbar": {
             "outlinewidth": 0,
             "ticks": ""
            },
            "type": "choropleth"
           }
          ],
          "contour": [
           {
            "colorbar": {
             "outlinewidth": 0,
             "ticks": ""
            },
            "colorscale": [
             [
              0,
              "#0d0887"
             ],
             [
              0.1111111111111111,
              "#46039f"
             ],
             [
              0.2222222222222222,
              "#7201a8"
             ],
             [
              0.3333333333333333,
              "#9c179e"
             ],
             [
              0.4444444444444444,
              "#bd3786"
             ],
             [
              0.5555555555555556,
              "#d8576b"
             ],
             [
              0.6666666666666666,
              "#ed7953"
             ],
             [
              0.7777777777777778,
              "#fb9f3a"
             ],
             [
              0.8888888888888888,
              "#fdca26"
             ],
             [
              1,
              "#f0f921"
             ]
            ],
            "type": "contour"
           }
          ],
          "contourcarpet": [
           {
            "colorbar": {
             "outlinewidth": 0,
             "ticks": ""
            },
            "type": "contourcarpet"
           }
          ],
          "heatmap": [
           {
            "colorbar": {
             "outlinewidth": 0,
             "ticks": ""
            },
            "colorscale": [
             [
              0,
              "#0d0887"
             ],
             [
              0.1111111111111111,
              "#46039f"
             ],
             [
              0.2222222222222222,
              "#7201a8"
             ],
             [
              0.3333333333333333,
              "#9c179e"
             ],
             [
              0.4444444444444444,
              "#bd3786"
             ],
             [
              0.5555555555555556,
              "#d8576b"
             ],
             [
              0.6666666666666666,
              "#ed7953"
             ],
             [
              0.7777777777777778,
              "#fb9f3a"
             ],
             [
              0.8888888888888888,
              "#fdca26"
             ],
             [
              1,
              "#f0f921"
             ]
            ],
            "type": "heatmap"
           }
          ],
          "histogram": [
           {
            "marker": {
             "pattern": {
              "fillmode": "overlay",
              "size": 10,
              "solidity": 0.2
             }
            },
            "type": "histogram"
           }
          ],
          "histogram2d": [
           {
            "colorbar": {
             "outlinewidth": 0,
             "ticks": ""
            },
            "colorscale": [
             [
              0,
              "#0d0887"
             ],
             [
              0.1111111111111111,
              "#46039f"
             ],
             [
              0.2222222222222222,
              "#7201a8"
             ],
             [
              0.3333333333333333,
              "#9c179e"
             ],
             [
              0.4444444444444444,
              "#bd3786"
             ],
             [
              0.5555555555555556,
              "#d8576b"
             ],
             [
              0.6666666666666666,
              "#ed7953"
             ],
             [
              0.7777777777777778,
              "#fb9f3a"
             ],
             [
              0.8888888888888888,
              "#fdca26"
             ],
             [
              1,
              "#f0f921"
             ]
            ],
            "type": "histogram2d"
           }
          ],
          "histogram2dcontour": [
           {
            "colorbar": {
             "outlinewidth": 0,
             "ticks": ""
            },
            "colorscale": [
             [
              0,
              "#0d0887"
             ],
             [
              0.1111111111111111,
              "#46039f"
             ],
             [
              0.2222222222222222,
              "#7201a8"
             ],
             [
              0.3333333333333333,
              "#9c179e"
             ],
             [
              0.4444444444444444,
              "#bd3786"
             ],
             [
              0.5555555555555556,
              "#d8576b"
             ],
             [
              0.6666666666666666,
              "#ed7953"
             ],
             [
              0.7777777777777778,
              "#fb9f3a"
             ],
             [
              0.8888888888888888,
              "#fdca26"
             ],
             [
              1,
              "#f0f921"
             ]
            ],
            "type": "histogram2dcontour"
           }
          ],
          "mesh3d": [
           {
            "colorbar": {
             "outlinewidth": 0,
             "ticks": ""
            },
            "type": "mesh3d"
           }
          ],
          "parcoords": [
           {
            "line": {
             "colorbar": {
              "outlinewidth": 0,
              "ticks": ""
             }
            },
            "type": "parcoords"
           }
          ],
          "pie": [
           {
            "automargin": true,
            "type": "pie"
           }
          ],
          "scatter": [
           {
            "fillpattern": {
             "fillmode": "overlay",
             "size": 10,
             "solidity": 0.2
            },
            "type": "scatter"
           }
          ],
          "scatter3d": [
           {
            "line": {
             "colorbar": {
              "outlinewidth": 0,
              "ticks": ""
             }
            },
            "marker": {
             "colorbar": {
              "outlinewidth": 0,
              "ticks": ""
             }
            },
            "type": "scatter3d"
           }
          ],
          "scattercarpet": [
           {
            "marker": {
             "colorbar": {
              "outlinewidth": 0,
              "ticks": ""
             }
            },
            "type": "scattercarpet"
           }
          ],
          "scattergeo": [
           {
            "marker": {
             "colorbar": {
              "outlinewidth": 0,
              "ticks": ""
             }
            },
            "type": "scattergeo"
           }
          ],
          "scattergl": [
           {
            "marker": {
             "colorbar": {
              "outlinewidth": 0,
              "ticks": ""
             }
            },
            "type": "scattergl"
           }
          ],
          "scattermap": [
           {
            "marker": {
             "colorbar": {
              "outlinewidth": 0,
              "ticks": ""
             }
            },
            "type": "scattermap"
           }
          ],
          "scattermapbox": [
           {
            "marker": {
             "colorbar": {
              "outlinewidth": 0,
              "ticks": ""
             }
            },
            "type": "scattermapbox"
           }
          ],
          "scatterpolar": [
           {
            "marker": {
             "colorbar": {
              "outlinewidth": 0,
              "ticks": ""
             }
            },
            "type": "scatterpolar"
           }
          ],
          "scatterpolargl": [
           {
            "marker": {
             "colorbar": {
              "outlinewidth": 0,
              "ticks": ""
             }
            },
            "type": "scatterpolargl"
           }
          ],
          "scatterternary": [
           {
            "marker": {
             "colorbar": {
              "outlinewidth": 0,
              "ticks": ""
             }
            },
            "type": "scatterternary"
           }
          ],
          "surface": [
           {
            "colorbar": {
             "outlinewidth": 0,
             "ticks": ""
            },
            "colorscale": [
             [
              0,
              "#0d0887"
             ],
             [
              0.1111111111111111,
              "#46039f"
             ],
             [
              0.2222222222222222,
              "#7201a8"
             ],
             [
              0.3333333333333333,
              "#9c179e"
             ],
             [
              0.4444444444444444,
              "#bd3786"
             ],
             [
              0.5555555555555556,
              "#d8576b"
             ],
             [
              0.6666666666666666,
              "#ed7953"
             ],
             [
              0.7777777777777778,
              "#fb9f3a"
             ],
             [
              0.8888888888888888,
              "#fdca26"
             ],
             [
              1,
              "#f0f921"
             ]
            ],
            "type": "surface"
           }
          ],
          "table": [
           {
            "cells": {
             "fill": {
              "color": "#EBF0F8"
             },
             "line": {
              "color": "white"
             }
            },
            "header": {
             "fill": {
              "color": "#C8D4E3"
             },
             "line": {
              "color": "white"
             }
            },
            "type": "table"
           }
          ]
         },
         "layout": {
          "annotationdefaults": {
           "arrowcolor": "#2a3f5f",
           "arrowhead": 0,
           "arrowwidth": 1
          },
          "autotypenumbers": "strict",
          "coloraxis": {
           "colorbar": {
            "outlinewidth": 0,
            "ticks": ""
           }
          },
          "colorscale": {
           "diverging": [
            [
             0,
             "#8e0152"
            ],
            [
             0.1,
             "#c51b7d"
            ],
            [
             0.2,
             "#de77ae"
            ],
            [
             0.3,
             "#f1b6da"
            ],
            [
             0.4,
             "#fde0ef"
            ],
            [
             0.5,
             "#f7f7f7"
            ],
            [
             0.6,
             "#e6f5d0"
            ],
            [
             0.7,
             "#b8e186"
            ],
            [
             0.8,
             "#7fbc41"
            ],
            [
             0.9,
             "#4d9221"
            ],
            [
             1,
             "#276419"
            ]
           ],
           "sequential": [
            [
             0,
             "#0d0887"
            ],
            [
             0.1111111111111111,
             "#46039f"
            ],
            [
             0.2222222222222222,
             "#7201a8"
            ],
            [
             0.3333333333333333,
             "#9c179e"
            ],
            [
             0.4444444444444444,
             "#bd3786"
            ],
            [
             0.5555555555555556,
             "#d8576b"
            ],
            [
             0.6666666666666666,
             "#ed7953"
            ],
            [
             0.7777777777777778,
             "#fb9f3a"
            ],
            [
             0.8888888888888888,
             "#fdca26"
            ],
            [
             1,
             "#f0f921"
            ]
           ],
           "sequentialminus": [
            [
             0,
             "#0d0887"
            ],
            [
             0.1111111111111111,
             "#46039f"
            ],
            [
             0.2222222222222222,
             "#7201a8"
            ],
            [
             0.3333333333333333,
             "#9c179e"
            ],
            [
             0.4444444444444444,
             "#bd3786"
            ],
            [
             0.5555555555555556,
             "#d8576b"
            ],
            [
             0.6666666666666666,
             "#ed7953"
            ],
            [
             0.7777777777777778,
             "#fb9f3a"
            ],
            [
             0.8888888888888888,
             "#fdca26"
            ],
            [
             1,
             "#f0f921"
            ]
           ]
          },
          "colorway": [
           "#636efa",
           "#EF553B",
           "#00cc96",
           "#ab63fa",
           "#FFA15A",
           "#19d3f3",
           "#FF6692",
           "#B6E880",
           "#FF97FF",
           "#FECB52"
          ],
          "font": {
           "color": "#2a3f5f"
          },
          "geo": {
           "bgcolor": "white",
           "lakecolor": "white",
           "landcolor": "#E5ECF6",
           "showlakes": true,
           "showland": true,
           "subunitcolor": "white"
          },
          "hoverlabel": {
           "align": "left"
          },
          "hovermode": "closest",
          "mapbox": {
           "style": "light"
          },
          "paper_bgcolor": "white",
          "plot_bgcolor": "#E5ECF6",
          "polar": {
           "angularaxis": {
            "gridcolor": "white",
            "linecolor": "white",
            "ticks": ""
           },
           "bgcolor": "#E5ECF6",
           "radialaxis": {
            "gridcolor": "white",
            "linecolor": "white",
            "ticks": ""
           }
          },
          "scene": {
           "xaxis": {
            "backgroundcolor": "#E5ECF6",
            "gridcolor": "white",
            "gridwidth": 2,
            "linecolor": "white",
            "showbackground": true,
            "ticks": "",
            "zerolinecolor": "white"
           },
           "yaxis": {
            "backgroundcolor": "#E5ECF6",
            "gridcolor": "white",
            "gridwidth": 2,
            "linecolor": "white",
            "showbackground": true,
            "ticks": "",
            "zerolinecolor": "white"
           },
           "zaxis": {
            "backgroundcolor": "#E5ECF6",
            "gridcolor": "white",
            "gridwidth": 2,
            "linecolor": "white",
            "showbackground": true,
            "ticks": "",
            "zerolinecolor": "white"
           }
          },
          "shapedefaults": {
           "line": {
            "color": "#2a3f5f"
           }
          },
          "ternary": {
           "aaxis": {
            "gridcolor": "white",
            "linecolor": "white",
            "ticks": ""
           },
           "baxis": {
            "gridcolor": "white",
            "linecolor": "white",
            "ticks": ""
           },
           "bgcolor": "#E5ECF6",
           "caxis": {
            "gridcolor": "white",
            "linecolor": "white",
            "ticks": ""
           }
          },
          "title": {
           "x": 0.05
          },
          "xaxis": {
           "automargin": true,
           "gridcolor": "white",
           "linecolor": "white",
           "ticks": "",
           "title": {
            "standoff": 15
           },
           "zerolinecolor": "white",
           "zerolinewidth": 2
          },
          "yaxis": {
           "automargin": true,
           "gridcolor": "white",
           "linecolor": "white",
           "ticks": "",
           "title": {
            "standoff": 15
           },
           "zerolinecolor": "white",
           "zerolinewidth": 2
          }
         }
        },
        "title": {
         "text": "8-Atom Configuration: -19.7653J"
        },
        "width": 600
       }
      }
     },
     "metadata": {},
     "output_type": "display_data"
    },
    {
     "data": {
      "application/vnd.plotly.v1+json": {
       "config": {
        "plotlyServerURL": "https://plot.ly"
       },
       "data": [
        {
         "hoverinfo": "text",
         "hovertext": "Length: 9.95e-01, Contributes -9.99e-01J",
         "line": {
          "color": "rgb(173, 216, 230, 0.4)",
          "width": 8
         },
         "mode": "lines",
         "showlegend": false,
         "type": "scatter3d",
         "x": [
          0,
          -0.8457680997691971
         ],
         "y": [
          0,
          0.43347110735057176
         ],
         "z": [
          0,
          -0.2939839086101006
         ]
        },
        {
         "hoverinfo": "text",
         "hovertext": "Length: 9.95e-01, Contributes -9.99e-01J",
         "line": {
          "color": "rgb(173, 216, 230, 0.4)",
          "width": 8
         },
         "mode": "lines",
         "showlegend": false,
         "type": "scatter3d",
         "x": [
          0,
          -0.7205675966424151
         ],
         "y": [
          0,
          -0.5357230001165832
         ],
         "z": [
          0,
          -0.42829711009796306
         ]
        },
        {
         "hoverinfo": "text",
         "hovertext": "Length: 9.95e-01, Contributes -9.99e-01J",
         "line": {
          "color": "rgb(173, 216, 230, 0.4)",
          "width": 8
         },
         "mode": "lines",
         "showlegend": false,
         "type": "scatter3d",
         "x": [
          0,
          -0.005799668803313007
         ],
         "y": [
          0,
          0.6101264306749432
         ],
         "z": [
          0,
          -0.7857208970873446
         ]
        },
        {
         "hoverinfo": "text",
         "hovertext": "Length: 1.72e+00, Contributes -7.54e-02J",
         "line": {
          "color": "rgb(173, 216, 230, 0.4)",
          "width": 8
         },
         "mode": "lines",
         "showlegend": false,
         "type": "scatter3d",
         "x": [
          0,
          -1.4952710726120826
         ],
         "y": [
          0,
          -0.07540626857362182
         ],
         "z": [
          0,
          -0.8497137611835397
         ]
        },
        {
         "hoverinfo": "text",
         "hovertext": "Length: 9.95e-01, Contributes -9.99e-01J",
         "line": {
          "color": "rgb(173, 216, 230, 0.4)",
          "width": 8
         },
         "mode": "lines",
         "showlegend": false,
         "type": "scatter3d",
         "x": [
          0,
          0.11939853954002899
         ],
         "y": [
          0,
          -0.35906539317576525
         ],
         "z": [
          0,
          -0.9200345833906349
         ]
        },
        {
         "hoverinfo": "text",
         "hovertext": "Length: 1.64e+00, Contributes -9.98e-02J",
         "line": {
          "color": "rgb(173, 216, 230, 0.4)",
          "width": 8
         },
         "mode": "lines",
         "showlegend": false,
         "type": "scatter3d",
         "x": [
          0,
          -0.8650231040899445
         ],
         "y": [
          0,
          0.566789266587683
         ],
         "z": [
          0,
          -1.2739898351127765
         ]
        },
        {
         "hoverinfo": "text",
         "hovertext": "Length: 1.64e+00, Contributes -9.98e-02J",
         "line": {
          "color": "rgb(173, 216, 230, 0.4)",
          "width": 8
         },
         "mode": "lines",
         "showlegend": false,
         "type": "scatter3d",
         "x": [
          0,
          -0.7398236191452126
         ],
         "y": [
          0,
          -0.40240216042034344
         ],
         "z": [
          0,
          -1.4083043842495222
         ]
        },
        {
         "hoverinfo": "text",
         "hovertext": "Length: 1.72e+00, Contributes -7.54e-02J",
         "line": {
          "color": "rgb(173, 216, 230, 0.4)",
          "width": 8
         },
         "mode": "lines",
         "showlegend": false,
         "type": "scatter3d",
         "x": [
          0,
          -0.033516426111483755
         ],
         "y": [
          0,
          0.23201315498741742
         ],
         "z": [
          0,
          -1.7054568916953272
         ]
        },
        {
         "hoverinfo": "text",
         "hovertext": "Length: 9.86e-01, Contributes -9.93e-01J",
         "line": {
          "color": "rgb(173, 216, 230, 0.4)",
          "width": 8
         },
         "mode": "lines",
         "showlegend": false,
         "type": "scatter3d",
         "x": [
          -0.8457680997691971,
          -0.7205675966424151
         ],
         "y": [
          0.43347110735057176,
          -0.5357230001165832
         ],
         "z": [
          -0.2939839086101006,
          -0.42829711009796306
         ]
        },
        {
         "hoverinfo": "text",
         "hovertext": "Length: 9.89e-01, Contributes -9.95e-01J",
         "line": {
          "color": "rgb(173, 216, 230, 0.4)",
          "width": 8
         },
         "mode": "lines",
         "showlegend": false,
         "type": "scatter3d",
         "x": [
          -0.8457680997691971,
          -0.005799668803313007
         ],
         "y": [
          0.43347110735057176,
          0.6101264306749432
         ],
         "z": [
          -0.2939839086101006,
          -0.7857208970873446
         ]
        },
        {
         "hoverinfo": "text",
         "hovertext": "Length: 9.95e-01, Contributes -9.99e-01J",
         "line": {
          "color": "rgb(173, 216, 230, 0.4)",
          "width": 8
         },
         "mode": "lines",
         "showlegend": false,
         "type": "scatter3d",
         "x": [
          -0.8457680997691971,
          -1.4952710726120826
         ],
         "y": [
          0.43347110735057176,
          -0.07540626857362182
         ],
         "z": [
          -0.2939839086101006,
          -0.8497137611835397
         ]
        },
        {
         "hoverinfo": "text",
         "hovertext": "Length: 1.40e+00, Contributes -2.51e-01J",
         "line": {
          "color": "rgb(173, 216, 230, 0.4)",
          "width": 8
         },
         "mode": "lines",
         "showlegend": false,
         "type": "scatter3d",
         "x": [
          -0.8457680997691971,
          0.11939853954002899
         ],
         "y": [
          0.43347110735057176,
          -0.35906539317576525
         ],
         "z": [
          -0.2939839086101006,
          -0.9200345833906349
         ]
        },
        {
         "hoverinfo": "text",
         "hovertext": "Length: 9.89e-01, Contributes -9.95e-01J",
         "line": {
          "color": "rgb(173, 216, 230, 0.4)",
          "width": 8
         },
         "mode": "lines",
         "showlegend": false,
         "type": "scatter3d",
         "x": [
          -0.8457680997691971,
          -0.8650231040899445
         ],
         "y": [
          0.43347110735057176,
          0.566789266587683
         ],
         "z": [
          -0.2939839086101006,
          -1.2739898351127765
         ]
        },
        {
         "hoverinfo": "text",
         "hovertext": "Length: 1.40e+00, Contributes -2.51e-01J",
         "line": {
          "color": "rgb(173, 216, 230, 0.4)",
          "width": 8
         },
         "mode": "lines",
         "showlegend": false,
         "type": "scatter3d",
         "x": [
          -0.8457680997691971,
          -0.7398236191452126
         ],
         "y": [
          0.43347110735057176,
          -0.40240216042034344
         ],
         "z": [
          -0.2939839086101006,
          -1.4083043842495222
         ]
        },
        {
         "hoverinfo": "text",
         "hovertext": "Length: 1.64e+00, Contributes -9.98e-02J",
         "line": {
          "color": "rgb(173, 216, 230, 0.4)",
          "width": 8
         },
         "mode": "lines",
         "showlegend": false,
         "type": "scatter3d",
         "x": [
          -0.8457680997691971,
          -0.033516426111483755
         ],
         "y": [
          0.43347110735057176,
          0.23201315498741742
         ],
         "z": [
          -0.2939839086101006,
          -1.7054568916953272
         ]
        },
        {
         "hoverinfo": "text",
         "hovertext": "Length: 1.40e+00, Contributes -2.51e-01J",
         "line": {
          "color": "rgb(173, 216, 230, 0.4)",
          "width": 8
         },
         "mode": "lines",
         "showlegend": false,
         "type": "scatter3d",
         "x": [
          -0.7205675966424151,
          -0.005799668803313007
         ],
         "y": [
          -0.5357230001165832,
          0.6101264306749432
         ],
         "z": [
          -0.42829711009796306,
          -0.7857208970873446
         ]
        },
        {
         "hoverinfo": "text",
         "hovertext": "Length: 9.95e-01, Contributes -9.99e-01J",
         "line": {
          "color": "rgb(173, 216, 230, 0.4)",
          "width": 8
         },
         "mode": "lines",
         "showlegend": false,
         "type": "scatter3d",
         "x": [
          -0.7205675966424151,
          -1.4952710726120826
         ],
         "y": [
          -0.5357230001165832,
          -0.07540626857362182
         ],
         "z": [
          -0.42829711009796306,
          -0.8497137611835397
         ]
        },
        {
         "hoverinfo": "text",
         "hovertext": "Length: 9.89e-01, Contributes -9.95e-01J",
         "line": {
          "color": "rgb(173, 216, 230, 0.4)",
          "width": 8
         },
         "mode": "lines",
         "showlegend": false,
         "type": "scatter3d",
         "x": [
          -0.7205675966424151,
          0.11939853954002899
         ],
         "y": [
          -0.5357230001165832,
          -0.35906539317576525
         ],
         "z": [
          -0.42829711009796306,
          -0.9200345833906349
         ]
        },
        {
         "hoverinfo": "text",
         "hovertext": "Length: 1.40e+00, Contributes -2.51e-01J",
         "line": {
          "color": "rgb(173, 216, 230, 0.4)",
          "width": 8
         },
         "mode": "lines",
         "showlegend": false,
         "type": "scatter3d",
         "x": [
          -0.7205675966424151,
          -0.8650231040899445
         ],
         "y": [
          -0.5357230001165832,
          0.566789266587683
         ],
         "z": [
          -0.42829711009796306,
          -1.2739898351127765
         ]
        },
        {
         "hoverinfo": "text",
         "hovertext": "Length: 9.89e-01, Contributes -9.95e-01J",
         "line": {
          "color": "rgb(173, 216, 230, 0.4)",
          "width": 8
         },
         "mode": "lines",
         "showlegend": false,
         "type": "scatter3d",
         "x": [
          -0.7205675966424151,
          -0.7398236191452126
         ],
         "y": [
          -0.5357230001165832,
          -0.40240216042034344
         ],
         "z": [
          -0.42829711009796306,
          -1.4083043842495222
         ]
        },
        {
         "hoverinfo": "text",
         "hovertext": "Length: 1.64e+00, Contributes -9.98e-02J",
         "line": {
          "color": "rgb(173, 216, 230, 0.4)",
          "width": 8
         },
         "mode": "lines",
         "showlegend": false,
         "type": "scatter3d",
         "x": [
          -0.7205675966424151,
          -0.033516426111483755
         ],
         "y": [
          -0.5357230001165832,
          0.23201315498741742
         ],
         "z": [
          -0.42829711009796306,
          -1.7054568916953272
         ]
        },
        {
         "hoverinfo": "text",
         "hovertext": "Length: 1.64e+00, Contributes -9.98e-02J",
         "line": {
          "color": "rgb(173, 216, 230, 0.4)",
          "width": 8
         },
         "mode": "lines",
         "showlegend": false,
         "type": "scatter3d",
         "x": [
          -0.005799668803313007,
          -1.4952710726120826
         ],
         "y": [
          0.6101264306749432,
          -0.07540626857362182
         ],
         "z": [
          -0.7857208970873446,
          -0.8497137611835397
         ]
        },
        {
         "hoverinfo": "text",
         "hovertext": "Length: 9.86e-01, Contributes -9.93e-01J",
         "line": {
          "color": "rgb(173, 216, 230, 0.4)",
          "width": 8
         },
         "mode": "lines",
         "showlegend": false,
         "type": "scatter3d",
         "x": [
          -0.005799668803313007,
          0.11939853954002899
         ],
         "y": [
          0.6101264306749432,
          -0.35906539317576525
         ],
         "z": [
          -0.7857208970873446,
          -0.9200345833906349
         ]
        },
        {
         "hoverinfo": "text",
         "hovertext": "Length: 9.89e-01, Contributes -9.95e-01J",
         "line": {
          "color": "rgb(173, 216, 230, 0.4)",
          "width": 8
         },
         "mode": "lines",
         "showlegend": false,
         "type": "scatter3d",
         "x": [
          -0.005799668803313007,
          -0.8650231040899445
         ],
         "y": [
          0.6101264306749432,
          0.566789266587683
         ],
         "z": [
          -0.7857208970873446,
          -1.2739898351127765
         ]
        },
        {
         "hoverinfo": "text",
         "hovertext": "Length: 1.40e+00, Contributes -2.51e-01J",
         "line": {
          "color": "rgb(173, 216, 230, 0.4)",
          "width": 8
         },
         "mode": "lines",
         "showlegend": false,
         "type": "scatter3d",
         "x": [
          -0.005799668803313007,
          -0.7398236191452126
         ],
         "y": [
          0.6101264306749432,
          -0.40240216042034344
         ],
         "z": [
          -0.7857208970873446,
          -1.4083043842495222
         ]
        },
        {
         "hoverinfo": "text",
         "hovertext": "Length: 9.95e-01, Contributes -9.99e-01J",
         "line": {
          "color": "rgb(173, 216, 230, 0.4)",
          "width": 8
         },
         "mode": "lines",
         "showlegend": false,
         "type": "scatter3d",
         "x": [
          -0.005799668803313007,
          -0.033516426111483755
         ],
         "y": [
          0.6101264306749432,
          0.23201315498741742
         ],
         "z": [
          -0.7857208970873446,
          -1.7054568916953272
         ]
        },
        {
         "hoverinfo": "text",
         "hovertext": "Length: 1.64e+00, Contributes -9.98e-02J",
         "line": {
          "color": "rgb(173, 216, 230, 0.4)",
          "width": 8
         },
         "mode": "lines",
         "showlegend": false,
         "type": "scatter3d",
         "x": [
          -1.4952710726120826,
          0.11939853954002899
         ],
         "y": [
          -0.07540626857362182,
          -0.35906539317576525
         ],
         "z": [
          -0.8497137611835397,
          -0.9200345833906349
         ]
        },
        {
         "hoverinfo": "text",
         "hovertext": "Length: 9.95e-01, Contributes -9.99e-01J",
         "line": {
          "color": "rgb(173, 216, 230, 0.4)",
          "width": 8
         },
         "mode": "lines",
         "showlegend": false,
         "type": "scatter3d",
         "x": [
          -1.4952710726120826,
          -0.8650231040899445
         ],
         "y": [
          -0.07540626857362182,
          0.566789266587683
         ],
         "z": [
          -0.8497137611835397,
          -1.2739898351127765
         ]
        },
        {
         "hoverinfo": "text",
         "hovertext": "Length: 9.95e-01, Contributes -9.99e-01J",
         "line": {
          "color": "rgb(173, 216, 230, 0.4)",
          "width": 8
         },
         "mode": "lines",
         "showlegend": false,
         "type": "scatter3d",
         "x": [
          -1.4952710726120826,
          -0.7398236191452126
         ],
         "y": [
          -0.07540626857362182,
          -0.40240216042034344
         ],
         "z": [
          -0.8497137611835397,
          -1.4083043842495222
         ]
        },
        {
         "hoverinfo": "text",
         "hovertext": "Length: 1.72e+00, Contributes -7.54e-02J",
         "line": {
          "color": "rgb(173, 216, 230, 0.4)",
          "width": 8
         },
         "mode": "lines",
         "showlegend": false,
         "type": "scatter3d",
         "x": [
          -1.4952710726120826,
          -0.033516426111483755
         ],
         "y": [
          -0.07540626857362182,
          0.23201315498741742
         ],
         "z": [
          -0.8497137611835397,
          -1.7054568916953272
         ]
        },
        {
         "hoverinfo": "text",
         "hovertext": "Length: 1.40e+00, Contributes -2.51e-01J",
         "line": {
          "color": "rgb(173, 216, 230, 0.4)",
          "width": 8
         },
         "mode": "lines",
         "showlegend": false,
         "type": "scatter3d",
         "x": [
          0.11939853954002899,
          -0.8650231040899445
         ],
         "y": [
          -0.35906539317576525,
          0.566789266587683
         ],
         "z": [
          -0.9200345833906349,
          -1.2739898351127765
         ]
        },
        {
         "hoverinfo": "text",
         "hovertext": "Length: 9.89e-01, Contributes -9.95e-01J",
         "line": {
          "color": "rgb(173, 216, 230, 0.4)",
          "width": 8
         },
         "mode": "lines",
         "showlegend": false,
         "type": "scatter3d",
         "x": [
          0.11939853954002899,
          -0.7398236191452126
         ],
         "y": [
          -0.35906539317576525,
          -0.40240216042034344
         ],
         "z": [
          -0.9200345833906349,
          -1.4083043842495222
         ]
        },
        {
         "hoverinfo": "text",
         "hovertext": "Length: 9.95e-01, Contributes -9.99e-01J",
         "line": {
          "color": "rgb(173, 216, 230, 0.4)",
          "width": 8
         },
         "mode": "lines",
         "showlegend": false,
         "type": "scatter3d",
         "x": [
          0.11939853954002899,
          -0.033516426111483755
         ],
         "y": [
          -0.35906539317576525,
          0.23201315498741742
         ],
         "z": [
          -0.9200345833906349,
          -1.7054568916953272
         ]
        },
        {
         "hoverinfo": "text",
         "hovertext": "Length: 9.86e-01, Contributes -9.93e-01J",
         "line": {
          "color": "rgb(173, 216, 230, 0.4)",
          "width": 8
         },
         "mode": "lines",
         "showlegend": false,
         "type": "scatter3d",
         "x": [
          -0.8650231040899445,
          -0.7398236191452126
         ],
         "y": [
          0.566789266587683,
          -0.40240216042034344
         ],
         "z": [
          -1.2739898351127765,
          -1.4083043842495222
         ]
        },
        {
         "hoverinfo": "text",
         "hovertext": "Length: 9.95e-01, Contributes -9.99e-01J",
         "line": {
          "color": "rgb(173, 216, 230, 0.4)",
          "width": 8
         },
         "mode": "lines",
         "showlegend": false,
         "type": "scatter3d",
         "x": [
          -0.8650231040899445,
          -0.033516426111483755
         ],
         "y": [
          0.566789266587683,
          0.23201315498741742
         ],
         "z": [
          -1.2739898351127765,
          -1.7054568916953272
         ]
        },
        {
         "hoverinfo": "text",
         "hovertext": "Length: 9.95e-01, Contributes -9.99e-01J",
         "line": {
          "color": "rgb(173, 216, 230, 0.4)",
          "width": 8
         },
         "mode": "lines",
         "showlegend": false,
         "type": "scatter3d",
         "x": [
          -0.7398236191452126,
          -0.033516426111483755
         ],
         "y": [
          -0.40240216042034344,
          0.23201315498741742
         ],
         "z": [
          -1.4083043842495222,
          -1.7054568916953272
         ]
        },
        {
         "hovertext": [
          "Point 1",
          "Point 2",
          "Point 3",
          "Point 4",
          "Point 5",
          "Point 6",
          "Point 7",
          "Point 8",
          "Point 9"
         ],
         "marker": {
          "color": "red",
          "size": 8
         },
         "mode": "markers",
         "showlegend": false,
         "type": "scatter3d",
         "x": {
          "bdata": "AAAAAAAAAADRRxBDiBDrvyVexMbjDue/wOBnvWTBd785YThcoez3vwC8gxbnkL4/EDnL7kSu679+LyGVoqznv6AkDqQQKaG/",
          "dtype": "f8"
         },
         "y": {
          "bdata": "AAAAAAAAAAAdOXWZ/b3bP0Hnpo+kJOG/KpJF3SeG4z+s5W9B002zv8QtNGrt+ta/PPl2PiMj4j91Frb99MDZv5LUdGibss0/",
          "dtype": "f8"
         },
         "z": {
          "bdata": "AAAAAAAAAADs9UHiodDSv1vkNUg4adu/AsSYJqAk6b+Y0ufp2jDrv6JB213scO2/1O5TKkNi9L9QpJItaoj2v6AbaSqNSfu/",
          "dtype": "f8"
         }
        }
       ],
       "layout": {
        "height": 400,
        "paper_bgcolor": "rgba(0,0,0,0)",
        "plot_bgcolor": "rgba(0,0,0,0)",
        "scene": {
         "xaxis": {
          "showgrid": false,
          "showticklabels": false,
          "title": {
           "text": ""
          },
          "visible": false,
          "zeroline": false
         },
         "yaxis": {
          "showgrid": false,
          "showticklabels": false,
          "title": {
           "text": ""
          },
          "visible": false,
          "zeroline": false
         },
         "zaxis": {
          "showgrid": false,
          "showticklabels": false,
          "title": {
           "text": ""
          },
          "visible": false,
          "zeroline": false
         }
        },
        "template": {
         "data": {
          "bar": [
           {
            "error_x": {
             "color": "#2a3f5f"
            },
            "error_y": {
             "color": "#2a3f5f"
            },
            "marker": {
             "line": {
              "color": "#E5ECF6",
              "width": 0.5
             },
             "pattern": {
              "fillmode": "overlay",
              "size": 10,
              "solidity": 0.2
             }
            },
            "type": "bar"
           }
          ],
          "barpolar": [
           {
            "marker": {
             "line": {
              "color": "#E5ECF6",
              "width": 0.5
             },
             "pattern": {
              "fillmode": "overlay",
              "size": 10,
              "solidity": 0.2
             }
            },
            "type": "barpolar"
           }
          ],
          "carpet": [
           {
            "aaxis": {
             "endlinecolor": "#2a3f5f",
             "gridcolor": "white",
             "linecolor": "white",
             "minorgridcolor": "white",
             "startlinecolor": "#2a3f5f"
            },
            "baxis": {
             "endlinecolor": "#2a3f5f",
             "gridcolor": "white",
             "linecolor": "white",
             "minorgridcolor": "white",
             "startlinecolor": "#2a3f5f"
            },
            "type": "carpet"
           }
          ],
          "choropleth": [
           {
            "colorbar": {
             "outlinewidth": 0,
             "ticks": ""
            },
            "type": "choropleth"
           }
          ],
          "contour": [
           {
            "colorbar": {
             "outlinewidth": 0,
             "ticks": ""
            },
            "colorscale": [
             [
              0,
              "#0d0887"
             ],
             [
              0.1111111111111111,
              "#46039f"
             ],
             [
              0.2222222222222222,
              "#7201a8"
             ],
             [
              0.3333333333333333,
              "#9c179e"
             ],
             [
              0.4444444444444444,
              "#bd3786"
             ],
             [
              0.5555555555555556,
              "#d8576b"
             ],
             [
              0.6666666666666666,
              "#ed7953"
             ],
             [
              0.7777777777777778,
              "#fb9f3a"
             ],
             [
              0.8888888888888888,
              "#fdca26"
             ],
             [
              1,
              "#f0f921"
             ]
            ],
            "type": "contour"
           }
          ],
          "contourcarpet": [
           {
            "colorbar": {
             "outlinewidth": 0,
             "ticks": ""
            },
            "type": "contourcarpet"
           }
          ],
          "heatmap": [
           {
            "colorbar": {
             "outlinewidth": 0,
             "ticks": ""
            },
            "colorscale": [
             [
              0,
              "#0d0887"
             ],
             [
              0.1111111111111111,
              "#46039f"
             ],
             [
              0.2222222222222222,
              "#7201a8"
             ],
             [
              0.3333333333333333,
              "#9c179e"
             ],
             [
              0.4444444444444444,
              "#bd3786"
             ],
             [
              0.5555555555555556,
              "#d8576b"
             ],
             [
              0.6666666666666666,
              "#ed7953"
             ],
             [
              0.7777777777777778,
              "#fb9f3a"
             ],
             [
              0.8888888888888888,
              "#fdca26"
             ],
             [
              1,
              "#f0f921"
             ]
            ],
            "type": "heatmap"
           }
          ],
          "histogram": [
           {
            "marker": {
             "pattern": {
              "fillmode": "overlay",
              "size": 10,
              "solidity": 0.2
             }
            },
            "type": "histogram"
           }
          ],
          "histogram2d": [
           {
            "colorbar": {
             "outlinewidth": 0,
             "ticks": ""
            },
            "colorscale": [
             [
              0,
              "#0d0887"
             ],
             [
              0.1111111111111111,
              "#46039f"
             ],
             [
              0.2222222222222222,
              "#7201a8"
             ],
             [
              0.3333333333333333,
              "#9c179e"
             ],
             [
              0.4444444444444444,
              "#bd3786"
             ],
             [
              0.5555555555555556,
              "#d8576b"
             ],
             [
              0.6666666666666666,
              "#ed7953"
             ],
             [
              0.7777777777777778,
              "#fb9f3a"
             ],
             [
              0.8888888888888888,
              "#fdca26"
             ],
             [
              1,
              "#f0f921"
             ]
            ],
            "type": "histogram2d"
           }
          ],
          "histogram2dcontour": [
           {
            "colorbar": {
             "outlinewidth": 0,
             "ticks": ""
            },
            "colorscale": [
             [
              0,
              "#0d0887"
             ],
             [
              0.1111111111111111,
              "#46039f"
             ],
             [
              0.2222222222222222,
              "#7201a8"
             ],
             [
              0.3333333333333333,
              "#9c179e"
             ],
             [
              0.4444444444444444,
              "#bd3786"
             ],
             [
              0.5555555555555556,
              "#d8576b"
             ],
             [
              0.6666666666666666,
              "#ed7953"
             ],
             [
              0.7777777777777778,
              "#fb9f3a"
             ],
             [
              0.8888888888888888,
              "#fdca26"
             ],
             [
              1,
              "#f0f921"
             ]
            ],
            "type": "histogram2dcontour"
           }
          ],
          "mesh3d": [
           {
            "colorbar": {
             "outlinewidth": 0,
             "ticks": ""
            },
            "type": "mesh3d"
           }
          ],
          "parcoords": [
           {
            "line": {
             "colorbar": {
              "outlinewidth": 0,
              "ticks": ""
             }
            },
            "type": "parcoords"
           }
          ],
          "pie": [
           {
            "automargin": true,
            "type": "pie"
           }
          ],
          "scatter": [
           {
            "fillpattern": {
             "fillmode": "overlay",
             "size": 10,
             "solidity": 0.2
            },
            "type": "scatter"
           }
          ],
          "scatter3d": [
           {
            "line": {
             "colorbar": {
              "outlinewidth": 0,
              "ticks": ""
             }
            },
            "marker": {
             "colorbar": {
              "outlinewidth": 0,
              "ticks": ""
             }
            },
            "type": "scatter3d"
           }
          ],
          "scattercarpet": [
           {
            "marker": {
             "colorbar": {
              "outlinewidth": 0,
              "ticks": ""
             }
            },
            "type": "scattercarpet"
           }
          ],
          "scattergeo": [
           {
            "marker": {
             "colorbar": {
              "outlinewidth": 0,
              "ticks": ""
             }
            },
            "type": "scattergeo"
           }
          ],
          "scattergl": [
           {
            "marker": {
             "colorbar": {
              "outlinewidth": 0,
              "ticks": ""
             }
            },
            "type": "scattergl"
           }
          ],
          "scattermap": [
           {
            "marker": {
             "colorbar": {
              "outlinewidth": 0,
              "ticks": ""
             }
            },
            "type": "scattermap"
           }
          ],
          "scattermapbox": [
           {
            "marker": {
             "colorbar": {
              "outlinewidth": 0,
              "ticks": ""
             }
            },
            "type": "scattermapbox"
           }
          ],
          "scatterpolar": [
           {
            "marker": {
             "colorbar": {
              "outlinewidth": 0,
              "ticks": ""
             }
            },
            "type": "scatterpolar"
           }
          ],
          "scatterpolargl": [
           {
            "marker": {
             "colorbar": {
              "outlinewidth": 0,
              "ticks": ""
             }
            },
            "type": "scatterpolargl"
           }
          ],
          "scatterternary": [
           {
            "marker": {
             "colorbar": {
              "outlinewidth": 0,
              "ticks": ""
             }
            },
            "type": "scatterternary"
           }
          ],
          "surface": [
           {
            "colorbar": {
             "outlinewidth": 0,
             "ticks": ""
            },
            "colorscale": [
             [
              0,
              "#0d0887"
             ],
             [
              0.1111111111111111,
              "#46039f"
             ],
             [
              0.2222222222222222,
              "#7201a8"
             ],
             [
              0.3333333333333333,
              "#9c179e"
             ],
             [
              0.4444444444444444,
              "#bd3786"
             ],
             [
              0.5555555555555556,
              "#d8576b"
             ],
             [
              0.6666666666666666,
              "#ed7953"
             ],
             [
              0.7777777777777778,
              "#fb9f3a"
             ],
             [
              0.8888888888888888,
              "#fdca26"
             ],
             [
              1,
              "#f0f921"
             ]
            ],
            "type": "surface"
           }
          ],
          "table": [
           {
            "cells": {
             "fill": {
              "color": "#EBF0F8"
             },
             "line": {
              "color": "white"
             }
            },
            "header": {
             "fill": {
              "color": "#C8D4E3"
             },
             "line": {
              "color": "white"
             }
            },
            "type": "table"
           }
          ]
         },
         "layout": {
          "annotationdefaults": {
           "arrowcolor": "#2a3f5f",
           "arrowhead": 0,
           "arrowwidth": 1
          },
          "autotypenumbers": "strict",
          "coloraxis": {
           "colorbar": {
            "outlinewidth": 0,
            "ticks": ""
           }
          },
          "colorscale": {
           "diverging": [
            [
             0,
             "#8e0152"
            ],
            [
             0.1,
             "#c51b7d"
            ],
            [
             0.2,
             "#de77ae"
            ],
            [
             0.3,
             "#f1b6da"
            ],
            [
             0.4,
             "#fde0ef"
            ],
            [
             0.5,
             "#f7f7f7"
            ],
            [
             0.6,
             "#e6f5d0"
            ],
            [
             0.7,
             "#b8e186"
            ],
            [
             0.8,
             "#7fbc41"
            ],
            [
             0.9,
             "#4d9221"
            ],
            [
             1,
             "#276419"
            ]
           ],
           "sequential": [
            [
             0,
             "#0d0887"
            ],
            [
             0.1111111111111111,
             "#46039f"
            ],
            [
             0.2222222222222222,
             "#7201a8"
            ],
            [
             0.3333333333333333,
             "#9c179e"
            ],
            [
             0.4444444444444444,
             "#bd3786"
            ],
            [
             0.5555555555555556,
             "#d8576b"
            ],
            [
             0.6666666666666666,
             "#ed7953"
            ],
            [
             0.7777777777777778,
             "#fb9f3a"
            ],
            [
             0.8888888888888888,
             "#fdca26"
            ],
            [
             1,
             "#f0f921"
            ]
           ],
           "sequentialminus": [
            [
             0,
             "#0d0887"
            ],
            [
             0.1111111111111111,
             "#46039f"
            ],
            [
             0.2222222222222222,
             "#7201a8"
            ],
            [
             0.3333333333333333,
             "#9c179e"
            ],
            [
             0.4444444444444444,
             "#bd3786"
            ],
            [
             0.5555555555555556,
             "#d8576b"
            ],
            [
             0.6666666666666666,
             "#ed7953"
            ],
            [
             0.7777777777777778,
             "#fb9f3a"
            ],
            [
             0.8888888888888888,
             "#fdca26"
            ],
            [
             1,
             "#f0f921"
            ]
           ]
          },
          "colorway": [
           "#636efa",
           "#EF553B",
           "#00cc96",
           "#ab63fa",
           "#FFA15A",
           "#19d3f3",
           "#FF6692",
           "#B6E880",
           "#FF97FF",
           "#FECB52"
          ],
          "font": {
           "color": "#2a3f5f"
          },
          "geo": {
           "bgcolor": "white",
           "lakecolor": "white",
           "landcolor": "#E5ECF6",
           "showlakes": true,
           "showland": true,
           "subunitcolor": "white"
          },
          "hoverlabel": {
           "align": "left"
          },
          "hovermode": "closest",
          "mapbox": {
           "style": "light"
          },
          "paper_bgcolor": "white",
          "plot_bgcolor": "#E5ECF6",
          "polar": {
           "angularaxis": {
            "gridcolor": "white",
            "linecolor": "white",
            "ticks": ""
           },
           "bgcolor": "#E5ECF6",
           "radialaxis": {
            "gridcolor": "white",
            "linecolor": "white",
            "ticks": ""
           }
          },
          "scene": {
           "xaxis": {
            "backgroundcolor": "#E5ECF6",
            "gridcolor": "white",
            "gridwidth": 2,
            "linecolor": "white",
            "showbackground": true,
            "ticks": "",
            "zerolinecolor": "white"
           },
           "yaxis": {
            "backgroundcolor": "#E5ECF6",
            "gridcolor": "white",
            "gridwidth": 2,
            "linecolor": "white",
            "showbackground": true,
            "ticks": "",
            "zerolinecolor": "white"
           },
           "zaxis": {
            "backgroundcolor": "#E5ECF6",
            "gridcolor": "white",
            "gridwidth": 2,
            "linecolor": "white",
            "showbackground": true,
            "ticks": "",
            "zerolinecolor": "white"
           }
          },
          "shapedefaults": {
           "line": {
            "color": "#2a3f5f"
           }
          },
          "ternary": {
           "aaxis": {
            "gridcolor": "white",
            "linecolor": "white",
            "ticks": ""
           },
           "baxis": {
            "gridcolor": "white",
            "linecolor": "white",
            "ticks": ""
           },
           "bgcolor": "#E5ECF6",
           "caxis": {
            "gridcolor": "white",
            "linecolor": "white",
            "ticks": ""
           }
          },
          "title": {
           "x": 0.05
          },
          "xaxis": {
           "automargin": true,
           "gridcolor": "white",
           "linecolor": "white",
           "ticks": "",
           "title": {
            "standoff": 15
           },
           "zerolinecolor": "white",
           "zerolinewidth": 2
          },
          "yaxis": {
           "automargin": true,
           "gridcolor": "white",
           "linecolor": "white",
           "ticks": "",
           "title": {
            "standoff": 15
           },
           "zerolinecolor": "white",
           "zerolinewidth": 2
          }
         }
        },
        "title": {
         "text": "9-Atom Configuration: -23.2698J"
        },
        "width": 600
       }
      }
     },
     "metadata": {},
     "output_type": "display_data"
    }
   ],
   "source": [
    "for atoms in range(2,10):\n",
    "    config = bfgs(atoms, debug=False, g_tol=1e-8, energy_tol=1e-8, debug_rate=20)\n",
    "    plot_3d_points(*config)"
   ]
  },
  {
   "cell_type": "code",
   "execution_count": 13,
   "id": "b55a135c-fb4b-480c-93e2-eb810bf220e9",
   "metadata": {},
   "outputs": [],
   "source": [
    "def plot_convergence_order(energies, final_energy, label=\"\"):\n",
    "    \"\"\"\n",
    "    energies: 1D tensor [E0, E1, ..., E_N]\n",
    "    final_energy: scalar tensor E*\n",
    "    \n",
    "    Plots (log10 e_n, log10 e_{n+1}) with a linear fit whose slope ≈ order p.\n",
    "    \"\"\"\n",
    "    # 1) drop last energy\n",
    "    E = energies[:-1]\n",
    "    # 2) absolute errors\n",
    "    errs = (E - final_energy).abs()\n",
    "    # 3) log10 errors, set zeros to -inf\n",
    "    log_err = torch.where(errs > 0,\n",
    "                          errs.log10(),\n",
    "                          torch.full_like(errs, float(\"-inf\")))\n",
    "    # 4) keep only finite entries\n",
    "    mask = torch.isfinite(log_err)\n",
    "    log_err = log_err[mask]\n",
    "    # 5) x = log_err[:-1], y = log_err[1:]\n",
    "    x = log_err[:-1]\n",
    "    y = log_err[1:]\n",
    "    # 6) compute slope p and intercept a in torch\n",
    "    xm = x.mean()\n",
    "    ym = y.mean()\n",
    "    num = ((x - xm) * (y - ym)).sum()\n",
    "    den = ((x - xm)**2).sum()\n",
    "    p = num / den              # slope\n",
    "    a = ym - p * xm            # intercept\n",
    "    \n",
    "    # 7) convert to NumPy for plotting\n",
    "    x_np = x.detach().numpy()\n",
    "    y_np = y.detach().numpy()\n",
    "    p_val = p.item()\n",
    "    a_val = a.item()\n",
    "    \n",
    "    # 8) plot\n",
    "    plt.figure()\n",
    "    plt.plot(x_np, y_np, \"o\", label=\"data\")\n",
    "    plt.plot(x_np, p_val * x_np + a_val, \"-\", label=f\"slope ≈ {p_val:.2f}\")\n",
    "    plt.xlabel(\"log10(error_n)\")\n",
    "    plt.ylabel(\"log10(error_{n+1})\")\n",
    "    plt.title(f\"Estimated {label}Convergence Order p ≈ {p_val:.2f}\")\n",
    "    plt.grid(True, linestyle=\"--\", alpha=0.5)\n",
    "    plt.legend()\n",
    "    plt.show()\n",
    "\n",
    "def plot_convergence(energies, final_energy, label=\"\"):\n",
    "    \"\"\"\n",
    "    Plots the convergence of absolute errors on a log10 scale,\n",
    "    ignoring the last entry in the energies tensor.\n",
    "    \n",
    "    energies: 1D torch.Tensor of computed energies [E0, E1, ..., EN]\n",
    "    final_energy: scalar torch.Tensor (or float castable) E*\n",
    "    \"\"\"\n",
    "    # drop the last computed energy\n",
    "    E = energies[:-1]\n",
    "    errors = (E - final_energy).abs()\n",
    "    \n",
    "    # compute log10(errors), putting -inf where error is zero\n",
    "    log_errors = torch.where(\n",
    "        errors > 0,\n",
    "        errors.log10(),\n",
    "        torch.full_like(errors, float(\"-inf\"))\n",
    "    )\n",
    "    \n",
    "    # move to CPU+NumPy for plotting\n",
    "    iters = torch.arange(log_errors.size(0)).cpu().numpy()\n",
    "    log_e = log_errors.detach().numpy()\n",
    "    \n",
    "    plt.figure()\n",
    "    plt.plot(iters, log_e, marker='o')\n",
    "    plt.xlabel('Iteration')\n",
    "    plt.ylabel('log10(|Error|)')\n",
    "    plt.title(f'{label}Convergence on Log Scale')\n",
    "    plt.grid(True, linestyle='--', alpha=0.5)\n",
    "    plt.show()\n",
    "\n",
    "    plot_convergence_order(energies, final_energy, label)"
   ]
  },
  {
   "cell_type": "code",
   "execution_count": 86,
   "id": "6a6054cc-7ccb-4a42-bdf9-744c490fc2a3",
   "metadata": {},
   "outputs": [
    {
     "data": {
      "image/png": "[encoded data removed]",
      "text/plain": [
       "<Figure size 640x480 with 1 Axes>"
      ]
     },
     "metadata": {},
     "output_type": "display_data"
    },
    {
     "data": {
      "image/png": "[encoded data removed]",
      "text/plain": [
       "<Figure size 640x480 with 1 Axes>"
      ]
     },
     "metadata": {},
     "output_type": "display_data"
    }
   ],
   "source": [
    "plot_convergence(*(gd_solve(15, track_energy=True, debug=False, gen=generator.init_pos)), label=\"GD \")"
   ]
  },
  {
   "cell_type": "code",
   "execution_count": 129,
   "id": "0ef0d6bd-f9c4-499c-8939-2b8737d8109c",
   "metadata": {},
   "outputs": [
    {
     "name": "stdout",
     "output_type": "stream",
     "text": [
      "46\n"
     ]
    },
    {
     "data": {
      "image/png": "[encoded data removed]",
      "text/plain": [
       "<Figure size 640x480 with 1 Axes>"
      ]
     },
     "metadata": {},
     "output_type": "display_data"
    },
    {
     "data": {
      "image/png": "[encoded data removed]",
      "text/plain": [
       "<Figure size 640x480 with 1 Axes>"
      ]
     },
     "metadata": {},
     "output_type": "display_data"
    }
   ],
   "source": [
    "plot_convergence(*(bfgs(8, track_energy=True, debug=False, gen=generator.uniform_sphere)), label=\"BFGS \")"
   ]
  },
  {
   "cell_type": "code",
   "execution_count": null,
   "id": "258f023b-b737-48ef-a0f9-d60fe472b4c5",
   "metadata": {},
   "outputs": [],
   "source": []
  }
 ],
 "metadata": {
  "kernelspec": {
   "display_name": "mlc-config",
   "language": "python",
   "name": "python3"
  },
  "language_info": {
   "codemirror_mode": {
    "name": "ipython",
    "version": 3
   },
   "file_extension": ".py",
   "mimetype": "text/x-python",
   "name": "python",
   "nbconvert_exporter": "python",
   "pygments_lexer": "ipython3",
   "version": "3.10.12"
  }
 },
 "nbformat": 4,
 "nbformat_minor": 5
}
