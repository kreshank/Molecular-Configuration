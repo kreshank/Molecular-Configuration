{
 "cells": [
  {
   "cell_type": "code",
   "execution_count": 47,
   "id": "a961ca72-a2e2-490c-8640-ff90ed69e36a",
   "metadata": {},
   "outputs": [],
   "source": [
    "import numpy as np\n",
    "import matplotlib.pyplot as plt \n",
    "import torch\n",
    "import generator\n",
    "import plotly.graph_objects as go\n",
    "from itertools import combinations\n",
    "from scipy.spatial.transform import Rotation as R\n",
    "from sklearn.decomposition import PCA"
   ]
  },
  {
   "cell_type": "code",
   "execution_count": 48,
   "id": "059e854a-7289-44f4-bd0c-4663afb581e1",
   "metadata": {},
   "outputs": [],
   "source": [
    "def V(X, i, j):\n",
    "    r_ij = X[i] - X[j]\n",
    "    r = torch.norm(r_ij).pow(-6)\n",
    "    return r.pow(2) - 2 * r\n",
    "\n",
    "def center(X):\n",
    "    Y = X - X[0]\n",
    "    return Y\n",
    "    \n",
    "def system_potential(X):\n",
    "    N, _ = X.shape\n",
    "    energy = 0.0\n",
    "    Y = center(X)\n",
    "    for i in range(N - 1):\n",
    "        for j in range(i + 1, N): \n",
    "            energy += V(Y, i, j)\n",
    "    return energy\n",
    "\n",
    "def line_search(X, energy, g, alpha_0=1.0, factor=0.5, c=1e-4, max_iter=10, tol=1e-8):\n",
    "    alpha = alpha_0\n",
    "    dot = torch.sum(-g * g).item()    \n",
    "    for _ in range(max_iter):\n",
    "        X_k = X - alpha * g\n",
    "        energy_new = system_potential(X_k)\n",
    "\n",
    "        if energy_new <= energy + c * alpha * dot:\n",
    "            break\n",
    "        alpha *= factor\n",
    "        if alpha < tol:\n",
    "            break\n",
    "    return alpha\n",
    "\n",
    "def gd_solve(natoms, lr=0.008, tol=1e-8, max_iter=2001, debug=True, debug_rate=400, save_initial=False, gen=generator.uniform_sphere):\n",
    "    X = gen(natoms).clone().requires_grad_().to('cuda' if torch.cuda.is_available() else 'cpu', torch.float64)\n",
    "    if save_initial:\n",
    "        orig = X.clone()\n",
    "\n",
    "    for _iter_ in range(max_iter):\n",
    "        energy = system_potential(X) \n",
    "        g = torch.autograd.grad(energy, X)[0] \n",
    "\n",
    "        g_norm = g.norm().item()\n",
    "        if g_norm < tol:\n",
    "            if debug:\n",
    "                print(f\"Converged on step {_iter_}, energy: {energy.item():.6f}, gradient norm = {g_norm:.3e}\")\n",
    "            break\n",
    "        \n",
    "        with torch.no_grad(): \n",
    "            X -= line_search(X, energy, g) * g \n",
    "            X.requires_grad_() \n",
    "\n",
    "        if debug and _iter_ % debug_rate == 0:\n",
    "            print(f\"Step {_iter_}, energy: {energy.item():.6f}, gradient norm: {g_norm:.2e}\")\n",
    "    if save_initial:\n",
    "        return orig.detach(), X.detach(), energy    \n",
    "    return X.detach(), energy"
   ]
  },
  {
   "cell_type": "code",
   "execution_count": 4,
   "id": "145a60c0-23c4-4a87-9f39-d66bd82b947c",
   "metadata": {},
   "outputs": [],
   "source": [
    "def plot_3d_points(points, energy):\n",
    "    points_np = center(points).numpy()\n",
    "    N,_ = points_np.shape\n",
    "    x = points_np[:, 0]\n",
    "    y = points_np[:, 1]\n",
    "    z = points_np[:, 2]\n",
    "    fig = go.Figure()\n",
    "    for i, j in combinations(range(len(points_np)), 2):\n",
    "        edge_len = np.linalg.norm(points_np[i] - points_np[j])\n",
    "        V_ij = V(points, i, j)\n",
    "        fig.add_trace(go.Scatter3d(\n",
    "            x=[points_np[i, 0], points_np[j, 0]],\n",
    "            y=[points_np[i, 1], points_np[j, 1]],\n",
    "            z=[points_np[i, 2], points_np[j, 2]],\n",
    "            mode='lines',\n",
    "            line=dict(color='rgb(173, 216, 230, 0.4)', width=8),\n",
    "            showlegend=False, \n",
    "            hovertext=f\"Length: {edge_len:.2e}, Contributes {V_ij:.2e}J\",\n",
    "            hoverinfo=\"text\",\n",
    "        ))\n",
    "    fig.add_trace(go.Scatter3d(\n",
    "        x=x, y=y, z=z,\n",
    "        mode='markers',\n",
    "        hovertext=[f\"Point {i + 1}\" for i in range(N)],\n",
    "        marker=dict(size=8, color='red'),\n",
    "        showlegend=False\n",
    "    ))\n",
    "    fig.update_layout(\n",
    "        scene=dict(\n",
    "            xaxis=dict(showgrid=False, zeroline=False, showticklabels=False, title=''),  # Remove grid, zero line, and ticks\n",
    "            yaxis=dict(showgrid=False, zeroline=False, showticklabels=False, title=''),\n",
    "            zaxis=dict(showgrid=False, zeroline=False, showticklabels=False, title=''),\n",
    "        ),\n",
    "        title=f\"{N}-Atom Configuration: {energy:.4f}J\",\n",
    "        width=600,\n",
    "        height=400,\n",
    "        plot_bgcolor='rgba(0,0,0,0)',\n",
    "        paper_bgcolor='rgba(0,0,0,0)',\n",
    "    )\n",
    "    fig.update_scenes(xaxis_visible=False, yaxis_visible=False,zaxis_visible=False)\n",
    "    fig.show()"
   ]
  },
  {
   "cell_type": "code",
   "execution_count": 49,
   "id": "73675db7-3339-41c2-8577-8d0dbbe92031",
   "metadata": {
    "scrolled": true
   },
   "outputs": [
    {
     "data": {
      "application/vnd.plotly.v1+json": {
       "config": {
        "plotlyServerURL": "https://plot.ly"
       },
       "data": [
        {
         "hoverinfo": "text",
         "hovertext": "Length: 1.00e+00, Contributes -1.00e+00J",
         "line": {
          "color": "rgb(173, 216, 230, 0.4)",
          "width": 8
         },
         "mode": "lines",
         "showlegend": false,
         "type": "scatter3d",
         "x": [
          0,
          0.7923308825446495
         ],
         "y": [
          0,
          -0.30805886957051326
         ],
         "z": [
          0,
          0.5266037439505291
         ]
        },
        {
         "hovertext": [
          "Point 1",
          "Point 2"
         ],
         "marker": {
          "color": "red",
          "size": 8
         },
         "mode": "markers",
         "showlegend": false,
         "type": "scatter3d",
         "x": {
          "bdata": "AAAAAAAAAACXe4RLxlrpPw==",
          "dtype": "f8"
         },
         "y": {
          "bdata": "AAAAAAAAAADPE4OMPLfTvw==",
          "dtype": "f8"
         },
         "z": {
          "bdata": "AAAAAAAAAABu/0YY8NngPw==",
          "dtype": "f8"
         }
        }
       ],
       "layout": {
        "height": 400,
        "paper_bgcolor": "rgba(0,0,0,0)",
        "plot_bgcolor": "rgba(0,0,0,0)",
        "scene": {
         "xaxis": {
          "showgrid": false,
          "showticklabels": false,
          "title": {
           "text": ""
          },
          "visible": false,
          "zeroline": false
         },
         "yaxis": {
          "showgrid": false,
          "showticklabels": false,
          "title": {
           "text": ""
          },
          "visible": false,
          "zeroline": false
         },
         "zaxis": {
          "showgrid": false,
          "showticklabels": false,
          "title": {
           "text": ""
          },
          "visible": false,
          "zeroline": false
         }
        },
        "template": {
         "data": {
          "bar": [
           {
            "error_x": {
             "color": "#2a3f5f"
            },
            "error_y": {
             "color": "#2a3f5f"
            },
            "marker": {
             "line": {
              "color": "#E5ECF6",
              "width": 0.5
             },
             "pattern": {
              "fillmode": "overlay",
              "size": 10,
              "solidity": 0.2
             }
            },
            "type": "bar"
           }
          ],
          "barpolar": [
           {
            "marker": {
             "line": {
              "color": "#E5ECF6",
              "width": 0.5
             },
             "pattern": {
              "fillmode": "overlay",
              "size": 10,
              "solidity": 0.2
             }
            },
            "type": "barpolar"
           }
          ],
          "carpet": [
           {
            "aaxis": {
             "endlinecolor": "#2a3f5f",
             "gridcolor": "white",
             "linecolor": "white",
             "minorgridcolor": "white",
             "startlinecolor": "#2a3f5f"
            },
            "baxis": {
             "endlinecolor": "#2a3f5f",
             "gridcolor": "white",
             "linecolor": "white",
             "minorgridcolor": "white",
             "startlinecolor": "#2a3f5f"
            },
            "type": "carpet"
           }
          ],
          "choropleth": [
           {
            "colorbar": {
             "outlinewidth": 0,
             "ticks": ""
            },
            "type": "choropleth"
           }
          ],
          "contour": [
           {
            "colorbar": {
             "outlinewidth": 0,
             "ticks": ""
            },
            "colorscale": [
             [
              0,
              "#0d0887"
             ],
             [
              0.1111111111111111,
              "#46039f"
             ],
             [
              0.2222222222222222,
              "#7201a8"
             ],
             [
              0.3333333333333333,
              "#9c179e"
             ],
             [
              0.4444444444444444,
              "#bd3786"
             ],
             [
              0.5555555555555556,
              "#d8576b"
             ],
             [
              0.6666666666666666,
              "#ed7953"
             ],
             [
              0.7777777777777778,
              "#fb9f3a"
             ],
             [
              0.8888888888888888,
              "#fdca26"
             ],
             [
              1,
              "#f0f921"
             ]
            ],
            "type": "contour"
           }
          ],
          "contourcarpet": [
           {
            "colorbar": {
             "outlinewidth": 0,
             "ticks": ""
            },
            "type": "contourcarpet"
           }
          ],
          "heatmap": [
           {
            "colorbar": {
             "outlinewidth": 0,
             "ticks": ""
            },
            "colorscale": [
             [
              0,
              "#0d0887"
             ],
             [
              0.1111111111111111,
              "#46039f"
             ],
             [
              0.2222222222222222,
              "#7201a8"
             ],
             [
              0.3333333333333333,
              "#9c179e"
             ],
             [
              0.4444444444444444,
              "#bd3786"
             ],
             [
              0.5555555555555556,
              "#d8576b"
             ],
             [
              0.6666666666666666,
              "#ed7953"
             ],
             [
              0.7777777777777778,
              "#fb9f3a"
             ],
             [
              0.8888888888888888,
              "#fdca26"
             ],
             [
              1,
              "#f0f921"
             ]
            ],
            "type": "heatmap"
           }
          ],
          "histogram": [
           {
            "marker": {
             "pattern": {
              "fillmode": "overlay",
              "size": 10,
              "solidity": 0.2
             }
            },
            "type": "histogram"
           }
          ],
          "histogram2d": [
           {
            "colorbar": {
             "outlinewidth": 0,
             "ticks": ""
            },
            "colorscale": [
             [
              0,
              "#0d0887"
             ],
             [
              0.1111111111111111,
              "#46039f"
             ],
             [
              0.2222222222222222,
              "#7201a8"
             ],
             [
              0.3333333333333333,
              "#9c179e"
             ],
             [
              0.4444444444444444,
              "#bd3786"
             ],
             [
              0.5555555555555556,
              "#d8576b"
             ],
             [
              0.6666666666666666,
              "#ed7953"
             ],
             [
              0.7777777777777778,
              "#fb9f3a"
             ],
             [
              0.8888888888888888,
              "#fdca26"
             ],
             [
              1,
              "#f0f921"
             ]
            ],
            "type": "histogram2d"
           }
          ],
          "histogram2dcontour": [
           {
            "colorbar": {
             "outlinewidth": 0,
             "ticks": ""
            },
            "colorscale": [
             [
              0,
              "#0d0887"
             ],
             [
              0.1111111111111111,
              "#46039f"
             ],
             [
              0.2222222222222222,
              "#7201a8"
             ],
             [
              0.3333333333333333,
              "#9c179e"
             ],
             [
              0.4444444444444444,
              "#bd3786"
             ],
             [
              0.5555555555555556,
              "#d8576b"
             ],
             [
              0.6666666666666666,
              "#ed7953"
             ],
             [
              0.7777777777777778,
              "#fb9f3a"
             ],
             [
              0.8888888888888888,
              "#fdca26"
             ],
             [
              1,
              "#f0f921"
             ]
            ],
            "type": "histogram2dcontour"
           }
          ],
          "mesh3d": [
           {
            "colorbar": {
             "outlinewidth": 0,
             "ticks": ""
            },
            "type": "mesh3d"
           }
          ],
          "parcoords": [
           {
            "line": {
             "colorbar": {
              "outlinewidth": 0,
              "ticks": ""
             }
            },
            "type": "parcoords"
           }
          ],
          "pie": [
           {
            "automargin": true,
            "type": "pie"
           }
          ],
          "scatter": [
           {
            "fillpattern": {
             "fillmode": "overlay",
             "size": 10,
             "solidity": 0.2
            },
            "type": "scatter"
           }
          ],
          "scatter3d": [
           {
            "line": {
             "colorbar": {
              "outlinewidth": 0,
              "ticks": ""
             }
            },
            "marker": {
             "colorbar": {
              "outlinewidth": 0,
              "ticks": ""
             }
            },
            "type": "scatter3d"
           }
          ],
          "scattercarpet": [
           {
            "marker": {
             "colorbar": {
              "outlinewidth": 0,
              "ticks": ""
             }
            },
            "type": "scattercarpet"
           }
          ],
          "scattergeo": [
           {
            "marker": {
             "colorbar": {
              "outlinewidth": 0,
              "ticks": ""
             }
            },
            "type": "scattergeo"
           }
          ],
          "scattergl": [
           {
            "marker": {
             "colorbar": {
              "outlinewidth": 0,
              "ticks": ""
             }
            },
            "type": "scattergl"
           }
          ],
          "scattermap": [
           {
            "marker": {
             "colorbar": {
              "outlinewidth": 0,
              "ticks": ""
             }
            },
            "type": "scattermap"
           }
          ],
          "scattermapbox": [
           {
            "marker": {
             "colorbar": {
              "outlinewidth": 0,
              "ticks": ""
             }
            },
            "type": "scattermapbox"
           }
          ],
          "scatterpolar": [
           {
            "marker": {
             "colorbar": {
              "outlinewidth": 0,
              "ticks": ""
             }
            },
            "type": "scatterpolar"
           }
          ],
          "scatterpolargl": [
           {
            "marker": {
             "colorbar": {
              "outlinewidth": 0,
              "ticks": ""
             }
            },
            "type": "scatterpolargl"
           }
          ],
          "scatterternary": [
           {
            "marker": {
             "colorbar": {
              "outlinewidth": 0,
              "ticks": ""
             }
            },
            "type": "scatterternary"
           }
          ],
          "surface": [
           {
            "colorbar": {
             "outlinewidth": 0,
             "ticks": ""
            },
            "colorscale": [
             [
              0,
              "#0d0887"
             ],
             [
              0.1111111111111111,
              "#46039f"
             ],
             [
              0.2222222222222222,
              "#7201a8"
             ],
             [
              0.3333333333333333,
              "#9c179e"
             ],
             [
              0.4444444444444444,
              "#bd3786"
             ],
             [
              0.5555555555555556,
              "#d8576b"
             ],
             [
              0.6666666666666666,
              "#ed7953"
             ],
             [
              0.7777777777777778,
              "#fb9f3a"
             ],
             [
              0.8888888888888888,
              "#fdca26"
             ],
             [
              1,
              "#f0f921"
             ]
            ],
            "type": "surface"
           }
          ],
          "table": [
           {
            "cells": {
             "fill": {
              "color": "#EBF0F8"
             },
             "line": {
              "color": "white"
             }
            },
            "header": {
             "fill": {
              "color": "#C8D4E3"
             },
             "line": {
              "color": "white"
             }
            },
            "type": "table"
           }
          ]
         },
         "layout": {
          "annotationdefaults": {
           "arrowcolor": "#2a3f5f",
           "arrowhead": 0,
           "arrowwidth": 1
          },
          "autotypenumbers": "strict",
          "coloraxis": {
           "colorbar": {
            "outlinewidth": 0,
            "ticks": ""
           }
          },
          "colorscale": {
           "diverging": [
            [
             0,
             "#8e0152"
            ],
            [
             0.1,
             "#c51b7d"
            ],
            [
             0.2,
             "#de77ae"
            ],
            [
             0.3,
             "#f1b6da"
            ],
            [
             0.4,
             "#fde0ef"
            ],
            [
             0.5,
             "#f7f7f7"
            ],
            [
             0.6,
             "#e6f5d0"
            ],
            [
             0.7,
             "#b8e186"
            ],
            [
             0.8,
             "#7fbc41"
            ],
            [
             0.9,
             "#4d9221"
            ],
            [
             1,
             "#276419"
            ]
           ],
           "sequential": [
            [
             0,
             "#0d0887"
            ],
            [
             0.1111111111111111,
             "#46039f"
            ],
            [
             0.2222222222222222,
             "#7201a8"
            ],
            [
             0.3333333333333333,
             "#9c179e"
            ],
            [
             0.4444444444444444,
             "#bd3786"
            ],
            [
             0.5555555555555556,
             "#d8576b"
            ],
            [
             0.6666666666666666,
             "#ed7953"
            ],
            [
             0.7777777777777778,
             "#fb9f3a"
            ],
            [
             0.8888888888888888,
             "#fdca26"
            ],
            [
             1,
             "#f0f921"
            ]
           ],
           "sequentialminus": [
            [
             0,
             "#0d0887"
            ],
            [
             0.1111111111111111,
             "#46039f"
            ],
            [
             0.2222222222222222,
             "#7201a8"
            ],
            [
             0.3333333333333333,
             "#9c179e"
            ],
            [
             0.4444444444444444,
             "#bd3786"
            ],
            [
             0.5555555555555556,
             "#d8576b"
            ],
            [
             0.6666666666666666,
             "#ed7953"
            ],
            [
             0.7777777777777778,
             "#fb9f3a"
            ],
            [
             0.8888888888888888,
             "#fdca26"
            ],
            [
             1,
             "#f0f921"
            ]
           ]
          },
          "colorway": [
           "#636efa",
           "#EF553B",
           "#00cc96",
           "#ab63fa",
           "#FFA15A",
           "#19d3f3",
           "#FF6692",
           "#B6E880",
           "#FF97FF",
           "#FECB52"
          ],
          "font": {
           "color": "#2a3f5f"
          },
          "geo": {
           "bgcolor": "white",
           "lakecolor": "white",
           "landcolor": "#E5ECF6",
           "showlakes": true,
           "showland": true,
           "subunitcolor": "white"
          },
          "hoverlabel": {
           "align": "left"
          },
          "hovermode": "closest",
          "mapbox": {
           "style": "light"
          },
          "paper_bgcolor": "white",
          "plot_bgcolor": "#E5ECF6",
          "polar": {
           "angularaxis": {
            "gridcolor": "white",
            "linecolor": "white",
            "ticks": ""
           },
           "bgcolor": "#E5ECF6",
           "radialaxis": {
            "gridcolor": "white",
            "linecolor": "white",
            "ticks": ""
           }
          },
          "scene": {
           "xaxis": {
            "backgroundcolor": "#E5ECF6",
            "gridcolor": "white",
            "gridwidth": 2,
            "linecolor": "white",
            "showbackground": true,
            "ticks": "",
            "zerolinecolor": "white"
           },
           "yaxis": {
            "backgroundcolor": "#E5ECF6",
            "gridcolor": "white",
            "gridwidth": 2,
            "linecolor": "white",
            "showbackground": true,
            "ticks": "",
            "zerolinecolor": "white"
           },
           "zaxis": {
            "backgroundcolor": "#E5ECF6",
            "gridcolor": "white",
            "gridwidth": 2,
            "linecolor": "white",
            "showbackground": true,
            "ticks": "",
            "zerolinecolor": "white"
           }
          },
          "shapedefaults": {
           "line": {
            "color": "#2a3f5f"
           }
          },
          "ternary": {
           "aaxis": {
            "gridcolor": "white",
            "linecolor": "white",
            "ticks": ""
           },
           "baxis": {
            "gridcolor": "white",
            "linecolor": "white",
            "ticks": ""
           },
           "bgcolor": "#E5ECF6",
           "caxis": {
            "gridcolor": "white",
            "linecolor": "white",
            "ticks": ""
           }
          },
          "title": {
           "x": 0.05
          },
          "xaxis": {
           "automargin": true,
           "gridcolor": "white",
           "linecolor": "white",
           "ticks": "",
           "title": {
            "standoff": 15
           },
           "zerolinecolor": "white",
           "zerolinewidth": 2
          },
          "yaxis": {
           "automargin": true,
           "gridcolor": "white",
           "linecolor": "white",
           "ticks": "",
           "title": {
            "standoff": 15
           },
           "zerolinecolor": "white",
           "zerolinewidth": 2
          }
         }
        },
        "title": {
         "text": "2-Atom Configuration: -1.0000J"
        },
        "width": 600
       }
      }
     },
     "metadata": {},
     "output_type": "display_data"
    },
    {
     "data": {
      "application/vnd.plotly.v1+json": {
       "config": {
        "plotlyServerURL": "https://plot.ly"
       },
       "data": [
        {
         "hoverinfo": "text",
         "hovertext": "Length: 1.00e+00, Contributes -1.00e+00J",
         "line": {
          "color": "rgb(173, 216, 230, 0.4)",
          "width": 8
         },
         "mode": "lines",
         "showlegend": false,
         "type": "scatter3d",
         "x": [
          0,
          -0.8421267271468167
         ],
         "y": [
          0,
          0.3627993204214426
         ],
         "z": [
          0,
          -0.3989977817656268
         ]
        },
        {
         "hoverinfo": "text",
         "hovertext": "Length: 1.00e+00, Contributes -1.00e+00J",
         "line": {
          "color": "rgb(173, 216, 230, 0.4)",
          "width": 8
         },
         "mode": "lines",
         "showlegend": false,
         "type": "scatter3d",
         "x": [
          0,
          -0.4070932376925938
         ],
         "y": [
          0,
          -0.4443850278948715
         ],
         "z": [
          0,
          -0.7979956416766923
         ]
        },
        {
         "hoverinfo": "text",
         "hovertext": "Length: 1.00e+00, Contributes -1.00e+00J",
         "line": {
          "color": "rgb(173, 216, 230, 0.4)",
          "width": 8
         },
         "mode": "lines",
         "showlegend": false,
         "type": "scatter3d",
         "x": [
          -0.8421267271468167,
          -0.4070932376925938
         ],
         "y": [
          0.3627993204214426,
          -0.4443850278948715
         ],
         "z": [
          -0.3989977817656268,
          -0.7979956416766923
         ]
        },
        {
         "hovertext": [
          "Point 1",
          "Point 2",
          "Point 3"
         ],
         "marker": {
          "color": "red",
          "size": 8
         },
         "mode": "markers",
         "showlegend": false,
         "type": "scatter3d",
         "x": {
          "bdata": "AAAAAAAAAADm2wXAs/Lqvxn/k8vQDdq/",
          "dtype": "f8"
         },
         "y": {
          "bdata": "AAAAAAAAAADYJg6kGjjXP0v+aObNcNy/",
          "dtype": "f8"
         },
         "z": {
          "bdata": "AAAAAAAAAADNCPf9LYnZv/9C6ycuiem/",
          "dtype": "f8"
         }
        }
       ],
       "layout": {
        "height": 400,
        "paper_bgcolor": "rgba(0,0,0,0)",
        "plot_bgcolor": "rgba(0,0,0,0)",
        "scene": {
         "xaxis": {
          "showgrid": false,
          "showticklabels": false,
          "title": {
           "text": ""
          },
          "visible": false,
          "zeroline": false
         },
         "yaxis": {
          "showgrid": false,
          "showticklabels": false,
          "title": {
           "text": ""
          },
          "visible": false,
          "zeroline": false
         },
         "zaxis": {
          "showgrid": false,
          "showticklabels": false,
          "title": {
           "text": ""
          },
          "visible": false,
          "zeroline": false
         }
        },
        "template": {
         "data": {
          "bar": [
           {
            "error_x": {
             "color": "#2a3f5f"
            },
            "error_y": {
             "color": "#2a3f5f"
            },
            "marker": {
             "line": {
              "color": "#E5ECF6",
              "width": 0.5
             },
             "pattern": {
              "fillmode": "overlay",
              "size": 10,
              "solidity": 0.2
             }
            },
            "type": "bar"
           }
          ],
          "barpolar": [
           {
            "marker": {
             "line": {
              "color": "#E5ECF6",
              "width": 0.5
             },
             "pattern": {
              "fillmode": "overlay",
              "size": 10,
              "solidity": 0.2
             }
            },
            "type": "barpolar"
           }
          ],
          "carpet": [
           {
            "aaxis": {
             "endlinecolor": "#2a3f5f",
             "gridcolor": "white",
             "linecolor": "white",
             "minorgridcolor": "white",
             "startlinecolor": "#2a3f5f"
            },
            "baxis": {
             "endlinecolor": "#2a3f5f",
             "gridcolor": "white",
             "linecolor": "white",
             "minorgridcolor": "white",
             "startlinecolor": "#2a3f5f"
            },
            "type": "carpet"
           }
          ],
          "choropleth": [
           {
            "colorbar": {
             "outlinewidth": 0,
             "ticks": ""
            },
            "type": "choropleth"
           }
          ],
          "contour": [
           {
            "colorbar": {
             "outlinewidth": 0,
             "ticks": ""
            },
            "colorscale": [
             [
              0,
              "#0d0887"
             ],
             [
              0.1111111111111111,
              "#46039f"
             ],
             [
              0.2222222222222222,
              "#7201a8"
             ],
             [
              0.3333333333333333,
              "#9c179e"
             ],
             [
              0.4444444444444444,
              "#bd3786"
             ],
             [
              0.5555555555555556,
              "#d8576b"
             ],
             [
              0.6666666666666666,
              "#ed7953"
             ],
             [
              0.7777777777777778,
              "#fb9f3a"
             ],
             [
              0.8888888888888888,
              "#fdca26"
             ],
             [
              1,
              "#f0f921"
             ]
            ],
            "type": "contour"
           }
          ],
          "contourcarpet": [
           {
            "colorbar": {
             "outlinewidth": 0,
             "ticks": ""
            },
            "type": "contourcarpet"
           }
          ],
          "heatmap": [
           {
            "colorbar": {
             "outlinewidth": 0,
             "ticks": ""
            },
            "colorscale": [
             [
              0,
              "#0d0887"
             ],
             [
              0.1111111111111111,
              "#46039f"
             ],
             [
              0.2222222222222222,
              "#7201a8"
             ],
             [
              0.3333333333333333,
              "#9c179e"
             ],
             [
              0.4444444444444444,
              "#bd3786"
             ],
             [
              0.5555555555555556,
              "#d8576b"
             ],
             [
              0.6666666666666666,
              "#ed7953"
             ],
             [
              0.7777777777777778,
              "#fb9f3a"
             ],
             [
              0.8888888888888888,
              "#fdca26"
             ],
             [
              1,
              "#f0f921"
             ]
            ],
            "type": "heatmap"
           }
          ],
          "histogram": [
           {
            "marker": {
             "pattern": {
              "fillmode": "overlay",
              "size": 10,
              "solidity": 0.2
             }
            },
            "type": "histogram"
           }
          ],
          "histogram2d": [
           {
            "colorbar": {
             "outlinewidth": 0,
             "ticks": ""
            },
            "colorscale": [
             [
              0,
              "#0d0887"
             ],
             [
              0.1111111111111111,
              "#46039f"
             ],
             [
              0.2222222222222222,
              "#7201a8"
             ],
             [
              0.3333333333333333,
              "#9c179e"
             ],
             [
              0.4444444444444444,
              "#bd3786"
             ],
             [
              0.5555555555555556,
              "#d8576b"
             ],
             [
              0.6666666666666666,
              "#ed7953"
             ],
             [
              0.7777777777777778,
              "#fb9f3a"
             ],
             [
              0.8888888888888888,
              "#fdca26"
             ],
             [
              1,
              "#f0f921"
             ]
            ],
            "type": "histogram2d"
           }
          ],
          "histogram2dcontour": [
           {
            "colorbar": {
             "outlinewidth": 0,
             "ticks": ""
            },
            "colorscale": [
             [
              0,
              "#0d0887"
             ],
             [
              0.1111111111111111,
              "#46039f"
             ],
             [
              0.2222222222222222,
              "#7201a8"
             ],
             [
              0.3333333333333333,
              "#9c179e"
             ],
             [
              0.4444444444444444,
              "#bd3786"
             ],
             [
              0.5555555555555556,
              "#d8576b"
             ],
             [
              0.6666666666666666,
              "#ed7953"
             ],
             [
              0.7777777777777778,
              "#fb9f3a"
             ],
             [
              0.8888888888888888,
              "#fdca26"
             ],
             [
              1,
              "#f0f921"
             ]
            ],
            "type": "histogram2dcontour"
           }
          ],
          "mesh3d": [
           {
            "colorbar": {
             "outlinewidth": 0,
             "ticks": ""
            },
            "type": "mesh3d"
           }
          ],
          "parcoords": [
           {
            "line": {
             "colorbar": {
              "outlinewidth": 0,
              "ticks": ""
             }
            },
            "type": "parcoords"
           }
          ],
          "pie": [
           {
            "automargin": true,
            "type": "pie"
           }
          ],
          "scatter": [
           {
            "fillpattern": {
             "fillmode": "overlay",
             "size": 10,
             "solidity": 0.2
            },
            "type": "scatter"
           }
          ],
          "scatter3d": [
           {
            "line": {
             "colorbar": {
              "outlinewidth": 0,
              "ticks": ""
             }
            },
            "marker": {
             "colorbar": {
              "outlinewidth": 0,
              "ticks": ""
             }
            },
            "type": "scatter3d"
           }
          ],
          "scattercarpet": [
           {
            "marker": {
             "colorbar": {
              "outlinewidth": 0,
              "ticks": ""
             }
            },
            "type": "scattercarpet"
           }
          ],
          "scattergeo": [
           {
            "marker": {
             "colorbar": {
              "outlinewidth": 0,
              "ticks": ""
             }
            },
            "type": "scattergeo"
           }
          ],
          "scattergl": [
           {
            "marker": {
             "colorbar": {
              "outlinewidth": 0,
              "ticks": ""
             }
            },
            "type": "scattergl"
           }
          ],
          "scattermap": [
           {
            "marker": {
             "colorbar": {
              "outlinewidth": 0,
              "ticks": ""
             }
            },
            "type": "scattermap"
           }
          ],
          "scattermapbox": [
           {
            "marker": {
             "colorbar": {
              "outlinewidth": 0,
              "ticks": ""
             }
            },
            "type": "scattermapbox"
           }
          ],
          "scatterpolar": [
           {
            "marker": {
             "colorbar": {
              "outlinewidth": 0,
              "ticks": ""
             }
            },
            "type": "scatterpolar"
           }
          ],
          "scatterpolargl": [
           {
            "marker": {
             "colorbar": {
              "outlinewidth": 0,
              "ticks": ""
             }
            },
            "type": "scatterpolargl"
           }
          ],
          "scatterternary": [
           {
            "marker": {
             "colorbar": {
              "outlinewidth": 0,
              "ticks": ""
             }
            },
            "type": "scatterternary"
           }
          ],
          "surface": [
           {
            "colorbar": {
             "outlinewidth": 0,
             "ticks": ""
            },
            "colorscale": [
             [
              0,
              "#0d0887"
             ],
             [
              0.1111111111111111,
              "#46039f"
             ],
             [
              0.2222222222222222,
              "#7201a8"
             ],
             [
              0.3333333333333333,
              "#9c179e"
             ],
             [
              0.4444444444444444,
              "#bd3786"
             ],
             [
              0.5555555555555556,
              "#d8576b"
             ],
             [
              0.6666666666666666,
              "#ed7953"
             ],
             [
              0.7777777777777778,
              "#fb9f3a"
             ],
             [
              0.8888888888888888,
              "#fdca26"
             ],
             [
              1,
              "#f0f921"
             ]
            ],
            "type": "surface"
           }
          ],
          "table": [
           {
            "cells": {
             "fill": {
              "color": "#EBF0F8"
             },
             "line": {
              "color": "white"
             }
            },
            "header": {
             "fill": {
              "color": "#C8D4E3"
             },
             "line": {
              "color": "white"
             }
            },
            "type": "table"
           }
          ]
         },
         "layout": {
          "annotationdefaults": {
           "arrowcolor": "#2a3f5f",
           "arrowhead": 0,
           "arrowwidth": 1
          },
          "autotypenumbers": "strict",
          "coloraxis": {
           "colorbar": {
            "outlinewidth": 0,
            "ticks": ""
           }
          },
          "colorscale": {
           "diverging": [
            [
             0,
             "#8e0152"
            ],
            [
             0.1,
             "#c51b7d"
            ],
            [
             0.2,
             "#de77ae"
            ],
            [
             0.3,
             "#f1b6da"
            ],
            [
             0.4,
             "#fde0ef"
            ],
            [
             0.5,
             "#f7f7f7"
            ],
            [
             0.6,
             "#e6f5d0"
            ],
            [
             0.7,
             "#b8e186"
            ],
            [
             0.8,
             "#7fbc41"
            ],
            [
             0.9,
             "#4d9221"
            ],
            [
             1,
             "#276419"
            ]
           ],
           "sequential": [
            [
             0,
             "#0d0887"
            ],
            [
             0.1111111111111111,
             "#46039f"
            ],
            [
             0.2222222222222222,
             "#7201a8"
            ],
            [
             0.3333333333333333,
             "#9c179e"
            ],
            [
             0.4444444444444444,
             "#bd3786"
            ],
            [
             0.5555555555555556,
             "#d8576b"
            ],
            [
             0.6666666666666666,
             "#ed7953"
            ],
            [
             0.7777777777777778,
             "#fb9f3a"
            ],
            [
             0.8888888888888888,
             "#fdca26"
            ],
            [
             1,
             "#f0f921"
            ]
           ],
           "sequentialminus": [
            [
             0,
             "#0d0887"
            ],
            [
             0.1111111111111111,
             "#46039f"
            ],
            [
             0.2222222222222222,
             "#7201a8"
            ],
            [
             0.3333333333333333,
             "#9c179e"
            ],
            [
             0.4444444444444444,
             "#bd3786"
            ],
            [
             0.5555555555555556,
             "#d8576b"
            ],
            [
             0.6666666666666666,
             "#ed7953"
            ],
            [
             0.7777777777777778,
             "#fb9f3a"
            ],
            [
             0.8888888888888888,
             "#fdca26"
            ],
            [
             1,
             "#f0f921"
            ]
           ]
          },
          "colorway": [
           "#636efa",
           "#EF553B",
           "#00cc96",
           "#ab63fa",
           "#FFA15A",
           "#19d3f3",
           "#FF6692",
           "#B6E880",
           "#FF97FF",
           "#FECB52"
          ],
          "font": {
           "color": "#2a3f5f"
          },
          "geo": {
           "bgcolor": "white",
           "lakecolor": "white",
           "landcolor": "#E5ECF6",
           "showlakes": true,
           "showland": true,
           "subunitcolor": "white"
          },
          "hoverlabel": {
           "align": "left"
          },
          "hovermode": "closest",
          "mapbox": {
           "style": "light"
          },
          "paper_bgcolor": "white",
          "plot_bgcolor": "#E5ECF6",
          "polar": {
           "angularaxis": {
            "gridcolor": "white",
            "linecolor": "white",
            "ticks": ""
           },
           "bgcolor": "#E5ECF6",
           "radialaxis": {
            "gridcolor": "white",
            "linecolor": "white",
            "ticks": ""
           }
          },
          "scene": {
           "xaxis": {
            "backgroundcolor": "#E5ECF6",
            "gridcolor": "white",
            "gridwidth": 2,
            "linecolor": "white",
            "showbackground": true,
            "ticks": "",
            "zerolinecolor": "white"
           },
           "yaxis": {
            "backgroundcolor": "#E5ECF6",
            "gridcolor": "white",
            "gridwidth": 2,
            "linecolor": "white",
            "showbackground": true,
            "ticks": "",
            "zerolinecolor": "white"
           },
           "zaxis": {
            "backgroundcolor": "#E5ECF6",
            "gridcolor": "white",
            "gridwidth": 2,
            "linecolor": "white",
            "showbackground": true,
            "ticks": "",
            "zerolinecolor": "white"
           }
          },
          "shapedefaults": {
           "line": {
            "color": "#2a3f5f"
           }
          },
          "ternary": {
           "aaxis": {
            "gridcolor": "white",
            "linecolor": "white",
            "ticks": ""
           },
           "baxis": {
            "gridcolor": "white",
            "linecolor": "white",
            "ticks": ""
           },
           "bgcolor": "#E5ECF6",
           "caxis": {
            "gridcolor": "white",
            "linecolor": "white",
            "ticks": ""
           }
          },
          "title": {
           "x": 0.05
          },
          "xaxis": {
           "automargin": true,
           "gridcolor": "white",
           "linecolor": "white",
           "ticks": "",
           "title": {
            "standoff": 15
           },
           "zerolinecolor": "white",
           "zerolinewidth": 2
          },
          "yaxis": {
           "automargin": true,
           "gridcolor": "white",
           "linecolor": "white",
           "ticks": "",
           "title": {
            "standoff": 15
           },
           "zerolinecolor": "white",
           "zerolinewidth": 2
          }
         }
        },
        "title": {
         "text": "3-Atom Configuration: -3.0000J"
        },
        "width": 600
       }
      }
     },
     "metadata": {},
     "output_type": "display_data"
    },
    {
     "data": {
      "application/vnd.plotly.v1+json": {
       "config": {
        "plotlyServerURL": "https://plot.ly"
       },
       "data": [
        {
         "hoverinfo": "text",
         "hovertext": "Length: 1.00e+00, Contributes -1.00e+00J",
         "line": {
          "color": "rgb(173, 216, 230, 0.4)",
          "width": 8
         },
         "mode": "lines",
         "showlegend": false,
         "type": "scatter3d",
         "x": [
          0,
          -0.9108297656972497
         ],
         "y": [
          0,
          0.2479480667168942
         ],
         "z": [
          0,
          -0.3300165063596877
         ]
        },
        {
         "hoverinfo": "text",
         "hovertext": "Length: 1.00e+00, Contributes -1.00e+00J",
         "line": {
          "color": "rgb(173, 216, 230, 0.4)",
          "width": 8
         },
         "mode": "lines",
         "showlegend": false,
         "type": "scatter3d",
         "x": [
          0,
          -0.48809857286428254
         ],
         "y": [
          0,
          -0.6088272400235136
         ],
         "z": [
          0,
          -0.6253712300002011
         ]
        },
        {
         "hoverinfo": "text",
         "hovertext": "Length: 1.00e+00, Contributes -1.00e+00J",
         "line": {
          "color": "rgb(173, 216, 230, 0.4)",
          "width": 8
         },
         "mode": "lines",
         "showlegend": false,
         "type": "scatter3d",
         "x": [
          0,
          -0.1306858076213151
         ],
         "y": [
          0,
          0.26486908549432053
         ],
         "z": [
          0,
          -0.9553876634659664
         ]
        },
        {
         "hoverinfo": "text",
         "hovertext": "Length: 1.00e+00, Contributes -1.00e+00J",
         "line": {
          "color": "rgb(173, 216, 230, 0.4)",
          "width": 8
         },
         "mode": "lines",
         "showlegend": false,
         "type": "scatter3d",
         "x": [
          -0.9108297656972497,
          -0.48809857286428254
         ],
         "y": [
          0.2479480667168942,
          -0.6088272400235136
         ],
         "z": [
          -0.3300165063596877,
          -0.6253712300002011
         ]
        },
        {
         "hoverinfo": "text",
         "hovertext": "Length: 1.00e+00, Contributes -1.00e+00J",
         "line": {
          "color": "rgb(173, 216, 230, 0.4)",
          "width": 8
         },
         "mode": "lines",
         "showlegend": false,
         "type": "scatter3d",
         "x": [
          -0.9108297656972497,
          -0.1306858076213151
         ],
         "y": [
          0.2479480667168942,
          0.26486908549432053
         ],
         "z": [
          -0.3300165063596877,
          -0.9553876634659664
         ]
        },
        {
         "hoverinfo": "text",
         "hovertext": "Length: 1.00e+00, Contributes -1.00e+00J",
         "line": {
          "color": "rgb(173, 216, 230, 0.4)",
          "width": 8
         },
         "mode": "lines",
         "showlegend": false,
         "type": "scatter3d",
         "x": [
          -0.48809857286428254,
          -0.1306858076213151
         ],
         "y": [
          -0.6088272400235136,
          0.26486908549432053
         ],
         "z": [
          -0.6253712300002011,
          -0.9553876634659664
         ]
        },
        {
         "hovertext": [
          "Point 1",
          "Point 2",
          "Point 3",
          "Point 4"
         ],
         "marker": {
          "color": "red",
          "size": 8
         },
         "mode": "markers",
         "showlegend": false,
         "type": "scatter3d",
         "x": {
          "bdata": "AAAAAAAAAAC0k/x2hCXtv5dJ68sBPd+/eHfkAlC6wL8=",
          "dtype": "f8"
         },
         "y": {
          "bdata": "AAAAAAAAAAD95tMiw7zPP+8TmkODe+O/qNn6dp3z0D8=",
          "dtype": "f8"
         },
         "z": {
          "bdata": "AAAAAAAAAABKH32N/R7Vv525loYKA+S/XtIyJomS7r8=",
          "dtype": "f8"
         }
        }
       ],
       "layout": {
        "height": 400,
        "paper_bgcolor": "rgba(0,0,0,0)",
        "plot_bgcolor": "rgba(0,0,0,0)",
        "scene": {
         "xaxis": {
          "showgrid": false,
          "showticklabels": false,
          "title": {
           "text": ""
          },
          "visible": false,
          "zeroline": false
         },
         "yaxis": {
          "showgrid": false,
          "showticklabels": false,
          "title": {
           "text": ""
          },
          "visible": false,
          "zeroline": false
         },
         "zaxis": {
          "showgrid": false,
          "showticklabels": false,
          "title": {
           "text": ""
          },
          "visible": false,
          "zeroline": false
         }
        },
        "template": {
         "data": {
          "bar": [
           {
            "error_x": {
             "color": "#2a3f5f"
            },
            "error_y": {
             "color": "#2a3f5f"
            },
            "marker": {
             "line": {
              "color": "#E5ECF6",
              "width": 0.5
             },
             "pattern": {
              "fillmode": "overlay",
              "size": 10,
              "solidity": 0.2
             }
            },
            "type": "bar"
           }
          ],
          "barpolar": [
           {
            "marker": {
             "line": {
              "color": "#E5ECF6",
              "width": 0.5
             },
             "pattern": {
              "fillmode": "overlay",
              "size": 10,
              "solidity": 0.2
             }
            },
            "type": "barpolar"
           }
          ],
          "carpet": [
           {
            "aaxis": {
             "endlinecolor": "#2a3f5f",
             "gridcolor": "white",
             "linecolor": "white",
             "minorgridcolor": "white",
             "startlinecolor": "#2a3f5f"
            },
            "baxis": {
             "endlinecolor": "#2a3f5f",
             "gridcolor": "white",
             "linecolor": "white",
             "minorgridcolor": "white",
             "startlinecolor": "#2a3f5f"
            },
            "type": "carpet"
           }
          ],
          "choropleth": [
           {
            "colorbar": {
             "outlinewidth": 0,
             "ticks": ""
            },
            "type": "choropleth"
           }
          ],
          "contour": [
           {
            "colorbar": {
             "outlinewidth": 0,
             "ticks": ""
            },
            "colorscale": [
             [
              0,
              "#0d0887"
             ],
             [
              0.1111111111111111,
              "#46039f"
             ],
             [
              0.2222222222222222,
              "#7201a8"
             ],
             [
              0.3333333333333333,
              "#9c179e"
             ],
             [
              0.4444444444444444,
              "#bd3786"
             ],
             [
              0.5555555555555556,
              "#d8576b"
             ],
             [
              0.6666666666666666,
              "#ed7953"
             ],
             [
              0.7777777777777778,
              "#fb9f3a"
             ],
             [
              0.8888888888888888,
              "#fdca26"
             ],
             [
              1,
              "#f0f921"
             ]
            ],
            "type": "contour"
           }
          ],
          "contourcarpet": [
           {
            "colorbar": {
             "outlinewidth": 0,
             "ticks": ""
            },
            "type": "contourcarpet"
           }
          ],
          "heatmap": [
           {
            "colorbar": {
             "outlinewidth": 0,
             "ticks": ""
            },
            "colorscale": [
             [
              0,
              "#0d0887"
             ],
             [
              0.1111111111111111,
              "#46039f"
             ],
             [
              0.2222222222222222,
              "#7201a8"
             ],
             [
              0.3333333333333333,
              "#9c179e"
             ],
             [
              0.4444444444444444,
              "#bd3786"
             ],
             [
              0.5555555555555556,
              "#d8576b"
             ],
             [
              0.6666666666666666,
              "#ed7953"
             ],
             [
              0.7777777777777778,
              "#fb9f3a"
             ],
             [
              0.8888888888888888,
              "#fdca26"
             ],
             [
              1,
              "#f0f921"
             ]
            ],
            "type": "heatmap"
           }
          ],
          "histogram": [
           {
            "marker": {
             "pattern": {
              "fillmode": "overlay",
              "size": 10,
              "solidity": 0.2
             }
            },
            "type": "histogram"
           }
          ],
          "histogram2d": [
           {
            "colorbar": {
             "outlinewidth": 0,
             "ticks": ""
            },
            "colorscale": [
             [
              0,
              "#0d0887"
             ],
             [
              0.1111111111111111,
              "#46039f"
             ],
             [
              0.2222222222222222,
              "#7201a8"
             ],
             [
              0.3333333333333333,
              "#9c179e"
             ],
             [
              0.4444444444444444,
              "#bd3786"
             ],
             [
              0.5555555555555556,
              "#d8576b"
             ],
             [
              0.6666666666666666,
              "#ed7953"
             ],
             [
              0.7777777777777778,
              "#fb9f3a"
             ],
             [
              0.8888888888888888,
              "#fdca26"
             ],
             [
              1,
              "#f0f921"
             ]
            ],
            "type": "histogram2d"
           }
          ],
          "histogram2dcontour": [
           {
            "colorbar": {
             "outlinewidth": 0,
             "ticks": ""
            },
            "colorscale": [
             [
              0,
              "#0d0887"
             ],
             [
              0.1111111111111111,
              "#46039f"
             ],
             [
              0.2222222222222222,
              "#7201a8"
             ],
             [
              0.3333333333333333,
              "#9c179e"
             ],
             [
              0.4444444444444444,
              "#bd3786"
             ],
             [
              0.5555555555555556,
              "#d8576b"
             ],
             [
              0.6666666666666666,
              "#ed7953"
             ],
             [
              0.7777777777777778,
              "#fb9f3a"
             ],
             [
              0.8888888888888888,
              "#fdca26"
             ],
             [
              1,
              "#f0f921"
             ]
            ],
            "type": "histogram2dcontour"
           }
          ],
          "mesh3d": [
           {
            "colorbar": {
             "outlinewidth": 0,
             "ticks": ""
            },
            "type": "mesh3d"
           }
          ],
          "parcoords": [
           {
            "line": {
             "colorbar": {
              "outlinewidth": 0,
              "ticks": ""
             }
            },
            "type": "parcoords"
           }
          ],
          "pie": [
           {
            "automargin": true,
            "type": "pie"
           }
          ],
          "scatter": [
           {
            "fillpattern": {
             "fillmode": "overlay",
             "size": 10,
             "solidity": 0.2
            },
            "type": "scatter"
           }
          ],
          "scatter3d": [
           {
            "line": {
             "colorbar": {
              "outlinewidth": 0,
              "ticks": ""
             }
            },
            "marker": {
             "colorbar": {
              "outlinewidth": 0,
              "ticks": ""
             }
            },
            "type": "scatter3d"
           }
          ],
          "scattercarpet": [
           {
            "marker": {
             "colorbar": {
              "outlinewidth": 0,
              "ticks": ""
             }
            },
            "type": "scattercarpet"
           }
          ],
          "scattergeo": [
           {
            "marker": {
             "colorbar": {
              "outlinewidth": 0,
              "ticks": ""
             }
            },
            "type": "scattergeo"
           }
          ],
          "scattergl": [
           {
            "marker": {
             "colorbar": {
              "outlinewidth": 0,
              "ticks": ""
             }
            },
            "type": "scattergl"
           }
          ],
          "scattermap": [
           {
            "marker": {
             "colorbar": {
              "outlinewidth": 0,
              "ticks": ""
             }
            },
            "type": "scattermap"
           }
          ],
          "scattermapbox": [
           {
            "marker": {
             "colorbar": {
              "outlinewidth": 0,
              "ticks": ""
             }
            },
            "type": "scattermapbox"
           }
          ],
          "scatterpolar": [
           {
            "marker": {
             "colorbar": {
              "outlinewidth": 0,
              "ticks": ""
             }
            },
            "type": "scatterpolar"
           }
          ],
          "scatterpolargl": [
           {
            "marker": {
             "colorbar": {
              "outlinewidth": 0,
              "ticks": ""
             }
            },
            "type": "scatterpolargl"
           }
          ],
          "scatterternary": [
           {
            "marker": {
             "colorbar": {
              "outlinewidth": 0,
              "ticks": ""
             }
            },
            "type": "scatterternary"
           }
          ],
          "surface": [
           {
            "colorbar": {
             "outlinewidth": 0,
             "ticks": ""
            },
            "colorscale": [
             [
              0,
              "#0d0887"
             ],
             [
              0.1111111111111111,
              "#46039f"
             ],
             [
              0.2222222222222222,
              "#7201a8"
             ],
             [
              0.3333333333333333,
              "#9c179e"
             ],
             [
              0.4444444444444444,
              "#bd3786"
             ],
             [
              0.5555555555555556,
              "#d8576b"
             ],
             [
              0.6666666666666666,
              "#ed7953"
             ],
             [
              0.7777777777777778,
              "#fb9f3a"
             ],
             [
              0.8888888888888888,
              "#fdca26"
             ],
             [
              1,
              "#f0f921"
             ]
            ],
            "type": "surface"
           }
          ],
          "table": [
           {
            "cells": {
             "fill": {
              "color": "#EBF0F8"
             },
             "line": {
              "color": "white"
             }
            },
            "header": {
             "fill": {
              "color": "#C8D4E3"
             },
             "line": {
              "color": "white"
             }
            },
            "type": "table"
           }
          ]
         },
         "layout": {
          "annotationdefaults": {
           "arrowcolor": "#2a3f5f",
           "arrowhead": 0,
           "arrowwidth": 1
          },
          "autotypenumbers": "strict",
          "coloraxis": {
           "colorbar": {
            "outlinewidth": 0,
            "ticks": ""
           }
          },
          "colorscale": {
           "diverging": [
            [
             0,
             "#8e0152"
            ],
            [
             0.1,
             "#c51b7d"
            ],
            [
             0.2,
             "#de77ae"
            ],
            [
             0.3,
             "#f1b6da"
            ],
            [
             0.4,
             "#fde0ef"
            ],
            [
             0.5,
             "#f7f7f7"
            ],
            [
             0.6,
             "#e6f5d0"
            ],
            [
             0.7,
             "#b8e186"
            ],
            [
             0.8,
             "#7fbc41"
            ],
            [
             0.9,
             "#4d9221"
            ],
            [
             1,
             "#276419"
            ]
           ],
           "sequential": [
            [
             0,
             "#0d0887"
            ],
            [
             0.1111111111111111,
             "#46039f"
            ],
            [
             0.2222222222222222,
             "#7201a8"
            ],
            [
             0.3333333333333333,
             "#9c179e"
            ],
            [
             0.4444444444444444,
             "#bd3786"
            ],
            [
             0.5555555555555556,
             "#d8576b"
            ],
            [
             0.6666666666666666,
             "#ed7953"
            ],
            [
             0.7777777777777778,
             "#fb9f3a"
            ],
            [
             0.8888888888888888,
             "#fdca26"
            ],
            [
             1,
             "#f0f921"
            ]
           ],
           "sequentialminus": [
            [
             0,
             "#0d0887"
            ],
            [
             0.1111111111111111,
             "#46039f"
            ],
            [
             0.2222222222222222,
             "#7201a8"
            ],
            [
             0.3333333333333333,
             "#9c179e"
            ],
            [
             0.4444444444444444,
             "#bd3786"
            ],
            [
             0.5555555555555556,
             "#d8576b"
            ],
            [
             0.6666666666666666,
             "#ed7953"
            ],
            [
             0.7777777777777778,
             "#fb9f3a"
            ],
            [
             0.8888888888888888,
             "#fdca26"
            ],
            [
             1,
             "#f0f921"
            ]
           ]
          },
          "colorway": [
           "#636efa",
           "#EF553B",
           "#00cc96",
           "#ab63fa",
           "#FFA15A",
           "#19d3f3",
           "#FF6692",
           "#B6E880",
           "#FF97FF",
           "#FECB52"
          ],
          "font": {
           "color": "#2a3f5f"
          },
          "geo": {
           "bgcolor": "white",
           "lakecolor": "white",
           "landcolor": "#E5ECF6",
           "showlakes": true,
           "showland": true,
           "subunitcolor": "white"
          },
          "hoverlabel": {
           "align": "left"
          },
          "hovermode": "closest",
          "mapbox": {
           "style": "light"
          },
          "paper_bgcolor": "white",
          "plot_bgcolor": "#E5ECF6",
          "polar": {
           "angularaxis": {
            "gridcolor": "white",
            "linecolor": "white",
            "ticks": ""
           },
           "bgcolor": "#E5ECF6",
           "radialaxis": {
            "gridcolor": "white",
            "linecolor": "white",
            "ticks": ""
           }
          },
          "scene": {
           "xaxis": {
            "backgroundcolor": "#E5ECF6",
            "gridcolor": "white",
            "gridwidth": 2,
            "linecolor": "white",
            "showbackground": true,
            "ticks": "",
            "zerolinecolor": "white"
           },
           "yaxis": {
            "backgroundcolor": "#E5ECF6",
            "gridcolor": "white",
            "gridwidth": 2,
            "linecolor": "white",
            "showbackground": true,
            "ticks": "",
            "zerolinecolor": "white"
           },
           "zaxis": {
            "backgroundcolor": "#E5ECF6",
            "gridcolor": "white",
            "gridwidth": 2,
            "linecolor": "white",
            "showbackground": true,
            "ticks": "",
            "zerolinecolor": "white"
           }
          },
          "shapedefaults": {
           "line": {
            "color": "#2a3f5f"
           }
          },
          "ternary": {
           "aaxis": {
            "gridcolor": "white",
            "linecolor": "white",
            "ticks": ""
           },
           "baxis": {
            "gridcolor": "white",
            "linecolor": "white",
            "ticks": ""
           },
           "bgcolor": "#E5ECF6",
           "caxis": {
            "gridcolor": "white",
            "linecolor": "white",
            "ticks": ""
           }
          },
          "title": {
           "x": 0.05
          },
          "xaxis": {
           "automargin": true,
           "gridcolor": "white",
           "linecolor": "white",
           "ticks": "",
           "title": {
            "standoff": 15
           },
           "zerolinecolor": "white",
           "zerolinewidth": 2
          },
          "yaxis": {
           "automargin": true,
           "gridcolor": "white",
           "linecolor": "white",
           "ticks": "",
           "title": {
            "standoff": 15
           },
           "zerolinecolor": "white",
           "zerolinewidth": 2
          }
         }
        },
        "title": {
         "text": "4-Atom Configuration: -6.0000J"
        },
        "width": 600
       }
      }
     },
     "metadata": {},
     "output_type": "display_data"
    },
    {
     "data": {
      "application/vnd.plotly.v1+json": {
       "config": {
        "plotlyServerURL": "https://plot.ly"
       },
       "data": [
        {
         "hoverinfo": "text",
         "hovertext": "Length: 9.98e-01, Contributes -1.00e+00J",
         "line": {
          "color": "rgb(173, 216, 230, 0.4)",
          "width": 8
         },
         "mode": "lines",
         "showlegend": false,
         "type": "scatter3d",
         "x": [
          0,
          0.9720085166132441
         ],
         "y": [
          0,
          -0.20602293911818015
         ],
         "z": [
          0,
          0.09258586527885249
         ]
        },
        {
         "hoverinfo": "text",
         "hovertext": "Length: 1.00e+00, Contributes -1.00e+00J",
         "line": {
          "color": "rgb(173, 216, 230, 0.4)",
          "width": 8
         },
         "mode": "lines",
         "showlegend": false,
         "type": "scatter3d",
         "x": [
          0,
          0.29393485457919416
         ],
         "y": [
          0,
          -0.8448686512433474
         ],
         "z": [
          0,
          0.4502315212234298
         ]
        },
        {
         "hoverinfo": "text",
         "hovertext": "Length: 9.98e-01, Contributes -1.00e+00J",
         "line": {
          "color": "rgb(173, 216, 230, 0.4)",
          "width": 8
         },
         "mode": "lines",
         "showlegend": false,
         "type": "scatter3d",
         "x": [
          0,
          -0.48382584012305085
         ],
         "y": [
          0,
          -0.33164041464110033
         ],
         "z": [
          0,
          0.8073074643943962
         ]
        },
        {
         "hoverinfo": "text",
         "hovertext": "Length: 1.00e+00, Contributes -1.00e+00J",
         "line": {
          "color": "rgb(173, 216, 230, 0.4)",
          "width": 8
         },
         "mode": "lines",
         "showlegend": false,
         "type": "scatter3d",
         "x": [
          0,
          0.4383391601560957
         ],
         "y": [
          0,
          0.03837362060442695
         ],
         "z": [
          0,
          0.8996084732864431
         ]
        },
        {
         "hoverinfo": "text",
         "hovertext": "Length: 9.98e-01, Contributes -1.00e+00J",
         "line": {
          "color": "rgb(173, 216, 230, 0.4)",
          "width": 8
         },
         "mode": "lines",
         "showlegend": false,
         "type": "scatter3d",
         "x": [
          0.9720085166132441,
          0.29393485457919416
         ],
         "y": [
          -0.20602293911818015,
          -0.8448686512433474
         ],
         "z": [
          0.09258586527885249,
          0.4502315212234298
         ]
        },
        {
         "hoverinfo": "text",
         "hovertext": "Length: 1.63e+00, Contributes -1.05e-01J",
         "line": {
          "color": "rgb(173, 216, 230, 0.4)",
          "width": 8
         },
         "mode": "lines",
         "showlegend": false,
         "type": "scatter3d",
         "x": [
          0.9720085166132441,
          -0.48382584012305085
         ],
         "y": [
          -0.20602293911818015,
          -0.33164041464110033
         ],
         "z": [
          0.09258586527885249,
          0.8073074643943962
         ]
        },
        {
         "hoverinfo": "text",
         "hovertext": "Length: 9.98e-01, Contributes -1.00e+00J",
         "line": {
          "color": "rgb(173, 216, 230, 0.4)",
          "width": 8
         },
         "mode": "lines",
         "showlegend": false,
         "type": "scatter3d",
         "x": [
          0.9720085166132441,
          0.4383391601560957
         ],
         "y": [
          -0.20602293911818015,
          0.03837362060442695
         ],
         "z": [
          0.09258586527885249,
          0.8996084732864431
         ]
        },
        {
         "hoverinfo": "text",
         "hovertext": "Length: 9.98e-01, Contributes -1.00e+00J",
         "line": {
          "color": "rgb(173, 216, 230, 0.4)",
          "width": 8
         },
         "mode": "lines",
         "showlegend": false,
         "type": "scatter3d",
         "x": [
          0.29393485457919416,
          -0.48382584012305085
         ],
         "y": [
          -0.8448686512433474,
          -0.33164041464110033
         ],
         "z": [
          0.4502315212234298,
          0.8073074643943962
         ]
        },
        {
         "hoverinfo": "text",
         "hovertext": "Length: 1.00e+00, Contributes -1.00e+00J",
         "line": {
          "color": "rgb(173, 216, 230, 0.4)",
          "width": 8
         },
         "mode": "lines",
         "showlegend": false,
         "type": "scatter3d",
         "x": [
          0.29393485457919416,
          0.4383391601560957
         ],
         "y": [
          -0.8448686512433474,
          0.03837362060442695
         ],
         "z": [
          0.4502315212234298,
          0.8996084732864431
         ]
        },
        {
         "hoverinfo": "text",
         "hovertext": "Length: 9.98e-01, Contributes -1.00e+00J",
         "line": {
          "color": "rgb(173, 216, 230, 0.4)",
          "width": 8
         },
         "mode": "lines",
         "showlegend": false,
         "type": "scatter3d",
         "x": [
          -0.48382584012305085,
          0.4383391601560957
         ],
         "y": [
          -0.33164041464110033,
          0.03837362060442695
         ],
         "z": [
          0.8073074643943962,
          0.8996084732864431
         ]
        },
        {
         "hovertext": [
          "Point 1",
          "Point 2",
          "Point 3",
          "Point 4",
          "Point 5"
         ],
         "marker": {
          "color": "red",
          "size": 8
         },
         "mode": "markers",
         "showlegend": false,
         "type": "scatter3d",
         "x": {
          "bdata": "AAAAAAAAAAAFMsmasRrvPy+e5CLUz9I/VHISqAD33r9jTFuxvw3cPw==",
          "dtype": "f8"
         },
         "y": {
          "bdata": "AAAAAAAAAABUg96s9V7Kv5IvUPspCeu/AZa6t5g51b9A3QwLtaWjPw==",
          "dtype": "f8"
         },
         "z": {
          "bdata": "AAAAAAAAAADwzHEPtbO3Pwgc0t6X0Nw/7X+sdnbV6T9MCH+1l8nsPw==",
          "dtype": "f8"
         }
        }
       ],
       "layout": {
        "height": 400,
        "paper_bgcolor": "rgba(0,0,0,0)",
        "plot_bgcolor": "rgba(0,0,0,0)",
        "scene": {
         "xaxis": {
          "showgrid": false,
          "showticklabels": false,
          "title": {
           "text": ""
          },
          "visible": false,
          "zeroline": false
         },
         "yaxis": {
          "showgrid": false,
          "showticklabels": false,
          "title": {
           "text": ""
          },
          "visible": false,
          "zeroline": false
         },
         "zaxis": {
          "showgrid": false,
          "showticklabels": false,
          "title": {
           "text": ""
          },
          "visible": false,
          "zeroline": false
         }
        },
        "template": {
         "data": {
          "bar": [
           {
            "error_x": {
             "color": "#2a3f5f"
            },
            "error_y": {
             "color": "#2a3f5f"
            },
            "marker": {
             "line": {
              "color": "#E5ECF6",
              "width": 0.5
             },
             "pattern": {
              "fillmode": "overlay",
              "size": 10,
              "solidity": 0.2
             }
            },
            "type": "bar"
           }
          ],
          "barpolar": [
           {
            "marker": {
             "line": {
              "color": "#E5ECF6",
              "width": 0.5
             },
             "pattern": {
              "fillmode": "overlay",
              "size": 10,
              "solidity": 0.2
             }
            },
            "type": "barpolar"
           }
          ],
          "carpet": [
           {
            "aaxis": {
             "endlinecolor": "#2a3f5f",
             "gridcolor": "white",
             "linecolor": "white",
             "minorgridcolor": "white",
             "startlinecolor": "#2a3f5f"
            },
            "baxis": {
             "endlinecolor": "#2a3f5f",
             "gridcolor": "white",
             "linecolor": "white",
             "minorgridcolor": "white",
             "startlinecolor": "#2a3f5f"
            },
            "type": "carpet"
           }
          ],
          "choropleth": [
           {
            "colorbar": {
             "outlinewidth": 0,
             "ticks": ""
            },
            "type": "choropleth"
           }
          ],
          "contour": [
           {
            "colorbar": {
             "outlinewidth": 0,
             "ticks": ""
            },
            "colorscale": [
             [
              0,
              "#0d0887"
             ],
             [
              0.1111111111111111,
              "#46039f"
             ],
             [
              0.2222222222222222,
              "#7201a8"
             ],
             [
              0.3333333333333333,
              "#9c179e"
             ],
             [
              0.4444444444444444,
              "#bd3786"
             ],
             [
              0.5555555555555556,
              "#d8576b"
             ],
             [
              0.6666666666666666,
              "#ed7953"
             ],
             [
              0.7777777777777778,
              "#fb9f3a"
             ],
             [
              0.8888888888888888,
              "#fdca26"
             ],
             [
              1,
              "#f0f921"
             ]
            ],
            "type": "contour"
           }
          ],
          "contourcarpet": [
           {
            "colorbar": {
             "outlinewidth": 0,
             "ticks": ""
            },
            "type": "contourcarpet"
           }
          ],
          "heatmap": [
           {
            "colorbar": {
             "outlinewidth": 0,
             "ticks": ""
            },
            "colorscale": [
             [
              0,
              "#0d0887"
             ],
             [
              0.1111111111111111,
              "#46039f"
             ],
             [
              0.2222222222222222,
              "#7201a8"
             ],
             [
              0.3333333333333333,
              "#9c179e"
             ],
             [
              0.4444444444444444,
              "#bd3786"
             ],
             [
              0.5555555555555556,
              "#d8576b"
             ],
             [
              0.6666666666666666,
              "#ed7953"
             ],
             [
              0.7777777777777778,
              "#fb9f3a"
             ],
             [
              0.8888888888888888,
              "#fdca26"
             ],
             [
              1,
              "#f0f921"
             ]
            ],
            "type": "heatmap"
           }
          ],
          "histogram": [
           {
            "marker": {
             "pattern": {
              "fillmode": "overlay",
              "size": 10,
              "solidity": 0.2
             }
            },
            "type": "histogram"
           }
          ],
          "histogram2d": [
           {
            "colorbar": {
             "outlinewidth": 0,
             "ticks": ""
            },
            "colorscale": [
             [
              0,
              "#0d0887"
             ],
             [
              0.1111111111111111,
              "#46039f"
             ],
             [
              0.2222222222222222,
              "#7201a8"
             ],
             [
              0.3333333333333333,
              "#9c179e"
             ],
             [
              0.4444444444444444,
              "#bd3786"
             ],
             [
              0.5555555555555556,
              "#d8576b"
             ],
             [
              0.6666666666666666,
              "#ed7953"
             ],
             [
              0.7777777777777778,
              "#fb9f3a"
             ],
             [
              0.8888888888888888,
              "#fdca26"
             ],
             [
              1,
              "#f0f921"
             ]
            ],
            "type": "histogram2d"
           }
          ],
          "histogram2dcontour": [
           {
            "colorbar": {
             "outlinewidth": 0,
             "ticks": ""
            },
            "colorscale": [
             [
              0,
              "#0d0887"
             ],
             [
              0.1111111111111111,
              "#46039f"
             ],
             [
              0.2222222222222222,
              "#7201a8"
             ],
             [
              0.3333333333333333,
              "#9c179e"
             ],
             [
              0.4444444444444444,
              "#bd3786"
             ],
             [
              0.5555555555555556,
              "#d8576b"
             ],
             [
              0.6666666666666666,
              "#ed7953"
             ],
             [
              0.7777777777777778,
              "#fb9f3a"
             ],
             [
              0.8888888888888888,
              "#fdca26"
             ],
             [
              1,
              "#f0f921"
             ]
            ],
            "type": "histogram2dcontour"
           }
          ],
          "mesh3d": [
           {
            "colorbar": {
             "outlinewidth": 0,
             "ticks": ""
            },
            "type": "mesh3d"
           }
          ],
          "parcoords": [
           {
            "line": {
             "colorbar": {
              "outlinewidth": 0,
              "ticks": ""
             }
            },
            "type": "parcoords"
           }
          ],
          "pie": [
           {
            "automargin": true,
            "type": "pie"
           }
          ],
          "scatter": [
           {
            "fillpattern": {
             "fillmode": "overlay",
             "size": 10,
             "solidity": 0.2
            },
            "type": "scatter"
           }
          ],
          "scatter3d": [
           {
            "line": {
             "colorbar": {
              "outlinewidth": 0,
              "ticks": ""
             }
            },
            "marker": {
             "colorbar": {
              "outlinewidth": 0,
              "ticks": ""
             }
            },
            "type": "scatter3d"
           }
          ],
          "scattercarpet": [
           {
            "marker": {
             "colorbar": {
              "outlinewidth": 0,
              "ticks": ""
             }
            },
            "type": "scattercarpet"
           }
          ],
          "scattergeo": [
           {
            "marker": {
             "colorbar": {
              "outlinewidth": 0,
              "ticks": ""
             }
            },
            "type": "scattergeo"
           }
          ],
          "scattergl": [
           {
            "marker": {
             "colorbar": {
              "outlinewidth": 0,
              "ticks": ""
             }
            },
            "type": "scattergl"
           }
          ],
          "scattermap": [
           {
            "marker": {
             "colorbar": {
              "outlinewidth": 0,
              "ticks": ""
             }
            },
            "type": "scattermap"
           }
          ],
          "scattermapbox": [
           {
            "marker": {
             "colorbar": {
              "outlinewidth": 0,
              "ticks": ""
             }
            },
            "type": "scattermapbox"
           }
          ],
          "scatterpolar": [
           {
            "marker": {
             "colorbar": {
              "outlinewidth": 0,
              "ticks": ""
             }
            },
            "type": "scatterpolar"
           }
          ],
          "scatterpolargl": [
           {
            "marker": {
             "colorbar": {
              "outlinewidth": 0,
              "ticks": ""
             }
            },
            "type": "scatterpolargl"
           }
          ],
          "scatterternary": [
           {
            "marker": {
             "colorbar": {
              "outlinewidth": 0,
              "ticks": ""
             }
            },
            "type": "scatterternary"
           }
          ],
          "surface": [
           {
            "colorbar": {
             "outlinewidth": 0,
             "ticks": ""
            },
            "colorscale": [
             [
              0,
              "#0d0887"
             ],
             [
              0.1111111111111111,
              "#46039f"
             ],
             [
              0.2222222222222222,
              "#7201a8"
             ],
             [
              0.3333333333333333,
              "#9c179e"
             ],
             [
              0.4444444444444444,
              "#bd3786"
             ],
             [
              0.5555555555555556,
              "#d8576b"
             ],
             [
              0.6666666666666666,
              "#ed7953"
             ],
             [
              0.7777777777777778,
              "#fb9f3a"
             ],
             [
              0.8888888888888888,
              "#fdca26"
             ],
             [
              1,
              "#f0f921"
             ]
            ],
            "type": "surface"
           }
          ],
          "table": [
           {
            "cells": {
             "fill": {
              "color": "#EBF0F8"
             },
             "line": {
              "color": "white"
             }
            },
            "header": {
             "fill": {
              "color": "#C8D4E3"
             },
             "line": {
              "color": "white"
             }
            },
            "type": "table"
           }
          ]
         },
         "layout": {
          "annotationdefaults": {
           "arrowcolor": "#2a3f5f",
           "arrowhead": 0,
           "arrowwidth": 1
          },
          "autotypenumbers": "strict",
          "coloraxis": {
           "colorbar": {
            "outlinewidth": 0,
            "ticks": ""
           }
          },
          "colorscale": {
           "diverging": [
            [
             0,
             "#8e0152"
            ],
            [
             0.1,
             "#c51b7d"
            ],
            [
             0.2,
             "#de77ae"
            ],
            [
             0.3,
             "#f1b6da"
            ],
            [
             0.4,
             "#fde0ef"
            ],
            [
             0.5,
             "#f7f7f7"
            ],
            [
             0.6,
             "#e6f5d0"
            ],
            [
             0.7,
             "#b8e186"
            ],
            [
             0.8,
             "#7fbc41"
            ],
            [
             0.9,
             "#4d9221"
            ],
            [
             1,
             "#276419"
            ]
           ],
           "sequential": [
            [
             0,
             "#0d0887"
            ],
            [
             0.1111111111111111,
             "#46039f"
            ],
            [
             0.2222222222222222,
             "#7201a8"
            ],
            [
             0.3333333333333333,
             "#9c179e"
            ],
            [
             0.4444444444444444,
             "#bd3786"
            ],
            [
             0.5555555555555556,
             "#d8576b"
            ],
            [
             0.6666666666666666,
             "#ed7953"
            ],
            [
             0.7777777777777778,
             "#fb9f3a"
            ],
            [
             0.8888888888888888,
             "#fdca26"
            ],
            [
             1,
             "#f0f921"
            ]
           ],
           "sequentialminus": [
            [
             0,
             "#0d0887"
            ],
            [
             0.1111111111111111,
             "#46039f"
            ],
            [
             0.2222222222222222,
             "#7201a8"
            ],
            [
             0.3333333333333333,
             "#9c179e"
            ],
            [
             0.4444444444444444,
             "#bd3786"
            ],
            [
             0.5555555555555556,
             "#d8576b"
            ],
            [
             0.6666666666666666,
             "#ed7953"
            ],
            [
             0.7777777777777778,
             "#fb9f3a"
            ],
            [
             0.8888888888888888,
             "#fdca26"
            ],
            [
             1,
             "#f0f921"
            ]
           ]
          },
          "colorway": [
           "#636efa",
           "#EF553B",
           "#00cc96",
           "#ab63fa",
           "#FFA15A",
           "#19d3f3",
           "#FF6692",
           "#B6E880",
           "#FF97FF",
           "#FECB52"
          ],
          "font": {
           "color": "#2a3f5f"
          },
          "geo": {
           "bgcolor": "white",
           "lakecolor": "white",
           "landcolor": "#E5ECF6",
           "showlakes": true,
           "showland": true,
           "subunitcolor": "white"
          },
          "hoverlabel": {
           "align": "left"
          },
          "hovermode": "closest",
          "mapbox": {
           "style": "light"
          },
          "paper_bgcolor": "white",
          "plot_bgcolor": "#E5ECF6",
          "polar": {
           "angularaxis": {
            "gridcolor": "white",
            "linecolor": "white",
            "ticks": ""
           },
           "bgcolor": "#E5ECF6",
           "radialaxis": {
            "gridcolor": "white",
            "linecolor": "white",
            "ticks": ""
           }
          },
          "scene": {
           "xaxis": {
            "backgroundcolor": "#E5ECF6",
            "gridcolor": "white",
            "gridwidth": 2,
            "linecolor": "white",
            "showbackground": true,
            "ticks": "",
            "zerolinecolor": "white"
           },
           "yaxis": {
            "backgroundcolor": "#E5ECF6",
            "gridcolor": "white",
            "gridwidth": 2,
            "linecolor": "white",
            "showbackground": true,
            "ticks": "",
            "zerolinecolor": "white"
           },
           "zaxis": {
            "backgroundcolor": "#E5ECF6",
            "gridcolor": "white",
            "gridwidth": 2,
            "linecolor": "white",
            "showbackground": true,
            "ticks": "",
            "zerolinecolor": "white"
           }
          },
          "shapedefaults": {
           "line": {
            "color": "#2a3f5f"
           }
          },
          "ternary": {
           "aaxis": {
            "gridcolor": "white",
            "linecolor": "white",
            "ticks": ""
           },
           "baxis": {
            "gridcolor": "white",
            "linecolor": "white",
            "ticks": ""
           },
           "bgcolor": "#E5ECF6",
           "caxis": {
            "gridcolor": "white",
            "linecolor": "white",
            "ticks": ""
           }
          },
          "title": {
           "x": 0.05
          },
          "xaxis": {
           "automargin": true,
           "gridcolor": "white",
           "linecolor": "white",
           "ticks": "",
           "title": {
            "standoff": 15
           },
           "zerolinecolor": "white",
           "zerolinewidth": 2
          },
          "yaxis": {
           "automargin": true,
           "gridcolor": "white",
           "linecolor": "white",
           "ticks": "",
           "title": {
            "standoff": 15
           },
           "zerolinecolor": "white",
           "zerolinewidth": 2
          }
         }
        },
        "title": {
         "text": "5-Atom Configuration: -9.1039J"
        },
        "width": 600
       }
      }
     },
     "metadata": {},
     "output_type": "display_data"
    },
    {
     "data": {
      "application/vnd.plotly.v1+json": {
       "config": {
        "plotlyServerURL": "https://plot.ly"
       },
       "data": [
        {
         "hoverinfo": "text",
         "hovertext": "Length: 9.96e-01, Contributes -9.99e-01J",
         "line": {
          "color": "rgb(173, 216, 230, 0.4)",
          "width": 8
         },
         "mode": "lines",
         "showlegend": false,
         "type": "scatter3d",
         "x": [
          0,
          -0.9558538017477426
         ],
         "y": [
          0,
          0.27825498627277206
         ],
         "z": [
          0,
          -2.5522129576405206e-8
         ]
        },
        {
         "hoverinfo": "text",
         "hovertext": "Length: 9.96e-01, Contributes -9.99e-01J",
         "line": {
          "color": "rgb(173, 216, 230, 0.4)",
          "width": 8
         },
         "mode": "lines",
         "showlegend": false,
         "type": "scatter3d",
         "x": [
          0,
          -0.7060253646614938
         ],
         "y": [
          0,
          -0.6444300409137904
         ],
         "z": [
          0,
          -0.2780655219974308
         ]
        },
        {
         "hoverinfo": "text",
         "hovertext": "Length: 9.96e-01, Contributes -9.99e-01J",
         "line": {
          "color": "rgb(173, 216, 230, 0.4)",
          "width": 8
         },
         "mode": "lines",
         "showlegend": false,
         "type": "scatter3d",
         "x": [
          0,
          -0.32861853354965165
         ],
         "y": [
          0,
          0.6520273882286757
         ],
         "z": [
          0,
          -0.6767218572712302
         ]
        },
        {
         "hoverinfo": "text",
         "hovertext": "Length: 1.41e+00, Contributes -2.40e-01J",
         "line": {
          "color": "rgb(173, 216, 230, 0.4)",
          "width": 8
         },
         "mode": "lines",
         "showlegend": false,
         "type": "scatter3d",
         "x": [
          0,
          -1.0346438982111834
         ],
         "y": [
          0,
          0.007597347314895809
         ],
         "z": [
          0,
          -0.9547873792686472
         ]
        },
        {
         "hoverinfo": "text",
         "hovertext": "Length: 9.96e-01, Contributes -9.99e-01J",
         "line": {
          "color": "rgb(173, 216, 230, 0.4)",
          "width": 8
         },
         "mode": "lines",
         "showlegend": false,
         "type": "scatter3d",
         "x": [
          0,
          -0.07879009646344048
         ],
         "y": [
          0,
          -0.27065763895787526
         ],
         "z": [
          0,
          -0.9547873537465452
         ]
        },
        {
         "hoverinfo": "text",
         "hovertext": "Length: 9.96e-01, Contributes -9.99e-01J",
         "line": {
          "color": "rgb(173, 216, 230, 0.4)",
          "width": 8
         },
         "mode": "lines",
         "showlegend": false,
         "type": "scatter3d",
         "x": [
          -0.9558538017477426,
          -0.7060253646614938
         ],
         "y": [
          0.27825498627277206,
          -0.6444300409137904
         ],
         "z": [
          -2.5522129576405206e-8,
          -0.2780655219974308
         ]
        },
        {
         "hoverinfo": "text",
         "hovertext": "Length: 9.96e-01, Contributes -9.99e-01J",
         "line": {
          "color": "rgb(173, 216, 230, 0.4)",
          "width": 8
         },
         "mode": "lines",
         "showlegend": false,
         "type": "scatter3d",
         "x": [
          -0.9558538017477426,
          -0.32861853354965165
         ],
         "y": [
          0.27825498627277206,
          0.6520273882286757
         ],
         "z": [
          -2.5522129576405206e-8,
          -0.6767218572712302
         ]
        },
        {
         "hoverinfo": "text",
         "hovertext": "Length: 9.96e-01, Contributes -9.99e-01J",
         "line": {
          "color": "rgb(173, 216, 230, 0.4)",
          "width": 8
         },
         "mode": "lines",
         "showlegend": false,
         "type": "scatter3d",
         "x": [
          -0.9558538017477426,
          -1.0346438982111834
         ],
         "y": [
          0.27825498627277206,
          0.007597347314895809
         ],
         "z": [
          -2.5522129576405206e-8,
          -0.9547873792686472
         ]
        },
        {
         "hoverinfo": "text",
         "hovertext": "Length: 1.41e+00, Contributes -2.40e-01J",
         "line": {
          "color": "rgb(173, 216, 230, 0.4)",
          "width": 8
         },
         "mode": "lines",
         "showlegend": false,
         "type": "scatter3d",
         "x": [
          -0.9558538017477426,
          -0.07879009646344048
         ],
         "y": [
          0.27825498627277206,
          -0.27065763895787526
         ],
         "z": [
          -2.5522129576405206e-8,
          -0.9547873537465452
         ]
        },
        {
         "hoverinfo": "text",
         "hovertext": "Length: 1.41e+00, Contributes -2.40e-01J",
         "line": {
          "color": "rgb(173, 216, 230, 0.4)",
          "width": 8
         },
         "mode": "lines",
         "showlegend": false,
         "type": "scatter3d",
         "x": [
          -0.7060253646614938,
          -0.32861853354965165
         ],
         "y": [
          -0.6444300409137904,
          0.6520273882286757
         ],
         "z": [
          -0.2780655219974308,
          -0.6767218572712302
         ]
        },
        {
         "hoverinfo": "text",
         "hovertext": "Length: 9.96e-01, Contributes -9.99e-01J",
         "line": {
          "color": "rgb(173, 216, 230, 0.4)",
          "width": 8
         },
         "mode": "lines",
         "showlegend": false,
         "type": "scatter3d",
         "x": [
          -0.7060253646614938,
          -1.0346438982111834
         ],
         "y": [
          -0.6444300409137904,
          0.007597347314895809
         ],
         "z": [
          -0.2780655219974308,
          -0.9547873792686472
         ]
        },
        {
         "hoverinfo": "text",
         "hovertext": "Length: 9.96e-01, Contributes -9.99e-01J",
         "line": {
          "color": "rgb(173, 216, 230, 0.4)",
          "width": 8
         },
         "mode": "lines",
         "showlegend": false,
         "type": "scatter3d",
         "x": [
          -0.7060253646614938,
          -0.07879009646344048
         ],
         "y": [
          -0.6444300409137904,
          -0.27065763895787526
         ],
         "z": [
          -0.2780655219974308,
          -0.9547873537465452
         ]
        },
        {
         "hoverinfo": "text",
         "hovertext": "Length: 9.96e-01, Contributes -9.99e-01J",
         "line": {
          "color": "rgb(173, 216, 230, 0.4)",
          "width": 8
         },
         "mode": "lines",
         "showlegend": false,
         "type": "scatter3d",
         "x": [
          -0.32861853354965165,
          -1.0346438982111834
         ],
         "y": [
          0.6520273882286757,
          0.007597347314895809
         ],
         "z": [
          -0.6767218572712302,
          -0.9547873792686472
         ]
        },
        {
         "hoverinfo": "text",
         "hovertext": "Length: 9.96e-01, Contributes -9.99e-01J",
         "line": {
          "color": "rgb(173, 216, 230, 0.4)",
          "width": 8
         },
         "mode": "lines",
         "showlegend": false,
         "type": "scatter3d",
         "x": [
          -0.32861853354965165,
          -0.07879009646344048
         ],
         "y": [
          0.6520273882286757,
          -0.27065763895787526
         ],
         "z": [
          -0.6767218572712302,
          -0.9547873537465452
         ]
        },
        {
         "hoverinfo": "text",
         "hovertext": "Length: 9.96e-01, Contributes -9.99e-01J",
         "line": {
          "color": "rgb(173, 216, 230, 0.4)",
          "width": 8
         },
         "mode": "lines",
         "showlegend": false,
         "type": "scatter3d",
         "x": [
          -1.0346438982111834,
          -0.07879009646344048
         ],
         "y": [
          0.007597347314895809,
          -0.27065763895787526
         ],
         "z": [
          -0.9547873792686472,
          -0.9547873537465452
         ]
        },
        {
         "hovertext": [
          "Point 1",
          "Point 2",
          "Point 3",
          "Point 4",
          "Point 5",
          "Point 6"
         ],
         "marker": {
          "color": "red",
          "size": 8
         },
         "mode": "markers",
         "showlegend": false,
         "type": "scatter3d",
         "x": {
          "bdata": "AAAAAAAAAAA7cUi2Wpbuv0zDa4HCl+a/iCKdBxYI1b/zKp3C5o3wv0Alj3eWK7S/",
          "dtype": "f8"
         },
         "y": {
          "bdata": "AAAAAAAAAAAbZH8A7s7RPwgcyb8rn+S/CzuRimjd5D8BsQ9kZR5/P0Ul72p0UtG/",
          "dtype": "f8"
         },
         "z": {
          "bdata": "AAAAAAAAAAAAAAA1eGdbvs/xx1TTy9G/bfyumLSn5b/Y9BJDno3uv7Y5XzWeje6/",
          "dtype": "f8"
         }
        }
       ],
       "layout": {
        "height": 400,
        "paper_bgcolor": "rgba(0,0,0,0)",
        "plot_bgcolor": "rgba(0,0,0,0)",
        "scene": {
         "xaxis": {
          "showgrid": false,
          "showticklabels": false,
          "title": {
           "text": ""
          },
          "visible": false,
          "zeroline": false
         },
         "yaxis": {
          "showgrid": false,
          "showticklabels": false,
          "title": {
           "text": ""
          },
          "visible": false,
          "zeroline": false
         },
         "zaxis": {
          "showgrid": false,
          "showticklabels": false,
          "title": {
           "text": ""
          },
          "visible": false,
          "zeroline": false
         }
        },
        "template": {
         "data": {
          "bar": [
           {
            "error_x": {
             "color": "#2a3f5f"
            },
            "error_y": {
             "color": "#2a3f5f"
            },
            "marker": {
             "line": {
              "color": "#E5ECF6",
              "width": 0.5
             },
             "pattern": {
              "fillmode": "overlay",
              "size": 10,
              "solidity": 0.2
             }
            },
            "type": "bar"
           }
          ],
          "barpolar": [
           {
            "marker": {
             "line": {
              "color": "#E5ECF6",
              "width": 0.5
             },
             "pattern": {
              "fillmode": "overlay",
              "size": 10,
              "solidity": 0.2
             }
            },
            "type": "barpolar"
           }
          ],
          "carpet": [
           {
            "aaxis": {
             "endlinecolor": "#2a3f5f",
             "gridcolor": "white",
             "linecolor": "white",
             "minorgridcolor": "white",
             "startlinecolor": "#2a3f5f"
            },
            "baxis": {
             "endlinecolor": "#2a3f5f",
             "gridcolor": "white",
             "linecolor": "white",
             "minorgridcolor": "white",
             "startlinecolor": "#2a3f5f"
            },
            "type": "carpet"
           }
          ],
          "choropleth": [
           {
            "colorbar": {
             "outlinewidth": 0,
             "ticks": ""
            },
            "type": "choropleth"
           }
          ],
          "contour": [
           {
            "colorbar": {
             "outlinewidth": 0,
             "ticks": ""
            },
            "colorscale": [
             [
              0,
              "#0d0887"
             ],
             [
              0.1111111111111111,
              "#46039f"
             ],
             [
              0.2222222222222222,
              "#7201a8"
             ],
             [
              0.3333333333333333,
              "#9c179e"
             ],
             [
              0.4444444444444444,
              "#bd3786"
             ],
             [
              0.5555555555555556,
              "#d8576b"
             ],
             [
              0.6666666666666666,
              "#ed7953"
             ],
             [
              0.7777777777777778,
              "#fb9f3a"
             ],
             [
              0.8888888888888888,
              "#fdca26"
             ],
             [
              1,
              "#f0f921"
             ]
            ],
            "type": "contour"
           }
          ],
          "contourcarpet": [
           {
            "colorbar": {
             "outlinewidth": 0,
             "ticks": ""
            },
            "type": "contourcarpet"
           }
          ],
          "heatmap": [
           {
            "colorbar": {
             "outlinewidth": 0,
             "ticks": ""
            },
            "colorscale": [
             [
              0,
              "#0d0887"
             ],
             [
              0.1111111111111111,
              "#46039f"
             ],
             [
              0.2222222222222222,
              "#7201a8"
             ],
             [
              0.3333333333333333,
              "#9c179e"
             ],
             [
              0.4444444444444444,
              "#bd3786"
             ],
             [
              0.5555555555555556,
              "#d8576b"
             ],
             [
              0.6666666666666666,
              "#ed7953"
             ],
             [
              0.7777777777777778,
              "#fb9f3a"
             ],
             [
              0.8888888888888888,
              "#fdca26"
             ],
             [
              1,
              "#f0f921"
             ]
            ],
            "type": "heatmap"
           }
          ],
          "histogram": [
           {
            "marker": {
             "pattern": {
              "fillmode": "overlay",
              "size": 10,
              "solidity": 0.2
             }
            },
            "type": "histogram"
           }
          ],
          "histogram2d": [
           {
            "colorbar": {
             "outlinewidth": 0,
             "ticks": ""
            },
            "colorscale": [
             [
              0,
              "#0d0887"
             ],
             [
              0.1111111111111111,
              "#46039f"
             ],
             [
              0.2222222222222222,
              "#7201a8"
             ],
             [
              0.3333333333333333,
              "#9c179e"
             ],
             [
              0.4444444444444444,
              "#bd3786"
             ],
             [
              0.5555555555555556,
              "#d8576b"
             ],
             [
              0.6666666666666666,
              "#ed7953"
             ],
             [
              0.7777777777777778,
              "#fb9f3a"
             ],
             [
              0.8888888888888888,
              "#fdca26"
             ],
             [
              1,
              "#f0f921"
             ]
            ],
            "type": "histogram2d"
           }
          ],
          "histogram2dcontour": [
           {
            "colorbar": {
             "outlinewidth": 0,
             "ticks": ""
            },
            "colorscale": [
             [
              0,
              "#0d0887"
             ],
             [
              0.1111111111111111,
              "#46039f"
             ],
             [
              0.2222222222222222,
              "#7201a8"
             ],
             [
              0.3333333333333333,
              "#9c179e"
             ],
             [
              0.4444444444444444,
              "#bd3786"
             ],
             [
              0.5555555555555556,
              "#d8576b"
             ],
             [
              0.6666666666666666,
              "#ed7953"
             ],
             [
              0.7777777777777778,
              "#fb9f3a"
             ],
             [
              0.8888888888888888,
              "#fdca26"
             ],
             [
              1,
              "#f0f921"
             ]
            ],
            "type": "histogram2dcontour"
           }
          ],
          "mesh3d": [
           {
            "colorbar": {
             "outlinewidth": 0,
             "ticks": ""
            },
            "type": "mesh3d"
           }
          ],
          "parcoords": [
           {
            "line": {
             "colorbar": {
              "outlinewidth": 0,
              "ticks": ""
             }
            },
            "type": "parcoords"
           }
          ],
          "pie": [
           {
            "automargin": true,
            "type": "pie"
           }
          ],
          "scatter": [
           {
            "fillpattern": {
             "fillmode": "overlay",
             "size": 10,
             "solidity": 0.2
            },
            "type": "scatter"
           }
          ],
          "scatter3d": [
           {
            "line": {
             "colorbar": {
              "outlinewidth": 0,
              "ticks": ""
             }
            },
            "marker": {
             "colorbar": {
              "outlinewidth": 0,
              "ticks": ""
             }
            },
            "type": "scatter3d"
           }
          ],
          "scattercarpet": [
           {
            "marker": {
             "colorbar": {
              "outlinewidth": 0,
              "ticks": ""
             }
            },
            "type": "scattercarpet"
           }
          ],
          "scattergeo": [
           {
            "marker": {
             "colorbar": {
              "outlinewidth": 0,
              "ticks": ""
             }
            },
            "type": "scattergeo"
           }
          ],
          "scattergl": [
           {
            "marker": {
             "colorbar": {
              "outlinewidth": 0,
              "ticks": ""
             }
            },
            "type": "scattergl"
           }
          ],
          "scattermap": [
           {
            "marker": {
             "colorbar": {
              "outlinewidth": 0,
              "ticks": ""
             }
            },
            "type": "scattermap"
           }
          ],
          "scattermapbox": [
           {
            "marker": {
             "colorbar": {
              "outlinewidth": 0,
              "ticks": ""
             }
            },
            "type": "scattermapbox"
           }
          ],
          "scatterpolar": [
           {
            "marker": {
             "colorbar": {
              "outlinewidth": 0,
              "ticks": ""
             }
            },
            "type": "scatterpolar"
           }
          ],
          "scatterpolargl": [
           {
            "marker": {
             "colorbar": {
              "outlinewidth": 0,
              "ticks": ""
             }
            },
            "type": "scatterpolargl"
           }
          ],
          "scatterternary": [
           {
            "marker": {
             "colorbar": {
              "outlinewidth": 0,
              "ticks": ""
             }
            },
            "type": "scatterternary"
           }
          ],
          "surface": [
           {
            "colorbar": {
             "outlinewidth": 0,
             "ticks": ""
            },
            "colorscale": [
             [
              0,
              "#0d0887"
             ],
             [
              0.1111111111111111,
              "#46039f"
             ],
             [
              0.2222222222222222,
              "#7201a8"
             ],
             [
              0.3333333333333333,
              "#9c179e"
             ],
             [
              0.4444444444444444,
              "#bd3786"
             ],
             [
              0.5555555555555556,
              "#d8576b"
             ],
             [
              0.6666666666666666,
              "#ed7953"
             ],
             [
              0.7777777777777778,
              "#fb9f3a"
             ],
             [
              0.8888888888888888,
              "#fdca26"
             ],
             [
              1,
              "#f0f921"
             ]
            ],
            "type": "surface"
           }
          ],
          "table": [
           {
            "cells": {
             "fill": {
              "color": "#EBF0F8"
             },
             "line": {
              "color": "white"
             }
            },
            "header": {
             "fill": {
              "color": "#C8D4E3"
             },
             "line": {
              "color": "white"
             }
            },
            "type": "table"
           }
          ]
         },
         "layout": {
          "annotationdefaults": {
           "arrowcolor": "#2a3f5f",
           "arrowhead": 0,
           "arrowwidth": 1
          },
          "autotypenumbers": "strict",
          "coloraxis": {
           "colorbar": {
            "outlinewidth": 0,
            "ticks": ""
           }
          },
          "colorscale": {
           "diverging": [
            [
             0,
             "#8e0152"
            ],
            [
             0.1,
             "#c51b7d"
            ],
            [
             0.2,
             "#de77ae"
            ],
            [
             0.3,
             "#f1b6da"
            ],
            [
             0.4,
             "#fde0ef"
            ],
            [
             0.5,
             "#f7f7f7"
            ],
            [
             0.6,
             "#e6f5d0"
            ],
            [
             0.7,
             "#b8e186"
            ],
            [
             0.8,
             "#7fbc41"
            ],
            [
             0.9,
             "#4d9221"
            ],
            [
             1,
             "#276419"
            ]
           ],
           "sequential": [
            [
             0,
             "#0d0887"
            ],
            [
             0.1111111111111111,
             "#46039f"
            ],
            [
             0.2222222222222222,
             "#7201a8"
            ],
            [
             0.3333333333333333,
             "#9c179e"
            ],
            [
             0.4444444444444444,
             "#bd3786"
            ],
            [
             0.5555555555555556,
             "#d8576b"
            ],
            [
             0.6666666666666666,
             "#ed7953"
            ],
            [
             0.7777777777777778,
             "#fb9f3a"
            ],
            [
             0.8888888888888888,
             "#fdca26"
            ],
            [
             1,
             "#f0f921"
            ]
           ],
           "sequentialminus": [
            [
             0,
             "#0d0887"
            ],
            [
             0.1111111111111111,
             "#46039f"
            ],
            [
             0.2222222222222222,
             "#7201a8"
            ],
            [
             0.3333333333333333,
             "#9c179e"
            ],
            [
             0.4444444444444444,
             "#bd3786"
            ],
            [
             0.5555555555555556,
             "#d8576b"
            ],
            [
             0.6666666666666666,
             "#ed7953"
            ],
            [
             0.7777777777777778,
             "#fb9f3a"
            ],
            [
             0.8888888888888888,
             "#fdca26"
            ],
            [
             1,
             "#f0f921"
            ]
           ]
          },
          "colorway": [
           "#636efa",
           "#EF553B",
           "#00cc96",
           "#ab63fa",
           "#FFA15A",
           "#19d3f3",
           "#FF6692",
           "#B6E880",
           "#FF97FF",
           "#FECB52"
          ],
          "font": {
           "color": "#2a3f5f"
          },
          "geo": {
           "bgcolor": "white",
           "lakecolor": "white",
           "landcolor": "#E5ECF6",
           "showlakes": true,
           "showland": true,
           "subunitcolor": "white"
          },
          "hoverlabel": {
           "align": "left"
          },
          "hovermode": "closest",
          "mapbox": {
           "style": "light"
          },
          "paper_bgcolor": "white",
          "plot_bgcolor": "#E5ECF6",
          "polar": {
           "angularaxis": {
            "gridcolor": "white",
            "linecolor": "white",
            "ticks": ""
           },
           "bgcolor": "#E5ECF6",
           "radialaxis": {
            "gridcolor": "white",
            "linecolor": "white",
            "ticks": ""
           }
          },
          "scene": {
           "xaxis": {
            "backgroundcolor": "#E5ECF6",
            "gridcolor": "white",
            "gridwidth": 2,
            "linecolor": "white",
            "showbackground": true,
            "ticks": "",
            "zerolinecolor": "white"
           },
           "yaxis": {
            "backgroundcolor": "#E5ECF6",
            "gridcolor": "white",
            "gridwidth": 2,
            "linecolor": "white",
            "showbackground": true,
            "ticks": "",
            "zerolinecolor": "white"
           },
           "zaxis": {
            "backgroundcolor": "#E5ECF6",
            "gridcolor": "white",
            "gridwidth": 2,
            "linecolor": "white",
            "showbackground": true,
            "ticks": "",
            "zerolinecolor": "white"
           }
          },
          "shapedefaults": {
           "line": {
            "color": "#2a3f5f"
           }
          },
          "ternary": {
           "aaxis": {
            "gridcolor": "white",
            "linecolor": "white",
            "ticks": ""
           },
           "baxis": {
            "gridcolor": "white",
            "linecolor": "white",
            "ticks": ""
           },
           "bgcolor": "#E5ECF6",
           "caxis": {
            "gridcolor": "white",
            "linecolor": "white",
            "ticks": ""
           }
          },
          "title": {
           "x": 0.05
          },
          "xaxis": {
           "automargin": true,
           "gridcolor": "white",
           "linecolor": "white",
           "ticks": "",
           "title": {
            "standoff": 15
           },
           "zerolinecolor": "white",
           "zerolinewidth": 2
          },
          "yaxis": {
           "automargin": true,
           "gridcolor": "white",
           "linecolor": "white",
           "ticks": "",
           "title": {
            "standoff": 15
           },
           "zerolinecolor": "white",
           "zerolinewidth": 2
          }
         }
        },
        "title": {
         "text": "6-Atom Configuration: -12.7121J"
        },
        "width": 600
       }
      }
     },
     "metadata": {},
     "output_type": "display_data"
    },
    {
     "data": {
      "application/vnd.plotly.v1+json": {
       "config": {
        "plotlyServerURL": "https://plot.ly"
       },
       "data": [
        {
         "hoverinfo": "text",
         "hovertext": "Length: 9.94e-01, Contributes -9.98e-01J",
         "line": {
          "color": "rgb(173, 216, 230, 0.4)",
          "width": 8
         },
         "mode": "lines",
         "showlegend": false,
         "type": "scatter3d",
         "x": [
          0,
          -0.8693055925252375
         ],
         "y": [
          0,
          0.33476946822389353
         ],
         "z": [
          0,
          -0.34543998620799043
         ]
        },
        {
         "hoverinfo": "text",
         "hovertext": "Length: 1.00e+00, Contributes -1.00e+00J",
         "line": {
          "color": "rgb(173, 216, 230, 0.4)",
          "width": 8
         },
         "mode": "lines",
         "showlegend": false,
         "type": "scatter3d",
         "x": [
          0,
          -0.7259628158042803
         ],
         "y": [
          0,
          -0.6435604509814087
         ],
         "z": [
          0,
          -0.24840900315818282
         ]
        },
        {
         "hoverinfo": "text",
         "hovertext": "Length: 1.00e+00, Contributes -1.00e+00J",
         "line": {
          "color": "rgb(173, 216, 230, 0.4)",
          "width": 8
         },
         "mode": "lines",
         "showlegend": false,
         "type": "scatter3d",
         "x": [
          0,
          -0.025299821968631453
         ],
         "y": [
          0,
          0.7611261062437509
         ],
         "z": [
          0,
          -0.6503430373660486
         ]
        },
        {
         "hoverinfo": "text",
         "hovertext": "Length: 1.62e+00, Contributes -1.07e-01J",
         "line": {
          "color": "rgb(173, 216, 230, 0.4)",
          "width": 8
         },
         "mode": "lines",
         "showlegend": false,
         "type": "scatter3d",
         "x": [
          0,
          -1.1999323325085367
         ],
         "y": [
          0,
          -0.280176577259379
         ],
         "z": [
          0,
          -1.0522772475874684
         ]
        },
        {
         "hoverinfo": "text",
         "hovertext": "Length: 9.94e-01, Contributes -9.98e-01J",
         "line": {
          "color": "rgb(173, 216, 230, 0.4)",
          "width": 8
         },
         "mode": "lines",
         "showlegend": false,
         "type": "scatter3d",
         "x": [
          0,
          -0.2179319106508808
         ],
         "y": [
          0,
          -0.1646268535643707
         ],
         "z": [
          0,
          -0.9552461858220063
         ]
        },
        {
         "hoverinfo": "text",
         "hovertext": "Length: 1.62e+00, Contributes -1.07e-01J",
         "line": {
          "color": "rgb(173, 216, 230, 0.4)",
          "width": 8
         },
         "mode": "lines",
         "showlegend": false,
         "type": "scatter3d",
         "x": [
          0,
          -0.7668987876588473
         ],
         "y": [
          0,
          0.5879674586458439
         ],
         "z": [
          0,
          -1.3006861419632925
         ]
        },
        {
         "hoverinfo": "text",
         "hovertext": "Length: 9.94e-01, Contributes -9.98e-01J",
         "line": {
          "color": "rgb(173, 216, 230, 0.4)",
          "width": 8
         },
         "mode": "lines",
         "showlegend": false,
         "type": "scatter3d",
         "x": [
          -0.8693055925252375,
          -0.7259628158042803
         ],
         "y": [
          0.33476946822389353,
          -0.6435604509814087
         ],
         "z": [
          -0.34543998620799043,
          -0.24840900315818282
         ]
        },
        {
         "hoverinfo": "text",
         "hovertext": "Length: 9.94e-01, Contributes -9.98e-01J",
         "line": {
          "color": "rgb(173, 216, 230, 0.4)",
          "width": 8
         },
         "mode": "lines",
         "showlegend": false,
         "type": "scatter3d",
         "x": [
          -0.8693055925252375,
          -0.025299821968631453
         ],
         "y": [
          0.33476946822389353,
          0.7611261062437509
         ],
         "z": [
          -0.34543998620799043,
          -0.6503430373660486
         ]
        },
        {
         "hoverinfo": "text",
         "hovertext": "Length: 9.94e-01, Contributes -9.98e-01J",
         "line": {
          "color": "rgb(173, 216, 230, 0.4)",
          "width": 8
         },
         "mode": "lines",
         "showlegend": false,
         "type": "scatter3d",
         "x": [
          -0.8693055925252375,
          -1.1999323325085367
         ],
         "y": [
          0.33476946822389353,
          -0.280176577259379
         ],
         "z": [
          -0.34543998620799043,
          -1.0522772475874684
         ]
        },
        {
         "hoverinfo": "text",
         "hovertext": "Length: 1.02e+00, Contributes -9.84e-01J",
         "line": {
          "color": "rgb(173, 216, 230, 0.4)",
          "width": 8
         },
         "mode": "lines",
         "showlegend": false,
         "type": "scatter3d",
         "x": [
          -0.8693055925252375,
          -0.2179319106508808
         ],
         "y": [
          0.33476946822389353,
          -0.1646268535643707
         ],
         "z": [
          -0.34543998620799043,
          -0.9552461858220063
         ]
        },
        {
         "hoverinfo": "text",
         "hovertext": "Length: 9.94e-01, Contributes -9.98e-01J",
         "line": {
          "color": "rgb(173, 216, 230, 0.4)",
          "width": 8
         },
         "mode": "lines",
         "showlegend": false,
         "type": "scatter3d",
         "x": [
          -0.8693055925252375,
          -0.7668987876588473
         ],
         "y": [
          0.33476946822389353,
          0.5879674586458439
         ],
         "z": [
          -0.34543998620799043,
          -1.3006861419632925
         ]
        },
        {
         "hoverinfo": "text",
         "hovertext": "Length: 1.62e+00, Contributes -1.07e-01J",
         "line": {
          "color": "rgb(173, 216, 230, 0.4)",
          "width": 8
         },
         "mode": "lines",
         "showlegend": false,
         "type": "scatter3d",
         "x": [
          -0.7259628158042803,
          -0.025299821968631453
         ],
         "y": [
          -0.6435604509814087,
          0.7611261062437509
         ],
         "z": [
          -0.24840900315818282,
          -0.6503430373660486
         ]
        },
        {
         "hoverinfo": "text",
         "hovertext": "Length: 1.00e+00, Contributes -1.00e+00J",
         "line": {
          "color": "rgb(173, 216, 230, 0.4)",
          "width": 8
         },
         "mode": "lines",
         "showlegend": false,
         "type": "scatter3d",
         "x": [
          -0.7259628158042803,
          -1.1999323325085367
         ],
         "y": [
          -0.6435604509814087,
          -0.280176577259379
         ],
         "z": [
          -0.24840900315818282,
          -1.0522772475874684
         ]
        },
        {
         "hoverinfo": "text",
         "hovertext": "Length: 9.94e-01, Contributes -9.98e-01J",
         "line": {
          "color": "rgb(173, 216, 230, 0.4)",
          "width": 8
         },
         "mode": "lines",
         "showlegend": false,
         "type": "scatter3d",
         "x": [
          -0.7259628158042803,
          -0.2179319106508808
         ],
         "y": [
          -0.6435604509814087,
          -0.1646268535643707
         ],
         "z": [
          -0.24840900315818282,
          -0.9552461858220063
         ]
        },
        {
         "hoverinfo": "text",
         "hovertext": "Length: 1.62e+00, Contributes -1.07e-01J",
         "line": {
          "color": "rgb(173, 216, 230, 0.4)",
          "width": 8
         },
         "mode": "lines",
         "showlegend": false,
         "type": "scatter3d",
         "x": [
          -0.7259628158042803,
          -0.7668987876588473
         ],
         "y": [
          -0.6435604509814087,
          0.5879674586458439
         ],
         "z": [
          -0.24840900315818282,
          -1.3006861419632925
         ]
        },
        {
         "hoverinfo": "text",
         "hovertext": "Length: 1.62e+00, Contributes -1.07e-01J",
         "line": {
          "color": "rgb(173, 216, 230, 0.4)",
          "width": 8
         },
         "mode": "lines",
         "showlegend": false,
         "type": "scatter3d",
         "x": [
          -0.025299821968631453,
          -1.1999323325085367
         ],
         "y": [
          0.7611261062437509,
          -0.280176577259379
         ],
         "z": [
          -0.6503430373660486,
          -1.0522772475874684
         ]
        },
        {
         "hoverinfo": "text",
         "hovertext": "Length: 9.94e-01, Contributes -9.98e-01J",
         "line": {
          "color": "rgb(173, 216, 230, 0.4)",
          "width": 8
         },
         "mode": "lines",
         "showlegend": false,
         "type": "scatter3d",
         "x": [
          -0.025299821968631453,
          -0.2179319106508808
         ],
         "y": [
          0.7611261062437509,
          -0.1646268535643707
         ],
         "z": [
          -0.6503430373660486,
          -0.9552461858220063
         ]
        },
        {
         "hoverinfo": "text",
         "hovertext": "Length: 1.00e+00, Contributes -1.00e+00J",
         "line": {
          "color": "rgb(173, 216, 230, 0.4)",
          "width": 8
         },
         "mode": "lines",
         "showlegend": false,
         "type": "scatter3d",
         "x": [
          -0.025299821968631453,
          -0.7668987876588473
         ],
         "y": [
          0.7611261062437509,
          0.5879674586458439
         ],
         "z": [
          -0.6503430373660486,
          -1.3006861419632925
         ]
        },
        {
         "hoverinfo": "text",
         "hovertext": "Length: 9.94e-01, Contributes -9.98e-01J",
         "line": {
          "color": "rgb(173, 216, 230, 0.4)",
          "width": 8
         },
         "mode": "lines",
         "showlegend": false,
         "type": "scatter3d",
         "x": [
          -1.1999323325085367,
          -0.2179319106508808
         ],
         "y": [
          -0.280176577259379,
          -0.1646268535643707
         ],
         "z": [
          -1.0522772475874684,
          -0.9552461858220063
         ]
        },
        {
         "hoverinfo": "text",
         "hovertext": "Length: 1.00e+00, Contributes -1.00e+00J",
         "line": {
          "color": "rgb(173, 216, 230, 0.4)",
          "width": 8
         },
         "mode": "lines",
         "showlegend": false,
         "type": "scatter3d",
         "x": [
          -1.1999323325085367,
          -0.7668987876588473
         ],
         "y": [
          -0.280176577259379,
          0.5879674586458439
         ],
         "z": [
          -1.0522772475874684,
          -1.3006861419632925
         ]
        },
        {
         "hoverinfo": "text",
         "hovertext": "Length: 9.94e-01, Contributes -9.98e-01J",
         "line": {
          "color": "rgb(173, 216, 230, 0.4)",
          "width": 8
         },
         "mode": "lines",
         "showlegend": false,
         "type": "scatter3d",
         "x": [
          -0.2179319106508808,
          -0.7668987876588473
         ],
         "y": [
          -0.1646268535643707,
          0.5879674586458439
         ],
         "z": [
          -0.9552461858220063,
          -1.3006861419632925
         ]
        },
        {
         "hovertext": [
          "Point 1",
          "Point 2",
          "Point 3",
          "Point 4",
          "Point 5",
          "Point 6",
          "Point 7"
         ],
         "marker": {
          "color": "red",
          "size": 8
         },
         "mode": "markers",
         "showlegend": false,
         "type": "scatter3d",
         "x": {
          "bdata": "AAAAAAAAAACIBkT2WdHrvwK6/14WO+e/ILHMTzLomb84mNg+7DLzv7gKgF4x5cu/DMeKU2+K6L8=",
          "dtype": "f8"
         },
         "y": {
          "bdata": "AAAAAAAAAADII27r3GzVP2naPhYMmOS/AlzOIiVb6D/Byhu9ae7Rv+kZDSR+EsW/UOC/IaHQ4j8=",
          "dtype": "f8"
         },
         "z": {
          "bdata": "AAAAAAAAAADcnd9QsBvWv2RVTMDdy8+/OmSVM5zP5L++aMuqINbwvwZ/93Jgke6/7HuhRZzP9L8=",
          "dtype": "f8"
         }
        }
       ],
       "layout": {
        "height": 400,
        "paper_bgcolor": "rgba(0,0,0,0)",
        "plot_bgcolor": "rgba(0,0,0,0)",
        "scene": {
         "xaxis": {
          "showgrid": false,
          "showticklabels": false,
          "title": {
           "text": ""
          },
          "visible": false,
          "zeroline": false
         },
         "yaxis": {
          "showgrid": false,
          "showticklabels": false,
          "title": {
           "text": ""
          },
          "visible": false,
          "zeroline": false
         },
         "zaxis": {
          "showgrid": false,
          "showticklabels": false,
          "title": {
           "text": ""
          },
          "visible": false,
          "zeroline": false
         }
        },
        "template": {
         "data": {
          "bar": [
           {
            "error_x": {
             "color": "#2a3f5f"
            },
            "error_y": {
             "color": "#2a3f5f"
            },
            "marker": {
             "line": {
              "color": "#E5ECF6",
              "width": 0.5
             },
             "pattern": {
              "fillmode": "overlay",
              "size": 10,
              "solidity": 0.2
             }
            },
            "type": "bar"
           }
          ],
          "barpolar": [
           {
            "marker": {
             "line": {
              "color": "#E5ECF6",
              "width": 0.5
             },
             "pattern": {
              "fillmode": "overlay",
              "size": 10,
              "solidity": 0.2
             }
            },
            "type": "barpolar"
           }
          ],
          "carpet": [
           {
            "aaxis": {
             "endlinecolor": "#2a3f5f",
             "gridcolor": "white",
             "linecolor": "white",
             "minorgridcolor": "white",
             "startlinecolor": "#2a3f5f"
            },
            "baxis": {
             "endlinecolor": "#2a3f5f",
             "gridcolor": "white",
             "linecolor": "white",
             "minorgridcolor": "white",
             "startlinecolor": "#2a3f5f"
            },
            "type": "carpet"
           }
          ],
          "choropleth": [
           {
            "colorbar": {
             "outlinewidth": 0,
             "ticks": ""
            },
            "type": "choropleth"
           }
          ],
          "contour": [
           {
            "colorbar": {
             "outlinewidth": 0,
             "ticks": ""
            },
            "colorscale": [
             [
              0,
              "#0d0887"
             ],
             [
              0.1111111111111111,
              "#46039f"
             ],
             [
              0.2222222222222222,
              "#7201a8"
             ],
             [
              0.3333333333333333,
              "#9c179e"
             ],
             [
              0.4444444444444444,
              "#bd3786"
             ],
             [
              0.5555555555555556,
              "#d8576b"
             ],
             [
              0.6666666666666666,
              "#ed7953"
             ],
             [
              0.7777777777777778,
              "#fb9f3a"
             ],
             [
              0.8888888888888888,
              "#fdca26"
             ],
             [
              1,
              "#f0f921"
             ]
            ],
            "type": "contour"
           }
          ],
          "contourcarpet": [
           {
            "colorbar": {
             "outlinewidth": 0,
             "ticks": ""
            },
            "type": "contourcarpet"
           }
          ],
          "heatmap": [
           {
            "colorbar": {
             "outlinewidth": 0,
             "ticks": ""
            },
            "colorscale": [
             [
              0,
              "#0d0887"
             ],
             [
              0.1111111111111111,
              "#46039f"
             ],
             [
              0.2222222222222222,
              "#7201a8"
             ],
             [
              0.3333333333333333,
              "#9c179e"
             ],
             [
              0.4444444444444444,
              "#bd3786"
             ],
             [
              0.5555555555555556,
              "#d8576b"
             ],
             [
              0.6666666666666666,
              "#ed7953"
             ],
             [
              0.7777777777777778,
              "#fb9f3a"
             ],
             [
              0.8888888888888888,
              "#fdca26"
             ],
             [
              1,
              "#f0f921"
             ]
            ],
            "type": "heatmap"
           }
          ],
          "histogram": [
           {
            "marker": {
             "pattern": {
              "fillmode": "overlay",
              "size": 10,
              "solidity": 0.2
             }
            },
            "type": "histogram"
           }
          ],
          "histogram2d": [
           {
            "colorbar": {
             "outlinewidth": 0,
             "ticks": ""
            },
            "colorscale": [
             [
              0,
              "#0d0887"
             ],
             [
              0.1111111111111111,
              "#46039f"
             ],
             [
              0.2222222222222222,
              "#7201a8"
             ],
             [
              0.3333333333333333,
              "#9c179e"
             ],
             [
              0.4444444444444444,
              "#bd3786"
             ],
             [
              0.5555555555555556,
              "#d8576b"
             ],
             [
              0.6666666666666666,
              "#ed7953"
             ],
             [
              0.7777777777777778,
              "#fb9f3a"
             ],
             [
              0.8888888888888888,
              "#fdca26"
             ],
             [
              1,
              "#f0f921"
             ]
            ],
            "type": "histogram2d"
           }
          ],
          "histogram2dcontour": [
           {
            "colorbar": {
             "outlinewidth": 0,
             "ticks": ""
            },
            "colorscale": [
             [
              0,
              "#0d0887"
             ],
             [
              0.1111111111111111,
              "#46039f"
             ],
             [
              0.2222222222222222,
              "#7201a8"
             ],
             [
              0.3333333333333333,
              "#9c179e"
             ],
             [
              0.4444444444444444,
              "#bd3786"
             ],
             [
              0.5555555555555556,
              "#d8576b"
             ],
             [
              0.6666666666666666,
              "#ed7953"
             ],
             [
              0.7777777777777778,
              "#fb9f3a"
             ],
             [
              0.8888888888888888,
              "#fdca26"
             ],
             [
              1,
              "#f0f921"
             ]
            ],
            "type": "histogram2dcontour"
           }
          ],
          "mesh3d": [
           {
            "colorbar": {
             "outlinewidth": 0,
             "ticks": ""
            },
            "type": "mesh3d"
           }
          ],
          "parcoords": [
           {
            "line": {
             "colorbar": {
              "outlinewidth": 0,
              "ticks": ""
             }
            },
            "type": "parcoords"
           }
          ],
          "pie": [
           {
            "automargin": true,
            "type": "pie"
           }
          ],
          "scatter": [
           {
            "fillpattern": {
             "fillmode": "overlay",
             "size": 10,
             "solidity": 0.2
            },
            "type": "scatter"
           }
          ],
          "scatter3d": [
           {
            "line": {
             "colorbar": {
              "outlinewidth": 0,
              "ticks": ""
             }
            },
            "marker": {
             "colorbar": {
              "outlinewidth": 0,
              "ticks": ""
             }
            },
            "type": "scatter3d"
           }
          ],
          "scattercarpet": [
           {
            "marker": {
             "colorbar": {
              "outlinewidth": 0,
              "ticks": ""
             }
            },
            "type": "scattercarpet"
           }
          ],
          "scattergeo": [
           {
            "marker": {
             "colorbar": {
              "outlinewidth": 0,
              "ticks": ""
             }
            },
            "type": "scattergeo"
           }
          ],
          "scattergl": [
           {
            "marker": {
             "colorbar": {
              "outlinewidth": 0,
              "ticks": ""
             }
            },
            "type": "scattergl"
           }
          ],
          "scattermap": [
           {
            "marker": {
             "colorbar": {
              "outlinewidth": 0,
              "ticks": ""
             }
            },
            "type": "scattermap"
           }
          ],
          "scattermapbox": [
           {
            "marker": {
             "colorbar": {
              "outlinewidth": 0,
              "ticks": ""
             }
            },
            "type": "scattermapbox"
           }
          ],
          "scatterpolar": [
           {
            "marker": {
             "colorbar": {
              "outlinewidth": 0,
              "ticks": ""
             }
            },
            "type": "scatterpolar"
           }
          ],
          "scatterpolargl": [
           {
            "marker": {
             "colorbar": {
              "outlinewidth": 0,
              "ticks": ""
             }
            },
            "type": "scatterpolargl"
           }
          ],
          "scatterternary": [
           {
            "marker": {
             "colorbar": {
              "outlinewidth": 0,
              "ticks": ""
             }
            },
            "type": "scatterternary"
           }
          ],
          "surface": [
           {
            "colorbar": {
             "outlinewidth": 0,
             "ticks": ""
            },
            "colorscale": [
             [
              0,
              "#0d0887"
             ],
             [
              0.1111111111111111,
              "#46039f"
             ],
             [
              0.2222222222222222,
              "#7201a8"
             ],
             [
              0.3333333333333333,
              "#9c179e"
             ],
             [
              0.4444444444444444,
              "#bd3786"
             ],
             [
              0.5555555555555556,
              "#d8576b"
             ],
             [
              0.6666666666666666,
              "#ed7953"
             ],
             [
              0.7777777777777778,
              "#fb9f3a"
             ],
             [
              0.8888888888888888,
              "#fdca26"
             ],
             [
              1,
              "#f0f921"
             ]
            ],
            "type": "surface"
           }
          ],
          "table": [
           {
            "cells": {
             "fill": {
              "color": "#EBF0F8"
             },
             "line": {
              "color": "white"
             }
            },
            "header": {
             "fill": {
              "color": "#C8D4E3"
             },
             "line": {
              "color": "white"
             }
            },
            "type": "table"
           }
          ]
         },
         "layout": {
          "annotationdefaults": {
           "arrowcolor": "#2a3f5f",
           "arrowhead": 0,
           "arrowwidth": 1
          },
          "autotypenumbers": "strict",
          "coloraxis": {
           "colorbar": {
            "outlinewidth": 0,
            "ticks": ""
           }
          },
          "colorscale": {
           "diverging": [
            [
             0,
             "#8e0152"
            ],
            [
             0.1,
             "#c51b7d"
            ],
            [
             0.2,
             "#de77ae"
            ],
            [
             0.3,
             "#f1b6da"
            ],
            [
             0.4,
             "#fde0ef"
            ],
            [
             0.5,
             "#f7f7f7"
            ],
            [
             0.6,
             "#e6f5d0"
            ],
            [
             0.7,
             "#b8e186"
            ],
            [
             0.8,
             "#7fbc41"
            ],
            [
             0.9,
             "#4d9221"
            ],
            [
             1,
             "#276419"
            ]
           ],
           "sequential": [
            [
             0,
             "#0d0887"
            ],
            [
             0.1111111111111111,
             "#46039f"
            ],
            [
             0.2222222222222222,
             "#7201a8"
            ],
            [
             0.3333333333333333,
             "#9c179e"
            ],
            [
             0.4444444444444444,
             "#bd3786"
            ],
            [
             0.5555555555555556,
             "#d8576b"
            ],
            [
             0.6666666666666666,
             "#ed7953"
            ],
            [
             0.7777777777777778,
             "#fb9f3a"
            ],
            [
             0.8888888888888888,
             "#fdca26"
            ],
            [
             1,
             "#f0f921"
            ]
           ],
           "sequentialminus": [
            [
             0,
             "#0d0887"
            ],
            [
             0.1111111111111111,
             "#46039f"
            ],
            [
             0.2222222222222222,
             "#7201a8"
            ],
            [
             0.3333333333333333,
             "#9c179e"
            ],
            [
             0.4444444444444444,
             "#bd3786"
            ],
            [
             0.5555555555555556,
             "#d8576b"
            ],
            [
             0.6666666666666666,
             "#ed7953"
            ],
            [
             0.7777777777777778,
             "#fb9f3a"
            ],
            [
             0.8888888888888888,
             "#fdca26"
            ],
            [
             1,
             "#f0f921"
            ]
           ]
          },
          "colorway": [
           "#636efa",
           "#EF553B",
           "#00cc96",
           "#ab63fa",
           "#FFA15A",
           "#19d3f3",
           "#FF6692",
           "#B6E880",
           "#FF97FF",
           "#FECB52"
          ],
          "font": {
           "color": "#2a3f5f"
          },
          "geo": {
           "bgcolor": "white",
           "lakecolor": "white",
           "landcolor": "#E5ECF6",
           "showlakes": true,
           "showland": true,
           "subunitcolor": "white"
          },
          "hoverlabel": {
           "align": "left"
          },
          "hovermode": "closest",
          "mapbox": {
           "style": "light"
          },
          "paper_bgcolor": "white",
          "plot_bgcolor": "#E5ECF6",
          "polar": {
           "angularaxis": {
            "gridcolor": "white",
            "linecolor": "white",
            "ticks": ""
           },
           "bgcolor": "#E5ECF6",
           "radialaxis": {
            "gridcolor": "white",
            "linecolor": "white",
            "ticks": ""
           }
          },
          "scene": {
           "xaxis": {
            "backgroundcolor": "#E5ECF6",
            "gridcolor": "white",
            "gridwidth": 2,
            "linecolor": "white",
            "showbackground": true,
            "ticks": "",
            "zerolinecolor": "white"
           },
           "yaxis": {
            "backgroundcolor": "#E5ECF6",
            "gridcolor": "white",
            "gridwidth": 2,
            "linecolor": "white",
            "showbackground": true,
            "ticks": "",
            "zerolinecolor": "white"
           },
           "zaxis": {
            "backgroundcolor": "#E5ECF6",
            "gridcolor": "white",
            "gridwidth": 2,
            "linecolor": "white",
            "showbackground": true,
            "ticks": "",
            "zerolinecolor": "white"
           }
          },
          "shapedefaults": {
           "line": {
            "color": "#2a3f5f"
           }
          },
          "ternary": {
           "aaxis": {
            "gridcolor": "white",
            "linecolor": "white",
            "ticks": ""
           },
           "baxis": {
            "gridcolor": "white",
            "linecolor": "white",
            "ticks": ""
           },
           "bgcolor": "#E5ECF6",
           "caxis": {
            "gridcolor": "white",
            "linecolor": "white",
            "ticks": ""
           }
          },
          "title": {
           "x": 0.05
          },
          "xaxis": {
           "automargin": true,
           "gridcolor": "white",
           "linecolor": "white",
           "ticks": "",
           "title": {
            "standoff": 15
           },
           "zerolinecolor": "white",
           "zerolinewidth": 2
          },
          "yaxis": {
           "automargin": true,
           "gridcolor": "white",
           "linecolor": "white",
           "ticks": "",
           "title": {
            "standoff": 15
           },
           "zerolinecolor": "white",
           "zerolinewidth": 2
          }
         }
        },
        "title": {
         "text": "7-Atom Configuration: -16.5054J"
        },
        "width": 600
       }
      }
     },
     "metadata": {},
     "output_type": "display_data"
    },
    {
     "data": {
      "application/vnd.plotly.v1+json": {
       "config": {
        "plotlyServerURL": "https://plot.ly"
       },
       "data": [
        {
         "hoverinfo": "text",
         "hovertext": "Length: 9.92e-01, Contributes -9.98e-01J",
         "line": {
          "color": "rgb(173, 216, 230, 0.4)",
          "width": 8
         },
         "mode": "lines",
         "showlegend": false,
         "type": "scatter3d",
         "x": [
          0,
          -0.8723494890912227
         ],
         "y": [
          0,
          0.40820424207191763
         ],
         "z": [
          0,
          -0.23897313446435076
         ]
        },
        {
         "hoverinfo": "text",
         "hovertext": "Length: 9.97e-01, Contributes -1.00e+00J",
         "line": {
          "color": "rgb(173, 216, 230, 0.4)",
          "width": 8
         },
         "mode": "lines",
         "showlegend": false,
         "type": "scatter3d",
         "x": [
          0,
          -0.699831900730705
         ],
         "y": [
          0,
          -0.5364825967050484
         ],
         "z": [
          0,
          -0.4659407246708571
         ]
        },
        {
         "hoverinfo": "text",
         "hovertext": "Length: 9.99e-01, Contributes -1.00e+00J",
         "line": {
          "color": "rgb(173, 216, 230, 0.4)",
          "width": 8
         },
         "mode": "lines",
         "showlegend": false,
         "type": "scatter3d",
         "x": [
          0,
          -0.033604451913357036
         ],
         "y": [
          0,
          0.8063509663551273
         ],
         "z": [
          0,
          -0.5892850553448615
         ]
        },
        {
         "hoverinfo": "text",
         "hovertext": "Length: 1.72e+00, Contributes -7.65e-02J",
         "line": {
          "color": "rgb(173, 216, 230, 0.4)",
          "width": 8
         },
         "mode": "lines",
         "showlegend": false,
         "type": "scatter3d",
         "x": [
          0,
          -1.4824075726675672
         ],
         "y": [
          0,
          -0.0737440365616089
         ],
         "z": [
          0,
          -0.863660269046455
         ]
        },
        {
         "hoverinfo": "text",
         "hovertext": "Length: 9.92e-01, Contributes -9.98e-01J",
         "line": {
          "color": "rgb(173, 216, 230, 0.4)",
          "width": 8
         },
         "mode": "lines",
         "showlegend": false,
         "type": "scatter3d",
         "x": [
          0,
          0.01635685320710134
         ],
         "y": [
          0,
          -0.10142406926246207
         ],
         "z": [
          0,
          -0.987004612393654
         ]
        },
        {
         "hoverinfo": "text",
         "hovertext": "Length: 1.50e+00, Contributes -1.65e-01J",
         "line": {
          "color": "rgb(173, 216, 230, 0.4)",
          "width": 8
         },
         "mode": "lines",
         "showlegend": false,
         "type": "scatter3d",
         "x": [
          0,
          -0.7424889936357943
         ],
         "y": [
          0,
          0.48708976134454934
         ],
         "z": [
          0,
          -1.2139721884256627
         ]
        },
        {
         "hoverinfo": "text",
         "hovertext": "Length: 1.72e+00, Contributes -7.65e-02J",
         "line": {
          "color": "rgb(173, 216, 230, 0.4)",
          "width": 8
         },
         "mode": "lines",
         "showlegend": false,
         "type": "scatter3d",
         "x": [
          0,
          -0.7823015056478039
         ],
         "y": [
          0,
          -0.4752195923312628
         ],
         "z": [
          0,
          -1.452945335546259
         ]
        },
        {
         "hoverinfo": "text",
         "hovertext": "Length: 9.87e-01, Contributes -9.93e-01J",
         "line": {
          "color": "rgb(173, 216, 230, 0.4)",
          "width": 8
         },
         "mode": "lines",
         "showlegend": false,
         "type": "scatter3d",
         "x": [
          -0.8723494890912227,
          -0.699831900730705
         ],
         "y": [
          0.40820424207191763,
          -0.5364825967050484
         ],
         "z": [
          -0.23897313446435076,
          -0.4659407246708571
         ]
        },
        {
         "hoverinfo": "text",
         "hovertext": "Length: 9.92e-01, Contributes -9.98e-01J",
         "line": {
          "color": "rgb(173, 216, 230, 0.4)",
          "width": 8
         },
         "mode": "lines",
         "showlegend": false,
         "type": "scatter3d",
         "x": [
          -0.8723494890912227,
          -0.033604451913357036
         ],
         "y": [
          0.40820424207191763,
          0.8063509663551273
         ],
         "z": [
          -0.23897313446435076,
          -0.5892850553448615
         ]
        },
        {
         "hoverinfo": "text",
         "hovertext": "Length: 9.97e-01, Contributes -1.00e+00J",
         "line": {
          "color": "rgb(173, 216, 230, 0.4)",
          "width": 8
         },
         "mode": "lines",
         "showlegend": false,
         "type": "scatter3d",
         "x": [
          -0.8723494890912227,
          -1.4824075726675672
         ],
         "y": [
          0.40820424207191763,
          -0.0737440365616089
         ],
         "z": [
          -0.23897313446435076,
          -0.863660269046455
         ]
        },
        {
         "hoverinfo": "text",
         "hovertext": "Length: 1.27e+00, Contributes -4.22e-01J",
         "line": {
          "color": "rgb(173, 216, 230, 0.4)",
          "width": 8
         },
         "mode": "lines",
         "showlegend": false,
         "type": "scatter3d",
         "x": [
          -0.8723494890912227,
          0.01635685320710134
         ],
         "y": [
          0.40820424207191763,
          -0.10142406926246207
         ],
         "z": [
          -0.23897313446435076,
          -0.987004612393654
         ]
        },
        {
         "hoverinfo": "text",
         "hovertext": "Length: 9.87e-01, Contributes -9.93e-01J",
         "line": {
          "color": "rgb(173, 216, 230, 0.4)",
          "width": 8
         },
         "mode": "lines",
         "showlegend": false,
         "type": "scatter3d",
         "x": [
          -0.8723494890912227,
          -0.7424889936357943
         ],
         "y": [
          0.40820424207191763,
          0.48708976134454934
         ],
         "z": [
          -0.23897313446435076,
          -1.2139721884256627
         ]
        },
        {
         "hoverinfo": "text",
         "hovertext": "Length: 1.50e+00, Contributes -1.65e-01J",
         "line": {
          "color": "rgb(173, 216, 230, 0.4)",
          "width": 8
         },
         "mode": "lines",
         "showlegend": false,
         "type": "scatter3d",
         "x": [
          -0.8723494890912227,
          -0.7823015056478039
         ],
         "y": [
          0.40820424207191763,
          -0.4752195923312628
         ],
         "z": [
          -0.23897313446435076,
          -1.452945335546259
         ]
        },
        {
         "hoverinfo": "text",
         "hovertext": "Length: 1.50e+00, Contributes -1.65e-01J",
         "line": {
          "color": "rgb(173, 216, 230, 0.4)",
          "width": 8
         },
         "mode": "lines",
         "showlegend": false,
         "type": "scatter3d",
         "x": [
          -0.699831900730705,
          -0.033604451913357036
         ],
         "y": [
          -0.5364825967050484,
          0.8063509663551273
         ],
         "z": [
          -0.4659407246708571,
          -0.5892850553448615
         ]
        },
        {
         "hoverinfo": "text",
         "hovertext": "Length: 9.92e-01, Contributes -9.98e-01J",
         "line": {
          "color": "rgb(173, 216, 230, 0.4)",
          "width": 8
         },
         "mode": "lines",
         "showlegend": false,
         "type": "scatter3d",
         "x": [
          -0.699831900730705,
          -1.4824075726675672
         ],
         "y": [
          -0.5364825967050484,
          -0.0737440365616089
         ],
         "z": [
          -0.4659407246708571,
          -0.863660269046455
         ]
        },
        {
         "hoverinfo": "text",
         "hovertext": "Length: 9.87e-01, Contributes -9.93e-01J",
         "line": {
          "color": "rgb(173, 216, 230, 0.4)",
          "width": 8
         },
         "mode": "lines",
         "showlegend": false,
         "type": "scatter3d",
         "x": [
          -0.699831900730705,
          0.01635685320710134
         ],
         "y": [
          -0.5364825967050484,
          -0.10142406926246207
         ],
         "z": [
          -0.4659407246708571,
          -0.987004612393654
         ]
        },
        {
         "hoverinfo": "text",
         "hovertext": "Length: 1.27e+00, Contributes -4.22e-01J",
         "line": {
          "color": "rgb(173, 216, 230, 0.4)",
          "width": 8
         },
         "mode": "lines",
         "showlegend": false,
         "type": "scatter3d",
         "x": [
          -0.699831900730705,
          -0.7424889936357943
         ],
         "y": [
          -0.5364825967050484,
          0.48708976134454934
         ],
         "z": [
          -0.4659407246708571,
          -1.2139721884256627
         ]
        },
        {
         "hoverinfo": "text",
         "hovertext": "Length: 9.92e-01, Contributes -9.98e-01J",
         "line": {
          "color": "rgb(173, 216, 230, 0.4)",
          "width": 8
         },
         "mode": "lines",
         "showlegend": false,
         "type": "scatter3d",
         "x": [
          -0.699831900730705,
          -0.7823015056478039
         ],
         "y": [
          -0.5364825967050484,
          -0.4752195923312628
         ],
         "z": [
          -0.4659407246708571,
          -1.452945335546259
         ]
        },
        {
         "hoverinfo": "text",
         "hovertext": "Length: 1.72e+00, Contributes -7.65e-02J",
         "line": {
          "color": "rgb(173, 216, 230, 0.4)",
          "width": 8
         },
         "mode": "lines",
         "showlegend": false,
         "type": "scatter3d",
         "x": [
          -0.033604451913357036,
          -1.4824075726675672
         ],
         "y": [
          0.8063509663551273,
          -0.0737440365616089
         ],
         "z": [
          -0.5892850553448615,
          -0.863660269046455
         ]
        },
        {
         "hoverinfo": "text",
         "hovertext": "Length: 9.92e-01, Contributes -9.98e-01J",
         "line": {
          "color": "rgb(173, 216, 230, 0.4)",
          "width": 8
         },
         "mode": "lines",
         "showlegend": false,
         "type": "scatter3d",
         "x": [
          -0.033604451913357036,
          0.01635685320710134
         ],
         "y": [
          0.8063509663551273,
          -0.10142406926246207
         ],
         "z": [
          -0.5892850553448615,
          -0.987004612393654
         ]
        },
        {
         "hoverinfo": "text",
         "hovertext": "Length: 9.97e-01, Contributes -1.00e+00J",
         "line": {
          "color": "rgb(173, 216, 230, 0.4)",
          "width": 8
         },
         "mode": "lines",
         "showlegend": false,
         "type": "scatter3d",
         "x": [
          -0.033604451913357036,
          -0.7424889936357943
         ],
         "y": [
          0.8063509663551273,
          0.48708976134454934
         ],
         "z": [
          -0.5892850553448615,
          -1.2139721884256627
         ]
        },
        {
         "hoverinfo": "text",
         "hovertext": "Length: 1.72e+00, Contributes -7.65e-02J",
         "line": {
          "color": "rgb(173, 216, 230, 0.4)",
          "width": 8
         },
         "mode": "lines",
         "showlegend": false,
         "type": "scatter3d",
         "x": [
          -0.033604451913357036,
          -0.7823015056478039
         ],
         "y": [
          0.8063509663551273,
          -0.4752195923312628
         ],
         "z": [
          -0.5892850553448615,
          -1.452945335546259
         ]
        },
        {
         "hoverinfo": "text",
         "hovertext": "Length: 1.50e+00, Contributes -1.65e-01J",
         "line": {
          "color": "rgb(173, 216, 230, 0.4)",
          "width": 8
         },
         "mode": "lines",
         "showlegend": false,
         "type": "scatter3d",
         "x": [
          -1.4824075726675672,
          0.01635685320710134
         ],
         "y": [
          -0.0737440365616089,
          -0.10142406926246207
         ],
         "z": [
          -0.863660269046455,
          -0.987004612393654
         ]
        },
        {
         "hoverinfo": "text",
         "hovertext": "Length: 9.92e-01, Contributes -9.98e-01J",
         "line": {
          "color": "rgb(173, 216, 230, 0.4)",
          "width": 8
         },
         "mode": "lines",
         "showlegend": false,
         "type": "scatter3d",
         "x": [
          -1.4824075726675672,
          -0.7424889936357943
         ],
         "y": [
          -0.0737440365616089,
          0.48708976134454934
         ],
         "z": [
          -0.863660269046455,
          -1.2139721884256627
         ]
        },
        {
         "hoverinfo": "text",
         "hovertext": "Length: 9.99e-01, Contributes -1.00e+00J",
         "line": {
          "color": "rgb(173, 216, 230, 0.4)",
          "width": 8
         },
         "mode": "lines",
         "showlegend": false,
         "type": "scatter3d",
         "x": [
          -1.4824075726675672,
          -0.7823015056478039
         ],
         "y": [
          -0.0737440365616089,
          -0.4752195923312628
         ],
         "z": [
          -0.863660269046455,
          -1.452945335546259
         ]
        },
        {
         "hoverinfo": "text",
         "hovertext": "Length: 9.87e-01, Contributes -9.93e-01J",
         "line": {
          "color": "rgb(173, 216, 230, 0.4)",
          "width": 8
         },
         "mode": "lines",
         "showlegend": false,
         "type": "scatter3d",
         "x": [
          0.01635685320710134,
          -0.7424889936357943
         ],
         "y": [
          -0.10142406926246207,
          0.48708976134454934
         ],
         "z": [
          -0.987004612393654,
          -1.2139721884256627
         ]
        },
        {
         "hoverinfo": "text",
         "hovertext": "Length: 9.97e-01, Contributes -1.00e+00J",
         "line": {
          "color": "rgb(173, 216, 230, 0.4)",
          "width": 8
         },
         "mode": "lines",
         "showlegend": false,
         "type": "scatter3d",
         "x": [
          0.01635685320710134,
          -0.7823015056478039
         ],
         "y": [
          -0.10142406926246207,
          -0.4752195923312628
         ],
         "z": [
          -0.987004612393654,
          -1.452945335546259
         ]
        },
        {
         "hoverinfo": "text",
         "hovertext": "Length: 9.92e-01, Contributes -9.98e-01J",
         "line": {
          "color": "rgb(173, 216, 230, 0.4)",
          "width": 8
         },
         "mode": "lines",
         "showlegend": false,
         "type": "scatter3d",
         "x": [
          -0.7424889936357943,
          -0.7823015056478039
         ],
         "y": [
          0.48708976134454934,
          -0.4752195923312628
         ],
         "z": [
          -1.2139721884256627,
          -1.452945335546259
         ]
        },
        {
         "hovertext": [
          "Point 1",
          "Point 2",
          "Point 3",
          "Point 4",
          "Point 5",
          "Point 6",
          "Point 7",
          "Point 8"
         ],
         "marker": {
          "color": "red",
          "size": 8
         },
         "mode": "markers",
         "showlegend": false,
         "type": "scatter3d",
         "x": {
          "bdata": "AAAAAAAAAAASiMp5Serrv6q/yt4FZea/EI3vS5o0ob/5Mr8A8bf3v+AhXNbZv5A/NMgpR3jC57/XzcsqnQjpvw==",
          "dtype": "f8"
         },
         "y": {
          "bdata": "AAAAAAAAAAAAZHKvBCDaPzgV94zdKuG/DfyyiqDN6T+hoE6h4+Cyv3lvgoTt9rm/AT7MiHos3z9pzN5v/2nevw==",
          "dtype": "f8"
         },
         "z": {
          "bdata": "AAAAAAAAAADM0JLyq5bOv+x+lQv50d2/kUkXVWzb4r86F03cGqPrv7prZ7KKle+/GKv4GW5s8784wLCbQz/3vw==",
          "dtype": "f8"
         }
        }
       ],
       "layout": {
        "height": 400,
        "paper_bgcolor": "rgba(0,0,0,0)",
        "plot_bgcolor": "rgba(0,0,0,0)",
        "scene": {
         "xaxis": {
          "showgrid": false,
          "showticklabels": false,
          "title": {
           "text": ""
          },
          "visible": false,
          "zeroline": false
         },
         "yaxis": {
          "showgrid": false,
          "showticklabels": false,
          "title": {
           "text": ""
          },
          "visible": false,
          "zeroline": false
         },
         "zaxis": {
          "showgrid": false,
          "showticklabels": false,
          "title": {
           "text": ""
          },
          "visible": false,
          "zeroline": false
         }
        },
        "template": {
         "data": {
          "bar": [
           {
            "error_x": {
             "color": "#2a3f5f"
            },
            "error_y": {
             "color": "#2a3f5f"
            },
            "marker": {
             "line": {
              "color": "#E5ECF6",
              "width": 0.5
             },
             "pattern": {
              "fillmode": "overlay",
              "size": 10,
              "solidity": 0.2
             }
            },
            "type": "bar"
           }
          ],
          "barpolar": [
           {
            "marker": {
             "line": {
              "color": "#E5ECF6",
              "width": 0.5
             },
             "pattern": {
              "fillmode": "overlay",
              "size": 10,
              "solidity": 0.2
             }
            },
            "type": "barpolar"
           }
          ],
          "carpet": [
           {
            "aaxis": {
             "endlinecolor": "#2a3f5f",
             "gridcolor": "white",
             "linecolor": "white",
             "minorgridcolor": "white",
             "startlinecolor": "#2a3f5f"
            },
            "baxis": {
             "endlinecolor": "#2a3f5f",
             "gridcolor": "white",
             "linecolor": "white",
             "minorgridcolor": "white",
             "startlinecolor": "#2a3f5f"
            },
            "type": "carpet"
           }
          ],
          "choropleth": [
           {
            "colorbar": {
             "outlinewidth": 0,
             "ticks": ""
            },
            "type": "choropleth"
           }
          ],
          "contour": [
           {
            "colorbar": {
             "outlinewidth": 0,
             "ticks": ""
            },
            "colorscale": [
             [
              0,
              "#0d0887"
             ],
             [
              0.1111111111111111,
              "#46039f"
             ],
             [
              0.2222222222222222,
              "#7201a8"
             ],
             [
              0.3333333333333333,
              "#9c179e"
             ],
             [
              0.4444444444444444,
              "#bd3786"
             ],
             [
              0.5555555555555556,
              "#d8576b"
             ],
             [
              0.6666666666666666,
              "#ed7953"
             ],
             [
              0.7777777777777778,
              "#fb9f3a"
             ],
             [
              0.8888888888888888,
              "#fdca26"
             ],
             [
              1,
              "#f0f921"
             ]
            ],
            "type": "contour"
           }
          ],
          "contourcarpet": [
           {
            "colorbar": {
             "outlinewidth": 0,
             "ticks": ""
            },
            "type": "contourcarpet"
           }
          ],
          "heatmap": [
           {
            "colorbar": {
             "outlinewidth": 0,
             "ticks": ""
            },
            "colorscale": [
             [
              0,
              "#0d0887"
             ],
             [
              0.1111111111111111,
              "#46039f"
             ],
             [
              0.2222222222222222,
              "#7201a8"
             ],
             [
              0.3333333333333333,
              "#9c179e"
             ],
             [
              0.4444444444444444,
              "#bd3786"
             ],
             [
              0.5555555555555556,
              "#d8576b"
             ],
             [
              0.6666666666666666,
              "#ed7953"
             ],
             [
              0.7777777777777778,
              "#fb9f3a"
             ],
             [
              0.8888888888888888,
              "#fdca26"
             ],
             [
              1,
              "#f0f921"
             ]
            ],
            "type": "heatmap"
           }
          ],
          "histogram": [
           {
            "marker": {
             "pattern": {
              "fillmode": "overlay",
              "size": 10,
              "solidity": 0.2
             }
            },
            "type": "histogram"
           }
          ],
          "histogram2d": [
           {
            "colorbar": {
             "outlinewidth": 0,
             "ticks": ""
            },
            "colorscale": [
             [
              0,
              "#0d0887"
             ],
             [
              0.1111111111111111,
              "#46039f"
             ],
             [
              0.2222222222222222,
              "#7201a8"
             ],
             [
              0.3333333333333333,
              "#9c179e"
             ],
             [
              0.4444444444444444,
              "#bd3786"
             ],
             [
              0.5555555555555556,
              "#d8576b"
             ],
             [
              0.6666666666666666,
              "#ed7953"
             ],
             [
              0.7777777777777778,
              "#fb9f3a"
             ],
             [
              0.8888888888888888,
              "#fdca26"
             ],
             [
              1,
              "#f0f921"
             ]
            ],
            "type": "histogram2d"
           }
          ],
          "histogram2dcontour": [
           {
            "colorbar": {
             "outlinewidth": 0,
             "ticks": ""
            },
            "colorscale": [
             [
              0,
              "#0d0887"
             ],
             [
              0.1111111111111111,
              "#46039f"
             ],
             [
              0.2222222222222222,
              "#7201a8"
             ],
             [
              0.3333333333333333,
              "#9c179e"
             ],
             [
              0.4444444444444444,
              "#bd3786"
             ],
             [
              0.5555555555555556,
              "#d8576b"
             ],
             [
              0.6666666666666666,
              "#ed7953"
             ],
             [
              0.7777777777777778,
              "#fb9f3a"
             ],
             [
              0.8888888888888888,
              "#fdca26"
             ],
             [
              1,
              "#f0f921"
             ]
            ],
            "type": "histogram2dcontour"
           }
          ],
          "mesh3d": [
           {
            "colorbar": {
             "outlinewidth": 0,
             "ticks": ""
            },
            "type": "mesh3d"
           }
          ],
          "parcoords": [
           {
            "line": {
             "colorbar": {
              "outlinewidth": 0,
              "ticks": ""
             }
            },
            "type": "parcoords"
           }
          ],
          "pie": [
           {
            "automargin": true,
            "type": "pie"
           }
          ],
          "scatter": [
           {
            "fillpattern": {
             "fillmode": "overlay",
             "size": 10,
             "solidity": 0.2
            },
            "type": "scatter"
           }
          ],
          "scatter3d": [
           {
            "line": {
             "colorbar": {
              "outlinewidth": 0,
              "ticks": ""
             }
            },
            "marker": {
             "colorbar": {
              "outlinewidth": 0,
              "ticks": ""
             }
            },
            "type": "scatter3d"
           }
          ],
          "scattercarpet": [
           {
            "marker": {
             "colorbar": {
              "outlinewidth": 0,
              "ticks": ""
             }
            },
            "type": "scattercarpet"
           }
          ],
          "scattergeo": [
           {
            "marker": {
             "colorbar": {
              "outlinewidth": 0,
              "ticks": ""
             }
            },
            "type": "scattergeo"
           }
          ],
          "scattergl": [
           {
            "marker": {
             "colorbar": {
              "outlinewidth": 0,
              "ticks": ""
             }
            },
            "type": "scattergl"
           }
          ],
          "scattermap": [
           {
            "marker": {
             "colorbar": {
              "outlinewidth": 0,
              "ticks": ""
             }
            },
            "type": "scattermap"
           }
          ],
          "scattermapbox": [
           {
            "marker": {
             "colorbar": {
              "outlinewidth": 0,
              "ticks": ""
             }
            },
            "type": "scattermapbox"
           }
          ],
          "scatterpolar": [
           {
            "marker": {
             "colorbar": {
              "outlinewidth": 0,
              "ticks": ""
             }
            },
            "type": "scatterpolar"
           }
          ],
          "scatterpolargl": [
           {
            "marker": {
             "colorbar": {
              "outlinewidth": 0,
              "ticks": ""
             }
            },
            "type": "scatterpolargl"
           }
          ],
          "scatterternary": [
           {
            "marker": {
             "colorbar": {
              "outlinewidth": 0,
              "ticks": ""
             }
            },
            "type": "scatterternary"
           }
          ],
          "surface": [
           {
            "colorbar": {
             "outlinewidth": 0,
             "ticks": ""
            },
            "colorscale": [
             [
              0,
              "#0d0887"
             ],
             [
              0.1111111111111111,
              "#46039f"
             ],
             [
              0.2222222222222222,
              "#7201a8"
             ],
             [
              0.3333333333333333,
              "#9c179e"
             ],
             [
              0.4444444444444444,
              "#bd3786"
             ],
             [
              0.5555555555555556,
              "#d8576b"
             ],
             [
              0.6666666666666666,
              "#ed7953"
             ],
             [
              0.7777777777777778,
              "#fb9f3a"
             ],
             [
              0.8888888888888888,
              "#fdca26"
             ],
             [
              1,
              "#f0f921"
             ]
            ],
            "type": "surface"
           }
          ],
          "table": [
           {
            "cells": {
             "fill": {
              "color": "#EBF0F8"
             },
             "line": {
              "color": "white"
             }
            },
            "header": {
             "fill": {
              "color": "#C8D4E3"
             },
             "line": {
              "color": "white"
             }
            },
            "type": "table"
           }
          ]
         },
         "layout": {
          "annotationdefaults": {
           "arrowcolor": "#2a3f5f",
           "arrowhead": 0,
           "arrowwidth": 1
          },
          "autotypenumbers": "strict",
          "coloraxis": {
           "colorbar": {
            "outlinewidth": 0,
            "ticks": ""
           }
          },
          "colorscale": {
           "diverging": [
            [
             0,
             "#8e0152"
            ],
            [
             0.1,
             "#c51b7d"
            ],
            [
             0.2,
             "#de77ae"
            ],
            [
             0.3,
             "#f1b6da"
            ],
            [
             0.4,
             "#fde0ef"
            ],
            [
             0.5,
             "#f7f7f7"
            ],
            [
             0.6,
             "#e6f5d0"
            ],
            [
             0.7,
             "#b8e186"
            ],
            [
             0.8,
             "#7fbc41"
            ],
            [
             0.9,
             "#4d9221"
            ],
            [
             1,
             "#276419"
            ]
           ],
           "sequential": [
            [
             0,
             "#0d0887"
            ],
            [
             0.1111111111111111,
             "#46039f"
            ],
            [
             0.2222222222222222,
             "#7201a8"
            ],
            [
             0.3333333333333333,
             "#9c179e"
            ],
            [
             0.4444444444444444,
             "#bd3786"
            ],
            [
             0.5555555555555556,
             "#d8576b"
            ],
            [
             0.6666666666666666,
             "#ed7953"
            ],
            [
             0.7777777777777778,
             "#fb9f3a"
            ],
            [
             0.8888888888888888,
             "#fdca26"
            ],
            [
             1,
             "#f0f921"
            ]
           ],
           "sequentialminus": [
            [
             0,
             "#0d0887"
            ],
            [
             0.1111111111111111,
             "#46039f"
            ],
            [
             0.2222222222222222,
             "#7201a8"
            ],
            [
             0.3333333333333333,
             "#9c179e"
            ],
            [
             0.4444444444444444,
             "#bd3786"
            ],
            [
             0.5555555555555556,
             "#d8576b"
            ],
            [
             0.6666666666666666,
             "#ed7953"
            ],
            [
             0.7777777777777778,
             "#fb9f3a"
            ],
            [
             0.8888888888888888,
             "#fdca26"
            ],
            [
             1,
             "#f0f921"
            ]
           ]
          },
          "colorway": [
           "#636efa",
           "#EF553B",
           "#00cc96",
           "#ab63fa",
           "#FFA15A",
           "#19d3f3",
           "#FF6692",
           "#B6E880",
           "#FF97FF",
           "#FECB52"
          ],
          "font": {
           "color": "#2a3f5f"
          },
          "geo": {
           "bgcolor": "white",
           "lakecolor": "white",
           "landcolor": "#E5ECF6",
           "showlakes": true,
           "showland": true,
           "subunitcolor": "white"
          },
          "hoverlabel": {
           "align": "left"
          },
          "hovermode": "closest",
          "mapbox": {
           "style": "light"
          },
          "paper_bgcolor": "white",
          "plot_bgcolor": "#E5ECF6",
          "polar": {
           "angularaxis": {
            "gridcolor": "white",
            "linecolor": "white",
            "ticks": ""
           },
           "bgcolor": "#E5ECF6",
           "radialaxis": {
            "gridcolor": "white",
            "linecolor": "white",
            "ticks": ""
           }
          },
          "scene": {
           "xaxis": {
            "backgroundcolor": "#E5ECF6",
            "gridcolor": "white",
            "gridwidth": 2,
            "linecolor": "white",
            "showbackground": true,
            "ticks": "",
            "zerolinecolor": "white"
           },
           "yaxis": {
            "backgroundcolor": "#E5ECF6",
            "gridcolor": "white",
            "gridwidth": 2,
            "linecolor": "white",
            "showbackground": true,
            "ticks": "",
            "zerolinecolor": "white"
           },
           "zaxis": {
            "backgroundcolor": "#E5ECF6",
            "gridcolor": "white",
            "gridwidth": 2,
            "linecolor": "white",
            "showbackground": true,
            "ticks": "",
            "zerolinecolor": "white"
           }
          },
          "shapedefaults": {
           "line": {
            "color": "#2a3f5f"
           }
          },
          "ternary": {
           "aaxis": {
            "gridcolor": "white",
            "linecolor": "white",
            "ticks": ""
           },
           "baxis": {
            "gridcolor": "white",
            "linecolor": "white",
            "ticks": ""
           },
           "bgcolor": "#E5ECF6",
           "caxis": {
            "gridcolor": "white",
            "linecolor": "white",
            "ticks": ""
           }
          },
          "title": {
           "x": 0.05
          },
          "xaxis": {
           "automargin": true,
           "gridcolor": "white",
           "linecolor": "white",
           "ticks": "",
           "title": {
            "standoff": 15
           },
           "zerolinecolor": "white",
           "zerolinewidth": 2
          },
          "yaxis": {
           "automargin": true,
           "gridcolor": "white",
           "linecolor": "white",
           "ticks": "",
           "title": {
            "standoff": 15
           },
           "zerolinecolor": "white",
           "zerolinewidth": 2
          }
         }
        },
        "title": {
         "text": "8-Atom Configuration: -19.7653J"
        },
        "width": 600
       }
      }
     },
     "metadata": {},
     "output_type": "display_data"
    },
    {
     "data": {
      "application/vnd.plotly.v1+json": {
       "config": {
        "plotlyServerURL": "https://plot.ly"
       },
       "data": [
        {
         "hoverinfo": "text",
         "hovertext": "Length: 9.95e-01, Contributes -9.99e-01J",
         "line": {
          "color": "rgb(173, 216, 230, 0.4)",
          "width": 8
         },
         "mode": "lines",
         "showlegend": false,
         "type": "scatter3d",
         "x": [
          0,
          -0.8665624588085945
         ],
         "y": [
          0,
          0.406477555979157
         ],
         "z": [
          0,
          -0.2710958756429901
         ]
        },
        {
         "hoverinfo": "text",
         "hovertext": "Length: 9.95e-01, Contributes -9.99e-01J",
         "line": {
          "color": "rgb(173, 216, 230, 0.4)",
          "width": 8
         },
         "mode": "lines",
         "showlegend": false,
         "type": "scatter3d",
         "x": [
          0,
          -0.6975665268393645
         ],
         "y": [
          0,
          -0.548919984338185
         ],
         "z": [
          0,
          -0.4491494893120311
         ]
        },
        {
         "hoverinfo": "text",
         "hovertext": "Length: 9.95e-01, Contributes -9.99e-01J",
         "line": {
          "color": "rgb(173, 216, 230, 0.4)",
          "width": 8
         },
         "mode": "lines",
         "showlegend": false,
         "type": "scatter3d",
         "x": [
          0,
          -0.03851994697563432
         ],
         "y": [
          0,
          0.6436105424676885
         ],
         "z": [
          0,
          -0.7575811214766146
         ]
        },
        {
         "hoverinfo": "text",
         "hovertext": "Length: 1.72e+00, Contributes -7.54e-02J",
         "line": {
          "color": "rgb(173, 216, 230, 0.4)",
          "width": 8
         },
         "mode": "lines",
         "showlegend": false,
         "type": "scatter3d",
         "x": [
          0,
          -1.4951281739264126
         ],
         "y": [
          0,
          -0.10668748123390927
         ],
         "z": [
          0,
          -0.846608046342774
         ]
        },
        {
         "hoverinfo": "text",
         "hovertext": "Length: 9.95e-01, Contributes -9.99e-01J",
         "line": {
          "color": "rgb(173, 216, 230, 0.4)",
          "width": 8
         },
         "mode": "lines",
         "showlegend": false,
         "type": "scatter3d",
         "x": [
          0,
          0.13047598499517488
         ],
         "y": [
          0,
          -0.3117869978585818
         ],
         "z": [
          0,
          -0.9356347351473193
         ]
        },
        {
         "hoverinfo": "text",
         "hovertext": "Length: 1.64e+00, Contributes -9.98e-02J",
         "line": {
          "color": "rgb(173, 216, 230, 0.4)",
          "width": 8
         },
         "mode": "lines",
         "showlegend": false,
         "type": "scatter3d",
         "x": [
          0,
          -0.8976636718797472
         ],
         "y": [
          0,
          0.582304841968133
         ],
         "z": [
          0,
          -1.244066496530742
         ]
        },
        {
         "hoverinfo": "text",
         "hovertext": "Length: 1.64e+00, Contributes -9.98e-02J",
         "line": {
          "color": "rgb(173, 216, 230, 0.4)",
          "width": 8
         },
         "mode": "lines",
         "showlegend": false,
         "type": "scatter3d",
         "x": [
          0,
          -0.7286677399105171
         ],
         "y": [
          0,
          -0.37309269834920905
         ],
         "z": [
          0,
          -1.422120110199783
         ]
        },
        {
         "hoverinfo": "text",
         "hovertext": "Length: 1.72e+00, Contributes -7.54e-02J",
         "line": {
          "color": "rgb(173, 216, 230, 0.4)",
          "width": 8
         },
         "mode": "lines",
         "showlegend": false,
         "type": "scatter3d",
         "x": [
          0,
          -0.05412400575078813
         ],
         "y": [
          0,
          0.30598411117409574
         ],
         "z": [
          0,
          -1.6932158678119658
         ]
        },
        {
         "hoverinfo": "text",
         "hovertext": "Length: 9.86e-01, Contributes -9.93e-01J",
         "line": {
          "color": "rgb(173, 216, 230, 0.4)",
          "width": 8
         },
         "mode": "lines",
         "showlegend": false,
         "type": "scatter3d",
         "x": [
          -0.8665624588085945,
          -0.6975665268393645
         ],
         "y": [
          0.406477555979157,
          -0.548919984338185
         ],
         "z": [
          -0.2710958756429901,
          -0.4491494893120311
         ]
        },
        {
         "hoverinfo": "text",
         "hovertext": "Length: 9.89e-01, Contributes -9.95e-01J",
         "line": {
          "color": "rgb(173, 216, 230, 0.4)",
          "width": 8
         },
         "mode": "lines",
         "showlegend": false,
         "type": "scatter3d",
         "x": [
          -0.8665624588085945,
          -0.03851994697563432
         ],
         "y": [
          0.406477555979157,
          0.6436105424676885
         ],
         "z": [
          -0.2710958756429901,
          -0.7575811214766146
         ]
        },
        {
         "hoverinfo": "text",
         "hovertext": "Length: 9.95e-01, Contributes -9.99e-01J",
         "line": {
          "color": "rgb(173, 216, 230, 0.4)",
          "width": 8
         },
         "mode": "lines",
         "showlegend": false,
         "type": "scatter3d",
         "x": [
          -0.8665624588085945,
          -1.4951281739264126
         ],
         "y": [
          0.406477555979157,
          -0.10668748123390927
         ],
         "z": [
          -0.2710958756429901,
          -0.846608046342774
         ]
        },
        {
         "hoverinfo": "text",
         "hovertext": "Length: 1.40e+00, Contributes -2.51e-01J",
         "line": {
          "color": "rgb(173, 216, 230, 0.4)",
          "width": 8
         },
         "mode": "lines",
         "showlegend": false,
         "type": "scatter3d",
         "x": [
          -0.8665624588085945,
          0.13047598499517488
         ],
         "y": [
          0.406477555979157,
          -0.3117869978585818
         ],
         "z": [
          -0.2710958756429901,
          -0.9356347351473193
         ]
        },
        {
         "hoverinfo": "text",
         "hovertext": "Length: 9.89e-01, Contributes -9.95e-01J",
         "line": {
          "color": "rgb(173, 216, 230, 0.4)",
          "width": 8
         },
         "mode": "lines",
         "showlegend": false,
         "type": "scatter3d",
         "x": [
          -0.8665624588085945,
          -0.8976636718797472
         ],
         "y": [
          0.406477555979157,
          0.582304841968133
         ],
         "z": [
          -0.2710958756429901,
          -1.244066496530742
         ]
        },
        {
         "hoverinfo": "text",
         "hovertext": "Length: 1.40e+00, Contributes -2.51e-01J",
         "line": {
          "color": "rgb(173, 216, 230, 0.4)",
          "width": 8
         },
         "mode": "lines",
         "showlegend": false,
         "type": "scatter3d",
         "x": [
          -0.8665624588085945,
          -0.7286677399105171
         ],
         "y": [
          0.406477555979157,
          -0.37309269834920905
         ],
         "z": [
          -0.2710958756429901,
          -1.422120110199783
         ]
        },
        {
         "hoverinfo": "text",
         "hovertext": "Length: 1.64e+00, Contributes -9.98e-02J",
         "line": {
          "color": "rgb(173, 216, 230, 0.4)",
          "width": 8
         },
         "mode": "lines",
         "showlegend": false,
         "type": "scatter3d",
         "x": [
          -0.8665624588085945,
          -0.05412400575078813
         ],
         "y": [
          0.406477555979157,
          0.30598411117409574
         ],
         "z": [
          -0.2710958756429901,
          -1.6932158678119658
         ]
        },
        {
         "hoverinfo": "text",
         "hovertext": "Length: 1.40e+00, Contributes -2.51e-01J",
         "line": {
          "color": "rgb(173, 216, 230, 0.4)",
          "width": 8
         },
         "mode": "lines",
         "showlegend": false,
         "type": "scatter3d",
         "x": [
          -0.6975665268393645,
          -0.03851994697563432
         ],
         "y": [
          -0.548919984338185,
          0.6436105424676885
         ],
         "z": [
          -0.4491494893120311,
          -0.7575811214766146
         ]
        },
        {
         "hoverinfo": "text",
         "hovertext": "Length: 9.95e-01, Contributes -9.99e-01J",
         "line": {
          "color": "rgb(173, 216, 230, 0.4)",
          "width": 8
         },
         "mode": "lines",
         "showlegend": false,
         "type": "scatter3d",
         "x": [
          -0.6975665268393645,
          -1.4951281739264126
         ],
         "y": [
          -0.548919984338185,
          -0.10668748123390927
         ],
         "z": [
          -0.4491494893120311,
          -0.846608046342774
         ]
        },
        {
         "hoverinfo": "text",
         "hovertext": "Length: 9.89e-01, Contributes -9.95e-01J",
         "line": {
          "color": "rgb(173, 216, 230, 0.4)",
          "width": 8
         },
         "mode": "lines",
         "showlegend": false,
         "type": "scatter3d",
         "x": [
          -0.6975665268393645,
          0.13047598499517488
         ],
         "y": [
          -0.548919984338185,
          -0.3117869978585818
         ],
         "z": [
          -0.4491494893120311,
          -0.9356347351473193
         ]
        },
        {
         "hoverinfo": "text",
         "hovertext": "Length: 1.40e+00, Contributes -2.51e-01J",
         "line": {
          "color": "rgb(173, 216, 230, 0.4)",
          "width": 8
         },
         "mode": "lines",
         "showlegend": false,
         "type": "scatter3d",
         "x": [
          -0.6975665268393645,
          -0.8976636718797472
         ],
         "y": [
          -0.548919984338185,
          0.582304841968133
         ],
         "z": [
          -0.4491494893120311,
          -1.244066496530742
         ]
        },
        {
         "hoverinfo": "text",
         "hovertext": "Length: 9.89e-01, Contributes -9.95e-01J",
         "line": {
          "color": "rgb(173, 216, 230, 0.4)",
          "width": 8
         },
         "mode": "lines",
         "showlegend": false,
         "type": "scatter3d",
         "x": [
          -0.6975665268393645,
          -0.7286677399105171
         ],
         "y": [
          -0.548919984338185,
          -0.37309269834920905
         ],
         "z": [
          -0.4491494893120311,
          -1.422120110199783
         ]
        },
        {
         "hoverinfo": "text",
         "hovertext": "Length: 1.64e+00, Contributes -9.98e-02J",
         "line": {
          "color": "rgb(173, 216, 230, 0.4)",
          "width": 8
         },
         "mode": "lines",
         "showlegend": false,
         "type": "scatter3d",
         "x": [
          -0.6975665268393645,
          -0.05412400575078813
         ],
         "y": [
          -0.548919984338185,
          0.30598411117409574
         ],
         "z": [
          -0.4491494893120311,
          -1.6932158678119658
         ]
        },
        {
         "hoverinfo": "text",
         "hovertext": "Length: 1.64e+00, Contributes -9.98e-02J",
         "line": {
          "color": "rgb(173, 216, 230, 0.4)",
          "width": 8
         },
         "mode": "lines",
         "showlegend": false,
         "type": "scatter3d",
         "x": [
          -0.03851994697563432,
          -1.4951281739264126
         ],
         "y": [
          0.6436105424676885,
          -0.10668748123390927
         ],
         "z": [
          -0.7575811214766146,
          -0.846608046342774
         ]
        },
        {
         "hoverinfo": "text",
         "hovertext": "Length: 9.86e-01, Contributes -9.93e-01J",
         "line": {
          "color": "rgb(173, 216, 230, 0.4)",
          "width": 8
         },
         "mode": "lines",
         "showlegend": false,
         "type": "scatter3d",
         "x": [
          -0.03851994697563432,
          0.13047598499517488
         ],
         "y": [
          0.6436105424676885,
          -0.3117869978585818
         ],
         "z": [
          -0.7575811214766146,
          -0.9356347351473193
         ]
        },
        {
         "hoverinfo": "text",
         "hovertext": "Length: 9.89e-01, Contributes -9.95e-01J",
         "line": {
          "color": "rgb(173, 216, 230, 0.4)",
          "width": 8
         },
         "mode": "lines",
         "showlegend": false,
         "type": "scatter3d",
         "x": [
          -0.03851994697563432,
          -0.8976636718797472
         ],
         "y": [
          0.6436105424676885,
          0.582304841968133
         ],
         "z": [
          -0.7575811214766146,
          -1.244066496530742
         ]
        },
        {
         "hoverinfo": "text",
         "hovertext": "Length: 1.40e+00, Contributes -2.51e-01J",
         "line": {
          "color": "rgb(173, 216, 230, 0.4)",
          "width": 8
         },
         "mode": "lines",
         "showlegend": false,
         "type": "scatter3d",
         "x": [
          -0.03851994697563432,
          -0.7286677399105171
         ],
         "y": [
          0.6436105424676885,
          -0.37309269834920905
         ],
         "z": [
          -0.7575811214766146,
          -1.422120110199783
         ]
        },
        {
         "hoverinfo": "text",
         "hovertext": "Length: 9.95e-01, Contributes -9.99e-01J",
         "line": {
          "color": "rgb(173, 216, 230, 0.4)",
          "width": 8
         },
         "mode": "lines",
         "showlegend": false,
         "type": "scatter3d",
         "x": [
          -0.03851994697563432,
          -0.05412400575078813
         ],
         "y": [
          0.6436105424676885,
          0.30598411117409574
         ],
         "z": [
          -0.7575811214766146,
          -1.6932158678119658
         ]
        },
        {
         "hoverinfo": "text",
         "hovertext": "Length: 1.64e+00, Contributes -9.98e-02J",
         "line": {
          "color": "rgb(173, 216, 230, 0.4)",
          "width": 8
         },
         "mode": "lines",
         "showlegend": false,
         "type": "scatter3d",
         "x": [
          -1.4951281739264126,
          0.13047598499517488
         ],
         "y": [
          -0.10668748123390927,
          -0.3117869978585818
         ],
         "z": [
          -0.846608046342774,
          -0.9356347351473193
         ]
        },
        {
         "hoverinfo": "text",
         "hovertext": "Length: 9.95e-01, Contributes -9.99e-01J",
         "line": {
          "color": "rgb(173, 216, 230, 0.4)",
          "width": 8
         },
         "mode": "lines",
         "showlegend": false,
         "type": "scatter3d",
         "x": [
          -1.4951281739264126,
          -0.8976636718797472
         ],
         "y": [
          -0.10668748123390927,
          0.582304841968133
         ],
         "z": [
          -0.846608046342774,
          -1.244066496530742
         ]
        },
        {
         "hoverinfo": "text",
         "hovertext": "Length: 9.95e-01, Contributes -9.99e-01J",
         "line": {
          "color": "rgb(173, 216, 230, 0.4)",
          "width": 8
         },
         "mode": "lines",
         "showlegend": false,
         "type": "scatter3d",
         "x": [
          -1.4951281739264126,
          -0.7286677399105171
         ],
         "y": [
          -0.10668748123390927,
          -0.37309269834920905
         ],
         "z": [
          -0.846608046342774,
          -1.422120110199783
         ]
        },
        {
         "hoverinfo": "text",
         "hovertext": "Length: 1.72e+00, Contributes -7.54e-02J",
         "line": {
          "color": "rgb(173, 216, 230, 0.4)",
          "width": 8
         },
         "mode": "lines",
         "showlegend": false,
         "type": "scatter3d",
         "x": [
          -1.4951281739264126,
          -0.05412400575078813
         ],
         "y": [
          -0.10668748123390927,
          0.30598411117409574
         ],
         "z": [
          -0.846608046342774,
          -1.6932158678119658
         ]
        },
        {
         "hoverinfo": "text",
         "hovertext": "Length: 1.40e+00, Contributes -2.51e-01J",
         "line": {
          "color": "rgb(173, 216, 230, 0.4)",
          "width": 8
         },
         "mode": "lines",
         "showlegend": false,
         "type": "scatter3d",
         "x": [
          0.13047598499517488,
          -0.8976636718797472
         ],
         "y": [
          -0.3117869978585818,
          0.582304841968133
         ],
         "z": [
          -0.9356347351473193,
          -1.244066496530742
         ]
        },
        {
         "hoverinfo": "text",
         "hovertext": "Length: 9.89e-01, Contributes -9.95e-01J",
         "line": {
          "color": "rgb(173, 216, 230, 0.4)",
          "width": 8
         },
         "mode": "lines",
         "showlegend": false,
         "type": "scatter3d",
         "x": [
          0.13047598499517488,
          -0.7286677399105171
         ],
         "y": [
          -0.3117869978585818,
          -0.37309269834920905
         ],
         "z": [
          -0.9356347351473193,
          -1.422120110199783
         ]
        },
        {
         "hoverinfo": "text",
         "hovertext": "Length: 9.95e-01, Contributes -9.99e-01J",
         "line": {
          "color": "rgb(173, 216, 230, 0.4)",
          "width": 8
         },
         "mode": "lines",
         "showlegend": false,
         "type": "scatter3d",
         "x": [
          0.13047598499517488,
          -0.05412400575078813
         ],
         "y": [
          -0.3117869978585818,
          0.30598411117409574
         ],
         "z": [
          -0.9356347351473193,
          -1.6932158678119658
         ]
        },
        {
         "hoverinfo": "text",
         "hovertext": "Length: 9.86e-01, Contributes -9.93e-01J",
         "line": {
          "color": "rgb(173, 216, 230, 0.4)",
          "width": 8
         },
         "mode": "lines",
         "showlegend": false,
         "type": "scatter3d",
         "x": [
          -0.8976636718797472,
          -0.7286677399105171
         ],
         "y": [
          0.582304841968133,
          -0.37309269834920905
         ],
         "z": [
          -1.244066496530742,
          -1.422120110199783
         ]
        },
        {
         "hoverinfo": "text",
         "hovertext": "Length: 9.95e-01, Contributes -9.99e-01J",
         "line": {
          "color": "rgb(173, 216, 230, 0.4)",
          "width": 8
         },
         "mode": "lines",
         "showlegend": false,
         "type": "scatter3d",
         "x": [
          -0.8976636718797472,
          -0.05412400575078813
         ],
         "y": [
          0.582304841968133,
          0.30598411117409574
         ],
         "z": [
          -1.244066496530742,
          -1.6932158678119658
         ]
        },
        {
         "hoverinfo": "text",
         "hovertext": "Length: 9.95e-01, Contributes -9.99e-01J",
         "line": {
          "color": "rgb(173, 216, 230, 0.4)",
          "width": 8
         },
         "mode": "lines",
         "showlegend": false,
         "type": "scatter3d",
         "x": [
          -0.7286677399105171,
          -0.05412400575078813
         ],
         "y": [
          -0.37309269834920905,
          0.30598411117409574
         ],
         "z": [
          -1.422120110199783,
          -1.6932158678119658
         ]
        },
        {
         "hovertext": [
          "Point 1",
          "Point 2",
          "Point 3",
          "Point 4",
          "Point 5",
          "Point 6",
          "Point 7",
          "Point 8",
          "Point 9"
         ],
         "marker": {
          "color": "red",
          "size": 8
         },
         "mode": "markers",
         "showlegend": false,
         "type": "scatter3d",
         "x": {
          "bdata": "AAAAAAAAAAC+xpAx4brrv2rmcQl3Uua/wAwC8eK4o79qeSWFC+z3v2DcO+Rvs8A/OfwwKqm57L/lGxICP1HnvwCdQUUktqu/",
          "dtype": "f8"
         },
         "y": {
          "bdata": "AAAAAAAAAABmQ19wugPaP4lOm6TAkOG/KU7oInWY5D8p0crq3k+7v2u4x3NR9NO/T8eRwz2i4j/bUXIywODXv9inpWE+ldM/",
          "dtype": "f8"
         },
         "z": {
          "bdata": "AAAAAAAAAABi5f2DolnRv78O53/dvty/2OOZwxo+6L9JU/LBaRfrvxCzjkG48O2/oGFKRbLn87/3q0QEAcH2v2QhlYVpF/u/",
          "dtype": "f8"
         }
        }
       ],
       "layout": {
        "height": 400,
        "paper_bgcolor": "rgba(0,0,0,0)",
        "plot_bgcolor": "rgba(0,0,0,0)",
        "scene": {
         "xaxis": {
          "showgrid": false,
          "showticklabels": false,
          "title": {
           "text": ""
          },
          "visible": false,
          "zeroline": false
         },
         "yaxis": {
          "showgrid": false,
          "showticklabels": false,
          "title": {
           "text": ""
          },
          "visible": false,
          "zeroline": false
         },
         "zaxis": {
          "showgrid": false,
          "showticklabels": false,
          "title": {
           "text": ""
          },
          "visible": false,
          "zeroline": false
         }
        },
        "template": {
         "data": {
          "bar": [
           {
            "error_x": {
             "color": "#2a3f5f"
            },
            "error_y": {
             "color": "#2a3f5f"
            },
            "marker": {
             "line": {
              "color": "#E5ECF6",
              "width": 0.5
             },
             "pattern": {
              "fillmode": "overlay",
              "size": 10,
              "solidity": 0.2
             }
            },
            "type": "bar"
           }
          ],
          "barpolar": [
           {
            "marker": {
             "line": {
              "color": "#E5ECF6",
              "width": 0.5
             },
             "pattern": {
              "fillmode": "overlay",
              "size": 10,
              "solidity": 0.2
             }
            },
            "type": "barpolar"
           }
          ],
          "carpet": [
           {
            "aaxis": {
             "endlinecolor": "#2a3f5f",
             "gridcolor": "white",
             "linecolor": "white",
             "minorgridcolor": "white",
             "startlinecolor": "#2a3f5f"
            },
            "baxis": {
             "endlinecolor": "#2a3f5f",
             "gridcolor": "white",
             "linecolor": "white",
             "minorgridcolor": "white",
             "startlinecolor": "#2a3f5f"
            },
            "type": "carpet"
           }
          ],
          "choropleth": [
           {
            "colorbar": {
             "outlinewidth": 0,
             "ticks": ""
            },
            "type": "choropleth"
           }
          ],
          "contour": [
           {
            "colorbar": {
             "outlinewidth": 0,
             "ticks": ""
            },
            "colorscale": [
             [
              0,
              "#0d0887"
             ],
             [
              0.1111111111111111,
              "#46039f"
             ],
             [
              0.2222222222222222,
              "#7201a8"
             ],
             [
              0.3333333333333333,
              "#9c179e"
             ],
             [
              0.4444444444444444,
              "#bd3786"
             ],
             [
              0.5555555555555556,
              "#d8576b"
             ],
             [
              0.6666666666666666,
              "#ed7953"
             ],
             [
              0.7777777777777778,
              "#fb9f3a"
             ],
             [
              0.8888888888888888,
              "#fdca26"
             ],
             [
              1,
              "#f0f921"
             ]
            ],
            "type": "contour"
           }
          ],
          "contourcarpet": [
           {
            "colorbar": {
             "outlinewidth": 0,
             "ticks": ""
            },
            "type": "contourcarpet"
           }
          ],
          "heatmap": [
           {
            "colorbar": {
             "outlinewidth": 0,
             "ticks": ""
            },
            "colorscale": [
             [
              0,
              "#0d0887"
             ],
             [
              0.1111111111111111,
              "#46039f"
             ],
             [
              0.2222222222222222,
              "#7201a8"
             ],
             [
              0.3333333333333333,
              "#9c179e"
             ],
             [
              0.4444444444444444,
              "#bd3786"
             ],
             [
              0.5555555555555556,
              "#d8576b"
             ],
             [
              0.6666666666666666,
              "#ed7953"
             ],
             [
              0.7777777777777778,
              "#fb9f3a"
             ],
             [
              0.8888888888888888,
              "#fdca26"
             ],
             [
              1,
              "#f0f921"
             ]
            ],
            "type": "heatmap"
           }
          ],
          "histogram": [
           {
            "marker": {
             "pattern": {
              "fillmode": "overlay",
              "size": 10,
              "solidity": 0.2
             }
            },
            "type": "histogram"
           }
          ],
          "histogram2d": [
           {
            "colorbar": {
             "outlinewidth": 0,
             "ticks": ""
            },
            "colorscale": [
             [
              0,
              "#0d0887"
             ],
             [
              0.1111111111111111,
              "#46039f"
             ],
             [
              0.2222222222222222,
              "#7201a8"
             ],
             [
              0.3333333333333333,
              "#9c179e"
             ],
             [
              0.4444444444444444,
              "#bd3786"
             ],
             [
              0.5555555555555556,
              "#d8576b"
             ],
             [
              0.6666666666666666,
              "#ed7953"
             ],
             [
              0.7777777777777778,
              "#fb9f3a"
             ],
             [
              0.8888888888888888,
              "#fdca26"
             ],
             [
              1,
              "#f0f921"
             ]
            ],
            "type": "histogram2d"
           }
          ],
          "histogram2dcontour": [
           {
            "colorbar": {
             "outlinewidth": 0,
             "ticks": ""
            },
            "colorscale": [
             [
              0,
              "#0d0887"
             ],
             [
              0.1111111111111111,
              "#46039f"
             ],
             [
              0.2222222222222222,
              "#7201a8"
             ],
             [
              0.3333333333333333,
              "#9c179e"
             ],
             [
              0.4444444444444444,
              "#bd3786"
             ],
             [
              0.5555555555555556,
              "#d8576b"
             ],
             [
              0.6666666666666666,
              "#ed7953"
             ],
             [
              0.7777777777777778,
              "#fb9f3a"
             ],
             [
              0.8888888888888888,
              "#fdca26"
             ],
             [
              1,
              "#f0f921"
             ]
            ],
            "type": "histogram2dcontour"
           }
          ],
          "mesh3d": [
           {
            "colorbar": {
             "outlinewidth": 0,
             "ticks": ""
            },
            "type": "mesh3d"
           }
          ],
          "parcoords": [
           {
            "line": {
             "colorbar": {
              "outlinewidth": 0,
              "ticks": ""
             }
            },
            "type": "parcoords"
           }
          ],
          "pie": [
           {
            "automargin": true,
            "type": "pie"
           }
          ],
          "scatter": [
           {
            "fillpattern": {
             "fillmode": "overlay",
             "size": 10,
             "solidity": 0.2
            },
            "type": "scatter"
           }
          ],
          "scatter3d": [
           {
            "line": {
             "colorbar": {
              "outlinewidth": 0,
              "ticks": ""
             }
            },
            "marker": {
             "colorbar": {
              "outlinewidth": 0,
              "ticks": ""
             }
            },
            "type": "scatter3d"
           }
          ],
          "scattercarpet": [
           {
            "marker": {
             "colorbar": {
              "outlinewidth": 0,
              "ticks": ""
             }
            },
            "type": "scattercarpet"
           }
          ],
          "scattergeo": [
           {
            "marker": {
             "colorbar": {
              "outlinewidth": 0,
              "ticks": ""
             }
            },
            "type": "scattergeo"
           }
          ],
          "scattergl": [
           {
            "marker": {
             "colorbar": {
              "outlinewidth": 0,
              "ticks": ""
             }
            },
            "type": "scattergl"
           }
          ],
          "scattermap": [
           {
            "marker": {
             "colorbar": {
              "outlinewidth": 0,
              "ticks": ""
             }
            },
            "type": "scattermap"
           }
          ],
          "scattermapbox": [
           {
            "marker": {
             "colorbar": {
              "outlinewidth": 0,
              "ticks": ""
             }
            },
            "type": "scattermapbox"
           }
          ],
          "scatterpolar": [
           {
            "marker": {
             "colorbar": {
              "outlinewidth": 0,
              "ticks": ""
             }
            },
            "type": "scatterpolar"
           }
          ],
          "scatterpolargl": [
           {
            "marker": {
             "colorbar": {
              "outlinewidth": 0,
              "ticks": ""
             }
            },
            "type": "scatterpolargl"
           }
          ],
          "scatterternary": [
           {
            "marker": {
             "colorbar": {
              "outlinewidth": 0,
              "ticks": ""
             }
            },
            "type": "scatterternary"
           }
          ],
          "surface": [
           {
            "colorbar": {
             "outlinewidth": 0,
             "ticks": ""
            },
            "colorscale": [
             [
              0,
              "#0d0887"
             ],
             [
              0.1111111111111111,
              "#46039f"
             ],
             [
              0.2222222222222222,
              "#7201a8"
             ],
             [
              0.3333333333333333,
              "#9c179e"
             ],
             [
              0.4444444444444444,
              "#bd3786"
             ],
             [
              0.5555555555555556,
              "#d8576b"
             ],
             [
              0.6666666666666666,
              "#ed7953"
             ],
             [
              0.7777777777777778,
              "#fb9f3a"
             ],
             [
              0.8888888888888888,
              "#fdca26"
             ],
             [
              1,
              "#f0f921"
             ]
            ],
            "type": "surface"
           }
          ],
          "table": [
           {
            "cells": {
             "fill": {
              "color": "#EBF0F8"
             },
             "line": {
              "color": "white"
             }
            },
            "header": {
             "fill": {
              "color": "#C8D4E3"
             },
             "line": {
              "color": "white"
             }
            },
            "type": "table"
           }
          ]
         },
         "layout": {
          "annotationdefaults": {
           "arrowcolor": "#2a3f5f",
           "arrowhead": 0,
           "arrowwidth": 1
          },
          "autotypenumbers": "strict",
          "coloraxis": {
           "colorbar": {
            "outlinewidth": 0,
            "ticks": ""
           }
          },
          "colorscale": {
           "diverging": [
            [
             0,
             "#8e0152"
            ],
            [
             0.1,
             "#c51b7d"
            ],
            [
             0.2,
             "#de77ae"
            ],
            [
             0.3,
             "#f1b6da"
            ],
            [
             0.4,
             "#fde0ef"
            ],
            [
             0.5,
             "#f7f7f7"
            ],
            [
             0.6,
             "#e6f5d0"
            ],
            [
             0.7,
             "#b8e186"
            ],
            [
             0.8,
             "#7fbc41"
            ],
            [
             0.9,
             "#4d9221"
            ],
            [
             1,
             "#276419"
            ]
           ],
           "sequential": [
            [
             0,
             "#0d0887"
            ],
            [
             0.1111111111111111,
             "#46039f"
            ],
            [
             0.2222222222222222,
             "#7201a8"
            ],
            [
             0.3333333333333333,
             "#9c179e"
            ],
            [
             0.4444444444444444,
             "#bd3786"
            ],
            [
             0.5555555555555556,
             "#d8576b"
            ],
            [
             0.6666666666666666,
             "#ed7953"
            ],
            [
             0.7777777777777778,
             "#fb9f3a"
            ],
            [
             0.8888888888888888,
             "#fdca26"
            ],
            [
             1,
             "#f0f921"
            ]
           ],
           "sequentialminus": [
            [
             0,
             "#0d0887"
            ],
            [
             0.1111111111111111,
             "#46039f"
            ],
            [
             0.2222222222222222,
             "#7201a8"
            ],
            [
             0.3333333333333333,
             "#9c179e"
            ],
            [
             0.4444444444444444,
             "#bd3786"
            ],
            [
             0.5555555555555556,
             "#d8576b"
            ],
            [
             0.6666666666666666,
             "#ed7953"
            ],
            [
             0.7777777777777778,
             "#fb9f3a"
            ],
            [
             0.8888888888888888,
             "#fdca26"
            ],
            [
             1,
             "#f0f921"
            ]
           ]
          },
          "colorway": [
           "#636efa",
           "#EF553B",
           "#00cc96",
           "#ab63fa",
           "#FFA15A",
           "#19d3f3",
           "#FF6692",
           "#B6E880",
           "#FF97FF",
           "#FECB52"
          ],
          "font": {
           "color": "#2a3f5f"
          },
          "geo": {
           "bgcolor": "white",
           "lakecolor": "white",
           "landcolor": "#E5ECF6",
           "showlakes": true,
           "showland": true,
           "subunitcolor": "white"
          },
          "hoverlabel": {
           "align": "left"
          },
          "hovermode": "closest",
          "mapbox": {
           "style": "light"
          },
          "paper_bgcolor": "white",
          "plot_bgcolor": "#E5ECF6",
          "polar": {
           "angularaxis": {
            "gridcolor": "white",
            "linecolor": "white",
            "ticks": ""
           },
           "bgcolor": "#E5ECF6",
           "radialaxis": {
            "gridcolor": "white",
            "linecolor": "white",
            "ticks": ""
           }
          },
          "scene": {
           "xaxis": {
            "backgroundcolor": "#E5ECF6",
            "gridcolor": "white",
            "gridwidth": 2,
            "linecolor": "white",
            "showbackground": true,
            "ticks": "",
            "zerolinecolor": "white"
           },
           "yaxis": {
            "backgroundcolor": "#E5ECF6",
            "gridcolor": "white",
            "gridwidth": 2,
            "linecolor": "white",
            "showbackground": true,
            "ticks": "",
            "zerolinecolor": "white"
           },
           "zaxis": {
            "backgroundcolor": "#E5ECF6",
            "gridcolor": "white",
            "gridwidth": 2,
            "linecolor": "white",
            "showbackground": true,
            "ticks": "",
            "zerolinecolor": "white"
           }
          },
          "shapedefaults": {
           "line": {
            "color": "#2a3f5f"
           }
          },
          "ternary": {
           "aaxis": {
            "gridcolor": "white",
            "linecolor": "white",
            "ticks": ""
           },
           "baxis": {
            "gridcolor": "white",
            "linecolor": "white",
            "ticks": ""
           },
           "bgcolor": "#E5ECF6",
           "caxis": {
            "gridcolor": "white",
            "linecolor": "white",
            "ticks": ""
           }
          },
          "title": {
           "x": 0.05
          },
          "xaxis": {
           "automargin": true,
           "gridcolor": "white",
           "linecolor": "white",
           "ticks": "",
           "title": {
            "standoff": 15
           },
           "zerolinecolor": "white",
           "zerolinewidth": 2
          },
          "yaxis": {
           "automargin": true,
           "gridcolor": "white",
           "linecolor": "white",
           "ticks": "",
           "title": {
            "standoff": 15
           },
           "zerolinecolor": "white",
           "zerolinewidth": 2
          }
         }
        },
        "title": {
         "text": "9-Atom Configuration: -23.2698J"
        },
        "width": 600
       }
      }
     },
     "metadata": {},
     "output_type": "display_data"
    }
   ],
   "source": [
    "for atoms in range(2,10):\n",
    "    config = gd_solve(atoms, debug=False)\n",
    "    plot_3d_points(*config)"
   ]
  },
  {
   "cell_type": "code",
   "execution_count": 51,
   "id": "1af3c7eb",
   "metadata": {},
   "outputs": [
    {
     "name": "stdout",
     "output_type": "stream",
     "text": [
      "Iter  0: E = -0.221921, ‖grad‖ = 7.62e-01, a = 0.100\n",
      "Iter  1: E = -0.289849, ‖grad‖ = 1.04e+00, a = 0.100\n",
      "Iter  2: E = -0.424871, ‖grad‖ = 1.61e+00, a = 0.100\n",
      "Iter  3: E = -0.803233, ‖grad‖ = 3.29e+00, a = 0.100\n",
      "Iter  4: E = -1.279765, ‖grad‖ = 3.61e+01, a = 0.006\n",
      "Iter  5: E = -1.635842, ‖grad‖ = 6.56e+00, a = 0.025\n",
      "Iter  6: E = -2.858243, ‖grad‖ = 5.87e+00, a = 0.013\n",
      "Iter  7: E = -2.863041, ‖grad‖ = 9.64e+00, a = 0.006\n",
      "Iter  8: E = -2.927801, ‖grad‖ = 4.59e+00, a = 0.006\n",
      "Iter  9: E = -2.999994, ‖grad‖ = 4.41e-02, a = 0.006\n",
      "Iter 10: E = -3.000000, ‖grad‖ = 1.52e-02, a = 0.006\n",
      "Iter 11: E = -3.000000, ‖grad‖ = 5.25e-03, a = 0.006\n",
      "Iter 12: E = -3.000000, ‖grad‖ = 1.80e-03, a = 0.025\n",
      "Iter 13: E = -3.000000, ‖grad‖ = 7.38e-03, a = 0.006\n",
      "Iter 14: E = -3.000000, ‖grad‖ = 2.58e-03, a = 0.013\n",
      "Iter 15: E = -3.000000, ‖grad‖ = 4.34e-03, a = 0.006\n",
      "Iter 16: E = -3.000000, ‖grad‖ = 1.52e-03, a = 0.025\n",
      "Iter 17: E = -3.000000, ‖grad‖ = 6.68e-03, a = 0.006\n",
      "Iter 18: E = -3.000000, ‖grad‖ = 2.33e-03, a = 0.013\n",
      "Iter 19: E = -3.000000, ‖grad‖ = 3.95e-03, a = 0.006\n"
     ]
    }
   ],
   "source": [
    "# Verify that line search works right\n",
    "\n",
    "X = generator.uniform_sphere(3).clone().requires_grad_(True)\n",
    "for i in range(20):\n",
    "    E = system_potential(X)\n",
    "    g = torch.autograd.grad(E, X)[0]\n",
    "    p = -g.view(-1)                        \n",
    "    a = line_search(X, E, g, alpha_0=0.1)   # try 0.1 or whatever lr\n",
    "    with torch.no_grad():\n",
    "        X = X + a * p.view_as(X)\n",
    "        X = X - X[0]\n",
    "    X.requires_grad_(True)\n",
    "    print(f\"Iter {i:2d}: E = {E.item():.6f}, ‖grad‖ = {g.norm().item():.2e}, a = {a:.3f}\")\n"
   ]
  },
  {
   "cell_type": "code",
   "execution_count": 65,
   "id": "ff3686c0-5963-4a8e-9491-b68311a7ca28",
   "metadata": {},
   "outputs": [],
   "source": [
    "def bfgs_step(X, energy, g, H_inv, alpha=1.0, max_iter=10, tol=1e-8):\n",
    "    N, _ = X.shape\n",
    "\n",
    "    # flatten & slice out the free variables\n",
    "    g_full = g.view(-1)\n",
    "    g_free = g_full[3:]\n",
    "\n",
    "    # descent dir in the free subspace\n",
    "    s_free = - H_inv @ g_free\n",
    "\n",
    "    # line search (still uses the full X and full g)\n",
    "    alpha = line_search(X, energy, g, alpha_0=alpha, max_iter=max_iter, tol=tol)\n",
    "\n",
    "    # take a step in the free variables\n",
    "    x_full = X.clone().detach().view(-1)\n",
    "    x_free = x_full[3:]\n",
    "    x_free_new = x_free + alpha * s_free\n",
    "\n",
    "    # reassemble X_new\n",
    "    x_full[3:] = x_free_new\n",
    "    X_new = x_full.view(N,3).requires_grad_(True)\n",
    "\n",
    "    # eval new energy & gradient\n",
    "    energy_new = system_potential(X_new)\n",
    "    g_new_full = torch.autograd.grad(energy_new, X_new)[0]\n",
    "    g_new = g_new_full.view(-1)\n",
    "    g_new_free = g_new[3:]\n",
    "\n",
    "    # BFGS inverse‐Hessian update on the free subspace\n",
    "    s = x_free_new - x_free\n",
    "    y = g_new_free - g_free\n",
    "    ys = (y @ s).item()\n",
    "\n",
    "    if ys <= 1e-8:\n",
    "        H_inv_new = H_inv.clone()\n",
    "    else:\n",
    "        rho = 1.0 / ys\n",
    "        I   = torch.eye(H_inv.shape[0], device=H_inv.device)\n",
    "        V   = I - rho * torch.outer(s, y)\n",
    "        with torch.no_grad():\n",
    "            H_inv_new = V @ H_inv @ V.T + rho * torch.outer(s, s)\n",
    "\n",
    "    return X_new, energy_new, g_new_full, H_inv_new, alpha\n",
    "\n",
    "def bfgs(natoms, lr=0.008, g_tol=1e-8, energy_tol=1e-8, max_iter=2001, debug=True, debug_rate=400, save_initial=False, gen=generator.uniform_sphere):\n",
    "    X = gen(natoms).clone().requires_grad_().to('cuda' if torch.cuda.is_available() else 'cpu', torch.float64)\n",
    "    if save_initial:\n",
    "        orig = X.clone()\n",
    "    \n",
    "    N, _ = X.shape\n",
    "    H_inv = torch.eye(3 * (N - 1), dtype=torch.float64).to(X.device) \n",
    "\n",
    "    X = X.clone().detach().requires_grad_(True) # make sure autograd returns valid\n",
    "\n",
    "    for _iter_ in range(max_iter):\n",
    "        energy = system_potential(X)\n",
    "        g = torch.autograd.grad(energy, X)[0]\n",
    "\n",
    "        X_new, energy_new, g_new, H_inv, alpha = bfgs_step(X, energy, g, H_inv, alpha=lr)\n",
    "\n",
    "        if abs(energy_new - energy) < energy_tol:\n",
    "            if debug:\n",
    "                print(f\"Converged on step {_iter_}, energy: {energy_new.item():.6f}, gradient norm = {g_norm:.3e}\")\n",
    "            break\n",
    "\n",
    "        g_norm = g.norm().item()\n",
    "        if g_norm < g_tol:\n",
    "            if debug:\n",
    "                print(f\"Converged on step {_iter_}, energy: {energy.item():.6f}, gradient norm = {g_norm:.3e}\")\n",
    "            break\n",
    "        \n",
    "        if debug and _iter_ % debug_rate == 0:\n",
    "            print(f\"Step {_iter_}, energy: {energy_new.item():.6f}, gradient norm: {g_norm:.2e}, step size: {alpha:.4e}\")\n",
    "        \n",
    "        X, energy = X_new, energy_new\n",
    "\n",
    "    if save_initial:\n",
    "        return orig.detach(), X.detach(), energy_new \n",
    "    return X.detach(), energy_new"
   ]
  },
  {
   "cell_type": "code",
   "execution_count": 74,
   "id": "7556e3ce",
   "metadata": {},
   "outputs": [
    {
     "name": "stdout",
     "output_type": "stream",
     "text": [
      "Step 0, energy: -15.444514, gradient norm: 1.67e+01, step size: 8.0000e-03\n",
      "Step 20, energy: -23.224477, gradient norm: 7.72e+00, step size: 4.0000e-03\n",
      "Step 40, energy: -23.269764, gradient norm: 1.17e-01, step size: 8.0000e-03\n",
      "Step 60, energy: -23.269811, gradient norm: 1.54e-02, step size: 8.0000e-03\n",
      "Step 80, energy: -23.269812, gradient norm: 3.50e-03, step size: 4.0000e-03\n",
      "Step 100, energy: -23.269812, gradient norm: 4.06e-04, step size: 8.0000e-03\n",
      "Converged on step 113, energy: -23.269812, gradient norm = 9.877e-05\n"
     ]
    },
    {
     "data": {
      "application/vnd.plotly.v1+json": {
       "config": {
        "plotlyServerURL": "https://plot.ly"
       },
       "data": [
        {
         "hoverinfo": "text",
         "hovertext": "Length: 9.95e-01, Contributes -9.99e-01J",
         "line": {
          "color": "rgb(173, 216, 230, 0.4)",
          "width": 8
         },
         "mode": "lines",
         "showlegend": false,
         "type": "scatter3d",
         "x": [
          0,
          -0.8512537419910837
         ],
         "y": [
          0,
          0.38460457939956993
         ],
         "z": [
          0,
          -0.3421887148087328
         ]
        },
        {
         "hoverinfo": "text",
         "hovertext": "Length: 9.95e-01, Contributes -9.99e-01J",
         "line": {
          "color": "rgb(173, 216, 230, 0.4)",
          "width": 8
         },
         "mode": "lines",
         "showlegend": false,
         "type": "scatter3d",
         "x": [
          0,
          -0.6620024256434298
         ],
         "y": [
          0,
          -0.5750554213438898
         ],
         "z": [
          0,
          -0.4697986623142351
         ]
        },
        {
         "hoverinfo": "text",
         "hovertext": "Length: 9.95e-01, Contributes -9.99e-01J",
         "line": {
          "color": "rgb(173, 216, 230, 0.4)",
          "width": 8
         },
         "mode": "lines",
         "showlegend": false,
         "type": "scatter3d",
         "x": [
          0,
          0.003974888082472594
         ],
         "y": [
          0,
          0.6120428574524557
         ],
         "z": [
          0,
          -0.7842413776772067
         ]
        },
        {
         "hoverinfo": "text",
         "hovertext": "Length: 1.72e+00, Contributes -7.54e-02J",
         "line": {
          "color": "rgb(173, 216, 230, 0.4)",
          "width": 8
         },
         "mode": "lines",
         "showlegend": false,
         "type": "scatter3d",
         "x": [
          0,
          -1.436637911868563
         ],
         "y": [
          0,
          -0.1589761314102803
         ],
         "z": [
          0,
          -0.9350570537895122
         ]
        },
        {
         "hoverinfo": "text",
         "hovertext": "Length: 9.95e-01, Contributes -9.99e-01J",
         "line": {
          "color": "rgb(173, 216, 230, 0.4)",
          "width": 8
         },
         "mode": "lines",
         "showlegend": false,
         "type": "scatter3d",
         "x": [
          0,
          0.19322618769143662
         ],
         "y": [
          0,
          -0.34761705841276846
         ],
         "z": [
          0,
          -0.9118513138943016
         ]
        },
        {
         "hoverinfo": "text",
         "hovertext": "Length: 1.64e+00, Contributes -9.98e-02J",
         "line": {
          "color": "rgb(173, 216, 230, 0.4)",
          "width": 8
         },
         "mode": "lines",
         "showlegend": false,
         "type": "scatter3d",
         "x": [
          0,
          -0.8215587073566439
         ],
         "y": [
          0,
          0.5206905057337307
         ],
         "z": [
          0,
          -1.321552362267408
         ]
        },
        {
         "hoverinfo": "text",
         "hovertext": "Length: 1.64e+00, Contributes -9.98e-02J",
         "line": {
          "color": "rgb(173, 216, 230, 0.4)",
          "width": 8
         },
         "mode": "lines",
         "showlegend": false,
         "type": "scatter3d",
         "x": [
          0,
          -0.6323074485267256
         ],
         "y": [
          0,
          -0.4389692033557477
         ],
         "z": [
          0,
          -1.4491622709896506
         ]
        },
        {
         "hoverinfo": "text",
         "hovertext": "Length: 1.72e+00, Contributes -7.54e-02J",
         "line": {
          "color": "rgb(173, 216, 230, 0.4)",
          "width": 8
         },
         "mode": "lines",
         "showlegend": false,
         "type": "scatter3d",
         "x": [
          0,
          0.05167688614914523
         ],
         "y": [
          0,
          0.2368242252730845
         ],
         "z": [
          0,
          -1.7043406233618148
         ]
        },
        {
         "hoverinfo": "text",
         "hovertext": "Length: 9.86e-01, Contributes -9.93e-01J",
         "line": {
          "color": "rgb(173, 216, 230, 0.4)",
          "width": 8
         },
         "mode": "lines",
         "showlegend": false,
         "type": "scatter3d",
         "x": [
          -0.8512537419910837,
          -0.6620024256434298
         ],
         "y": [
          0.38460457939956993,
          -0.5750554213438898
         ],
         "z": [
          -0.3421887148087328,
          -0.4697986623142351
         ]
        },
        {
         "hoverinfo": "text",
         "hovertext": "Length: 9.89e-01, Contributes -9.95e-01J",
         "line": {
          "color": "rgb(173, 216, 230, 0.4)",
          "width": 8
         },
         "mode": "lines",
         "showlegend": false,
         "type": "scatter3d",
         "x": [
          -0.8512537419910837,
          0.003974888082472594
         ],
         "y": [
          0.38460457939956993,
          0.6120428574524557
         ],
         "z": [
          -0.3421887148087328,
          -0.7842413776772067
         ]
        },
        {
         "hoverinfo": "text",
         "hovertext": "Length: 9.95e-01, Contributes -9.99e-01J",
         "line": {
          "color": "rgb(173, 216, 230, 0.4)",
          "width": 8
         },
         "mode": "lines",
         "showlegend": false,
         "type": "scatter3d",
         "x": [
          -0.8512537419910837,
          -1.436637911868563
         ],
         "y": [
          0.38460457939956993,
          -0.1589761314102803
         ],
         "z": [
          -0.3421887148087328,
          -0.9350570537895122
         ]
        },
        {
         "hoverinfo": "text",
         "hovertext": "Length: 1.40e+00, Contributes -2.51e-01J",
         "line": {
          "color": "rgb(173, 216, 230, 0.4)",
          "width": 8
         },
         "mode": "lines",
         "showlegend": false,
         "type": "scatter3d",
         "x": [
          -0.8512537419910837,
          0.19322618769143662
         ],
         "y": [
          0.38460457939956993,
          -0.34761705841276846
         ],
         "z": [
          -0.3421887148087328,
          -0.9118513138943016
         ]
        },
        {
         "hoverinfo": "text",
         "hovertext": "Length: 9.89e-01, Contributes -9.95e-01J",
         "line": {
          "color": "rgb(173, 216, 230, 0.4)",
          "width": 8
         },
         "mode": "lines",
         "showlegend": false,
         "type": "scatter3d",
         "x": [
          -0.8512537419910837,
          -0.8215587073566439
         ],
         "y": [
          0.38460457939956993,
          0.5206905057337307
         ],
         "z": [
          -0.3421887148087328,
          -1.321552362267408
         ]
        },
        {
         "hoverinfo": "text",
         "hovertext": "Length: 1.40e+00, Contributes -2.51e-01J",
         "line": {
          "color": "rgb(173, 216, 230, 0.4)",
          "width": 8
         },
         "mode": "lines",
         "showlegend": false,
         "type": "scatter3d",
         "x": [
          -0.8512537419910837,
          -0.6323074485267256
         ],
         "y": [
          0.38460457939956993,
          -0.4389692033557477
         ],
         "z": [
          -0.3421887148087328,
          -1.4491622709896506
         ]
        },
        {
         "hoverinfo": "text",
         "hovertext": "Length: 1.64e+00, Contributes -9.98e-02J",
         "line": {
          "color": "rgb(173, 216, 230, 0.4)",
          "width": 8
         },
         "mode": "lines",
         "showlegend": false,
         "type": "scatter3d",
         "x": [
          -0.8512537419910837,
          0.05167688614914523
         ],
         "y": [
          0.38460457939956993,
          0.2368242252730845
         ],
         "z": [
          -0.3421887148087328,
          -1.7043406233618148
         ]
        },
        {
         "hoverinfo": "text",
         "hovertext": "Length: 1.40e+00, Contributes -2.51e-01J",
         "line": {
          "color": "rgb(173, 216, 230, 0.4)",
          "width": 8
         },
         "mode": "lines",
         "showlegend": false,
         "type": "scatter3d",
         "x": [
          -0.6620024256434298,
          0.003974888082472594
         ],
         "y": [
          -0.5750554213438898,
          0.6120428574524557
         ],
         "z": [
          -0.4697986623142351,
          -0.7842413776772067
         ]
        },
        {
         "hoverinfo": "text",
         "hovertext": "Length: 9.95e-01, Contributes -9.99e-01J",
         "line": {
          "color": "rgb(173, 216, 230, 0.4)",
          "width": 8
         },
         "mode": "lines",
         "showlegend": false,
         "type": "scatter3d",
         "x": [
          -0.6620024256434298,
          -1.436637911868563
         ],
         "y": [
          -0.5750554213438898,
          -0.1589761314102803
         ],
         "z": [
          -0.4697986623142351,
          -0.9350570537895122
         ]
        },
        {
         "hoverinfo": "text",
         "hovertext": "Length: 9.89e-01, Contributes -9.95e-01J",
         "line": {
          "color": "rgb(173, 216, 230, 0.4)",
          "width": 8
         },
         "mode": "lines",
         "showlegend": false,
         "type": "scatter3d",
         "x": [
          -0.6620024256434298,
          0.19322618769143662
         ],
         "y": [
          -0.5750554213438898,
          -0.34761705841276846
         ],
         "z": [
          -0.4697986623142351,
          -0.9118513138943016
         ]
        },
        {
         "hoverinfo": "text",
         "hovertext": "Length: 1.40e+00, Contributes -2.51e-01J",
         "line": {
          "color": "rgb(173, 216, 230, 0.4)",
          "width": 8
         },
         "mode": "lines",
         "showlegend": false,
         "type": "scatter3d",
         "x": [
          -0.6620024256434298,
          -0.8215587073566439
         ],
         "y": [
          -0.5750554213438898,
          0.5206905057337307
         ],
         "z": [
          -0.4697986623142351,
          -1.321552362267408
         ]
        },
        {
         "hoverinfo": "text",
         "hovertext": "Length: 9.89e-01, Contributes -9.95e-01J",
         "line": {
          "color": "rgb(173, 216, 230, 0.4)",
          "width": 8
         },
         "mode": "lines",
         "showlegend": false,
         "type": "scatter3d",
         "x": [
          -0.6620024256434298,
          -0.6323074485267256
         ],
         "y": [
          -0.5750554213438898,
          -0.4389692033557477
         ],
         "z": [
          -0.4697986623142351,
          -1.4491622709896506
         ]
        },
        {
         "hoverinfo": "text",
         "hovertext": "Length: 1.64e+00, Contributes -9.98e-02J",
         "line": {
          "color": "rgb(173, 216, 230, 0.4)",
          "width": 8
         },
         "mode": "lines",
         "showlegend": false,
         "type": "scatter3d",
         "x": [
          -0.6620024256434298,
          0.05167688614914523
         ],
         "y": [
          -0.5750554213438898,
          0.2368242252730845
         ],
         "z": [
          -0.4697986623142351,
          -1.7043406233618148
         ]
        },
        {
         "hoverinfo": "text",
         "hovertext": "Length: 1.64e+00, Contributes -9.98e-02J",
         "line": {
          "color": "rgb(173, 216, 230, 0.4)",
          "width": 8
         },
         "mode": "lines",
         "showlegend": false,
         "type": "scatter3d",
         "x": [
          0.003974888082472594,
          -1.436637911868563
         ],
         "y": [
          0.6120428574524557,
          -0.1589761314102803
         ],
         "z": [
          -0.7842413776772067,
          -0.9350570537895122
         ]
        },
        {
         "hoverinfo": "text",
         "hovertext": "Length: 9.86e-01, Contributes -9.93e-01J",
         "line": {
          "color": "rgb(173, 216, 230, 0.4)",
          "width": 8
         },
         "mode": "lines",
         "showlegend": false,
         "type": "scatter3d",
         "x": [
          0.003974888082472594,
          0.19322618769143662
         ],
         "y": [
          0.6120428574524557,
          -0.34761705841276846
         ],
         "z": [
          -0.7842413776772067,
          -0.9118513138943016
         ]
        },
        {
         "hoverinfo": "text",
         "hovertext": "Length: 9.89e-01, Contributes -9.95e-01J",
         "line": {
          "color": "rgb(173, 216, 230, 0.4)",
          "width": 8
         },
         "mode": "lines",
         "showlegend": false,
         "type": "scatter3d",
         "x": [
          0.003974888082472594,
          -0.8215587073566439
         ],
         "y": [
          0.6120428574524557,
          0.5206905057337307
         ],
         "z": [
          -0.7842413776772067,
          -1.321552362267408
         ]
        },
        {
         "hoverinfo": "text",
         "hovertext": "Length: 1.40e+00, Contributes -2.51e-01J",
         "line": {
          "color": "rgb(173, 216, 230, 0.4)",
          "width": 8
         },
         "mode": "lines",
         "showlegend": false,
         "type": "scatter3d",
         "x": [
          0.003974888082472594,
          -0.6323074485267256
         ],
         "y": [
          0.6120428574524557,
          -0.4389692033557477
         ],
         "z": [
          -0.7842413776772067,
          -1.4491622709896506
         ]
        },
        {
         "hoverinfo": "text",
         "hovertext": "Length: 9.95e-01, Contributes -9.99e-01J",
         "line": {
          "color": "rgb(173, 216, 230, 0.4)",
          "width": 8
         },
         "mode": "lines",
         "showlegend": false,
         "type": "scatter3d",
         "x": [
          0.003974888082472594,
          0.05167688614914523
         ],
         "y": [
          0.6120428574524557,
          0.2368242252730845
         ],
         "z": [
          -0.7842413776772067,
          -1.7043406233618148
         ]
        },
        {
         "hoverinfo": "text",
         "hovertext": "Length: 1.64e+00, Contributes -9.98e-02J",
         "line": {
          "color": "rgb(173, 216, 230, 0.4)",
          "width": 8
         },
         "mode": "lines",
         "showlegend": false,
         "type": "scatter3d",
         "x": [
          -1.436637911868563,
          0.19322618769143662
         ],
         "y": [
          -0.1589761314102803,
          -0.34761705841276846
         ],
         "z": [
          -0.9350570537895122,
          -0.9118513138943016
         ]
        },
        {
         "hoverinfo": "text",
         "hovertext": "Length: 9.95e-01, Contributes -9.99e-01J",
         "line": {
          "color": "rgb(173, 216, 230, 0.4)",
          "width": 8
         },
         "mode": "lines",
         "showlegend": false,
         "type": "scatter3d",
         "x": [
          -1.436637911868563,
          -0.8215587073566439
         ],
         "y": [
          -0.1589761314102803,
          0.5206905057337307
         ],
         "z": [
          -0.9350570537895122,
          -1.321552362267408
         ]
        },
        {
         "hoverinfo": "text",
         "hovertext": "Length: 9.95e-01, Contributes -9.99e-01J",
         "line": {
          "color": "rgb(173, 216, 230, 0.4)",
          "width": 8
         },
         "mode": "lines",
         "showlegend": false,
         "type": "scatter3d",
         "x": [
          -1.436637911868563,
          -0.6323074485267256
         ],
         "y": [
          -0.1589761314102803,
          -0.4389692033557477
         ],
         "z": [
          -0.9350570537895122,
          -1.4491622709896506
         ]
        },
        {
         "hoverinfo": "text",
         "hovertext": "Length: 1.72e+00, Contributes -7.54e-02J",
         "line": {
          "color": "rgb(173, 216, 230, 0.4)",
          "width": 8
         },
         "mode": "lines",
         "showlegend": false,
         "type": "scatter3d",
         "x": [
          -1.436637911868563,
          0.05167688614914523
         ],
         "y": [
          -0.1589761314102803,
          0.2368242252730845
         ],
         "z": [
          -0.9350570537895122,
          -1.7043406233618148
         ]
        },
        {
         "hoverinfo": "text",
         "hovertext": "Length: 1.40e+00, Contributes -2.51e-01J",
         "line": {
          "color": "rgb(173, 216, 230, 0.4)",
          "width": 8
         },
         "mode": "lines",
         "showlegend": false,
         "type": "scatter3d",
         "x": [
          0.19322618769143662,
          -0.8215587073566439
         ],
         "y": [
          -0.34761705841276846,
          0.5206905057337307
         ],
         "z": [
          -0.9118513138943016,
          -1.321552362267408
         ]
        },
        {
         "hoverinfo": "text",
         "hovertext": "Length: 9.89e-01, Contributes -9.95e-01J",
         "line": {
          "color": "rgb(173, 216, 230, 0.4)",
          "width": 8
         },
         "mode": "lines",
         "showlegend": false,
         "type": "scatter3d",
         "x": [
          0.19322618769143662,
          -0.6323074485267256
         ],
         "y": [
          -0.34761705841276846,
          -0.4389692033557477
         ],
         "z": [
          -0.9118513138943016,
          -1.4491622709896506
         ]
        },
        {
         "hoverinfo": "text",
         "hovertext": "Length: 9.95e-01, Contributes -9.99e-01J",
         "line": {
          "color": "rgb(173, 216, 230, 0.4)",
          "width": 8
         },
         "mode": "lines",
         "showlegend": false,
         "type": "scatter3d",
         "x": [
          0.19322618769143662,
          0.05167688614914523
         ],
         "y": [
          -0.34761705841276846,
          0.2368242252730845
         ],
         "z": [
          -0.9118513138943016,
          -1.7043406233618148
         ]
        },
        {
         "hoverinfo": "text",
         "hovertext": "Length: 9.86e-01, Contributes -9.93e-01J",
         "line": {
          "color": "rgb(173, 216, 230, 0.4)",
          "width": 8
         },
         "mode": "lines",
         "showlegend": false,
         "type": "scatter3d",
         "x": [
          -0.8215587073566439,
          -0.6323074485267256
         ],
         "y": [
          0.5206905057337307,
          -0.4389692033557477
         ],
         "z": [
          -1.321552362267408,
          -1.4491622709896506
         ]
        },
        {
         "hoverinfo": "text",
         "hovertext": "Length: 9.95e-01, Contributes -9.99e-01J",
         "line": {
          "color": "rgb(173, 216, 230, 0.4)",
          "width": 8
         },
         "mode": "lines",
         "showlegend": false,
         "type": "scatter3d",
         "x": [
          -0.8215587073566439,
          0.05167688614914523
         ],
         "y": [
          0.5206905057337307,
          0.2368242252730845
         ],
         "z": [
          -1.321552362267408,
          -1.7043406233618148
         ]
        },
        {
         "hoverinfo": "text",
         "hovertext": "Length: 9.95e-01, Contributes -9.99e-01J",
         "line": {
          "color": "rgb(173, 216, 230, 0.4)",
          "width": 8
         },
         "mode": "lines",
         "showlegend": false,
         "type": "scatter3d",
         "x": [
          -0.6323074485267256,
          0.05167688614914523
         ],
         "y": [
          -0.4389692033557477,
          0.2368242252730845
         ],
         "z": [
          -1.4491622709896506,
          -1.7043406233618148
         ]
        },
        {
         "hovertext": [
          "Point 1",
          "Point 2",
          "Point 3",
          "Point 4",
          "Point 5",
          "Point 6",
          "Point 7",
          "Point 8",
          "Point 9"
         ],
         "marker": {
          "color": "red",
          "size": 8
         },
         "mode": "markers",
         "showlegend": false,
         "type": "scatter3d",
         "x": {
          "bdata": "AAAAAAAAAADiYM58eD3rv8ZbALYfL+W/AJcc5fhHcD8UtfoIePz2v/zHbr6iu8g/AOh6fDVK6r9NEI7U3Dvkv8B78I9kdao/",
          "dtype": "f8"
         },
         "y": {
          "bdata": "AAAAAAAAAABmbpqGXJ3YP3vngaDaZuK/KkcQ59qV4z9rOaByVFnEvzCIWp5bP9a/sdmuIn+p4D+TTRdJEhjcv05mOZdBUM4/",
          "dtype": "f8"
         },
         "z": {
          "bdata": "AAAAAAAAAABYe8p+a+bVvysHlmguEd6/EWWpX4EY6b8ycT3F/Ovtv3Szf87iLe2/sT3+FhQl9b9U9gfHxC/3v/xUaaz6RPu/",
          "dtype": "f8"
         }
        }
       ],
       "layout": {
        "height": 400,
        "paper_bgcolor": "rgba(0,0,0,0)",
        "plot_bgcolor": "rgba(0,0,0,0)",
        "scene": {
         "xaxis": {
          "showgrid": false,
          "showticklabels": false,
          "title": {
           "text": ""
          },
          "visible": false,
          "zeroline": false
         },
         "yaxis": {
          "showgrid": false,
          "showticklabels": false,
          "title": {
           "text": ""
          },
          "visible": false,
          "zeroline": false
         },
         "zaxis": {
          "showgrid": false,
          "showticklabels": false,
          "title": {
           "text": ""
          },
          "visible": false,
          "zeroline": false
         }
        },
        "template": {
         "data": {
          "bar": [
           {
            "error_x": {
             "color": "#2a3f5f"
            },
            "error_y": {
             "color": "#2a3f5f"
            },
            "marker": {
             "line": {
              "color": "#E5ECF6",
              "width": 0.5
             },
             "pattern": {
              "fillmode": "overlay",
              "size": 10,
              "solidity": 0.2
             }
            },
            "type": "bar"
           }
          ],
          "barpolar": [
           {
            "marker": {
             "line": {
              "color": "#E5ECF6",
              "width": 0.5
             },
             "pattern": {
              "fillmode": "overlay",
              "size": 10,
              "solidity": 0.2
             }
            },
            "type": "barpolar"
           }
          ],
          "carpet": [
           {
            "aaxis": {
             "endlinecolor": "#2a3f5f",
             "gridcolor": "white",
             "linecolor": "white",
             "minorgridcolor": "white",
             "startlinecolor": "#2a3f5f"
            },
            "baxis": {
             "endlinecolor": "#2a3f5f",
             "gridcolor": "white",
             "linecolor": "white",
             "minorgridcolor": "white",
             "startlinecolor": "#2a3f5f"
            },
            "type": "carpet"
           }
          ],
          "choropleth": [
           {
            "colorbar": {
             "outlinewidth": 0,
             "ticks": ""
            },
            "type": "choropleth"
           }
          ],
          "contour": [
           {
            "colorbar": {
             "outlinewidth": 0,
             "ticks": ""
            },
            "colorscale": [
             [
              0,
              "#0d0887"
             ],
             [
              0.1111111111111111,
              "#46039f"
             ],
             [
              0.2222222222222222,
              "#7201a8"
             ],
             [
              0.3333333333333333,
              "#9c179e"
             ],
             [
              0.4444444444444444,
              "#bd3786"
             ],
             [
              0.5555555555555556,
              "#d8576b"
             ],
             [
              0.6666666666666666,
              "#ed7953"
             ],
             [
              0.7777777777777778,
              "#fb9f3a"
             ],
             [
              0.8888888888888888,
              "#fdca26"
             ],
             [
              1,
              "#f0f921"
             ]
            ],
            "type": "contour"
           }
          ],
          "contourcarpet": [
           {
            "colorbar": {
             "outlinewidth": 0,
             "ticks": ""
            },
            "type": "contourcarpet"
           }
          ],
          "heatmap": [
           {
            "colorbar": {
             "outlinewidth": 0,
             "ticks": ""
            },
            "colorscale": [
             [
              0,
              "#0d0887"
             ],
             [
              0.1111111111111111,
              "#46039f"
             ],
             [
              0.2222222222222222,
              "#7201a8"
             ],
             [
              0.3333333333333333,
              "#9c179e"
             ],
             [
              0.4444444444444444,
              "#bd3786"
             ],
             [
              0.5555555555555556,
              "#d8576b"
             ],
             [
              0.6666666666666666,
              "#ed7953"
             ],
             [
              0.7777777777777778,
              "#fb9f3a"
             ],
             [
              0.8888888888888888,
              "#fdca26"
             ],
             [
              1,
              "#f0f921"
             ]
            ],
            "type": "heatmap"
           }
          ],
          "histogram": [
           {
            "marker": {
             "pattern": {
              "fillmode": "overlay",
              "size": 10,
              "solidity": 0.2
             }
            },
            "type": "histogram"
           }
          ],
          "histogram2d": [
           {
            "colorbar": {
             "outlinewidth": 0,
             "ticks": ""
            },
            "colorscale": [
             [
              0,
              "#0d0887"
             ],
             [
              0.1111111111111111,
              "#46039f"
             ],
             [
              0.2222222222222222,
              "#7201a8"
             ],
             [
              0.3333333333333333,
              "#9c179e"
             ],
             [
              0.4444444444444444,
              "#bd3786"
             ],
             [
              0.5555555555555556,
              "#d8576b"
             ],
             [
              0.6666666666666666,
              "#ed7953"
             ],
             [
              0.7777777777777778,
              "#fb9f3a"
             ],
             [
              0.8888888888888888,
              "#fdca26"
             ],
             [
              1,
              "#f0f921"
             ]
            ],
            "type": "histogram2d"
           }
          ],
          "histogram2dcontour": [
           {
            "colorbar": {
             "outlinewidth": 0,
             "ticks": ""
            },
            "colorscale": [
             [
              0,
              "#0d0887"
             ],
             [
              0.1111111111111111,
              "#46039f"
             ],
             [
              0.2222222222222222,
              "#7201a8"
             ],
             [
              0.3333333333333333,
              "#9c179e"
             ],
             [
              0.4444444444444444,
              "#bd3786"
             ],
             [
              0.5555555555555556,
              "#d8576b"
             ],
             [
              0.6666666666666666,
              "#ed7953"
             ],
             [
              0.7777777777777778,
              "#fb9f3a"
             ],
             [
              0.8888888888888888,
              "#fdca26"
             ],
             [
              1,
              "#f0f921"
             ]
            ],
            "type": "histogram2dcontour"
           }
          ],
          "mesh3d": [
           {
            "colorbar": {
             "outlinewidth": 0,
             "ticks": ""
            },
            "type": "mesh3d"
           }
          ],
          "parcoords": [
           {
            "line": {
             "colorbar": {
              "outlinewidth": 0,
              "ticks": ""
             }
            },
            "type": "parcoords"
           }
          ],
          "pie": [
           {
            "automargin": true,
            "type": "pie"
           }
          ],
          "scatter": [
           {
            "fillpattern": {
             "fillmode": "overlay",
             "size": 10,
             "solidity": 0.2
            },
            "type": "scatter"
           }
          ],
          "scatter3d": [
           {
            "line": {
             "colorbar": {
              "outlinewidth": 0,
              "ticks": ""
             }
            },
            "marker": {
             "colorbar": {
              "outlinewidth": 0,
              "ticks": ""
             }
            },
            "type": "scatter3d"
           }
          ],
          "scattercarpet": [
           {
            "marker": {
             "colorbar": {
              "outlinewidth": 0,
              "ticks": ""
             }
            },
            "type": "scattercarpet"
           }
          ],
          "scattergeo": [
           {
            "marker": {
             "colorbar": {
              "outlinewidth": 0,
              "ticks": ""
             }
            },
            "type": "scattergeo"
           }
          ],
          "scattergl": [
           {
            "marker": {
             "colorbar": {
              "outlinewidth": 0,
              "ticks": ""
             }
            },
            "type": "scattergl"
           }
          ],
          "scattermap": [
           {
            "marker": {
             "colorbar": {
              "outlinewidth": 0,
              "ticks": ""
             }
            },
            "type": "scattermap"
           }
          ],
          "scattermapbox": [
           {
            "marker": {
             "colorbar": {
              "outlinewidth": 0,
              "ticks": ""
             }
            },
            "type": "scattermapbox"
           }
          ],
          "scatterpolar": [
           {
            "marker": {
             "colorbar": {
              "outlinewidth": 0,
              "ticks": ""
             }
            },
            "type": "scatterpolar"
           }
          ],
          "scatterpolargl": [
           {
            "marker": {
             "colorbar": {
              "outlinewidth": 0,
              "ticks": ""
             }
            },
            "type": "scatterpolargl"
           }
          ],
          "scatterternary": [
           {
            "marker": {
             "colorbar": {
              "outlinewidth": 0,
              "ticks": ""
             }
            },
            "type": "scatterternary"
           }
          ],
          "surface": [
           {
            "colorbar": {
             "outlinewidth": 0,
             "ticks": ""
            },
            "colorscale": [
             [
              0,
              "#0d0887"
             ],
             [
              0.1111111111111111,
              "#46039f"
             ],
             [
              0.2222222222222222,
              "#7201a8"
             ],
             [
              0.3333333333333333,
              "#9c179e"
             ],
             [
              0.4444444444444444,
              "#bd3786"
             ],
             [
              0.5555555555555556,
              "#d8576b"
             ],
             [
              0.6666666666666666,
              "#ed7953"
             ],
             [
              0.7777777777777778,
              "#fb9f3a"
             ],
             [
              0.8888888888888888,
              "#fdca26"
             ],
             [
              1,
              "#f0f921"
             ]
            ],
            "type": "surface"
           }
          ],
          "table": [
           {
            "cells": {
             "fill": {
              "color": "#EBF0F8"
             },
             "line": {
              "color": "white"
             }
            },
            "header": {
             "fill": {
              "color": "#C8D4E3"
             },
             "line": {
              "color": "white"
             }
            },
            "type": "table"
           }
          ]
         },
         "layout": {
          "annotationdefaults": {
           "arrowcolor": "#2a3f5f",
           "arrowhead": 0,
           "arrowwidth": 1
          },
          "autotypenumbers": "strict",
          "coloraxis": {
           "colorbar": {
            "outlinewidth": 0,
            "ticks": ""
           }
          },
          "colorscale": {
           "diverging": [
            [
             0,
             "#8e0152"
            ],
            [
             0.1,
             "#c51b7d"
            ],
            [
             0.2,
             "#de77ae"
            ],
            [
             0.3,
             "#f1b6da"
            ],
            [
             0.4,
             "#fde0ef"
            ],
            [
             0.5,
             "#f7f7f7"
            ],
            [
             0.6,
             "#e6f5d0"
            ],
            [
             0.7,
             "#b8e186"
            ],
            [
             0.8,
             "#7fbc41"
            ],
            [
             0.9,
             "#4d9221"
            ],
            [
             1,
             "#276419"
            ]
           ],
           "sequential": [
            [
             0,
             "#0d0887"
            ],
            [
             0.1111111111111111,
             "#46039f"
            ],
            [
             0.2222222222222222,
             "#7201a8"
            ],
            [
             0.3333333333333333,
             "#9c179e"
            ],
            [
             0.4444444444444444,
             "#bd3786"
            ],
            [
             0.5555555555555556,
             "#d8576b"
            ],
            [
             0.6666666666666666,
             "#ed7953"
            ],
            [
             0.7777777777777778,
             "#fb9f3a"
            ],
            [
             0.8888888888888888,
             "#fdca26"
            ],
            [
             1,
             "#f0f921"
            ]
           ],
           "sequentialminus": [
            [
             0,
             "#0d0887"
            ],
            [
             0.1111111111111111,
             "#46039f"
            ],
            [
             0.2222222222222222,
             "#7201a8"
            ],
            [
             0.3333333333333333,
             "#9c179e"
            ],
            [
             0.4444444444444444,
             "#bd3786"
            ],
            [
             0.5555555555555556,
             "#d8576b"
            ],
            [
             0.6666666666666666,
             "#ed7953"
            ],
            [
             0.7777777777777778,
             "#fb9f3a"
            ],
            [
             0.8888888888888888,
             "#fdca26"
            ],
            [
             1,
             "#f0f921"
            ]
           ]
          },
          "colorway": [
           "#636efa",
           "#EF553B",
           "#00cc96",
           "#ab63fa",
           "#FFA15A",
           "#19d3f3",
           "#FF6692",
           "#B6E880",
           "#FF97FF",
           "#FECB52"
          ],
          "font": {
           "color": "#2a3f5f"
          },
          "geo": {
           "bgcolor": "white",
           "lakecolor": "white",
           "landcolor": "#E5ECF6",
           "showlakes": true,
           "showland": true,
           "subunitcolor": "white"
          },
          "hoverlabel": {
           "align": "left"
          },
          "hovermode": "closest",
          "mapbox": {
           "style": "light"
          },
          "paper_bgcolor": "white",
          "plot_bgcolor": "#E5ECF6",
          "polar": {
           "angularaxis": {
            "gridcolor": "white",
            "linecolor": "white",
            "ticks": ""
           },
           "bgcolor": "#E5ECF6",
           "radialaxis": {
            "gridcolor": "white",
            "linecolor": "white",
            "ticks": ""
           }
          },
          "scene": {
           "xaxis": {
            "backgroundcolor": "#E5ECF6",
            "gridcolor": "white",
            "gridwidth": 2,
            "linecolor": "white",
            "showbackground": true,
            "ticks": "",
            "zerolinecolor": "white"
           },
           "yaxis": {
            "backgroundcolor": "#E5ECF6",
            "gridcolor": "white",
            "gridwidth": 2,
            "linecolor": "white",
            "showbackground": true,
            "ticks": "",
            "zerolinecolor": "white"
           },
           "zaxis": {
            "backgroundcolor": "#E5ECF6",
            "gridcolor": "white",
            "gridwidth": 2,
            "linecolor": "white",
            "showbackground": true,
            "ticks": "",
            "zerolinecolor": "white"
           }
          },
          "shapedefaults": {
           "line": {
            "color": "#2a3f5f"
           }
          },
          "ternary": {
           "aaxis": {
            "gridcolor": "white",
            "linecolor": "white",
            "ticks": ""
           },
           "baxis": {
            "gridcolor": "white",
            "linecolor": "white",
            "ticks": ""
           },
           "bgcolor": "#E5ECF6",
           "caxis": {
            "gridcolor": "white",
            "linecolor": "white",
            "ticks": ""
           }
          },
          "title": {
           "x": 0.05
          },
          "xaxis": {
           "automargin": true,
           "gridcolor": "white",
           "linecolor": "white",
           "ticks": "",
           "title": {
            "standoff": 15
           },
           "zerolinecolor": "white",
           "zerolinewidth": 2
          },
          "yaxis": {
           "automargin": true,
           "gridcolor": "white",
           "linecolor": "white",
           "ticks": "",
           "title": {
            "standoff": 15
           },
           "zerolinecolor": "white",
           "zerolinewidth": 2
          }
         }
        },
        "title": {
         "text": "9-Atom Configuration: -23.2698J"
        },
        "width": 600
       }
      }
     },
     "metadata": {},
     "output_type": "display_data"
    }
   ],
   "source": [
    "config = bfgs(9, debug=True, g_tol=1e-8, energy_tol=1e-12, debug_rate=20)\n",
    "plot_3d_points(*config)"
   ]
  },
  {
   "cell_type": "code",
   "execution_count": 60,
   "id": "86bd98dd-7148-4699-acba-da11e4dde82d",
   "metadata": {},
   "outputs": [
    {
     "data": {
      "application/vnd.plotly.v1+json": {
       "config": {
        "plotlyServerURL": "https://plot.ly"
       },
       "data": [
        {
         "hoverinfo": "text",
         "hovertext": "Length: 1.00e+00, Contributes -1.00e+00J",
         "line": {
          "color": "rgb(173, 216, 230, 0.4)",
          "width": 8
         },
         "mode": "lines",
         "showlegend": false,
         "type": "scatter3d",
         "x": [
          0,
          -0.7923416672931338
         ],
         "y": [
          0,
          0.3080630626891963
         ],
         "z": [
          0,
          -0.5266109117753035
         ]
        },
        {
         "hovertext": [
          "Point 1",
          "Point 2"
         ],
         "marker": {
          "color": "red",
          "size": 8
         },
         "mode": "markers",
         "showlegend": false,
         "type": "scatter3d",
         "x": {
          "bdata": "AAAAAAAAAAAmB4np3Frpvw==",
          "dtype": "f8"
         },
         "y": {
          "bdata": "AAAAAAAAAAC5w9YiTrfTPw==",
          "dtype": "f8"
         },
         "z": {
          "bdata": "AAAAAAAAAABcVXkg/9ngvw==",
          "dtype": "f8"
         }
        }
       ],
       "layout": {
        "height": 400,
        "paper_bgcolor": "rgba(0,0,0,0)",
        "plot_bgcolor": "rgba(0,0,0,0)",
        "scene": {
         "xaxis": {
          "showgrid": false,
          "showticklabels": false,
          "title": {
           "text": ""
          },
          "visible": false,
          "zeroline": false
         },
         "yaxis": {
          "showgrid": false,
          "showticklabels": false,
          "title": {
           "text": ""
          },
          "visible": false,
          "zeroline": false
         },
         "zaxis": {
          "showgrid": false,
          "showticklabels": false,
          "title": {
           "text": ""
          },
          "visible": false,
          "zeroline": false
         }
        },
        "template": {
         "data": {
          "bar": [
           {
            "error_x": {
             "color": "#2a3f5f"
            },
            "error_y": {
             "color": "#2a3f5f"
            },
            "marker": {
             "line": {
              "color": "#E5ECF6",
              "width": 0.5
             },
             "pattern": {
              "fillmode": "overlay",
              "size": 10,
              "solidity": 0.2
             }
            },
            "type": "bar"
           }
          ],
          "barpolar": [
           {
            "marker": {
             "line": {
              "color": "#E5ECF6",
              "width": 0.5
             },
             "pattern": {
              "fillmode": "overlay",
              "size": 10,
              "solidity": 0.2
             }
            },
            "type": "barpolar"
           }
          ],
          "carpet": [
           {
            "aaxis": {
             "endlinecolor": "#2a3f5f",
             "gridcolor": "white",
             "linecolor": "white",
             "minorgridcolor": "white",
             "startlinecolor": "#2a3f5f"
            },
            "baxis": {
             "endlinecolor": "#2a3f5f",
             "gridcolor": "white",
             "linecolor": "white",
             "minorgridcolor": "white",
             "startlinecolor": "#2a3f5f"
            },
            "type": "carpet"
           }
          ],
          "choropleth": [
           {
            "colorbar": {
             "outlinewidth": 0,
             "ticks": ""
            },
            "type": "choropleth"
           }
          ],
          "contour": [
           {
            "colorbar": {
             "outlinewidth": 0,
             "ticks": ""
            },
            "colorscale": [
             [
              0,
              "#0d0887"
             ],
             [
              0.1111111111111111,
              "#46039f"
             ],
             [
              0.2222222222222222,
              "#7201a8"
             ],
             [
              0.3333333333333333,
              "#9c179e"
             ],
             [
              0.4444444444444444,
              "#bd3786"
             ],
             [
              0.5555555555555556,
              "#d8576b"
             ],
             [
              0.6666666666666666,
              "#ed7953"
             ],
             [
              0.7777777777777778,
              "#fb9f3a"
             ],
             [
              0.8888888888888888,
              "#fdca26"
             ],
             [
              1,
              "#f0f921"
             ]
            ],
            "type": "contour"
           }
          ],
          "contourcarpet": [
           {
            "colorbar": {
             "outlinewidth": 0,
             "ticks": ""
            },
            "type": "contourcarpet"
           }
          ],
          "heatmap": [
           {
            "colorbar": {
             "outlinewidth": 0,
             "ticks": ""
            },
            "colorscale": [
             [
              0,
              "#0d0887"
             ],
             [
              0.1111111111111111,
              "#46039f"
             ],
             [
              0.2222222222222222,
              "#7201a8"
             ],
             [
              0.3333333333333333,
              "#9c179e"
             ],
             [
              0.4444444444444444,
              "#bd3786"
             ],
             [
              0.5555555555555556,
              "#d8576b"
             ],
             [
              0.6666666666666666,
              "#ed7953"
             ],
             [
              0.7777777777777778,
              "#fb9f3a"
             ],
             [
              0.8888888888888888,
              "#fdca26"
             ],
             [
              1,
              "#f0f921"
             ]
            ],
            "type": "heatmap"
           }
          ],
          "histogram": [
           {
            "marker": {
             "pattern": {
              "fillmode": "overlay",
              "size": 10,
              "solidity": 0.2
             }
            },
            "type": "histogram"
           }
          ],
          "histogram2d": [
           {
            "colorbar": {
             "outlinewidth": 0,
             "ticks": ""
            },
            "colorscale": [
             [
              0,
              "#0d0887"
             ],
             [
              0.1111111111111111,
              "#46039f"
             ],
             [
              0.2222222222222222,
              "#7201a8"
             ],
             [
              0.3333333333333333,
              "#9c179e"
             ],
             [
              0.4444444444444444,
              "#bd3786"
             ],
             [
              0.5555555555555556,
              "#d8576b"
             ],
             [
              0.6666666666666666,
              "#ed7953"
             ],
             [
              0.7777777777777778,
              "#fb9f3a"
             ],
             [
              0.8888888888888888,
              "#fdca26"
             ],
             [
              1,
              "#f0f921"
             ]
            ],
            "type": "histogram2d"
           }
          ],
          "histogram2dcontour": [
           {
            "colorbar": {
             "outlinewidth": 0,
             "ticks": ""
            },
            "colorscale": [
             [
              0,
              "#0d0887"
             ],
             [
              0.1111111111111111,
              "#46039f"
             ],
             [
              0.2222222222222222,
              "#7201a8"
             ],
             [
              0.3333333333333333,
              "#9c179e"
             ],
             [
              0.4444444444444444,
              "#bd3786"
             ],
             [
              0.5555555555555556,
              "#d8576b"
             ],
             [
              0.6666666666666666,
              "#ed7953"
             ],
             [
              0.7777777777777778,
              "#fb9f3a"
             ],
             [
              0.8888888888888888,
              "#fdca26"
             ],
             [
              1,
              "#f0f921"
             ]
            ],
            "type": "histogram2dcontour"
           }
          ],
          "mesh3d": [
           {
            "colorbar": {
             "outlinewidth": 0,
             "ticks": ""
            },
            "type": "mesh3d"
           }
          ],
          "parcoords": [
           {
            "line": {
             "colorbar": {
              "outlinewidth": 0,
              "ticks": ""
             }
            },
            "type": "parcoords"
           }
          ],
          "pie": [
           {
            "automargin": true,
            "type": "pie"
           }
          ],
          "scatter": [
           {
            "fillpattern": {
             "fillmode": "overlay",
             "size": 10,
             "solidity": 0.2
            },
            "type": "scatter"
           }
          ],
          "scatter3d": [
           {
            "line": {
             "colorbar": {
              "outlinewidth": 0,
              "ticks": ""
             }
            },
            "marker": {
             "colorbar": {
              "outlinewidth": 0,
              "ticks": ""
             }
            },
            "type": "scatter3d"
           }
          ],
          "scattercarpet": [
           {
            "marker": {
             "colorbar": {
              "outlinewidth": 0,
              "ticks": ""
             }
            },
            "type": "scattercarpet"
           }
          ],
          "scattergeo": [
           {
            "marker": {
             "colorbar": {
              "outlinewidth": 0,
              "ticks": ""
             }
            },
            "type": "scattergeo"
           }
          ],
          "scattergl": [
           {
            "marker": {
             "colorbar": {
              "outlinewidth": 0,
              "ticks": ""
             }
            },
            "type": "scattergl"
           }
          ],
          "scattermap": [
           {
            "marker": {
             "colorbar": {
              "outlinewidth": 0,
              "ticks": ""
             }
            },
            "type": "scattermap"
           }
          ],
          "scattermapbox": [
           {
            "marker": {
             "colorbar": {
              "outlinewidth": 0,
              "ticks": ""
             }
            },
            "type": "scattermapbox"
           }
          ],
          "scatterpolar": [
           {
            "marker": {
             "colorbar": {
              "outlinewidth": 0,
              "ticks": ""
             }
            },
            "type": "scatterpolar"
           }
          ],
          "scatterpolargl": [
           {
            "marker": {
             "colorbar": {
              "outlinewidth": 0,
              "ticks": ""
             }
            },
            "type": "scatterpolargl"
           }
          ],
          "scatterternary": [
           {
            "marker": {
             "colorbar": {
              "outlinewidth": 0,
              "ticks": ""
             }
            },
            "type": "scatterternary"
           }
          ],
          "surface": [
           {
            "colorbar": {
             "outlinewidth": 0,
             "ticks": ""
            },
            "colorscale": [
             [
              0,
              "#0d0887"
             ],
             [
              0.1111111111111111,
              "#46039f"
             ],
             [
              0.2222222222222222,
              "#7201a8"
             ],
             [
              0.3333333333333333,
              "#9c179e"
             ],
             [
              0.4444444444444444,
              "#bd3786"
             ],
             [
              0.5555555555555556,
              "#d8576b"
             ],
             [
              0.6666666666666666,
              "#ed7953"
             ],
             [
              0.7777777777777778,
              "#fb9f3a"
             ],
             [
              0.8888888888888888,
              "#fdca26"
             ],
             [
              1,
              "#f0f921"
             ]
            ],
            "type": "surface"
           }
          ],
          "table": [
           {
            "cells": {
             "fill": {
              "color": "#EBF0F8"
             },
             "line": {
              "color": "white"
             }
            },
            "header": {
             "fill": {
              "color": "#C8D4E3"
             },
             "line": {
              "color": "white"
             }
            },
            "type": "table"
           }
          ]
         },
         "layout": {
          "annotationdefaults": {
           "arrowcolor": "#2a3f5f",
           "arrowhead": 0,
           "arrowwidth": 1
          },
          "autotypenumbers": "strict",
          "coloraxis": {
           "colorbar": {
            "outlinewidth": 0,
            "ticks": ""
           }
          },
          "colorscale": {
           "diverging": [
            [
             0,
             "#8e0152"
            ],
            [
             0.1,
             "#c51b7d"
            ],
            [
             0.2,
             "#de77ae"
            ],
            [
             0.3,
             "#f1b6da"
            ],
            [
             0.4,
             "#fde0ef"
            ],
            [
             0.5,
             "#f7f7f7"
            ],
            [
             0.6,
             "#e6f5d0"
            ],
            [
             0.7,
             "#b8e186"
            ],
            [
             0.8,
             "#7fbc41"
            ],
            [
             0.9,
             "#4d9221"
            ],
            [
             1,
             "#276419"
            ]
           ],
           "sequential": [
            [
             0,
             "#0d0887"
            ],
            [
             0.1111111111111111,
             "#46039f"
            ],
            [
             0.2222222222222222,
             "#7201a8"
            ],
            [
             0.3333333333333333,
             "#9c179e"
            ],
            [
             0.4444444444444444,
             "#bd3786"
            ],
            [
             0.5555555555555556,
             "#d8576b"
            ],
            [
             0.6666666666666666,
             "#ed7953"
            ],
            [
             0.7777777777777778,
             "#fb9f3a"
            ],
            [
             0.8888888888888888,
             "#fdca26"
            ],
            [
             1,
             "#f0f921"
            ]
           ],
           "sequentialminus": [
            [
             0,
             "#0d0887"
            ],
            [
             0.1111111111111111,
             "#46039f"
            ],
            [
             0.2222222222222222,
             "#7201a8"
            ],
            [
             0.3333333333333333,
             "#9c179e"
            ],
            [
             0.4444444444444444,
             "#bd3786"
            ],
            [
             0.5555555555555556,
             "#d8576b"
            ],
            [
             0.6666666666666666,
             "#ed7953"
            ],
            [
             0.7777777777777778,
             "#fb9f3a"
            ],
            [
             0.8888888888888888,
             "#fdca26"
            ],
            [
             1,
             "#f0f921"
            ]
           ]
          },
          "colorway": [
           "#636efa",
           "#EF553B",
           "#00cc96",
           "#ab63fa",
           "#FFA15A",
           "#19d3f3",
           "#FF6692",
           "#B6E880",
           "#FF97FF",
           "#FECB52"
          ],
          "font": {
           "color": "#2a3f5f"
          },
          "geo": {
           "bgcolor": "white",
           "lakecolor": "white",
           "landcolor": "#E5ECF6",
           "showlakes": true,
           "showland": true,
           "subunitcolor": "white"
          },
          "hoverlabel": {
           "align": "left"
          },
          "hovermode": "closest",
          "mapbox": {
           "style": "light"
          },
          "paper_bgcolor": "white",
          "plot_bgcolor": "#E5ECF6",
          "polar": {
           "angularaxis": {
            "gridcolor": "white",
            "linecolor": "white",
            "ticks": ""
           },
           "bgcolor": "#E5ECF6",
           "radialaxis": {
            "gridcolor": "white",
            "linecolor": "white",
            "ticks": ""
           }
          },
          "scene": {
           "xaxis": {
            "backgroundcolor": "#E5ECF6",
            "gridcolor": "white",
            "gridwidth": 2,
            "linecolor": "white",
            "showbackground": true,
            "ticks": "",
            "zerolinecolor": "white"
           },
           "yaxis": {
            "backgroundcolor": "#E5ECF6",
            "gridcolor": "white",
            "gridwidth": 2,
            "linecolor": "white",
            "showbackground": true,
            "ticks": "",
            "zerolinecolor": "white"
           },
           "zaxis": {
            "backgroundcolor": "#E5ECF6",
            "gridcolor": "white",
            "gridwidth": 2,
            "linecolor": "white",
            "showbackground": true,
            "ticks": "",
            "zerolinecolor": "white"
           }
          },
          "shapedefaults": {
           "line": {
            "color": "#2a3f5f"
           }
          },
          "ternary": {
           "aaxis": {
            "gridcolor": "white",
            "linecolor": "white",
            "ticks": ""
           },
           "baxis": {
            "gridcolor": "white",
            "linecolor": "white",
            "ticks": ""
           },
           "bgcolor": "#E5ECF6",
           "caxis": {
            "gridcolor": "white",
            "linecolor": "white",
            "ticks": ""
           }
          },
          "title": {
           "x": 0.05
          },
          "xaxis": {
           "automargin": true,
           "gridcolor": "white",
           "linecolor": "white",
           "ticks": "",
           "title": {
            "standoff": 15
           },
           "zerolinecolor": "white",
           "zerolinewidth": 2
          },
          "yaxis": {
           "automargin": true,
           "gridcolor": "white",
           "linecolor": "white",
           "ticks": "",
           "title": {
            "standoff": 15
           },
           "zerolinecolor": "white",
           "zerolinewidth": 2
          }
         }
        },
        "title": {
         "text": "2-Atom Configuration: -1.0000J"
        },
        "width": 600
       }
      }
     },
     "metadata": {},
     "output_type": "display_data"
    },
    {
     "data": {
      "application/vnd.plotly.v1+json": {
       "config": {
        "plotlyServerURL": "https://plot.ly"
       },
       "data": [
        {
         "hoverinfo": "text",
         "hovertext": "Length: 1.00e+00, Contributes -1.00e+00J",
         "line": {
          "color": "rgb(173, 216, 230, 0.4)",
          "width": 8
         },
         "mode": "lines",
         "showlegend": false,
         "type": "scatter3d",
         "x": [
          0,
          -0.8421778438222968
         ],
         "y": [
          0,
          0.364899512593963
         ],
         "z": [
          0,
          -0.3969929553500519
         ]
        },
        {
         "hoverinfo": "text",
         "hovertext": "Length: 1.00e+00, Contributes -1.00e+00J",
         "line": {
          "color": "rgb(173, 216, 230, 0.4)",
          "width": 8
         },
         "mode": "lines",
         "showlegend": false,
         "type": "scatter3d",
         "x": [
          0,
          -0.4092501881931547
         ],
         "y": [
          0,
          -0.4424131519105246
         ],
         "z": [
          0,
          -0.7979996132398308
         ]
        },
        {
         "hoverinfo": "text",
         "hovertext": "Length: 1.00e+00, Contributes -1.00e+00J",
         "line": {
          "color": "rgb(173, 216, 230, 0.4)",
          "width": 8
         },
         "mode": "lines",
         "showlegend": false,
         "type": "scatter3d",
         "x": [
          -0.8421778438222968,
          -0.4092501881931547
         ],
         "y": [
          0.364899512593963,
          -0.4424131519105246
         ],
         "z": [
          -0.3969929553500519,
          -0.7979996132398308
         ]
        },
        {
         "hovertext": [
          "Point 1",
          "Point 2",
          "Point 3"
         ],
         "marker": {
          "color": "red",
          "size": 8
         },
         "mode": "markers",
         "showlegend": false,
         "type": "scatter3d",
         "x": {
          "bdata": "AAAAAAAAAADvPRTzHvPqv/P4irMnMdq/",
          "dtype": "f8"
         },
         "y": {
          "bdata": "AAAAAAAAAADetjp8g1rXP7WpsUB/UNy/",
          "dtype": "f8"
         },
         "z": {
          "bdata": "AAAAAAAAAACXIv4jVWjZvzy+Inw2iem/",
          "dtype": "f8"
         }
        }
       ],
       "layout": {
        "height": 400,
        "paper_bgcolor": "rgba(0,0,0,0)",
        "plot_bgcolor": "rgba(0,0,0,0)",
        "scene": {
         "xaxis": {
          "showgrid": false,
          "showticklabels": false,
          "title": {
           "text": ""
          },
          "visible": false,
          "zeroline": false
         },
         "yaxis": {
          "showgrid": false,
          "showticklabels": false,
          "title": {
           "text": ""
          },
          "visible": false,
          "zeroline": false
         },
         "zaxis": {
          "showgrid": false,
          "showticklabels": false,
          "title": {
           "text": ""
          },
          "visible": false,
          "zeroline": false
         }
        },
        "template": {
         "data": {
          "bar": [
           {
            "error_x": {
             "color": "#2a3f5f"
            },
            "error_y": {
             "color": "#2a3f5f"
            },
            "marker": {
             "line": {
              "color": "#E5ECF6",
              "width": 0.5
             },
             "pattern": {
              "fillmode": "overlay",
              "size": 10,
              "solidity": 0.2
             }
            },
            "type": "bar"
           }
          ],
          "barpolar": [
           {
            "marker": {
             "line": {
              "color": "#E5ECF6",
              "width": 0.5
             },
             "pattern": {
              "fillmode": "overlay",
              "size": 10,
              "solidity": 0.2
             }
            },
            "type": "barpolar"
           }
          ],
          "carpet": [
           {
            "aaxis": {
             "endlinecolor": "#2a3f5f",
             "gridcolor": "white",
             "linecolor": "white",
             "minorgridcolor": "white",
             "startlinecolor": "#2a3f5f"
            },
            "baxis": {
             "endlinecolor": "#2a3f5f",
             "gridcolor": "white",
             "linecolor": "white",
             "minorgridcolor": "white",
             "startlinecolor": "#2a3f5f"
            },
            "type": "carpet"
           }
          ],
          "choropleth": [
           {
            "colorbar": {
             "outlinewidth": 0,
             "ticks": ""
            },
            "type": "choropleth"
           }
          ],
          "contour": [
           {
            "colorbar": {
             "outlinewidth": 0,
             "ticks": ""
            },
            "colorscale": [
             [
              0,
              "#0d0887"
             ],
             [
              0.1111111111111111,
              "#46039f"
             ],
             [
              0.2222222222222222,
              "#7201a8"
             ],
             [
              0.3333333333333333,
              "#9c179e"
             ],
             [
              0.4444444444444444,
              "#bd3786"
             ],
             [
              0.5555555555555556,
              "#d8576b"
             ],
             [
              0.6666666666666666,
              "#ed7953"
             ],
             [
              0.7777777777777778,
              "#fb9f3a"
             ],
             [
              0.8888888888888888,
              "#fdca26"
             ],
             [
              1,
              "#f0f921"
             ]
            ],
            "type": "contour"
           }
          ],
          "contourcarpet": [
           {
            "colorbar": {
             "outlinewidth": 0,
             "ticks": ""
            },
            "type": "contourcarpet"
           }
          ],
          "heatmap": [
           {
            "colorbar": {
             "outlinewidth": 0,
             "ticks": ""
            },
            "colorscale": [
             [
              0,
              "#0d0887"
             ],
             [
              0.1111111111111111,
              "#46039f"
             ],
             [
              0.2222222222222222,
              "#7201a8"
             ],
             [
              0.3333333333333333,
              "#9c179e"
             ],
             [
              0.4444444444444444,
              "#bd3786"
             ],
             [
              0.5555555555555556,
              "#d8576b"
             ],
             [
              0.6666666666666666,
              "#ed7953"
             ],
             [
              0.7777777777777778,
              "#fb9f3a"
             ],
             [
              0.8888888888888888,
              "#fdca26"
             ],
             [
              1,
              "#f0f921"
             ]
            ],
            "type": "heatmap"
           }
          ],
          "histogram": [
           {
            "marker": {
             "pattern": {
              "fillmode": "overlay",
              "size": 10,
              "solidity": 0.2
             }
            },
            "type": "histogram"
           }
          ],
          "histogram2d": [
           {
            "colorbar": {
             "outlinewidth": 0,
             "ticks": ""
            },
            "colorscale": [
             [
              0,
              "#0d0887"
             ],
             [
              0.1111111111111111,
              "#46039f"
             ],
             [
              0.2222222222222222,
              "#7201a8"
             ],
             [
              0.3333333333333333,
              "#9c179e"
             ],
             [
              0.4444444444444444,
              "#bd3786"
             ],
             [
              0.5555555555555556,
              "#d8576b"
             ],
             [
              0.6666666666666666,
              "#ed7953"
             ],
             [
              0.7777777777777778,
              "#fb9f3a"
             ],
             [
              0.8888888888888888,
              "#fdca26"
             ],
             [
              1,
              "#f0f921"
             ]
            ],
            "type": "histogram2d"
           }
          ],
          "histogram2dcontour": [
           {
            "colorbar": {
             "outlinewidth": 0,
             "ticks": ""
            },
            "colorscale": [
             [
              0,
              "#0d0887"
             ],
             [
              0.1111111111111111,
              "#46039f"
             ],
             [
              0.2222222222222222,
              "#7201a8"
             ],
             [
              0.3333333333333333,
              "#9c179e"
             ],
             [
              0.4444444444444444,
              "#bd3786"
             ],
             [
              0.5555555555555556,
              "#d8576b"
             ],
             [
              0.6666666666666666,
              "#ed7953"
             ],
             [
              0.7777777777777778,
              "#fb9f3a"
             ],
             [
              0.8888888888888888,
              "#fdca26"
             ],
             [
              1,
              "#f0f921"
             ]
            ],
            "type": "histogram2dcontour"
           }
          ],
          "mesh3d": [
           {
            "colorbar": {
             "outlinewidth": 0,
             "ticks": ""
            },
            "type": "mesh3d"
           }
          ],
          "parcoords": [
           {
            "line": {
             "colorbar": {
              "outlinewidth": 0,
              "ticks": ""
             }
            },
            "type": "parcoords"
           }
          ],
          "pie": [
           {
            "automargin": true,
            "type": "pie"
           }
          ],
          "scatter": [
           {
            "fillpattern": {
             "fillmode": "overlay",
             "size": 10,
             "solidity": 0.2
            },
            "type": "scatter"
           }
          ],
          "scatter3d": [
           {
            "line": {
             "colorbar": {
              "outlinewidth": 0,
              "ticks": ""
             }
            },
            "marker": {
             "colorbar": {
              "outlinewidth": 0,
              "ticks": ""
             }
            },
            "type": "scatter3d"
           }
          ],
          "scattercarpet": [
           {
            "marker": {
             "colorbar": {
              "outlinewidth": 0,
              "ticks": ""
             }
            },
            "type": "scattercarpet"
           }
          ],
          "scattergeo": [
           {
            "marker": {
             "colorbar": {
              "outlinewidth": 0,
              "ticks": ""
             }
            },
            "type": "scattergeo"
           }
          ],
          "scattergl": [
           {
            "marker": {
             "colorbar": {
              "outlinewidth": 0,
              "ticks": ""
             }
            },
            "type": "scattergl"
           }
          ],
          "scattermap": [
           {
            "marker": {
             "colorbar": {
              "outlinewidth": 0,
              "ticks": ""
             }
            },
            "type": "scattermap"
           }
          ],
          "scattermapbox": [
           {
            "marker": {
             "colorbar": {
              "outlinewidth": 0,
              "ticks": ""
             }
            },
            "type": "scattermapbox"
           }
          ],
          "scatterpolar": [
           {
            "marker": {
             "colorbar": {
              "outlinewidth": 0,
              "ticks": ""
             }
            },
            "type": "scatterpolar"
           }
          ],
          "scatterpolargl": [
           {
            "marker": {
             "colorbar": {
              "outlinewidth": 0,
              "ticks": ""
             }
            },
            "type": "scatterpolargl"
           }
          ],
          "scatterternary": [
           {
            "marker": {
             "colorbar": {
              "outlinewidth": 0,
              "ticks": ""
             }
            },
            "type": "scatterternary"
           }
          ],
          "surface": [
           {
            "colorbar": {
             "outlinewidth": 0,
             "ticks": ""
            },
            "colorscale": [
             [
              0,
              "#0d0887"
             ],
             [
              0.1111111111111111,
              "#46039f"
             ],
             [
              0.2222222222222222,
              "#7201a8"
             ],
             [
              0.3333333333333333,
              "#9c179e"
             ],
             [
              0.4444444444444444,
              "#bd3786"
             ],
             [
              0.5555555555555556,
              "#d8576b"
             ],
             [
              0.6666666666666666,
              "#ed7953"
             ],
             [
              0.7777777777777778,
              "#fb9f3a"
             ],
             [
              0.8888888888888888,
              "#fdca26"
             ],
             [
              1,
              "#f0f921"
             ]
            ],
            "type": "surface"
           }
          ],
          "table": [
           {
            "cells": {
             "fill": {
              "color": "#EBF0F8"
             },
             "line": {
              "color": "white"
             }
            },
            "header": {
             "fill": {
              "color": "#C8D4E3"
             },
             "line": {
              "color": "white"
             }
            },
            "type": "table"
           }
          ]
         },
         "layout": {
          "annotationdefaults": {
           "arrowcolor": "#2a3f5f",
           "arrowhead": 0,
           "arrowwidth": 1
          },
          "autotypenumbers": "strict",
          "coloraxis": {
           "colorbar": {
            "outlinewidth": 0,
            "ticks": ""
           }
          },
          "colorscale": {
           "diverging": [
            [
             0,
             "#8e0152"
            ],
            [
             0.1,
             "#c51b7d"
            ],
            [
             0.2,
             "#de77ae"
            ],
            [
             0.3,
             "#f1b6da"
            ],
            [
             0.4,
             "#fde0ef"
            ],
            [
             0.5,
             "#f7f7f7"
            ],
            [
             0.6,
             "#e6f5d0"
            ],
            [
             0.7,
             "#b8e186"
            ],
            [
             0.8,
             "#7fbc41"
            ],
            [
             0.9,
             "#4d9221"
            ],
            [
             1,
             "#276419"
            ]
           ],
           "sequential": [
            [
             0,
             "#0d0887"
            ],
            [
             0.1111111111111111,
             "#46039f"
            ],
            [
             0.2222222222222222,
             "#7201a8"
            ],
            [
             0.3333333333333333,
             "#9c179e"
            ],
            [
             0.4444444444444444,
             "#bd3786"
            ],
            [
             0.5555555555555556,
             "#d8576b"
            ],
            [
             0.6666666666666666,
             "#ed7953"
            ],
            [
             0.7777777777777778,
             "#fb9f3a"
            ],
            [
             0.8888888888888888,
             "#fdca26"
            ],
            [
             1,
             "#f0f921"
            ]
           ],
           "sequentialminus": [
            [
             0,
             "#0d0887"
            ],
            [
             0.1111111111111111,
             "#46039f"
            ],
            [
             0.2222222222222222,
             "#7201a8"
            ],
            [
             0.3333333333333333,
             "#9c179e"
            ],
            [
             0.4444444444444444,
             "#bd3786"
            ],
            [
             0.5555555555555556,
             "#d8576b"
            ],
            [
             0.6666666666666666,
             "#ed7953"
            ],
            [
             0.7777777777777778,
             "#fb9f3a"
            ],
            [
             0.8888888888888888,
             "#fdca26"
            ],
            [
             1,
             "#f0f921"
            ]
           ]
          },
          "colorway": [
           "#636efa",
           "#EF553B",
           "#00cc96",
           "#ab63fa",
           "#FFA15A",
           "#19d3f3",
           "#FF6692",
           "#B6E880",
           "#FF97FF",
           "#FECB52"
          ],
          "font": {
           "color": "#2a3f5f"
          },
          "geo": {
           "bgcolor": "white",
           "lakecolor": "white",
           "landcolor": "#E5ECF6",
           "showlakes": true,
           "showland": true,
           "subunitcolor": "white"
          },
          "hoverlabel": {
           "align": "left"
          },
          "hovermode": "closest",
          "mapbox": {
           "style": "light"
          },
          "paper_bgcolor": "white",
          "plot_bgcolor": "#E5ECF6",
          "polar": {
           "angularaxis": {
            "gridcolor": "white",
            "linecolor": "white",
            "ticks": ""
           },
           "bgcolor": "#E5ECF6",
           "radialaxis": {
            "gridcolor": "white",
            "linecolor": "white",
            "ticks": ""
           }
          },
          "scene": {
           "xaxis": {
            "backgroundcolor": "#E5ECF6",
            "gridcolor": "white",
            "gridwidth": 2,
            "linecolor": "white",
            "showbackground": true,
            "ticks": "",
            "zerolinecolor": "white"
           },
           "yaxis": {
            "backgroundcolor": "#E5ECF6",
            "gridcolor": "white",
            "gridwidth": 2,
            "linecolor": "white",
            "showbackground": true,
            "ticks": "",
            "zerolinecolor": "white"
           },
           "zaxis": {
            "backgroundcolor": "#E5ECF6",
            "gridcolor": "white",
            "gridwidth": 2,
            "linecolor": "white",
            "showbackground": true,
            "ticks": "",
            "zerolinecolor": "white"
           }
          },
          "shapedefaults": {
           "line": {
            "color": "#2a3f5f"
           }
          },
          "ternary": {
           "aaxis": {
            "gridcolor": "white",
            "linecolor": "white",
            "ticks": ""
           },
           "baxis": {
            "gridcolor": "white",
            "linecolor": "white",
            "ticks": ""
           },
           "bgcolor": "#E5ECF6",
           "caxis": {
            "gridcolor": "white",
            "linecolor": "white",
            "ticks": ""
           }
          },
          "title": {
           "x": 0.05
          },
          "xaxis": {
           "automargin": true,
           "gridcolor": "white",
           "linecolor": "white",
           "ticks": "",
           "title": {
            "standoff": 15
           },
           "zerolinecolor": "white",
           "zerolinewidth": 2
          },
          "yaxis": {
           "automargin": true,
           "gridcolor": "white",
           "linecolor": "white",
           "ticks": "",
           "title": {
            "standoff": 15
           },
           "zerolinecolor": "white",
           "zerolinewidth": 2
          }
         }
        },
        "title": {
         "text": "3-Atom Configuration: -3.0000J"
        },
        "width": 600
       }
      }
     },
     "metadata": {},
     "output_type": "display_data"
    },
    {
     "data": {
      "application/vnd.plotly.v1+json": {
       "config": {
        "plotlyServerURL": "https://plot.ly"
       },
       "data": [
        {
         "hoverinfo": "text",
         "hovertext": "Length: 1.00e+00, Contributes -1.00e+00J",
         "line": {
          "color": "rgb(173, 216, 230, 0.4)",
          "width": 8
         },
         "mode": "lines",
         "showlegend": false,
         "type": "scatter3d",
         "x": [
          0,
          -0.8914463224698166
         ],
         "y": [
          0,
          0.31187049705977615
         ],
         "z": [
          0,
          -0.32873819527289416
         ]
        },
        {
         "hoverinfo": "text",
         "hovertext": "Length: 1.00e+00, Contributes -1.00e+00J",
         "line": {
          "color": "rgb(173, 216, 230, 0.4)",
          "width": 8
         },
         "mode": "lines",
         "showlegend": false,
         "type": "scatter3d",
         "x": [
          0,
          -0.5092913973696048
         ],
         "y": [
          0,
          -0.5500996960674913
         ],
         "z": [
          0,
          -0.6618316299518537
         ]
        },
        {
         "hoverinfo": "text",
         "hovertext": "Length: 1.00e+00, Contributes -1.00e+00J",
         "line": {
          "color": "rgb(173, 216, 230, 0.4)",
          "width": 8
         },
         "mode": "lines",
         "showlegend": false,
         "type": "scatter3d",
         "x": [
          0,
          -0.10182972568448745
         ],
         "y": [
          0,
          0.3189825724441939
         ],
         "z": [
          0,
          -0.9422826516732703
         ]
        },
        {
         "hoverinfo": "text",
         "hovertext": "Length: 1.00e+00, Contributes -1.00e+00J",
         "line": {
          "color": "rgb(173, 216, 230, 0.4)",
          "width": 8
         },
         "mode": "lines",
         "showlegend": false,
         "type": "scatter3d",
         "x": [
          -0.8914463224698166,
          -0.5092913973696048
         ],
         "y": [
          0.31187049705977615,
          -0.5500996960674913
         ],
         "z": [
          -0.32873819527289416,
          -0.6618316299518537
         ]
        },
        {
         "hoverinfo": "text",
         "hovertext": "Length: 1.00e+00, Contributes -1.00e+00J",
         "line": {
          "color": "rgb(173, 216, 230, 0.4)",
          "width": 8
         },
         "mode": "lines",
         "showlegend": false,
         "type": "scatter3d",
         "x": [
          -0.8914463224698166,
          -0.10182972568448745
         ],
         "y": [
          0.31187049705977615,
          0.3189825724441939
         ],
         "z": [
          -0.32873819527289416,
          -0.9422826516732703
         ]
        },
        {
         "hoverinfo": "text",
         "hovertext": "Length: 1.00e+00, Contributes -1.00e+00J",
         "line": {
          "color": "rgb(173, 216, 230, 0.4)",
          "width": 8
         },
         "mode": "lines",
         "showlegend": false,
         "type": "scatter3d",
         "x": [
          -0.5092913973696048,
          -0.10182972568448745
         ],
         "y": [
          -0.5500996960674913,
          0.3189825724441939
         ],
         "z": [
          -0.6618316299518537,
          -0.9422826516732703
         ]
        },
        {
         "hovertext": [
          "Point 1",
          "Point 2",
          "Point 3",
          "Point 4"
         ],
         "marker": {
          "color": "red",
          "size": 8
         },
         "mode": "markers",
         "showlegend": false,
         "type": "scatter3d",
         "x": {
          "bdata": "AAAAAAAAAADytiRwuobsv1/F+ngdTOC/mFWTTYMRur8=",
          "dtype": "f8"
         },
         "y": {
          "bdata": "AAAAAAAAAABNYF2sr/XTPwLIhK1qmuG/qBIp4TVq1D8=",
          "dtype": "f8"
         },
         "z": {
          "bdata": "AAAAAAAAAAA+KWntCwrVvzFAw4a5LeW/nsuQ8i0n7r8=",
          "dtype": "f8"
         }
        }
       ],
       "layout": {
        "height": 400,
        "paper_bgcolor": "rgba(0,0,0,0)",
        "plot_bgcolor": "rgba(0,0,0,0)",
        "scene": {
         "xaxis": {
          "showgrid": false,
          "showticklabels": false,
          "title": {
           "text": ""
          },
          "visible": false,
          "zeroline": false
         },
         "yaxis": {
          "showgrid": false,
          "showticklabels": false,
          "title": {
           "text": ""
          },
          "visible": false,
          "zeroline": false
         },
         "zaxis": {
          "showgrid": false,
          "showticklabels": false,
          "title": {
           "text": ""
          },
          "visible": false,
          "zeroline": false
         }
        },
        "template": {
         "data": {
          "bar": [
           {
            "error_x": {
             "color": "#2a3f5f"
            },
            "error_y": {
             "color": "#2a3f5f"
            },
            "marker": {
             "line": {
              "color": "#E5ECF6",
              "width": 0.5
             },
             "pattern": {
              "fillmode": "overlay",
              "size": 10,
              "solidity": 0.2
             }
            },
            "type": "bar"
           }
          ],
          "barpolar": [
           {
            "marker": {
             "line": {
              "color": "#E5ECF6",
              "width": 0.5
             },
             "pattern": {
              "fillmode": "overlay",
              "size": 10,
              "solidity": 0.2
             }
            },
            "type": "barpolar"
           }
          ],
          "carpet": [
           {
            "aaxis": {
             "endlinecolor": "#2a3f5f",
             "gridcolor": "white",
             "linecolor": "white",
             "minorgridcolor": "white",
             "startlinecolor": "#2a3f5f"
            },
            "baxis": {
             "endlinecolor": "#2a3f5f",
             "gridcolor": "white",
             "linecolor": "white",
             "minorgridcolor": "white",
             "startlinecolor": "#2a3f5f"
            },
            "type": "carpet"
           }
          ],
          "choropleth": [
           {
            "colorbar": {
             "outlinewidth": 0,
             "ticks": ""
            },
            "type": "choropleth"
           }
          ],
          "contour": [
           {
            "colorbar": {
             "outlinewidth": 0,
             "ticks": ""
            },
            "colorscale": [
             [
              0,
              "#0d0887"
             ],
             [
              0.1111111111111111,
              "#46039f"
             ],
             [
              0.2222222222222222,
              "#7201a8"
             ],
             [
              0.3333333333333333,
              "#9c179e"
             ],
             [
              0.4444444444444444,
              "#bd3786"
             ],
             [
              0.5555555555555556,
              "#d8576b"
             ],
             [
              0.6666666666666666,
              "#ed7953"
             ],
             [
              0.7777777777777778,
              "#fb9f3a"
             ],
             [
              0.8888888888888888,
              "#fdca26"
             ],
             [
              1,
              "#f0f921"
             ]
            ],
            "type": "contour"
           }
          ],
          "contourcarpet": [
           {
            "colorbar": {
             "outlinewidth": 0,
             "ticks": ""
            },
            "type": "contourcarpet"
           }
          ],
          "heatmap": [
           {
            "colorbar": {
             "outlinewidth": 0,
             "ticks": ""
            },
            "colorscale": [
             [
              0,
              "#0d0887"
             ],
             [
              0.1111111111111111,
              "#46039f"
             ],
             [
              0.2222222222222222,
              "#7201a8"
             ],
             [
              0.3333333333333333,
              "#9c179e"
             ],
             [
              0.4444444444444444,
              "#bd3786"
             ],
             [
              0.5555555555555556,
              "#d8576b"
             ],
             [
              0.6666666666666666,
              "#ed7953"
             ],
             [
              0.7777777777777778,
              "#fb9f3a"
             ],
             [
              0.8888888888888888,
              "#fdca26"
             ],
             [
              1,
              "#f0f921"
             ]
            ],
            "type": "heatmap"
           }
          ],
          "histogram": [
           {
            "marker": {
             "pattern": {
              "fillmode": "overlay",
              "size": 10,
              "solidity": 0.2
             }
            },
            "type": "histogram"
           }
          ],
          "histogram2d": [
           {
            "colorbar": {
             "outlinewidth": 0,
             "ticks": ""
            },
            "colorscale": [
             [
              0,
              "#0d0887"
             ],
             [
              0.1111111111111111,
              "#46039f"
             ],
             [
              0.2222222222222222,
              "#7201a8"
             ],
             [
              0.3333333333333333,
              "#9c179e"
             ],
             [
              0.4444444444444444,
              "#bd3786"
             ],
             [
              0.5555555555555556,
              "#d8576b"
             ],
             [
              0.6666666666666666,
              "#ed7953"
             ],
             [
              0.7777777777777778,
              "#fb9f3a"
             ],
             [
              0.8888888888888888,
              "#fdca26"
             ],
             [
              1,
              "#f0f921"
             ]
            ],
            "type": "histogram2d"
           }
          ],
          "histogram2dcontour": [
           {
            "colorbar": {
             "outlinewidth": 0,
             "ticks": ""
            },
            "colorscale": [
             [
              0,
              "#0d0887"
             ],
             [
              0.1111111111111111,
              "#46039f"
             ],
             [
              0.2222222222222222,
              "#7201a8"
             ],
             [
              0.3333333333333333,
              "#9c179e"
             ],
             [
              0.4444444444444444,
              "#bd3786"
             ],
             [
              0.5555555555555556,
              "#d8576b"
             ],
             [
              0.6666666666666666,
              "#ed7953"
             ],
             [
              0.7777777777777778,
              "#fb9f3a"
             ],
             [
              0.8888888888888888,
              "#fdca26"
             ],
             [
              1,
              "#f0f921"
             ]
            ],
            "type": "histogram2dcontour"
           }
          ],
          "mesh3d": [
           {
            "colorbar": {
             "outlinewidth": 0,
             "ticks": ""
            },
            "type": "mesh3d"
           }
          ],
          "parcoords": [
           {
            "line": {
             "colorbar": {
              "outlinewidth": 0,
              "ticks": ""
             }
            },
            "type": "parcoords"
           }
          ],
          "pie": [
           {
            "automargin": true,
            "type": "pie"
           }
          ],
          "scatter": [
           {
            "fillpattern": {
             "fillmode": "overlay",
             "size": 10,
             "solidity": 0.2
            },
            "type": "scatter"
           }
          ],
          "scatter3d": [
           {
            "line": {
             "colorbar": {
              "outlinewidth": 0,
              "ticks": ""
             }
            },
            "marker": {
             "colorbar": {
              "outlinewidth": 0,
              "ticks": ""
             }
            },
            "type": "scatter3d"
           }
          ],
          "scattercarpet": [
           {
            "marker": {
             "colorbar": {
              "outlinewidth": 0,
              "ticks": ""
             }
            },
            "type": "scattercarpet"
           }
          ],
          "scattergeo": [
           {
            "marker": {
             "colorbar": {
              "outlinewidth": 0,
              "ticks": ""
             }
            },
            "type": "scattergeo"
           }
          ],
          "scattergl": [
           {
            "marker": {
             "colorbar": {
              "outlinewidth": 0,
              "ticks": ""
             }
            },
            "type": "scattergl"
           }
          ],
          "scattermap": [
           {
            "marker": {
             "colorbar": {
              "outlinewidth": 0,
              "ticks": ""
             }
            },
            "type": "scattermap"
           }
          ],
          "scattermapbox": [
           {
            "marker": {
             "colorbar": {
              "outlinewidth": 0,
              "ticks": ""
             }
            },
            "type": "scattermapbox"
           }
          ],
          "scatterpolar": [
           {
            "marker": {
             "colorbar": {
              "outlinewidth": 0,
              "ticks": ""
             }
            },
            "type": "scatterpolar"
           }
          ],
          "scatterpolargl": [
           {
            "marker": {
             "colorbar": {
              "outlinewidth": 0,
              "ticks": ""
             }
            },
            "type": "scatterpolargl"
           }
          ],
          "scatterternary": [
           {
            "marker": {
             "colorbar": {
              "outlinewidth": 0,
              "ticks": ""
             }
            },
            "type": "scatterternary"
           }
          ],
          "surface": [
           {
            "colorbar": {
             "outlinewidth": 0,
             "ticks": ""
            },
            "colorscale": [
             [
              0,
              "#0d0887"
             ],
             [
              0.1111111111111111,
              "#46039f"
             ],
             [
              0.2222222222222222,
              "#7201a8"
             ],
             [
              0.3333333333333333,
              "#9c179e"
             ],
             [
              0.4444444444444444,
              "#bd3786"
             ],
             [
              0.5555555555555556,
              "#d8576b"
             ],
             [
              0.6666666666666666,
              "#ed7953"
             ],
             [
              0.7777777777777778,
              "#fb9f3a"
             ],
             [
              0.8888888888888888,
              "#fdca26"
             ],
             [
              1,
              "#f0f921"
             ]
            ],
            "type": "surface"
           }
          ],
          "table": [
           {
            "cells": {
             "fill": {
              "color": "#EBF0F8"
             },
             "line": {
              "color": "white"
             }
            },
            "header": {
             "fill": {
              "color": "#C8D4E3"
             },
             "line": {
              "color": "white"
             }
            },
            "type": "table"
           }
          ]
         },
         "layout": {
          "annotationdefaults": {
           "arrowcolor": "#2a3f5f",
           "arrowhead": 0,
           "arrowwidth": 1
          },
          "autotypenumbers": "strict",
          "coloraxis": {
           "colorbar": {
            "outlinewidth": 0,
            "ticks": ""
           }
          },
          "colorscale": {
           "diverging": [
            [
             0,
             "#8e0152"
            ],
            [
             0.1,
             "#c51b7d"
            ],
            [
             0.2,
             "#de77ae"
            ],
            [
             0.3,
             "#f1b6da"
            ],
            [
             0.4,
             "#fde0ef"
            ],
            [
             0.5,
             "#f7f7f7"
            ],
            [
             0.6,
             "#e6f5d0"
            ],
            [
             0.7,
             "#b8e186"
            ],
            [
             0.8,
             "#7fbc41"
            ],
            [
             0.9,
             "#4d9221"
            ],
            [
             1,
             "#276419"
            ]
           ],
           "sequential": [
            [
             0,
             "#0d0887"
            ],
            [
             0.1111111111111111,
             "#46039f"
            ],
            [
             0.2222222222222222,
             "#7201a8"
            ],
            [
             0.3333333333333333,
             "#9c179e"
            ],
            [
             0.4444444444444444,
             "#bd3786"
            ],
            [
             0.5555555555555556,
             "#d8576b"
            ],
            [
             0.6666666666666666,
             "#ed7953"
            ],
            [
             0.7777777777777778,
             "#fb9f3a"
            ],
            [
             0.8888888888888888,
             "#fdca26"
            ],
            [
             1,
             "#f0f921"
            ]
           ],
           "sequentialminus": [
            [
             0,
             "#0d0887"
            ],
            [
             0.1111111111111111,
             "#46039f"
            ],
            [
             0.2222222222222222,
             "#7201a8"
            ],
            [
             0.3333333333333333,
             "#9c179e"
            ],
            [
             0.4444444444444444,
             "#bd3786"
            ],
            [
             0.5555555555555556,
             "#d8576b"
            ],
            [
             0.6666666666666666,
             "#ed7953"
            ],
            [
             0.7777777777777778,
             "#fb9f3a"
            ],
            [
             0.8888888888888888,
             "#fdca26"
            ],
            [
             1,
             "#f0f921"
            ]
           ]
          },
          "colorway": [
           "#636efa",
           "#EF553B",
           "#00cc96",
           "#ab63fa",
           "#FFA15A",
           "#19d3f3",
           "#FF6692",
           "#B6E880",
           "#FF97FF",
           "#FECB52"
          ],
          "font": {
           "color": "#2a3f5f"
          },
          "geo": {
           "bgcolor": "white",
           "lakecolor": "white",
           "landcolor": "#E5ECF6",
           "showlakes": true,
           "showland": true,
           "subunitcolor": "white"
          },
          "hoverlabel": {
           "align": "left"
          },
          "hovermode": "closest",
          "mapbox": {
           "style": "light"
          },
          "paper_bgcolor": "white",
          "plot_bgcolor": "#E5ECF6",
          "polar": {
           "angularaxis": {
            "gridcolor": "white",
            "linecolor": "white",
            "ticks": ""
           },
           "bgcolor": "#E5ECF6",
           "radialaxis": {
            "gridcolor": "white",
            "linecolor": "white",
            "ticks": ""
           }
          },
          "scene": {
           "xaxis": {
            "backgroundcolor": "#E5ECF6",
            "gridcolor": "white",
            "gridwidth": 2,
            "linecolor": "white",
            "showbackground": true,
            "ticks": "",
            "zerolinecolor": "white"
           },
           "yaxis": {
            "backgroundcolor": "#E5ECF6",
            "gridcolor": "white",
            "gridwidth": 2,
            "linecolor": "white",
            "showbackground": true,
            "ticks": "",
            "zerolinecolor": "white"
           },
           "zaxis": {
            "backgroundcolor": "#E5ECF6",
            "gridcolor": "white",
            "gridwidth": 2,
            "linecolor": "white",
            "showbackground": true,
            "ticks": "",
            "zerolinecolor": "white"
           }
          },
          "shapedefaults": {
           "line": {
            "color": "#2a3f5f"
           }
          },
          "ternary": {
           "aaxis": {
            "gridcolor": "white",
            "linecolor": "white",
            "ticks": ""
           },
           "baxis": {
            "gridcolor": "white",
            "linecolor": "white",
            "ticks": ""
           },
           "bgcolor": "#E5ECF6",
           "caxis": {
            "gridcolor": "white",
            "linecolor": "white",
            "ticks": ""
           }
          },
          "title": {
           "x": 0.05
          },
          "xaxis": {
           "automargin": true,
           "gridcolor": "white",
           "linecolor": "white",
           "ticks": "",
           "title": {
            "standoff": 15
           },
           "zerolinecolor": "white",
           "zerolinewidth": 2
          },
          "yaxis": {
           "automargin": true,
           "gridcolor": "white",
           "linecolor": "white",
           "ticks": "",
           "title": {
            "standoff": 15
           },
           "zerolinecolor": "white",
           "zerolinewidth": 2
          }
         }
        },
        "title": {
         "text": "4-Atom Configuration: -6.0000J"
        },
        "width": 600
       }
      }
     },
     "metadata": {},
     "output_type": "display_data"
    },
    {
     "data": {
      "application/vnd.plotly.v1+json": {
       "config": {
        "plotlyServerURL": "https://plot.ly"
       },
       "data": [
        {
         "hoverinfo": "text",
         "hovertext": "Length: 9.98e-01, Contributes -1.00e+00J",
         "line": {
          "color": "rgb(173, 216, 230, 0.4)",
          "width": 8
         },
         "mode": "lines",
         "showlegend": false,
         "type": "scatter3d",
         "x": [
          0,
          -0.894164945347024
         ],
         "y": [
          0,
          0.2801852522410363
         ],
         "z": [
          0,
          -0.34331344253700713
         ]
        },
        {
         "hoverinfo": "text",
         "hovertext": "Length: 9.98e-01, Contributes -1.00e+00J",
         "line": {
          "color": "rgb(173, 216, 230, 0.4)",
          "width": 8
         },
         "mode": "lines",
         "showlegend": false,
         "type": "scatter3d",
         "x": [
          0,
          -0.4680903419941755
         ],
         "y": [
          0,
          -0.5614732142900412
         ],
         "z": [
          0,
          -0.6793197912639272
         ]
        },
        {
         "hoverinfo": "text",
         "hovertext": "Length: 9.98e-01, Contributes -1.00e+00J",
         "line": {
          "color": "rgb(173, 216, 230, 0.4)",
          "width": 8
         },
         "mode": "lines",
         "showlegend": false,
         "type": "scatter3d",
         "x": [
          0,
          -0.08981174384108093
         ],
         "y": [
          0,
          0.32900450633513173
         ],
         "z": [
          0,
          -0.9378344325906725
         ]
        },
        {
         "hoverinfo": "text",
         "hovertext": "Length: 1.63e+00, Contributes -1.05e-01J",
         "line": {
          "color": "rgb(173, 216, 230, 0.4)",
          "width": 8
         },
         "mode": "lines",
         "showlegend": false,
         "type": "scatter3d",
         "x": [
          0,
          -0.9679723063402408
         ],
         "y": [
          0,
          0.031768608031690626
         ],
         "z": [
          0,
          -1.3069869050133653
         ]
        },
        {
         "hoverinfo": "text",
         "hovertext": "Length: 1.00e+00, Contributes -1.00e+00J",
         "line": {
          "color": "rgb(173, 216, 230, 0.4)",
          "width": 8
         },
         "mode": "lines",
         "showlegend": false,
         "type": "scatter3d",
         "x": [
          -0.894164945347024,
          -0.4680903419941755
         ],
         "y": [
          0.2801852522410363,
          -0.5614732142900412
         ],
         "z": [
          -0.34331344253700713,
          -0.6793197912639272
         ]
        },
        {
         "hoverinfo": "text",
         "hovertext": "Length: 1.00e+00, Contributes -1.00e+00J",
         "line": {
          "color": "rgb(173, 216, 230, 0.4)",
          "width": 8
         },
         "mode": "lines",
         "showlegend": false,
         "type": "scatter3d",
         "x": [
          -0.894164945347024,
          -0.08981174384108093
         ],
         "y": [
          0.2801852522410363,
          0.32900450633513173
         ],
         "z": [
          -0.34331344253700713,
          -0.9378344325906725
         ]
        },
        {
         "hoverinfo": "text",
         "hovertext": "Length: 9.98e-01, Contributes -1.00e+00J",
         "line": {
          "color": "rgb(173, 216, 230, 0.4)",
          "width": 8
         },
         "mode": "lines",
         "showlegend": false,
         "type": "scatter3d",
         "x": [
          -0.894164945347024,
          -0.9679723063402408
         ],
         "y": [
          0.2801852522410363,
          0.031768608031690626
         ],
         "z": [
          -0.34331344253700713,
          -1.3069869050133653
         ]
        },
        {
         "hoverinfo": "text",
         "hovertext": "Length: 1.00e+00, Contributes -1.00e+00J",
         "line": {
          "color": "rgb(173, 216, 230, 0.4)",
          "width": 8
         },
         "mode": "lines",
         "showlegend": false,
         "type": "scatter3d",
         "x": [
          -0.4680903419941755,
          -0.08981174384108093
         ],
         "y": [
          -0.5614732142900412,
          0.32900450633513173
         ],
         "z": [
          -0.6793197912639272,
          -0.9378344325906725
         ]
        },
        {
         "hoverinfo": "text",
         "hovertext": "Length: 9.98e-01, Contributes -1.00e+00J",
         "line": {
          "color": "rgb(173, 216, 230, 0.4)",
          "width": 8
         },
         "mode": "lines",
         "showlegend": false,
         "type": "scatter3d",
         "x": [
          -0.4680903419941755,
          -0.9679723063402408
         ],
         "y": [
          -0.5614732142900412,
          0.031768608031690626
         ],
         "z": [
          -0.6793197912639272,
          -1.3069869050133653
         ]
        },
        {
         "hoverinfo": "text",
         "hovertext": "Length: 9.98e-01, Contributes -1.00e+00J",
         "line": {
          "color": "rgb(173, 216, 230, 0.4)",
          "width": 8
         },
         "mode": "lines",
         "showlegend": false,
         "type": "scatter3d",
         "x": [
          -0.08981174384108093,
          -0.9679723063402408
         ],
         "y": [
          0.32900450633513173,
          0.031768608031690626
         ],
         "z": [
          -0.9378344325906725,
          -1.3069869050133653
         ]
        },
        {
         "hovertext": [
          "Point 1",
          "Point 2",
          "Point 3",
          "Point 4",
          "Point 5"
         ],
         "marker": {
          "color": "red",
          "size": 8
         },
         "mode": "markers",
         "showlegend": false,
         "type": "scatter3d",
         "x": {
          "bdata": "AAAAAAAAAADS16/N/5zsv2MPnDEx9d2/qBuYBuf9tr/oR+UOofnuvw==",
          "dtype": "f8"
         },
         "y": {
          "bdata": "AAAAAAAAAAC+l8wfju7RP1CVnqyW9+G/hYu86mgO1T8oNBKZ+UOgPw==",
          "dtype": "f8"
         },
         "z": {
          "bdata": "AAAAAAAAAADOT/7x2PjVv7Mh4Nv8vOW/2kQhW70C7r+WUtUZa+n0vw==",
          "dtype": "f8"
         }
        }
       ],
       "layout": {
        "height": 400,
        "paper_bgcolor": "rgba(0,0,0,0)",
        "plot_bgcolor": "rgba(0,0,0,0)",
        "scene": {
         "xaxis": {
          "showgrid": false,
          "showticklabels": false,
          "title": {
           "text": ""
          },
          "visible": false,
          "zeroline": false
         },
         "yaxis": {
          "showgrid": false,
          "showticklabels": false,
          "title": {
           "text": ""
          },
          "visible": false,
          "zeroline": false
         },
         "zaxis": {
          "showgrid": false,
          "showticklabels": false,
          "title": {
           "text": ""
          },
          "visible": false,
          "zeroline": false
         }
        },
        "template": {
         "data": {
          "bar": [
           {
            "error_x": {
             "color": "#2a3f5f"
            },
            "error_y": {
             "color": "#2a3f5f"
            },
            "marker": {
             "line": {
              "color": "#E5ECF6",
              "width": 0.5
             },
             "pattern": {
              "fillmode": "overlay",
              "size": 10,
              "solidity": 0.2
             }
            },
            "type": "bar"
           }
          ],
          "barpolar": [
           {
            "marker": {
             "line": {
              "color": "#E5ECF6",
              "width": 0.5
             },
             "pattern": {
              "fillmode": "overlay",
              "size": 10,
              "solidity": 0.2
             }
            },
            "type": "barpolar"
           }
          ],
          "carpet": [
           {
            "aaxis": {
             "endlinecolor": "#2a3f5f",
             "gridcolor": "white",
             "linecolor": "white",
             "minorgridcolor": "white",
             "startlinecolor": "#2a3f5f"
            },
            "baxis": {
             "endlinecolor": "#2a3f5f",
             "gridcolor": "white",
             "linecolor": "white",
             "minorgridcolor": "white",
             "startlinecolor": "#2a3f5f"
            },
            "type": "carpet"
           }
          ],
          "choropleth": [
           {
            "colorbar": {
             "outlinewidth": 0,
             "ticks": ""
            },
            "type": "choropleth"
           }
          ],
          "contour": [
           {
            "colorbar": {
             "outlinewidth": 0,
             "ticks": ""
            },
            "colorscale": [
             [
              0,
              "#0d0887"
             ],
             [
              0.1111111111111111,
              "#46039f"
             ],
             [
              0.2222222222222222,
              "#7201a8"
             ],
             [
              0.3333333333333333,
              "#9c179e"
             ],
             [
              0.4444444444444444,
              "#bd3786"
             ],
             [
              0.5555555555555556,
              "#d8576b"
             ],
             [
              0.6666666666666666,
              "#ed7953"
             ],
             [
              0.7777777777777778,
              "#fb9f3a"
             ],
             [
              0.8888888888888888,
              "#fdca26"
             ],
             [
              1,
              "#f0f921"
             ]
            ],
            "type": "contour"
           }
          ],
          "contourcarpet": [
           {
            "colorbar": {
             "outlinewidth": 0,
             "ticks": ""
            },
            "type": "contourcarpet"
           }
          ],
          "heatmap": [
           {
            "colorbar": {
             "outlinewidth": 0,
             "ticks": ""
            },
            "colorscale": [
             [
              0,
              "#0d0887"
             ],
             [
              0.1111111111111111,
              "#46039f"
             ],
             [
              0.2222222222222222,
              "#7201a8"
             ],
             [
              0.3333333333333333,
              "#9c179e"
             ],
             [
              0.4444444444444444,
              "#bd3786"
             ],
             [
              0.5555555555555556,
              "#d8576b"
             ],
             [
              0.6666666666666666,
              "#ed7953"
             ],
             [
              0.7777777777777778,
              "#fb9f3a"
             ],
             [
              0.8888888888888888,
              "#fdca26"
             ],
             [
              1,
              "#f0f921"
             ]
            ],
            "type": "heatmap"
           }
          ],
          "histogram": [
           {
            "marker": {
             "pattern": {
              "fillmode": "overlay",
              "size": 10,
              "solidity": 0.2
             }
            },
            "type": "histogram"
           }
          ],
          "histogram2d": [
           {
            "colorbar": {
             "outlinewidth": 0,
             "ticks": ""
            },
            "colorscale": [
             [
              0,
              "#0d0887"
             ],
             [
              0.1111111111111111,
              "#46039f"
             ],
             [
              0.2222222222222222,
              "#7201a8"
             ],
             [
              0.3333333333333333,
              "#9c179e"
             ],
             [
              0.4444444444444444,
              "#bd3786"
             ],
             [
              0.5555555555555556,
              "#d8576b"
             ],
             [
              0.6666666666666666,
              "#ed7953"
             ],
             [
              0.7777777777777778,
              "#fb9f3a"
             ],
             [
              0.8888888888888888,
              "#fdca26"
             ],
             [
              1,
              "#f0f921"
             ]
            ],
            "type": "histogram2d"
           }
          ],
          "histogram2dcontour": [
           {
            "colorbar": {
             "outlinewidth": 0,
             "ticks": ""
            },
            "colorscale": [
             [
              0,
              "#0d0887"
             ],
             [
              0.1111111111111111,
              "#46039f"
             ],
             [
              0.2222222222222222,
              "#7201a8"
             ],
             [
              0.3333333333333333,
              "#9c179e"
             ],
             [
              0.4444444444444444,
              "#bd3786"
             ],
             [
              0.5555555555555556,
              "#d8576b"
             ],
             [
              0.6666666666666666,
              "#ed7953"
             ],
             [
              0.7777777777777778,
              "#fb9f3a"
             ],
             [
              0.8888888888888888,
              "#fdca26"
             ],
             [
              1,
              "#f0f921"
             ]
            ],
            "type": "histogram2dcontour"
           }
          ],
          "mesh3d": [
           {
            "colorbar": {
             "outlinewidth": 0,
             "ticks": ""
            },
            "type": "mesh3d"
           }
          ],
          "parcoords": [
           {
            "line": {
             "colorbar": {
              "outlinewidth": 0,
              "ticks": ""
             }
            },
            "type": "parcoords"
           }
          ],
          "pie": [
           {
            "automargin": true,
            "type": "pie"
           }
          ],
          "scatter": [
           {
            "fillpattern": {
             "fillmode": "overlay",
             "size": 10,
             "solidity": 0.2
            },
            "type": "scatter"
           }
          ],
          "scatter3d": [
           {
            "line": {
             "colorbar": {
              "outlinewidth": 0,
              "ticks": ""
             }
            },
            "marker": {
             "colorbar": {
              "outlinewidth": 0,
              "ticks": ""
             }
            },
            "type": "scatter3d"
           }
          ],
          "scattercarpet": [
           {
            "marker": {
             "colorbar": {
              "outlinewidth": 0,
              "ticks": ""
             }
            },
            "type": "scattercarpet"
           }
          ],
          "scattergeo": [
           {
            "marker": {
             "colorbar": {
              "outlinewidth": 0,
              "ticks": ""
             }
            },
            "type": "scattergeo"
           }
          ],
          "scattergl": [
           {
            "marker": {
             "colorbar": {
              "outlinewidth": 0,
              "ticks": ""
             }
            },
            "type": "scattergl"
           }
          ],
          "scattermap": [
           {
            "marker": {
             "colorbar": {
              "outlinewidth": 0,
              "ticks": ""
             }
            },
            "type": "scattermap"
           }
          ],
          "scattermapbox": [
           {
            "marker": {
             "colorbar": {
              "outlinewidth": 0,
              "ticks": ""
             }
            },
            "type": "scattermapbox"
           }
          ],
          "scatterpolar": [
           {
            "marker": {
             "colorbar": {
              "outlinewidth": 0,
              "ticks": ""
             }
            },
            "type": "scatterpolar"
           }
          ],
          "scatterpolargl": [
           {
            "marker": {
             "colorbar": {
              "outlinewidth": 0,
              "ticks": ""
             }
            },
            "type": "scatterpolargl"
           }
          ],
          "scatterternary": [
           {
            "marker": {
             "colorbar": {
              "outlinewidth": 0,
              "ticks": ""
             }
            },
            "type": "scatterternary"
           }
          ],
          "surface": [
           {
            "colorbar": {
             "outlinewidth": 0,
             "ticks": ""
            },
            "colorscale": [
             [
              0,
              "#0d0887"
             ],
             [
              0.1111111111111111,
              "#46039f"
             ],
             [
              0.2222222222222222,
              "#7201a8"
             ],
             [
              0.3333333333333333,
              "#9c179e"
             ],
             [
              0.4444444444444444,
              "#bd3786"
             ],
             [
              0.5555555555555556,
              "#d8576b"
             ],
             [
              0.6666666666666666,
              "#ed7953"
             ],
             [
              0.7777777777777778,
              "#fb9f3a"
             ],
             [
              0.8888888888888888,
              "#fdca26"
             ],
             [
              1,
              "#f0f921"
             ]
            ],
            "type": "surface"
           }
          ],
          "table": [
           {
            "cells": {
             "fill": {
              "color": "#EBF0F8"
             },
             "line": {
              "color": "white"
             }
            },
            "header": {
             "fill": {
              "color": "#C8D4E3"
             },
             "line": {
              "color": "white"
             }
            },
            "type": "table"
           }
          ]
         },
         "layout": {
          "annotationdefaults": {
           "arrowcolor": "#2a3f5f",
           "arrowhead": 0,
           "arrowwidth": 1
          },
          "autotypenumbers": "strict",
          "coloraxis": {
           "colorbar": {
            "outlinewidth": 0,
            "ticks": ""
           }
          },
          "colorscale": {
           "diverging": [
            [
             0,
             "#8e0152"
            ],
            [
             0.1,
             "#c51b7d"
            ],
            [
             0.2,
             "#de77ae"
            ],
            [
             0.3,
             "#f1b6da"
            ],
            [
             0.4,
             "#fde0ef"
            ],
            [
             0.5,
             "#f7f7f7"
            ],
            [
             0.6,
             "#e6f5d0"
            ],
            [
             0.7,
             "#b8e186"
            ],
            [
             0.8,
             "#7fbc41"
            ],
            [
             0.9,
             "#4d9221"
            ],
            [
             1,
             "#276419"
            ]
           ],
           "sequential": [
            [
             0,
             "#0d0887"
            ],
            [
             0.1111111111111111,
             "#46039f"
            ],
            [
             0.2222222222222222,
             "#7201a8"
            ],
            [
             0.3333333333333333,
             "#9c179e"
            ],
            [
             0.4444444444444444,
             "#bd3786"
            ],
            [
             0.5555555555555556,
             "#d8576b"
            ],
            [
             0.6666666666666666,
             "#ed7953"
            ],
            [
             0.7777777777777778,
             "#fb9f3a"
            ],
            [
             0.8888888888888888,
             "#fdca26"
            ],
            [
             1,
             "#f0f921"
            ]
           ],
           "sequentialminus": [
            [
             0,
             "#0d0887"
            ],
            [
             0.1111111111111111,
             "#46039f"
            ],
            [
             0.2222222222222222,
             "#7201a8"
            ],
            [
             0.3333333333333333,
             "#9c179e"
            ],
            [
             0.4444444444444444,
             "#bd3786"
            ],
            [
             0.5555555555555556,
             "#d8576b"
            ],
            [
             0.6666666666666666,
             "#ed7953"
            ],
            [
             0.7777777777777778,
             "#fb9f3a"
            ],
            [
             0.8888888888888888,
             "#fdca26"
            ],
            [
             1,
             "#f0f921"
            ]
           ]
          },
          "colorway": [
           "#636efa",
           "#EF553B",
           "#00cc96",
           "#ab63fa",
           "#FFA15A",
           "#19d3f3",
           "#FF6692",
           "#B6E880",
           "#FF97FF",
           "#FECB52"
          ],
          "font": {
           "color": "#2a3f5f"
          },
          "geo": {
           "bgcolor": "white",
           "lakecolor": "white",
           "landcolor": "#E5ECF6",
           "showlakes": true,
           "showland": true,
           "subunitcolor": "white"
          },
          "hoverlabel": {
           "align": "left"
          },
          "hovermode": "closest",
          "mapbox": {
           "style": "light"
          },
          "paper_bgcolor": "white",
          "plot_bgcolor": "#E5ECF6",
          "polar": {
           "angularaxis": {
            "gridcolor": "white",
            "linecolor": "white",
            "ticks": ""
           },
           "bgcolor": "#E5ECF6",
           "radialaxis": {
            "gridcolor": "white",
            "linecolor": "white",
            "ticks": ""
           }
          },
          "scene": {
           "xaxis": {
            "backgroundcolor": "#E5ECF6",
            "gridcolor": "white",
            "gridwidth": 2,
            "linecolor": "white",
            "showbackground": true,
            "ticks": "",
            "zerolinecolor": "white"
           },
           "yaxis": {
            "backgroundcolor": "#E5ECF6",
            "gridcolor": "white",
            "gridwidth": 2,
            "linecolor": "white",
            "showbackground": true,
            "ticks": "",
            "zerolinecolor": "white"
           },
           "zaxis": {
            "backgroundcolor": "#E5ECF6",
            "gridcolor": "white",
            "gridwidth": 2,
            "linecolor": "white",
            "showbackground": true,
            "ticks": "",
            "zerolinecolor": "white"
           }
          },
          "shapedefaults": {
           "line": {
            "color": "#2a3f5f"
           }
          },
          "ternary": {
           "aaxis": {
            "gridcolor": "white",
            "linecolor": "white",
            "ticks": ""
           },
           "baxis": {
            "gridcolor": "white",
            "linecolor": "white",
            "ticks": ""
           },
           "bgcolor": "#E5ECF6",
           "caxis": {
            "gridcolor": "white",
            "linecolor": "white",
            "ticks": ""
           }
          },
          "title": {
           "x": 0.05
          },
          "xaxis": {
           "automargin": true,
           "gridcolor": "white",
           "linecolor": "white",
           "ticks": "",
           "title": {
            "standoff": 15
           },
           "zerolinecolor": "white",
           "zerolinewidth": 2
          },
          "yaxis": {
           "automargin": true,
           "gridcolor": "white",
           "linecolor": "white",
           "ticks": "",
           "title": {
            "standoff": 15
           },
           "zerolinecolor": "white",
           "zerolinewidth": 2
          }
         }
        },
        "title": {
         "text": "5-Atom Configuration: -9.1039J"
        },
        "width": 600
       }
      }
     },
     "metadata": {},
     "output_type": "display_data"
    },
    {
     "data": {
      "application/vnd.plotly.v1+json": {
       "config": {
        "plotlyServerURL": "https://plot.ly"
       },
       "data": [
        {
         "hoverinfo": "text",
         "hovertext": "Length: 1.00e+00, Contributes -1.00e+00J",
         "line": {
          "color": "rgb(173, 216, 230, 0.4)",
          "width": 8
         },
         "mode": "lines",
         "showlegend": false,
         "type": "scatter3d",
         "x": [
          0,
          -0.9358706208495847
         ],
         "y": [
          0,
          0.22774499450257216
         ],
         "z": [
          0,
          -0.267155531640639
         ]
        },
        {
         "hoverinfo": "text",
         "hovertext": "Length: 9.95e-01, Contributes -9.99e-01J",
         "line": {
          "color": "rgb(173, 216, 230, 0.4)",
          "width": 8
         },
         "mode": "lines",
         "showlegend": false,
         "type": "scatter3d",
         "x": [
          0,
          -0.4730759816020295
         ],
         "y": [
          0,
          -0.5569194421386605
         ],
         "z": [
          0,
          -0.6751573692453976
         ]
        },
        {
         "hoverinfo": "text",
         "hovertext": "Length: 9.95e-01, Contributes -9.99e-01J",
         "line": {
          "color": "rgb(173, 216, 230, 0.4)",
          "width": 8
         },
         "mode": "lines",
         "showlegend": false,
         "type": "scatter3d",
         "x": [
          0,
          -0.18034014886305882
         ],
         "y": [
          0,
          0.3807849471781861
         ],
         "z": [
          0,
          -0.9012648671501434
         ]
        },
        {
         "hoverinfo": "text",
         "hovertext": "Length: 1.62e+00, Contributes -1.06e-01J",
         "line": {
          "color": "rgb(173, 216, 230, 0.4)",
          "width": 8
         },
         "mode": "lines",
         "showlegend": false,
         "type": "scatter3d",
         "x": [
          0,
          -1.0520893260130977
         ],
         "y": [
          0,
          0.029945581832584247
         ],
         "z": [
          0,
          -1.2379251468860701
         ]
        },
        {
         "hoverinfo": "text",
         "hovertext": "Length: 1.65e+00, Contributes -9.83e-02J",
         "line": {
          "color": "rgb(173, 216, 230, 0.4)",
          "width": 8
         },
         "mode": "lines",
         "showlegend": false,
         "type": "scatter3d",
         "x": [
          0,
          -0.1916588039934271
         ],
         "y": [
          0,
          -0.3262381352800988
         ],
         "z": [
          0,
          -1.6010997151241928
         ]
        },
        {
         "hoverinfo": "text",
         "hovertext": "Length: 9.98e-01, Contributes -1.00e+00J",
         "line": {
          "color": "rgb(173, 216, 230, 0.4)",
          "width": 8
         },
         "mode": "lines",
         "showlegend": false,
         "type": "scatter3d",
         "x": [
          -0.9358706208495847,
          -0.4730759816020295
         ],
         "y": [
          0.22774499450257216,
          -0.5569194421386605
         ],
         "z": [
          -0.267155531640639,
          -0.6751573692453976
         ]
        },
        {
         "hoverinfo": "text",
         "hovertext": "Length: 9.98e-01, Contributes -1.00e+00J",
         "line": {
          "color": "rgb(173, 216, 230, 0.4)",
          "width": 8
         },
         "mode": "lines",
         "showlegend": false,
         "type": "scatter3d",
         "x": [
          -0.9358706208495847,
          -0.18034014886305882
         ],
         "y": [
          0.22774499450257216,
          0.3807849471781861
         ],
         "z": [
          -0.267155531640639,
          -0.9012648671501434
         ]
        },
        {
         "hoverinfo": "text",
         "hovertext": "Length: 9.98e-01, Contributes -1.00e+00J",
         "line": {
          "color": "rgb(173, 216, 230, 0.4)",
          "width": 8
         },
         "mode": "lines",
         "showlegend": false,
         "type": "scatter3d",
         "x": [
          -0.9358706208495847,
          -1.0520893260130977
         ],
         "y": [
          0.22774499450257216,
          0.029945581832584247
         ],
         "z": [
          -0.267155531640639,
          -1.2379251468860701
         ]
        },
        {
         "hoverinfo": "text",
         "hovertext": "Length: 1.62e+00, Contributes -1.06e-01J",
         "line": {
          "color": "rgb(173, 216, 230, 0.4)",
          "width": 8
         },
         "mode": "lines",
         "showlegend": false,
         "type": "scatter3d",
         "x": [
          -0.9358706208495847,
          -0.1916588039934271
         ],
         "y": [
          0.22774499450257216,
          -0.3262381352800988
         ],
         "z": [
          -0.267155531640639,
          -1.6010997151241928
         ]
        },
        {
         "hoverinfo": "text",
         "hovertext": "Length: 1.01e+00, Contributes -9.98e-01J",
         "line": {
          "color": "rgb(173, 216, 230, 0.4)",
          "width": 8
         },
         "mode": "lines",
         "showlegend": false,
         "type": "scatter3d",
         "x": [
          -0.4730759816020295,
          -0.18034014886305882
         ],
         "y": [
          -0.5569194421386605,
          0.3807849471781861
         ],
         "z": [
          -0.6751573692453976,
          -0.9012648671501434
         ]
        },
        {
         "hoverinfo": "text",
         "hovertext": "Length: 9.98e-01, Contributes -1.00e+00J",
         "line": {
          "color": "rgb(173, 216, 230, 0.4)",
          "width": 8
         },
         "mode": "lines",
         "showlegend": false,
         "type": "scatter3d",
         "x": [
          -0.4730759816020295,
          -1.0520893260130977
         ],
         "y": [
          -0.5569194421386605,
          0.029945581832584247
         ],
         "z": [
          -0.6751573692453976,
          -1.2379251468860701
         ]
        },
        {
         "hoverinfo": "text",
         "hovertext": "Length: 9.95e-01, Contributes -9.99e-01J",
         "line": {
          "color": "rgb(173, 216, 230, 0.4)",
          "width": 8
         },
         "mode": "lines",
         "showlegend": false,
         "type": "scatter3d",
         "x": [
          -0.4730759816020295,
          -0.1916588039934271
         ],
         "y": [
          -0.5569194421386605,
          -0.3262381352800988
         ],
         "z": [
          -0.6751573692453976,
          -1.6010997151241928
         ]
        },
        {
         "hoverinfo": "text",
         "hovertext": "Length: 9.98e-01, Contributes -1.00e+00J",
         "line": {
          "color": "rgb(173, 216, 230, 0.4)",
          "width": 8
         },
         "mode": "lines",
         "showlegend": false,
         "type": "scatter3d",
         "x": [
          -0.18034014886305882,
          -1.0520893260130977
         ],
         "y": [
          0.3807849471781861,
          0.029945581832584247
         ],
         "z": [
          -0.9012648671501434,
          -1.2379251468860701
         ]
        },
        {
         "hoverinfo": "text",
         "hovertext": "Length: 9.95e-01, Contributes -9.99e-01J",
         "line": {
          "color": "rgb(173, 216, 230, 0.4)",
          "width": 8
         },
         "mode": "lines",
         "showlegend": false,
         "type": "scatter3d",
         "x": [
          -0.18034014886305882,
          -0.1916588039934271
         ],
         "y": [
          0.3807849471781861,
          -0.3262381352800988
         ],
         "z": [
          -0.9012648671501434,
          -1.6010997151241928
         ]
        },
        {
         "hoverinfo": "text",
         "hovertext": "Length: 1.00e+00, Contributes -1.00e+00J",
         "line": {
          "color": "rgb(173, 216, 230, 0.4)",
          "width": 8
         },
         "mode": "lines",
         "showlegend": false,
         "type": "scatter3d",
         "x": [
          -1.0520893260130977,
          -0.1916588039934271
         ],
         "y": [
          0.029945581832584247,
          -0.3262381352800988
         ],
         "z": [
          -1.2379251468860701,
          -1.6010997151241928
         ]
        },
        {
         "hovertext": [
          "Point 1",
          "Point 2",
          "Point 3",
          "Point 4",
          "Point 5",
          "Point 6"
         ],
         "marker": {
          "color": "red",
          "size": 8
         },
         "mode": "markers",
         "showlegend": false,
         "type": "scatter3d",
         "x": {
          "bdata": "AAAAAAAAAAABwrrxpvLtv38+YHvgRt6/3OTC0GIVx7+nJvudW9Xwvwo1kpNGiMi/",
          "dtype": "f8"
         },
         "y": {
          "bdata": "AAAAAAAAAAD9rZt7vybNP2C/z7hI0uG/FB+808de2D/HxoX6DaqeP2obb+oV4dS/",
          "dtype": "f8"
         },
         "z": {
          "bdata": "AAAAAAAAAADy49WDExnRvwL/kaDjmuW/YzIuaynX7L/AWEyZis7zv0J+Ibwanvm/",
          "dtype": "f8"
         }
        }
       ],
       "layout": {
        "height": 400,
        "paper_bgcolor": "rgba(0,0,0,0)",
        "plot_bgcolor": "rgba(0,0,0,0)",
        "scene": {
         "xaxis": {
          "showgrid": false,
          "showticklabels": false,
          "title": {
           "text": ""
          },
          "visible": false,
          "zeroline": false
         },
         "yaxis": {
          "showgrid": false,
          "showticklabels": false,
          "title": {
           "text": ""
          },
          "visible": false,
          "zeroline": false
         },
         "zaxis": {
          "showgrid": false,
          "showticklabels": false,
          "title": {
           "text": ""
          },
          "visible": false,
          "zeroline": false
         }
        },
        "template": {
         "data": {
          "bar": [
           {
            "error_x": {
             "color": "#2a3f5f"
            },
            "error_y": {
             "color": "#2a3f5f"
            },
            "marker": {
             "line": {
              "color": "#E5ECF6",
              "width": 0.5
             },
             "pattern": {
              "fillmode": "overlay",
              "size": 10,
              "solidity": 0.2
             }
            },
            "type": "bar"
           }
          ],
          "barpolar": [
           {
            "marker": {
             "line": {
              "color": "#E5ECF6",
              "width": 0.5
             },
             "pattern": {
              "fillmode": "overlay",
              "size": 10,
              "solidity": 0.2
             }
            },
            "type": "barpolar"
           }
          ],
          "carpet": [
           {
            "aaxis": {
             "endlinecolor": "#2a3f5f",
             "gridcolor": "white",
             "linecolor": "white",
             "minorgridcolor": "white",
             "startlinecolor": "#2a3f5f"
            },
            "baxis": {
             "endlinecolor": "#2a3f5f",
             "gridcolor": "white",
             "linecolor": "white",
             "minorgridcolor": "white",
             "startlinecolor": "#2a3f5f"
            },
            "type": "carpet"
           }
          ],
          "choropleth": [
           {
            "colorbar": {
             "outlinewidth": 0,
             "ticks": ""
            },
            "type": "choropleth"
           }
          ],
          "contour": [
           {
            "colorbar": {
             "outlinewidth": 0,
             "ticks": ""
            },
            "colorscale": [
             [
              0,
              "#0d0887"
             ],
             [
              0.1111111111111111,
              "#46039f"
             ],
             [
              0.2222222222222222,
              "#7201a8"
             ],
             [
              0.3333333333333333,
              "#9c179e"
             ],
             [
              0.4444444444444444,
              "#bd3786"
             ],
             [
              0.5555555555555556,
              "#d8576b"
             ],
             [
              0.6666666666666666,
              "#ed7953"
             ],
             [
              0.7777777777777778,
              "#fb9f3a"
             ],
             [
              0.8888888888888888,
              "#fdca26"
             ],
             [
              1,
              "#f0f921"
             ]
            ],
            "type": "contour"
           }
          ],
          "contourcarpet": [
           {
            "colorbar": {
             "outlinewidth": 0,
             "ticks": ""
            },
            "type": "contourcarpet"
           }
          ],
          "heatmap": [
           {
            "colorbar": {
             "outlinewidth": 0,
             "ticks": ""
            },
            "colorscale": [
             [
              0,
              "#0d0887"
             ],
             [
              0.1111111111111111,
              "#46039f"
             ],
             [
              0.2222222222222222,
              "#7201a8"
             ],
             [
              0.3333333333333333,
              "#9c179e"
             ],
             [
              0.4444444444444444,
              "#bd3786"
             ],
             [
              0.5555555555555556,
              "#d8576b"
             ],
             [
              0.6666666666666666,
              "#ed7953"
             ],
             [
              0.7777777777777778,
              "#fb9f3a"
             ],
             [
              0.8888888888888888,
              "#fdca26"
             ],
             [
              1,
              "#f0f921"
             ]
            ],
            "type": "heatmap"
           }
          ],
          "histogram": [
           {
            "marker": {
             "pattern": {
              "fillmode": "overlay",
              "size": 10,
              "solidity": 0.2
             }
            },
            "type": "histogram"
           }
          ],
          "histogram2d": [
           {
            "colorbar": {
             "outlinewidth": 0,
             "ticks": ""
            },
            "colorscale": [
             [
              0,
              "#0d0887"
             ],
             [
              0.1111111111111111,
              "#46039f"
             ],
             [
              0.2222222222222222,
              "#7201a8"
             ],
             [
              0.3333333333333333,
              "#9c179e"
             ],
             [
              0.4444444444444444,
              "#bd3786"
             ],
             [
              0.5555555555555556,
              "#d8576b"
             ],
             [
              0.6666666666666666,
              "#ed7953"
             ],
             [
              0.7777777777777778,
              "#fb9f3a"
             ],
             [
              0.8888888888888888,
              "#fdca26"
             ],
             [
              1,
              "#f0f921"
             ]
            ],
            "type": "histogram2d"
           }
          ],
          "histogram2dcontour": [
           {
            "colorbar": {
             "outlinewidth": 0,
             "ticks": ""
            },
            "colorscale": [
             [
              0,
              "#0d0887"
             ],
             [
              0.1111111111111111,
              "#46039f"
             ],
             [
              0.2222222222222222,
              "#7201a8"
             ],
             [
              0.3333333333333333,
              "#9c179e"
             ],
             [
              0.4444444444444444,
              "#bd3786"
             ],
             [
              0.5555555555555556,
              "#d8576b"
             ],
             [
              0.6666666666666666,
              "#ed7953"
             ],
             [
              0.7777777777777778,
              "#fb9f3a"
             ],
             [
              0.8888888888888888,
              "#fdca26"
             ],
             [
              1,
              "#f0f921"
             ]
            ],
            "type": "histogram2dcontour"
           }
          ],
          "mesh3d": [
           {
            "colorbar": {
             "outlinewidth": 0,
             "ticks": ""
            },
            "type": "mesh3d"
           }
          ],
          "parcoords": [
           {
            "line": {
             "colorbar": {
              "outlinewidth": 0,
              "ticks": ""
             }
            },
            "type": "parcoords"
           }
          ],
          "pie": [
           {
            "automargin": true,
            "type": "pie"
           }
          ],
          "scatter": [
           {
            "fillpattern": {
             "fillmode": "overlay",
             "size": 10,
             "solidity": 0.2
            },
            "type": "scatter"
           }
          ],
          "scatter3d": [
           {
            "line": {
             "colorbar": {
              "outlinewidth": 0,
              "ticks": ""
             }
            },
            "marker": {
             "colorbar": {
              "outlinewidth": 0,
              "ticks": ""
             }
            },
            "type": "scatter3d"
           }
          ],
          "scattercarpet": [
           {
            "marker": {
             "colorbar": {
              "outlinewidth": 0,
              "ticks": ""
             }
            },
            "type": "scattercarpet"
           }
          ],
          "scattergeo": [
           {
            "marker": {
             "colorbar": {
              "outlinewidth": 0,
              "ticks": ""
             }
            },
            "type": "scattergeo"
           }
          ],
          "scattergl": [
           {
            "marker": {
             "colorbar": {
              "outlinewidth": 0,
              "ticks": ""
             }
            },
            "type": "scattergl"
           }
          ],
          "scattermap": [
           {
            "marker": {
             "colorbar": {
              "outlinewidth": 0,
              "ticks": ""
             }
            },
            "type": "scattermap"
           }
          ],
          "scattermapbox": [
           {
            "marker": {
             "colorbar": {
              "outlinewidth": 0,
              "ticks": ""
             }
            },
            "type": "scattermapbox"
           }
          ],
          "scatterpolar": [
           {
            "marker": {
             "colorbar": {
              "outlinewidth": 0,
              "ticks": ""
             }
            },
            "type": "scatterpolar"
           }
          ],
          "scatterpolargl": [
           {
            "marker": {
             "colorbar": {
              "outlinewidth": 0,
              "ticks": ""
             }
            },
            "type": "scatterpolargl"
           }
          ],
          "scatterternary": [
           {
            "marker": {
             "colorbar": {
              "outlinewidth": 0,
              "ticks": ""
             }
            },
            "type": "scatterternary"
           }
          ],
          "surface": [
           {
            "colorbar": {
             "outlinewidth": 0,
             "ticks": ""
            },
            "colorscale": [
             [
              0,
              "#0d0887"
             ],
             [
              0.1111111111111111,
              "#46039f"
             ],
             [
              0.2222222222222222,
              "#7201a8"
             ],
             [
              0.3333333333333333,
              "#9c179e"
             ],
             [
              0.4444444444444444,
              "#bd3786"
             ],
             [
              0.5555555555555556,
              "#d8576b"
             ],
             [
              0.6666666666666666,
              "#ed7953"
             ],
             [
              0.7777777777777778,
              "#fb9f3a"
             ],
             [
              0.8888888888888888,
              "#fdca26"
             ],
             [
              1,
              "#f0f921"
             ]
            ],
            "type": "surface"
           }
          ],
          "table": [
           {
            "cells": {
             "fill": {
              "color": "#EBF0F8"
             },
             "line": {
              "color": "white"
             }
            },
            "header": {
             "fill": {
              "color": "#C8D4E3"
             },
             "line": {
              "color": "white"
             }
            },
            "type": "table"
           }
          ]
         },
         "layout": {
          "annotationdefaults": {
           "arrowcolor": "#2a3f5f",
           "arrowhead": 0,
           "arrowwidth": 1
          },
          "autotypenumbers": "strict",
          "coloraxis": {
           "colorbar": {
            "outlinewidth": 0,
            "ticks": ""
           }
          },
          "colorscale": {
           "diverging": [
            [
             0,
             "#8e0152"
            ],
            [
             0.1,
             "#c51b7d"
            ],
            [
             0.2,
             "#de77ae"
            ],
            [
             0.3,
             "#f1b6da"
            ],
            [
             0.4,
             "#fde0ef"
            ],
            [
             0.5,
             "#f7f7f7"
            ],
            [
             0.6,
             "#e6f5d0"
            ],
            [
             0.7,
             "#b8e186"
            ],
            [
             0.8,
             "#7fbc41"
            ],
            [
             0.9,
             "#4d9221"
            ],
            [
             1,
             "#276419"
            ]
           ],
           "sequential": [
            [
             0,
             "#0d0887"
            ],
            [
             0.1111111111111111,
             "#46039f"
            ],
            [
             0.2222222222222222,
             "#7201a8"
            ],
            [
             0.3333333333333333,
             "#9c179e"
            ],
            [
             0.4444444444444444,
             "#bd3786"
            ],
            [
             0.5555555555555556,
             "#d8576b"
            ],
            [
             0.6666666666666666,
             "#ed7953"
            ],
            [
             0.7777777777777778,
             "#fb9f3a"
            ],
            [
             0.8888888888888888,
             "#fdca26"
            ],
            [
             1,
             "#f0f921"
            ]
           ],
           "sequentialminus": [
            [
             0,
             "#0d0887"
            ],
            [
             0.1111111111111111,
             "#46039f"
            ],
            [
             0.2222222222222222,
             "#7201a8"
            ],
            [
             0.3333333333333333,
             "#9c179e"
            ],
            [
             0.4444444444444444,
             "#bd3786"
            ],
            [
             0.5555555555555556,
             "#d8576b"
            ],
            [
             0.6666666666666666,
             "#ed7953"
            ],
            [
             0.7777777777777778,
             "#fb9f3a"
            ],
            [
             0.8888888888888888,
             "#fdca26"
            ],
            [
             1,
             "#f0f921"
            ]
           ]
          },
          "colorway": [
           "#636efa",
           "#EF553B",
           "#00cc96",
           "#ab63fa",
           "#FFA15A",
           "#19d3f3",
           "#FF6692",
           "#B6E880",
           "#FF97FF",
           "#FECB52"
          ],
          "font": {
           "color": "#2a3f5f"
          },
          "geo": {
           "bgcolor": "white",
           "lakecolor": "white",
           "landcolor": "#E5ECF6",
           "showlakes": true,
           "showland": true,
           "subunitcolor": "white"
          },
          "hoverlabel": {
           "align": "left"
          },
          "hovermode": "closest",
          "mapbox": {
           "style": "light"
          },
          "paper_bgcolor": "white",
          "plot_bgcolor": "#E5ECF6",
          "polar": {
           "angularaxis": {
            "gridcolor": "white",
            "linecolor": "white",
            "ticks": ""
           },
           "bgcolor": "#E5ECF6",
           "radialaxis": {
            "gridcolor": "white",
            "linecolor": "white",
            "ticks": ""
           }
          },
          "scene": {
           "xaxis": {
            "backgroundcolor": "#E5ECF6",
            "gridcolor": "white",
            "gridwidth": 2,
            "linecolor": "white",
            "showbackground": true,
            "ticks": "",
            "zerolinecolor": "white"
           },
           "yaxis": {
            "backgroundcolor": "#E5ECF6",
            "gridcolor": "white",
            "gridwidth": 2,
            "linecolor": "white",
            "showbackground": true,
            "ticks": "",
            "zerolinecolor": "white"
           },
           "zaxis": {
            "backgroundcolor": "#E5ECF6",
            "gridcolor": "white",
            "gridwidth": 2,
            "linecolor": "white",
            "showbackground": true,
            "ticks": "",
            "zerolinecolor": "white"
           }
          },
          "shapedefaults": {
           "line": {
            "color": "#2a3f5f"
           }
          },
          "ternary": {
           "aaxis": {
            "gridcolor": "white",
            "linecolor": "white",
            "ticks": ""
           },
           "baxis": {
            "gridcolor": "white",
            "linecolor": "white",
            "ticks": ""
           },
           "bgcolor": "#E5ECF6",
           "caxis": {
            "gridcolor": "white",
            "linecolor": "white",
            "ticks": ""
           }
          },
          "title": {
           "x": 0.05
          },
          "xaxis": {
           "automargin": true,
           "gridcolor": "white",
           "linecolor": "white",
           "ticks": "",
           "title": {
            "standoff": 15
           },
           "zerolinecolor": "white",
           "zerolinewidth": 2
          },
          "yaxis": {
           "automargin": true,
           "gridcolor": "white",
           "linecolor": "white",
           "ticks": "",
           "title": {
            "standoff": 15
           },
           "zerolinecolor": "white",
           "zerolinewidth": 2
          }
         }
        },
        "title": {
         "text": "6-Atom Configuration: -12.3029J"
        },
        "width": 600
       }
      }
     },
     "metadata": {},
     "output_type": "display_data"
    },
    {
     "data": {
      "application/vnd.plotly.v1+json": {
       "config": {
        "plotlyServerURL": "https://plot.ly"
       },
       "data": [
        {
         "hoverinfo": "text",
         "hovertext": "Length: 9.94e-01, Contributes -9.98e-01J",
         "line": {
          "color": "rgb(173, 216, 230, 0.4)",
          "width": 8
         },
         "mode": "lines",
         "showlegend": false,
         "type": "scatter3d",
         "x": [
          0,
          -0.8166022723507058
         ],
         "y": [
          0,
          0.3143044906728172
         ],
         "z": [
          0,
          -0.4706171286292892
         ]
        },
        {
         "hoverinfo": "text",
         "hovertext": "Length: 1.00e+00, Contributes -1.00e+00J",
         "line": {
          "color": "rgb(173, 216, 230, 0.4)",
          "width": 8
         },
         "mode": "lines",
         "showlegend": false,
         "type": "scatter3d",
         "x": [
          0,
          -0.6919406661737804
         ],
         "y": [
          0,
          -0.6571538367166213
         ],
         "z": [
          0,
          -0.30379881778735207
         ]
        },
        {
         "hoverinfo": "text",
         "hovertext": "Length: 1.00e+00, Contributes -1.00e+00J",
         "line": {
          "color": "rgb(173, 216, 230, 0.4)",
          "width": 8
         },
         "mode": "lines",
         "showlegend": false,
         "type": "scatter3d",
         "x": [
          0,
          0.061539895976834846
         ],
         "y": [
          0,
          0.7249111397077683
         ],
         "z": [
          0,
          -0.6882134455051345
         ]
        },
        {
         "hoverinfo": "text",
         "hovertext": "Length: 1.62e+00, Contributes -1.07e-01J",
         "line": {
          "color": "rgb(173, 216, 230, 0.4)",
          "width": 8
         },
         "mode": "lines",
         "showlegend": false,
         "type": "scatter3d",
         "x": [
          0,
          -1.0580565132772835
         ],
         "y": [
          0,
          -0.3383608611239389
         ],
         "z": [
          0,
          -1.1797267084546639
         ]
        },
        {
         "hoverinfo": "text",
         "hovertext": "Length: 9.94e-01, Contributes -9.98e-01J",
         "line": {
          "color": "rgb(173, 216, 230, 0.4)",
          "width": 8
         },
         "mode": "lines",
         "showlegend": false,
         "type": "scatter3d",
         "x": [
          0,
          -0.09572208792237402
         ],
         "y": [
          0,
          -0.21621782884533122
         ],
         "z": [
          0,
          -0.96499767185168
         ]
        },
        {
         "hoverinfo": "text",
         "hovertext": "Length: 1.62e+00, Contributes -1.07e-01J",
         "line": {
          "color": "rgb(173, 216, 230, 0.4)",
          "width": 8
         },
         "mode": "lines",
         "showlegend": false,
         "type": "scatter3d",
         "x": [
          0,
          -0.5923754559774186
         ],
         "y": [
          0,
          0.5158043777545537
         ],
         "z": [
          0,
          -1.417303773191417
         ]
        },
        {
         "hoverinfo": "text",
         "hovertext": "Length: 9.94e-01, Contributes -9.98e-01J",
         "line": {
          "color": "rgb(173, 216, 230, 0.4)",
          "width": 8
         },
         "mode": "lines",
         "showlegend": false,
         "type": "scatter3d",
         "x": [
          -0.8166022723507058,
          -0.6919406661737804
         ],
         "y": [
          0.3143044906728172,
          -0.6571538367166213
         ],
         "z": [
          -0.4706171286292892,
          -0.30379881778735207
         ]
        },
        {
         "hoverinfo": "text",
         "hovertext": "Length: 9.94e-01, Contributes -9.98e-01J",
         "line": {
          "color": "rgb(173, 216, 230, 0.4)",
          "width": 8
         },
         "mode": "lines",
         "showlegend": false,
         "type": "scatter3d",
         "x": [
          -0.8166022723507058,
          0.061539895976834846
         ],
         "y": [
          0.3143044906728172,
          0.7249111397077683
         ],
         "z": [
          -0.4706171286292892,
          -0.6882134455051345
         ]
        },
        {
         "hoverinfo": "text",
         "hovertext": "Length: 9.94e-01, Contributes -9.98e-01J",
         "line": {
          "color": "rgb(173, 216, 230, 0.4)",
          "width": 8
         },
         "mode": "lines",
         "showlegend": false,
         "type": "scatter3d",
         "x": [
          -0.8166022723507058,
          -1.0580565132772835
         ],
         "y": [
          0.3143044906728172,
          -0.3383608611239389
         ],
         "z": [
          -0.4706171286292892,
          -1.1797267084546639
         ]
        },
        {
         "hoverinfo": "text",
         "hovertext": "Length: 1.02e+00, Contributes -9.84e-01J",
         "line": {
          "color": "rgb(173, 216, 230, 0.4)",
          "width": 8
         },
         "mode": "lines",
         "showlegend": false,
         "type": "scatter3d",
         "x": [
          -0.8166022723507058,
          -0.09572208792237402
         ],
         "y": [
          0.3143044906728172,
          -0.21621782884533122
         ],
         "z": [
          -0.4706171286292892,
          -0.96499767185168
         ]
        },
        {
         "hoverinfo": "text",
         "hovertext": "Length: 9.94e-01, Contributes -9.98e-01J",
         "line": {
          "color": "rgb(173, 216, 230, 0.4)",
          "width": 8
         },
         "mode": "lines",
         "showlegend": false,
         "type": "scatter3d",
         "x": [
          -0.8166022723507058,
          -0.5923754559774186
         ],
         "y": [
          0.3143044906728172,
          0.5158043777545537
         ],
         "z": [
          -0.4706171286292892,
          -1.417303773191417
         ]
        },
        {
         "hoverinfo": "text",
         "hovertext": "Length: 1.62e+00, Contributes -1.07e-01J",
         "line": {
          "color": "rgb(173, 216, 230, 0.4)",
          "width": 8
         },
         "mode": "lines",
         "showlegend": false,
         "type": "scatter3d",
         "x": [
          -0.6919406661737804,
          0.061539895976834846
         ],
         "y": [
          -0.6571538367166213,
          0.7249111397077683
         ],
         "z": [
          -0.30379881778735207,
          -0.6882134455051345
         ]
        },
        {
         "hoverinfo": "text",
         "hovertext": "Length: 1.00e+00, Contributes -1.00e+00J",
         "line": {
          "color": "rgb(173, 216, 230, 0.4)",
          "width": 8
         },
         "mode": "lines",
         "showlegend": false,
         "type": "scatter3d",
         "x": [
          -0.6919406661737804,
          -1.0580565132772835
         ],
         "y": [
          -0.6571538367166213,
          -0.3383608611239389
         ],
         "z": [
          -0.30379881778735207,
          -1.1797267084546639
         ]
        },
        {
         "hoverinfo": "text",
         "hovertext": "Length: 9.94e-01, Contributes -9.98e-01J",
         "line": {
          "color": "rgb(173, 216, 230, 0.4)",
          "width": 8
         },
         "mode": "lines",
         "showlegend": false,
         "type": "scatter3d",
         "x": [
          -0.6919406661737804,
          -0.09572208792237402
         ],
         "y": [
          -0.6571538367166213,
          -0.21621782884533122
         ],
         "z": [
          -0.30379881778735207,
          -0.96499767185168
         ]
        },
        {
         "hoverinfo": "text",
         "hovertext": "Length: 1.62e+00, Contributes -1.07e-01J",
         "line": {
          "color": "rgb(173, 216, 230, 0.4)",
          "width": 8
         },
         "mode": "lines",
         "showlegend": false,
         "type": "scatter3d",
         "x": [
          -0.6919406661737804,
          -0.5923754559774186
         ],
         "y": [
          -0.6571538367166213,
          0.5158043777545537
         ],
         "z": [
          -0.30379881778735207,
          -1.417303773191417
         ]
        },
        {
         "hoverinfo": "text",
         "hovertext": "Length: 1.62e+00, Contributes -1.07e-01J",
         "line": {
          "color": "rgb(173, 216, 230, 0.4)",
          "width": 8
         },
         "mode": "lines",
         "showlegend": false,
         "type": "scatter3d",
         "x": [
          0.061539895976834846,
          -1.0580565132772835
         ],
         "y": [
          0.7249111397077683,
          -0.3383608611239389
         ],
         "z": [
          -0.6882134455051345,
          -1.1797267084546639
         ]
        },
        {
         "hoverinfo": "text",
         "hovertext": "Length: 9.94e-01, Contributes -9.98e-01J",
         "line": {
          "color": "rgb(173, 216, 230, 0.4)",
          "width": 8
         },
         "mode": "lines",
         "showlegend": false,
         "type": "scatter3d",
         "x": [
          0.061539895976834846,
          -0.09572208792237402
         ],
         "y": [
          0.7249111397077683,
          -0.21621782884533122
         ],
         "z": [
          -0.6882134455051345,
          -0.96499767185168
         ]
        },
        {
         "hoverinfo": "text",
         "hovertext": "Length: 1.00e+00, Contributes -1.00e+00J",
         "line": {
          "color": "rgb(173, 216, 230, 0.4)",
          "width": 8
         },
         "mode": "lines",
         "showlegend": false,
         "type": "scatter3d",
         "x": [
          0.061539895976834846,
          -0.5923754559774186
         ],
         "y": [
          0.7249111397077683,
          0.5158043777545537
         ],
         "z": [
          -0.6882134455051345,
          -1.417303773191417
         ]
        },
        {
         "hoverinfo": "text",
         "hovertext": "Length: 9.94e-01, Contributes -9.98e-01J",
         "line": {
          "color": "rgb(173, 216, 230, 0.4)",
          "width": 8
         },
         "mode": "lines",
         "showlegend": false,
         "type": "scatter3d",
         "x": [
          -1.0580565132772835,
          -0.09572208792237402
         ],
         "y": [
          -0.3383608611239389,
          -0.21621782884533122
         ],
         "z": [
          -1.1797267084546639,
          -0.96499767185168
         ]
        },
        {
         "hoverinfo": "text",
         "hovertext": "Length: 1.00e+00, Contributes -1.00e+00J",
         "line": {
          "color": "rgb(173, 216, 230, 0.4)",
          "width": 8
         },
         "mode": "lines",
         "showlegend": false,
         "type": "scatter3d",
         "x": [
          -1.0580565132772835,
          -0.5923754559774186
         ],
         "y": [
          -0.3383608611239389,
          0.5158043777545537
         ],
         "z": [
          -1.1797267084546639,
          -1.417303773191417
         ]
        },
        {
         "hoverinfo": "text",
         "hovertext": "Length: 9.94e-01, Contributes -9.98e-01J",
         "line": {
          "color": "rgb(173, 216, 230, 0.4)",
          "width": 8
         },
         "mode": "lines",
         "showlegend": false,
         "type": "scatter3d",
         "x": [
          -0.09572208792237402,
          -0.5923754559774186
         ],
         "y": [
          -0.21621782884533122,
          0.5158043777545537
         ],
         "z": [
          -0.96499767185168,
          -1.417303773191417
         ]
        },
        {
         "hovertext": [
          "Point 1",
          "Point 2",
          "Point 3",
          "Point 4",
          "Point 5",
          "Point 6",
          "Point 7"
         ],
         "marker": {
          "color": "red",
          "size": 8
         },
         "mode": "markers",
         "showlegend": false,
         "type": "scatter3d",
         "x": {
          "bdata": "AAAAAAAAAAD2vLIWmyHqv5Skf8BgJOa/kE89QSiCrz8UiJ2qzO3wv5ilISU+gbi/BAlMX7304r8=",
          "dtype": "f8"
         },
         "y": {
          "bdata": "AAAAAAAAAAB0PhuVkB3UPydxpHtnB+W/ZqGx2Hgy5z+OhDFQtKfVvxv22ZsGrcu/rdyyLniB4D8=",
          "dtype": "f8"
         },
         "z": {
          "bdata": "AAAAAAAAAAA/nRlOlx7ev/ByvZhwcdO/wpUjNNgF5r/2fPAcKeDyvxw2KsxC4e6/MKyluEat9r8=",
          "dtype": "f8"
         }
        }
       ],
       "layout": {
        "height": 400,
        "paper_bgcolor": "rgba(0,0,0,0)",
        "plot_bgcolor": "rgba(0,0,0,0)",
        "scene": {
         "xaxis": {
          "showgrid": false,
          "showticklabels": false,
          "title": {
           "text": ""
          },
          "visible": false,
          "zeroline": false
         },
         "yaxis": {
          "showgrid": false,
          "showticklabels": false,
          "title": {
           "text": ""
          },
          "visible": false,
          "zeroline": false
         },
         "zaxis": {
          "showgrid": false,
          "showticklabels": false,
          "title": {
           "text": ""
          },
          "visible": false,
          "zeroline": false
         }
        },
        "template": {
         "data": {
          "bar": [
           {
            "error_x": {
             "color": "#2a3f5f"
            },
            "error_y": {
             "color": "#2a3f5f"
            },
            "marker": {
             "line": {
              "color": "#E5ECF6",
              "width": 0.5
             },
             "pattern": {
              "fillmode": "overlay",
              "size": 10,
              "solidity": 0.2
             }
            },
            "type": "bar"
           }
          ],
          "barpolar": [
           {
            "marker": {
             "line": {
              "color": "#E5ECF6",
              "width": 0.5
             },
             "pattern": {
              "fillmode": "overlay",
              "size": 10,
              "solidity": 0.2
             }
            },
            "type": "barpolar"
           }
          ],
          "carpet": [
           {
            "aaxis": {
             "endlinecolor": "#2a3f5f",
             "gridcolor": "white",
             "linecolor": "white",
             "minorgridcolor": "white",
             "startlinecolor": "#2a3f5f"
            },
            "baxis": {
             "endlinecolor": "#2a3f5f",
             "gridcolor": "white",
             "linecolor": "white",
             "minorgridcolor": "white",
             "startlinecolor": "#2a3f5f"
            },
            "type": "carpet"
           }
          ],
          "choropleth": [
           {
            "colorbar": {
             "outlinewidth": 0,
             "ticks": ""
            },
            "type": "choropleth"
           }
          ],
          "contour": [
           {
            "colorbar": {
             "outlinewidth": 0,
             "ticks": ""
            },
            "colorscale": [
             [
              0,
              "#0d0887"
             ],
             [
              0.1111111111111111,
              "#46039f"
             ],
             [
              0.2222222222222222,
              "#7201a8"
             ],
             [
              0.3333333333333333,
              "#9c179e"
             ],
             [
              0.4444444444444444,
              "#bd3786"
             ],
             [
              0.5555555555555556,
              "#d8576b"
             ],
             [
              0.6666666666666666,
              "#ed7953"
             ],
             [
              0.7777777777777778,
              "#fb9f3a"
             ],
             [
              0.8888888888888888,
              "#fdca26"
             ],
             [
              1,
              "#f0f921"
             ]
            ],
            "type": "contour"
           }
          ],
          "contourcarpet": [
           {
            "colorbar": {
             "outlinewidth": 0,
             "ticks": ""
            },
            "type": "contourcarpet"
           }
          ],
          "heatmap": [
           {
            "colorbar": {
             "outlinewidth": 0,
             "ticks": ""
            },
            "colorscale": [
             [
              0,
              "#0d0887"
             ],
             [
              0.1111111111111111,
              "#46039f"
             ],
             [
              0.2222222222222222,
              "#7201a8"
             ],
             [
              0.3333333333333333,
              "#9c179e"
             ],
             [
              0.4444444444444444,
              "#bd3786"
             ],
             [
              0.5555555555555556,
              "#d8576b"
             ],
             [
              0.6666666666666666,
              "#ed7953"
             ],
             [
              0.7777777777777778,
              "#fb9f3a"
             ],
             [
              0.8888888888888888,
              "#fdca26"
             ],
             [
              1,
              "#f0f921"
             ]
            ],
            "type": "heatmap"
           }
          ],
          "histogram": [
           {
            "marker": {
             "pattern": {
              "fillmode": "overlay",
              "size": 10,
              "solidity": 0.2
             }
            },
            "type": "histogram"
           }
          ],
          "histogram2d": [
           {
            "colorbar": {
             "outlinewidth": 0,
             "ticks": ""
            },
            "colorscale": [
             [
              0,
              "#0d0887"
             ],
             [
              0.1111111111111111,
              "#46039f"
             ],
             [
              0.2222222222222222,
              "#7201a8"
             ],
             [
              0.3333333333333333,
              "#9c179e"
             ],
             [
              0.4444444444444444,
              "#bd3786"
             ],
             [
              0.5555555555555556,
              "#d8576b"
             ],
             [
              0.6666666666666666,
              "#ed7953"
             ],
             [
              0.7777777777777778,
              "#fb9f3a"
             ],
             [
              0.8888888888888888,
              "#fdca26"
             ],
             [
              1,
              "#f0f921"
             ]
            ],
            "type": "histogram2d"
           }
          ],
          "histogram2dcontour": [
           {
            "colorbar": {
             "outlinewidth": 0,
             "ticks": ""
            },
            "colorscale": [
             [
              0,
              "#0d0887"
             ],
             [
              0.1111111111111111,
              "#46039f"
             ],
             [
              0.2222222222222222,
              "#7201a8"
             ],
             [
              0.3333333333333333,
              "#9c179e"
             ],
             [
              0.4444444444444444,
              "#bd3786"
             ],
             [
              0.5555555555555556,
              "#d8576b"
             ],
             [
              0.6666666666666666,
              "#ed7953"
             ],
             [
              0.7777777777777778,
              "#fb9f3a"
             ],
             [
              0.8888888888888888,
              "#fdca26"
             ],
             [
              1,
              "#f0f921"
             ]
            ],
            "type": "histogram2dcontour"
           }
          ],
          "mesh3d": [
           {
            "colorbar": {
             "outlinewidth": 0,
             "ticks": ""
            },
            "type": "mesh3d"
           }
          ],
          "parcoords": [
           {
            "line": {
             "colorbar": {
              "outlinewidth": 0,
              "ticks": ""
             }
            },
            "type": "parcoords"
           }
          ],
          "pie": [
           {
            "automargin": true,
            "type": "pie"
           }
          ],
          "scatter": [
           {
            "fillpattern": {
             "fillmode": "overlay",
             "size": 10,
             "solidity": 0.2
            },
            "type": "scatter"
           }
          ],
          "scatter3d": [
           {
            "line": {
             "colorbar": {
              "outlinewidth": 0,
              "ticks": ""
             }
            },
            "marker": {
             "colorbar": {
              "outlinewidth": 0,
              "ticks": ""
             }
            },
            "type": "scatter3d"
           }
          ],
          "scattercarpet": [
           {
            "marker": {
             "colorbar": {
              "outlinewidth": 0,
              "ticks": ""
             }
            },
            "type": "scattercarpet"
           }
          ],
          "scattergeo": [
           {
            "marker": {
             "colorbar": {
              "outlinewidth": 0,
              "ticks": ""
             }
            },
            "type": "scattergeo"
           }
          ],
          "scattergl": [
           {
            "marker": {
             "colorbar": {
              "outlinewidth": 0,
              "ticks": ""
             }
            },
            "type": "scattergl"
           }
          ],
          "scattermap": [
           {
            "marker": {
             "colorbar": {
              "outlinewidth": 0,
              "ticks": ""
             }
            },
            "type": "scattermap"
           }
          ],
          "scattermapbox": [
           {
            "marker": {
             "colorbar": {
              "outlinewidth": 0,
              "ticks": ""
             }
            },
            "type": "scattermapbox"
           }
          ],
          "scatterpolar": [
           {
            "marker": {
             "colorbar": {
              "outlinewidth": 0,
              "ticks": ""
             }
            },
            "type": "scatterpolar"
           }
          ],
          "scatterpolargl": [
           {
            "marker": {
             "colorbar": {
              "outlinewidth": 0,
              "ticks": ""
             }
            },
            "type": "scatterpolargl"
           }
          ],
          "scatterternary": [
           {
            "marker": {
             "colorbar": {
              "outlinewidth": 0,
              "ticks": ""
             }
            },
            "type": "scatterternary"
           }
          ],
          "surface": [
           {
            "colorbar": {
             "outlinewidth": 0,
             "ticks": ""
            },
            "colorscale": [
             [
              0,
              "#0d0887"
             ],
             [
              0.1111111111111111,
              "#46039f"
             ],
             [
              0.2222222222222222,
              "#7201a8"
             ],
             [
              0.3333333333333333,
              "#9c179e"
             ],
             [
              0.4444444444444444,
              "#bd3786"
             ],
             [
              0.5555555555555556,
              "#d8576b"
             ],
             [
              0.6666666666666666,
              "#ed7953"
             ],
             [
              0.7777777777777778,
              "#fb9f3a"
             ],
             [
              0.8888888888888888,
              "#fdca26"
             ],
             [
              1,
              "#f0f921"
             ]
            ],
            "type": "surface"
           }
          ],
          "table": [
           {
            "cells": {
             "fill": {
              "color": "#EBF0F8"
             },
             "line": {
              "color": "white"
             }
            },
            "header": {
             "fill": {
              "color": "#C8D4E3"
             },
             "line": {
              "color": "white"
             }
            },
            "type": "table"
           }
          ]
         },
         "layout": {
          "annotationdefaults": {
           "arrowcolor": "#2a3f5f",
           "arrowhead": 0,
           "arrowwidth": 1
          },
          "autotypenumbers": "strict",
          "coloraxis": {
           "colorbar": {
            "outlinewidth": 0,
            "ticks": ""
           }
          },
          "colorscale": {
           "diverging": [
            [
             0,
             "#8e0152"
            ],
            [
             0.1,
             "#c51b7d"
            ],
            [
             0.2,
             "#de77ae"
            ],
            [
             0.3,
             "#f1b6da"
            ],
            [
             0.4,
             "#fde0ef"
            ],
            [
             0.5,
             "#f7f7f7"
            ],
            [
             0.6,
             "#e6f5d0"
            ],
            [
             0.7,
             "#b8e186"
            ],
            [
             0.8,
             "#7fbc41"
            ],
            [
             0.9,
             "#4d9221"
            ],
            [
             1,
             "#276419"
            ]
           ],
           "sequential": [
            [
             0,
             "#0d0887"
            ],
            [
             0.1111111111111111,
             "#46039f"
            ],
            [
             0.2222222222222222,
             "#7201a8"
            ],
            [
             0.3333333333333333,
             "#9c179e"
            ],
            [
             0.4444444444444444,
             "#bd3786"
            ],
            [
             0.5555555555555556,
             "#d8576b"
            ],
            [
             0.6666666666666666,
             "#ed7953"
            ],
            [
             0.7777777777777778,
             "#fb9f3a"
            ],
            [
             0.8888888888888888,
             "#fdca26"
            ],
            [
             1,
             "#f0f921"
            ]
           ],
           "sequentialminus": [
            [
             0,
             "#0d0887"
            ],
            [
             0.1111111111111111,
             "#46039f"
            ],
            [
             0.2222222222222222,
             "#7201a8"
            ],
            [
             0.3333333333333333,
             "#9c179e"
            ],
            [
             0.4444444444444444,
             "#bd3786"
            ],
            [
             0.5555555555555556,
             "#d8576b"
            ],
            [
             0.6666666666666666,
             "#ed7953"
            ],
            [
             0.7777777777777778,
             "#fb9f3a"
            ],
            [
             0.8888888888888888,
             "#fdca26"
            ],
            [
             1,
             "#f0f921"
            ]
           ]
          },
          "colorway": [
           "#636efa",
           "#EF553B",
           "#00cc96",
           "#ab63fa",
           "#FFA15A",
           "#19d3f3",
           "#FF6692",
           "#B6E880",
           "#FF97FF",
           "#FECB52"
          ],
          "font": {
           "color": "#2a3f5f"
          },
          "geo": {
           "bgcolor": "white",
           "lakecolor": "white",
           "landcolor": "#E5ECF6",
           "showlakes": true,
           "showland": true,
           "subunitcolor": "white"
          },
          "hoverlabel": {
           "align": "left"
          },
          "hovermode": "closest",
          "mapbox": {
           "style": "light"
          },
          "paper_bgcolor": "white",
          "plot_bgcolor": "#E5ECF6",
          "polar": {
           "angularaxis": {
            "gridcolor": "white",
            "linecolor": "white",
            "ticks": ""
           },
           "bgcolor": "#E5ECF6",
           "radialaxis": {
            "gridcolor": "white",
            "linecolor": "white",
            "ticks": ""
           }
          },
          "scene": {
           "xaxis": {
            "backgroundcolor": "#E5ECF6",
            "gridcolor": "white",
            "gridwidth": 2,
            "linecolor": "white",
            "showbackground": true,
            "ticks": "",
            "zerolinecolor": "white"
           },
           "yaxis": {
            "backgroundcolor": "#E5ECF6",
            "gridcolor": "white",
            "gridwidth": 2,
            "linecolor": "white",
            "showbackground": true,
            "ticks": "",
            "zerolinecolor": "white"
           },
           "zaxis": {
            "backgroundcolor": "#E5ECF6",
            "gridcolor": "white",
            "gridwidth": 2,
            "linecolor": "white",
            "showbackground": true,
            "ticks": "",
            "zerolinecolor": "white"
           }
          },
          "shapedefaults": {
           "line": {
            "color": "#2a3f5f"
           }
          },
          "ternary": {
           "aaxis": {
            "gridcolor": "white",
            "linecolor": "white",
            "ticks": ""
           },
           "baxis": {
            "gridcolor": "white",
            "linecolor": "white",
            "ticks": ""
           },
           "bgcolor": "#E5ECF6",
           "caxis": {
            "gridcolor": "white",
            "linecolor": "white",
            "ticks": ""
           }
          },
          "title": {
           "x": 0.05
          },
          "xaxis": {
           "automargin": true,
           "gridcolor": "white",
           "linecolor": "white",
           "ticks": "",
           "title": {
            "standoff": 15
           },
           "zerolinecolor": "white",
           "zerolinewidth": 2
          },
          "yaxis": {
           "automargin": true,
           "gridcolor": "white",
           "linecolor": "white",
           "ticks": "",
           "title": {
            "standoff": 15
           },
           "zerolinecolor": "white",
           "zerolinewidth": 2
          }
         }
        },
        "title": {
         "text": "7-Atom Configuration: -16.5054J"
        },
        "width": 600
       }
      }
     },
     "metadata": {},
     "output_type": "display_data"
    },
    {
     "data": {
      "application/vnd.plotly.v1+json": {
       "config": {
        "plotlyServerURL": "https://plot.ly"
       },
       "data": [
        {
         "hoverinfo": "text",
         "hovertext": "Length: 9.92e-01, Contributes -9.98e-01J",
         "line": {
          "color": "rgb(173, 216, 230, 0.4)",
          "width": 8
         },
         "mode": "lines",
         "showlegend": false,
         "type": "scatter3d",
         "x": [
          0,
          -0.8367162781864415
         ],
         "y": [
          0,
          0.39539220774816414
         ],
         "z": [
          0,
          -0.35822181529499564
         ]
        },
        {
         "hoverinfo": "text",
         "hovertext": "Length: 9.97e-01, Contributes -1.00e+00J",
         "line": {
          "color": "rgb(173, 216, 230, 0.4)",
          "width": 8
         },
         "mode": "lines",
         "showlegend": false,
         "type": "scatter3d",
         "x": [
          0,
          -0.6412667104964607
         ],
         "y": [
          0,
          -0.5578489174205545
         ],
         "z": [
          0,
          -0.5219125435517311
         ]
        },
        {
         "hoverinfo": "text",
         "hovertext": "Length: 9.99e-01, Contributes -1.00e+00J",
         "line": {
          "color": "rgb(173, 216, 230, 0.4)",
          "width": 8
         },
         "mode": "lines",
         "showlegend": false,
         "type": "scatter3d",
         "x": [
          0,
          0.038712473312898954
         ],
         "y": [
          0,
          0.7799648187684232
         ],
         "z": [
          0,
          -0.623578757072891
         ]
        },
        {
         "hoverinfo": "text",
         "hovertext": "Length: 1.72e+00, Contributes -7.65e-02J",
         "line": {
          "color": "rgb(173, 216, 230, 0.4)",
          "width": 8
         },
         "mode": "lines",
         "showlegend": false,
         "type": "scatter3d",
         "x": [
          0,
          -1.3698622779142504
         ],
         "y": [
          0,
          -0.1145712199161693
         ],
         "z": [
          0,
          -1.0292730616042822
         ]
        },
        {
         "hoverinfo": "text",
         "hovertext": "Length: 9.92e-01, Contributes -9.98e-01J",
         "line": {
          "color": "rgb(173, 216, 230, 0.4)",
          "width": 8
         },
         "mode": "lines",
         "showlegend": false,
         "type": "scatter3d",
         "x": [
          0,
          0.13278510865731386
         ],
         "y": [
          0,
          -0.14408775489364903
         ],
         "z": [
          0,
          -0.9728102797380315
         ]
        },
        {
         "hoverinfo": "text",
         "hovertext": "Length: 1.50e+00, Contributes -1.65e-01J",
         "line": {
          "color": "rgb(173, 216, 230, 0.4)",
          "width": 8
         },
         "mode": "lines",
         "showlegend": false,
         "type": "scatter3d",
         "x": [
          0,
          -0.5920984383779025
         ],
         "y": [
          0,
          0.43228351709932106
         ],
         "z": [
          0,
          -1.3134787615116894
         ]
        },
        {
         "hoverinfo": "text",
         "hovertext": "Length: 1.72e+00, Contributes -7.65e-02J",
         "line": {
          "color": "rgb(173, 216, 230, 0.4)",
          "width": 8
         },
         "mode": "lines",
         "showlegend": false,
         "type": "scatter3d",
         "x": [
          0,
          -0.6060501432446106
         ],
         "y": [
          0,
          -0.5395949053114621
         ],
         "z": [
          0,
          -1.5134709970720537
         ]
        },
        {
         "hoverinfo": "text",
         "hovertext": "Length: 9.87e-01, Contributes -9.93e-01J",
         "line": {
          "color": "rgb(173, 216, 230, 0.4)",
          "width": 8
         },
         "mode": "lines",
         "showlegend": false,
         "type": "scatter3d",
         "x": [
          -0.8367162781864415,
          -0.6412667104964607
         ],
         "y": [
          0.39539220774816414,
          -0.5578489174205545
         ],
         "z": [
          -0.35822181529499564,
          -0.5219125435517311
         ]
        },
        {
         "hoverinfo": "text",
         "hovertext": "Length: 9.92e-01, Contributes -9.98e-01J",
         "line": {
          "color": "rgb(173, 216, 230, 0.4)",
          "width": 8
         },
         "mode": "lines",
         "showlegend": false,
         "type": "scatter3d",
         "x": [
          -0.8367162781864415,
          0.038712473312898954
         ],
         "y": [
          0.39539220774816414,
          0.7799648187684232
         ],
         "z": [
          -0.35822181529499564,
          -0.623578757072891
         ]
        },
        {
         "hoverinfo": "text",
         "hovertext": "Length: 9.97e-01, Contributes -1.00e+00J",
         "line": {
          "color": "rgb(173, 216, 230, 0.4)",
          "width": 8
         },
         "mode": "lines",
         "showlegend": false,
         "type": "scatter3d",
         "x": [
          -0.8367162781864415,
          -1.3698622779142504
         ],
         "y": [
          0.39539220774816414,
          -0.1145712199161693
         ],
         "z": [
          -0.35822181529499564,
          -1.0292730616042822
         ]
        },
        {
         "hoverinfo": "text",
         "hovertext": "Length: 1.27e+00, Contributes -4.23e-01J",
         "line": {
          "color": "rgb(173, 216, 230, 0.4)",
          "width": 8
         },
         "mode": "lines",
         "showlegend": false,
         "type": "scatter3d",
         "x": [
          -0.8367162781864415,
          0.13278510865731386
         ],
         "y": [
          0.39539220774816414,
          -0.14408775489364903
         ],
         "z": [
          -0.35822181529499564,
          -0.9728102797380315
         ]
        },
        {
         "hoverinfo": "text",
         "hovertext": "Length: 9.87e-01, Contributes -9.93e-01J",
         "line": {
          "color": "rgb(173, 216, 230, 0.4)",
          "width": 8
         },
         "mode": "lines",
         "showlegend": false,
         "type": "scatter3d",
         "x": [
          -0.8367162781864415,
          -0.5920984383779025
         ],
         "y": [
          0.39539220774816414,
          0.43228351709932106
         ],
         "z": [
          -0.35822181529499564,
          -1.3134787615116894
         ]
        },
        {
         "hoverinfo": "text",
         "hovertext": "Length: 1.50e+00, Contributes -1.65e-01J",
         "line": {
          "color": "rgb(173, 216, 230, 0.4)",
          "width": 8
         },
         "mode": "lines",
         "showlegend": false,
         "type": "scatter3d",
         "x": [
          -0.8367162781864415,
          -0.6060501432446106
         ],
         "y": [
          0.39539220774816414,
          -0.5395949053114621
         ],
         "z": [
          -0.35822181529499564,
          -1.5134709970720537
         ]
        },
        {
         "hoverinfo": "text",
         "hovertext": "Length: 1.50e+00, Contributes -1.65e-01J",
         "line": {
          "color": "rgb(173, 216, 230, 0.4)",
          "width": 8
         },
         "mode": "lines",
         "showlegend": false,
         "type": "scatter3d",
         "x": [
          -0.6412667104964607,
          0.038712473312898954
         ],
         "y": [
          -0.5578489174205545,
          0.7799648187684232
         ],
         "z": [
          -0.5219125435517311,
          -0.623578757072891
         ]
        },
        {
         "hoverinfo": "text",
         "hovertext": "Length: 9.92e-01, Contributes -9.98e-01J",
         "line": {
          "color": "rgb(173, 216, 230, 0.4)",
          "width": 8
         },
         "mode": "lines",
         "showlegend": false,
         "type": "scatter3d",
         "x": [
          -0.6412667104964607,
          -1.3698622779142504
         ],
         "y": [
          -0.5578489174205545,
          -0.1145712199161693
         ],
         "z": [
          -0.5219125435517311,
          -1.0292730616042822
         ]
        },
        {
         "hoverinfo": "text",
         "hovertext": "Length: 9.87e-01, Contributes -9.93e-01J",
         "line": {
          "color": "rgb(173, 216, 230, 0.4)",
          "width": 8
         },
         "mode": "lines",
         "showlegend": false,
         "type": "scatter3d",
         "x": [
          -0.6412667104964607,
          0.13278510865731386
         ],
         "y": [
          -0.5578489174205545,
          -0.14408775489364903
         ],
         "z": [
          -0.5219125435517311,
          -0.9728102797380315
         ]
        },
        {
         "hoverinfo": "text",
         "hovertext": "Length: 1.27e+00, Contributes -4.22e-01J",
         "line": {
          "color": "rgb(173, 216, 230, 0.4)",
          "width": 8
         },
         "mode": "lines",
         "showlegend": false,
         "type": "scatter3d",
         "x": [
          -0.6412667104964607,
          -0.5920984383779025
         ],
         "y": [
          -0.5578489174205545,
          0.43228351709932106
         ],
         "z": [
          -0.5219125435517311,
          -1.3134787615116894
         ]
        },
        {
         "hoverinfo": "text",
         "hovertext": "Length: 9.92e-01, Contributes -9.98e-01J",
         "line": {
          "color": "rgb(173, 216, 230, 0.4)",
          "width": 8
         },
         "mode": "lines",
         "showlegend": false,
         "type": "scatter3d",
         "x": [
          -0.6412667104964607,
          -0.6060501432446106
         ],
         "y": [
          -0.5578489174205545,
          -0.5395949053114621
         ],
         "z": [
          -0.5219125435517311,
          -1.5134709970720537
         ]
        },
        {
         "hoverinfo": "text",
         "hovertext": "Length: 1.72e+00, Contributes -7.65e-02J",
         "line": {
          "color": "rgb(173, 216, 230, 0.4)",
          "width": 8
         },
         "mode": "lines",
         "showlegend": false,
         "type": "scatter3d",
         "x": [
          0.038712473312898954,
          -1.3698622779142504
         ],
         "y": [
          0.7799648187684232,
          -0.1145712199161693
         ],
         "z": [
          -0.623578757072891,
          -1.0292730616042822
         ]
        },
        {
         "hoverinfo": "text",
         "hovertext": "Length: 9.92e-01, Contributes -9.98e-01J",
         "line": {
          "color": "rgb(173, 216, 230, 0.4)",
          "width": 8
         },
         "mode": "lines",
         "showlegend": false,
         "type": "scatter3d",
         "x": [
          0.038712473312898954,
          0.13278510865731386
         ],
         "y": [
          0.7799648187684232,
          -0.14408775489364903
         ],
         "z": [
          -0.623578757072891,
          -0.9728102797380315
         ]
        },
        {
         "hoverinfo": "text",
         "hovertext": "Length: 9.97e-01, Contributes -1.00e+00J",
         "line": {
          "color": "rgb(173, 216, 230, 0.4)",
          "width": 8
         },
         "mode": "lines",
         "showlegend": false,
         "type": "scatter3d",
         "x": [
          0.038712473312898954,
          -0.5920984383779025
         ],
         "y": [
          0.7799648187684232,
          0.43228351709932106
         ],
         "z": [
          -0.623578757072891,
          -1.3134787615116894
         ]
        },
        {
         "hoverinfo": "text",
         "hovertext": "Length: 1.72e+00, Contributes -7.65e-02J",
         "line": {
          "color": "rgb(173, 216, 230, 0.4)",
          "width": 8
         },
         "mode": "lines",
         "showlegend": false,
         "type": "scatter3d",
         "x": [
          0.038712473312898954,
          -0.6060501432446106
         ],
         "y": [
          0.7799648187684232,
          -0.5395949053114621
         ],
         "z": [
          -0.623578757072891,
          -1.5134709970720537
         ]
        },
        {
         "hoverinfo": "text",
         "hovertext": "Length: 1.50e+00, Contributes -1.65e-01J",
         "line": {
          "color": "rgb(173, 216, 230, 0.4)",
          "width": 8
         },
         "mode": "lines",
         "showlegend": false,
         "type": "scatter3d",
         "x": [
          -1.3698622779142504,
          0.13278510865731386
         ],
         "y": [
          -0.1145712199161693,
          -0.14408775489364903
         ],
         "z": [
          -1.0292730616042822,
          -0.9728102797380315
         ]
        },
        {
         "hoverinfo": "text",
         "hovertext": "Length: 9.92e-01, Contributes -9.98e-01J",
         "line": {
          "color": "rgb(173, 216, 230, 0.4)",
          "width": 8
         },
         "mode": "lines",
         "showlegend": false,
         "type": "scatter3d",
         "x": [
          -1.3698622779142504,
          -0.5920984383779025
         ],
         "y": [
          -0.1145712199161693,
          0.43228351709932106
         ],
         "z": [
          -1.0292730616042822,
          -1.3134787615116894
         ]
        },
        {
         "hoverinfo": "text",
         "hovertext": "Length: 9.99e-01, Contributes -1.00e+00J",
         "line": {
          "color": "rgb(173, 216, 230, 0.4)",
          "width": 8
         },
         "mode": "lines",
         "showlegend": false,
         "type": "scatter3d",
         "x": [
          -1.3698622779142504,
          -0.6060501432446106
         ],
         "y": [
          -0.1145712199161693,
          -0.5395949053114621
         ],
         "z": [
          -1.0292730616042822,
          -1.5134709970720537
         ]
        },
        {
         "hoverinfo": "text",
         "hovertext": "Length: 9.87e-01, Contributes -9.93e-01J",
         "line": {
          "color": "rgb(173, 216, 230, 0.4)",
          "width": 8
         },
         "mode": "lines",
         "showlegend": false,
         "type": "scatter3d",
         "x": [
          0.13278510865731386,
          -0.5920984383779025
         ],
         "y": [
          -0.14408775489364903,
          0.43228351709932106
         ],
         "z": [
          -0.9728102797380315,
          -1.3134787615116894
         ]
        },
        {
         "hoverinfo": "text",
         "hovertext": "Length: 9.97e-01, Contributes -1.00e+00J",
         "line": {
          "color": "rgb(173, 216, 230, 0.4)",
          "width": 8
         },
         "mode": "lines",
         "showlegend": false,
         "type": "scatter3d",
         "x": [
          0.13278510865731386,
          -0.6060501432446106
         ],
         "y": [
          -0.14408775489364903,
          -0.5395949053114621
         ],
         "z": [
          -0.9728102797380315,
          -1.5134709970720537
         ]
        },
        {
         "hoverinfo": "text",
         "hovertext": "Length: 9.92e-01, Contributes -9.98e-01J",
         "line": {
          "color": "rgb(173, 216, 230, 0.4)",
          "width": 8
         },
         "mode": "lines",
         "showlegend": false,
         "type": "scatter3d",
         "x": [
          -0.5920984383779025,
          -0.6060501432446106
         ],
         "y": [
          0.43228351709932106,
          -0.5395949053114621
         ],
         "z": [
          -1.3134787615116894,
          -1.5134709970720537
         ]
        },
        {
         "hovertext": [
          "Point 1",
          "Point 2",
          "Point 3",
          "Point 4",
          "Point 5",
          "Point 6",
          "Point 7",
          "Point 8"
         ],
         "marker": {
          "color": "red",
          "size": 8
         },
         "mode": "markers",
         "showlegend": false,
         "type": "scatter3d",
         "x": {
          "bdata": "AAAAAAAAAABs7lo3Ycbqv8gQs8NBheS/QACnDR/Soz/9pjq19Or1v6wbijka/8A/fRCbbHjy4r9QGB9Fw2Tjvw==",
          "dtype": "f8"
         },
         "y": {
          "bdata": "AAAAAAAAAABXyFceG07ZP+jEDfnl2eG/noKUx3j16D8zT5oailS9v0nagrF3ccK/96YifIiq2z+O1OyIXEThvw==",
          "dtype": "f8"
         },
         "z": {
          "bdata": "AAAAAAAAAAD091kxG+3Wv9ioPe+Bs+C/+ncDcFv0478v6KMH53fwv6X/FQZDIe+/we5KTgIE9b9a5z1dLTf4vw==",
          "dtype": "f8"
         }
        }
       ],
       "layout": {
        "height": 400,
        "paper_bgcolor": "rgba(0,0,0,0)",
        "plot_bgcolor": "rgba(0,0,0,0)",
        "scene": {
         "xaxis": {
          "showgrid": false,
          "showticklabels": false,
          "title": {
           "text": ""
          },
          "visible": false,
          "zeroline": false
         },
         "yaxis": {
          "showgrid": false,
          "showticklabels": false,
          "title": {
           "text": ""
          },
          "visible": false,
          "zeroline": false
         },
         "zaxis": {
          "showgrid": false,
          "showticklabels": false,
          "title": {
           "text": ""
          },
          "visible": false,
          "zeroline": false
         }
        },
        "template": {
         "data": {
          "bar": [
           {
            "error_x": {
             "color": "#2a3f5f"
            },
            "error_y": {
             "color": "#2a3f5f"
            },
            "marker": {
             "line": {
              "color": "#E5ECF6",
              "width": 0.5
             },
             "pattern": {
              "fillmode": "overlay",
              "size": 10,
              "solidity": 0.2
             }
            },
            "type": "bar"
           }
          ],
          "barpolar": [
           {
            "marker": {
             "line": {
              "color": "#E5ECF6",
              "width": 0.5
             },
             "pattern": {
              "fillmode": "overlay",
              "size": 10,
              "solidity": 0.2
             }
            },
            "type": "barpolar"
           }
          ],
          "carpet": [
           {
            "aaxis": {
             "endlinecolor": "#2a3f5f",
             "gridcolor": "white",
             "linecolor": "white",
             "minorgridcolor": "white",
             "startlinecolor": "#2a3f5f"
            },
            "baxis": {
             "endlinecolor": "#2a3f5f",
             "gridcolor": "white",
             "linecolor": "white",
             "minorgridcolor": "white",
             "startlinecolor": "#2a3f5f"
            },
            "type": "carpet"
           }
          ],
          "choropleth": [
           {
            "colorbar": {
             "outlinewidth": 0,
             "ticks": ""
            },
            "type": "choropleth"
           }
          ],
          "contour": [
           {
            "colorbar": {
             "outlinewidth": 0,
             "ticks": ""
            },
            "colorscale": [
             [
              0,
              "#0d0887"
             ],
             [
              0.1111111111111111,
              "#46039f"
             ],
             [
              0.2222222222222222,
              "#7201a8"
             ],
             [
              0.3333333333333333,
              "#9c179e"
             ],
             [
              0.4444444444444444,
              "#bd3786"
             ],
             [
              0.5555555555555556,
              "#d8576b"
             ],
             [
              0.6666666666666666,
              "#ed7953"
             ],
             [
              0.7777777777777778,
              "#fb9f3a"
             ],
             [
              0.8888888888888888,
              "#fdca26"
             ],
             [
              1,
              "#f0f921"
             ]
            ],
            "type": "contour"
           }
          ],
          "contourcarpet": [
           {
            "colorbar": {
             "outlinewidth": 0,
             "ticks": ""
            },
            "type": "contourcarpet"
           }
          ],
          "heatmap": [
           {
            "colorbar": {
             "outlinewidth": 0,
             "ticks": ""
            },
            "colorscale": [
             [
              0,
              "#0d0887"
             ],
             [
              0.1111111111111111,
              "#46039f"
             ],
             [
              0.2222222222222222,
              "#7201a8"
             ],
             [
              0.3333333333333333,
              "#9c179e"
             ],
             [
              0.4444444444444444,
              "#bd3786"
             ],
             [
              0.5555555555555556,
              "#d8576b"
             ],
             [
              0.6666666666666666,
              "#ed7953"
             ],
             [
              0.7777777777777778,
              "#fb9f3a"
             ],
             [
              0.8888888888888888,
              "#fdca26"
             ],
             [
              1,
              "#f0f921"
             ]
            ],
            "type": "heatmap"
           }
          ],
          "histogram": [
           {
            "marker": {
             "pattern": {
              "fillmode": "overlay",
              "size": 10,
              "solidity": 0.2
             }
            },
            "type": "histogram"
           }
          ],
          "histogram2d": [
           {
            "colorbar": {
             "outlinewidth": 0,
             "ticks": ""
            },
            "colorscale": [
             [
              0,
              "#0d0887"
             ],
             [
              0.1111111111111111,
              "#46039f"
             ],
             [
              0.2222222222222222,
              "#7201a8"
             ],
             [
              0.3333333333333333,
              "#9c179e"
             ],
             [
              0.4444444444444444,
              "#bd3786"
             ],
             [
              0.5555555555555556,
              "#d8576b"
             ],
             [
              0.6666666666666666,
              "#ed7953"
             ],
             [
              0.7777777777777778,
              "#fb9f3a"
             ],
             [
              0.8888888888888888,
              "#fdca26"
             ],
             [
              1,
              "#f0f921"
             ]
            ],
            "type": "histogram2d"
           }
          ],
          "histogram2dcontour": [
           {
            "colorbar": {
             "outlinewidth": 0,
             "ticks": ""
            },
            "colorscale": [
             [
              0,
              "#0d0887"
             ],
             [
              0.1111111111111111,
              "#46039f"
             ],
             [
              0.2222222222222222,
              "#7201a8"
             ],
             [
              0.3333333333333333,
              "#9c179e"
             ],
             [
              0.4444444444444444,
              "#bd3786"
             ],
             [
              0.5555555555555556,
              "#d8576b"
             ],
             [
              0.6666666666666666,
              "#ed7953"
             ],
             [
              0.7777777777777778,
              "#fb9f3a"
             ],
             [
              0.8888888888888888,
              "#fdca26"
             ],
             [
              1,
              "#f0f921"
             ]
            ],
            "type": "histogram2dcontour"
           }
          ],
          "mesh3d": [
           {
            "colorbar": {
             "outlinewidth": 0,
             "ticks": ""
            },
            "type": "mesh3d"
           }
          ],
          "parcoords": [
           {
            "line": {
             "colorbar": {
              "outlinewidth": 0,
              "ticks": ""
             }
            },
            "type": "parcoords"
           }
          ],
          "pie": [
           {
            "automargin": true,
            "type": "pie"
           }
          ],
          "scatter": [
           {
            "fillpattern": {
             "fillmode": "overlay",
             "size": 10,
             "solidity": 0.2
            },
            "type": "scatter"
           }
          ],
          "scatter3d": [
           {
            "line": {
             "colorbar": {
              "outlinewidth": 0,
              "ticks": ""
             }
            },
            "marker": {
             "colorbar": {
              "outlinewidth": 0,
              "ticks": ""
             }
            },
            "type": "scatter3d"
           }
          ],
          "scattercarpet": [
           {
            "marker": {
             "colorbar": {
              "outlinewidth": 0,
              "ticks": ""
             }
            },
            "type": "scattercarpet"
           }
          ],
          "scattergeo": [
           {
            "marker": {
             "colorbar": {
              "outlinewidth": 0,
              "ticks": ""
             }
            },
            "type": "scattergeo"
           }
          ],
          "scattergl": [
           {
            "marker": {
             "colorbar": {
              "outlinewidth": 0,
              "ticks": ""
             }
            },
            "type": "scattergl"
           }
          ],
          "scattermap": [
           {
            "marker": {
             "colorbar": {
              "outlinewidth": 0,
              "ticks": ""
             }
            },
            "type": "scattermap"
           }
          ],
          "scattermapbox": [
           {
            "marker": {
             "colorbar": {
              "outlinewidth": 0,
              "ticks": ""
             }
            },
            "type": "scattermapbox"
           }
          ],
          "scatterpolar": [
           {
            "marker": {
             "colorbar": {
              "outlinewidth": 0,
              "ticks": ""
             }
            },
            "type": "scatterpolar"
           }
          ],
          "scatterpolargl": [
           {
            "marker": {
             "colorbar": {
              "outlinewidth": 0,
              "ticks": ""
             }
            },
            "type": "scatterpolargl"
           }
          ],
          "scatterternary": [
           {
            "marker": {
             "colorbar": {
              "outlinewidth": 0,
              "ticks": ""
             }
            },
            "type": "scatterternary"
           }
          ],
          "surface": [
           {
            "colorbar": {
             "outlinewidth": 0,
             "ticks": ""
            },
            "colorscale": [
             [
              0,
              "#0d0887"
             ],
             [
              0.1111111111111111,
              "#46039f"
             ],
             [
              0.2222222222222222,
              "#7201a8"
             ],
             [
              0.3333333333333333,
              "#9c179e"
             ],
             [
              0.4444444444444444,
              "#bd3786"
             ],
             [
              0.5555555555555556,
              "#d8576b"
             ],
             [
              0.6666666666666666,
              "#ed7953"
             ],
             [
              0.7777777777777778,
              "#fb9f3a"
             ],
             [
              0.8888888888888888,
              "#fdca26"
             ],
             [
              1,
              "#f0f921"
             ]
            ],
            "type": "surface"
           }
          ],
          "table": [
           {
            "cells": {
             "fill": {
              "color": "#EBF0F8"
             },
             "line": {
              "color": "white"
             }
            },
            "header": {
             "fill": {
              "color": "#C8D4E3"
             },
             "line": {
              "color": "white"
             }
            },
            "type": "table"
           }
          ]
         },
         "layout": {
          "annotationdefaults": {
           "arrowcolor": "#2a3f5f",
           "arrowhead": 0,
           "arrowwidth": 1
          },
          "autotypenumbers": "strict",
          "coloraxis": {
           "colorbar": {
            "outlinewidth": 0,
            "ticks": ""
           }
          },
          "colorscale": {
           "diverging": [
            [
             0,
             "#8e0152"
            ],
            [
             0.1,
             "#c51b7d"
            ],
            [
             0.2,
             "#de77ae"
            ],
            [
             0.3,
             "#f1b6da"
            ],
            [
             0.4,
             "#fde0ef"
            ],
            [
             0.5,
             "#f7f7f7"
            ],
            [
             0.6,
             "#e6f5d0"
            ],
            [
             0.7,
             "#b8e186"
            ],
            [
             0.8,
             "#7fbc41"
            ],
            [
             0.9,
             "#4d9221"
            ],
            [
             1,
             "#276419"
            ]
           ],
           "sequential": [
            [
             0,
             "#0d0887"
            ],
            [
             0.1111111111111111,
             "#46039f"
            ],
            [
             0.2222222222222222,
             "#7201a8"
            ],
            [
             0.3333333333333333,
             "#9c179e"
            ],
            [
             0.4444444444444444,
             "#bd3786"
            ],
            [
             0.5555555555555556,
             "#d8576b"
            ],
            [
             0.6666666666666666,
             "#ed7953"
            ],
            [
             0.7777777777777778,
             "#fb9f3a"
            ],
            [
             0.8888888888888888,
             "#fdca26"
            ],
            [
             1,
             "#f0f921"
            ]
           ],
           "sequentialminus": [
            [
             0,
             "#0d0887"
            ],
            [
             0.1111111111111111,
             "#46039f"
            ],
            [
             0.2222222222222222,
             "#7201a8"
            ],
            [
             0.3333333333333333,
             "#9c179e"
            ],
            [
             0.4444444444444444,
             "#bd3786"
            ],
            [
             0.5555555555555556,
             "#d8576b"
            ],
            [
             0.6666666666666666,
             "#ed7953"
            ],
            [
             0.7777777777777778,
             "#fb9f3a"
            ],
            [
             0.8888888888888888,
             "#fdca26"
            ],
            [
             1,
             "#f0f921"
            ]
           ]
          },
          "colorway": [
           "#636efa",
           "#EF553B",
           "#00cc96",
           "#ab63fa",
           "#FFA15A",
           "#19d3f3",
           "#FF6692",
           "#B6E880",
           "#FF97FF",
           "#FECB52"
          ],
          "font": {
           "color": "#2a3f5f"
          },
          "geo": {
           "bgcolor": "white",
           "lakecolor": "white",
           "landcolor": "#E5ECF6",
           "showlakes": true,
           "showland": true,
           "subunitcolor": "white"
          },
          "hoverlabel": {
           "align": "left"
          },
          "hovermode": "closest",
          "mapbox": {
           "style": "light"
          },
          "paper_bgcolor": "white",
          "plot_bgcolor": "#E5ECF6",
          "polar": {
           "angularaxis": {
            "gridcolor": "white",
            "linecolor": "white",
            "ticks": ""
           },
           "bgcolor": "#E5ECF6",
           "radialaxis": {
            "gridcolor": "white",
            "linecolor": "white",
            "ticks": ""
           }
          },
          "scene": {
           "xaxis": {
            "backgroundcolor": "#E5ECF6",
            "gridcolor": "white",
            "gridwidth": 2,
            "linecolor": "white",
            "showbackground": true,
            "ticks": "",
            "zerolinecolor": "white"
           },
           "yaxis": {
            "backgroundcolor": "#E5ECF6",
            "gridcolor": "white",
            "gridwidth": 2,
            "linecolor": "white",
            "showbackground": true,
            "ticks": "",
            "zerolinecolor": "white"
           },
           "zaxis": {
            "backgroundcolor": "#E5ECF6",
            "gridcolor": "white",
            "gridwidth": 2,
            "linecolor": "white",
            "showbackground": true,
            "ticks": "",
            "zerolinecolor": "white"
           }
          },
          "shapedefaults": {
           "line": {
            "color": "#2a3f5f"
           }
          },
          "ternary": {
           "aaxis": {
            "gridcolor": "white",
            "linecolor": "white",
            "ticks": ""
           },
           "baxis": {
            "gridcolor": "white",
            "linecolor": "white",
            "ticks": ""
           },
           "bgcolor": "#E5ECF6",
           "caxis": {
            "gridcolor": "white",
            "linecolor": "white",
            "ticks": ""
           }
          },
          "title": {
           "x": 0.05
          },
          "xaxis": {
           "automargin": true,
           "gridcolor": "white",
           "linecolor": "white",
           "ticks": "",
           "title": {
            "standoff": 15
           },
           "zerolinecolor": "white",
           "zerolinewidth": 2
          },
          "yaxis": {
           "automargin": true,
           "gridcolor": "white",
           "linecolor": "white",
           "ticks": "",
           "title": {
            "standoff": 15
           },
           "zerolinecolor": "white",
           "zerolinewidth": 2
          }
         }
        },
        "title": {
         "text": "8-Atom Configuration: -19.7653J"
        },
        "width": 600
       }
      }
     },
     "metadata": {},
     "output_type": "display_data"
    },
    {
     "data": {
      "application/vnd.plotly.v1+json": {
       "config": {
        "plotlyServerURL": "https://plot.ly"
       },
       "data": [
        {
         "hoverinfo": "text",
         "hovertext": "Length: 9.95e-01, Contributes -9.99e-01J",
         "line": {
          "color": "rgb(173, 216, 230, 0.4)",
          "width": 8
         },
         "mode": "lines",
         "showlegend": false,
         "type": "scatter3d",
         "x": [
          0,
          -0.8512383318757282
         ],
         "y": [
          0,
          0.3846086146160289
         ],
         "z": [
          0,
          -0.3421420519771663
         ]
        },
        {
         "hoverinfo": "text",
         "hovertext": "Length: 9.95e-01, Contributes -9.99e-01J",
         "line": {
          "color": "rgb(173, 216, 230, 0.4)",
          "width": 8
         },
         "mode": "lines",
         "showlegend": false,
         "type": "scatter3d",
         "x": [
          0,
          -0.6619843023015581
         ],
         "y": [
          0,
          -0.5750649422414148
         ],
         "z": [
          0,
          -0.46975387315477557
         ]
        },
        {
         "hoverinfo": "text",
         "hovertext": "Length: 9.95e-01, Contributes -9.99e-01J",
         "line": {
          "color": "rgb(173, 216, 230, 0.4)",
          "width": 8
         },
         "mode": "lines",
         "showlegend": false,
         "type": "scatter3d",
         "x": [
          0,
          0.004005355733549154
         ],
         "y": [
          0,
          0.6120529191169499
         ],
         "z": [
          0,
          -0.7841971811252156
         ]
        },
        {
         "hoverinfo": "text",
         "hovertext": "Length: 1.72e+00, Contributes -7.54e-02J",
         "line": {
          "color": "rgb(173, 216, 230, 0.4)",
          "width": 8
         },
         "mode": "lines",
         "showlegend": false,
         "type": "scatter3d",
         "x": [
          0,
          -1.4366063476998412
         ],
         "y": [
          0,
          -0.15897776985583792
         ],
         "z": [
          0,
          -0.9349979246752783
         ]
        },
        {
         "hoverinfo": "text",
         "hovertext": "Length: 9.95e-01, Contributes -9.99e-01J",
         "line": {
          "color": "rgb(173, 216, 230, 0.4)",
          "width": 8
         },
         "mode": "lines",
         "showlegend": false,
         "type": "scatter3d",
         "x": [
          0,
          0.1932604040243655
         ],
         "y": [
          0,
          -0.3476258518848763
         ],
         "z": [
          0,
          -0.9118096562287266
         ]
        },
        {
         "hoverinfo": "text",
         "hovertext": "Length: 1.64e+00, Contributes -9.99e-02J",
         "line": {
          "color": "rgb(173, 216, 230, 0.4)",
          "width": 8
         },
         "mode": "lines",
         "showlegend": false,
         "type": "scatter3d",
         "x": [
          0,
          -0.8215340466440764
         ],
         "y": [
          0,
          0.5206859023529044
         ],
         "z": [
          0,
          -1.3214951331820308
         ]
        },
        {
         "hoverinfo": "text",
         "hovertext": "Length: 1.64e+00, Contributes -9.99e-02J",
         "line": {
          "color": "rgb(173, 216, 230, 0.4)",
          "width": 8
         },
         "mode": "lines",
         "showlegend": false,
         "type": "scatter3d",
         "x": [
          0,
          -0.6322834758760696
         ],
         "y": [
          0,
          -0.43897031156237076
         ],
         "z": [
          0,
          -1.449104635153795
         ]
        },
        {
         "hoverinfo": "text",
         "hovertext": "Length: 1.72e+00, Contributes -7.54e-02J",
         "line": {
          "color": "rgb(173, 216, 230, 0.4)",
          "width": 8
         },
         "mode": "lines",
         "showlegend": false,
         "type": "scatter3d",
         "x": [
          0,
          0.05171288749386571
         ],
         "y": [
          0,
          0.2368249669993843
         ],
         "z": [
          0,
          -1.7042928275533948
         ]
        },
        {
         "hoverinfo": "text",
         "hovertext": "Length: 9.86e-01, Contributes -9.93e-01J",
         "line": {
          "color": "rgb(173, 216, 230, 0.4)",
          "width": 8
         },
         "mode": "lines",
         "showlegend": false,
         "type": "scatter3d",
         "x": [
          -0.8512383318757282,
          -0.6619843023015581
         ],
         "y": [
          0.3846086146160289,
          -0.5750649422414148
         ],
         "z": [
          -0.3421420519771663,
          -0.46975387315477557
         ]
        },
        {
         "hoverinfo": "text",
         "hovertext": "Length: 9.89e-01, Contributes -9.95e-01J",
         "line": {
          "color": "rgb(173, 216, 230, 0.4)",
          "width": 8
         },
         "mode": "lines",
         "showlegend": false,
         "type": "scatter3d",
         "x": [
          -0.8512383318757282,
          0.004005355733549154
         ],
         "y": [
          0.3846086146160289,
          0.6120529191169499
         ],
         "z": [
          -0.3421420519771663,
          -0.7841971811252156
         ]
        },
        {
         "hoverinfo": "text",
         "hovertext": "Length: 9.95e-01, Contributes -9.99e-01J",
         "line": {
          "color": "rgb(173, 216, 230, 0.4)",
          "width": 8
         },
         "mode": "lines",
         "showlegend": false,
         "type": "scatter3d",
         "x": [
          -0.8512383318757282,
          -1.4366063476998412
         ],
         "y": [
          0.3846086146160289,
          -0.15897776985583792
         ],
         "z": [
          -0.3421420519771663,
          -0.9349979246752783
         ]
        },
        {
         "hoverinfo": "text",
         "hovertext": "Length: 1.40e+00, Contributes -2.51e-01J",
         "line": {
          "color": "rgb(173, 216, 230, 0.4)",
          "width": 8
         },
         "mode": "lines",
         "showlegend": false,
         "type": "scatter3d",
         "x": [
          -0.8512383318757282,
          0.1932604040243655
         ],
         "y": [
          0.3846086146160289,
          -0.3476258518848763
         ],
         "z": [
          -0.3421420519771663,
          -0.9118096562287266
         ]
        },
        {
         "hoverinfo": "text",
         "hovertext": "Length: 9.89e-01, Contributes -9.95e-01J",
         "line": {
          "color": "rgb(173, 216, 230, 0.4)",
          "width": 8
         },
         "mode": "lines",
         "showlegend": false,
         "type": "scatter3d",
         "x": [
          -0.8512383318757282,
          -0.8215340466440764
         ],
         "y": [
          0.3846086146160289,
          0.5206859023529044
         ],
         "z": [
          -0.3421420519771663,
          -1.3214951331820308
         ]
        },
        {
         "hoverinfo": "text",
         "hovertext": "Length: 1.40e+00, Contributes -2.51e-01J",
         "line": {
          "color": "rgb(173, 216, 230, 0.4)",
          "width": 8
         },
         "mode": "lines",
         "showlegend": false,
         "type": "scatter3d",
         "x": [
          -0.8512383318757282,
          -0.6322834758760696
         ],
         "y": [
          0.3846086146160289,
          -0.43897031156237076
         ],
         "z": [
          -0.3421420519771663,
          -1.449104635153795
         ]
        },
        {
         "hoverinfo": "text",
         "hovertext": "Length: 1.64e+00, Contributes -9.98e-02J",
         "line": {
          "color": "rgb(173, 216, 230, 0.4)",
          "width": 8
         },
         "mode": "lines",
         "showlegend": false,
         "type": "scatter3d",
         "x": [
          -0.8512383318757282,
          0.05171288749386571
         ],
         "y": [
          0.3846086146160289,
          0.2368249669993843
         ],
         "z": [
          -0.3421420519771663,
          -1.7042928275533948
         ]
        },
        {
         "hoverinfo": "text",
         "hovertext": "Length: 1.40e+00, Contributes -2.51e-01J",
         "line": {
          "color": "rgb(173, 216, 230, 0.4)",
          "width": 8
         },
         "mode": "lines",
         "showlegend": false,
         "type": "scatter3d",
         "x": [
          -0.6619843023015581,
          0.004005355733549154
         ],
         "y": [
          -0.5750649422414148,
          0.6120529191169499
         ],
         "z": [
          -0.46975387315477557,
          -0.7841971811252156
         ]
        },
        {
         "hoverinfo": "text",
         "hovertext": "Length: 9.95e-01, Contributes -9.99e-01J",
         "line": {
          "color": "rgb(173, 216, 230, 0.4)",
          "width": 8
         },
         "mode": "lines",
         "showlegend": false,
         "type": "scatter3d",
         "x": [
          -0.6619843023015581,
          -1.4366063476998412
         ],
         "y": [
          -0.5750649422414148,
          -0.15897776985583792
         ],
         "z": [
          -0.46975387315477557,
          -0.9349979246752783
         ]
        },
        {
         "hoverinfo": "text",
         "hovertext": "Length: 9.89e-01, Contributes -9.95e-01J",
         "line": {
          "color": "rgb(173, 216, 230, 0.4)",
          "width": 8
         },
         "mode": "lines",
         "showlegend": false,
         "type": "scatter3d",
         "x": [
          -0.6619843023015581,
          0.1932604040243655
         ],
         "y": [
          -0.5750649422414148,
          -0.3476258518848763
         ],
         "z": [
          -0.46975387315477557,
          -0.9118096562287266
         ]
        },
        {
         "hoverinfo": "text",
         "hovertext": "Length: 1.40e+00, Contributes -2.51e-01J",
         "line": {
          "color": "rgb(173, 216, 230, 0.4)",
          "width": 8
         },
         "mode": "lines",
         "showlegend": false,
         "type": "scatter3d",
         "x": [
          -0.6619843023015581,
          -0.8215340466440764
         ],
         "y": [
          -0.5750649422414148,
          0.5206859023529044
         ],
         "z": [
          -0.46975387315477557,
          -1.3214951331820308
         ]
        },
        {
         "hoverinfo": "text",
         "hovertext": "Length: 9.89e-01, Contributes -9.95e-01J",
         "line": {
          "color": "rgb(173, 216, 230, 0.4)",
          "width": 8
         },
         "mode": "lines",
         "showlegend": false,
         "type": "scatter3d",
         "x": [
          -0.6619843023015581,
          -0.6322834758760696
         ],
         "y": [
          -0.5750649422414148,
          -0.43897031156237076
         ],
         "z": [
          -0.46975387315477557,
          -1.449104635153795
         ]
        },
        {
         "hoverinfo": "text",
         "hovertext": "Length: 1.64e+00, Contributes -9.98e-02J",
         "line": {
          "color": "rgb(173, 216, 230, 0.4)",
          "width": 8
         },
         "mode": "lines",
         "showlegend": false,
         "type": "scatter3d",
         "x": [
          -0.6619843023015581,
          0.05171288749386571
         ],
         "y": [
          -0.5750649422414148,
          0.2368249669993843
         ],
         "z": [
          -0.46975387315477557,
          -1.7042928275533948
         ]
        },
        {
         "hoverinfo": "text",
         "hovertext": "Length: 1.64e+00, Contributes -9.98e-02J",
         "line": {
          "color": "rgb(173, 216, 230, 0.4)",
          "width": 8
         },
         "mode": "lines",
         "showlegend": false,
         "type": "scatter3d",
         "x": [
          0.004005355733549154,
          -1.4366063476998412
         ],
         "y": [
          0.6120529191169499,
          -0.15897776985583792
         ],
         "z": [
          -0.7841971811252156,
          -0.9349979246752783
         ]
        },
        {
         "hoverinfo": "text",
         "hovertext": "Length: 9.86e-01, Contributes -9.93e-01J",
         "line": {
          "color": "rgb(173, 216, 230, 0.4)",
          "width": 8
         },
         "mode": "lines",
         "showlegend": false,
         "type": "scatter3d",
         "x": [
          0.004005355733549154,
          0.1932604040243655
         ],
         "y": [
          0.6120529191169499,
          -0.3476258518848763
         ],
         "z": [
          -0.7841971811252156,
          -0.9118096562287266
         ]
        },
        {
         "hoverinfo": "text",
         "hovertext": "Length: 9.89e-01, Contributes -9.95e-01J",
         "line": {
          "color": "rgb(173, 216, 230, 0.4)",
          "width": 8
         },
         "mode": "lines",
         "showlegend": false,
         "type": "scatter3d",
         "x": [
          0.004005355733549154,
          -0.8215340466440764
         ],
         "y": [
          0.6120529191169499,
          0.5206859023529044
         ],
         "z": [
          -0.7841971811252156,
          -1.3214951331820308
         ]
        },
        {
         "hoverinfo": "text",
         "hovertext": "Length: 1.40e+00, Contributes -2.51e-01J",
         "line": {
          "color": "rgb(173, 216, 230, 0.4)",
          "width": 8
         },
         "mode": "lines",
         "showlegend": false,
         "type": "scatter3d",
         "x": [
          0.004005355733549154,
          -0.6322834758760696
         ],
         "y": [
          0.6120529191169499,
          -0.43897031156237076
         ],
         "z": [
          -0.7841971811252156,
          -1.449104635153795
         ]
        },
        {
         "hoverinfo": "text",
         "hovertext": "Length: 9.95e-01, Contributes -9.99e-01J",
         "line": {
          "color": "rgb(173, 216, 230, 0.4)",
          "width": 8
         },
         "mode": "lines",
         "showlegend": false,
         "type": "scatter3d",
         "x": [
          0.004005355733549154,
          0.05171288749386571
         ],
         "y": [
          0.6120529191169499,
          0.2368249669993843
         ],
         "z": [
          -0.7841971811252156,
          -1.7042928275533948
         ]
        },
        {
         "hoverinfo": "text",
         "hovertext": "Length: 1.64e+00, Contributes -9.98e-02J",
         "line": {
          "color": "rgb(173, 216, 230, 0.4)",
          "width": 8
         },
         "mode": "lines",
         "showlegend": false,
         "type": "scatter3d",
         "x": [
          -1.4366063476998412,
          0.1932604040243655
         ],
         "y": [
          -0.15897776985583792,
          -0.3476258518848763
         ],
         "z": [
          -0.9349979246752783,
          -0.9118096562287266
         ]
        },
        {
         "hoverinfo": "text",
         "hovertext": "Length: 9.95e-01, Contributes -9.99e-01J",
         "line": {
          "color": "rgb(173, 216, 230, 0.4)",
          "width": 8
         },
         "mode": "lines",
         "showlegend": false,
         "type": "scatter3d",
         "x": [
          -1.4366063476998412,
          -0.8215340466440764
         ],
         "y": [
          -0.15897776985583792,
          0.5206859023529044
         ],
         "z": [
          -0.9349979246752783,
          -1.3214951331820308
         ]
        },
        {
         "hoverinfo": "text",
         "hovertext": "Length: 9.95e-01, Contributes -9.99e-01J",
         "line": {
          "color": "rgb(173, 216, 230, 0.4)",
          "width": 8
         },
         "mode": "lines",
         "showlegend": false,
         "type": "scatter3d",
         "x": [
          -1.4366063476998412,
          -0.6322834758760696
         ],
         "y": [
          -0.15897776985583792,
          -0.43897031156237076
         ],
         "z": [
          -0.9349979246752783,
          -1.449104635153795
         ]
        },
        {
         "hoverinfo": "text",
         "hovertext": "Length: 1.72e+00, Contributes -7.54e-02J",
         "line": {
          "color": "rgb(173, 216, 230, 0.4)",
          "width": 8
         },
         "mode": "lines",
         "showlegend": false,
         "type": "scatter3d",
         "x": [
          -1.4366063476998412,
          0.05171288749386571
         ],
         "y": [
          -0.15897776985583792,
          0.2368249669993843
         ],
         "z": [
          -0.9349979246752783,
          -1.7042928275533948
         ]
        },
        {
         "hoverinfo": "text",
         "hovertext": "Length: 1.40e+00, Contributes -2.51e-01J",
         "line": {
          "color": "rgb(173, 216, 230, 0.4)",
          "width": 8
         },
         "mode": "lines",
         "showlegend": false,
         "type": "scatter3d",
         "x": [
          0.1932604040243655,
          -0.8215340466440764
         ],
         "y": [
          -0.3476258518848763,
          0.5206859023529044
         ],
         "z": [
          -0.9118096562287266,
          -1.3214951331820308
         ]
        },
        {
         "hoverinfo": "text",
         "hovertext": "Length: 9.89e-01, Contributes -9.95e-01J",
         "line": {
          "color": "rgb(173, 216, 230, 0.4)",
          "width": 8
         },
         "mode": "lines",
         "showlegend": false,
         "type": "scatter3d",
         "x": [
          0.1932604040243655,
          -0.6322834758760696
         ],
         "y": [
          -0.3476258518848763,
          -0.43897031156237076
         ],
         "z": [
          -0.9118096562287266,
          -1.449104635153795
         ]
        },
        {
         "hoverinfo": "text",
         "hovertext": "Length: 9.95e-01, Contributes -9.99e-01J",
         "line": {
          "color": "rgb(173, 216, 230, 0.4)",
          "width": 8
         },
         "mode": "lines",
         "showlegend": false,
         "type": "scatter3d",
         "x": [
          0.1932604040243655,
          0.05171288749386571
         ],
         "y": [
          -0.3476258518848763,
          0.2368249669993843
         ],
         "z": [
          -0.9118096562287266,
          -1.7042928275533948
         ]
        },
        {
         "hoverinfo": "text",
         "hovertext": "Length: 9.86e-01, Contributes -9.93e-01J",
         "line": {
          "color": "rgb(173, 216, 230, 0.4)",
          "width": 8
         },
         "mode": "lines",
         "showlegend": false,
         "type": "scatter3d",
         "x": [
          -0.8215340466440764,
          -0.6322834758760696
         ],
         "y": [
          0.5206859023529044,
          -0.43897031156237076
         ],
         "z": [
          -1.3214951331820308,
          -1.449104635153795
         ]
        },
        {
         "hoverinfo": "text",
         "hovertext": "Length: 9.95e-01, Contributes -9.99e-01J",
         "line": {
          "color": "rgb(173, 216, 230, 0.4)",
          "width": 8
         },
         "mode": "lines",
         "showlegend": false,
         "type": "scatter3d",
         "x": [
          -0.8215340466440764,
          0.05171288749386571
         ],
         "y": [
          0.5206859023529044,
          0.2368249669993843
         ],
         "z": [
          -1.3214951331820308,
          -1.7042928275533948
         ]
        },
        {
         "hoverinfo": "text",
         "hovertext": "Length: 9.95e-01, Contributes -9.99e-01J",
         "line": {
          "color": "rgb(173, 216, 230, 0.4)",
          "width": 8
         },
         "mode": "lines",
         "showlegend": false,
         "type": "scatter3d",
         "x": [
          -0.6322834758760696,
          0.05171288749386571
         ],
         "y": [
          -0.43897031156237076,
          0.2368249669993843
         ],
         "z": [
          -1.449104635153795,
          -1.7042928275533948
         ]
        },
        {
         "hovertext": [
          "Point 1",
          "Point 2",
          "Point 3",
          "Point 4",
          "Point 5",
          "Point 6",
          "Point 7",
          "Point 8",
          "Point 9"
         ],
         "marker": {
          "color": "red",
          "size": 8
         },
         "mode": "markers",
         "showlegend": false,
         "type": "scatter3d",
         "x": {
          "bdata": "AAAAAAAAAABIQJArWD3rv943G7T5LuW/QKomfutncD+WjAnwVvz2vyC9csXBvMg/DGHcxAFK6r+qC1aOqjvkv0DBIpEceqo/",
          "dtype": "f8"
         },
         "y": {
          "bdata": "AAAAAAAAAAAaSWJzbZ3YP58YAJjuZuK/kOrgAPCV4z8BMikxYlnEv2G9RYCAP9a/1QFDe3Wp4D/u0QTvFhjcv8m+EdBHUM4/",
          "dtype": "f8"
         },
         "z": {
          "bdata": "AAAAAAAAAAA8AvXGp+XVvzqfl4xyEN6/xYrRryQY6b+13InEgOvtv4K9tXGLLe2/lnCtFNgk9b8ie4dXiC/3vx5jUo7IRPu/",
          "dtype": "f8"
         }
        }
       ],
       "layout": {
        "height": 400,
        "paper_bgcolor": "rgba(0,0,0,0)",
        "plot_bgcolor": "rgba(0,0,0,0)",
        "scene": {
         "xaxis": {
          "showgrid": false,
          "showticklabels": false,
          "title": {
           "text": ""
          },
          "visible": false,
          "zeroline": false
         },
         "yaxis": {
          "showgrid": false,
          "showticklabels": false,
          "title": {
           "text": ""
          },
          "visible": false,
          "zeroline": false
         },
         "zaxis": {
          "showgrid": false,
          "showticklabels": false,
          "title": {
           "text": ""
          },
          "visible": false,
          "zeroline": false
         }
        },
        "template": {
         "data": {
          "bar": [
           {
            "error_x": {
             "color": "#2a3f5f"
            },
            "error_y": {
             "color": "#2a3f5f"
            },
            "marker": {
             "line": {
              "color": "#E5ECF6",
              "width": 0.5
             },
             "pattern": {
              "fillmode": "overlay",
              "size": 10,
              "solidity": 0.2
             }
            },
            "type": "bar"
           }
          ],
          "barpolar": [
           {
            "marker": {
             "line": {
              "color": "#E5ECF6",
              "width": 0.5
             },
             "pattern": {
              "fillmode": "overlay",
              "size": 10,
              "solidity": 0.2
             }
            },
            "type": "barpolar"
           }
          ],
          "carpet": [
           {
            "aaxis": {
             "endlinecolor": "#2a3f5f",
             "gridcolor": "white",
             "linecolor": "white",
             "minorgridcolor": "white",
             "startlinecolor": "#2a3f5f"
            },
            "baxis": {
             "endlinecolor": "#2a3f5f",
             "gridcolor": "white",
             "linecolor": "white",
             "minorgridcolor": "white",
             "startlinecolor": "#2a3f5f"
            },
            "type": "carpet"
           }
          ],
          "choropleth": [
           {
            "colorbar": {
             "outlinewidth": 0,
             "ticks": ""
            },
            "type": "choropleth"
           }
          ],
          "contour": [
           {
            "colorbar": {
             "outlinewidth": 0,
             "ticks": ""
            },
            "colorscale": [
             [
              0,
              "#0d0887"
             ],
             [
              0.1111111111111111,
              "#46039f"
             ],
             [
              0.2222222222222222,
              "#7201a8"
             ],
             [
              0.3333333333333333,
              "#9c179e"
             ],
             [
              0.4444444444444444,
              "#bd3786"
             ],
             [
              0.5555555555555556,
              "#d8576b"
             ],
             [
              0.6666666666666666,
              "#ed7953"
             ],
             [
              0.7777777777777778,
              "#fb9f3a"
             ],
             [
              0.8888888888888888,
              "#fdca26"
             ],
             [
              1,
              "#f0f921"
             ]
            ],
            "type": "contour"
           }
          ],
          "contourcarpet": [
           {
            "colorbar": {
             "outlinewidth": 0,
             "ticks": ""
            },
            "type": "contourcarpet"
           }
          ],
          "heatmap": [
           {
            "colorbar": {
             "outlinewidth": 0,
             "ticks": ""
            },
            "colorscale": [
             [
              0,
              "#0d0887"
             ],
             [
              0.1111111111111111,
              "#46039f"
             ],
             [
              0.2222222222222222,
              "#7201a8"
             ],
             [
              0.3333333333333333,
              "#9c179e"
             ],
             [
              0.4444444444444444,
              "#bd3786"
             ],
             [
              0.5555555555555556,
              "#d8576b"
             ],
             [
              0.6666666666666666,
              "#ed7953"
             ],
             [
              0.7777777777777778,
              "#fb9f3a"
             ],
             [
              0.8888888888888888,
              "#fdca26"
             ],
             [
              1,
              "#f0f921"
             ]
            ],
            "type": "heatmap"
           }
          ],
          "histogram": [
           {
            "marker": {
             "pattern": {
              "fillmode": "overlay",
              "size": 10,
              "solidity": 0.2
             }
            },
            "type": "histogram"
           }
          ],
          "histogram2d": [
           {
            "colorbar": {
             "outlinewidth": 0,
             "ticks": ""
            },
            "colorscale": [
             [
              0,
              "#0d0887"
             ],
             [
              0.1111111111111111,
              "#46039f"
             ],
             [
              0.2222222222222222,
              "#7201a8"
             ],
             [
              0.3333333333333333,
              "#9c179e"
             ],
             [
              0.4444444444444444,
              "#bd3786"
             ],
             [
              0.5555555555555556,
              "#d8576b"
             ],
             [
              0.6666666666666666,
              "#ed7953"
             ],
             [
              0.7777777777777778,
              "#fb9f3a"
             ],
             [
              0.8888888888888888,
              "#fdca26"
             ],
             [
              1,
              "#f0f921"
             ]
            ],
            "type": "histogram2d"
           }
          ],
          "histogram2dcontour": [
           {
            "colorbar": {
             "outlinewidth": 0,
             "ticks": ""
            },
            "colorscale": [
             [
              0,
              "#0d0887"
             ],
             [
              0.1111111111111111,
              "#46039f"
             ],
             [
              0.2222222222222222,
              "#7201a8"
             ],
             [
              0.3333333333333333,
              "#9c179e"
             ],
             [
              0.4444444444444444,
              "#bd3786"
             ],
             [
              0.5555555555555556,
              "#d8576b"
             ],
             [
              0.6666666666666666,
              "#ed7953"
             ],
             [
              0.7777777777777778,
              "#fb9f3a"
             ],
             [
              0.8888888888888888,
              "#fdca26"
             ],
             [
              1,
              "#f0f921"
             ]
            ],
            "type": "histogram2dcontour"
           }
          ],
          "mesh3d": [
           {
            "colorbar": {
             "outlinewidth": 0,
             "ticks": ""
            },
            "type": "mesh3d"
           }
          ],
          "parcoords": [
           {
            "line": {
             "colorbar": {
              "outlinewidth": 0,
              "ticks": ""
             }
            },
            "type": "parcoords"
           }
          ],
          "pie": [
           {
            "automargin": true,
            "type": "pie"
           }
          ],
          "scatter": [
           {
            "fillpattern": {
             "fillmode": "overlay",
             "size": 10,
             "solidity": 0.2
            },
            "type": "scatter"
           }
          ],
          "scatter3d": [
           {
            "line": {
             "colorbar": {
              "outlinewidth": 0,
              "ticks": ""
             }
            },
            "marker": {
             "colorbar": {
              "outlinewidth": 0,
              "ticks": ""
             }
            },
            "type": "scatter3d"
           }
          ],
          "scattercarpet": [
           {
            "marker": {
             "colorbar": {
              "outlinewidth": 0,
              "ticks": ""
             }
            },
            "type": "scattercarpet"
           }
          ],
          "scattergeo": [
           {
            "marker": {
             "colorbar": {
              "outlinewidth": 0,
              "ticks": ""
             }
            },
            "type": "scattergeo"
           }
          ],
          "scattergl": [
           {
            "marker": {
             "colorbar": {
              "outlinewidth": 0,
              "ticks": ""
             }
            },
            "type": "scattergl"
           }
          ],
          "scattermap": [
           {
            "marker": {
             "colorbar": {
              "outlinewidth": 0,
              "ticks": ""
             }
            },
            "type": "scattermap"
           }
          ],
          "scattermapbox": [
           {
            "marker": {
             "colorbar": {
              "outlinewidth": 0,
              "ticks": ""
             }
            },
            "type": "scattermapbox"
           }
          ],
          "scatterpolar": [
           {
            "marker": {
             "colorbar": {
              "outlinewidth": 0,
              "ticks": ""
             }
            },
            "type": "scatterpolar"
           }
          ],
          "scatterpolargl": [
           {
            "marker": {
             "colorbar": {
              "outlinewidth": 0,
              "ticks": ""
             }
            },
            "type": "scatterpolargl"
           }
          ],
          "scatterternary": [
           {
            "marker": {
             "colorbar": {
              "outlinewidth": 0,
              "ticks": ""
             }
            },
            "type": "scatterternary"
           }
          ],
          "surface": [
           {
            "colorbar": {
             "outlinewidth": 0,
             "ticks": ""
            },
            "colorscale": [
             [
              0,
              "#0d0887"
             ],
             [
              0.1111111111111111,
              "#46039f"
             ],
             [
              0.2222222222222222,
              "#7201a8"
             ],
             [
              0.3333333333333333,
              "#9c179e"
             ],
             [
              0.4444444444444444,
              "#bd3786"
             ],
             [
              0.5555555555555556,
              "#d8576b"
             ],
             [
              0.6666666666666666,
              "#ed7953"
             ],
             [
              0.7777777777777778,
              "#fb9f3a"
             ],
             [
              0.8888888888888888,
              "#fdca26"
             ],
             [
              1,
              "#f0f921"
             ]
            ],
            "type": "surface"
           }
          ],
          "table": [
           {
            "cells": {
             "fill": {
              "color": "#EBF0F8"
             },
             "line": {
              "color": "white"
             }
            },
            "header": {
             "fill": {
              "color": "#C8D4E3"
             },
             "line": {
              "color": "white"
             }
            },
            "type": "table"
           }
          ]
         },
         "layout": {
          "annotationdefaults": {
           "arrowcolor": "#2a3f5f",
           "arrowhead": 0,
           "arrowwidth": 1
          },
          "autotypenumbers": "strict",
          "coloraxis": {
           "colorbar": {
            "outlinewidth": 0,
            "ticks": ""
           }
          },
          "colorscale": {
           "diverging": [
            [
             0,
             "#8e0152"
            ],
            [
             0.1,
             "#c51b7d"
            ],
            [
             0.2,
             "#de77ae"
            ],
            [
             0.3,
             "#f1b6da"
            ],
            [
             0.4,
             "#fde0ef"
            ],
            [
             0.5,
             "#f7f7f7"
            ],
            [
             0.6,
             "#e6f5d0"
            ],
            [
             0.7,
             "#b8e186"
            ],
            [
             0.8,
             "#7fbc41"
            ],
            [
             0.9,
             "#4d9221"
            ],
            [
             1,
             "#276419"
            ]
           ],
           "sequential": [
            [
             0,
             "#0d0887"
            ],
            [
             0.1111111111111111,
             "#46039f"
            ],
            [
             0.2222222222222222,
             "#7201a8"
            ],
            [
             0.3333333333333333,
             "#9c179e"
            ],
            [
             0.4444444444444444,
             "#bd3786"
            ],
            [
             0.5555555555555556,
             "#d8576b"
            ],
            [
             0.6666666666666666,
             "#ed7953"
            ],
            [
             0.7777777777777778,
             "#fb9f3a"
            ],
            [
             0.8888888888888888,
             "#fdca26"
            ],
            [
             1,
             "#f0f921"
            ]
           ],
           "sequentialminus": [
            [
             0,
             "#0d0887"
            ],
            [
             0.1111111111111111,
             "#46039f"
            ],
            [
             0.2222222222222222,
             "#7201a8"
            ],
            [
             0.3333333333333333,
             "#9c179e"
            ],
            [
             0.4444444444444444,
             "#bd3786"
            ],
            [
             0.5555555555555556,
             "#d8576b"
            ],
            [
             0.6666666666666666,
             "#ed7953"
            ],
            [
             0.7777777777777778,
             "#fb9f3a"
            ],
            [
             0.8888888888888888,
             "#fdca26"
            ],
            [
             1,
             "#f0f921"
            ]
           ]
          },
          "colorway": [
           "#636efa",
           "#EF553B",
           "#00cc96",
           "#ab63fa",
           "#FFA15A",
           "#19d3f3",
           "#FF6692",
           "#B6E880",
           "#FF97FF",
           "#FECB52"
          ],
          "font": {
           "color": "#2a3f5f"
          },
          "geo": {
           "bgcolor": "white",
           "lakecolor": "white",
           "landcolor": "#E5ECF6",
           "showlakes": true,
           "showland": true,
           "subunitcolor": "white"
          },
          "hoverlabel": {
           "align": "left"
          },
          "hovermode": "closest",
          "mapbox": {
           "style": "light"
          },
          "paper_bgcolor": "white",
          "plot_bgcolor": "#E5ECF6",
          "polar": {
           "angularaxis": {
            "gridcolor": "white",
            "linecolor": "white",
            "ticks": ""
           },
           "bgcolor": "#E5ECF6",
           "radialaxis": {
            "gridcolor": "white",
            "linecolor": "white",
            "ticks": ""
           }
          },
          "scene": {
           "xaxis": {
            "backgroundcolor": "#E5ECF6",
            "gridcolor": "white",
            "gridwidth": 2,
            "linecolor": "white",
            "showbackground": true,
            "ticks": "",
            "zerolinecolor": "white"
           },
           "yaxis": {
            "backgroundcolor": "#E5ECF6",
            "gridcolor": "white",
            "gridwidth": 2,
            "linecolor": "white",
            "showbackground": true,
            "ticks": "",
            "zerolinecolor": "white"
           },
           "zaxis": {
            "backgroundcolor": "#E5ECF6",
            "gridcolor": "white",
            "gridwidth": 2,
            "linecolor": "white",
            "showbackground": true,
            "ticks": "",
            "zerolinecolor": "white"
           }
          },
          "shapedefaults": {
           "line": {
            "color": "#2a3f5f"
           }
          },
          "ternary": {
           "aaxis": {
            "gridcolor": "white",
            "linecolor": "white",
            "ticks": ""
           },
           "baxis": {
            "gridcolor": "white",
            "linecolor": "white",
            "ticks": ""
           },
           "bgcolor": "#E5ECF6",
           "caxis": {
            "gridcolor": "white",
            "linecolor": "white",
            "ticks": ""
           }
          },
          "title": {
           "x": 0.05
          },
          "xaxis": {
           "automargin": true,
           "gridcolor": "white",
           "linecolor": "white",
           "ticks": "",
           "title": {
            "standoff": 15
           },
           "zerolinecolor": "white",
           "zerolinewidth": 2
          },
          "yaxis": {
           "automargin": true,
           "gridcolor": "white",
           "linecolor": "white",
           "ticks": "",
           "title": {
            "standoff": 15
           },
           "zerolinecolor": "white",
           "zerolinewidth": 2
          }
         }
        },
        "title": {
         "text": "9-Atom Configuration: -23.2698J"
        },
        "width": 600
       }
      }
     },
     "metadata": {},
     "output_type": "display_data"
    }
   ],
   "source": [
    "for atoms in range(2,10):\n",
    "    config = bfgs(atoms, debug=False, g_tol=1e-8, energy_tol=1e-8, debug_rate=20)\n",
    "    plot_3d_points(*config)"
   ]
  },
  {
   "cell_type": "code",
   "execution_count": null,
   "id": "b55a135c-fb4b-480c-93e2-eb810bf220e9",
   "metadata": {},
   "outputs": [],
   "source": []
  }
 ],
 "metadata": {
  "kernelspec": {
   "display_name": "mlc-config",
   "language": "python",
   "name": "python3"
  },
  "language_info": {
   "codemirror_mode": {
    "name": "ipython",
    "version": 3
   },
   "file_extension": ".py",
   "mimetype": "text/x-python",
   "name": "python",
   "nbconvert_exporter": "python",
   "pygments_lexer": "ipython3",
   "version": "3.10.12"
  }
 },
 "nbformat": 4,
 "nbformat_minor": 5
}
