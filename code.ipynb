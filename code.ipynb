{
 "cells": [
  {
   "cell_type": "code",
   "execution_count": null,
   "id": "a961ca72-a2e2-490c-8640-ff90ed69e36a",
   "metadata": {},
   "outputs": [],
   "source": [
    "import numpy as np\n",
    "import matplotlib.pyplot as plt \n",
    "import torch\n",
    "import generator\n",
    "import plotly.graph_objects as go\n",
    "from itertools import combinations\n",
    "from scipy.spatial.transform import Rotation as R\n",
    "from sklearn.decomposition import PCA"
   ]
  },
  {
   "cell_type": "code",
   "execution_count": null,
   "id": "059e854a-7289-44f4-bd0c-4663afb581e1",
   "metadata": {},
   "outputs": [],
   "source": [
    "def V(X, i, j):\n",
    "    r_ij = X[i] - X[j]\n",
    "    r = torch.norm(r_ij).pow(-6)\n",
    "    return r.pow(2) - 2 * r\n",
    "\n",
    "def center(X):\n",
    "    Y = X - X[0]\n",
    "    return Y\n",
    "    \n",
    "def system_potential(X):\n",
    "    N, _ = X.shape\n",
    "    energy = 0.0\n",
    "    Y = center(X)\n",
    "    for i in range(N - 1):\n",
    "        for j in range(i + 1, N): \n",
    "            energy += V(Y, i, j)\n",
    "    return energy\n",
    "\n",
    "def line_search(X, energy, g, alpha_0=1.0, factor=0.5, c=1e-4, max_iter=10, tol=1e-8):\n",
    "    alpha = alpha_0\n",
    "    dot = torch.sum(-g * g).item()    \n",
    "    for _ in range(max_iter):\n",
    "        X_k = X - alpha * g\n",
    "        energy_new = system_potential(X_k)\n",
    "\n",
    "        if energy_new <= energy + c * alpha * dot:\n",
    "            break\n",
    "        alpha *= factor\n",
    "        if alpha < tol:\n",
    "            break\n",
    "    return alpha\n",
    "\n",
    "def gd_solve(natoms, lr=0.008, tol=1e-8, max_iter=2001, debug=True, debug_rate=400, save_initial=False, gen=generator.uniform_sphere):\n",
    "    X = gen(natoms).clone().requires_grad_().to('cuda' if torch.cuda.is_available() else 'cpu', torch.float64)\n",
    "    if save_initial:\n",
    "        orig = X.clone()\n",
    "\n",
    "    for _iter_ in range(max_iter):\n",
    "        energy = system_potential(X) \n",
    "        g = torch.autograd.grad(energy, X)[0] \n",
    "\n",
    "        g_norm = g.norm().item()\n",
    "        if g_norm < tol:\n",
    "            if debug:\n",
    "                print(f\"Converged on step {_iter_}, energy: {energy.item():.6f}, gradient norm = {g_norm:.3e}\")\n",
    "            break\n",
    "        \n",
    "        with torch.no_grad(): \n",
    "            X -= line_search(X, energy, g) * g \n",
    "            X.requires_grad_() \n",
    "\n",
    "        if debug and _iter_ % debug_rate == 0:\n",
    "            print(f\"Step {_iter_}, energy: {energy.item():.6f}, gradient norm: {g_norm:.2e}\")\n",
    "    if save_initial:\n",
    "        return orig.detach(), X.detach(), energy    \n",
    "    return X.detach(), energy"
   ]
  },
  {
   "cell_type": "code",
   "execution_count": null,
   "id": "145a60c0-23c4-4a87-9f39-d66bd82b947c",
   "metadata": {},
   "outputs": [],
   "source": [
    "def plot_3d_points(points, energy):\n",
    "    points_np = center(points).numpy()\n",
    "    N,_ = points_np.shape\n",
    "    x = points_np[:, 0]\n",
    "    y = points_np[:, 1]\n",
    "    z = points_np[:, 2]\n",
    "    fig = go.Figure()\n",
    "    for i, j in combinations(range(len(points_np)), 2):\n",
    "        edge_len = np.linalg.norm(points_np[i] - points_np[j])\n",
    "        V_ij = V(points, i, j)\n",
    "        fig.add_trace(go.Scatter3d(\n",
    "            x=[points_np[i, 0], points_np[j, 0]],\n",
    "            y=[points_np[i, 1], points_np[j, 1]],\n",
    "            z=[points_np[i, 2], points_np[j, 2]],\n",
    "            mode='lines',\n",
    "            line=dict(color='rgb(173, 216, 230, 0.4)', width=8),\n",
    "            showlegend=False, \n",
    "            hovertext=f\"Length: {edge_len:.2e}, Contributes {V_ij:.2e}J\",\n",
    "            hoverinfo=\"text\",\n",
    "        ))\n",
    "    fig.add_trace(go.Scatter3d(\n",
    "        x=x, y=y, z=z,\n",
    "        mode='markers',\n",
    "        hovertext=[f\"Point {i + 1}\" for i in range(N)],\n",
    "        marker=dict(size=8, color='red'),\n",
    "        showlegend=False\n",
    "    ))\n",
    "    fig.update_layout(\n",
    "        scene=dict(\n",
    "            xaxis=dict(showgrid=False, zeroline=False, showticklabels=False, title=''),  # Remove grid, zero line, and ticks\n",
    "            yaxis=dict(showgrid=False, zeroline=False, showticklabels=False, title=''),\n",
    "            zaxis=dict(showgrid=False, zeroline=False, showticklabels=False, title=''),\n",
    "        ),\n",
    "        title=f\"{N}-Atom Configuration: {energy:.6f}J\",\n",
    "        width=600,\n",
    "        height=400,\n",
    "        plot_bgcolor='rgba(0,0,0,0)',\n",
    "        paper_bgcolor='rgba(0,0,0,0)',\n",
    "    )\n",
    "    fig.update_scenes(xaxis_visible=False, yaxis_visible=False,zaxis_visible=False)\n",
    "    fig.show()"
   ]
  },
  {
   "cell_type": "code",
   "execution_count": null,
   "id": "0bcc3e34",
   "metadata": {},
   "outputs": [],
   "source": [
    "X_init, X, energy = gd_solve(3, debug=False, save_initial=True)\n",
    "print(f\"Final energy: {energy.item():.6f}J\")\n",
    "print(f\"Final configuration:\\n{X}\")"
   ]
  },
  {
   "cell_type": "code",
   "execution_count": 20,
   "id": "73675db7-3339-41c2-8577-8d0dbbe92031",
   "metadata": {
    "scrolled": true
   },
   "outputs": [
    {
     "name": "stdout",
     "output_type": "stream",
     "text": [
      "Step 0, energy: -0.042197, gradient norm: 1.87e-01\n",
      "Step 2000, energy: -1.000000, gradient norm: 1.47e-08\n",
      "Step 0, energy: -0.221921, gradient norm: 7.62e-01\n",
      "Step 2000, energy: -3.000000, gradient norm: 2.08e-07\n",
      "Step 0, energy: -0.716374, gradient norm: 2.15e+00\n",
      "Step 2000, energy: -6.000000, gradient norm: 4.78e-07\n",
      "Step 0, energy: -1.726253, gradient norm: 4.39e+00\n",
      "Step 2000, energy: -9.103852, gradient norm: 1.99e-07\n",
      "Step 0, energy: -3.451955, gradient norm: 7.69e+00\n",
      "Converged on step 66, energy: -12.712062, gradient norm = 7.254e-09\n",
      "Step 0, energy: -6.024230, gradient norm: 1.16e+01\n",
      "Converged on step 389, energy: -16.505384, gradient norm = 8.519e-09\n",
      "Step 0, energy: -9.440679, gradient norm: 1.51e+01\n",
      "Converged on step 502, energy: -19.765298, gradient norm = 4.281e-09\n",
      "Step 0, energy: -13.541830, gradient norm: 1.67e+01\n",
      "Converged on step 370, energy: -23.269812, gradient norm = 7.794e-09\n",
      "Step 0, energy: -17.912500, gradient norm: 1.69e+01\n",
      "Converged on step 706, energy: -26.771677, gradient norm = 8.644e-09\n",
      "Step 0, energy: -21.738426, gradient norm: 2.42e+01\n",
      "Converged on step 726, energy: -32.765970, gradient norm = 9.600e-09\n"
     ]
    }
   ],
   "source": [
    "for atoms in range(2,12):\n",
    "    config = gd_solve(atoms, debug=True, debug_rate=2000)\n",
    "    #plot_3d_points(*config)"
   ]
  },
  {
   "cell_type": "code",
   "execution_count": null,
   "id": "1af3c7eb",
   "metadata": {},
   "outputs": [],
   "source": [
    "# Verify that line search works right\n",
    "\n",
    "X = generator.uniform_sphere(3).clone().requires_grad_(True)\n",
    "for i in range(20):\n",
    "    E = system_potential(X)\n",
    "    g = torch.autograd.grad(E, X)[0]\n",
    "    p = -g.view(-1)                        \n",
    "    a = line_search(X, E, g, alpha_0=0.1)   # try 0.1 or whatever lr\n",
    "    with torch.no_grad():\n",
    "        X = X + a * p.view_as(X)\n",
    "        X = X - X[0]\n",
    "    X.requires_grad_(True)\n",
    "    print(f\"Iter {i:2d}: E = {E.item():.6f}, ‖grad‖ = {g.norm().item():.2e}, a = {a:.3f}\")\n"
   ]
  },
  {
   "cell_type": "code",
   "execution_count": null,
   "id": "ff3686c0-5963-4a8e-9491-b68311a7ca28",
   "metadata": {},
   "outputs": [],
   "source": [
    "def bfgs_step(X, energy, g, H_inv, alpha=1.0, max_iter=10, tol=1e-8):\n",
    "    N, _ = X.shape\n",
    "\n",
    "    # flatten & slice out the free variables\n",
    "    g_full = g.view(-1)\n",
    "    g_free = g_full[3:]\n",
    "\n",
    "    # descent dir in the free subspace\n",
    "    s_free = - H_inv @ g_free\n",
    "\n",
    "    # line search (still uses the full X and full g)\n",
    "    alpha = line_search(X, energy, g, alpha_0=alpha, max_iter=max_iter, tol=tol)\n",
    "\n",
    "    # take a step in the free variables\n",
    "    x_full = X.clone().detach().view(-1)\n",
    "    x_free = x_full[3:]\n",
    "    x_free_new = x_free + alpha * s_free\n",
    "\n",
    "    # reassemble X_new\n",
    "    x_full[3:] = x_free_new\n",
    "    X_new = x_full.view(N,3).requires_grad_(True)\n",
    "\n",
    "    # eval new energy & gradient\n",
    "    energy_new = system_potential(X_new)\n",
    "    g_new_full = torch.autograd.grad(energy_new, X_new)[0]\n",
    "    g_new = g_new_full.view(-1)\n",
    "    g_new_free = g_new[3:]\n",
    "\n",
    "    # BFGS inverse‐Hessian update on the free subspace\n",
    "    s = x_free_new - x_free\n",
    "    y = g_new_free - g_free\n",
    "    ys = (y @ s).item()\n",
    "\n",
    "    if ys <= 1e-8:\n",
    "        H_inv_new = H_inv.clone()\n",
    "    else:\n",
    "        rho = 1.0 / ys\n",
    "        I   = torch.eye(H_inv.shape[0], device=H_inv.device)\n",
    "        V   = I - rho * torch.outer(s, y)\n",
    "        with torch.no_grad():\n",
    "            H_inv_new = V @ H_inv @ V.T + rho * torch.outer(s, s)\n",
    "\n",
    "    return X_new, energy_new, g_new_full, H_inv_new, alpha\n",
    "\n",
    "def bfgs(natoms, lr=0.008, g_tol=1e-8, energy_tol=1e-8, max_iter=2001, debug=True, debug_rate=400, save_initial=False, gen=generator.uniform_sphere):\n",
    "    X = gen(natoms).clone().requires_grad_().to('cuda' if torch.cuda.is_available() else 'cpu', torch.float64)\n",
    "    if save_initial:\n",
    "        orig = X.clone()\n",
    "    \n",
    "    N, _ = X.shape\n",
    "    H_inv = torch.eye(3 * (N - 1), dtype=torch.float64).to(X.device) \n",
    "\n",
    "    X = X.clone().detach().requires_grad_(True) # make sure autograd returns valid\n",
    "\n",
    "    for _iter_ in range(max_iter):\n",
    "        energy = system_potential(X)\n",
    "        g = torch.autograd.grad(energy, X)[0]\n",
    "\n",
    "        X_new, energy_new, g_new, H_inv, alpha = bfgs_step(X, energy, g, H_inv, alpha=lr)\n",
    "\n",
    "        if abs(energy_new - energy) < energy_tol:\n",
    "            if debug:\n",
    "                print(f\"Converged on step {_iter_}, energy: {energy_new.item():.6f}, gradient norm = {g_norm:.3e}\")\n",
    "            break\n",
    "\n",
    "        g_norm = g.norm().item()\n",
    "        if g_norm < g_tol:\n",
    "            if debug:\n",
    "                print(f\"Converged on step {_iter_}, energy: {energy.item():.6f}, gradient norm = {g_norm:.3e}\")\n",
    "            break\n",
    "        \n",
    "        if debug and _iter_ % debug_rate == 0:\n",
    "            print(f\"Step {_iter_}, energy: {energy_new.item():.6f}, gradient norm: {g_norm:.2e}, step size: {alpha:.4e}\")\n",
    "        \n",
    "        X, energy = X_new, energy_new\n",
    "\n",
    "    if save_initial:\n",
    "        return orig.detach(), X.detach(), energy_new \n",
    "    return X.detach(), energy_new"
   ]
  },
  {
   "cell_type": "code",
   "execution_count": null,
   "id": "7556e3ce",
   "metadata": {},
   "outputs": [],
   "source": [
    "config = bfgs(9, debug=True, g_tol=1e-8, energy_tol=1e-12, debug_rate=20)\n",
    "plot_3d_points(*config)"
   ]
  },
  {
   "cell_type": "code",
   "execution_count": 17,
   "id": "86bd98dd-7148-4699-acba-da11e4dde82d",
   "metadata": {},
   "outputs": [
    {
     "name": "stdout",
     "output_type": "stream",
     "text": [
      "Step 0, energy: -0.042336, gradient norm: 1.87e-01, step size: 8.0000e-03\n",
      "Converged on step 247, energy: -1.000000, gradient norm = 3.266e-03\n",
      "Step 0, energy: -0.224873, gradient norm: 7.62e-01, step size: 8.0000e-03\n",
      "Converged on step 113, energy: -3.000000, gradient norm = 2.256e-03\n",
      "Step 0, energy: -0.743597, gradient norm: 2.15e+00, step size: 8.0000e-03\n",
      "Converged on step 69, energy: -6.000000, gradient norm = 3.047e-03\n",
      "Step 0, energy: -1.851902, gradient norm: 4.39e+00, step size: 8.0000e-03\n",
      "Converged on step 59, energy: -9.103852, gradient norm = 9.032e-03\n",
      "Step 0, energy: -3.862373, gradient norm: 7.69e+00, step size: 8.0000e-03\n",
      "Converged on step 76, energy: -12.302927, gradient norm = 6.850e-03\n",
      "Step 0, energy: -6.998799, gradient norm: 1.16e+01, step size: 8.0000e-03\n",
      "Converged on step 94, energy: -16.505384, gradient norm = 4.265e-03\n",
      "Step 0, energy: -11.062914, gradient norm: 1.51e+01, step size: 8.0000e-03\n",
      "Converged on step 86, energy: -19.765297, gradient norm = 8.230e-03\n",
      "Step 0, energy: -15.444514, gradient norm: 1.67e+01, step size: 8.0000e-03\n",
      "Converged on step 68, energy: -23.269812, gradient norm = 7.846e-03\n",
      "Step 0, energy: -19.679659, gradient norm: 1.69e+01, step size: 8.0000e-03\n",
      "Converged on step 111, energy: -26.771677, gradient norm = 1.774e-02\n",
      "Step 0, energy: -22.228964, gradient norm: 2.42e+01, step size: 8.0000e-03\n",
      "Converged on step 124, energy: -31.775152, gradient norm = 2.242e-02\n"
     ]
    }
   ],
   "source": [
    "for atoms in range(2,12):\n",
    "    config = bfgs(atoms, debug=True, g_tol=1e-8, energy_tol=1e-8, debug_rate=400)\n",
    "    #plot_3d_points(*config)"
   ]
  },
  {
   "cell_type": "code",
   "execution_count": 24,
   "id": "b55a135c-fb4b-480c-93e2-eb810bf220e9",
   "metadata": {},
   "outputs": [
    {
     "name": "stdout",
     "output_type": "stream",
     "text": [
      "Step 0, energy: -0.000003, gradient norm: 4.91e+04, step size: 8.0000e-03\n",
      "Converged on step 1, energy: -0.000003, gradient norm = 4.907e+04\n"
     ]
    },
    {
     "data": {
      "application/vnd.plotly.v1+json": {
       "config": {
        "plotlyServerURL": "https://plot.ly"
       },
       "data": [
        {
         "hoverinfo": "text",
         "hovertext": "Length: 5.53e+01, Contributes -7.03e-11J",
         "line": {
          "color": "rgb(173, 216, 230, 0.4)",
          "width": 8
         },
         "mode": "lines",
         "showlegend": false,
         "type": "scatter3d",
         "x": [
          0,
          11.930266149949755
         ],
         "y": [
          0,
          12.93447468400331
         ],
         "z": [
          0,
          52.3816799439684
         ]
        },
        {
         "hoverinfo": "text",
         "hovertext": "Length: 5.23e+01, Contributes -9.79e-11J",
         "line": {
          "color": "rgb(173, 216, 230, 0.4)",
          "width": 8
         },
         "mode": "lines",
         "showlegend": false,
         "type": "scatter3d",
         "x": [
          0,
          6.097361544304986
         ],
         "y": [
          0,
          -35.886195046462845
         ],
         "z": [
          0,
          37.536603215223586
         ]
        },
        {
         "hoverinfo": "text",
         "hovertext": "Length: 1.59e+02, Contributes -1.23e-13J",
         "line": {
          "color": "rgb(173, 216, 230, 0.4)",
          "width": 8
         },
         "mode": "lines",
         "showlegend": false,
         "type": "scatter3d",
         "x": [
          0,
          -3.4982918217537953
         ],
         "y": [
          0,
          159.0550967174916
         ],
         "z": [
          0,
          -6.214526088337749
         ]
        },
        {
         "hoverinfo": "text",
         "hovertext": "Length: 9.27e+01, Contributes -3.14e-12J",
         "line": {
          "color": "rgb(173, 216, 230, 0.4)",
          "width": 8
         },
         "mode": "lines",
         "showlegend": false,
         "type": "scatter3d",
         "x": [
          0,
          -26.025710017647018
         ],
         "y": [
          0,
          -84.9195829142241
         ],
         "z": [
          0,
          26.712402975311274
         ]
        },
        {
         "hoverinfo": "text",
         "hovertext": "Length: 5.90e+01, Contributes -4.73e-11J",
         "line": {
          "color": "rgb(173, 216, 230, 0.4)",
          "width": 8
         },
         "mode": "lines",
         "showlegend": false,
         "type": "scatter3d",
         "x": [
          0,
          43.39442449701469
         ],
         "y": [
          0,
          24.20361220085746
         ],
         "z": [
          0,
          31.87166436808289
         ]
        },
        {
         "hoverinfo": "text",
         "hovertext": "Length: 4.63e+01, Contributes -2.03e-10J",
         "line": {
          "color": "rgb(173, 216, 230, 0.4)",
          "width": 8
         },
         "mode": "lines",
         "showlegend": false,
         "type": "scatter3d",
         "x": [
          0,
          -20.22326619584203
         ],
         "y": [
          0,
          38.90975595285775
         ],
         "z": [
          0,
          14.835195765732355
         ]
        },
        {
         "hoverinfo": "text",
         "hovertext": "Length: 5.28e+01, Contributes -9.26e-11J",
         "line": {
          "color": "rgb(173, 216, 230, 0.4)",
          "width": 8
         },
         "mode": "lines",
         "showlegend": false,
         "type": "scatter3d",
         "x": [
          0,
          -37.471356034170825
         ],
         "y": [
          0,
          -36.72417729918526
         ],
         "z": [
          0,
          5.627256380891324
         ]
        },
        {
         "hoverinfo": "text",
         "hovertext": "Length: 5.48e+01, Contributes -7.35e-11J",
         "line": {
          "color": "rgb(173, 216, 230, 0.4)",
          "width": 8
         },
         "mode": "lines",
         "showlegend": false,
         "type": "scatter3d",
         "x": [
          0,
          53.48214582683028
         ],
         "y": [
          0,
          -10.700104304816078
         ],
         "z": [
          0,
          5.749446530516773
         ]
        },
        {
         "hoverinfo": "text",
         "hovertext": "Length: 5.37e+01, Contributes -8.35e-11J",
         "line": {
          "color": "rgb(173, 216, 230, 0.4)",
          "width": 8
         },
         "mode": "lines",
         "showlegend": false,
         "type": "scatter3d",
         "x": [
          0,
          -27.26374276547555
         ],
         "y": [
          0,
          45.4358617266683
         ],
         "z": [
          0,
          8.65621170461496
         ]
        },
        {
         "hoverinfo": "text",
         "hovertext": "Length: 5.04e+01, Contributes -1.21e-10J",
         "line": {
          "color": "rgb(173, 216, 230, 0.4)",
          "width": 8
         },
         "mode": "lines",
         "showlegend": false,
         "type": "scatter3d",
         "x": [
          0,
          -10.424136570599615
         ],
         "y": [
          0,
          -48.212882880081324
         ],
         "z": [
          0,
          10.568298493360082
         ]
        },
        {
         "hoverinfo": "text",
         "hovertext": "Length: 4.65e+01, Contributes -1.97e-10J",
         "line": {
          "color": "rgb(173, 216, 230, 0.4)",
          "width": 8
         },
         "mode": "lines",
         "showlegend": false,
         "type": "scatter3d",
         "x": [
          0,
          34.82119922982325
         ],
         "y": [
          0,
          29.035653256713218
         ],
         "z": [
          0,
          10.39294777544175
         ]
        },
        {
         "hoverinfo": "text",
         "hovertext": "Length: 4.34e+01, Contributes -2.98e-10J",
         "line": {
          "color": "rgb(173, 216, 230, 0.4)",
          "width": 8
         },
         "mode": "lines",
         "showlegend": false,
         "type": "scatter3d",
         "x": [
          0,
          -42.48925195651236
         ],
         "y": [
          0,
          -3.189715524579556
         ],
         "z": [
          0,
          8.353677607658044
         ]
        },
        {
         "hoverinfo": "text",
         "hovertext": "Length: 4.02e+01, Contributes -4.76e-10J",
         "line": {
          "color": "rgb(173, 216, 230, 0.4)",
          "width": 8
         },
         "mode": "lines",
         "showlegend": false,
         "type": "scatter3d",
         "x": [
          0,
          34.87832855642639
         ],
         "y": [
          0,
          -19.279441687731474
         ],
         "z": [
          0,
          5.074135338013185
         ]
        },
        {
         "hoverinfo": "text",
         "hovertext": "Length: 3.90e+01, Contributes -5.64e-10J",
         "line": {
          "color": "rgb(173, 216, 230, 0.4)",
          "width": 8
         },
         "mode": "lines",
         "showlegend": false,
         "type": "scatter3d",
         "x": [
          0,
          -19.417687339830007
         ],
         "y": [
          0,
          33.85718643461044
         ],
         "z": [
          0,
          1.1185451231485573
         ]
        },
        {
         "hoverinfo": "text",
         "hovertext": "Length: 3.90e+01, Contributes -5.66e-10J",
         "line": {
          "color": "rgb(173, 216, 230, 0.4)",
          "width": 8
         },
         "mode": "lines",
         "showlegend": false,
         "type": "scatter3d",
         "x": [
          0,
          -1.4645607753420498
         ],
         "y": [
          0,
          -38.884923108358386
         ],
         "z": [
          0,
          -3.0518725090023056
         ]
        },
        {
         "hoverinfo": "text",
         "hovertext": "Length: 4.05e+01, Contributes -4.50e-10J",
         "line": {
          "color": "rgb(173, 216, 230, 0.4)",
          "width": 8
         },
         "mode": "lines",
         "showlegend": false,
         "type": "scatter3d",
         "x": [
          0,
          21.87443335532114
         ],
         "y": [
          0,
          33.41299118583273
         ],
         "z": [
          0,
          -7.006768944564678
         ]
        },
        {
         "hoverinfo": "text",
         "hovertext": "Length: 4.38e+01, Contributes -2.83e-10J",
         "line": {
          "color": "rgb(173, 216, 230, 0.4)",
          "width": 8
         },
         "mode": "lines",
         "showlegend": false,
         "type": "scatter3d",
         "x": [
          0,
          -39.12505184920254
         ],
         "y": [
          0,
          -16.825592019504082
         ],
         "z": [
          0,
          -10.28694881577914
         ]
        },
        {
         "hoverinfo": "text",
         "hovertext": "Length: 4.69e+01, Contributes -1.87e-10J",
         "line": {
          "color": "rgb(173, 216, 230, 0.4)",
          "width": 8
         },
         "mode": "lines",
         "showlegend": false,
         "type": "scatter3d",
         "x": [
          0,
          44.301854325862216
         ],
         "y": [
          0,
          -9.383850675228944
         ],
         "z": [
          0,
          -12.326509564900187
         ]
        },
        {
         "hoverinfo": "text",
         "hovertext": "Length: 5.10e+01, Contributes -1.14e-10J",
         "line": {
          "color": "rgb(173, 216, 230, 0.4)",
          "width": 8
         },
         "mode": "lines",
         "showlegend": false,
         "type": "scatter3d",
         "x": [
          0,
          -31.684556807974634
         ],
         "y": [
          0,
          37.946231546294484
         ],
         "z": [
          0,
          -12.503482126454415
         ]
        },
        {
         "hoverinfo": "text",
         "hovertext": "Length: 5.39e+01, Contributes -8.14e-11J",
         "line": {
          "color": "rgb(173, 216, 230, 0.4)",
          "width": 8
         },
         "mode": "lines",
         "showlegend": false,
         "type": "scatter3d",
         "x": [
          0,
          -3.026126601610173
         ],
         "y": [
          0,
          -52.78161454872874
         ],
         "z": [
          0,
          -10.590838088051248
         ]
        },
        {
         "hoverinfo": "text",
         "hovertext": "Length: 5.51e+01, Contributes -7.12e-11J",
         "line": {
          "color": "rgb(173, 216, 230, 0.4)",
          "width": 8
         },
         "mode": "lines",
         "showlegend": false,
         "type": "scatter3d",
         "x": [
          0,
          42.33357265378528
         ],
         "y": [
          0,
          34.469598861204375
         ],
         "z": [
          0,
          -7.6842190572775255
         ]
        },
        {
         "hoverinfo": "text",
         "hovertext": "Length: 5.31e+01, Contributes -8.95e-11J",
         "line": {
          "color": "rgb(173, 216, 230, 0.4)",
          "width": 8
         },
         "mode": "lines",
         "showlegend": false,
         "type": "scatter3d",
         "x": [
          0,
          -50.281894363098544
         ],
         "y": [
          0,
          15.195410173301307
         ],
         "z": [
          0,
          -7.561575908402102
         ]
        },
        {
         "hoverinfo": "text",
         "hovertext": "Length: 4.68e+01, Contributes -1.89e-10J",
         "line": {
          "color": "rgb(173, 216, 230, 0.4)",
          "width": 8
         },
         "mode": "lines",
         "showlegend": false,
         "type": "scatter3d",
         "x": [
          0,
          0.1703309069161888
         ],
         "y": [
          0,
          -43.73169340258058
         ],
         "z": [
          0,
          -16.768504614357497
         ]
        },
        {
         "hoverinfo": "text",
         "hovertext": "Length: 6.01e+01, Contributes -4.26e-11J",
         "line": {
          "color": "rgb(173, 216, 230, 0.4)",
          "width": 8
         },
         "mode": "lines",
         "showlegend": false,
         "type": "scatter3d",
         "x": [
          0,
          49.6414415866731
         ],
         "y": [
          0,
          -1.116304089859976
         ],
         "z": [
          0,
          -33.80388320831996
         ]
        },
        {
         "hoverinfo": "text",
         "hovertext": "Length: 9.34e+01, Contributes -3.01e-12J",
         "line": {
          "color": "rgb(173, 216, 230, 0.4)",
          "width": 8
         },
         "mode": "lines",
         "showlegend": false,
         "type": "scatter3d",
         "x": [
          0,
          -62.57342423074659
         ],
         "y": [
          0,
          63.17909048726257
         ],
         "z": [
          0,
          -28.644617573960343
         ]
        },
        {
         "hoverinfo": "text",
         "hovertext": "Length: 1.59e+02, Contributes -1.24e-13J",
         "line": {
          "color": "rgb(173, 216, 230, 0.4)",
          "width": 8
         },
         "mode": "lines",
         "showlegend": false,
         "type": "scatter3d",
         "x": [
          0,
          70.87130849026862
         ],
         "y": [
          0,
          -142.2999843685264
         ],
         "z": [
          0,
          4.28184466416092
         ]
        },
        {
         "hoverinfo": "text",
         "hovertext": "Length: 5.38e+01, Contributes -8.27e-11J",
         "line": {
          "color": "rgb(173, 216, 230, 0.4)",
          "width": 8
         },
         "mode": "lines",
         "showlegend": false,
         "type": "scatter3d",
         "x": [
          0,
          -11.328864799097097
         ],
         "y": [
          0,
          34.722340650845624
         ],
         "z": [
          0,
          -39.468828835257014
         ]
        },
        {
         "hoverinfo": "text",
         "hovertext": "Length: 5.71e+01, Contributes -5.79e-11J",
         "line": {
          "color": "rgb(173, 216, 230, 0.4)",
          "width": 8
         },
         "mode": "lines",
         "showlegend": false,
         "type": "scatter3d",
         "x": [
          0,
          16.548577363715196
         ],
         "y": [
          0,
          -5.780648217739201
         ],
         "z": [
          0,
          -54.31435391571992
         ]
        },
        {
         "hoverinfo": "text",
         "hovertext": "Length: 1.20e+02, Contributes -6.62e-13J",
         "line": {
          "color": "rgb(173, 216, 230, 0.4)",
          "width": 8
         },
         "mode": "lines",
         "showlegend": false,
         "type": "scatter3d",
         "x": [
          0,
          -45.21634097189665
         ],
         "y": [
          0,
          72.41917815142078
         ],
         "z": [
          0,
          -84.67734565159046
         ]
        },
        {
         "hoverinfo": "text",
         "hovertext": "Length: 5.14e+01, Contributes -1.09e-10J",
         "line": {
          "color": "rgb(173, 216, 230, 0.4)",
          "width": 8
         },
         "mode": "lines",
         "showlegend": false,
         "type": "scatter3d",
         "x": [
          11.930266149949755,
          6.097361544304986
         ],
         "y": [
          12.93447468400331,
          -35.886195046462845
         ],
         "z": [
          52.3816799439684,
          37.536603215223586
         ]
        },
        {
         "hoverinfo": "text",
         "hovertext": "Length: 1.58e+02, Contributes -1.28e-13J",
         "line": {
          "color": "rgb(173, 216, 230, 0.4)",
          "width": 8
         },
         "mode": "lines",
         "showlegend": false,
         "type": "scatter3d",
         "x": [
          11.930266149949755,
          -3.4982918217537953
         ],
         "y": [
          12.93447468400331,
          159.0550967174916
         ],
         "z": [
          52.3816799439684,
          -6.214526088337749
         ]
        },
        {
         "hoverinfo": "text",
         "hovertext": "Length: 1.08e+02, Contributes -1.26e-12J",
         "line": {
          "color": "rgb(173, 216, 230, 0.4)",
          "width": 8
         },
         "mode": "lines",
         "showlegend": false,
         "type": "scatter3d",
         "x": [
          11.930266149949755,
          -26.025710017647018
         ],
         "y": [
          12.93447468400331,
          -84.9195829142241
         ],
         "z": [
          52.3816799439684,
          26.712402975311274
         ]
        },
        {
         "hoverinfo": "text",
         "hovertext": "Length: 3.92e+01, Contributes -5.50e-10J",
         "line": {
          "color": "rgb(173, 216, 230, 0.4)",
          "width": 8
         },
         "mode": "lines",
         "showlegend": false,
         "type": "scatter3d",
         "x": [
          11.930266149949755,
          43.39442449701469
         ],
         "y": [
          12.93447468400331,
          24.20361220085746
         ],
         "z": [
          52.3816799439684,
          31.87166436808289
         ]
        },
        {
         "hoverinfo": "text",
         "hovertext": "Length: 5.58e+01, Contributes -6.60e-11J",
         "line": {
          "color": "rgb(173, 216, 230, 0.4)",
          "width": 8
         },
         "mode": "lines",
         "showlegend": false,
         "type": "scatter3d",
         "x": [
          11.930266149949755,
          -20.22326619584203
         ],
         "y": [
          12.93447468400331,
          38.90975595285775
         ],
         "z": [
          52.3816799439684,
          14.835195765732355
         ]
        },
        {
         "hoverinfo": "text",
         "hovertext": "Length: 8.42e+01, Contributes -5.61e-12J",
         "line": {
          "color": "rgb(173, 216, 230, 0.4)",
          "width": 8
         },
         "mode": "lines",
         "showlegend": false,
         "type": "scatter3d",
         "x": [
          11.930266149949755,
          -37.471356034170825
         ],
         "y": [
          12.93447468400331,
          -36.72417729918526
         ],
         "z": [
          52.3816799439684,
          5.627256380891324
         ]
        },
        {
         "hoverinfo": "text",
         "hovertext": "Length: 6.68e+01, Contributes -2.25e-11J",
         "line": {
          "color": "rgb(173, 216, 230, 0.4)",
          "width": 8
         },
         "mode": "lines",
         "showlegend": false,
         "type": "scatter3d",
         "x": [
          11.930266149949755,
          53.48214582683028
         ],
         "y": [
          12.93447468400331,
          -10.700104304816078
         ],
         "z": [
          52.3816799439684,
          5.749446530516773
         ]
        },
        {
         "hoverinfo": "text",
         "hovertext": "Length: 6.71e+01, Contributes -2.19e-11J",
         "line": {
          "color": "rgb(173, 216, 230, 0.4)",
          "width": 8
         },
         "mode": "lines",
         "showlegend": false,
         "type": "scatter3d",
         "x": [
          11.930266149949755,
          -27.26374276547555
         ],
         "y": [
          12.93447468400331,
          45.4358617266683
         ],
         "z": [
          52.3816799439684,
          8.65621170461496
         ]
        },
        {
         "hoverinfo": "text",
         "hovertext": "Length: 7.74e+01, Contributes -9.32e-12J",
         "line": {
          "color": "rgb(173, 216, 230, 0.4)",
          "width": 8
         },
         "mode": "lines",
         "showlegend": false,
         "type": "scatter3d",
         "x": [
          11.930266149949755,
          -10.424136570599615
         ],
         "y": [
          12.93447468400331,
          -48.212882880081324
         ],
         "z": [
          52.3816799439684,
          10.568298493360082
         ]
        },
        {
         "hoverinfo": "text",
         "hovertext": "Length: 5.05e+01, Contributes -1.21e-10J",
         "line": {
          "color": "rgb(173, 216, 230, 0.4)",
          "width": 8
         },
         "mode": "lines",
         "showlegend": false,
         "type": "scatter3d",
         "x": [
          11.930266149949755,
          34.82119922982325
         ],
         "y": [
          12.93447468400331,
          29.035653256713218
         ],
         "z": [
          52.3816799439684,
          10.39294777544175
         ]
        },
        {
         "hoverinfo": "text",
         "hovertext": "Length: 7.18e+01, Contributes -1.46e-11J",
         "line": {
          "color": "rgb(173, 216, 230, 0.4)",
          "width": 8
         },
         "mode": "lines",
         "showlegend": false,
         "type": "scatter3d",
         "x": [
          11.930266149949755,
          -42.48925195651236
         ],
         "y": [
          12.93447468400331,
          -3.189715524579556
         ],
         "z": [
          52.3816799439684,
          8.353677607658044
         ]
        },
        {
         "hoverinfo": "text",
         "hovertext": "Length: 6.17e+01, Contributes -3.64e-11J",
         "line": {
          "color": "rgb(173, 216, 230, 0.4)",
          "width": 8
         },
         "mode": "lines",
         "showlegend": false,
         "type": "scatter3d",
         "x": [
          11.930266149949755,
          34.87832855642639
         ],
         "y": [
          12.93447468400331,
          -19.279441687731474
         ],
         "z": [
          52.3816799439684,
          5.074135338013185
         ]
        },
        {
         "hoverinfo": "text",
         "hovertext": "Length: 6.36e+01, Contributes -3.01e-11J",
         "line": {
          "color": "rgb(173, 216, 230, 0.4)",
          "width": 8
         },
         "mode": "lines",
         "showlegend": false,
         "type": "scatter3d",
         "x": [
          11.930266149949755,
          -19.417687339830007
         ],
         "y": [
          12.93447468400331,
          33.85718643461044
         ],
         "z": [
          52.3816799439684,
          1.1185451231485573
         ]
        },
        {
         "hoverinfo": "text",
         "hovertext": "Length: 7.71e+01, Contributes -9.55e-12J",
         "line": {
          "color": "rgb(173, 216, 230, 0.4)",
          "width": 8
         },
         "mode": "lines",
         "showlegend": false,
         "type": "scatter3d",
         "x": [
          11.930266149949755,
          -1.4645607753420498
         ],
         "y": [
          12.93447468400331,
          -38.884923108358386
         ],
         "z": [
          52.3816799439684,
          -3.0518725090023056
         ]
        },
        {
         "hoverinfo": "text",
         "hovertext": "Length: 6.36e+01, Contributes -3.02e-11J",
         "line": {
          "color": "rgb(173, 216, 230, 0.4)",
          "width": 8
         },
         "mode": "lines",
         "showlegend": false,
         "type": "scatter3d",
         "x": [
          11.930266149949755,
          21.87443335532114
         ],
         "y": [
          12.93447468400331,
          33.41299118583273
         ],
         "z": [
          52.3816799439684,
          -7.006768944564678
         ]
        },
        {
         "hoverinfo": "text",
         "hovertext": "Length: 8.61e+01, Contributes -4.90e-12J",
         "line": {
          "color": "rgb(173, 216, 230, 0.4)",
          "width": 8
         },
         "mode": "lines",
         "showlegend": false,
         "type": "scatter3d",
         "x": [
          11.930266149949755,
          -39.12505184920254
         ],
         "y": [
          12.93447468400331,
          -16.825592019504082
         ],
         "z": [
          52.3816799439684,
          -10.28694881577914
         ]
        },
        {
         "hoverinfo": "text",
         "hovertext": "Length: 7.57e+01, Contributes -1.06e-11J",
         "line": {
          "color": "rgb(173, 216, 230, 0.4)",
          "width": 8
         },
         "mode": "lines",
         "showlegend": false,
         "type": "scatter3d",
         "x": [
          11.930266149949755,
          44.301854325862216
         ],
         "y": [
          12.93447468400331,
          -9.383850675228944
         ],
         "z": [
          52.3816799439684,
          -12.326509564900187
         ]
        },
        {
         "hoverinfo": "text",
         "hovertext": "Length: 8.21e+01, Contributes -6.54e-12J",
         "line": {
          "color": "rgb(173, 216, 230, 0.4)",
          "width": 8
         },
         "mode": "lines",
         "showlegend": false,
         "type": "scatter3d",
         "x": [
          11.930266149949755,
          -31.684556807974634
         ],
         "y": [
          12.93447468400331,
          37.946231546294484
         ],
         "z": [
          52.3816799439684,
          -12.503482126454415
         ]
        },
        {
         "hoverinfo": "text",
         "hovertext": "Length: 9.22e+01, Contributes -3.25e-12J",
         "line": {
          "color": "rgb(173, 216, 230, 0.4)",
          "width": 8
         },
         "mode": "lines",
         "showlegend": false,
         "type": "scatter3d",
         "x": [
          11.930266149949755,
          -3.026126601610173
         ],
         "y": [
          12.93447468400331,
          -52.78161454872874
         ],
         "z": [
          52.3816799439684,
          -10.590838088051248
         ]
        },
        {
         "hoverinfo": "text",
         "hovertext": "Length: 7.07e+01, Contributes -1.60e-11J",
         "line": {
          "color": "rgb(173, 216, 230, 0.4)",
          "width": 8
         },
         "mode": "lines",
         "showlegend": false,
         "type": "scatter3d",
         "x": [
          11.930266149949755,
          42.33357265378528
         ],
         "y": [
          12.93447468400331,
          34.469598861204375
         ],
         "z": [
          52.3816799439684,
          -7.6842190572775255
         ]
        },
        {
         "hoverinfo": "text",
         "hovertext": "Length: 8.64e+01, Contributes -4.80e-12J",
         "line": {
          "color": "rgb(173, 216, 230, 0.4)",
          "width": 8
         },
         "mode": "lines",
         "showlegend": false,
         "type": "scatter3d",
         "x": [
          11.930266149949755,
          -50.281894363098544
         ],
         "y": [
          12.93447468400331,
          15.195410173301307
         ],
         "z": [
          52.3816799439684,
          -7.561575908402102
         ]
        },
        {
         "hoverinfo": "text",
         "hovertext": "Length: 9.02e+01, Contributes -3.72e-12J",
         "line": {
          "color": "rgb(173, 216, 230, 0.4)",
          "width": 8
         },
         "mode": "lines",
         "showlegend": false,
         "type": "scatter3d",
         "x": [
          11.930266149949755,
          0.1703309069161888
         ],
         "y": [
          12.93447468400331,
          -43.73169340258058
         ],
         "z": [
          52.3816799439684,
          -16.768504614357497
         ]
        },
        {
         "hoverinfo": "text",
         "hovertext": "Length: 9.51e+01, Contributes -2.70e-12J",
         "line": {
          "color": "rgb(173, 216, 230, 0.4)",
          "width": 8
         },
         "mode": "lines",
         "showlegend": false,
         "type": "scatter3d",
         "x": [
          11.930266149949755,
          49.6414415866731
         ],
         "y": [
          12.93447468400331,
          -1.116304089859976
         ],
         "z": [
          52.3816799439684,
          -33.80388320831996
         ]
        },
        {
         "hoverinfo": "text",
         "hovertext": "Length: 1.21e+02, Contributes -6.37e-13J",
         "line": {
          "color": "rgb(173, 216, 230, 0.4)",
          "width": 8
         },
         "mode": "lines",
         "showlegend": false,
         "type": "scatter3d",
         "x": [
          11.930266149949755,
          -62.57342423074659
         ],
         "y": [
          12.93447468400331,
          63.17909048726257
         ],
         "z": [
          52.3816799439684,
          -28.644617573960343
         ]
        },
        {
         "hoverinfo": "text",
         "hovertext": "Length: 1.73e+02, Contributes -7.49e-14J",
         "line": {
          "color": "rgb(173, 216, 230, 0.4)",
          "width": 8
         },
         "mode": "lines",
         "showlegend": false,
         "type": "scatter3d",
         "x": [
          11.930266149949755,
          70.87130849026862
         ],
         "y": [
          12.93447468400331,
          -142.2999843685264
         ],
         "z": [
          52.3816799439684,
          4.28184466416092
         ]
        },
        {
         "hoverinfo": "text",
         "hovertext": "Length: 9.72e+01, Contributes -2.37e-12J",
         "line": {
          "color": "rgb(173, 216, 230, 0.4)",
          "width": 8
         },
         "mode": "lines",
         "showlegend": false,
         "type": "scatter3d",
         "x": [
          11.930266149949755,
          -11.328864799097097
         ],
         "y": [
          12.93447468400331,
          34.722340650845624
         ],
         "z": [
          52.3816799439684,
          -39.468828835257014
         ]
        },
        {
         "hoverinfo": "text",
         "hovertext": "Length: 1.08e+02, Contributes -1.23e-12J",
         "line": {
          "color": "rgb(173, 216, 230, 0.4)",
          "width": 8
         },
         "mode": "lines",
         "showlegend": false,
         "type": "scatter3d",
         "x": [
          11.930266149949755,
          16.548577363715196
         ],
         "y": [
          12.93447468400331,
          -5.780648217739201
         ],
         "z": [
          52.3816799439684,
          -54.31435391571992
         ]
        },
        {
         "hoverinfo": "text",
         "hovertext": "Length: 1.60e+02, Contributes -1.19e-13J",
         "line": {
          "color": "rgb(173, 216, 230, 0.4)",
          "width": 8
         },
         "mode": "lines",
         "showlegend": false,
         "type": "scatter3d",
         "x": [
          11.930266149949755,
          -45.21634097189665
         ],
         "y": [
          12.93447468400331,
          72.41917815142078
         ],
         "z": [
          52.3816799439684,
          -84.67734565159046
         ]
        },
        {
         "hoverinfo": "text",
         "hovertext": "Length: 2.00e+02, Contributes -3.12e-14J",
         "line": {
          "color": "rgb(173, 216, 230, 0.4)",
          "width": 8
         },
         "mode": "lines",
         "showlegend": false,
         "type": "scatter3d",
         "x": [
          6.097361544304986,
          -3.4982918217537953
         ],
         "y": [
          -35.886195046462845,
          159.0550967174916
         ],
         "z": [
          37.536603215223586,
          -6.214526088337749
         ]
        },
        {
         "hoverinfo": "text",
         "hovertext": "Length: 5.96e+01, Contributes -4.46e-11J",
         "line": {
          "color": "rgb(173, 216, 230, 0.4)",
          "width": 8
         },
         "mode": "lines",
         "showlegend": false,
         "type": "scatter3d",
         "x": [
          6.097361544304986,
          -26.025710017647018
         ],
         "y": [
          -35.886195046462845,
          -84.9195829142241
         ],
         "z": [
          37.536603215223586,
          26.712402975311274
         ]
        },
        {
         "hoverinfo": "text",
         "hovertext": "Length: 7.10e+01, Contributes -1.57e-11J",
         "line": {
          "color": "rgb(173, 216, 230, 0.4)",
          "width": 8
         },
         "mode": "lines",
         "showlegend": false,
         "type": "scatter3d",
         "x": [
          6.097361544304986,
          43.39442449701469
         ],
         "y": [
          -35.886195046462845,
          24.20361220085746
         ],
         "z": [
          37.536603215223586,
          31.87166436808289
         ]
        },
        {
         "hoverinfo": "text",
         "hovertext": "Length: 8.25e+01, Contributes -6.35e-12J",
         "line": {
          "color": "rgb(173, 216, 230, 0.4)",
          "width": 8
         },
         "mode": "lines",
         "showlegend": false,
         "type": "scatter3d",
         "x": [
          6.097361544304986,
          -20.22326619584203
         ],
         "y": [
          -35.886195046462845,
          38.90975595285775
         ],
         "z": [
          37.536603215223586,
          14.835195765732355
         ]
        },
        {
         "hoverinfo": "text",
         "hovertext": "Length: 5.40e+01, Contributes -8.06e-11J",
         "line": {
          "color": "rgb(173, 216, 230, 0.4)",
          "width": 8
         },
         "mode": "lines",
         "showlegend": false,
         "type": "scatter3d",
         "x": [
          6.097361544304986,
          -37.471356034170825
         ],
         "y": [
          -35.886195046462845,
          -36.72417729918526
         ],
         "z": [
          37.536603215223586,
          5.627256380891324
         ]
        },
        {
         "hoverinfo": "text",
         "hovertext": "Length: 6.24e+01, Contributes -3.40e-11J",
         "line": {
          "color": "rgb(173, 216, 230, 0.4)",
          "width": 8
         },
         "mode": "lines",
         "showlegend": false,
         "type": "scatter3d",
         "x": [
          6.097361544304986,
          53.48214582683028
         ],
         "y": [
          -35.886195046462845,
          -10.700104304816078
         ],
         "z": [
          37.536603215223586,
          5.749446530516773
         ]
        },
        {
         "hoverinfo": "text",
         "hovertext": "Length: 9.25e+01, Contributes -3.19e-12J",
         "line": {
          "color": "rgb(173, 216, 230, 0.4)",
          "width": 8
         },
         "mode": "lines",
         "showlegend": false,
         "type": "scatter3d",
         "x": [
          6.097361544304986,
          -27.26374276547555
         ],
         "y": [
          -35.886195046462845,
          45.4358617266683
         ],
         "z": [
          37.536603215223586,
          8.65621170461496
         ]
        },
        {
         "hoverinfo": "text",
         "hovertext": "Length: 3.39e+01, Contributes -1.31e-09J",
         "line": {
          "color": "rgb(173, 216, 230, 0.4)",
          "width": 8
         },
         "mode": "lines",
         "showlegend": false,
         "type": "scatter3d",
         "x": [
          6.097361544304986,
          -10.424136570599615
         ],
         "y": [
          -35.886195046462845,
          -48.212882880081324
         ],
         "z": [
          37.536603215223586,
          10.568298493360082
         ]
        },
        {
         "hoverinfo": "text",
         "hovertext": "Length: 7.60e+01, Contributes -1.04e-11J",
         "line": {
          "color": "rgb(173, 216, 230, 0.4)",
          "width": 8
         },
         "mode": "lines",
         "showlegend": false,
         "type": "scatter3d",
         "x": [
          6.097361544304986,
          34.82119922982325
         ],
         "y": [
          -35.886195046462845,
          29.035653256713218
         ],
         "z": [
          37.536603215223586,
          10.39294777544175
         ]
        },
        {
         "hoverinfo": "text",
         "hovertext": "Length: 6.54e+01, Contributes -2.55e-11J",
         "line": {
          "color": "rgb(173, 216, 230, 0.4)",
          "width": 8
         },
         "mode": "lines",
         "showlegend": false,
         "type": "scatter3d",
         "x": [
          6.097361544304986,
          -42.48925195651236
         ],
         "y": [
          -35.886195046462845,
          -3.189715524579556
         ],
         "z": [
          37.536603215223586,
          8.353677607658044
         ]
        },
        {
         "hoverinfo": "text",
         "hovertext": "Length: 4.65e+01, Contributes -1.99e-10J",
         "line": {
          "color": "rgb(173, 216, 230, 0.4)",
          "width": 8
         },
         "mode": "lines",
         "showlegend": false,
         "type": "scatter3d",
         "x": [
          6.097361544304986,
          34.87832855642639
         ],
         "y": [
          -35.886195046462845,
          -19.279441687731474
         ],
         "z": [
          37.536603215223586,
          5.074135338013185
         ]
        },
        {
         "hoverinfo": "text",
         "hovertext": "Length: 8.27e+01, Contributes -6.25e-12J",
         "line": {
          "color": "rgb(173, 216, 230, 0.4)",
          "width": 8
         },
         "mode": "lines",
         "showlegend": false,
         "type": "scatter3d",
         "x": [
          6.097361544304986,
          -19.417687339830007
         ],
         "y": [
          -35.886195046462845,
          33.85718643461044
         ],
         "z": [
          37.536603215223586,
          1.1185451231485573
         ]
        },
        {
         "hoverinfo": "text",
         "hovertext": "Length: 4.14e+01, Contributes -3.97e-10J",
         "line": {
          "color": "rgb(173, 216, 230, 0.4)",
          "width": 8
         },
         "mode": "lines",
         "showlegend": false,
         "type": "scatter3d",
         "x": [
          6.097361544304986,
          -1.4645607753420498
         ],
         "y": [
          -35.886195046462845,
          -38.884923108358386
         ],
         "z": [
          37.536603215223586,
          -3.0518725090023056
         ]
        },
        {
         "hoverinfo": "text",
         "hovertext": "Length: 8.39e+01, Contributes -5.74e-12J",
         "line": {
          "color": "rgb(173, 216, 230, 0.4)",
          "width": 8
         },
         "mode": "lines",
         "showlegend": false,
         "type": "scatter3d",
         "x": [
          6.097361544304986,
          21.87443335532114
         ],
         "y": [
          -35.886195046462845,
          33.41299118583273
         ],
         "z": [
          37.536603215223586,
          -7.006768944564678
         ]
        },
        {
         "hoverinfo": "text",
         "hovertext": "Length: 6.85e+01, Contributes -1.93e-11J",
         "line": {
          "color": "rgb(173, 216, 230, 0.4)",
          "width": 8
         },
         "mode": "lines",
         "showlegend": false,
         "type": "scatter3d",
         "x": [
          6.097361544304986,
          -39.12505184920254
         ],
         "y": [
          -35.886195046462845,
          -16.825592019504082
         ],
         "z": [
          37.536603215223586,
          -10.28694881577914
         ]
        },
        {
         "hoverinfo": "text",
         "hovertext": "Length: 6.82e+01, Contributes -1.99e-11J",
         "line": {
          "color": "rgb(173, 216, 230, 0.4)",
          "width": 8
         },
         "mode": "lines",
         "showlegend": false,
         "type": "scatter3d",
         "x": [
          6.097361544304986,
          44.301854325862216
         ],
         "y": [
          -35.886195046462845,
          -9.383850675228944
         ],
         "z": [
          37.536603215223586,
          -12.326509564900187
         ]
        },
        {
         "hoverinfo": "text",
         "hovertext": "Length: 9.69e+01, Contributes -2.42e-12J",
         "line": {
          "color": "rgb(173, 216, 230, 0.4)",
          "width": 8
         },
         "mode": "lines",
         "showlegend": false,
         "type": "scatter3d",
         "x": [
          6.097361544304986,
          -31.684556807974634
         ],
         "y": [
          -35.886195046462845,
          37.946231546294484
         ],
         "z": [
          37.536603215223586,
          -12.503482126454415
         ]
        },
        {
         "hoverinfo": "text",
         "hovertext": "Length: 5.18e+01, Contributes -1.03e-10J",
         "line": {
          "color": "rgb(173, 216, 230, 0.4)",
          "width": 8
         },
         "mode": "lines",
         "showlegend": false,
         "type": "scatter3d",
         "x": [
          6.097361544304986,
          -3.026126601610173
         ],
         "y": [
          -35.886195046462845,
          -52.78161454872874
         ],
         "z": [
          37.536603215223586,
          -10.590838088051248
         ]
        },
        {
         "hoverinfo": "text",
         "hovertext": "Length: 9.11e+01, Contributes -3.49e-12J",
         "line": {
          "color": "rgb(173, 216, 230, 0.4)",
          "width": 8
         },
         "mode": "lines",
         "showlegend": false,
         "type": "scatter3d",
         "x": [
          6.097361544304986,
          42.33357265378528
         ],
         "y": [
          -35.886195046462845,
          34.469598861204375
         ],
         "z": [
          37.536603215223586,
          -7.6842190572775255
         ]
        },
        {
         "hoverinfo": "text",
         "hovertext": "Length: 8.84e+01, Contributes -4.18e-12J",
         "line": {
          "color": "rgb(173, 216, 230, 0.4)",
          "width": 8
         },
         "mode": "lines",
         "showlegend": false,
         "type": "scatter3d",
         "x": [
          6.097361544304986,
          -50.281894363098544
         ],
         "y": [
          -35.886195046462845,
          15.195410173301307
         ],
         "z": [
          37.536603215223586,
          -7.561575908402102
         ]
        },
        {
         "hoverinfo": "text",
         "hovertext": "Length: 5.52e+01, Contributes -7.08e-11J",
         "line": {
          "color": "rgb(173, 216, 230, 0.4)",
          "width": 8
         },
         "mode": "lines",
         "showlegend": false,
         "type": "scatter3d",
         "x": [
          6.097361544304986,
          0.1703309069161888
         ],
         "y": [
          -35.886195046462845,
          -43.73169340258058
         ],
         "z": [
          37.536603215223586,
          -16.768504614357497
         ]
        },
        {
         "hoverinfo": "text",
         "hovertext": "Length: 9.05e+01, Contributes -3.63e-12J",
         "line": {
          "color": "rgb(173, 216, 230, 0.4)",
          "width": 8
         },
         "mode": "lines",
         "showlegend": false,
         "type": "scatter3d",
         "x": [
          6.097361544304986,
          49.6414415866731
         ],
         "y": [
          -35.886195046462845,
          -1.116304089859976
         ],
         "z": [
          37.536603215223586,
          -33.80388320831996
         ]
        },
        {
         "hoverinfo": "text",
         "hovertext": "Length: 1.38e+02, Contributes -2.96e-13J",
         "line": {
          "color": "rgb(173, 216, 230, 0.4)",
          "width": 8
         },
         "mode": "lines",
         "showlegend": false,
         "type": "scatter3d",
         "x": [
          6.097361544304986,
          -62.57342423074659
         ],
         "y": [
          -35.886195046462845,
          63.17909048726257
         ],
         "z": [
          37.536603215223586,
          -28.644617573960343
         ]
        },
        {
         "hoverinfo": "text",
         "hovertext": "Length: 1.29e+02, Contributes -4.35e-13J",
         "line": {
          "color": "rgb(173, 216, 230, 0.4)",
          "width": 8
         },
         "mode": "lines",
         "showlegend": false,
         "type": "scatter3d",
         "x": [
          6.097361544304986,
          70.87130849026862
         ],
         "y": [
          -35.886195046462845,
          -142.2999843685264
         ],
         "z": [
          37.536603215223586,
          4.28184466416092
         ]
        },
        {
         "hoverinfo": "text",
         "hovertext": "Length: 1.06e+02, Contributes -1.42e-12J",
         "line": {
          "color": "rgb(173, 216, 230, 0.4)",
          "width": 8
         },
         "mode": "lines",
         "showlegend": false,
         "type": "scatter3d",
         "x": [
          6.097361544304986,
          -11.328864799097097
         ],
         "y": [
          -35.886195046462845,
          34.722340650845624
         ],
         "z": [
          37.536603215223586,
          -39.468828835257014
         ]
        },
        {
         "hoverinfo": "text",
         "hovertext": "Length: 9.72e+01, Contributes -2.37e-12J",
         "line": {
          "color": "rgb(173, 216, 230, 0.4)",
          "width": 8
         },
         "mode": "lines",
         "showlegend": false,
         "type": "scatter3d",
         "x": [
          6.097361544304986,
          16.548577363715196
         ],
         "y": [
          -35.886195046462845,
          -5.780648217739201
         ],
         "z": [
          37.536603215223586,
          -54.31435391571992
         ]
        },
        {
         "hoverinfo": "text",
         "hovertext": "Length: 1.71e+02, Contributes -7.95e-14J",
         "line": {
          "color": "rgb(173, 216, 230, 0.4)",
          "width": 8
         },
         "mode": "lines",
         "showlegend": false,
         "type": "scatter3d",
         "x": [
          6.097361544304986,
          -45.21634097189665
         ],
         "y": [
          -35.886195046462845,
          72.41917815142078
         ],
         "z": [
          37.536603215223586,
          -84.67734565159046
         ]
        },
        {
         "hoverinfo": "text",
         "hovertext": "Length: 2.47e+02, Contributes -8.76e-15J",
         "line": {
          "color": "rgb(173, 216, 230, 0.4)",
          "width": 8
         },
         "mode": "lines",
         "showlegend": false,
         "type": "scatter3d",
         "x": [
          -3.4982918217537953,
          -26.025710017647018
         ],
         "y": [
          159.0550967174916,
          -84.9195829142241
         ],
         "z": [
          -6.214526088337749,
          26.712402975311274
         ]
        },
        {
         "hoverinfo": "text",
         "hovertext": "Length: 1.48e+02, Contributes -1.92e-13J",
         "line": {
          "color": "rgb(173, 216, 230, 0.4)",
          "width": 8
         },
         "mode": "lines",
         "showlegend": false,
         "type": "scatter3d",
         "x": [
          -3.4982918217537953,
          43.39442449701469
         ],
         "y": [
          159.0550967174916,
          24.20361220085746
         ],
         "z": [
          -6.214526088337749,
          31.87166436808289
         ]
        },
        {
         "hoverinfo": "text",
         "hovertext": "Length: 1.23e+02, Contributes -5.74e-13J",
         "line": {
          "color": "rgb(173, 216, 230, 0.4)",
          "width": 8
         },
         "mode": "lines",
         "showlegend": false,
         "type": "scatter3d",
         "x": [
          -3.4982918217537953,
          -20.22326619584203
         ],
         "y": [
          159.0550967174916,
          38.90975595285775
         ],
         "z": [
          -6.214526088337749,
          14.835195765732355
         ]
        },
        {
         "hoverinfo": "text",
         "hovertext": "Length: 1.99e+02, Contributes -3.21e-14J",
         "line": {
          "color": "rgb(173, 216, 230, 0.4)",
          "width": 8
         },
         "mode": "lines",
         "showlegend": false,
         "type": "scatter3d",
         "x": [
          -3.4982918217537953,
          -37.471356034170825
         ],
         "y": [
          159.0550967174916,
          -36.72417729918526
         ],
         "z": [
          -6.214526088337749,
          5.627256380891324
         ]
        },
        {
         "hoverinfo": "text",
         "hovertext": "Length: 1.79e+02, Contributes -5.99e-14J",
         "line": {
          "color": "rgb(173, 216, 230, 0.4)",
          "width": 8
         },
         "mode": "lines",
         "showlegend": false,
         "type": "scatter3d",
         "x": [
          -3.4982918217537953,
          53.48214582683028
         ],
         "y": [
          159.0550967174916,
          -10.700104304816078
         ],
         "z": [
          -6.214526088337749,
          5.749446530516773
         ]
        },
        {
         "hoverinfo": "text",
         "hovertext": "Length: 1.17e+02, Contributes -7.79e-13J",
         "line": {
          "color": "rgb(173, 216, 230, 0.4)",
          "width": 8
         },
         "mode": "lines",
         "showlegend": false,
         "type": "scatter3d",
         "x": [
          -3.4982918217537953,
          -27.26374276547555
         ],
         "y": [
          159.0550967174916,
          45.4358617266683
         ],
         "z": [
          -6.214526088337749,
          8.65621170461496
         ]
        },
        {
         "hoverinfo": "text",
         "hovertext": "Length: 2.08e+02, Contributes -2.47e-14J",
         "line": {
          "color": "rgb(173, 216, 230, 0.4)",
          "width": 8
         },
         "mode": "lines",
         "showlegend": false,
         "type": "scatter3d",
         "x": [
          -3.4982918217537953,
          -10.424136570599615
         ],
         "y": [
          159.0550967174916,
          -48.212882880081324
         ],
         "z": [
          -6.214526088337749,
          10.568298493360082
         ]
        },
        {
         "hoverinfo": "text",
         "hovertext": "Length: 1.37e+02, Contributes -3.08e-13J",
         "line": {
          "color": "rgb(173, 216, 230, 0.4)",
          "width": 8
         },
         "mode": "lines",
         "showlegend": false,
         "type": "scatter3d",
         "x": [
          -3.4982918217537953,
          34.82119922982325
         ],
         "y": [
          159.0550967174916,
          29.035653256713218
         ],
         "z": [
          -6.214526088337749,
          10.39294777544175
         ]
        },
        {
         "hoverinfo": "text",
         "hovertext": "Length: 1.67e+02, Contributes -9.06e-14J",
         "line": {
          "color": "rgb(173, 216, 230, 0.4)",
          "width": 8
         },
         "mode": "lines",
         "showlegend": false,
         "type": "scatter3d",
         "x": [
          -3.4982918217537953,
          -42.48925195651236
         ],
         "y": [
          159.0550967174916,
          -3.189715524579556
         ],
         "z": [
          -6.214526088337749,
          8.353677607658044
         ]
        },
        {
         "hoverinfo": "text",
         "hovertext": "Length: 1.83e+02, Contributes -5.37e-14J",
         "line": {
          "color": "rgb(173, 216, 230, 0.4)",
          "width": 8
         },
         "mode": "lines",
         "showlegend": false,
         "type": "scatter3d",
         "x": [
          -3.4982918217537953,
          34.87832855642639
         ],
         "y": [
          159.0550967174916,
          -19.279441687731474
         ],
         "z": [
          -6.214526088337749,
          5.074135338013185
         ]
        },
        {
         "hoverinfo": "text",
         "hovertext": "Length: 1.26e+02, Contributes -4.90e-13J",
         "line": {
          "color": "rgb(173, 216, 230, 0.4)",
          "width": 8
         },
         "mode": "lines",
         "showlegend": false,
         "type": "scatter3d",
         "x": [
          -3.4982918217537953,
          -19.417687339830007
         ],
         "y": [
          159.0550967174916,
          33.85718643461044
         ],
         "z": [
          -6.214526088337749,
          1.1185451231485573
         ]
        },
        {
         "hoverinfo": "text",
         "hovertext": "Length: 1.98e+02, Contributes -3.32e-14J",
         "line": {
          "color": "rgb(173, 216, 230, 0.4)",
          "width": 8
         },
         "mode": "lines",
         "showlegend": false,
         "type": "scatter3d",
         "x": [
          -3.4982918217537953,
          -1.4645607753420498
         ],
         "y": [
          159.0550967174916,
          -38.884923108358386
         ],
         "z": [
          -6.214526088337749,
          -3.0518725090023056
         ]
        },
        {
         "hoverinfo": "text",
         "hovertext": "Length: 1.28e+02, Contributes -4.51e-13J",
         "line": {
          "color": "rgb(173, 216, 230, 0.4)",
          "width": 8
         },
         "mode": "lines",
         "showlegend": false,
         "type": "scatter3d",
         "x": [
          -3.4982918217537953,
          21.87443335532114
         ],
         "y": [
          159.0550967174916,
          33.41299118583273
         ],
         "z": [
          -6.214526088337749,
          -7.006768944564678
         ]
        },
        {
         "hoverinfo": "text",
         "hovertext": "Length: 1.79e+02, Contributes -5.98e-14J",
         "line": {
          "color": "rgb(173, 216, 230, 0.4)",
          "width": 8
         },
         "mode": "lines",
         "showlegend": false,
         "type": "scatter3d",
         "x": [
          -3.4982918217537953,
          -39.12505184920254
         ],
         "y": [
          159.0550967174916,
          -16.825592019504082
         ],
         "z": [
          -6.214526088337749,
          -10.28694881577914
         ]
        },
        {
         "hoverinfo": "text",
         "hovertext": "Length: 1.75e+02, Contributes -6.92e-14J",
         "line": {
          "color": "rgb(173, 216, 230, 0.4)",
          "width": 8
         },
         "mode": "lines",
         "showlegend": false,
         "type": "scatter3d",
         "x": [
          -3.4982918217537953,
          44.301854325862216
         ],
         "y": [
          159.0550967174916,
          -9.383850675228944
         ],
         "z": [
          -6.214526088337749,
          -12.326509564900187
         ]
        },
        {
         "hoverinfo": "text",
         "hovertext": "Length: 1.25e+02, Contributes -5.37e-13J",
         "line": {
          "color": "rgb(173, 216, 230, 0.4)",
          "width": 8
         },
         "mode": "lines",
         "showlegend": false,
         "type": "scatter3d",
         "x": [
          -3.4982918217537953,
          -31.684556807974634
         ],
         "y": [
          159.0550967174916,
          37.946231546294484
         ],
         "z": [
          -6.214526088337749,
          -12.503482126454415
         ]
        },
        {
         "hoverinfo": "text",
         "hovertext": "Length: 2.12e+02, Contributes -2.21e-14J",
         "line": {
          "color": "rgb(173, 216, 230, 0.4)",
          "width": 8
         },
         "mode": "lines",
         "showlegend": false,
         "type": "scatter3d",
         "x": [
          -3.4982918217537953,
          -3.026126601610173
         ],
         "y": [
          159.0550967174916,
          -52.78161454872874
         ],
         "z": [
          -6.214526088337749,
          -10.590838088051248
         ]
        },
        {
         "hoverinfo": "text",
         "hovertext": "Length: 1.33e+02, Contributes -3.65e-13J",
         "line": {
          "color": "rgb(173, 216, 230, 0.4)",
          "width": 8
         },
         "mode": "lines",
         "showlegend": false,
         "type": "scatter3d",
         "x": [
          -3.4982918217537953,
          42.33357265378528
         ],
         "y": [
          159.0550967174916,
          34.469598861204375
         ],
         "z": [
          -6.214526088337749,
          -7.6842190572775255
         ]
        },
        {
         "hoverinfo": "text",
         "hovertext": "Length: 1.51e+02, Contributes -1.67e-13J",
         "line": {
          "color": "rgb(173, 216, 230, 0.4)",
          "width": 8
         },
         "mode": "lines",
         "showlegend": false,
         "type": "scatter3d",
         "x": [
          -3.4982918217537953,
          -50.281894363098544
         ],
         "y": [
          159.0550967174916,
          15.195410173301307
         ],
         "z": [
          -6.214526088337749,
          -7.561575908402102
         ]
        },
        {
         "hoverinfo": "text",
         "hovertext": "Length: 2.03e+02, Contributes -2.85e-14J",
         "line": {
          "color": "rgb(173, 216, 230, 0.4)",
          "width": 8
         },
         "mode": "lines",
         "showlegend": false,
         "type": "scatter3d",
         "x": [
          -3.4982918217537953,
          0.1703309069161888
         ],
         "y": [
          159.0550967174916,
          -43.73169340258058
         ],
         "z": [
          -6.214526088337749,
          -16.768504614357497
         ]
        },
        {
         "hoverinfo": "text",
         "hovertext": "Length: 1.71e+02, Contributes -8.00e-14J",
         "line": {
          "color": "rgb(173, 216, 230, 0.4)",
          "width": 8
         },
         "mode": "lines",
         "showlegend": false,
         "type": "scatter3d",
         "x": [
          -3.4982918217537953,
          49.6414415866731
         ],
         "y": [
          159.0550967174916,
          -1.116304089859976
         ],
         "z": [
          -6.214526088337749,
          -33.80388320831996
         ]
        },
        {
         "hoverinfo": "text",
         "hovertext": "Length: 1.15e+02, Contributes -8.73e-13J",
         "line": {
          "color": "rgb(173, 216, 230, 0.4)",
          "width": 8
         },
         "mode": "lines",
         "showlegend": false,
         "type": "scatter3d",
         "x": [
          -3.4982918217537953,
          -62.57342423074659
         ],
         "y": [
          159.0550967174916,
          63.17909048726257
         ],
         "z": [
          -6.214526088337749,
          -28.644617573960343
         ]
        },
        {
         "hoverinfo": "text",
         "hovertext": "Length: 3.11e+02, Contributes -2.23e-15J",
         "line": {
          "color": "rgb(173, 216, 230, 0.4)",
          "width": 8
         },
         "mode": "lines",
         "showlegend": false,
         "type": "scatter3d",
         "x": [
          -3.4982918217537953,
          70.87130849026862
         ],
         "y": [
          159.0550967174916,
          -142.2999843685264
         ],
         "z": [
          -6.214526088337749,
          4.28184466416092
         ]
        },
        {
         "hoverinfo": "text",
         "hovertext": "Length: 1.29e+02, Contributes -4.35e-13J",
         "line": {
          "color": "rgb(173, 216, 230, 0.4)",
          "width": 8
         },
         "mode": "lines",
         "showlegend": false,
         "type": "scatter3d",
         "x": [
          -3.4982918217537953,
          -11.328864799097097
         ],
         "y": [
          159.0550967174916,
          34.722340650845624
         ],
         "z": [
          -6.214526088337749,
          -39.468828835257014
         ]
        },
        {
         "hoverinfo": "text",
         "hovertext": "Length: 1.73e+02, Contributes -7.49e-14J",
         "line": {
          "color": "rgb(173, 216, 230, 0.4)",
          "width": 8
         },
         "mode": "lines",
         "showlegend": false,
         "type": "scatter3d",
         "x": [
          -3.4982918217537953,
          16.548577363715196
         ],
         "y": [
          159.0550967174916,
          -5.780648217739201
         ],
         "z": [
          -6.214526088337749,
          -54.31435391571992
         ]
        },
        {
         "hoverinfo": "text",
         "hovertext": "Length: 1.24e+02, Contributes -5.47e-13J",
         "line": {
          "color": "rgb(173, 216, 230, 0.4)",
          "width": 8
         },
         "mode": "lines",
         "showlegend": false,
         "type": "scatter3d",
         "x": [
          -3.4982918217537953,
          -45.21634097189665
         ],
         "y": [
          159.0550967174916,
          72.41917815142078
         ],
         "z": [
          -6.214526088337749,
          -84.67734565159046
         ]
        },
        {
         "hoverinfo": "text",
         "hovertext": "Length: 1.29e+02, Contributes -4.25e-13J",
         "line": {
          "color": "rgb(173, 216, 230, 0.4)",
          "width": 8
         },
         "mode": "lines",
         "showlegend": false,
         "type": "scatter3d",
         "x": [
          -26.025710017647018,
          43.39442449701469
         ],
         "y": [
          -84.9195829142241,
          24.20361220085746
         ],
         "z": [
          26.712402975311274,
          31.87166436808289
         ]
        },
        {
         "hoverinfo": "text",
         "hovertext": "Length: 1.25e+02, Contributes -5.36e-13J",
         "line": {
          "color": "rgb(173, 216, 230, 0.4)",
          "width": 8
         },
         "mode": "lines",
         "showlegend": false,
         "type": "scatter3d",
         "x": [
          -26.025710017647018,
          -20.22326619584203
         ],
         "y": [
          -84.9195829142241,
          38.90975595285775
         ],
         "z": [
          26.712402975311274,
          14.835195765732355
         ]
        },
        {
         "hoverinfo": "text",
         "hovertext": "Length: 5.38e+01, Contributes -8.21e-11J",
         "line": {
          "color": "rgb(173, 216, 230, 0.4)",
          "width": 8
         },
         "mode": "lines",
         "showlegend": false,
         "type": "scatter3d",
         "x": [
          -26.025710017647018,
          -37.471356034170825
         ],
         "y": [
          -84.9195829142241,
          -36.72417729918526
         ],
         "z": [
          26.712402975311274,
          5.627256380891324
         ]
        },
        {
         "hoverinfo": "text",
         "hovertext": "Length: 1.11e+02, Contributes -1.08e-12J",
         "line": {
          "color": "rgb(173, 216, 230, 0.4)",
          "width": 8
         },
         "mode": "lines",
         "showlegend": false,
         "type": "scatter3d",
         "x": [
          -26.025710017647018,
          53.48214582683028
         ],
         "y": [
          -84.9195829142241,
          -10.700104304816078
         ],
         "z": [
          26.712402975311274,
          5.749446530516773
         ]
        },
        {
         "hoverinfo": "text",
         "hovertext": "Length: 1.32e+02, Contributes -3.85e-13J",
         "line": {
          "color": "rgb(173, 216, 230, 0.4)",
          "width": 8
         },
         "mode": "lines",
         "showlegend": false,
         "type": "scatter3d",
         "x": [
          -26.025710017647018,
          -27.26374276547555
         ],
         "y": [
          -84.9195829142241,
          45.4358617266683
         ],
         "z": [
          26.712402975311274,
          8.65621170461496
         ]
        },
        {
         "hoverinfo": "text",
         "hovertext": "Length: 4.30e+01, Contributes -3.15e-10J",
         "line": {
          "color": "rgb(173, 216, 230, 0.4)",
          "width": 8
         },
         "mode": "lines",
         "showlegend": false,
         "type": "scatter3d",
         "x": [
          -26.025710017647018,
          -10.424136570599615
         ],
         "y": [
          -84.9195829142241,
          -48.212882880081324
         ],
         "z": [
          26.712402975311274,
          10.568298493360082
         ]
        },
        {
         "hoverinfo": "text",
         "hovertext": "Length: 1.30e+02, Contributes -4.10e-13J",
         "line": {
          "color": "rgb(173, 216, 230, 0.4)",
          "width": 8
         },
         "mode": "lines",
         "showlegend": false,
         "type": "scatter3d",
         "x": [
          -26.025710017647018,
          34.82119922982325
         ],
         "y": [
          -84.9195829142241,
          29.035653256713218
         ],
         "z": [
          26.712402975311274,
          10.39294777544175
         ]
        },
        {
         "hoverinfo": "text",
         "hovertext": "Length: 8.54e+01, Contributes -5.17e-12J",
         "line": {
          "color": "rgb(173, 216, 230, 0.4)",
          "width": 8
         },
         "mode": "lines",
         "showlegend": false,
         "type": "scatter3d",
         "x": [
          -26.025710017647018,
          -42.48925195651236
         ],
         "y": [
          -84.9195829142241,
          -3.189715524579556
         ],
         "z": [
          26.712402975311274,
          8.353677607658044
         ]
        },
        {
         "hoverinfo": "text",
         "hovertext": "Length: 9.21e+01, Contributes -3.27e-12J",
         "line": {
          "color": "rgb(173, 216, 230, 0.4)",
          "width": 8
         },
         "mode": "lines",
         "showlegend": false,
         "type": "scatter3d",
         "x": [
          -26.025710017647018,
          34.87832855642639
         ],
         "y": [
          -84.9195829142241,
          -19.279441687731474
         ],
         "z": [
          26.712402975311274,
          5.074135338013185
         ]
        },
        {
         "hoverinfo": "text",
         "hovertext": "Length: 1.22e+02, Contributes -6.16e-13J",
         "line": {
          "color": "rgb(173, 216, 230, 0.4)",
          "width": 8
         },
         "mode": "lines",
         "showlegend": false,
         "type": "scatter3d",
         "x": [
          -26.025710017647018,
          -19.417687339830007
         ],
         "y": [
          -84.9195829142241,
          33.85718643461044
         ],
         "z": [
          26.712402975311274,
          1.1185451231485573
         ]
        },
        {
         "hoverinfo": "text",
         "hovertext": "Length: 6.01e+01, Contributes -4.26e-11J",
         "line": {
          "color": "rgb(173, 216, 230, 0.4)",
          "width": 8
         },
         "mode": "lines",
         "showlegend": false,
         "type": "scatter3d",
         "x": [
          -26.025710017647018,
          -1.4645607753420498
         ],
         "y": [
          -84.9195829142241,
          -38.884923108358386
         ],
         "z": [
          26.712402975311274,
          -3.0518725090023056
         ]
        },
        {
         "hoverinfo": "text",
         "hovertext": "Length: 1.32e+02, Contributes -3.77e-13J",
         "line": {
          "color": "rgb(173, 216, 230, 0.4)",
          "width": 8
         },
         "mode": "lines",
         "showlegend": false,
         "type": "scatter3d",
         "x": [
          -26.025710017647018,
          21.87443335532114
         ],
         "y": [
          -84.9195829142241,
          33.41299118583273
         ],
         "z": [
          26.712402975311274,
          -7.006768944564678
         ]
        },
        {
         "hoverinfo": "text",
         "hovertext": "Length: 7.86e+01, Contributes -8.48e-12J",
         "line": {
          "color": "rgb(173, 216, 230, 0.4)",
          "width": 8
         },
         "mode": "lines",
         "showlegend": false,
         "type": "scatter3d",
         "x": [
          -26.025710017647018,
          -39.12505184920254
         ],
         "y": [
          -84.9195829142241,
          -16.825592019504082
         ],
         "z": [
          26.712402975311274,
          -10.28694881577914
         ]
        },
        {
         "hoverinfo": "text",
         "hovertext": "Length: 1.10e+02, Contributes -1.11e-12J",
         "line": {
          "color": "rgb(173, 216, 230, 0.4)",
          "width": 8
         },
         "mode": "lines",
         "showlegend": false,
         "type": "scatter3d",
         "x": [
          -26.025710017647018,
          44.301854325862216
         ],
         "y": [
          -84.9195829142241,
          -9.383850675228944
         ],
         "z": [
          26.712402975311274,
          -12.326509564900187
         ]
        },
        {
         "hoverinfo": "text",
         "hovertext": "Length: 1.29e+02, Contributes -4.32e-13J",
         "line": {
          "color": "rgb(173, 216, 230, 0.4)",
          "width": 8
         },
         "mode": "lines",
         "showlegend": false,
         "type": "scatter3d",
         "x": [
          -26.025710017647018,
          -31.684556807974634
         ],
         "y": [
          -84.9195829142241,
          37.946231546294484
         ],
         "z": [
          26.712402975311274,
          -12.503482126454415
         ]
        },
        {
         "hoverinfo": "text",
         "hovertext": "Length: 5.43e+01, Contributes -7.76e-11J",
         "line": {
          "color": "rgb(173, 216, 230, 0.4)",
          "width": 8
         },
         "mode": "lines",
         "showlegend": false,
         "type": "scatter3d",
         "x": [
          -26.025710017647018,
          -3.026126601610173
         ],
         "y": [
          -84.9195829142241,
          -52.78161454872874
         ],
         "z": [
          26.712402975311274,
          -10.590838088051248
         ]
        },
        {
         "hoverinfo": "text",
         "hovertext": "Length: 1.42e+02, Contributes -2.46e-13J",
         "line": {
          "color": "rgb(173, 216, 230, 0.4)",
          "width": 8
         },
         "mode": "lines",
         "showlegend": false,
         "type": "scatter3d",
         "x": [
          -26.025710017647018,
          42.33357265378528
         ],
         "y": [
          -84.9195829142241,
          34.469598861204375
         ],
         "z": [
          26.712402975311274,
          -7.6842190572775255
         ]
        },
        {
         "hoverinfo": "text",
         "hovertext": "Length: 1.09e+02, Contributes -1.22e-12J",
         "line": {
          "color": "rgb(173, 216, 230, 0.4)",
          "width": 8
         },
         "mode": "lines",
         "showlegend": false,
         "type": "scatter3d",
         "x": [
          -26.025710017647018,
          -50.281894363098544
         ],
         "y": [
          -84.9195829142241,
          15.195410173301307
         ],
         "z": [
          26.712402975311274,
          -7.561575908402102
         ]
        },
        {
         "hoverinfo": "text",
         "hovertext": "Length: 6.54e+01, Contributes -2.56e-11J",
         "line": {
          "color": "rgb(173, 216, 230, 0.4)",
          "width": 8
         },
         "mode": "lines",
         "showlegend": false,
         "type": "scatter3d",
         "x": [
          -26.025710017647018,
          0.1703309069161888
         ],
         "y": [
          -84.9195829142241,
          -43.73169340258058
         ],
         "z": [
          26.712402975311274,
          -16.768504614357497
         ]
        },
        {
         "hoverinfo": "text",
         "hovertext": "Length: 1.28e+02, Contributes -4.53e-13J",
         "line": {
          "color": "rgb(173, 216, 230, 0.4)",
          "width": 8
         },
         "mode": "lines",
         "showlegend": false,
         "type": "scatter3d",
         "x": [
          -26.025710017647018,
          49.6414415866731
         ],
         "y": [
          -84.9195829142241,
          -1.116304089859976
         ],
         "z": [
          26.712402975311274,
          -33.80388320831996
         ]
        },
        {
         "hoverinfo": "text",
         "hovertext": "Length: 1.62e+02, Contributes -1.10e-13J",
         "line": {
          "color": "rgb(173, 216, 230, 0.4)",
          "width": 8
         },
         "mode": "lines",
         "showlegend": false,
         "type": "scatter3d",
         "x": [
          -26.025710017647018,
          -62.57342423074659
         ],
         "y": [
          -84.9195829142241,
          63.17909048726257
         ],
         "z": [
          26.712402975311274,
          -28.644617573960343
         ]
        },
        {
         "hoverinfo": "text",
         "hovertext": "Length: 1.15e+02, Contributes -8.73e-13J",
         "line": {
          "color": "rgb(173, 216, 230, 0.4)",
          "width": 8
         },
         "mode": "lines",
         "showlegend": false,
         "type": "scatter3d",
         "x": [
          -26.025710017647018,
          70.87130849026862
         ],
         "y": [
          -84.9195829142241,
          -142.2999843685264
         ],
         "z": [
          26.712402975311274,
          4.28184466416092
         ]
        },
        {
         "hoverinfo": "text",
         "hovertext": "Length: 1.38e+02, Contributes -2.96e-13J",
         "line": {
          "color": "rgb(173, 216, 230, 0.4)",
          "width": 8
         },
         "mode": "lines",
         "showlegend": false,
         "type": "scatter3d",
         "x": [
          -26.025710017647018,
          -11.328864799097097
         ],
         "y": [
          -84.9195829142241,
          34.722340650845624
         ],
         "z": [
          26.712402975311274,
          -39.468828835257014
         ]
        },
        {
         "hoverinfo": "text",
         "hovertext": "Length: 1.21e+02, Contributes -6.37e-13J",
         "line": {
          "color": "rgb(173, 216, 230, 0.4)",
          "width": 8
         },
         "mode": "lines",
         "showlegend": false,
         "type": "scatter3d",
         "x": [
          -26.025710017647018,
          16.548577363715196
         ],
         "y": [
          -84.9195829142241,
          -5.780648217739201
         ],
         "z": [
          26.712402975311274,
          -54.31435391571992
         ]
        },
        {
         "hoverinfo": "text",
         "hovertext": "Length: 1.94e+02, Contributes -3.78e-14J",
         "line": {
          "color": "rgb(173, 216, 230, 0.4)",
          "width": 8
         },
         "mode": "lines",
         "showlegend": false,
         "type": "scatter3d",
         "x": [
          -26.025710017647018,
          -45.21634097189665
         ],
         "y": [
          -84.9195829142241,
          72.41917815142078
         ],
         "z": [
          26.712402975311274,
          -84.67734565159046
         ]
        },
        {
         "hoverinfo": "text",
         "hovertext": "Length: 6.75e+01, Contributes -2.12e-11J",
         "line": {
          "color": "rgb(173, 216, 230, 0.4)",
          "width": 8
         },
         "mode": "lines",
         "showlegend": false,
         "type": "scatter3d",
         "x": [
          43.39442449701469,
          -20.22326619584203
         ],
         "y": [
          24.20361220085746,
          38.90975595285775
         ],
         "z": [
          31.87166436808289,
          14.835195765732355
         ]
        },
        {
         "hoverinfo": "text",
         "hovertext": "Length: 1.05e+02, Contributes -1.53e-12J",
         "line": {
          "color": "rgb(173, 216, 230, 0.4)",
          "width": 8
         },
         "mode": "lines",
         "showlegend": false,
         "type": "scatter3d",
         "x": [
          43.39442449701469,
          -37.471356034170825
         ],
         "y": [
          24.20361220085746,
          -36.72417729918526
         ],
         "z": [
          31.87166436808289,
          5.627256380891324
         ]
        },
        {
         "hoverinfo": "text",
         "hovertext": "Length: 4.47e+01, Contributes -2.49e-10J",
         "line": {
          "color": "rgb(173, 216, 230, 0.4)",
          "width": 8
         },
         "mode": "lines",
         "showlegend": false,
         "type": "scatter3d",
         "x": [
          43.39442449701469,
          53.48214582683028
         ],
         "y": [
          24.20361220085746,
          -10.700104304816078
         ],
         "z": [
          31.87166436808289,
          5.749446530516773
         ]
        },
        {
         "hoverinfo": "text",
         "hovertext": "Length: 7.73e+01, Contributes -9.34e-12J",
         "line": {
          "color": "rgb(173, 216, 230, 0.4)",
          "width": 8
         },
         "mode": "lines",
         "showlegend": false,
         "type": "scatter3d",
         "x": [
          43.39442449701469,
          -27.26374276547555
         ],
         "y": [
          24.20361220085746,
          45.4358617266683
         ],
         "z": [
          31.87166436808289,
          8.65621170461496
         ]
        },
        {
         "hoverinfo": "text",
         "hovertext": "Length: 9.27e+01, Contributes -3.15e-12J",
         "line": {
          "color": "rgb(173, 216, 230, 0.4)",
          "width": 8
         },
         "mode": "lines",
         "showlegend": false,
         "type": "scatter3d",
         "x": [
          43.39442449701469,
          -10.424136570599615
         ],
         "y": [
          24.20361220085746,
          -48.212882880081324
         ],
         "z": [
          31.87166436808289,
          10.568298493360082
         ]
        },
        {
         "hoverinfo": "text",
         "hovertext": "Length: 2.36e+01, Contributes -1.15e-08J",
         "line": {
          "color": "rgb(173, 216, 230, 0.4)",
          "width": 8
         },
         "mode": "lines",
         "showlegend": false,
         "type": "scatter3d",
         "x": [
          43.39442449701469,
          34.82119922982325
         ],
         "y": [
          24.20361220085746,
          29.035653256713218
         ],
         "z": [
          31.87166436808289,
          10.39294777544175
         ]
        },
        {
         "hoverinfo": "text",
         "hovertext": "Length: 9.32e+01, Contributes -3.06e-12J",
         "line": {
          "color": "rgb(173, 216, 230, 0.4)",
          "width": 8
         },
         "mode": "lines",
         "showlegend": false,
         "type": "scatter3d",
         "x": [
          43.39442449701469,
          -42.48925195651236
         ],
         "y": [
          24.20361220085746,
          -3.189715524579556
         ],
         "z": [
          31.87166436808289,
          8.353677607658044
         ]
        },
        {
         "hoverinfo": "text",
         "hovertext": "Length: 5.18e+01, Contributes -1.04e-10J",
         "line": {
          "color": "rgb(173, 216, 230, 0.4)",
          "width": 8
         },
         "mode": "lines",
         "showlegend": false,
         "type": "scatter3d",
         "x": [
          43.39442449701469,
          34.87832855642639
         ],
         "y": [
          24.20361220085746,
          -19.279441687731474
         ],
         "z": [
          31.87166436808289,
          5.074135338013185
         ]
        },
        {
         "hoverinfo": "text",
         "hovertext": "Length: 7.06e+01, Contributes -1.62e-11J",
         "line": {
          "color": "rgb(173, 216, 230, 0.4)",
          "width": 8
         },
         "mode": "lines",
         "showlegend": false,
         "type": "scatter3d",
         "x": [
          43.39442449701469,
          -19.417687339830007
         ],
         "y": [
          24.20361220085746,
          33.85718643461044
         ],
         "z": [
          31.87166436808289,
          1.1185451231485573
         ]
        },
        {
         "hoverinfo": "text",
         "hovertext": "Length: 8.49e+01, Contributes -5.33e-12J",
         "line": {
          "color": "rgb(173, 216, 230, 0.4)",
          "width": 8
         },
         "mode": "lines",
         "showlegend": false,
         "type": "scatter3d",
         "x": [
          43.39442449701469,
          -1.4645607753420498
         ],
         "y": [
          24.20361220085746,
          -38.884923108358386
         ],
         "z": [
          31.87166436808289,
          -3.0518725090023056
         ]
        },
        {
         "hoverinfo": "text",
         "hovertext": "Length: 4.54e+01, Contributes -2.29e-10J",
         "line": {
          "color": "rgb(173, 216, 230, 0.4)",
          "width": 8
         },
         "mode": "lines",
         "showlegend": false,
         "type": "scatter3d",
         "x": [
          43.39442449701469,
          21.87443335532114
         ],
         "y": [
          24.20361220085746,
          33.41299118583273
         ],
         "z": [
          31.87166436808289,
          -7.006768944564678
         ]
        },
        {
         "hoverinfo": "text",
         "hovertext": "Length: 1.01e+02, Contributes -1.85e-12J",
         "line": {
          "color": "rgb(173, 216, 230, 0.4)",
          "width": 8
         },
         "mode": "lines",
         "showlegend": false,
         "type": "scatter3d",
         "x": [
          43.39442449701469,
          -39.12505184920254
         ],
         "y": [
          24.20361220085746,
          -16.825592019504082
         ],
         "z": [
          31.87166436808289,
          -10.28694881577914
         ]
        },
        {
         "hoverinfo": "text",
         "hovertext": "Length: 5.55e+01, Contributes -6.83e-11J",
         "line": {
          "color": "rgb(173, 216, 230, 0.4)",
          "width": 8
         },
         "mode": "lines",
         "showlegend": false,
         "type": "scatter3d",
         "x": [
          43.39442449701469,
          44.301854325862216
         ],
         "y": [
          24.20361220085746,
          -9.383850675228944
         ],
         "z": [
          31.87166436808289,
          -12.326509564900187
         ]
        },
        {
         "hoverinfo": "text",
         "hovertext": "Length: 8.83e+01, Contributes -4.22e-12J",
         "line": {
          "color": "rgb(173, 216, 230, 0.4)",
          "width": 8
         },
         "mode": "lines",
         "showlegend": false,
         "type": "scatter3d",
         "x": [
          43.39442449701469,
          -31.684556807974634
         ],
         "y": [
          24.20361220085746,
          37.946231546294484
         ],
         "z": [
          31.87166436808289,
          -12.503482126454415
         ]
        },
        {
         "hoverinfo": "text",
         "hovertext": "Length: 9.94e+01, Contributes -2.07e-12J",
         "line": {
          "color": "rgb(173, 216, 230, 0.4)",
          "width": 8
         },
         "mode": "lines",
         "showlegend": false,
         "type": "scatter3d",
         "x": [
          43.39442449701469,
          -3.026126601610173
         ],
         "y": [
          24.20361220085746,
          -52.78161454872874
         ],
         "z": [
          31.87166436808289,
          -10.590838088051248
         ]
        },
        {
         "hoverinfo": "text",
         "hovertext": "Length: 4.09e+01, Contributes -4.29e-10J",
         "line": {
          "color": "rgb(173, 216, 230, 0.4)",
          "width": 8
         },
         "mode": "lines",
         "showlegend": false,
         "type": "scatter3d",
         "x": [
          43.39442449701469,
          42.33357265378528
         ],
         "y": [
          24.20361220085746,
          34.469598861204375
         ],
         "z": [
          31.87166436808289,
          -7.6842190572775255
         ]
        },
        {
         "hoverinfo": "text",
         "hovertext": "Length: 1.02e+02, Contributes -1.77e-12J",
         "line": {
          "color": "rgb(173, 216, 230, 0.4)",
          "width": 8
         },
         "mode": "lines",
         "showlegend": false,
         "type": "scatter3d",
         "x": [
          43.39442449701469,
          -50.281894363098544
         ],
         "y": [
          24.20361220085746,
          15.195410173301307
         ],
         "z": [
          31.87166436808289,
          -7.561575908402102
         ]
        },
        {
         "hoverinfo": "text",
         "hovertext": "Length: 9.41e+01, Contributes -2.89e-12J",
         "line": {
          "color": "rgb(173, 216, 230, 0.4)",
          "width": 8
         },
         "mode": "lines",
         "showlegend": false,
         "type": "scatter3d",
         "x": [
          43.39442449701469,
          0.1703309069161888
         ],
         "y": [
          24.20361220085746,
          -43.73169340258058
         ],
         "z": [
          31.87166436808289,
          -16.768504614357497
         ]
        },
        {
         "hoverinfo": "text",
         "hovertext": "Length: 7.07e+01, Contributes -1.61e-11J",
         "line": {
          "color": "rgb(173, 216, 230, 0.4)",
          "width": 8
         },
         "mode": "lines",
         "showlegend": false,
         "type": "scatter3d",
         "x": [
          43.39442449701469,
          49.6414415866731
         ],
         "y": [
          24.20361220085746,
          -1.116304089859976
         ],
         "z": [
          31.87166436808289,
          -33.80388320831996
         ]
        },
        {
         "hoverinfo": "text",
         "hovertext": "Length: 1.28e+02, Contributes -4.53e-13J",
         "line": {
          "color": "rgb(173, 216, 230, 0.4)",
          "width": 8
         },
         "mode": "lines",
         "showlegend": false,
         "type": "scatter3d",
         "x": [
          43.39442449701469,
          -62.57342423074659
         ],
         "y": [
          24.20361220085746,
          63.17909048726257
         ],
         "z": [
          31.87166436808289,
          -28.644617573960343
         ]
        },
        {
         "hoverinfo": "text",
         "hovertext": "Length: 1.71e+02, Contributes -8.00e-14J",
         "line": {
          "color": "rgb(173, 216, 230, 0.4)",
          "width": 8
         },
         "mode": "lines",
         "showlegend": false,
         "type": "scatter3d",
         "x": [
          43.39442449701469,
          70.87130849026862
         ],
         "y": [
          24.20361220085746,
          -142.2999843685264
         ],
         "z": [
          31.87166436808289,
          4.28184466416092
         ]
        },
        {
         "hoverinfo": "text",
         "hovertext": "Length: 9.05e+01, Contributes -3.63e-12J",
         "line": {
          "color": "rgb(173, 216, 230, 0.4)",
          "width": 8
         },
         "mode": "lines",
         "showlegend": false,
         "type": "scatter3d",
         "x": [
          43.39442449701469,
          -11.328864799097097
         ],
         "y": [
          24.20361220085746,
          34.722340650845624
         ],
         "z": [
          31.87166436808289,
          -39.468828835257014
         ]
        },
        {
         "hoverinfo": "text",
         "hovertext": "Length: 9.51e+01, Contributes -2.70e-12J",
         "line": {
          "color": "rgb(173, 216, 230, 0.4)",
          "width": 8
         },
         "mode": "lines",
         "showlegend": false,
         "type": "scatter3d",
         "x": [
          43.39442449701469,
          16.548577363715196
         ],
         "y": [
          24.20361220085746,
          -5.780648217739201
         ],
         "z": [
          31.87166436808289,
          -54.31435391571992
         ]
        },
        {
         "hoverinfo": "text",
         "hovertext": "Length: 1.54e+02, Contributes -1.49e-13J",
         "line": {
          "color": "rgb(173, 216, 230, 0.4)",
          "width": 8
         },
         "mode": "lines",
         "showlegend": false,
         "type": "scatter3d",
         "x": [
          43.39442449701469,
          -45.21634097189665
         ],
         "y": [
          24.20361220085746,
          72.41917815142078
         ],
         "z": [
          31.87166436808289,
          -84.67734565159046
         ]
        },
        {
         "hoverinfo": "text",
         "hovertext": "Length: 7.81e+01, Contributes -8.80e-12J",
         "line": {
          "color": "rgb(173, 216, 230, 0.4)",
          "width": 8
         },
         "mode": "lines",
         "showlegend": false,
         "type": "scatter3d",
         "x": [
          -20.22326619584203,
          -37.471356034170825
         ],
         "y": [
          38.90975595285775,
          -36.72417729918526
         ],
         "z": [
          14.835195765732355,
          5.627256380891324
         ]
        },
        {
         "hoverinfo": "text",
         "hovertext": "Length: 8.93e+01, Contributes -3.94e-12J",
         "line": {
          "color": "rgb(173, 216, 230, 0.4)",
          "width": 8
         },
         "mode": "lines",
         "showlegend": false,
         "type": "scatter3d",
         "x": [
          -20.22326619584203,
          53.48214582683028
         ],
         "y": [
          38.90975595285775,
          -10.700104304816078
         ],
         "z": [
          14.835195765732355,
          5.749446530516773
         ]
        },
        {
         "hoverinfo": "text",
         "hovertext": "Length: 1.14e+01, Contributes -9.03e-07J",
         "line": {
          "color": "rgb(173, 216, 230, 0.4)",
          "width": 8
         },
         "mode": "lines",
         "showlegend": false,
         "type": "scatter3d",
         "x": [
          -20.22326619584203,
          -27.26374276547555
         ],
         "y": [
          38.90975595285775,
          45.4358617266683
         ],
         "z": [
          14.835195765732355,
          8.65621170461496
         ]
        },
        {
         "hoverinfo": "text",
         "hovertext": "Length: 8.78e+01, Contributes -4.37e-12J",
         "line": {
          "color": "rgb(173, 216, 230, 0.4)",
          "width": 8
         },
         "mode": "lines",
         "showlegend": false,
         "type": "scatter3d",
         "x": [
          -20.22326619584203,
          -10.424136570599615
         ],
         "y": [
          38.90975595285775,
          -48.212882880081324
         ],
         "z": [
          14.835195765732355,
          10.568298493360082
         ]
        },
        {
         "hoverinfo": "text",
         "hovertext": "Length: 5.61e+01, Contributes -6.42e-11J",
         "line": {
          "color": "rgb(173, 216, 230, 0.4)",
          "width": 8
         },
         "mode": "lines",
         "showlegend": false,
         "type": "scatter3d",
         "x": [
          -20.22326619584203,
          34.82119922982325
         ],
         "y": [
          38.90975595285775,
          29.035653256713218
         ],
         "z": [
          14.835195765732355,
          10.39294777544175
         ]
        },
        {
         "hoverinfo": "text",
         "hovertext": "Length: 4.81e+01, Contributes -1.62e-10J",
         "line": {
          "color": "rgb(173, 216, 230, 0.4)",
          "width": 8
         },
         "mode": "lines",
         "showlegend": false,
         "type": "scatter3d",
         "x": [
          -20.22326619584203,
          -42.48925195651236
         ],
         "y": [
          38.90975595285775,
          -3.189715524579556
         ],
         "z": [
          14.835195765732355,
          8.353677607658044
         ]
        },
        {
         "hoverinfo": "text",
         "hovertext": "Length: 8.07e+01, Contributes -7.22e-12J",
         "line": {
          "color": "rgb(173, 216, 230, 0.4)",
          "width": 8
         },
         "mode": "lines",
         "showlegend": false,
         "type": "scatter3d",
         "x": [
          -20.22326619584203,
          34.87832855642639
         ],
         "y": [
          38.90975595285775,
          -19.279441687731474
         ],
         "z": [
          14.835195765732355,
          5.074135338013185
         ]
        },
        {
         "hoverinfo": "text",
         "hovertext": "Length: 1.46e+01, Contributes -2.03e-07J",
         "line": {
          "color": "rgb(173, 216, 230, 0.4)",
          "width": 8
         },
         "mode": "lines",
         "showlegend": false,
         "type": "scatter3d",
         "x": [
          -20.22326619584203,
          -19.417687339830007
         ],
         "y": [
          38.90975595285775,
          33.85718643461044
         ],
         "z": [
          14.835195765732355,
          1.1185451231485573
         ]
        },
        {
         "hoverinfo": "text",
         "hovertext": "Length: 8.20e+01, Contributes -6.58e-12J",
         "line": {
          "color": "rgb(173, 216, 230, 0.4)",
          "width": 8
         },
         "mode": "lines",
         "showlegend": false,
         "type": "scatter3d",
         "x": [
          -20.22326619584203,
          -1.4645607753420498
         ],
         "y": [
          38.90975595285775,
          -38.884923108358386
         ],
         "z": [
          14.835195765732355,
          -3.0518725090023056
         ]
        },
        {
         "hoverinfo": "text",
         "hovertext": "Length: 4.77e+01, Contributes -1.69e-10J",
         "line": {
          "color": "rgb(173, 216, 230, 0.4)",
          "width": 8
         },
         "mode": "lines",
         "showlegend": false,
         "type": "scatter3d",
         "x": [
          -20.22326619584203,
          21.87443335532114
         ],
         "y": [
          38.90975595285775,
          33.41299118583273
         ],
         "z": [
          14.835195765732355,
          -7.006768944564678
         ]
        },
        {
         "hoverinfo": "text",
         "hovertext": "Length: 6.40e+01, Contributes -2.91e-11J",
         "line": {
          "color": "rgb(173, 216, 230, 0.4)",
          "width": 8
         },
         "mode": "lines",
         "showlegend": false,
         "type": "scatter3d",
         "x": [
          -20.22326619584203,
          -39.12505184920254
         ],
         "y": [
          38.90975595285775,
          -16.825592019504082
         ],
         "z": [
          14.835195765732355,
          -10.28694881577914
         ]
        },
        {
         "hoverinfo": "text",
         "hovertext": "Length: 8.51e+01, Contributes -5.28e-12J",
         "line": {
          "color": "rgb(173, 216, 230, 0.4)",
          "width": 8
         },
         "mode": "lines",
         "showlegend": false,
         "type": "scatter3d",
         "x": [
          -20.22326619584203,
          44.301854325862216
         ],
         "y": [
          38.90975595285775,
          -9.383850675228944
         ],
         "z": [
          14.835195765732355,
          -12.326509564900187
         ]
        },
        {
         "hoverinfo": "text",
         "hovertext": "Length: 2.97e+01, Contributes -2.94e-09J",
         "line": {
          "color": "rgb(173, 216, 230, 0.4)",
          "width": 8
         },
         "mode": "lines",
         "showlegend": false,
         "type": "scatter3d",
         "x": [
          -20.22326619584203,
          -31.684556807974634
         ],
         "y": [
          38.90975595285775,
          37.946231546294484
         ],
         "z": [
          14.835195765732355,
          -12.503482126454415
         ]
        },
        {
         "hoverinfo": "text",
         "hovertext": "Length: 9.67e+01, Contributes -2.45e-12J",
         "line": {
          "color": "rgb(173, 216, 230, 0.4)",
          "width": 8
         },
         "mode": "lines",
         "showlegend": false,
         "type": "scatter3d",
         "x": [
          -20.22326619584203,
          -3.026126601610173
         ],
         "y": [
          38.90975595285775,
          -52.78161454872874
         ],
         "z": [
          14.835195765732355,
          -10.590838088051248
         ]
        },
        {
         "hoverinfo": "text",
         "hovertext": "Length: 6.66e+01, Contributes -2.28e-11J",
         "line": {
          "color": "rgb(173, 216, 230, 0.4)",
          "width": 8
         },
         "mode": "lines",
         "showlegend": false,
         "type": "scatter3d",
         "x": [
          -20.22326619584203,
          42.33357265378528
         ],
         "y": [
          38.90975595285775,
          34.469598861204375
         ],
         "z": [
          14.835195765732355,
          -7.6842190572775255
         ]
        },
        {
         "hoverinfo": "text",
         "hovertext": "Length: 4.44e+01, Contributes -2.63e-10J",
         "line": {
          "color": "rgb(173, 216, 230, 0.4)",
          "width": 8
         },
         "mode": "lines",
         "showlegend": false,
         "type": "scatter3d",
         "x": [
          -20.22326619584203,
          -50.281894363098544
         ],
         "y": [
          38.90975595285775,
          15.195410173301307
         ],
         "z": [
          14.835195765732355,
          -7.561575908402102
         ]
        },
        {
         "hoverinfo": "text",
         "hovertext": "Length: 9.08e+01, Contributes -3.57e-12J",
         "line": {
          "color": "rgb(173, 216, 230, 0.4)",
          "width": 8
         },
         "mode": "lines",
         "showlegend": false,
         "type": "scatter3d",
         "x": [
          -20.22326619584203,
          0.1703309069161888
         ],
         "y": [
          38.90975595285775,
          -43.73169340258058
         ],
         "z": [
          14.835195765732355,
          -16.768504614357497
         ]
        },
        {
         "hoverinfo": "text",
         "hovertext": "Length: 9.41e+01, Contributes -2.89e-12J",
         "line": {
          "color": "rgb(173, 216, 230, 0.4)",
          "width": 8
         },
         "mode": "lines",
         "showlegend": false,
         "type": "scatter3d",
         "x": [
          -20.22326619584203,
          49.6414415866731
         ],
         "y": [
          38.90975595285775,
          -1.116304089859976
         ],
         "z": [
          14.835195765732355,
          -33.80388320831996
         ]
        },
        {
         "hoverinfo": "text",
         "hovertext": "Length: 6.54e+01, Contributes -2.56e-11J",
         "line": {
          "color": "rgb(173, 216, 230, 0.4)",
          "width": 8
         },
         "mode": "lines",
         "showlegend": false,
         "type": "scatter3d",
         "x": [
          -20.22326619584203,
          -62.57342423074659
         ],
         "y": [
          38.90975595285775,
          63.17909048726257
         ],
         "z": [
          14.835195765732355,
          -28.644617573960343
         ]
        },
        {
         "hoverinfo": "text",
         "hovertext": "Length: 2.03e+02, Contributes -2.85e-14J",
         "line": {
          "color": "rgb(173, 216, 230, 0.4)",
          "width": 8
         },
         "mode": "lines",
         "showlegend": false,
         "type": "scatter3d",
         "x": [
          -20.22326619584203,
          70.87130849026862
         ],
         "y": [
          38.90975595285775,
          -142.2999843685264
         ],
         "z": [
          14.835195765732355,
          4.28184466416092
         ]
        },
        {
         "hoverinfo": "text",
         "hovertext": "Length: 5.52e+01, Contributes -7.08e-11J",
         "line": {
          "color": "rgb(173, 216, 230, 0.4)",
          "width": 8
         },
         "mode": "lines",
         "showlegend": false,
         "type": "scatter3d",
         "x": [
          -20.22326619584203,
          -11.328864799097097
         ],
         "y": [
          38.90975595285775,
          34.722340650845624
         ],
         "z": [
          14.835195765732355,
          -39.468828835257014
         ]
        },
        {
         "hoverinfo": "text",
         "hovertext": "Length: 9.02e+01, Contributes -3.72e-12J",
         "line": {
          "color": "rgb(173, 216, 230, 0.4)",
          "width": 8
         },
         "mode": "lines",
         "showlegend": false,
         "type": "scatter3d",
         "x": [
          -20.22326619584203,
          16.548577363715196
         ],
         "y": [
          38.90975595285775,
          -5.780648217739201
         ],
         "z": [
          14.835195765732355,
          -54.31435391571992
         ]
        },
        {
         "hoverinfo": "text",
         "hovertext": "Length: 1.08e+02, Contributes -1.26e-12J",
         "line": {
          "color": "rgb(173, 216, 230, 0.4)",
          "width": 8
         },
         "mode": "lines",
         "showlegend": false,
         "type": "scatter3d",
         "x": [
          -20.22326619584203,
          -45.21634097189665
         ],
         "y": [
          38.90975595285775,
          72.41917815142078
         ],
         "z": [
          14.835195765732355,
          -84.67734565159046
         ]
        },
        {
         "hoverinfo": "text",
         "hovertext": "Length: 9.46e+01, Contributes -2.79e-12J",
         "line": {
          "color": "rgb(173, 216, 230, 0.4)",
          "width": 8
         },
         "mode": "lines",
         "showlegend": false,
         "type": "scatter3d",
         "x": [
          -37.471356034170825,
          53.48214582683028
         ],
         "y": [
          -36.72417729918526,
          -10.700104304816078
         ],
         "z": [
          5.627256380891324,
          5.749446530516773
         ]
        },
        {
         "hoverinfo": "text",
         "hovertext": "Length: 8.28e+01, Contributes -6.19e-12J",
         "line": {
          "color": "rgb(173, 216, 230, 0.4)",
          "width": 8
         },
         "mode": "lines",
         "showlegend": false,
         "type": "scatter3d",
         "x": [
          -37.471356034170825,
          -27.26374276547555
         ],
         "y": [
          -36.72417729918526,
          45.4358617266683
         ],
         "z": [
          5.627256380891324,
          8.65621170461496
         ]
        },
        {
         "hoverinfo": "text",
         "hovertext": "Length: 2.98e+01, Contributes -2.86e-09J",
         "line": {
          "color": "rgb(173, 216, 230, 0.4)",
          "width": 8
         },
         "mode": "lines",
         "showlegend": false,
         "type": "scatter3d",
         "x": [
          -37.471356034170825,
          -10.424136570599615
         ],
         "y": [
          -36.72417729918526,
          -48.212882880081324
         ],
         "z": [
          5.627256380891324,
          10.568298493360082
         ]
        },
        {
         "hoverinfo": "text",
         "hovertext": "Length: 9.78e+01, Contributes -2.28e-12J",
         "line": {
          "color": "rgb(173, 216, 230, 0.4)",
          "width": 8
         },
         "mode": "lines",
         "showlegend": false,
         "type": "scatter3d",
         "x": [
          -37.471356034170825,
          34.82119922982325
         ],
         "y": [
          -36.72417729918526,
          29.035653256713218
         ],
         "z": [
          5.627256380891324,
          10.39294777544175
         ]
        },
        {
         "hoverinfo": "text",
         "hovertext": "Length: 3.40e+01, Contributes -1.29e-09J",
         "line": {
          "color": "rgb(173, 216, 230, 0.4)",
          "width": 8
         },
         "mode": "lines",
         "showlegend": false,
         "type": "scatter3d",
         "x": [
          -37.471356034170825,
          -42.48925195651236
         ],
         "y": [
          -36.72417729918526,
          -3.189715524579556
         ],
         "z": [
          5.627256380891324,
          8.353677607658044
         ]
        },
        {
         "hoverinfo": "text",
         "hovertext": "Length: 7.44e+01, Contributes -1.18e-11J",
         "line": {
          "color": "rgb(173, 216, 230, 0.4)",
          "width": 8
         },
         "mode": "lines",
         "showlegend": false,
         "type": "scatter3d",
         "x": [
          -37.471356034170825,
          34.87832855642639
         ],
         "y": [
          -36.72417729918526,
          -19.279441687731474
         ],
         "z": [
          5.627256380891324,
          5.074135338013185
         ]
        },
        {
         "hoverinfo": "text",
         "hovertext": "Length: 7.30e+01, Contributes -1.32e-11J",
         "line": {
          "color": "rgb(173, 216, 230, 0.4)",
          "width": 8
         },
         "mode": "lines",
         "showlegend": false,
         "type": "scatter3d",
         "x": [
          -37.471356034170825,
          -19.417687339830007
         ],
         "y": [
          -36.72417729918526,
          33.85718643461044
         ],
         "z": [
          5.627256380891324,
          1.1185451231485573
         ]
        },
        {
         "hoverinfo": "text",
         "hovertext": "Length: 3.71e+01, Contributes -7.67e-10J",
         "line": {
          "color": "rgb(173, 216, 230, 0.4)",
          "width": 8
         },
         "mode": "lines",
         "showlegend": false,
         "type": "scatter3d",
         "x": [
          -37.471356034170825,
          -1.4645607753420498
         ],
         "y": [
          -36.72417729918526,
          -38.884923108358386
         ],
         "z": [
          5.627256380891324,
          -3.0518725090023056
         ]
        },
        {
         "hoverinfo": "text",
         "hovertext": "Length: 9.27e+01, Contributes -3.14e-12J",
         "line": {
          "color": "rgb(173, 216, 230, 0.4)",
          "width": 8
         },
         "mode": "lines",
         "showlegend": false,
         "type": "scatter3d",
         "x": [
          -37.471356034170825,
          21.87443335532114
         ],
         "y": [
          -36.72417729918526,
          33.41299118583273
         ],
         "z": [
          5.627256380891324,
          -7.006768944564678
         ]
        },
        {
         "hoverinfo": "text",
         "hovertext": "Length: 2.55e+01, Contributes -7.22e-09J",
         "line": {
          "color": "rgb(173, 216, 230, 0.4)",
          "width": 8
         },
         "mode": "lines",
         "showlegend": false,
         "type": "scatter3d",
         "x": [
          -37.471356034170825,
          -39.12505184920254
         ],
         "y": [
          -36.72417729918526,
          -16.825592019504082
         ],
         "z": [
          5.627256380891324,
          -10.28694881577914
         ]
        },
        {
         "hoverinfo": "text",
         "hovertext": "Length: 8.81e+01, Contributes -4.29e-12J",
         "line": {
          "color": "rgb(173, 216, 230, 0.4)",
          "width": 8
         },
         "mode": "lines",
         "showlegend": false,
         "type": "scatter3d",
         "x": [
          -37.471356034170825,
          44.301854325862216
         ],
         "y": [
          -36.72417729918526,
          -9.383850675228944
         ],
         "z": [
          5.627256380891324,
          -12.326509564900187
         ]
        },
        {
         "hoverinfo": "text",
         "hovertext": "Length: 7.71e+01, Contributes -9.55e-12J",
         "line": {
          "color": "rgb(173, 216, 230, 0.4)",
          "width": 8
         },
         "mode": "lines",
         "showlegend": false,
         "type": "scatter3d",
         "x": [
          -37.471356034170825,
          -31.684556807974634
         ],
         "y": [
          -36.72417729918526,
          37.946231546294484
         ],
         "z": [
          5.627256380891324,
          -12.503482126454415
         ]
        },
        {
         "hoverinfo": "text",
         "hovertext": "Length: 4.13e+01, Contributes -4.02e-10J",
         "line": {
          "color": "rgb(173, 216, 230, 0.4)",
          "width": 8
         },
         "mode": "lines",
         "showlegend": false,
         "type": "scatter3d",
         "x": [
          -37.471356034170825,
          -3.026126601610173
         ],
         "y": [
          -36.72417729918526,
          -52.78161454872874
         ],
         "z": [
          5.627256380891324,
          -10.590838088051248
         ]
        },
        {
         "hoverinfo": "text",
         "hovertext": "Length: 1.08e+02, Contributes -1.28e-12J",
         "line": {
          "color": "rgb(173, 216, 230, 0.4)",
          "width": 8
         },
         "mode": "lines",
         "showlegend": false,
         "type": "scatter3d",
         "x": [
          -37.471356034170825,
          42.33357265378528
         ],
         "y": [
          -36.72417729918526,
          34.469598861204375
         ],
         "z": [
          5.627256380891324,
          -7.6842190572775255
         ]
        },
        {
         "hoverinfo": "text",
         "hovertext": "Length: 5.51e+01, Contributes -7.16e-11J",
         "line": {
          "color": "rgb(173, 216, 230, 0.4)",
          "width": 8
         },
         "mode": "lines",
         "showlegend": false,
         "type": "scatter3d",
         "x": [
          -37.471356034170825,
          -50.281894363098544
         ],
         "y": [
          -36.72417729918526,
          15.195410173301307
         ],
         "z": [
          5.627256380891324,
          -7.561575908402102
         ]
        },
        {
         "hoverinfo": "text",
         "hovertext": "Length: 4.44e+01, Contributes -2.63e-10J",
         "line": {
          "color": "rgb(173, 216, 230, 0.4)",
          "width": 8
         },
         "mode": "lines",
         "showlegend": false,
         "type": "scatter3d",
         "x": [
          -37.471356034170825,
          0.1703309069161888
         ],
         "y": [
          -36.72417729918526,
          -43.73169340258058
         ],
         "z": [
          5.627256380891324,
          -16.768504614357497
         ]
        },
        {
         "hoverinfo": "text",
         "hovertext": "Length: 1.02e+02, Contributes -1.77e-12J",
         "line": {
          "color": "rgb(173, 216, 230, 0.4)",
          "width": 8
         },
         "mode": "lines",
         "showlegend": false,
         "type": "scatter3d",
         "x": [
          -37.471356034170825,
          49.6414415866731
         ],
         "y": [
          -36.72417729918526,
          -1.116304089859976
         ],
         "z": [
          5.627256380891324,
          -33.80388320831996
         ]
        },
        {
         "hoverinfo": "text",
         "hovertext": "Length: 1.09e+02, Contributes -1.22e-12J",
         "line": {
          "color": "rgb(173, 216, 230, 0.4)",
          "width": 8
         },
         "mode": "lines",
         "showlegend": false,
         "type": "scatter3d",
         "x": [
          -37.471356034170825,
          -62.57342423074659
         ],
         "y": [
          -36.72417729918526,
          63.17909048726257
         ],
         "z": [
          5.627256380891324,
          -28.644617573960343
         ]
        },
        {
         "hoverinfo": "text",
         "hovertext": "Length: 1.51e+02, Contributes -1.67e-13J",
         "line": {
          "color": "rgb(173, 216, 230, 0.4)",
          "width": 8
         },
         "mode": "lines",
         "showlegend": false,
         "type": "scatter3d",
         "x": [
          -37.471356034170825,
          70.87130849026862
         ],
         "y": [
          -36.72417729918526,
          -142.2999843685264
         ],
         "z": [
          5.627256380891324,
          4.28184466416092
         ]
        },
        {
         "hoverinfo": "text",
         "hovertext": "Length: 8.84e+01, Contributes -4.18e-12J",
         "line": {
          "color": "rgb(173, 216, 230, 0.4)",
          "width": 8
         },
         "mode": "lines",
         "showlegend": false,
         "type": "scatter3d",
         "x": [
          -37.471356034170825,
          -11.328864799097097
         ],
         "y": [
          -36.72417729918526,
          34.722340650845624
         ],
         "z": [
          5.627256380891324,
          -39.468828835257014
         ]
        },
        {
         "hoverinfo": "text",
         "hovertext": "Length: 8.64e+01, Contributes -4.80e-12J",
         "line": {
          "color": "rgb(173, 216, 230, 0.4)",
          "width": 8
         },
         "mode": "lines",
         "showlegend": false,
         "type": "scatter3d",
         "x": [
          -37.471356034170825,
          16.548577363715196
         ],
         "y": [
          -36.72417729918526,
          -5.780648217739201
         ],
         "z": [
          5.627256380891324,
          -54.31435391571992
         ]
        },
        {
         "hoverinfo": "text",
         "hovertext": "Length: 1.42e+02, Contributes -2.45e-13J",
         "line": {
          "color": "rgb(173, 216, 230, 0.4)",
          "width": 8
         },
         "mode": "lines",
         "showlegend": false,
         "type": "scatter3d",
         "x": [
          -37.471356034170825,
          -45.21634097189665
         ],
         "y": [
          -36.72417729918526,
          72.41917815142078
         ],
         "z": [
          5.627256380891324,
          -84.67734565159046
         ]
        },
        {
         "hoverinfo": "text",
         "hovertext": "Length: 9.84e+01, Contributes -2.21e-12J",
         "line": {
          "color": "rgb(173, 216, 230, 0.4)",
          "width": 8
         },
         "mode": "lines",
         "showlegend": false,
         "type": "scatter3d",
         "x": [
          53.48214582683028,
          -27.26374276547555
         ],
         "y": [
          -10.700104304816078,
          45.4358617266683
         ],
         "z": [
          5.749446530516773,
          8.65621170461496
         ]
        },
        {
         "hoverinfo": "text",
         "hovertext": "Length: 7.43e+01, Contributes -1.19e-11J",
         "line": {
          "color": "rgb(173, 216, 230, 0.4)",
          "width": 8
         },
         "mode": "lines",
         "showlegend": false,
         "type": "scatter3d",
         "x": [
          53.48214582683028,
          -10.424136570599615
         ],
         "y": [
          -10.700104304816078,
          -48.212882880081324
         ],
         "z": [
          5.749446530516773,
          10.568298493360082
         ]
        },
        {
         "hoverinfo": "text",
         "hovertext": "Length: 4.41e+01, Contributes -2.70e-10J",
         "line": {
          "color": "rgb(173, 216, 230, 0.4)",
          "width": 8
         },
         "mode": "lines",
         "showlegend": false,
         "type": "scatter3d",
         "x": [
          53.48214582683028,
          34.82119922982325
         ],
         "y": [
          -10.700104304816078,
          29.035653256713218
         ],
         "z": [
          5.749446530516773,
          10.39294777544175
         ]
        },
        {
         "hoverinfo": "text",
         "hovertext": "Length: 9.63e+01, Contributes -2.51e-12J",
         "line": {
          "color": "rgb(173, 216, 230, 0.4)",
          "width": 8
         },
         "mode": "lines",
         "showlegend": false,
         "type": "scatter3d",
         "x": [
          53.48214582683028,
          -42.48925195651236
         ],
         "y": [
          -10.700104304816078,
          -3.189715524579556
         ],
         "z": [
          5.749446530516773,
          8.353677607658044
         ]
        },
        {
         "hoverinfo": "text",
         "hovertext": "Length: 2.05e+01, Contributes -2.70e-08J",
         "line": {
          "color": "rgb(173, 216, 230, 0.4)",
          "width": 8
         },
         "mode": "lines",
         "showlegend": false,
         "type": "scatter3d",
         "x": [
          53.48214582683028,
          34.87832855642639
         ],
         "y": [
          -10.700104304816078,
          -19.279441687731474
         ],
         "z": [
          5.749446530516773,
          5.074135338013185
         ]
        },
        {
         "hoverinfo": "text",
         "hovertext": "Length: 8.56e+01, Contributes -5.10e-12J",
         "line": {
          "color": "rgb(173, 216, 230, 0.4)",
          "width": 8
         },
         "mode": "lines",
         "showlegend": false,
         "type": "scatter3d",
         "x": [
          53.48214582683028,
          -19.417687339830007
         ],
         "y": [
          -10.700104304816078,
          33.85718643461044
         ],
         "z": [
          5.749446530516773,
          1.1185451231485573
         ]
        },
        {
         "hoverinfo": "text",
         "hovertext": "Length: 6.24e+01, Contributes -3.40e-11J",
         "line": {
          "color": "rgb(173, 216, 230, 0.4)",
          "width": 8
         },
         "mode": "lines",
         "showlegend": false,
         "type": "scatter3d",
         "x": [
          53.48214582683028,
          -1.4645607753420498
         ],
         "y": [
          -10.700104304816078,
          -38.884923108358386
         ],
         "z": [
          5.749446530516773,
          -3.0518725090023056
         ]
        },
        {
         "hoverinfo": "text",
         "hovertext": "Length: 5.57e+01, Contributes -6.66e-11J",
         "line": {
          "color": "rgb(173, 216, 230, 0.4)",
          "width": 8
         },
         "mode": "lines",
         "showlegend": false,
         "type": "scatter3d",
         "x": [
          53.48214582683028,
          21.87443335532114
         ],
         "y": [
          -10.700104304816078,
          33.41299118583273
         ],
         "z": [
          5.749446530516773,
          -7.006768944564678
         ]
        },
        {
         "hoverinfo": "text",
         "hovertext": "Length: 9.42e+01, Contributes -2.87e-12J",
         "line": {
          "color": "rgb(173, 216, 230, 0.4)",
          "width": 8
         },
         "mode": "lines",
         "showlegend": false,
         "type": "scatter3d",
         "x": [
          53.48214582683028,
          -39.12505184920254
         ],
         "y": [
          -10.700104304816078,
          -16.825592019504082
         ],
         "z": [
          5.749446530516773,
          -10.28694881577914
         ]
        },
        {
         "hoverinfo": "text",
         "hovertext": "Length: 2.03e+01, Contributes -2.84e-08J",
         "line": {
          "color": "rgb(173, 216, 230, 0.4)",
          "width": 8
         },
         "mode": "lines",
         "showlegend": false,
         "type": "scatter3d",
         "x": [
          53.48214582683028,
          44.301854325862216
         ],
         "y": [
          -10.700104304816078,
          -9.383850675228944
         ],
         "z": [
          5.749446530516773,
          -12.326509564900187
         ]
        },
        {
         "hoverinfo": "text",
         "hovertext": "Length: 9.98e+01, Contributes -2.03e-12J",
         "line": {
          "color": "rgb(173, 216, 230, 0.4)",
          "width": 8
         },
         "mode": "lines",
         "showlegend": false,
         "type": "scatter3d",
         "x": [
          53.48214582683028,
          -31.684556807974634
         ],
         "y": [
          -10.700104304816078,
          37.946231546294484
         ],
         "z": [
          5.749446530516773,
          -12.503482126454415
         ]
        },
        {
         "hoverinfo": "text",
         "hovertext": "Length: 7.23e+01, Contributes -1.40e-11J",
         "line": {
          "color": "rgb(173, 216, 230, 0.4)",
          "width": 8
         },
         "mode": "lines",
         "showlegend": false,
         "type": "scatter3d",
         "x": [
          53.48214582683028,
          -3.026126601610173
         ],
         "y": [
          -10.700104304816078,
          -52.78161454872874
         ],
         "z": [
          5.749446530516773,
          -10.590838088051248
         ]
        },
        {
         "hoverinfo": "text",
         "hovertext": "Length: 4.84e+01, Contributes -1.55e-10J",
         "line": {
          "color": "rgb(173, 216, 230, 0.4)",
          "width": 8
         },
         "mode": "lines",
         "showlegend": false,
         "type": "scatter3d",
         "x": [
          53.48214582683028,
          42.33357265378528
         ],
         "y": [
          -10.700104304816078,
          34.469598861204375
         ],
         "z": [
          5.749446530516773,
          -7.6842190572775255
         ]
        },
        {
         "hoverinfo": "text",
         "hovertext": "Length: 1.08e+02, Contributes -1.28e-12J",
         "line": {
          "color": "rgb(173, 216, 230, 0.4)",
          "width": 8
         },
         "mode": "lines",
         "showlegend": false,
         "type": "scatter3d",
         "x": [
          53.48214582683028,
          -50.281894363098544
         ],
         "y": [
          -10.700104304816078,
          15.195410173301307
         ],
         "z": [
          5.749446530516773,
          -7.561575908402102
         ]
        },
        {
         "hoverinfo": "text",
         "hovertext": "Length: 6.66e+01, Contributes -2.28e-11J",
         "line": {
          "color": "rgb(173, 216, 230, 0.4)",
          "width": 8
         },
         "mode": "lines",
         "showlegend": false,
         "type": "scatter3d",
         "x": [
          53.48214582683028,
          0.1703309069161888
         ],
         "y": [
          -10.700104304816078,
          -43.73169340258058
         ],
         "z": [
          5.749446530516773,
          -16.768504614357497
         ]
        },
        {
         "hoverinfo": "text",
         "hovertext": "Length: 4.09e+01, Contributes -4.29e-10J",
         "line": {
          "color": "rgb(173, 216, 230, 0.4)",
          "width": 8
         },
         "mode": "lines",
         "showlegend": false,
         "type": "scatter3d",
         "x": [
          53.48214582683028,
          49.6414415866731
         ],
         "y": [
          -10.700104304816078,
          -1.116304089859976
         ],
         "z": [
          5.749446530516773,
          -33.80388320831996
         ]
        },
        {
         "hoverinfo": "text",
         "hovertext": "Length: 1.42e+02, Contributes -2.46e-13J",
         "line": {
          "color": "rgb(173, 216, 230, 0.4)",
          "width": 8
         },
         "mode": "lines",
         "showlegend": false,
         "type": "scatter3d",
         "x": [
          53.48214582683028,
          -62.57342423074659
         ],
         "y": [
          -10.700104304816078,
          63.17909048726257
         ],
         "z": [
          5.749446530516773,
          -28.644617573960343
         ]
        },
        {
         "hoverinfo": "text",
         "hovertext": "Length: 1.33e+02, Contributes -3.65e-13J",
         "line": {
          "color": "rgb(173, 216, 230, 0.4)",
          "width": 8
         },
         "mode": "lines",
         "showlegend": false,
         "type": "scatter3d",
         "x": [
          53.48214582683028,
          70.87130849026862
         ],
         "y": [
          -10.700104304816078,
          -142.2999843685264
         ],
         "z": [
          5.749446530516773,
          4.28184466416092
         ]
        },
        {
         "hoverinfo": "text",
         "hovertext": "Length: 9.12e+01, Contributes -3.49e-12J",
         "line": {
          "color": "rgb(173, 216, 230, 0.4)",
          "width": 8
         },
         "mode": "lines",
         "showlegend": false,
         "type": "scatter3d",
         "x": [
          53.48214582683028,
          -11.328864799097097
         ],
         "y": [
          -10.700104304816078,
          34.722340650845624
         ],
         "z": [
          5.749446530516773,
          -39.468828835257014
         ]
        },
        {
         "hoverinfo": "text",
         "hovertext": "Length: 7.07e+01, Contributes -1.60e-11J",
         "line": {
          "color": "rgb(173, 216, 230, 0.4)",
          "width": 8
         },
         "mode": "lines",
         "showlegend": false,
         "type": "scatter3d",
         "x": [
          53.48214582683028,
          16.548577363715196
         ],
         "y": [
          -10.700104304816078,
          -5.780648217739201
         ],
         "z": [
          5.749446530516773,
          -54.31435391571992
         ]
        },
        {
         "hoverinfo": "text",
         "hovertext": "Length: 1.58e+02, Contributes -1.31e-13J",
         "line": {
          "color": "rgb(173, 216, 230, 0.4)",
          "width": 8
         },
         "mode": "lines",
         "showlegend": false,
         "type": "scatter3d",
         "x": [
          53.48214582683028,
          -45.21634097189665
         ],
         "y": [
          -10.700104304816078,
          72.41917815142078
         ],
         "z": [
          5.749446530516773,
          -84.67734565159046
         ]
        },
        {
         "hoverinfo": "text",
         "hovertext": "Length: 9.52e+01, Contributes -2.69e-12J",
         "line": {
          "color": "rgb(173, 216, 230, 0.4)",
          "width": 8
         },
         "mode": "lines",
         "showlegend": false,
         "type": "scatter3d",
         "x": [
          -27.26374276547555,
          -10.424136570599615
         ],
         "y": [
          45.4358617266683,
          -48.212882880081324
         ],
         "z": [
          8.65621170461496,
          10.568298493360082
         ]
        },
        {
         "hoverinfo": "text",
         "hovertext": "Length: 6.42e+01, Contributes -2.85e-11J",
         "line": {
          "color": "rgb(173, 216, 230, 0.4)",
          "width": 8
         },
         "mode": "lines",
         "showlegend": false,
         "type": "scatter3d",
         "x": [
          -27.26374276547555,
          34.82119922982325
         ],
         "y": [
          45.4358617266683,
          29.035653256713218
         ],
         "z": [
          8.65621170461496,
          10.39294777544175
         ]
        },
        {
         "hoverinfo": "text",
         "hovertext": "Length: 5.10e+01, Contributes -1.14e-10J",
         "line": {
          "color": "rgb(173, 216, 230, 0.4)",
          "width": 8
         },
         "mode": "lines",
         "showlegend": false,
         "type": "scatter3d",
         "x": [
          -27.26374276547555,
          -42.48925195651236
         ],
         "y": [
          45.4358617266683,
          -3.189715524579556
         ],
         "z": [
          8.65621170461496,
          8.353677607658044
         ]
        },
        {
         "hoverinfo": "text",
         "hovertext": "Length: 8.98e+01, Contributes -3.82e-12J",
         "line": {
          "color": "rgb(173, 216, 230, 0.4)",
          "width": 8
         },
         "mode": "lines",
         "showlegend": false,
         "type": "scatter3d",
         "x": [
          -27.26374276547555,
          34.87832855642639
         ],
         "y": [
          45.4358617266683,
          -19.279441687731474
         ],
         "z": [
          8.65621170461496,
          5.074135338013185
         ]
        },
        {
         "hoverinfo": "text",
         "hovertext": "Length: 1.59e+01, Contributes -1.24e-07J",
         "line": {
          "color": "rgb(173, 216, 230, 0.4)",
          "width": 8
         },
         "mode": "lines",
         "showlegend": false,
         "type": "scatter3d",
         "x": [
          -27.26374276547555,
          -19.417687339830007
         ],
         "y": [
          45.4358617266683,
          33.85718643461044
         ],
         "z": [
          8.65621170461496,
          1.1185451231485573
         ]
        },
        {
         "hoverinfo": "text",
         "hovertext": "Length: 8.90e+01, Contributes -4.04e-12J",
         "line": {
          "color": "rgb(173, 216, 230, 0.4)",
          "width": 8
         },
         "mode": "lines",
         "showlegend": false,
         "type": "scatter3d",
         "x": [
          -27.26374276547555,
          -1.4645607753420498
         ],
         "y": [
          45.4358617266683,
          -38.884923108358386
         ],
         "z": [
          8.65621170461496,
          -3.0518725090023056
         ]
        },
        {
         "hoverinfo": "text",
         "hovertext": "Length: 5.30e+01, Contributes -9.07e-11J",
         "line": {
          "color": "rgb(173, 216, 230, 0.4)",
          "width": 8
         },
         "mode": "lines",
         "showlegend": false,
         "type": "scatter3d",
         "x": [
          -27.26374276547555,
          21.87443335532114
         ],
         "y": [
          45.4358617266683,
          33.41299118583273
         ],
         "z": [
          8.65621170461496,
          -7.006768944564678
         ]
        },
        {
         "hoverinfo": "text",
         "hovertext": "Length: 6.62e+01, Contributes -2.39e-11J",
         "line": {
          "color": "rgb(173, 216, 230, 0.4)",
          "width": 8
         },
         "mode": "lines",
         "showlegend": false,
         "type": "scatter3d",
         "x": [
          -27.26374276547555,
          -39.12505184920254
         ],
         "y": [
          45.4358617266683,
          -16.825592019504082
         ],
         "z": [
          8.65621170461496,
          -10.28694881577914
         ]
        },
        {
         "hoverinfo": "text",
         "hovertext": "Length: 9.26e+01, Contributes -3.18e-12J",
         "line": {
          "color": "rgb(173, 216, 230, 0.4)",
          "width": 8
         },
         "mode": "lines",
         "showlegend": false,
         "type": "scatter3d",
         "x": [
          -27.26374276547555,
          44.301854325862216
         ],
         "y": [
          45.4358617266683,
          -9.383850675228944
         ],
         "z": [
          8.65621170461496,
          -12.326509564900187
         ]
        },
        {
         "hoverinfo": "text",
         "hovertext": "Length: 2.29e+01, Contributes -1.40e-08J",
         "line": {
          "color": "rgb(173, 216, 230, 0.4)",
          "width": 8
         },
         "mode": "lines",
         "showlegend": false,
         "type": "scatter3d",
         "x": [
          -27.26374276547555,
          -31.684556807974634
         ],
         "y": [
          45.4358617266683,
          37.946231546294484
         ],
         "z": [
          8.65621170461496,
          -12.503482126454415
         ]
        },
        {
         "hoverinfo": "text",
         "hovertext": "Length: 1.03e+02, Contributes -1.68e-12J",
         "line": {
          "color": "rgb(173, 216, 230, 0.4)",
          "width": 8
         },
         "mode": "lines",
         "showlegend": false,
         "type": "scatter3d",
         "x": [
          -27.26374276547555,
          -3.026126601610173
         ],
         "y": [
          45.4358617266683,
          -52.78161454872874
         ],
         "z": [
          8.65621170461496,
          -10.590838088051248
         ]
        },
        {
         "hoverinfo": "text",
         "hovertext": "Length: 7.23e+01, Contributes -1.40e-11J",
         "line": {
          "color": "rgb(173, 216, 230, 0.4)",
          "width": 8
         },
         "mode": "lines",
         "showlegend": false,
         "type": "scatter3d",
         "x": [
          -27.26374276547555,
          42.33357265378528
         ],
         "y": [
          45.4358617266683,
          34.469598861204375
         ],
         "z": [
          8.65621170461496,
          -7.6842190572775255
         ]
        },
        {
         "hoverinfo": "text",
         "hovertext": "Length: 4.13e+01, Contributes -4.02e-10J",
         "line": {
          "color": "rgb(173, 216, 230, 0.4)",
          "width": 8
         },
         "mode": "lines",
         "showlegend": false,
         "type": "scatter3d",
         "x": [
          -27.26374276547555,
          -50.281894363098544
         ],
         "y": [
          45.4358617266683,
          15.195410173301307
         ],
         "z": [
          8.65621170461496,
          -7.561575908402102
         ]
        },
        {
         "hoverinfo": "text",
         "hovertext": "Length: 9.67e+01, Contributes -2.45e-12J",
         "line": {
          "color": "rgb(173, 216, 230, 0.4)",
          "width": 8
         },
         "mode": "lines",
         "showlegend": false,
         "type": "scatter3d",
         "x": [
          -27.26374276547555,
          0.1703309069161888
         ],
         "y": [
          45.4358617266683,
          -43.73169340258058
         ],
         "z": [
          8.65621170461496,
          -16.768504614357497
         ]
        },
        {
         "hoverinfo": "text",
         "hovertext": "Length: 9.94e+01, Contributes -2.07e-12J",
         "line": {
          "color": "rgb(173, 216, 230, 0.4)",
          "width": 8
         },
         "mode": "lines",
         "showlegend": false,
         "type": "scatter3d",
         "x": [
          -27.26374276547555,
          49.6414415866731
         ],
         "y": [
          45.4358617266683,
          -1.116304089859976
         ],
         "z": [
          8.65621170461496,
          -33.80388320831996
         ]
        },
        {
         "hoverinfo": "text",
         "hovertext": "Length: 5.43e+01, Contributes -7.77e-11J",
         "line": {
          "color": "rgb(173, 216, 230, 0.4)",
          "width": 8
         },
         "mode": "lines",
         "showlegend": false,
         "type": "scatter3d",
         "x": [
          -27.26374276547555,
          -62.57342423074659
         ],
         "y": [
          45.4358617266683,
          63.17909048726257
         ],
         "z": [
          8.65621170461496,
          -28.644617573960343
         ]
        },
        {
         "hoverinfo": "text",
         "hovertext": "Length: 2.12e+02, Contributes -2.21e-14J",
         "line": {
          "color": "rgb(173, 216, 230, 0.4)",
          "width": 8
         },
         "mode": "lines",
         "showlegend": false,
         "type": "scatter3d",
         "x": [
          -27.26374276547555,
          70.87130849026862
         ],
         "y": [
          45.4358617266683,
          -142.2999843685264
         ],
         "z": [
          8.65621170461496,
          4.28184466416092
         ]
        },
        {
         "hoverinfo": "text",
         "hovertext": "Length: 5.18e+01, Contributes -1.03e-10J",
         "line": {
          "color": "rgb(173, 216, 230, 0.4)",
          "width": 8
         },
         "mode": "lines",
         "showlegend": false,
         "type": "scatter3d",
         "x": [
          -27.26374276547555,
          -11.328864799097097
         ],
         "y": [
          45.4358617266683,
          34.722340650845624
         ],
         "z": [
          8.65621170461496,
          -39.468828835257014
         ]
        },
        {
         "hoverinfo": "text",
         "hovertext": "Length: 9.22e+01, Contributes -3.25e-12J",
         "line": {
          "color": "rgb(173, 216, 230, 0.4)",
          "width": 8
         },
         "mode": "lines",
         "showlegend": false,
         "type": "scatter3d",
         "x": [
          -27.26374276547555,
          16.548577363715196
         ],
         "y": [
          45.4358617266683,
          -5.780648217739201
         ],
         "z": [
          8.65621170461496,
          -54.31435391571992
         ]
        },
        {
         "hoverinfo": "text",
         "hovertext": "Length: 9.88e+01, Contributes -2.15e-12J",
         "line": {
          "color": "rgb(173, 216, 230, 0.4)",
          "width": 8
         },
         "mode": "lines",
         "showlegend": false,
         "type": "scatter3d",
         "x": [
          -27.26374276547555,
          -45.21634097189665
         ],
         "y": [
          45.4358617266683,
          72.41917815142078
         ],
         "z": [
          8.65621170461496,
          -84.67734565159046
         ]
        },
        {
         "hoverinfo": "text",
         "hovertext": "Length: 8.95e+01, Contributes -3.89e-12J",
         "line": {
          "color": "rgb(173, 216, 230, 0.4)",
          "width": 8
         },
         "mode": "lines",
         "showlegend": false,
         "type": "scatter3d",
         "x": [
          -10.424136570599615,
          34.82119922982325
         ],
         "y": [
          -48.212882880081324,
          29.035653256713218
         ],
         "z": [
          10.568298493360082,
          10.39294777544175
         ]
        },
        {
         "hoverinfo": "text",
         "hovertext": "Length: 5.53e+01, Contributes -6.98e-11J",
         "line": {
          "color": "rgb(173, 216, 230, 0.4)",
          "width": 8
         },
         "mode": "lines",
         "showlegend": false,
         "type": "scatter3d",
         "x": [
          -10.424136570599615,
          -42.48925195651236
         ],
         "y": [
          -48.212882880081324,
          -3.189715524579556
         ],
         "z": [
          10.568298493360082,
          8.353677607658044
         ]
        },
        {
         "hoverinfo": "text",
         "hovertext": "Length: 5.40e+01, Contributes -8.04e-11J",
         "line": {
          "color": "rgb(173, 216, 230, 0.4)",
          "width": 8
         },
         "mode": "lines",
         "showlegend": false,
         "type": "scatter3d",
         "x": [
          -10.424136570599615,
          34.87832855642639
         ],
         "y": [
          -48.212882880081324,
          -19.279441687731474
         ],
         "z": [
          10.568298493360082,
          5.074135338013185
         ]
        },
        {
         "hoverinfo": "text",
         "hovertext": "Length: 8.31e+01, Contributes -6.07e-12J",
         "line": {
          "color": "rgb(173, 216, 230, 0.4)",
          "width": 8
         },
         "mode": "lines",
         "showlegend": false,
         "type": "scatter3d",
         "x": [
          -10.424136570599615,
          -19.417687339830007
         ],
         "y": [
          -48.212882880081324,
          33.85718643461044
         ],
         "z": [
          10.568298493360082,
          1.1185451231485573
         ]
        },
        {
         "hoverinfo": "text",
         "hovertext": "Length: 1.88e+01, Contributes -4.55e-08J",
         "line": {
          "color": "rgb(173, 216, 230, 0.4)",
          "width": 8
         },
         "mode": "lines",
         "showlegend": false,
         "type": "scatter3d",
         "x": [
          -10.424136570599615,
          -1.4645607753420498
         ],
         "y": [
          -48.212882880081324,
          -38.884923108358386
         ],
         "z": [
          10.568298493360082,
          -3.0518725090023056
         ]
        },
        {
         "hoverinfo": "text",
         "hovertext": "Length: 8.95e+01, Contributes -3.88e-12J",
         "line": {
          "color": "rgb(173, 216, 230, 0.4)",
          "width": 8
         },
         "mode": "lines",
         "showlegend": false,
         "type": "scatter3d",
         "x": [
          -10.424136570599615,
          21.87443335532114
         ],
         "y": [
          -48.212882880081324,
          33.41299118583273
         ],
         "z": [
          10.568298493360082,
          -7.006768944564678
         ]
        },
        {
         "hoverinfo": "text",
         "hovertext": "Length: 4.74e+01, Contributes -1.77e-10J",
         "line": {
          "color": "rgb(173, 216, 230, 0.4)",
          "width": 8
         },
         "mode": "lines",
         "showlegend": false,
         "type": "scatter3d",
         "x": [
          -10.424136570599615,
          -39.12505184920254
         ],
         "y": [
          -48.212882880081324,
          -16.825592019504082
         ],
         "z": [
          10.568298493360082,
          -10.28694881577914
         ]
        },
        {
         "hoverinfo": "text",
         "hovertext": "Length: 7.09e+01, Contributes -1.57e-11J",
         "line": {
          "color": "rgb(173, 216, 230, 0.4)",
          "width": 8
         },
         "mode": "lines",
         "showlegend": false,
         "type": "scatter3d",
         "x": [
          -10.424136570599615,
          44.301854325862216
         ],
         "y": [
          -48.212882880081324,
          -9.383850675228944
         ],
         "z": [
          10.568298493360082,
          -12.326509564900187
         ]
        },
        {
         "hoverinfo": "text",
         "hovertext": "Length: 9.17e+01, Contributes -3.37e-12J",
         "line": {
          "color": "rgb(173, 216, 230, 0.4)",
          "width": 8
         },
         "mode": "lines",
         "showlegend": false,
         "type": "scatter3d",
         "x": [
          -10.424136570599615,
          -31.684556807974634
         ],
         "y": [
          -48.212882880081324,
          37.946231546294484
         ],
         "z": [
          10.568298493360082,
          -12.503482126454415
         ]
        },
        {
         "hoverinfo": "text",
         "hovertext": "Length: 2.29e+01, Contributes -1.40e-08J",
         "line": {
          "color": "rgb(173, 216, 230, 0.4)",
          "width": 8
         },
         "mode": "lines",
         "showlegend": false,
         "type": "scatter3d",
         "x": [
          -10.424136570599615,
          -3.026126601610173
         ],
         "y": [
          -48.212882880081324,
          -52.78161454872874
         ],
         "z": [
          10.568298493360082,
          -10.590838088051248
         ]
        },
        {
         "hoverinfo": "text",
         "hovertext": "Length: 9.98e+01, Contributes -2.03e-12J",
         "line": {
          "color": "rgb(173, 216, 230, 0.4)",
          "width": 8
         },
         "mode": "lines",
         "showlegend": false,
         "type": "scatter3d",
         "x": [
          -10.424136570599615,
          42.33357265378528
         ],
         "y": [
          -48.212882880081324,
          34.469598861204375
         ],
         "z": [
          10.568298493360082,
          -7.6842190572775255
         ]
        },
        {
         "hoverinfo": "text",
         "hovertext": "Length: 7.71e+01, Contributes -9.55e-12J",
         "line": {
          "color": "rgb(173, 216, 230, 0.4)",
          "width": 8
         },
         "mode": "lines",
         "showlegend": false,
         "type": "scatter3d",
         "x": [
          -10.424136570599615,
          -50.281894363098544
         ],
         "y": [
          -48.212882880081324,
          15.195410173301307
         ],
         "z": [
          10.568298493360082,
          -7.561575908402102
         ]
        },
        {
         "hoverinfo": "text",
         "hovertext": "Length: 2.97e+01, Contributes -2.94e-09J",
         "line": {
          "color": "rgb(173, 216, 230, 0.4)",
          "width": 8
         },
         "mode": "lines",
         "showlegend": false,
         "type": "scatter3d",
         "x": [
          -10.424136570599615,
          0.1703309069161888
         ],
         "y": [
          -48.212882880081324,
          -43.73169340258058
         ],
         "z": [
          10.568298493360082,
          -16.768504614357497
         ]
        },
        {
         "hoverinfo": "text",
         "hovertext": "Length: 8.83e+01, Contributes -4.22e-12J",
         "line": {
          "color": "rgb(173, 216, 230, 0.4)",
          "width": 8
         },
         "mode": "lines",
         "showlegend": false,
         "type": "scatter3d",
         "x": [
          -10.424136570599615,
          49.6414415866731
         ],
         "y": [
          -48.212882880081324,
          -1.116304089859976
         ],
         "z": [
          10.568298493360082,
          -33.80388320831996
         ]
        },
        {
         "hoverinfo": "text",
         "hovertext": "Length: 1.29e+02, Contributes -4.32e-13J",
         "line": {
          "color": "rgb(173, 216, 230, 0.4)",
          "width": 8
         },
         "mode": "lines",
         "showlegend": false,
         "type": "scatter3d",
         "x": [
          -10.424136570599615,
          -62.57342423074659
         ],
         "y": [
          -48.212882880081324,
          63.17909048726257
         ],
         "z": [
          10.568298493360082,
          -28.644617573960343
         ]
        },
        {
         "hoverinfo": "text",
         "hovertext": "Length: 1.25e+02, Contributes -5.37e-13J",
         "line": {
          "color": "rgb(173, 216, 230, 0.4)",
          "width": 8
         },
         "mode": "lines",
         "showlegend": false,
         "type": "scatter3d",
         "x": [
          -10.424136570599615,
          70.87130849026862
         ],
         "y": [
          -48.212882880081324,
          -142.2999843685264
         ],
         "z": [
          10.568298493360082,
          4.28184466416092
         ]
        },
        {
         "hoverinfo": "text",
         "hovertext": "Length: 9.69e+01, Contributes -2.42e-12J",
         "line": {
          "color": "rgb(173, 216, 230, 0.4)",
          "width": 8
         },
         "mode": "lines",
         "showlegend": false,
         "type": "scatter3d",
         "x": [
          -10.424136570599615,
          -11.328864799097097
         ],
         "y": [
          -48.212882880081324,
          34.722340650845624
         ],
         "z": [
          10.568298493360082,
          -39.468828835257014
         ]
        },
        {
         "hoverinfo": "text",
         "hovertext": "Length: 8.21e+01, Contributes -6.54e-12J",
         "line": {
          "color": "rgb(173, 216, 230, 0.4)",
          "width": 8
         },
         "mode": "lines",
         "showlegend": false,
         "type": "scatter3d",
         "x": [
          -10.424136570599615,
          16.548577363715196
         ],
         "y": [
          -48.212882880081324,
          -5.780648217739201
         ],
         "z": [
          10.568298493360082,
          -54.31435391571992
         ]
        },
        {
         "hoverinfo": "text",
         "hovertext": "Length: 1.58e+02, Contributes -1.31e-13J",
         "line": {
          "color": "rgb(173, 216, 230, 0.4)",
          "width": 8
         },
         "mode": "lines",
         "showlegend": false,
         "type": "scatter3d",
         "x": [
          -10.424136570599615,
          -45.21634097189665
         ],
         "y": [
          -48.212882880081324,
          72.41917815142078
         ],
         "z": [
          10.568298493360082,
          -84.67734565159046
         ]
        },
        {
         "hoverinfo": "text",
         "hovertext": "Length: 8.38e+01, Contributes -5.78e-12J",
         "line": {
          "color": "rgb(173, 216, 230, 0.4)",
          "width": 8
         },
         "mode": "lines",
         "showlegend": false,
         "type": "scatter3d",
         "x": [
          34.82119922982325,
          -42.48925195651236
         ],
         "y": [
          29.035653256713218,
          -3.189715524579556
         ],
         "z": [
          10.39294777544175,
          8.353677607658044
         ]
        },
        {
         "hoverinfo": "text",
         "hovertext": "Length: 4.86e+01, Contributes -1.52e-10J",
         "line": {
          "color": "rgb(173, 216, 230, 0.4)",
          "width": 8
         },
         "mode": "lines",
         "showlegend": false,
         "type": "scatter3d",
         "x": [
          34.82119922982325,
          34.87832855642639
         ],
         "y": [
          29.035653256713218,
          -19.279441687731474
         ],
         "z": [
          10.39294777544175,
          5.074135338013185
         ]
        },
        {
         "hoverinfo": "text",
         "hovertext": "Length: 5.52e+01, Contributes -7.04e-11J",
         "line": {
          "color": "rgb(173, 216, 230, 0.4)",
          "width": 8
         },
         "mode": "lines",
         "showlegend": false,
         "type": "scatter3d",
         "x": [
          34.82119922982325,
          -19.417687339830007
         ],
         "y": [
          29.035653256713218,
          33.85718643461044
         ],
         "z": [
          10.39294777544175,
          1.1185451231485573
         ]
        },
        {
         "hoverinfo": "text",
         "hovertext": "Length: 7.82e+01, Contributes -8.77e-12J",
         "line": {
          "color": "rgb(173, 216, 230, 0.4)",
          "width": 8
         },
         "mode": "lines",
         "showlegend": false,
         "type": "scatter3d",
         "x": [
          34.82119922982325,
          -1.4645607753420498
         ],
         "y": [
          29.035653256713218,
          -38.884923108358386
         ],
         "z": [
          10.39294777544175,
          -3.0518725090023056
         ]
        },
        {
         "hoverinfo": "text",
         "hovertext": "Length: 2.21e+01, Contributes -1.70e-08J",
         "line": {
          "color": "rgb(173, 216, 230, 0.4)",
          "width": 8
         },
         "mode": "lines",
         "showlegend": false,
         "type": "scatter3d",
         "x": [
          34.82119922982325,
          21.87443335532114
         ],
         "y": [
          29.035653256713218,
          33.41299118583273
         ],
         "z": [
          10.39294777544175,
          -7.006768944564678
         ]
        },
        {
         "hoverinfo": "text",
         "hovertext": "Length: 8.94e+01, Contributes -3.91e-12J",
         "line": {
          "color": "rgb(173, 216, 230, 0.4)",
          "width": 8
         },
         "mode": "lines",
         "showlegend": false,
         "type": "scatter3d",
         "x": [
          34.82119922982325,
          -39.12505184920254
         ],
         "y": [
          29.035653256713218,
          -16.825592019504082
         ],
         "z": [
          10.39294777544175,
          -10.28694881577914
         ]
        },
        {
         "hoverinfo": "text",
         "hovertext": "Length: 4.56e+01, Contributes -2.22e-10J",
         "line": {
          "color": "rgb(173, 216, 230, 0.4)",
          "width": 8
         },
         "mode": "lines",
         "showlegend": false,
         "type": "scatter3d",
         "x": [
          34.82119922982325,
          44.301854325862216
         ],
         "y": [
          29.035653256713218,
          -9.383850675228944
         ],
         "z": [
          10.39294777544175,
          -12.326509564900187
         ]
        },
        {
         "hoverinfo": "text",
         "hovertext": "Length: 7.09e+01, Contributes -1.57e-11J",
         "line": {
          "color": "rgb(173, 216, 230, 0.4)",
          "width": 8
         },
         "mode": "lines",
         "showlegend": false,
         "type": "scatter3d",
         "x": [
          34.82119922982325,
          -31.684556807974634
         ],
         "y": [
          29.035653256713218,
          37.946231546294484
         ],
         "z": [
          10.39294777544175,
          -12.503482126454415
         ]
        },
        {
         "hoverinfo": "text",
         "hovertext": "Length: 9.26e+01, Contributes -3.18e-12J",
         "line": {
          "color": "rgb(173, 216, 230, 0.4)",
          "width": 8
         },
         "mode": "lines",
         "showlegend": false,
         "type": "scatter3d",
         "x": [
          34.82119922982325,
          -3.026126601610173
         ],
         "y": [
          29.035653256713218,
          -52.78161454872874
         ],
         "z": [
          10.39294777544175,
          -10.590838088051248
         ]
        },
        {
         "hoverinfo": "text",
         "hovertext": "Length: 2.03e+01, Contributes -2.84e-08J",
         "line": {
          "color": "rgb(173, 216, 230, 0.4)",
          "width": 8
         },
         "mode": "lines",
         "showlegend": false,
         "type": "scatter3d",
         "x": [
          34.82119922982325,
          42.33357265378528
         ],
         "y": [
          29.035653256713218,
          34.469598861204375
         ],
         "z": [
          10.39294777544175,
          -7.6842190572775255
         ]
        },
        {
         "hoverinfo": "text",
         "hovertext": "Length: 8.81e+01, Contributes -4.29e-12J",
         "line": {
          "color": "rgb(173, 216, 230, 0.4)",
          "width": 8
         },
         "mode": "lines",
         "showlegend": false,
         "type": "scatter3d",
         "x": [
          34.82119922982325,
          -50.281894363098544
         ],
         "y": [
          29.035653256713218,
          15.195410173301307
         ],
         "z": [
          10.39294777544175,
          -7.561575908402102
         ]
        },
        {
         "hoverinfo": "text",
         "hovertext": "Length: 8.51e+01, Contributes -5.28e-12J",
         "line": {
          "color": "rgb(173, 216, 230, 0.4)",
          "width": 8
         },
         "mode": "lines",
         "showlegend": false,
         "type": "scatter3d",
         "x": [
          34.82119922982325,
          0.1703309069161888
         ],
         "y": [
          29.035653256713218,
          -43.73169340258058
         ],
         "z": [
          10.39294777544175,
          -16.768504614357497
         ]
        },
        {
         "hoverinfo": "text",
         "hovertext": "Length: 5.55e+01, Contributes -6.83e-11J",
         "line": {
          "color": "rgb(173, 216, 230, 0.4)",
          "width": 8
         },
         "mode": "lines",
         "showlegend": false,
         "type": "scatter3d",
         "x": [
          34.82119922982325,
          49.6414415866731
         ],
         "y": [
          29.035653256713218,
          -1.116304089859976
         ],
         "z": [
          10.39294777544175,
          -33.80388320831996
         ]
        },
        {
         "hoverinfo": "text",
         "hovertext": "Length: 1.10e+02, Contributes -1.11e-12J",
         "line": {
          "color": "rgb(173, 216, 230, 0.4)",
          "width": 8
         },
         "mode": "lines",
         "showlegend": false,
         "type": "scatter3d",
         "x": [
          34.82119922982325,
          -62.57342423074659
         ],
         "y": [
          29.035653256713218,
          63.17909048726257
         ],
         "z": [
          10.39294777544175,
          -28.644617573960343
         ]
        },
        {
         "hoverinfo": "text",
         "hovertext": "Length: 1.75e+02, Contributes -6.92e-14J",
         "line": {
          "color": "rgb(173, 216, 230, 0.4)",
          "width": 8
         },
         "mode": "lines",
         "showlegend": false,
         "type": "scatter3d",
         "x": [
          34.82119922982325,
          70.87130849026862
         ],
         "y": [
          29.035653256713218,
          -142.2999843685264
         ],
         "z": [
          10.39294777544175,
          4.28184466416092
         ]
        },
        {
         "hoverinfo": "text",
         "hovertext": "Length: 6.82e+01, Contributes -1.99e-11J",
         "line": {
          "color": "rgb(173, 216, 230, 0.4)",
          "width": 8
         },
         "mode": "lines",
         "showlegend": false,
         "type": "scatter3d",
         "x": [
          34.82119922982325,
          -11.328864799097097
         ],
         "y": [
          29.035653256713218,
          34.722340650845624
         ],
         "z": [
          10.39294777544175,
          -39.468828835257014
         ]
        },
        {
         "hoverinfo": "text",
         "hovertext": "Length: 7.57e+01, Contributes -1.06e-11J",
         "line": {
          "color": "rgb(173, 216, 230, 0.4)",
          "width": 8
         },
         "mode": "lines",
         "showlegend": false,
         "type": "scatter3d",
         "x": [
          34.82119922982325,
          16.548577363715196
         ],
         "y": [
          29.035653256713218,
          -5.780648217739201
         ],
         "z": [
          10.39294777544175,
          -54.31435391571992
         ]
        },
        {
         "hoverinfo": "text",
         "hovertext": "Length: 1.32e+02, Contributes -3.85e-13J",
         "line": {
          "color": "rgb(173, 216, 230, 0.4)",
          "width": 8
         },
         "mode": "lines",
         "showlegend": false,
         "type": "scatter3d",
         "x": [
          34.82119922982325,
          -45.21634097189665
         ],
         "y": [
          29.035653256713218,
          72.41917815142078
         ],
         "z": [
          10.39294777544175,
          -84.67734565159046
         ]
        },
        {
         "hoverinfo": "text",
         "hovertext": "Length: 7.91e+01, Contributes -8.17e-12J",
         "line": {
          "color": "rgb(173, 216, 230, 0.4)",
          "width": 8
         },
         "mode": "lines",
         "showlegend": false,
         "type": "scatter3d",
         "x": [
          -42.48925195651236,
          34.87832855642639
         ],
         "y": [
          -3.189715524579556,
          -19.279441687731474
         ],
         "z": [
          8.353677607658044,
          5.074135338013185
         ]
        },
        {
         "hoverinfo": "text",
         "hovertext": "Length: 4.42e+01, Contributes -2.67e-10J",
         "line": {
          "color": "rgb(173, 216, 230, 0.4)",
          "width": 8
         },
         "mode": "lines",
         "showlegend": false,
         "type": "scatter3d",
         "x": [
          -42.48925195651236,
          -19.417687339830007
         ],
         "y": [
          -3.189715524579556,
          33.85718643461044
         ],
         "z": [
          8.353677607658044,
          1.1185451231485573
         ]
        },
        {
         "hoverinfo": "text",
         "hovertext": "Length: 5.56e+01, Contributes -6.80e-11J",
         "line": {
          "color": "rgb(173, 216, 230, 0.4)",
          "width": 8
         },
         "mode": "lines",
         "showlegend": false,
         "type": "scatter3d",
         "x": [
          -42.48925195651236,
          -1.4645607753420498
         ],
         "y": [
          -3.189715524579556,
          -38.884923108358386
         ],
         "z": [
          8.353677607658044,
          -3.0518725090023056
         ]
        },
        {
         "hoverinfo": "text",
         "hovertext": "Length: 7.56e+01, Contributes -1.07e-11J",
         "line": {
          "color": "rgb(173, 216, 230, 0.4)",
          "width": 8
         },
         "mode": "lines",
         "showlegend": false,
         "type": "scatter3d",
         "x": [
          -42.48925195651236,
          21.87443335532114
         ],
         "y": [
          -3.189715524579556,
          33.41299118583273
         ],
         "z": [
          8.353677607658044,
          -7.006768944564678
         ]
        },
        {
         "hoverinfo": "text",
         "hovertext": "Length: 2.33e+01, Contributes -1.24e-08J",
         "line": {
          "color": "rgb(173, 216, 230, 0.4)",
          "width": 8
         },
         "mode": "lines",
         "showlegend": false,
         "type": "scatter3d",
         "x": [
          -42.48925195651236,
          -39.12505184920254
         ],
         "y": [
          -3.189715524579556,
          -16.825592019504082
         ],
         "z": [
          8.353677607658044,
          -10.28694881577914
         ]
        },
        {
         "hoverinfo": "text",
         "hovertext": "Length: 8.94e+01, Contributes -3.91e-12J",
         "line": {
          "color": "rgb(173, 216, 230, 0.4)",
          "width": 8
         },
         "mode": "lines",
         "showlegend": false,
         "type": "scatter3d",
         "x": [
          -42.48925195651236,
          44.301854325862216
         ],
         "y": [
          -3.189715524579556,
          -9.383850675228944
         ],
         "z": [
          8.353677607658044,
          -12.326509564900187
         ]
        },
        {
         "hoverinfo": "text",
         "hovertext": "Length: 4.74e+01, Contributes -1.77e-10J",
         "line": {
          "color": "rgb(173, 216, 230, 0.4)",
          "width": 8
         },
         "mode": "lines",
         "showlegend": false,
         "type": "scatter3d",
         "x": [
          -42.48925195651236,
          -31.684556807974634
         ],
         "y": [
          -3.189715524579556,
          37.946231546294484
         ],
         "z": [
          8.353677607658044,
          -12.503482126454415
         ]
        },
        {
         "hoverinfo": "text",
         "hovertext": "Length: 6.61e+01, Contributes -2.39e-11J",
         "line": {
          "color": "rgb(173, 216, 230, 0.4)",
          "width": 8
         },
         "mode": "lines",
         "showlegend": false,
         "type": "scatter3d",
         "x": [
          -42.48925195651236,
          -3.026126601610173
         ],
         "y": [
          -3.189715524579556,
          -52.78161454872874
         ],
         "z": [
          8.353677607658044,
          -10.590838088051248
         ]
        },
        {
         "hoverinfo": "text",
         "hovertext": "Length: 9.42e+01, Contributes -2.87e-12J",
         "line": {
          "color": "rgb(173, 216, 230, 0.4)",
          "width": 8
         },
         "mode": "lines",
         "showlegend": false,
         "type": "scatter3d",
         "x": [
          -42.48925195651236,
          42.33357265378528
         ],
         "y": [
          -3.189715524579556,
          34.469598861204375
         ],
         "z": [
          8.353677607658044,
          -7.6842190572775255
         ]
        },
        {
         "hoverinfo": "text",
         "hovertext": "Length: 2.55e+01, Contributes -7.21e-09J",
         "line": {
          "color": "rgb(173, 216, 230, 0.4)",
          "width": 8
         },
         "mode": "lines",
         "showlegend": false,
         "type": "scatter3d",
         "x": [
          -42.48925195651236,
          -50.281894363098544
         ],
         "y": [
          -3.189715524579556,
          15.195410173301307
         ],
         "z": [
          8.353677607658044,
          -7.561575908402102
         ]
        },
        {
         "hoverinfo": "text",
         "hovertext": "Length: 6.40e+01, Contributes -2.91e-11J",
         "line": {
          "color": "rgb(173, 216, 230, 0.4)",
          "width": 8
         },
         "mode": "lines",
         "showlegend": false,
         "type": "scatter3d",
         "x": [
          -42.48925195651236,
          0.1703309069161888
         ],
         "y": [
          -3.189715524579556,
          -43.73169340258058
         ],
         "z": [
          8.353677607658044,
          -16.768504614357497
         ]
        },
        {
         "hoverinfo": "text",
         "hovertext": "Length: 1.01e+02, Contributes -1.85e-12J",
         "line": {
          "color": "rgb(173, 216, 230, 0.4)",
          "width": 8
         },
         "mode": "lines",
         "showlegend": false,
         "type": "scatter3d",
         "x": [
          -42.48925195651236,
          49.6414415866731
         ],
         "y": [
          -3.189715524579556,
          -1.116304089859976
         ],
         "z": [
          8.353677607658044,
          -33.80388320831996
         ]
        },
        {
         "hoverinfo": "text",
         "hovertext": "Length: 7.86e+01, Contributes -8.49e-12J",
         "line": {
          "color": "rgb(173, 216, 230, 0.4)",
          "width": 8
         },
         "mode": "lines",
         "showlegend": false,
         "type": "scatter3d",
         "x": [
          -42.48925195651236,
          -62.57342423074659
         ],
         "y": [
          -3.189715524579556,
          63.17909048726257
         ],
         "z": [
          8.353677607658044,
          -28.644617573960343
         ]
        },
        {
         "hoverinfo": "text",
         "hovertext": "Length: 1.79e+02, Contributes -5.98e-14J",
         "line": {
          "color": "rgb(173, 216, 230, 0.4)",
          "width": 8
         },
         "mode": "lines",
         "showlegend": false,
         "type": "scatter3d",
         "x": [
          -42.48925195651236,
          70.87130849026862
         ],
         "y": [
          -3.189715524579556,
          -142.2999843685264
         ],
         "z": [
          8.353677607658044,
          4.28184466416092
         ]
        },
        {
         "hoverinfo": "text",
         "hovertext": "Length: 6.85e+01, Contributes -1.93e-11J",
         "line": {
          "color": "rgb(173, 216, 230, 0.4)",
          "width": 8
         },
         "mode": "lines",
         "showlegend": false,
         "type": "scatter3d",
         "x": [
          -42.48925195651236,
          -11.328864799097097
         ],
         "y": [
          -3.189715524579556,
          34.722340650845624
         ],
         "z": [
          8.353677607658044,
          -39.468828835257014
         ]
        },
        {
         "hoverinfo": "text",
         "hovertext": "Length: 8.61e+01, Contributes -4.90e-12J",
         "line": {
          "color": "rgb(173, 216, 230, 0.4)",
          "width": 8
         },
         "mode": "lines",
         "showlegend": false,
         "type": "scatter3d",
         "x": [
          -42.48925195651236,
          16.548577363715196
         ],
         "y": [
          -3.189715524579556,
          -5.780648217739201
         ],
         "z": [
          8.353677607658044,
          -54.31435391571992
         ]
        },
        {
         "hoverinfo": "text",
         "hovertext": "Length: 1.20e+02, Contributes -6.73e-13J",
         "line": {
          "color": "rgb(173, 216, 230, 0.4)",
          "width": 8
         },
         "mode": "lines",
         "showlegend": false,
         "type": "scatter3d",
         "x": [
          -42.48925195651236,
          -45.21634097189665
         ],
         "y": [
          -3.189715524579556,
          72.41917815142078
         ],
         "z": [
          8.353677607658044,
          -84.67734565159046
         ]
        },
        {
         "hoverinfo": "text",
         "hovertext": "Length: 7.61e+01, Contributes -1.03e-11J",
         "line": {
          "color": "rgb(173, 216, 230, 0.4)",
          "width": 8
         },
         "mode": "lines",
         "showlegend": false,
         "type": "scatter3d",
         "x": [
          34.87832855642639,
          -19.417687339830007
         ],
         "y": [
          -19.279441687731474,
          33.85718643461044
         ],
         "z": [
          5.074135338013185,
          1.1185451231485573
         ]
        },
        {
         "hoverinfo": "text",
         "hovertext": "Length: 4.21e+01, Contributes -3.60e-10J",
         "line": {
          "color": "rgb(173, 216, 230, 0.4)",
          "width": 8
         },
         "mode": "lines",
         "showlegend": false,
         "type": "scatter3d",
         "x": [
          34.87832855642639,
          -1.4645607753420498
         ],
         "y": [
          -19.279441687731474,
          -38.884923108358386
         ],
         "z": [
          5.074135338013185,
          -3.0518725090023056
         ]
        },
        {
         "hoverinfo": "text",
         "hovertext": "Length: 5.56e+01, Contributes -6.77e-11J",
         "line": {
          "color": "rgb(173, 216, 230, 0.4)",
          "width": 8
         },
         "mode": "lines",
         "showlegend": false,
         "type": "scatter3d",
         "x": [
          34.87832855642639,
          21.87443335532114
         ],
         "y": [
          -19.279441687731474,
          33.41299118583273
         ],
         "z": [
          5.074135338013185,
          -7.006768944564678
         ]
        },
        {
         "hoverinfo": "text",
         "hovertext": "Length: 7.56e+01, Contributes -1.07e-11J",
         "line": {
          "color": "rgb(173, 216, 230, 0.4)",
          "width": 8
         },
         "mode": "lines",
         "showlegend": false,
         "type": "scatter3d",
         "x": [
          34.87832855642639,
          -39.12505184920254
         ],
         "y": [
          -19.279441687731474,
          -16.825592019504082
         ],
         "z": [
          5.074135338013185,
          -10.28694881577914
         ]
        },
        {
         "hoverinfo": "text",
         "hovertext": "Length: 2.21e+01, Contributes -1.71e-08J",
         "line": {
          "color": "rgb(173, 216, 230, 0.4)",
          "width": 8
         },
         "mode": "lines",
         "showlegend": false,
         "type": "scatter3d",
         "x": [
          34.87832855642639,
          44.301854325862216
         ],
         "y": [
          -19.279441687731474,
          -9.383850675228944
         ],
         "z": [
          5.074135338013185,
          -12.326509564900187
         ]
        },
        {
         "hoverinfo": "text",
         "hovertext": "Length: 8.95e+01, Contributes -3.89e-12J",
         "line": {
          "color": "rgb(173, 216, 230, 0.4)",
          "width": 8
         },
         "mode": "lines",
         "showlegend": false,
         "type": "scatter3d",
         "x": [
          34.87832855642639,
          -31.684556807974634
         ],
         "y": [
          -19.279441687731474,
          37.946231546294484
         ],
         "z": [
          5.074135338013185,
          -12.503482126454415
         ]
        },
        {
         "hoverinfo": "text",
         "hovertext": "Length: 5.30e+01, Contributes -9.07e-11J",
         "line": {
          "color": "rgb(173, 216, 230, 0.4)",
          "width": 8
         },
         "mode": "lines",
         "showlegend": false,
         "type": "scatter3d",
         "x": [
          34.87832855642639,
          -3.026126601610173
         ],
         "y": [
          -19.279441687731474,
          -52.78161454872874
         ],
         "z": [
          5.074135338013185,
          -10.590838088051248
         ]
        },
        {
         "hoverinfo": "text",
         "hovertext": "Length: 5.57e+01, Contributes -6.67e-11J",
         "line": {
          "color": "rgb(173, 216, 230, 0.4)",
          "width": 8
         },
         "mode": "lines",
         "showlegend": false,
         "type": "scatter3d",
         "x": [
          34.87832855642639,
          42.33357265378528
         ],
         "y": [
          -19.279441687731474,
          34.469598861204375
         ],
         "z": [
          5.074135338013185,
          -7.6842190572775255
         ]
        },
        {
         "hoverinfo": "text",
         "hovertext": "Length: 9.27e+01, Contributes -3.14e-12J",
         "line": {
          "color": "rgb(173, 216, 230, 0.4)",
          "width": 8
         },
         "mode": "lines",
         "showlegend": false,
         "type": "scatter3d",
         "x": [
          34.87832855642639,
          -50.281894363098544
         ],
         "y": [
          -19.279441687731474,
          15.195410173301307
         ],
         "z": [
          5.074135338013185,
          -7.561575908402102
         ]
        },
        {
         "hoverinfo": "text",
         "hovertext": "Length: 4.77e+01, Contributes -1.69e-10J",
         "line": {
          "color": "rgb(173, 216, 230, 0.4)",
          "width": 8
         },
         "mode": "lines",
         "showlegend": false,
         "type": "scatter3d",
         "x": [
          34.87832855642639,
          0.1703309069161888
         ],
         "y": [
          -19.279441687731474,
          -43.73169340258058
         ],
         "z": [
          5.074135338013185,
          -16.768504614357497
         ]
        },
        {
         "hoverinfo": "text",
         "hovertext": "Length: 4.54e+01, Contributes -2.29e-10J",
         "line": {
          "color": "rgb(173, 216, 230, 0.4)",
          "width": 8
         },
         "mode": "lines",
         "showlegend": false,
         "type": "scatter3d",
         "x": [
          34.87832855642639,
          49.6414415866731
         ],
         "y": [
          -19.279441687731474,
          -1.116304089859976
         ],
         "z": [
          5.074135338013185,
          -33.80388320831996
         ]
        },
        {
         "hoverinfo": "text",
         "hovertext": "Length: 1.32e+02, Contributes -3.77e-13J",
         "line": {
          "color": "rgb(173, 216, 230, 0.4)",
          "width": 8
         },
         "mode": "lines",
         "showlegend": false,
         "type": "scatter3d",
         "x": [
          34.87832855642639,
          -62.57342423074659
         ],
         "y": [
          -19.279441687731474,
          63.17909048726257
         ],
         "z": [
          5.074135338013185,
          -28.644617573960343
         ]
        },
        {
         "hoverinfo": "text",
         "hovertext": "Length: 1.28e+02, Contributes -4.51e-13J",
         "line": {
          "color": "rgb(173, 216, 230, 0.4)",
          "width": 8
         },
         "mode": "lines",
         "showlegend": false,
         "type": "scatter3d",
         "x": [
          34.87832855642639,
          70.87130849026862
         ],
         "y": [
          -19.279441687731474,
          -142.2999843685264
         ],
         "z": [
          5.074135338013185,
          4.28184466416092
         ]
        },
        {
         "hoverinfo": "text",
         "hovertext": "Length: 8.39e+01, Contributes -5.74e-12J",
         "line": {
          "color": "rgb(173, 216, 230, 0.4)",
          "width": 8
         },
         "mode": "lines",
         "showlegend": false,
         "type": "scatter3d",
         "x": [
          34.87832855642639,
          -11.328864799097097
         ],
         "y": [
          -19.279441687731474,
          34.722340650845624
         ],
         "z": [
          5.074135338013185,
          -39.468828835257014
         ]
        },
        {
         "hoverinfo": "text",
         "hovertext": "Length: 6.36e+01, Contributes -3.02e-11J",
         "line": {
          "color": "rgb(173, 216, 230, 0.4)",
          "width": 8
         },
         "mode": "lines",
         "showlegend": false,
         "type": "scatter3d",
         "x": [
          34.87832855642639,
          16.548577363715196
         ],
         "y": [
          -19.279441687731474,
          -5.780648217739201
         ],
         "z": [
          5.074135338013185,
          -54.31435391571992
         ]
        },
        {
         "hoverinfo": "text",
         "hovertext": "Length: 1.51e+02, Contributes -1.67e-13J",
         "line": {
          "color": "rgb(173, 216, 230, 0.4)",
          "width": 8
         },
         "mode": "lines",
         "showlegend": false,
         "type": "scatter3d",
         "x": [
          34.87832855642639,
          -45.21634097189665
         ],
         "y": [
          -19.279441687731474,
          72.41917815142078
         ],
         "z": [
          5.074135338013185,
          -84.67734565159046
         ]
        },
        {
         "hoverinfo": "text",
         "hovertext": "Length: 7.50e+01, Contributes -1.12e-11J",
         "line": {
          "color": "rgb(173, 216, 230, 0.4)",
          "width": 8
         },
         "mode": "lines",
         "showlegend": false,
         "type": "scatter3d",
         "x": [
          -19.417687339830007,
          -1.4645607753420498
         ],
         "y": [
          33.85718643461044,
          -38.884923108358386
         ],
         "z": [
          1.1185451231485573,
          -3.0518725090023056
         ]
        },
        {
         "hoverinfo": "text",
         "hovertext": "Length: 4.21e+01, Contributes -3.60e-10J",
         "line": {
          "color": "rgb(173, 216, 230, 0.4)",
          "width": 8
         },
         "mode": "lines",
         "showlegend": false,
         "type": "scatter3d",
         "x": [
          -19.417687339830007,
          21.87443335532114
         ],
         "y": [
          33.85718643461044,
          33.41299118583273
         ],
         "z": [
          1.1185451231485573,
          -7.006768944564678
         ]
        },
        {
         "hoverinfo": "text",
         "hovertext": "Length: 5.56e+01, Contributes -6.80e-11J",
         "line": {
          "color": "rgb(173, 216, 230, 0.4)",
          "width": 8
         },
         "mode": "lines",
         "showlegend": false,
         "type": "scatter3d",
         "x": [
          -19.417687339830007,
          -39.12505184920254
         ],
         "y": [
          33.85718643461044,
          -16.825592019504082
         ],
         "z": [
          1.1185451231485573,
          -10.28694881577914
         ]
        },
        {
         "hoverinfo": "text",
         "hovertext": "Length: 7.82e+01, Contributes -8.76e-12J",
         "line": {
          "color": "rgb(173, 216, 230, 0.4)",
          "width": 8
         },
         "mode": "lines",
         "showlegend": false,
         "type": "scatter3d",
         "x": [
          -19.417687339830007,
          44.301854325862216
         ],
         "y": [
          33.85718643461044,
          -9.383850675228944
         ],
         "z": [
          1.1185451231485573,
          -12.326509564900187
         ]
        },
        {
         "hoverinfo": "text",
         "hovertext": "Length: 1.88e+01, Contributes -4.56e-08J",
         "line": {
          "color": "rgb(173, 216, 230, 0.4)",
          "width": 8
         },
         "mode": "lines",
         "showlegend": false,
         "type": "scatter3d",
         "x": [
          -19.417687339830007,
          -31.684556807974634
         ],
         "y": [
          33.85718643461044,
          37.946231546294484
         ],
         "z": [
          1.1185451231485573,
          -12.503482126454415
         ]
        },
        {
         "hoverinfo": "text",
         "hovertext": "Length: 8.89e+01, Contributes -4.04e-12J",
         "line": {
          "color": "rgb(173, 216, 230, 0.4)",
          "width": 8
         },
         "mode": "lines",
         "showlegend": false,
         "type": "scatter3d",
         "x": [
          -19.417687339830007,
          -3.026126601610173
         ],
         "y": [
          33.85718643461044,
          -52.78161454872874
         ],
         "z": [
          1.1185451231485573,
          -10.590838088051248
         ]
        },
        {
         "hoverinfo": "text",
         "hovertext": "Length: 6.24e+01, Contributes -3.39e-11J",
         "line": {
          "color": "rgb(173, 216, 230, 0.4)",
          "width": 8
         },
         "mode": "lines",
         "showlegend": false,
         "type": "scatter3d",
         "x": [
          -19.417687339830007,
          42.33357265378528
         ],
         "y": [
          33.85718643461044,
          34.469598861204375
         ],
         "z": [
          1.1185451231485573,
          -7.6842190572775255
         ]
        },
        {
         "hoverinfo": "text",
         "hovertext": "Length: 3.71e+01, Contributes -7.67e-10J",
         "line": {
          "color": "rgb(173, 216, 230, 0.4)",
          "width": 8
         },
         "mode": "lines",
         "showlegend": false,
         "type": "scatter3d",
         "x": [
          -19.417687339830007,
          -50.281894363098544
         ],
         "y": [
          33.85718643461044,
          15.195410173301307
         ],
         "z": [
          1.1185451231485573,
          -7.561575908402102
         ]
        },
        {
         "hoverinfo": "text",
         "hovertext": "Length: 8.20e+01, Contributes -6.58e-12J",
         "line": {
          "color": "rgb(173, 216, 230, 0.4)",
          "width": 8
         },
         "mode": "lines",
         "showlegend": false,
         "type": "scatter3d",
         "x": [
          -19.417687339830007,
          0.1703309069161888
         ],
         "y": [
          33.85718643461044,
          -43.73169340258058
         ],
         "z": [
          1.1185451231485573,
          -16.768504614357497
         ]
        },
        {
         "hoverinfo": "text",
         "hovertext": "Length: 8.49e+01, Contributes -5.33e-12J",
         "line": {
          "color": "rgb(173, 216, 230, 0.4)",
          "width": 8
         },
         "mode": "lines",
         "showlegend": false,
         "type": "scatter3d",
         "x": [
          -19.417687339830007,
          49.6414415866731
         ],
         "y": [
          33.85718643461044,
          -1.116304089859976
         ],
         "z": [
          1.1185451231485573,
          -33.80388320831996
         ]
        },
        {
         "hoverinfo": "text",
         "hovertext": "Length: 6.01e+01, Contributes -4.26e-11J",
         "line": {
          "color": "rgb(173, 216, 230, 0.4)",
          "width": 8
         },
         "mode": "lines",
         "showlegend": false,
         "type": "scatter3d",
         "x": [
          -19.417687339830007,
          -62.57342423074659
         ],
         "y": [
          33.85718643461044,
          63.17909048726257
         ],
         "z": [
          1.1185451231485573,
          -28.644617573960343
         ]
        },
        {
         "hoverinfo": "text",
         "hovertext": "Length: 1.98e+02, Contributes -3.32e-14J",
         "line": {
          "color": "rgb(173, 216, 230, 0.4)",
          "width": 8
         },
         "mode": "lines",
         "showlegend": false,
         "type": "scatter3d",
         "x": [
          -19.417687339830007,
          70.87130849026862
         ],
         "y": [
          33.85718643461044,
          -142.2999843685264
         ],
         "z": [
          1.1185451231485573,
          4.28184466416092
         ]
        },
        {
         "hoverinfo": "text",
         "hovertext": "Length: 4.14e+01, Contributes -3.98e-10J",
         "line": {
          "color": "rgb(173, 216, 230, 0.4)",
          "width": 8
         },
         "mode": "lines",
         "showlegend": false,
         "type": "scatter3d",
         "x": [
          -19.417687339830007,
          -11.328864799097097
         ],
         "y": [
          33.85718643461044,
          34.722340650845624
         ],
         "z": [
          1.1185451231485573,
          -39.468828835257014
         ]
        },
        {
         "hoverinfo": "text",
         "hovertext": "Length: 7.71e+01, Contributes -9.55e-12J",
         "line": {
          "color": "rgb(173, 216, 230, 0.4)",
          "width": 8
         },
         "mode": "lines",
         "showlegend": false,
         "type": "scatter3d",
         "x": [
          -19.417687339830007,
          16.548577363715196
         ],
         "y": [
          33.85718643461044,
          -5.780648217739201
         ],
         "z": [
          1.1185451231485573,
          -54.31435391571992
         ]
        },
        {
         "hoverinfo": "text",
         "hovertext": "Length: 9.75e+01, Contributes -2.32e-12J",
         "line": {
          "color": "rgb(173, 216, 230, 0.4)",
          "width": 8
         },
         "mode": "lines",
         "showlegend": false,
         "type": "scatter3d",
         "x": [
          -19.417687339830007,
          -45.21634097189665
         ],
         "y": [
          33.85718643461044,
          72.41917815142078
         ],
         "z": [
          1.1185451231485573,
          -84.67734565159046
         ]
        },
        {
         "hoverinfo": "text",
         "hovertext": "Length: 7.61e+01, Contributes -1.03e-11J",
         "line": {
          "color": "rgb(173, 216, 230, 0.4)",
          "width": 8
         },
         "mode": "lines",
         "showlegend": false,
         "type": "scatter3d",
         "x": [
          -1.4645607753420498,
          21.87443335532114
         ],
         "y": [
          -38.884923108358386,
          33.41299118583273
         ],
         "z": [
          -3.0518725090023056,
          -7.006768944564678
         ]
        },
        {
         "hoverinfo": "text",
         "hovertext": "Length: 4.42e+01, Contributes -2.67e-10J",
         "line": {
          "color": "rgb(173, 216, 230, 0.4)",
          "width": 8
         },
         "mode": "lines",
         "showlegend": false,
         "type": "scatter3d",
         "x": [
          -1.4645607753420498,
          -39.12505184920254
         ],
         "y": [
          -38.884923108358386,
          -16.825592019504082
         ],
         "z": [
          -3.0518725090023056,
          -10.28694881577914
         ]
        },
        {
         "hoverinfo": "text",
         "hovertext": "Length: 5.52e+01, Contributes -7.04e-11J",
         "line": {
          "color": "rgb(173, 216, 230, 0.4)",
          "width": 8
         },
         "mode": "lines",
         "showlegend": false,
         "type": "scatter3d",
         "x": [
          -1.4645607753420498,
          44.301854325862216
         ],
         "y": [
          -38.884923108358386,
          -9.383850675228944
         ],
         "z": [
          -3.0518725090023056,
          -12.326509564900187
         ]
        },
        {
         "hoverinfo": "text",
         "hovertext": "Length: 8.31e+01, Contributes -6.07e-12J",
         "line": {
          "color": "rgb(173, 216, 230, 0.4)",
          "width": 8
         },
         "mode": "lines",
         "showlegend": false,
         "type": "scatter3d",
         "x": [
          -1.4645607753420498,
          -31.684556807974634
         ],
         "y": [
          -38.884923108358386,
          37.946231546294484
         ],
         "z": [
          -3.0518725090023056,
          -12.503482126454415
         ]
        },
        {
         "hoverinfo": "text",
         "hovertext": "Length: 1.59e+01, Contributes -1.24e-07J",
         "line": {
          "color": "rgb(173, 216, 230, 0.4)",
          "width": 8
         },
         "mode": "lines",
         "showlegend": false,
         "type": "scatter3d",
         "x": [
          -1.4645607753420498,
          -3.026126601610173
         ],
         "y": [
          -38.884923108358386,
          -52.78161454872874
         ],
         "z": [
          -3.0518725090023056,
          -10.590838088051248
         ]
        },
        {
         "hoverinfo": "text",
         "hovertext": "Length: 8.56e+01, Contributes -5.10e-12J",
         "line": {
          "color": "rgb(173, 216, 230, 0.4)",
          "width": 8
         },
         "mode": "lines",
         "showlegend": false,
         "type": "scatter3d",
         "x": [
          -1.4645607753420498,
          42.33357265378528
         ],
         "y": [
          -38.884923108358386,
          34.469598861204375
         ],
         "z": [
          -3.0518725090023056,
          -7.6842190572775255
         ]
        },
        {
         "hoverinfo": "text",
         "hovertext": "Length: 7.30e+01, Contributes -1.32e-11J",
         "line": {
          "color": "rgb(173, 216, 230, 0.4)",
          "width": 8
         },
         "mode": "lines",
         "showlegend": false,
         "type": "scatter3d",
         "x": [
          -1.4645607753420498,
          -50.281894363098544
         ],
         "y": [
          -38.884923108358386,
          15.195410173301307
         ],
         "z": [
          -3.0518725090023056,
          -7.561575908402102
         ]
        },
        {
         "hoverinfo": "text",
         "hovertext": "Length: 1.46e+01, Contributes -2.03e-07J",
         "line": {
          "color": "rgb(173, 216, 230, 0.4)",
          "width": 8
         },
         "mode": "lines",
         "showlegend": false,
         "type": "scatter3d",
         "x": [
          -1.4645607753420498,
          0.1703309069161888
         ],
         "y": [
          -38.884923108358386,
          -43.73169340258058
         ],
         "z": [
          -3.0518725090023056,
          -16.768504614357497
         ]
        },
        {
         "hoverinfo": "text",
         "hovertext": "Length: 7.06e+01, Contributes -1.62e-11J",
         "line": {
          "color": "rgb(173, 216, 230, 0.4)",
          "width": 8
         },
         "mode": "lines",
         "showlegend": false,
         "type": "scatter3d",
         "x": [
          -1.4645607753420498,
          49.6414415866731
         ],
         "y": [
          -38.884923108358386,
          -1.116304089859976
         ],
         "z": [
          -3.0518725090023056,
          -33.80388320831996
         ]
        },
        {
         "hoverinfo": "text",
         "hovertext": "Length: 1.22e+02, Contributes -6.16e-13J",
         "line": {
          "color": "rgb(173, 216, 230, 0.4)",
          "width": 8
         },
         "mode": "lines",
         "showlegend": false,
         "type": "scatter3d",
         "x": [
          -1.4645607753420498,
          -62.57342423074659
         ],
         "y": [
          -38.884923108358386,
          63.17909048726257
         ],
         "z": [
          -3.0518725090023056,
          -28.644617573960343
         ]
        },
        {
         "hoverinfo": "text",
         "hovertext": "Length: 1.26e+02, Contributes -4.90e-13J",
         "line": {
          "color": "rgb(173, 216, 230, 0.4)",
          "width": 8
         },
         "mode": "lines",
         "showlegend": false,
         "type": "scatter3d",
         "x": [
          -1.4645607753420498,
          70.87130849026862
         ],
         "y": [
          -38.884923108358386,
          -142.2999843685264
         ],
         "z": [
          -3.0518725090023056,
          4.28184466416092
         ]
        },
        {
         "hoverinfo": "text",
         "hovertext": "Length: 8.27e+01, Contributes -6.25e-12J",
         "line": {
          "color": "rgb(173, 216, 230, 0.4)",
          "width": 8
         },
         "mode": "lines",
         "showlegend": false,
         "type": "scatter3d",
         "x": [
          -1.4645607753420498,
          -11.328864799097097
         ],
         "y": [
          -38.884923108358386,
          34.722340650845624
         ],
         "z": [
          -3.0518725090023056,
          -39.468828835257014
         ]
        },
        {
         "hoverinfo": "text",
         "hovertext": "Length: 6.36e+01, Contributes -3.01e-11J",
         "line": {
          "color": "rgb(173, 216, 230, 0.4)",
          "width": 8
         },
         "mode": "lines",
         "showlegend": false,
         "type": "scatter3d",
         "x": [
          -1.4645607753420498,
          16.548577363715196
         ],
         "y": [
          -38.884923108358386,
          -5.780648217739201
         ],
         "z": [
          -3.0518725090023056,
          -54.31435391571992
         ]
        },
        {
         "hoverinfo": "text",
         "hovertext": "Length: 1.45e+02, Contributes -2.17e-13J",
         "line": {
          "color": "rgb(173, 216, 230, 0.4)",
          "width": 8
         },
         "mode": "lines",
         "showlegend": false,
         "type": "scatter3d",
         "x": [
          -1.4645607753420498,
          -45.21634097189665
         ],
         "y": [
          -38.884923108358386,
          72.41917815142078
         ],
         "z": [
          -3.0518725090023056,
          -84.67734565159046
         ]
        },
        {
         "hoverinfo": "text",
         "hovertext": "Length: 7.91e+01, Contributes -8.17e-12J",
         "line": {
          "color": "rgb(173, 216, 230, 0.4)",
          "width": 8
         },
         "mode": "lines",
         "showlegend": false,
         "type": "scatter3d",
         "x": [
          21.87443335532114,
          -39.12505184920254
         ],
         "y": [
          33.41299118583273,
          -16.825592019504082
         ],
         "z": [
          -7.006768944564678,
          -10.28694881577914
         ]
        },
        {
         "hoverinfo": "text",
         "hovertext": "Length: 4.86e+01, Contributes -1.52e-10J",
         "line": {
          "color": "rgb(173, 216, 230, 0.4)",
          "width": 8
         },
         "mode": "lines",
         "showlegend": false,
         "type": "scatter3d",
         "x": [
          21.87443335532114,
          44.301854325862216
         ],
         "y": [
          33.41299118583273,
          -9.383850675228944
         ],
         "z": [
          -7.006768944564678,
          -12.326509564900187
         ]
        },
        {
         "hoverinfo": "text",
         "hovertext": "Length: 5.40e+01, Contributes -8.04e-11J",
         "line": {
          "color": "rgb(173, 216, 230, 0.4)",
          "width": 8
         },
         "mode": "lines",
         "showlegend": false,
         "type": "scatter3d",
         "x": [
          21.87443335532114,
          -31.684556807974634
         ],
         "y": [
          33.41299118583273,
          37.946231546294484
         ],
         "z": [
          -7.006768944564678,
          -12.503482126454415
         ]
        },
        {
         "hoverinfo": "text",
         "hovertext": "Length: 8.98e+01, Contributes -3.82e-12J",
         "line": {
          "color": "rgb(173, 216, 230, 0.4)",
          "width": 8
         },
         "mode": "lines",
         "showlegend": false,
         "type": "scatter3d",
         "x": [
          21.87443335532114,
          -3.026126601610173
         ],
         "y": [
          33.41299118583273,
          -52.78161454872874
         ],
         "z": [
          -7.006768944564678,
          -10.590838088051248
         ]
        },
        {
         "hoverinfo": "text",
         "hovertext": "Length: 2.05e+01, Contributes -2.70e-08J",
         "line": {
          "color": "rgb(173, 216, 230, 0.4)",
          "width": 8
         },
         "mode": "lines",
         "showlegend": false,
         "type": "scatter3d",
         "x": [
          21.87443335532114,
          42.33357265378528
         ],
         "y": [
          33.41299118583273,
          34.469598861204375
         ],
         "z": [
          -7.006768944564678,
          -7.6842190572775255
         ]
        },
        {
         "hoverinfo": "text",
         "hovertext": "Length: 7.44e+01, Contributes -1.18e-11J",
         "line": {
          "color": "rgb(173, 216, 230, 0.4)",
          "width": 8
         },
         "mode": "lines",
         "showlegend": false,
         "type": "scatter3d",
         "x": [
          21.87443335532114,
          -50.281894363098544
         ],
         "y": [
          33.41299118583273,
          15.195410173301307
         ],
         "z": [
          -7.006768944564678,
          -7.561575908402102
         ]
        },
        {
         "hoverinfo": "text",
         "hovertext": "Length: 8.07e+01, Contributes -7.22e-12J",
         "line": {
          "color": "rgb(173, 216, 230, 0.4)",
          "width": 8
         },
         "mode": "lines",
         "showlegend": false,
         "type": "scatter3d",
         "x": [
          21.87443335532114,
          0.1703309069161888
         ],
         "y": [
          33.41299118583273,
          -43.73169340258058
         ],
         "z": [
          -7.006768944564678,
          -16.768504614357497
         ]
        },
        {
         "hoverinfo": "text",
         "hovertext": "Length: 5.18e+01, Contributes -1.04e-10J",
         "line": {
          "color": "rgb(173, 216, 230, 0.4)",
          "width": 8
         },
         "mode": "lines",
         "showlegend": false,
         "type": "scatter3d",
         "x": [
          21.87443335532114,
          49.6414415866731
         ],
         "y": [
          33.41299118583273,
          -1.116304089859976
         ],
         "z": [
          -7.006768944564678,
          -33.80388320831996
         ]
        },
        {
         "hoverinfo": "text",
         "hovertext": "Length: 9.21e+01, Contributes -3.27e-12J",
         "line": {
          "color": "rgb(173, 216, 230, 0.4)",
          "width": 8
         },
         "mode": "lines",
         "showlegend": false,
         "type": "scatter3d",
         "x": [
          21.87443335532114,
          -62.57342423074659
         ],
         "y": [
          33.41299118583273,
          63.17909048726257
         ],
         "z": [
          -7.006768944564678,
          -28.644617573960343
         ]
        },
        {
         "hoverinfo": "text",
         "hovertext": "Length: 1.83e+02, Contributes -5.37e-14J",
         "line": {
          "color": "rgb(173, 216, 230, 0.4)",
          "width": 8
         },
         "mode": "lines",
         "showlegend": false,
         "type": "scatter3d",
         "x": [
          21.87443335532114,
          70.87130849026862
         ],
         "y": [
          33.41299118583273,
          -142.2999843685264
         ],
         "z": [
          -7.006768944564678,
          4.28184466416092
         ]
        },
        {
         "hoverinfo": "text",
         "hovertext": "Length: 4.65e+01, Contributes -1.99e-10J",
         "line": {
          "color": "rgb(173, 216, 230, 0.4)",
          "width": 8
         },
         "mode": "lines",
         "showlegend": false,
         "type": "scatter3d",
         "x": [
          21.87443335532114,
          -11.328864799097097
         ],
         "y": [
          33.41299118583273,
          34.722340650845624
         ],
         "z": [
          -7.006768944564678,
          -39.468828835257014
         ]
        },
        {
         "hoverinfo": "text",
         "hovertext": "Length: 6.17e+01, Contributes -3.64e-11J",
         "line": {
          "color": "rgb(173, 216, 230, 0.4)",
          "width": 8
         },
         "mode": "lines",
         "showlegend": false,
         "type": "scatter3d",
         "x": [
          21.87443335532114,
          16.548577363715196
         ],
         "y": [
          33.41299118583273,
          -5.780648217739201
         ],
         "z": [
          -7.006768944564678,
          -54.31435391571992
         ]
        },
        {
         "hoverinfo": "text",
         "hovertext": "Length: 1.10e+02, Contributes -1.14e-12J",
         "line": {
          "color": "rgb(173, 216, 230, 0.4)",
          "width": 8
         },
         "mode": "lines",
         "showlegend": false,
         "type": "scatter3d",
         "x": [
          21.87443335532114,
          -45.21634097189665
         ],
         "y": [
          33.41299118583273,
          72.41917815142078
         ],
         "z": [
          -7.006768944564678,
          -84.67734565159046
         ]
        },
        {
         "hoverinfo": "text",
         "hovertext": "Length: 8.38e+01, Contributes -5.78e-12J",
         "line": {
          "color": "rgb(173, 216, 230, 0.4)",
          "width": 8
         },
         "mode": "lines",
         "showlegend": false,
         "type": "scatter3d",
         "x": [
          -39.12505184920254,
          44.301854325862216
         ],
         "y": [
          -16.825592019504082,
          -9.383850675228944
         ],
         "z": [
          -10.28694881577914,
          -12.326509564900187
         ]
        },
        {
         "hoverinfo": "text",
         "hovertext": "Length: 5.53e+01, Contributes -6.98e-11J",
         "line": {
          "color": "rgb(173, 216, 230, 0.4)",
          "width": 8
         },
         "mode": "lines",
         "showlegend": false,
         "type": "scatter3d",
         "x": [
          -39.12505184920254,
          -31.684556807974634
         ],
         "y": [
          -16.825592019504082,
          37.946231546294484
         ],
         "z": [
          -10.28694881577914,
          -12.503482126454415
         ]
        },
        {
         "hoverinfo": "text",
         "hovertext": "Length: 5.10e+01, Contributes -1.14e-10J",
         "line": {
          "color": "rgb(173, 216, 230, 0.4)",
          "width": 8
         },
         "mode": "lines",
         "showlegend": false,
         "type": "scatter3d",
         "x": [
          -39.12505184920254,
          -3.026126601610173
         ],
         "y": [
          -16.825592019504082,
          -52.78161454872874
         ],
         "z": [
          -10.28694881577914,
          -10.590838088051248
         ]
        },
        {
         "hoverinfo": "text",
         "hovertext": "Length: 9.63e+01, Contributes -2.51e-12J",
         "line": {
          "color": "rgb(173, 216, 230, 0.4)",
          "width": 8
         },
         "mode": "lines",
         "showlegend": false,
         "type": "scatter3d",
         "x": [
          -39.12505184920254,
          42.33357265378528
         ],
         "y": [
          -16.825592019504082,
          34.469598861204375
         ],
         "z": [
          -10.28694881577914,
          -7.6842190572775255
         ]
        },
        {
         "hoverinfo": "text",
         "hovertext": "Length: 3.40e+01, Contributes -1.29e-09J",
         "line": {
          "color": "rgb(173, 216, 230, 0.4)",
          "width": 8
         },
         "mode": "lines",
         "showlegend": false,
         "type": "scatter3d",
         "x": [
          -39.12505184920254,
          -50.281894363098544
         ],
         "y": [
          -16.825592019504082,
          15.195410173301307
         ],
         "z": [
          -10.28694881577914,
          -7.561575908402102
         ]
        },
        {
         "hoverinfo": "text",
         "hovertext": "Length: 4.81e+01, Contributes -1.62e-10J",
         "line": {
          "color": "rgb(173, 216, 230, 0.4)",
          "width": 8
         },
         "mode": "lines",
         "showlegend": false,
         "type": "scatter3d",
         "x": [
          -39.12505184920254,
          0.1703309069161888
         ],
         "y": [
          -16.825592019504082,
          -43.73169340258058
         ],
         "z": [
          -10.28694881577914,
          -16.768504614357497
         ]
        },
        {
         "hoverinfo": "text",
         "hovertext": "Length: 9.32e+01, Contributes -3.06e-12J",
         "line": {
          "color": "rgb(173, 216, 230, 0.4)",
          "width": 8
         },
         "mode": "lines",
         "showlegend": false,
         "type": "scatter3d",
         "x": [
          -39.12505184920254,
          49.6414415866731
         ],
         "y": [
          -16.825592019504082,
          -1.116304089859976
         ],
         "z": [
          -10.28694881577914,
          -33.80388320831996
         ]
        },
        {
         "hoverinfo": "text",
         "hovertext": "Length: 8.54e+01, Contributes -5.17e-12J",
         "line": {
          "color": "rgb(173, 216, 230, 0.4)",
          "width": 8
         },
         "mode": "lines",
         "showlegend": false,
         "type": "scatter3d",
         "x": [
          -39.12505184920254,
          -62.57342423074659
         ],
         "y": [
          -16.825592019504082,
          63.17909048726257
         ],
         "z": [
          -10.28694881577914,
          -28.644617573960343
         ]
        },
        {
         "hoverinfo": "text",
         "hovertext": "Length: 1.67e+02, Contributes -9.06e-14J",
         "line": {
          "color": "rgb(173, 216, 230, 0.4)",
          "width": 8
         },
         "mode": "lines",
         "showlegend": false,
         "type": "scatter3d",
         "x": [
          -39.12505184920254,
          70.87130849026862
         ],
         "y": [
          -16.825592019504082,
          -142.2999843685264
         ],
         "z": [
          -10.28694881577914,
          4.28184466416092
         ]
        },
        {
         "hoverinfo": "text",
         "hovertext": "Length: 6.54e+01, Contributes -2.55e-11J",
         "line": {
          "color": "rgb(173, 216, 230, 0.4)",
          "width": 8
         },
         "mode": "lines",
         "showlegend": false,
         "type": "scatter3d",
         "x": [
          -39.12505184920254,
          -11.328864799097097
         ],
         "y": [
          -16.825592019504082,
          34.722340650845624
         ],
         "z": [
          -10.28694881577914,
          -39.468828835257014
         ]
        },
        {
         "hoverinfo": "text",
         "hovertext": "Length: 7.18e+01, Contributes -1.46e-11J",
         "line": {
          "color": "rgb(173, 216, 230, 0.4)",
          "width": 8
         },
         "mode": "lines",
         "showlegend": false,
         "type": "scatter3d",
         "x": [
          -39.12505184920254,
          16.548577363715196
         ],
         "y": [
          -16.825592019504082,
          -5.780648217739201
         ],
         "z": [
          -10.28694881577914,
          -54.31435391571992
         ]
        },
        {
         "hoverinfo": "text",
         "hovertext": "Length: 1.16e+02, Contributes -8.06e-13J",
         "line": {
          "color": "rgb(173, 216, 230, 0.4)",
          "width": 8
         },
         "mode": "lines",
         "showlegend": false,
         "type": "scatter3d",
         "x": [
          -39.12505184920254,
          -45.21634097189665
         ],
         "y": [
          -16.825592019504082,
          72.41917815142078
         ],
         "z": [
          -10.28694881577914,
          -84.67734565159046
         ]
        },
        {
         "hoverinfo": "text",
         "hovertext": "Length: 8.95e+01, Contributes -3.89e-12J",
         "line": {
          "color": "rgb(173, 216, 230, 0.4)",
          "width": 8
         },
         "mode": "lines",
         "showlegend": false,
         "type": "scatter3d",
         "x": [
          44.301854325862216,
          -31.684556807974634
         ],
         "y": [
          -9.383850675228944,
          37.946231546294484
         ],
         "z": [
          -12.326509564900187,
          -12.503482126454415
         ]
        },
        {
         "hoverinfo": "text",
         "hovertext": "Length: 6.42e+01, Contributes -2.85e-11J",
         "line": {
          "color": "rgb(173, 216, 230, 0.4)",
          "width": 8
         },
         "mode": "lines",
         "showlegend": false,
         "type": "scatter3d",
         "x": [
          44.301854325862216,
          -3.026126601610173
         ],
         "y": [
          -9.383850675228944,
          -52.78161454872874
         ],
         "z": [
          -12.326509564900187,
          -10.590838088051248
         ]
        },
        {
         "hoverinfo": "text",
         "hovertext": "Length: 4.41e+01, Contributes -2.70e-10J",
         "line": {
          "color": "rgb(173, 216, 230, 0.4)",
          "width": 8
         },
         "mode": "lines",
         "showlegend": false,
         "type": "scatter3d",
         "x": [
          44.301854325862216,
          42.33357265378528
         ],
         "y": [
          -9.383850675228944,
          34.469598861204375
         ],
         "z": [
          -12.326509564900187,
          -7.6842190572775255
         ]
        },
        {
         "hoverinfo": "text",
         "hovertext": "Length: 9.78e+01, Contributes -2.28e-12J",
         "line": {
          "color": "rgb(173, 216, 230, 0.4)",
          "width": 8
         },
         "mode": "lines",
         "showlegend": false,
         "type": "scatter3d",
         "x": [
          44.301854325862216,
          -50.281894363098544
         ],
         "y": [
          -9.383850675228944,
          15.195410173301307
         ],
         "z": [
          -12.326509564900187,
          -7.561575908402102
         ]
        },
        {
         "hoverinfo": "text",
         "hovertext": "Length: 5.61e+01, Contributes -6.42e-11J",
         "line": {
          "color": "rgb(173, 216, 230, 0.4)",
          "width": 8
         },
         "mode": "lines",
         "showlegend": false,
         "type": "scatter3d",
         "x": [
          44.301854325862216,
          0.1703309069161888
         ],
         "y": [
          -9.383850675228944,
          -43.73169340258058
         ],
         "z": [
          -12.326509564900187,
          -16.768504614357497
         ]
        },
        {
         "hoverinfo": "text",
         "hovertext": "Length: 2.36e+01, Contributes -1.15e-08J",
         "line": {
          "color": "rgb(173, 216, 230, 0.4)",
          "width": 8
         },
         "mode": "lines",
         "showlegend": false,
         "type": "scatter3d",
         "x": [
          44.301854325862216,
          49.6414415866731
         ],
         "y": [
          -9.383850675228944,
          -1.116304089859976
         ],
         "z": [
          -12.326509564900187,
          -33.80388320831996
         ]
        },
        {
         "hoverinfo": "text",
         "hovertext": "Length: 1.30e+02, Contributes -4.10e-13J",
         "line": {
          "color": "rgb(173, 216, 230, 0.4)",
          "width": 8
         },
         "mode": "lines",
         "showlegend": false,
         "type": "scatter3d",
         "x": [
          44.301854325862216,
          -62.57342423074659
         ],
         "y": [
          -9.383850675228944,
          63.17909048726257
         ],
         "z": [
          -12.326509564900187,
          -28.644617573960343
         ]
        },
        {
         "hoverinfo": "text",
         "hovertext": "Length: 1.37e+02, Contributes -3.08e-13J",
         "line": {
          "color": "rgb(173, 216, 230, 0.4)",
          "width": 8
         },
         "mode": "lines",
         "showlegend": false,
         "type": "scatter3d",
         "x": [
          44.301854325862216,
          70.87130849026862
         ],
         "y": [
          -9.383850675228944,
          -142.2999843685264
         ],
         "z": [
          -12.326509564900187,
          4.28184466416092
         ]
        },
        {
         "hoverinfo": "text",
         "hovertext": "Length: 7.60e+01, Contributes -1.04e-11J",
         "line": {
          "color": "rgb(173, 216, 230, 0.4)",
          "width": 8
         },
         "mode": "lines",
         "showlegend": false,
         "type": "scatter3d",
         "x": [
          44.301854325862216,
          -11.328864799097097
         ],
         "y": [
          -9.383850675228944,
          34.722340650845624
         ],
         "z": [
          -12.326509564900187,
          -39.468828835257014
         ]
        },
        {
         "hoverinfo": "text",
         "hovertext": "Length: 5.05e+01, Contributes -1.21e-10J",
         "line": {
          "color": "rgb(173, 216, 230, 0.4)",
          "width": 8
         },
         "mode": "lines",
         "showlegend": false,
         "type": "scatter3d",
         "x": [
          44.301854325862216,
          16.548577363715196
         ],
         "y": [
          -9.383850675228944,
          -5.780648217739201
         ],
         "z": [
          -12.326509564900187,
          -54.31435391571992
         ]
        },
        {
         "hoverinfo": "text",
         "hovertext": "Length: 1.41e+02, Contributes -2.52e-13J",
         "line": {
          "color": "rgb(173, 216, 230, 0.4)",
          "width": 8
         },
         "mode": "lines",
         "showlegend": false,
         "type": "scatter3d",
         "x": [
          44.301854325862216,
          -45.21634097189665
         ],
         "y": [
          -9.383850675228944,
          72.41917815142078
         ],
         "z": [
          -12.326509564900187,
          -84.67734565159046
         ]
        },
        {
         "hoverinfo": "text",
         "hovertext": "Length: 9.52e+01, Contributes -2.69e-12J",
         "line": {
          "color": "rgb(173, 216, 230, 0.4)",
          "width": 8
         },
         "mode": "lines",
         "showlegend": false,
         "type": "scatter3d",
         "x": [
          -31.684556807974634,
          -3.026126601610173
         ],
         "y": [
          37.946231546294484,
          -52.78161454872874
         ],
         "z": [
          -12.503482126454415,
          -10.590838088051248
         ]
        },
        {
         "hoverinfo": "text",
         "hovertext": "Length: 7.43e+01, Contributes -1.19e-11J",
         "line": {
          "color": "rgb(173, 216, 230, 0.4)",
          "width": 8
         },
         "mode": "lines",
         "showlegend": false,
         "type": "scatter3d",
         "x": [
          -31.684556807974634,
          42.33357265378528
         ],
         "y": [
          37.946231546294484,
          34.469598861204375
         ],
         "z": [
          -12.503482126454415,
          -7.6842190572775255
         ]
        },
        {
         "hoverinfo": "text",
         "hovertext": "Length: 2.98e+01, Contributes -2.86e-09J",
         "line": {
          "color": "rgb(173, 216, 230, 0.4)",
          "width": 8
         },
         "mode": "lines",
         "showlegend": false,
         "type": "scatter3d",
         "x": [
          -31.684556807974634,
          -50.281894363098544
         ],
         "y": [
          37.946231546294484,
          15.195410173301307
         ],
         "z": [
          -12.503482126454415,
          -7.561575908402102
         ]
        },
        {
         "hoverinfo": "text",
         "hovertext": "Length: 8.78e+01, Contributes -4.37e-12J",
         "line": {
          "color": "rgb(173, 216, 230, 0.4)",
          "width": 8
         },
         "mode": "lines",
         "showlegend": false,
         "type": "scatter3d",
         "x": [
          -31.684556807974634,
          0.1703309069161888
         ],
         "y": [
          37.946231546294484,
          -43.73169340258058
         ],
         "z": [
          -12.503482126454415,
          -16.768504614357497
         ]
        },
        {
         "hoverinfo": "text",
         "hovertext": "Length: 9.27e+01, Contributes -3.15e-12J",
         "line": {
          "color": "rgb(173, 216, 230, 0.4)",
          "width": 8
         },
         "mode": "lines",
         "showlegend": false,
         "type": "scatter3d",
         "x": [
          -31.684556807974634,
          49.6414415866731
         ],
         "y": [
          37.946231546294484,
          -1.116304089859976
         ],
         "z": [
          -12.503482126454415,
          -33.80388320831996
         ]
        },
        {
         "hoverinfo": "text",
         "hovertext": "Length: 4.30e+01, Contributes -3.15e-10J",
         "line": {
          "color": "rgb(173, 216, 230, 0.4)",
          "width": 8
         },
         "mode": "lines",
         "showlegend": false,
         "type": "scatter3d",
         "x": [
          -31.684556807974634,
          -62.57342423074659
         ],
         "y": [
          37.946231546294484,
          63.17909048726257
         ],
         "z": [
          -12.503482126454415,
          -28.644617573960343
         ]
        },
        {
         "hoverinfo": "text",
         "hovertext": "Length: 2.08e+02, Contributes -2.47e-14J",
         "line": {
          "color": "rgb(173, 216, 230, 0.4)",
          "width": 8
         },
         "mode": "lines",
         "showlegend": false,
         "type": "scatter3d",
         "x": [
          -31.684556807974634,
          70.87130849026862
         ],
         "y": [
          37.946231546294484,
          -142.2999843685264
         ],
         "z": [
          -12.503482126454415,
          4.28184466416092
         ]
        },
        {
         "hoverinfo": "text",
         "hovertext": "Length: 3.39e+01, Contributes -1.31e-09J",
         "line": {
          "color": "rgb(173, 216, 230, 0.4)",
          "width": 8
         },
         "mode": "lines",
         "showlegend": false,
         "type": "scatter3d",
         "x": [
          -31.684556807974634,
          -11.328864799097097
         ],
         "y": [
          37.946231546294484,
          34.722340650845624
         ],
         "z": [
          -12.503482126454415,
          -39.468828835257014
         ]
        },
        {
         "hoverinfo": "text",
         "hovertext": "Length: 7.74e+01, Contributes -9.32e-12J",
         "line": {
          "color": "rgb(173, 216, 230, 0.4)",
          "width": 8
         },
         "mode": "lines",
         "showlegend": false,
         "type": "scatter3d",
         "x": [
          -31.684556807974634,
          16.548577363715196
         ],
         "y": [
          37.946231546294484,
          -5.780648217739201
         ],
         "z": [
          -12.503482126454415,
          -54.31435391571992
         ]
        },
        {
         "hoverinfo": "text",
         "hovertext": "Length: 8.11e+01, Contributes -7.02e-12J",
         "line": {
          "color": "rgb(173, 216, 230, 0.4)",
          "width": 8
         },
         "mode": "lines",
         "showlegend": false,
         "type": "scatter3d",
         "x": [
          -31.684556807974634,
          -45.21634097189665
         ],
         "y": [
          37.946231546294484,
          72.41917815142078
         ],
         "z": [
          -12.503482126454415,
          -84.67734565159046
         ]
        },
        {
         "hoverinfo": "text",
         "hovertext": "Length: 9.84e+01, Contributes -2.21e-12J",
         "line": {
          "color": "rgb(173, 216, 230, 0.4)",
          "width": 8
         },
         "mode": "lines",
         "showlegend": false,
         "type": "scatter3d",
         "x": [
          -3.026126601610173,
          42.33357265378528
         ],
         "y": [
          -52.78161454872874,
          34.469598861204375
         ],
         "z": [
          -10.590838088051248,
          -7.6842190572775255
         ]
        },
        {
         "hoverinfo": "text",
         "hovertext": "Length: 8.28e+01, Contributes -6.19e-12J",
         "line": {
          "color": "rgb(173, 216, 230, 0.4)",
          "width": 8
         },
         "mode": "lines",
         "showlegend": false,
         "type": "scatter3d",
         "x": [
          -3.026126601610173,
          -50.281894363098544
         ],
         "y": [
          -52.78161454872874,
          15.195410173301307
         ],
         "z": [
          -10.590838088051248,
          -7.561575908402102
         ]
        },
        {
         "hoverinfo": "text",
         "hovertext": "Length: 1.14e+01, Contributes -9.04e-07J",
         "line": {
          "color": "rgb(173, 216, 230, 0.4)",
          "width": 8
         },
         "mode": "lines",
         "showlegend": false,
         "type": "scatter3d",
         "x": [
          -3.026126601610173,
          0.1703309069161888
         ],
         "y": [
          -52.78161454872874,
          -43.73169340258058
         ],
         "z": [
          -10.590838088051248,
          -16.768504614357497
         ]
        },
        {
         "hoverinfo": "text",
         "hovertext": "Length: 7.73e+01, Contributes -9.34e-12J",
         "line": {
          "color": "rgb(173, 216, 230, 0.4)",
          "width": 8
         },
         "mode": "lines",
         "showlegend": false,
         "type": "scatter3d",
         "x": [
          -3.026126601610173,
          49.6414415866731
         ],
         "y": [
          -52.78161454872874,
          -1.116304089859976
         ],
         "z": [
          -10.590838088051248,
          -33.80388320831996
         ]
        },
        {
         "hoverinfo": "text",
         "hovertext": "Length: 1.32e+02, Contributes -3.85e-13J",
         "line": {
          "color": "rgb(173, 216, 230, 0.4)",
          "width": 8
         },
         "mode": "lines",
         "showlegend": false,
         "type": "scatter3d",
         "x": [
          -3.026126601610173,
          -62.57342423074659
         ],
         "y": [
          -52.78161454872874,
          63.17909048726257
         ],
         "z": [
          -10.590838088051248,
          -28.644617573960343
         ]
        },
        {
         "hoverinfo": "text",
         "hovertext": "Length: 1.17e+02, Contributes -7.79e-13J",
         "line": {
          "color": "rgb(173, 216, 230, 0.4)",
          "width": 8
         },
         "mode": "lines",
         "showlegend": false,
         "type": "scatter3d",
         "x": [
          -3.026126601610173,
          70.87130849026862
         ],
         "y": [
          -52.78161454872874,
          -142.2999843685264
         ],
         "z": [
          -10.590838088051248,
          4.28184466416092
         ]
        },
        {
         "hoverinfo": "text",
         "hovertext": "Length: 9.25e+01, Contributes -3.19e-12J",
         "line": {
          "color": "rgb(173, 216, 230, 0.4)",
          "width": 8
         },
         "mode": "lines",
         "showlegend": false,
         "type": "scatter3d",
         "x": [
          -3.026126601610173,
          -11.328864799097097
         ],
         "y": [
          -52.78161454872874,
          34.722340650845624
         ],
         "z": [
          -10.590838088051248,
          -39.468828835257014
         ]
        },
        {
         "hoverinfo": "text",
         "hovertext": "Length: 6.71e+01, Contributes -2.19e-11J",
         "line": {
          "color": "rgb(173, 216, 230, 0.4)",
          "width": 8
         },
         "mode": "lines",
         "showlegend": false,
         "type": "scatter3d",
         "x": [
          -3.026126601610173,
          16.548577363715196
         ],
         "y": [
          -52.78161454872874,
          -5.780648217739201
         ],
         "z": [
          -10.590838088051248,
          -54.31435391571992
         ]
        },
        {
         "hoverinfo": "text",
         "hovertext": "Length: 1.51e+02, Contributes -1.66e-13J",
         "line": {
          "color": "rgb(173, 216, 230, 0.4)",
          "width": 8
         },
         "mode": "lines",
         "showlegend": false,
         "type": "scatter3d",
         "x": [
          -3.026126601610173,
          -45.21634097189665
         ],
         "y": [
          -52.78161454872874,
          72.41917815142078
         ],
         "z": [
          -10.590838088051248,
          -84.67734565159046
         ]
        },
        {
         "hoverinfo": "text",
         "hovertext": "Length: 9.46e+01, Contributes -2.79e-12J",
         "line": {
          "color": "rgb(173, 216, 230, 0.4)",
          "width": 8
         },
         "mode": "lines",
         "showlegend": false,
         "type": "scatter3d",
         "x": [
          42.33357265378528,
          -50.281894363098544
         ],
         "y": [
          34.469598861204375,
          15.195410173301307
         ],
         "z": [
          -7.6842190572775255,
          -7.561575908402102
         ]
        },
        {
         "hoverinfo": "text",
         "hovertext": "Length: 8.93e+01, Contributes -3.94e-12J",
         "line": {
          "color": "rgb(173, 216, 230, 0.4)",
          "width": 8
         },
         "mode": "lines",
         "showlegend": false,
         "type": "scatter3d",
         "x": [
          42.33357265378528,
          0.1703309069161888
         ],
         "y": [
          34.469598861204375,
          -43.73169340258058
         ],
         "z": [
          -7.6842190572775255,
          -16.768504614357497
         ]
        },
        {
         "hoverinfo": "text",
         "hovertext": "Length: 4.47e+01, Contributes -2.49e-10J",
         "line": {
          "color": "rgb(173, 216, 230, 0.4)",
          "width": 8
         },
         "mode": "lines",
         "showlegend": false,
         "type": "scatter3d",
         "x": [
          42.33357265378528,
          49.6414415866731
         ],
         "y": [
          34.469598861204375,
          -1.116304089859976
         ],
         "z": [
          -7.6842190572775255,
          -33.80388320831996
         ]
        },
        {
         "hoverinfo": "text",
         "hovertext": "Length: 1.11e+02, Contributes -1.08e-12J",
         "line": {
          "color": "rgb(173, 216, 230, 0.4)",
          "width": 8
         },
         "mode": "lines",
         "showlegend": false,
         "type": "scatter3d",
         "x": [
          42.33357265378528,
          -62.57342423074659
         ],
         "y": [
          34.469598861204375,
          63.17909048726257
         ],
         "z": [
          -7.6842190572775255,
          -28.644617573960343
         ]
        },
        {
         "hoverinfo": "text",
         "hovertext": "Length: 1.79e+02, Contributes -5.99e-14J",
         "line": {
          "color": "rgb(173, 216, 230, 0.4)",
          "width": 8
         },
         "mode": "lines",
         "showlegend": false,
         "type": "scatter3d",
         "x": [
          42.33357265378528,
          70.87130849026862
         ],
         "y": [
          34.469598861204375,
          -142.2999843685264
         ],
         "z": [
          -7.6842190572775255,
          4.28184466416092
         ]
        },
        {
         "hoverinfo": "text",
         "hovertext": "Length: 6.24e+01, Contributes -3.40e-11J",
         "line": {
          "color": "rgb(173, 216, 230, 0.4)",
          "width": 8
         },
         "mode": "lines",
         "showlegend": false,
         "type": "scatter3d",
         "x": [
          42.33357265378528,
          -11.328864799097097
         ],
         "y": [
          34.469598861204375,
          34.722340650845624
         ],
         "z": [
          -7.6842190572775255,
          -39.468828835257014
         ]
        },
        {
         "hoverinfo": "text",
         "hovertext": "Length: 6.68e+01, Contributes -2.26e-11J",
         "line": {
          "color": "rgb(173, 216, 230, 0.4)",
          "width": 8
         },
         "mode": "lines",
         "showlegend": false,
         "type": "scatter3d",
         "x": [
          42.33357265378528,
          16.548577363715196
         ],
         "y": [
          34.469598861204375,
          -5.780648217739201
         ],
         "z": [
          -7.6842190572775255,
          -54.31435391571992
         ]
        },
        {
         "hoverinfo": "text",
         "hovertext": "Length: 1.23e+02, Contributes -5.89e-13J",
         "line": {
          "color": "rgb(173, 216, 230, 0.4)",
          "width": 8
         },
         "mode": "lines",
         "showlegend": false,
         "type": "scatter3d",
         "x": [
          42.33357265378528,
          -45.21634097189665
         ],
         "y": [
          34.469598861204375,
          72.41917815142078
         ],
         "z": [
          -7.6842190572775255,
          -84.67734565159046
         ]
        },
        {
         "hoverinfo": "text",
         "hovertext": "Length: 7.81e+01, Contributes -8.80e-12J",
         "line": {
          "color": "rgb(173, 216, 230, 0.4)",
          "width": 8
         },
         "mode": "lines",
         "showlegend": false,
         "type": "scatter3d",
         "x": [
          -50.281894363098544,
          0.1703309069161888
         ],
         "y": [
          15.195410173301307,
          -43.73169340258058
         ],
         "z": [
          -7.561575908402102,
          -16.768504614357497
         ]
        },
        {
         "hoverinfo": "text",
         "hovertext": "Length: 1.05e+02, Contributes -1.53e-12J",
         "line": {
          "color": "rgb(173, 216, 230, 0.4)",
          "width": 8
         },
         "mode": "lines",
         "showlegend": false,
         "type": "scatter3d",
         "x": [
          -50.281894363098544,
          49.6414415866731
         ],
         "y": [
          15.195410173301307,
          -1.116304089859976
         ],
         "z": [
          -7.561575908402102,
          -33.80388320831996
         ]
        },
        {
         "hoverinfo": "text",
         "hovertext": "Length: 5.38e+01, Contributes -8.22e-11J",
         "line": {
          "color": "rgb(173, 216, 230, 0.4)",
          "width": 8
         },
         "mode": "lines",
         "showlegend": false,
         "type": "scatter3d",
         "x": [
          -50.281894363098544,
          -62.57342423074659
         ],
         "y": [
          15.195410173301307,
          63.17909048726257
         ],
         "z": [
          -7.561575908402102,
          -28.644617573960343
         ]
        },
        {
         "hoverinfo": "text",
         "hovertext": "Length: 1.99e+02, Contributes -3.22e-14J",
         "line": {
          "color": "rgb(173, 216, 230, 0.4)",
          "width": 8
         },
         "mode": "lines",
         "showlegend": false,
         "type": "scatter3d",
         "x": [
          -50.281894363098544,
          70.87130849026862
         ],
         "y": [
          15.195410173301307,
          -142.2999843685264
         ],
         "z": [
          -7.561575908402102,
          4.28184466416092
         ]
        },
        {
         "hoverinfo": "text",
         "hovertext": "Length: 5.40e+01, Contributes -8.06e-11J",
         "line": {
          "color": "rgb(173, 216, 230, 0.4)",
          "width": 8
         },
         "mode": "lines",
         "showlegend": false,
         "type": "scatter3d",
         "x": [
          -50.281894363098544,
          -11.328864799097097
         ],
         "y": [
          15.195410173301307,
          34.722340650845624
         ],
         "z": [
          -7.561575908402102,
          -39.468828835257014
         ]
        },
        {
         "hoverinfo": "text",
         "hovertext": "Length: 8.42e+01, Contributes -5.61e-12J",
         "line": {
          "color": "rgb(173, 216, 230, 0.4)",
          "width": 8
         },
         "mode": "lines",
         "showlegend": false,
         "type": "scatter3d",
         "x": [
          -50.281894363098544,
          16.548577363715196
         ],
         "y": [
          15.195410173301307,
          -5.780648217739201
         ],
         "z": [
          -7.561575908402102,
          -54.31435391571992
         ]
        },
        {
         "hoverinfo": "text",
         "hovertext": "Length: 9.62e+01, Contributes -2.53e-12J",
         "line": {
          "color": "rgb(173, 216, 230, 0.4)",
          "width": 8
         },
         "mode": "lines",
         "showlegend": false,
         "type": "scatter3d",
         "x": [
          -50.281894363098544,
          -45.21634097189665
         ],
         "y": [
          15.195410173301307,
          72.41917815142078
         ],
         "z": [
          -7.561575908402102,
          -84.67734565159046
         ]
        },
        {
         "hoverinfo": "text",
         "hovertext": "Length: 6.75e+01, Contributes -2.12e-11J",
         "line": {
          "color": "rgb(173, 216, 230, 0.4)",
          "width": 8
         },
         "mode": "lines",
         "showlegend": false,
         "type": "scatter3d",
         "x": [
          0.1703309069161888,
          49.6414415866731
         ],
         "y": [
          -43.73169340258058,
          -1.116304089859976
         ],
         "z": [
          -16.768504614357497,
          -33.80388320831996
         ]
        },
        {
         "hoverinfo": "text",
         "hovertext": "Length: 1.25e+02, Contributes -5.36e-13J",
         "line": {
          "color": "rgb(173, 216, 230, 0.4)",
          "width": 8
         },
         "mode": "lines",
         "showlegend": false,
         "type": "scatter3d",
         "x": [
          0.1703309069161888,
          -62.57342423074659
         ],
         "y": [
          -43.73169340258058,
          63.17909048726257
         ],
         "z": [
          -16.768504614357497,
          -28.644617573960343
         ]
        },
        {
         "hoverinfo": "text",
         "hovertext": "Length: 1.23e+02, Contributes -5.74e-13J",
         "line": {
          "color": "rgb(173, 216, 230, 0.4)",
          "width": 8
         },
         "mode": "lines",
         "showlegend": false,
         "type": "scatter3d",
         "x": [
          0.1703309069161888,
          70.87130849026862
         ],
         "y": [
          -43.73169340258058,
          -142.2999843685264
         ],
         "z": [
          -16.768504614357497,
          4.28184466416092
         ]
        },
        {
         "hoverinfo": "text",
         "hovertext": "Length: 8.25e+01, Contributes -6.35e-12J",
         "line": {
          "color": "rgb(173, 216, 230, 0.4)",
          "width": 8
         },
         "mode": "lines",
         "showlegend": false,
         "type": "scatter3d",
         "x": [
          0.1703309069161888,
          -11.328864799097097
         ],
         "y": [
          -43.73169340258058,
          34.722340650845624
         ],
         "z": [
          -16.768504614357497,
          -39.468828835257014
         ]
        },
        {
         "hoverinfo": "text",
         "hovertext": "Length: 5.58e+01, Contributes -6.60e-11J",
         "line": {
          "color": "rgb(173, 216, 230, 0.4)",
          "width": 8
         },
         "mode": "lines",
         "showlegend": false,
         "type": "scatter3d",
         "x": [
          0.1703309069161888,
          16.548577363715196
         ],
         "y": [
          -43.73169340258058,
          -5.780648217739201
         ],
         "z": [
          -16.768504614357497,
          -54.31435391571992
         ]
        },
        {
         "hoverinfo": "text",
         "hovertext": "Length: 1.42e+02, Contributes -2.44e-13J",
         "line": {
          "color": "rgb(173, 216, 230, 0.4)",
          "width": 8
         },
         "mode": "lines",
         "showlegend": false,
         "type": "scatter3d",
         "x": [
          0.1703309069161888,
          -45.21634097189665
         ],
         "y": [
          -43.73169340258058,
          72.41917815142078
         ],
         "z": [
          -16.768504614357497,
          -84.67734565159046
         ]
        },
        {
         "hoverinfo": "text",
         "hovertext": "Length: 1.29e+02, Contributes -4.25e-13J",
         "line": {
          "color": "rgb(173, 216, 230, 0.4)",
          "width": 8
         },
         "mode": "lines",
         "showlegend": false,
         "type": "scatter3d",
         "x": [
          49.6414415866731,
          -62.57342423074659
         ],
         "y": [
          -1.116304089859976,
          63.17909048726257
         ],
         "z": [
          -33.80388320831996,
          -28.644617573960343
         ]
        },
        {
         "hoverinfo": "text",
         "hovertext": "Length: 1.48e+02, Contributes -1.92e-13J",
         "line": {
          "color": "rgb(173, 216, 230, 0.4)",
          "width": 8
         },
         "mode": "lines",
         "showlegend": false,
         "type": "scatter3d",
         "x": [
          49.6414415866731,
          70.87130849026862
         ],
         "y": [
          -1.116304089859976,
          -142.2999843685264
         ],
         "z": [
          -33.80388320831996,
          4.28184466416092
         ]
        },
        {
         "hoverinfo": "text",
         "hovertext": "Length: 7.09e+01, Contributes -1.57e-11J",
         "line": {
          "color": "rgb(173, 216, 230, 0.4)",
          "width": 8
         },
         "mode": "lines",
         "showlegend": false,
         "type": "scatter3d",
         "x": [
          49.6414415866731,
          -11.328864799097097
         ],
         "y": [
          -1.116304089859976,
          34.722340650845624
         ],
         "z": [
          -33.80388320831996,
          -39.468828835257014
         ]
        },
        {
         "hoverinfo": "text",
         "hovertext": "Length: 3.92e+01, Contributes -5.50e-10J",
         "line": {
          "color": "rgb(173, 216, 230, 0.4)",
          "width": 8
         },
         "mode": "lines",
         "showlegend": false,
         "type": "scatter3d",
         "x": [
          49.6414415866731,
          16.548577363715196
         ],
         "y": [
          -1.116304089859976,
          -5.780648217739201
         ],
         "z": [
          -33.80388320831996,
          -54.31435391571992
         ]
        },
        {
         "hoverinfo": "text",
         "hovertext": "Length: 1.30e+02, Contributes -4.08e-13J",
         "line": {
          "color": "rgb(173, 216, 230, 0.4)",
          "width": 8
         },
         "mode": "lines",
         "showlegend": false,
         "type": "scatter3d",
         "x": [
          49.6414415866731,
          -45.21634097189665
         ],
         "y": [
          -1.116304089859976,
          72.41917815142078
         ],
         "z": [
          -33.80388320831996,
          -84.67734565159046
         ]
        },
        {
         "hoverinfo": "text",
         "hovertext": "Length: 2.47e+02, Contributes -8.76e-15J",
         "line": {
          "color": "rgb(173, 216, 230, 0.4)",
          "width": 8
         },
         "mode": "lines",
         "showlegend": false,
         "type": "scatter3d",
         "x": [
          -62.57342423074659,
          70.87130849026862
         ],
         "y": [
          63.17909048726257,
          -142.2999843685264
         ],
         "z": [
          -28.644617573960343,
          4.28184466416092
         ]
        },
        {
         "hoverinfo": "text",
         "hovertext": "Length: 5.96e+01, Contributes -4.46e-11J",
         "line": {
          "color": "rgb(173, 216, 230, 0.4)",
          "width": 8
         },
         "mode": "lines",
         "showlegend": false,
         "type": "scatter3d",
         "x": [
          -62.57342423074659,
          -11.328864799097097
         ],
         "y": [
          63.17909048726257,
          34.722340650845624
         ],
         "z": [
          -28.644617573960343,
          -39.468828835257014
         ]
        },
        {
         "hoverinfo": "text",
         "hovertext": "Length: 1.08e+02, Contributes -1.26e-12J",
         "line": {
          "color": "rgb(173, 216, 230, 0.4)",
          "width": 8
         },
         "mode": "lines",
         "showlegend": false,
         "type": "scatter3d",
         "x": [
          -62.57342423074659,
          16.548577363715196
         ],
         "y": [
          63.17909048726257,
          -5.780648217739201
         ],
         "z": [
          -28.644617573960343,
          -54.31435391571992
         ]
        },
        {
         "hoverinfo": "text",
         "hovertext": "Length: 5.94e+01, Contributes -4.56e-11J",
         "line": {
          "color": "rgb(173, 216, 230, 0.4)",
          "width": 8
         },
         "mode": "lines",
         "showlegend": false,
         "type": "scatter3d",
         "x": [
          -62.57342423074659,
          -45.21634097189665
         ],
         "y": [
          63.17909048726257,
          72.41917815142078
         ],
         "z": [
          -28.644617573960343,
          -84.67734565159046
         ]
        },
        {
         "hoverinfo": "text",
         "hovertext": "Length: 2.00e+02, Contributes -3.12e-14J",
         "line": {
          "color": "rgb(173, 216, 230, 0.4)",
          "width": 8
         },
         "mode": "lines",
         "showlegend": false,
         "type": "scatter3d",
         "x": [
          70.87130849026862,
          -11.328864799097097
         ],
         "y": [
          -142.2999843685264,
          34.722340650845624
         ],
         "z": [
          4.28184466416092,
          -39.468828835257014
         ]
        },
        {
         "hoverinfo": "text",
         "hovertext": "Length: 1.58e+02, Contributes -1.28e-13J",
         "line": {
          "color": "rgb(173, 216, 230, 0.4)",
          "width": 8
         },
         "mode": "lines",
         "showlegend": false,
         "type": "scatter3d",
         "x": [
          70.87130849026862,
          16.548577363715196
         ],
         "y": [
          -142.2999843685264,
          -5.780648217739201
         ],
         "z": [
          4.28184466416092,
          -54.31435391571992
         ]
        },
        {
         "hoverinfo": "text",
         "hovertext": "Length: 2.60e+02, Contributes -6.50e-15J",
         "line": {
          "color": "rgb(173, 216, 230, 0.4)",
          "width": 8
         },
         "mode": "lines",
         "showlegend": false,
         "type": "scatter3d",
         "x": [
          70.87130849026862,
          -45.21634097189665
         ],
         "y": [
          -142.2999843685264,
          72.41917815142078
         ],
         "z": [
          4.28184466416092,
          -84.67734565159046
         ]
        },
        {
         "hoverinfo": "text",
         "hovertext": "Length: 5.14e+01, Contributes -1.09e-10J",
         "line": {
          "color": "rgb(173, 216, 230, 0.4)",
          "width": 8
         },
         "mode": "lines",
         "showlegend": false,
         "type": "scatter3d",
         "x": [
          -11.328864799097097,
          16.548577363715196
         ],
         "y": [
          34.722340650845624,
          -5.780648217739201
         ],
         "z": [
          -39.468828835257014,
          -54.31435391571992
         ]
        },
        {
         "hoverinfo": "text",
         "hovertext": "Length: 6.79e+01, Contributes -2.04e-11J",
         "line": {
          "color": "rgb(173, 216, 230, 0.4)",
          "width": 8
         },
         "mode": "lines",
         "showlegend": false,
         "type": "scatter3d",
         "x": [
          -11.328864799097097,
          -45.21634097189665
         ],
         "y": [
          34.722340650845624,
          72.41917815142078
         ],
         "z": [
          -39.468828835257014,
          -84.67734565159046
         ]
        },
        {
         "hoverinfo": "text",
         "hovertext": "Length: 1.04e+02, Contributes -1.56e-12J",
         "line": {
          "color": "rgb(173, 216, 230, 0.4)",
          "width": 8
         },
         "mode": "lines",
         "showlegend": false,
         "type": "scatter3d",
         "x": [
          16.548577363715196,
          -45.21634097189665
         ],
         "y": [
          -5.780648217739201,
          72.41917815142078
         ],
         "z": [
          -54.31435391571992,
          -84.67734565159046
         ]
        },
        {
         "hovertext": [
          "Point 1",
          "Point 2",
          "Point 3",
          "Point 4",
          "Point 5",
          "Point 6",
          "Point 7",
          "Point 8",
          "Point 9",
          "Point 10",
          "Point 11",
          "Point 12",
          "Point 13",
          "Point 14",
          "Point 15",
          "Point 16",
          "Point 17",
          "Point 18",
          "Point 19",
          "Point 20",
          "Point 21",
          "Point 22",
          "Point 23",
          "Point 24",
          "Point 25",
          "Point 26",
          "Point 27",
          "Point 28",
          "Point 29",
          "Point 30"
         ],
         "marker": {
          "color": "red",
          "size": 8
         },
         "mode": "markers",
         "showlegend": false,
         "type": "scatter3d",
         "x": {
          "bdata": "AAAAAAAAAABWOEXYS9wnQD62or6yYxhA318ybID8C8A5+YTulAY6wK21fYB8skVAoHEx+Sc5NMCaxP9kVbxCwMkRV/S2vUpAKkZYpYRDO8CghrdtKNkkwK7LbQ4daUFAwFzgzp8+RcBDf/QRbXBBQOuFuI7tajPAfJORR9du97/Hokfd2t81QItQ8bIBkEPA/92cKaMmRkBVgW4dP68/wEDFG92BNQjAgmw7grIqRUCuN08dFSRJwJT9WTVnzcU/FYcGwhrSSEAx5Rb3ZUlPwJObr4TDt1FA9NqJ92CoJsCQe+yQb4wwQF2Kmw+xm0bA",
          "dtype": "f8"
         },
         "y": {
          "bdata": "AAAAAAAAAADjdz13c94pQLI329Zu8UHAyvcwWsPhY0Bio0ty2jpVwNe/3+0fNDhAxG4Q4nJ0Q0DOQHzXsVxCwJ/ySRJ0ZiXAKc8qUcq3RkDu6Qe/PxtIwESUY5IgCT1Aw+askomECcAb8o19iUczwASd+0i47UBA3e8QKUVxQ8ALWCrl3LRAQM+bo/9Z0zDAyU9hE4jEIsCg44QdHvlCQBJvDvILZErASo7D0Bs8QUAFRV/NDGQuQCtkISGo3UXALW9lrWHc8b+i6ORv7JZPQDqE0XiZyWHABvqPqHVcQUBzexM/Yh8XwDPjmNDTGlJA",
          "dtype": "f8"
         },
         "z": {
          "bdata": "AAAAAAAAAAATcW7j2jBKQCkoBmqvxEJAoDIWuqzbGMD3iJgKYLY6QCgBYmUl3z9AAiiHx56rLUDPiih/T4IWQEquSulu/xZAtyUF+/pPIUD8sSYF+CIlQNUdaXMwySRACXA8OxW1IEBn+lAi6ksUQKBfMJKP5fE/ms9NIjxqCMCKIi5w7gYcwHDLhvTqkiTArSf+QiynKMAIfMZoyAEpwJPSclSCLiXASjqp66O8HsDtO0PBDT8ewJR96be8xDDA1sQcpeXmQMAnlkaoBaU8wDZ+POObIBFA4mxRlQK8Q8B8scW/PChLwM5qk6FZK1XA",
          "dtype": "f8"
         }
        }
       ],
       "layout": {
        "height": 400,
        "paper_bgcolor": "rgba(0,0,0,0)",
        "plot_bgcolor": "rgba(0,0,0,0)",
        "scene": {
         "xaxis": {
          "showgrid": false,
          "showticklabels": false,
          "title": {
           "text": ""
          },
          "visible": false,
          "zeroline": false
         },
         "yaxis": {
          "showgrid": false,
          "showticklabels": false,
          "title": {
           "text": ""
          },
          "visible": false,
          "zeroline": false
         },
         "zaxis": {
          "showgrid": false,
          "showticklabels": false,
          "title": {
           "text": ""
          },
          "visible": false,
          "zeroline": false
         }
        },
        "template": {
         "data": {
          "bar": [
           {
            "error_x": {
             "color": "#2a3f5f"
            },
            "error_y": {
             "color": "#2a3f5f"
            },
            "marker": {
             "line": {
              "color": "#E5ECF6",
              "width": 0.5
             },
             "pattern": {
              "fillmode": "overlay",
              "size": 10,
              "solidity": 0.2
             }
            },
            "type": "bar"
           }
          ],
          "barpolar": [
           {
            "marker": {
             "line": {
              "color": "#E5ECF6",
              "width": 0.5
             },
             "pattern": {
              "fillmode": "overlay",
              "size": 10,
              "solidity": 0.2
             }
            },
            "type": "barpolar"
           }
          ],
          "carpet": [
           {
            "aaxis": {
             "endlinecolor": "#2a3f5f",
             "gridcolor": "white",
             "linecolor": "white",
             "minorgridcolor": "white",
             "startlinecolor": "#2a3f5f"
            },
            "baxis": {
             "endlinecolor": "#2a3f5f",
             "gridcolor": "white",
             "linecolor": "white",
             "minorgridcolor": "white",
             "startlinecolor": "#2a3f5f"
            },
            "type": "carpet"
           }
          ],
          "choropleth": [
           {
            "colorbar": {
             "outlinewidth": 0,
             "ticks": ""
            },
            "type": "choropleth"
           }
          ],
          "contour": [
           {
            "colorbar": {
             "outlinewidth": 0,
             "ticks": ""
            },
            "colorscale": [
             [
              0,
              "#0d0887"
             ],
             [
              0.1111111111111111,
              "#46039f"
             ],
             [
              0.2222222222222222,
              "#7201a8"
             ],
             [
              0.3333333333333333,
              "#9c179e"
             ],
             [
              0.4444444444444444,
              "#bd3786"
             ],
             [
              0.5555555555555556,
              "#d8576b"
             ],
             [
              0.6666666666666666,
              "#ed7953"
             ],
             [
              0.7777777777777778,
              "#fb9f3a"
             ],
             [
              0.8888888888888888,
              "#fdca26"
             ],
             [
              1,
              "#f0f921"
             ]
            ],
            "type": "contour"
           }
          ],
          "contourcarpet": [
           {
            "colorbar": {
             "outlinewidth": 0,
             "ticks": ""
            },
            "type": "contourcarpet"
           }
          ],
          "heatmap": [
           {
            "colorbar": {
             "outlinewidth": 0,
             "ticks": ""
            },
            "colorscale": [
             [
              0,
              "#0d0887"
             ],
             [
              0.1111111111111111,
              "#46039f"
             ],
             [
              0.2222222222222222,
              "#7201a8"
             ],
             [
              0.3333333333333333,
              "#9c179e"
             ],
             [
              0.4444444444444444,
              "#bd3786"
             ],
             [
              0.5555555555555556,
              "#d8576b"
             ],
             [
              0.6666666666666666,
              "#ed7953"
             ],
             [
              0.7777777777777778,
              "#fb9f3a"
             ],
             [
              0.8888888888888888,
              "#fdca26"
             ],
             [
              1,
              "#f0f921"
             ]
            ],
            "type": "heatmap"
           }
          ],
          "histogram": [
           {
            "marker": {
             "pattern": {
              "fillmode": "overlay",
              "size": 10,
              "solidity": 0.2
             }
            },
            "type": "histogram"
           }
          ],
          "histogram2d": [
           {
            "colorbar": {
             "outlinewidth": 0,
             "ticks": ""
            },
            "colorscale": [
             [
              0,
              "#0d0887"
             ],
             [
              0.1111111111111111,
              "#46039f"
             ],
             [
              0.2222222222222222,
              "#7201a8"
             ],
             [
              0.3333333333333333,
              "#9c179e"
             ],
             [
              0.4444444444444444,
              "#bd3786"
             ],
             [
              0.5555555555555556,
              "#d8576b"
             ],
             [
              0.6666666666666666,
              "#ed7953"
             ],
             [
              0.7777777777777778,
              "#fb9f3a"
             ],
             [
              0.8888888888888888,
              "#fdca26"
             ],
             [
              1,
              "#f0f921"
             ]
            ],
            "type": "histogram2d"
           }
          ],
          "histogram2dcontour": [
           {
            "colorbar": {
             "outlinewidth": 0,
             "ticks": ""
            },
            "colorscale": [
             [
              0,
              "#0d0887"
             ],
             [
              0.1111111111111111,
              "#46039f"
             ],
             [
              0.2222222222222222,
              "#7201a8"
             ],
             [
              0.3333333333333333,
              "#9c179e"
             ],
             [
              0.4444444444444444,
              "#bd3786"
             ],
             [
              0.5555555555555556,
              "#d8576b"
             ],
             [
              0.6666666666666666,
              "#ed7953"
             ],
             [
              0.7777777777777778,
              "#fb9f3a"
             ],
             [
              0.8888888888888888,
              "#fdca26"
             ],
             [
              1,
              "#f0f921"
             ]
            ],
            "type": "histogram2dcontour"
           }
          ],
          "mesh3d": [
           {
            "colorbar": {
             "outlinewidth": 0,
             "ticks": ""
            },
            "type": "mesh3d"
           }
          ],
          "parcoords": [
           {
            "line": {
             "colorbar": {
              "outlinewidth": 0,
              "ticks": ""
             }
            },
            "type": "parcoords"
           }
          ],
          "pie": [
           {
            "automargin": true,
            "type": "pie"
           }
          ],
          "scatter": [
           {
            "fillpattern": {
             "fillmode": "overlay",
             "size": 10,
             "solidity": 0.2
            },
            "type": "scatter"
           }
          ],
          "scatter3d": [
           {
            "line": {
             "colorbar": {
              "outlinewidth": 0,
              "ticks": ""
             }
            },
            "marker": {
             "colorbar": {
              "outlinewidth": 0,
              "ticks": ""
             }
            },
            "type": "scatter3d"
           }
          ],
          "scattercarpet": [
           {
            "marker": {
             "colorbar": {
              "outlinewidth": 0,
              "ticks": ""
             }
            },
            "type": "scattercarpet"
           }
          ],
          "scattergeo": [
           {
            "marker": {
             "colorbar": {
              "outlinewidth": 0,
              "ticks": ""
             }
            },
            "type": "scattergeo"
           }
          ],
          "scattergl": [
           {
            "marker": {
             "colorbar": {
              "outlinewidth": 0,
              "ticks": ""
             }
            },
            "type": "scattergl"
           }
          ],
          "scattermap": [
           {
            "marker": {
             "colorbar": {
              "outlinewidth": 0,
              "ticks": ""
             }
            },
            "type": "scattermap"
           }
          ],
          "scattermapbox": [
           {
            "marker": {
             "colorbar": {
              "outlinewidth": 0,
              "ticks": ""
             }
            },
            "type": "scattermapbox"
           }
          ],
          "scatterpolar": [
           {
            "marker": {
             "colorbar": {
              "outlinewidth": 0,
              "ticks": ""
             }
            },
            "type": "scatterpolar"
           }
          ],
          "scatterpolargl": [
           {
            "marker": {
             "colorbar": {
              "outlinewidth": 0,
              "ticks": ""
             }
            },
            "type": "scatterpolargl"
           }
          ],
          "scatterternary": [
           {
            "marker": {
             "colorbar": {
              "outlinewidth": 0,
              "ticks": ""
             }
            },
            "type": "scatterternary"
           }
          ],
          "surface": [
           {
            "colorbar": {
             "outlinewidth": 0,
             "ticks": ""
            },
            "colorscale": [
             [
              0,
              "#0d0887"
             ],
             [
              0.1111111111111111,
              "#46039f"
             ],
             [
              0.2222222222222222,
              "#7201a8"
             ],
             [
              0.3333333333333333,
              "#9c179e"
             ],
             [
              0.4444444444444444,
              "#bd3786"
             ],
             [
              0.5555555555555556,
              "#d8576b"
             ],
             [
              0.6666666666666666,
              "#ed7953"
             ],
             [
              0.7777777777777778,
              "#fb9f3a"
             ],
             [
              0.8888888888888888,
              "#fdca26"
             ],
             [
              1,
              "#f0f921"
             ]
            ],
            "type": "surface"
           }
          ],
          "table": [
           {
            "cells": {
             "fill": {
              "color": "#EBF0F8"
             },
             "line": {
              "color": "white"
             }
            },
            "header": {
             "fill": {
              "color": "#C8D4E3"
             },
             "line": {
              "color": "white"
             }
            },
            "type": "table"
           }
          ]
         },
         "layout": {
          "annotationdefaults": {
           "arrowcolor": "#2a3f5f",
           "arrowhead": 0,
           "arrowwidth": 1
          },
          "autotypenumbers": "strict",
          "coloraxis": {
           "colorbar": {
            "outlinewidth": 0,
            "ticks": ""
           }
          },
          "colorscale": {
           "diverging": [
            [
             0,
             "#8e0152"
            ],
            [
             0.1,
             "#c51b7d"
            ],
            [
             0.2,
             "#de77ae"
            ],
            [
             0.3,
             "#f1b6da"
            ],
            [
             0.4,
             "#fde0ef"
            ],
            [
             0.5,
             "#f7f7f7"
            ],
            [
             0.6,
             "#e6f5d0"
            ],
            [
             0.7,
             "#b8e186"
            ],
            [
             0.8,
             "#7fbc41"
            ],
            [
             0.9,
             "#4d9221"
            ],
            [
             1,
             "#276419"
            ]
           ],
           "sequential": [
            [
             0,
             "#0d0887"
            ],
            [
             0.1111111111111111,
             "#46039f"
            ],
            [
             0.2222222222222222,
             "#7201a8"
            ],
            [
             0.3333333333333333,
             "#9c179e"
            ],
            [
             0.4444444444444444,
             "#bd3786"
            ],
            [
             0.5555555555555556,
             "#d8576b"
            ],
            [
             0.6666666666666666,
             "#ed7953"
            ],
            [
             0.7777777777777778,
             "#fb9f3a"
            ],
            [
             0.8888888888888888,
             "#fdca26"
            ],
            [
             1,
             "#f0f921"
            ]
           ],
           "sequentialminus": [
            [
             0,
             "#0d0887"
            ],
            [
             0.1111111111111111,
             "#46039f"
            ],
            [
             0.2222222222222222,
             "#7201a8"
            ],
            [
             0.3333333333333333,
             "#9c179e"
            ],
            [
             0.4444444444444444,
             "#bd3786"
            ],
            [
             0.5555555555555556,
             "#d8576b"
            ],
            [
             0.6666666666666666,
             "#ed7953"
            ],
            [
             0.7777777777777778,
             "#fb9f3a"
            ],
            [
             0.8888888888888888,
             "#fdca26"
            ],
            [
             1,
             "#f0f921"
            ]
           ]
          },
          "colorway": [
           "#636efa",
           "#EF553B",
           "#00cc96",
           "#ab63fa",
           "#FFA15A",
           "#19d3f3",
           "#FF6692",
           "#B6E880",
           "#FF97FF",
           "#FECB52"
          ],
          "font": {
           "color": "#2a3f5f"
          },
          "geo": {
           "bgcolor": "white",
           "lakecolor": "white",
           "landcolor": "#E5ECF6",
           "showlakes": true,
           "showland": true,
           "subunitcolor": "white"
          },
          "hoverlabel": {
           "align": "left"
          },
          "hovermode": "closest",
          "mapbox": {
           "style": "light"
          },
          "paper_bgcolor": "white",
          "plot_bgcolor": "#E5ECF6",
          "polar": {
           "angularaxis": {
            "gridcolor": "white",
            "linecolor": "white",
            "ticks": ""
           },
           "bgcolor": "#E5ECF6",
           "radialaxis": {
            "gridcolor": "white",
            "linecolor": "white",
            "ticks": ""
           }
          },
          "scene": {
           "xaxis": {
            "backgroundcolor": "#E5ECF6",
            "gridcolor": "white",
            "gridwidth": 2,
            "linecolor": "white",
            "showbackground": true,
            "ticks": "",
            "zerolinecolor": "white"
           },
           "yaxis": {
            "backgroundcolor": "#E5ECF6",
            "gridcolor": "white",
            "gridwidth": 2,
            "linecolor": "white",
            "showbackground": true,
            "ticks": "",
            "zerolinecolor": "white"
           },
           "zaxis": {
            "backgroundcolor": "#E5ECF6",
            "gridcolor": "white",
            "gridwidth": 2,
            "linecolor": "white",
            "showbackground": true,
            "ticks": "",
            "zerolinecolor": "white"
           }
          },
          "shapedefaults": {
           "line": {
            "color": "#2a3f5f"
           }
          },
          "ternary": {
           "aaxis": {
            "gridcolor": "white",
            "linecolor": "white",
            "ticks": ""
           },
           "baxis": {
            "gridcolor": "white",
            "linecolor": "white",
            "ticks": ""
           },
           "bgcolor": "#E5ECF6",
           "caxis": {
            "gridcolor": "white",
            "linecolor": "white",
            "ticks": ""
           }
          },
          "title": {
           "x": 0.05
          },
          "xaxis": {
           "automargin": true,
           "gridcolor": "white",
           "linecolor": "white",
           "ticks": "",
           "title": {
            "standoff": 15
           },
           "zerolinecolor": "white",
           "zerolinewidth": 2
          },
          "yaxis": {
           "automargin": true,
           "gridcolor": "white",
           "linecolor": "white",
           "ticks": "",
           "title": {
            "standoff": 15
           },
           "zerolinecolor": "white",
           "zerolinewidth": 2
          }
         }
        },
        "title": {
         "text": "30-Atom Configuration: -0.000003J"
        },
        "width": 600
       }
      }
     },
     "metadata": {},
     "output_type": "display_data"
    },
    {
     "name": "stdout",
     "output_type": "stream",
     "text": [
      "Step 0, energy: -10.938299, gradient norm: 2.22e+02\n",
      "Step 400, energy: -42.579276, gradient norm: 2.16e-07\n",
      "Step 800, energy: -42.579276, gradient norm: 1.43e-06\n",
      "Converged on step 925, energy: -42.579276, gradient norm = 7.502e-09\n"
     ]
    },
    {
     "data": {
      "application/vnd.plotly.v1+json": {
       "config": {
        "plotlyServerURL": "https://plot.ly"
       },
       "data": [
        {
         "hoverinfo": "text",
         "hovertext": "Length: 9.76e-01, Contributes -9.75e-01J",
         "line": {
          "color": "rgb(173, 216, 230, 0.4)",
          "width": 8
         },
         "mode": "lines",
         "showlegend": false,
         "type": "scatter3d",
         "x": [
          0,
          -0.6110618907460599
         ],
         "y": [
          0,
          0.25771875782110043
         ],
         "z": [
          0,
          -0.7158318435650772
         ]
        },
        {
         "hoverinfo": "text",
         "hovertext": "Length: 1.01e+00, Contributes -9.95e-01J",
         "line": {
          "color": "rgb(173, 216, 230, 0.4)",
          "width": 8
         },
         "mode": "lines",
         "showlegend": false,
         "type": "scatter3d",
         "x": [
          0,
          -0.3535298430776813
         ],
         "y": [
          0,
          -0.6704343984000495
         ],
         "z": [
          0,
          -0.6703192361985784
         ]
        },
        {
         "hoverinfo": "text",
         "hovertext": "Length: 1.01e+00, Contributes -9.96e-01J",
         "line": {
          "color": "rgb(173, 216, 230, 0.4)",
          "width": 8
         },
         "mode": "lines",
         "showlegend": false,
         "type": "scatter3d",
         "x": [
          0,
          0.2961138427264081
         ],
         "y": [
          0,
          0.6001980625895077
         ],
         "z": [
          0,
          -0.7585417326606184
         ]
        },
        {
         "hoverinfo": "text",
         "hovertext": "Length: 1.63e+00, Contributes -1.05e-01J",
         "line": {
          "color": "rgb(173, 216, 230, 0.4)",
          "width": 8
         },
         "mode": "lines",
         "showlegend": false,
         "type": "scatter3d",
         "x": [
          0,
          -1.306485197280424
         ],
         "y": [
          0,
          -0.43293965084866914
         ],
         "z": [
          0,
          -0.8685920976050062
         ]
        },
        {
         "hoverinfo": "text",
         "hovertext": "Length: 9.84e-01, Contributes -9.89e-01J",
         "line": {
          "color": "rgb(173, 216, 230, 0.4)",
          "width": 8
         },
         "mode": "lines",
         "showlegend": false,
         "type": "scatter3d",
         "x": [
          0,
          0.574251580832293
         ],
         "y": [
          0,
          -0.35827417364212266
         ],
         "z": [
          0,
          -0.7138923709455769
         ]
        },
        {
         "hoverinfo": "text",
         "hovertext": "Length: 1.60e+00, Contributes -1.18e-01J",
         "line": {
          "color": "rgb(173, 216, 230, 0.4)",
          "width": 8
         },
         "mode": "lines",
         "showlegend": false,
         "type": "scatter3d",
         "x": [
          0,
          -0.5278022233446579
         ],
         "y": [
          0,
          1.210714424838825
         ],
         "z": [
          0,
          -0.894544824535012
         ]
        },
        {
         "hoverinfo": "text",
         "hovertext": "Length: 1.98e+00, Contributes -3.26e-02J",
         "line": {
          "color": "rgb(173, 216, 230, 0.4)",
          "width": 8
         },
         "mode": "lines",
         "showlegend": false,
         "type": "scatter3d",
         "x": [
          0,
          -0.78756263154427
         ],
         "y": [
          0,
          -1.1805954581924714
         ],
         "z": [
          0,
          -1.3845942443851014
         ]
        },
        {
         "hoverinfo": "text",
         "hovertext": "Length: 1.69e+00, Contributes -8.41e-02J",
         "line": {
          "color": "rgb(173, 216, 230, 0.4)",
          "width": 8
         },
         "mode": "lines",
         "showlegend": false,
         "type": "scatter3d",
         "x": [
          0,
          0.6256788221452776
         ],
         "y": [
          0,
          0.11516512810227483
         ],
         "z": [
          0,
          -1.5652492770356794
         ]
        },
        {
         "hoverinfo": "text",
         "hovertext": "Length: 1.94e+00, Contributes -3.70e-02J",
         "line": {
          "color": "rgb(173, 216, 230, 0.4)",
          "width": 8
         },
         "mode": "lines",
         "showlegend": false,
         "type": "scatter3d",
         "x": [
          0,
          -1.195158705459841
         ],
         "y": [
          0,
          0.5919201008936208
         ],
         "z": [
          0,
          -1.410545755015437
         ]
        },
        {
         "hoverinfo": "text",
         "hovertext": "Length: 1.71e+00, Contributes -7.92e-02J",
         "line": {
          "color": "rgb(173, 216, 230, 0.4)",
          "width": 8
         },
         "mode": "lines",
         "showlegend": false,
         "type": "scatter3d",
         "x": [
          0,
          0.1482257492820664
         ],
         "y": [
          0,
          -0.7612298310694466
         ],
         "z": [
          0,
          -1.520599139986202
         ]
        },
        {
         "hoverinfo": "text",
         "hovertext": "Length: 1.74e+00, Contributes -7.15e-02J",
         "line": {
          "color": "rgb(173, 216, 230, 0.4)",
          "width": 8
         },
         "mode": "lines",
         "showlegend": false,
         "type": "scatter3d",
         "x": [
          0,
          -0.2134359569261824
         ],
         "y": [
          0,
          0.6192573034306015
         ],
         "z": [
          0,
          -1.6088205981309724
         ]
        },
        {
         "hoverinfo": "text",
         "hovertext": "Length: 1.71e+00, Contributes -7.72e-02J",
         "line": {
          "color": "rgb(173, 216, 230, 0.4)",
          "width": 8
         },
         "mode": "lines",
         "showlegend": false,
         "type": "scatter3d",
         "x": [
          0,
          -0.6642538505397937
         ],
         "y": [
          0,
          -0.23195019292360008
         ],
         "z": [
          0,
          -1.5633072773113383
         ]
        },
        {
         "hoverinfo": "text",
         "hovertext": "Length: 2.28e+00, Contributes -1.41e-02J",
         "line": {
          "color": "rgb(173, 216, 230, 0.4)",
          "width": 8
         },
         "mode": "lines",
         "showlegend": false,
         "type": "scatter3d",
         "x": [
          0,
          -0.012108698429047438
         ],
         "y": [
          0,
          -0.11144933758689654
         ],
         "z": [
          0,
          -2.279140405771609
         ]
        },
        {
         "hoverinfo": "text",
         "hovertext": "Length: 9.64e-01, Contributes -9.41e-01J",
         "line": {
          "color": "rgb(173, 216, 230, 0.4)",
          "width": 8
         },
         "mode": "lines",
         "showlegend": false,
         "type": "scatter3d",
         "x": [
          -0.6110618907460599,
          -0.3535298430776813
         ],
         "y": [
          0.25771875782110043,
          -0.6704343984000495
         ],
         "z": [
          -0.7158318435650772,
          -0.6703192361985784
         ]
        },
        {
         "hoverinfo": "text",
         "hovertext": "Length: 9.71e-01, Contributes -9.62e-01J",
         "line": {
          "color": "rgb(173, 216, 230, 0.4)",
          "width": 8
         },
         "mode": "lines",
         "showlegend": false,
         "type": "scatter3d",
         "x": [
          -0.6110618907460599,
          0.2961138427264081
         ],
         "y": [
          0.25771875782110043,
          0.6001980625895077
         ],
         "z": [
          -0.7158318435650772,
          -0.7585417326606184
         ]
        },
        {
         "hoverinfo": "text",
         "hovertext": "Length: 9.92e-01, Contributes -9.98e-01J",
         "line": {
          "color": "rgb(173, 216, 230, 0.4)",
          "width": 8
         },
         "mode": "lines",
         "showlegend": false,
         "type": "scatter3d",
         "x": [
          -0.6110618907460599,
          -1.306485197280424
         ],
         "y": [
          0.25771875782110043,
          -0.43293965084866914
         ],
         "z": [
          -0.7158318435650772,
          -0.8685920976050062
         ]
        },
        {
         "hoverinfo": "text",
         "hovertext": "Length: 1.34e+00, Contributes -3.21e-01J",
         "line": {
          "color": "rgb(173, 216, 230, 0.4)",
          "width": 8
         },
         "mode": "lines",
         "showlegend": false,
         "type": "scatter3d",
         "x": [
          -0.6110618907460599,
          0.574251580832293
         ],
         "y": [
          0.25771875782110043,
          -0.35827417364212266
         ],
         "z": [
          -0.7158318435650772,
          -0.7138923709455769
         ]
        },
        {
         "hoverinfo": "text",
         "hovertext": "Length: 9.73e-01, Contributes -9.69e-01J",
         "line": {
          "color": "rgb(173, 216, 230, 0.4)",
          "width": 8
         },
         "mode": "lines",
         "showlegend": false,
         "type": "scatter3d",
         "x": [
          -0.6110618907460599,
          -0.5278022233446579
         ],
         "y": [
          0.25771875782110043,
          1.210714424838825
         ],
         "z": [
          -0.7158318435650772,
          -0.894544824535012
         ]
        },
        {
         "hoverinfo": "text",
         "hovertext": "Length: 1.60e+00, Contributes -1.17e-01J",
         "line": {
          "color": "rgb(173, 216, 230, 0.4)",
          "width": 8
         },
         "mode": "lines",
         "showlegend": false,
         "type": "scatter3d",
         "x": [
          -0.6110618907460599,
          -0.78756263154427
         ],
         "y": [
          0.25771875782110043,
          -1.1805954581924714
         ],
         "z": [
          -0.7158318435650772,
          -1.3845942443851014
         ]
        },
        {
         "hoverinfo": "text",
         "hovertext": "Length: 1.51e+00, Contributes -1.63e-01J",
         "line": {
          "color": "rgb(173, 216, 230, 0.4)",
          "width": 8
         },
         "mode": "lines",
         "showlegend": false,
         "type": "scatter3d",
         "x": [
          -0.6110618907460599,
          0.6256788221452776
         ],
         "y": [
          0.25771875782110043,
          0.11516512810227483
         ],
         "z": [
          -0.7158318435650772,
          -1.5652492770356794
         ]
        },
        {
         "hoverinfo": "text",
         "hovertext": "Length: 9.67e-01, Contributes -9.51e-01J",
         "line": {
          "color": "rgb(173, 216, 230, 0.4)",
          "width": 8
         },
         "mode": "lines",
         "showlegend": false,
         "type": "scatter3d",
         "x": [
          -0.6110618907460599,
          -1.195158705459841
         ],
         "y": [
          0.25771875782110043,
          0.5919201008936208
         ],
         "z": [
          -0.7158318435650772,
          -1.410545755015437
         ]
        },
        {
         "hoverinfo": "text",
         "hovertext": "Length: 1.50e+00, Contributes -1.65e-01J",
         "line": {
          "color": "rgb(173, 216, 230, 0.4)",
          "width": 8
         },
         "mode": "lines",
         "showlegend": false,
         "type": "scatter3d",
         "x": [
          -0.6110618907460599,
          0.1482257492820664
         ],
         "y": [
          0.25771875782110043,
          -0.7612298310694466
         ],
         "z": [
          -0.7158318435650772,
          -1.520599139986202
         ]
        },
        {
         "hoverinfo": "text",
         "hovertext": "Length: 1.04e+00, Contributes -9.52e-01J",
         "line": {
          "color": "rgb(173, 216, 230, 0.4)",
          "width": 8
         },
         "mode": "lines",
         "showlegend": false,
         "type": "scatter3d",
         "x": [
          -0.6110618907460599,
          -0.2134359569261824
         ],
         "y": [
          0.25771875782110043,
          0.6192573034306015
         ],
         "z": [
          -0.7158318435650772,
          -1.6088205981309724
         ]
        },
        {
         "hoverinfo": "text",
         "hovertext": "Length: 9.80e-01, Contributes -9.84e-01J",
         "line": {
          "color": "rgb(173, 216, 230, 0.4)",
          "width": 8
         },
         "mode": "lines",
         "showlegend": false,
         "type": "scatter3d",
         "x": [
          -0.6110618907460599,
          -0.6642538505397937
         ],
         "y": [
          0.25771875782110043,
          -0.23195019292360008
         ],
         "z": [
          -0.7158318435650772,
          -1.5633072773113383
         ]
        },
        {
         "hoverinfo": "text",
         "hovertext": "Length: 1.71e+00, Contributes -7.72e-02J",
         "line": {
          "color": "rgb(173, 216, 230, 0.4)",
          "width": 8
         },
         "mode": "lines",
         "showlegend": false,
         "type": "scatter3d",
         "x": [
          -0.6110618907460599,
          -0.012108698429047438
         ],
         "y": [
          0.25771875782110043,
          -0.11144933758689654
         ],
         "z": [
          -0.7158318435650772,
          -2.279140405771609
         ]
        },
        {
         "hoverinfo": "text",
         "hovertext": "Length: 1.43e+00, Contributes -2.20e-01J",
         "line": {
          "color": "rgb(173, 216, 230, 0.4)",
          "width": 8
         },
         "mode": "lines",
         "showlegend": false,
         "type": "scatter3d",
         "x": [
          -0.3535298430776813,
          0.2961138427264081
         ],
         "y": [
          -0.6704343984000495,
          0.6001980625895077
         ],
         "z": [
          -0.6703192361985784,
          -0.7585417326606184
         ]
        },
        {
         "hoverinfo": "text",
         "hovertext": "Length: 1.00e+00, Contributes -1.00e+00J",
         "line": {
          "color": "rgb(173, 216, 230, 0.4)",
          "width": 8
         },
         "mode": "lines",
         "showlegend": false,
         "type": "scatter3d",
         "x": [
          -0.3535298430776813,
          -1.306485197280424
         ],
         "y": [
          -0.6704343984000495,
          -0.43293965084866914
         ],
         "z": [
          -0.6703192361985784,
          -0.8685920976050062
         ]
        },
        {
         "hoverinfo": "text",
         "hovertext": "Length: 9.80e-01, Contributes -9.83e-01J",
         "line": {
          "color": "rgb(173, 216, 230, 0.4)",
          "width": 8
         },
         "mode": "lines",
         "showlegend": false,
         "type": "scatter3d",
         "x": [
          -0.3535298430776813,
          0.574251580832293
         ],
         "y": [
          -0.6704343984000495,
          -0.35827417364212266
         ],
         "z": [
          -0.6703192361985784,
          -0.7138923709455769
         ]
        },
        {
         "hoverinfo": "text",
         "hovertext": "Length: 1.90e+00, Contributes -4.17e-02J",
         "line": {
          "color": "rgb(173, 216, 230, 0.4)",
          "width": 8
         },
         "mode": "lines",
         "showlegend": false,
         "type": "scatter3d",
         "x": [
          -0.3535298430776813,
          -0.5278022233446579
         ],
         "y": [
          -0.6704343984000495,
          1.210714424838825
         ],
         "z": [
          -0.6703192361985784,
          -0.894544824535012
         ]
        },
        {
         "hoverinfo": "text",
         "hovertext": "Length: 9.79e-01, Contributes -9.82e-01J",
         "line": {
          "color": "rgb(173, 216, 230, 0.4)",
          "width": 8
         },
         "mode": "lines",
         "showlegend": false,
         "type": "scatter3d",
         "x": [
          -0.3535298430776813,
          -0.78756263154427
         ],
         "y": [
          -0.6704343984000495,
          -1.1805954581924714
         ],
         "z": [
          -0.6703192361985784,
          -1.3845942443851014
         ]
        },
        {
         "hoverinfo": "text",
         "hovertext": "Length: 1.54e+00, Contributes -1.43e-01J",
         "line": {
          "color": "rgb(173, 216, 230, 0.4)",
          "width": 8
         },
         "mode": "lines",
         "showlegend": false,
         "type": "scatter3d",
         "x": [
          -0.3535298430776813,
          0.6256788221452776
         ],
         "y": [
          -0.6704343984000495,
          0.11516512810227483
         ],
         "z": [
          -0.6703192361985784,
          -1.5652492770356794
         ]
        },
        {
         "hoverinfo": "text",
         "hovertext": "Length: 1.69e+00, Contributes -8.45e-02J",
         "line": {
          "color": "rgb(173, 216, 230, 0.4)",
          "width": 8
         },
         "mode": "lines",
         "showlegend": false,
         "type": "scatter3d",
         "x": [
          -0.3535298430776813,
          -1.195158705459841
         ],
         "y": [
          -0.6704343984000495,
          0.5919201008936208
         ],
         "z": [
          -0.6703192361985784,
          -1.410545755015437
         ]
        },
        {
         "hoverinfo": "text",
         "hovertext": "Length: 9.91e-01, Contributes -9.97e-01J",
         "line": {
          "color": "rgb(173, 216, 230, 0.4)",
          "width": 8
         },
         "mode": "lines",
         "showlegend": false,
         "type": "scatter3d",
         "x": [
          -0.3535298430776813,
          0.1482257492820664
         ],
         "y": [
          -0.6704343984000495,
          -0.7612298310694466
         ],
         "z": [
          -0.6703192361985784,
          -1.520599139986202
         ]
        },
        {
         "hoverinfo": "text",
         "hovertext": "Length: 1.60e+00, Contributes -1.15e-01J",
         "line": {
          "color": "rgb(173, 216, 230, 0.4)",
          "width": 8
         },
         "mode": "lines",
         "showlegend": false,
         "type": "scatter3d",
         "x": [
          -0.3535298430776813,
          -0.2134359569261824
         ],
         "y": [
          -0.6704343984000495,
          0.6192573034306015
         ],
         "z": [
          -0.6703192361985784,
          -1.6088205981309724
         ]
        },
        {
         "hoverinfo": "text",
         "hovertext": "Length: 1.04e+00, Contributes -9.52e-01J",
         "line": {
          "color": "rgb(173, 216, 230, 0.4)",
          "width": 8
         },
         "mode": "lines",
         "showlegend": false,
         "type": "scatter3d",
         "x": [
          -0.3535298430776813,
          -0.6642538505397937
         ],
         "y": [
          -0.6704343984000495,
          -0.23195019292360008
         ],
         "z": [
          -0.6703192361985784,
          -1.5633072773113383
         ]
        },
        {
         "hoverinfo": "text",
         "hovertext": "Length: 1.74e+00, Contributes -7.15e-02J",
         "line": {
          "color": "rgb(173, 216, 230, 0.4)",
          "width": 8
         },
         "mode": "lines",
         "showlegend": false,
         "type": "scatter3d",
         "x": [
          -0.3535298430776813,
          -0.012108698429047438
         ],
         "y": [
          -0.6704343984000495,
          -0.11144933758689654
         ],
         "z": [
          -0.6703192361985784,
          -2.279140405771609
         ]
        },
        {
         "hoverinfo": "text",
         "hovertext": "Length: 1.91e+00, Contributes -4.08e-02J",
         "line": {
          "color": "rgb(173, 216, 230, 0.4)",
          "width": 8
         },
         "mode": "lines",
         "showlegend": false,
         "type": "scatter3d",
         "x": [
          0.2961138427264081,
          -1.306485197280424
         ],
         "y": [
          0.6001980625895077,
          -0.43293965084866914
         ],
         "z": [
          -0.7585417326606184,
          -0.8685920976050062
         ]
        },
        {
         "hoverinfo": "text",
         "hovertext": "Length: 9.99e-01, Contributes -1.00e+00J",
         "line": {
          "color": "rgb(173, 216, 230, 0.4)",
          "width": 8
         },
         "mode": "lines",
         "showlegend": false,
         "type": "scatter3d",
         "x": [
          0.2961138427264081,
          0.574251580832293
         ],
         "y": [
          0.6001980625895077,
          -0.35827417364212266
         ],
         "z": [
          -0.7585417326606184,
          -0.7138923709455769
         ]
        },
        {
         "hoverinfo": "text",
         "hovertext": "Length: 1.03e+00, Contributes -9.66e-01J",
         "line": {
          "color": "rgb(173, 216, 230, 0.4)",
          "width": 8
         },
         "mode": "lines",
         "showlegend": false,
         "type": "scatter3d",
         "x": [
          0.2961138427264081,
          -0.5278022233446579
         ],
         "y": [
          0.6001980625895077,
          1.210714424838825
         ],
         "z": [
          -0.7585417326606184,
          -0.894544824535012
         ]
        },
        {
         "hoverinfo": "text",
         "hovertext": "Length: 2.18e+00, Contributes -1.87e-02J",
         "line": {
          "color": "rgb(173, 216, 230, 0.4)",
          "width": 8
         },
         "mode": "lines",
         "showlegend": false,
         "type": "scatter3d",
         "x": [
          0.2961138427264081,
          -0.78756263154427
         ],
         "y": [
          0.6001980625895077,
          -1.1805954581924714
         ],
         "z": [
          -0.7585417326606184,
          -1.3845942443851014
         ]
        },
        {
         "hoverinfo": "text",
         "hovertext": "Length: 9.97e-01, Contributes -1.00e+00J",
         "line": {
          "color": "rgb(173, 216, 230, 0.4)",
          "width": 8
         },
         "mode": "lines",
         "showlegend": false,
         "type": "scatter3d",
         "x": [
          0.2961138427264081,
          0.6256788221452776
         ],
         "y": [
          0.6001980625895077,
          0.11516512810227483
         ],
         "z": [
          -0.7585417326606184,
          -1.5652492770356794
         ]
        },
        {
         "hoverinfo": "text",
         "hovertext": "Length: 1.63e+00, Contributes -1.05e-01J",
         "line": {
          "color": "rgb(173, 216, 230, 0.4)",
          "width": 8
         },
         "mode": "lines",
         "showlegend": false,
         "type": "scatter3d",
         "x": [
          0.2961138427264081,
          -1.195158705459841
         ],
         "y": [
          0.6001980625895077,
          0.5919201008936208
         ],
         "z": [
          -0.7585417326606184,
          -1.410545755015437
         ]
        },
        {
         "hoverinfo": "text",
         "hovertext": "Length: 1.57e+00, Contributes -1.30e-01J",
         "line": {
          "color": "rgb(173, 216, 230, 0.4)",
          "width": 8
         },
         "mode": "lines",
         "showlegend": false,
         "type": "scatter3d",
         "x": [
          0.2961138427264081,
          0.1482257492820664
         ],
         "y": [
          0.6001980625895077,
          -0.7612298310694466
         ],
         "z": [
          -0.7585417326606184,
          -1.520599139986202
         ]
        },
        {
         "hoverinfo": "text",
         "hovertext": "Length: 9.91e-01, Contributes -9.97e-01J",
         "line": {
          "color": "rgb(173, 216, 230, 0.4)",
          "width": 8
         },
         "mode": "lines",
         "showlegend": false,
         "type": "scatter3d",
         "x": [
          0.2961138427264081,
          -0.2134359569261824
         ],
         "y": [
          0.6001980625895077,
          0.6192573034306015
         ],
         "z": [
          -0.7585417326606184,
          -1.6088205981309724
         ]
        },
        {
         "hoverinfo": "text",
         "hovertext": "Length: 1.50e+00, Contributes -1.65e-01J",
         "line": {
          "color": "rgb(173, 216, 230, 0.4)",
          "width": 8
         },
         "mode": "lines",
         "showlegend": false,
         "type": "scatter3d",
         "x": [
          0.2961138427264081,
          -0.6642538505397937
         ],
         "y": [
          0.6001980625895077,
          -0.23195019292360008
         ],
         "z": [
          -0.7585417326606184,
          -1.5633072773113383
         ]
        },
        {
         "hoverinfo": "text",
         "hovertext": "Length: 1.71e+00, Contributes -7.92e-02J",
         "line": {
          "color": "rgb(173, 216, 230, 0.4)",
          "width": 8
         },
         "mode": "lines",
         "showlegend": false,
         "type": "scatter3d",
         "x": [
          0.2961138427264081,
          -0.012108698429047438
         ],
         "y": [
          0.6001980625895077,
          -0.11144933758689654
         ],
         "z": [
          -0.7585417326606184,
          -2.279140405771609
         ]
        },
        {
         "hoverinfo": "text",
         "hovertext": "Length: 1.89e+00, Contributes -4.36e-02J",
         "line": {
          "color": "rgb(173, 216, 230, 0.4)",
          "width": 8
         },
         "mode": "lines",
         "showlegend": false,
         "type": "scatter3d",
         "x": [
          -1.306485197280424,
          0.574251580832293
         ],
         "y": [
          -0.43293965084866914,
          -0.35827417364212266
         ],
         "z": [
          -0.8685920976050062,
          -0.7138923709455769
         ]
        },
        {
         "hoverinfo": "text",
         "hovertext": "Length: 1.82e+00, Contributes -5.45e-02J",
         "line": {
          "color": "rgb(173, 216, 230, 0.4)",
          "width": 8
         },
         "mode": "lines",
         "showlegend": false,
         "type": "scatter3d",
         "x": [
          -1.306485197280424,
          -0.5278022233446579
         ],
         "y": [
          -0.43293965084866914,
          1.210714424838825
         ],
         "z": [
          -0.8685920976050062,
          -0.894544824535012
         ]
        },
        {
         "hoverinfo": "text",
         "hovertext": "Length: 1.05e+00, Contributes -9.44e-01J",
         "line": {
          "color": "rgb(173, 216, 230, 0.4)",
          "width": 8
         },
         "mode": "lines",
         "showlegend": false,
         "type": "scatter3d",
         "x": [
          -1.306485197280424,
          -0.78756263154427
         ],
         "y": [
          -0.43293965084866914,
          -1.1805954581924714
         ],
         "z": [
          -0.8685920976050062,
          -1.3845942443851014
         ]
        },
        {
         "hoverinfo": "text",
         "hovertext": "Length: 2.13e+00, Contributes -2.16e-02J",
         "line": {
          "color": "rgb(173, 216, 230, 0.4)",
          "width": 8
         },
         "mode": "lines",
         "showlegend": false,
         "type": "scatter3d",
         "x": [
          -1.306485197280424,
          0.6256788221452776
         ],
         "y": [
          -0.43293965084866914,
          0.11516512810227483
         ],
         "z": [
          -0.8685920976050062,
          -1.5652492770356794
         ]
        },
        {
         "hoverinfo": "text",
         "hovertext": "Length: 1.16e+00, Contributes -6.41e-01J",
         "line": {
          "color": "rgb(173, 216, 230, 0.4)",
          "width": 8
         },
         "mode": "lines",
         "showlegend": false,
         "type": "scatter3d",
         "x": [
          -1.306485197280424,
          -1.195158705459841
         ],
         "y": [
          -0.43293965084866914,
          0.5919201008936208
         ],
         "z": [
          -0.8685920976050062,
          -1.410545755015437
         ]
        },
        {
         "hoverinfo": "text",
         "hovertext": "Length: 1.63e+00, Contributes -1.05e-01J",
         "line": {
          "color": "rgb(173, 216, 230, 0.4)",
          "width": 8
         },
         "mode": "lines",
         "showlegend": false,
         "type": "scatter3d",
         "x": [
          -1.306485197280424,
          0.1482257492820664
         ],
         "y": [
          -0.43293965084866914,
          -0.7612298310694466
         ],
         "z": [
          -0.8685920976050062,
          -1.520599139986202
         ]
        },
        {
         "hoverinfo": "text",
         "hovertext": "Length: 1.69e+00, Contributes -8.45e-02J",
         "line": {
          "color": "rgb(173, 216, 230, 0.4)",
          "width": 8
         },
         "mode": "lines",
         "showlegend": false,
         "type": "scatter3d",
         "x": [
          -1.306485197280424,
          -0.2134359569261824
         ],
         "y": [
          -0.43293965084866914,
          0.6192573034306015
         ],
         "z": [
          -0.8685920976050062,
          -1.6088205981309724
         ]
        },
        {
         "hoverinfo": "text",
         "hovertext": "Length: 9.67e-01, Contributes -9.51e-01J",
         "line": {
          "color": "rgb(173, 216, 230, 0.4)",
          "width": 8
         },
         "mode": "lines",
         "showlegend": false,
         "type": "scatter3d",
         "x": [
          -1.306485197280424,
          -0.6642538505397937
         ],
         "y": [
          -0.43293965084866914,
          -0.23195019292360008
         ],
         "z": [
          -0.8685920976050062,
          -1.5633072773113383
         ]
        },
        {
         "hoverinfo": "text",
         "hovertext": "Length: 1.94e+00, Contributes -3.70e-02J",
         "line": {
          "color": "rgb(173, 216, 230, 0.4)",
          "width": 8
         },
         "mode": "lines",
         "showlegend": false,
         "type": "scatter3d",
         "x": [
          -1.306485197280424,
          -0.012108698429047438
         ],
         "y": [
          -0.43293965084866914,
          -0.11144933758689654
         ],
         "z": [
          -0.8685920976050062,
          -2.279140405771609
         ]
        },
        {
         "hoverinfo": "text",
         "hovertext": "Length: 1.93e+00, Contributes -3.88e-02J",
         "line": {
          "color": "rgb(173, 216, 230, 0.4)",
          "width": 8
         },
         "mode": "lines",
         "showlegend": false,
         "type": "scatter3d",
         "x": [
          0.574251580832293,
          -0.5278022233446579
         ],
         "y": [
          -0.35827417364212266,
          1.210714424838825
         ],
         "z": [
          -0.7138923709455769,
          -0.894544824535012
         ]
        },
        {
         "hoverinfo": "text",
         "hovertext": "Length: 1.73e+00, Contributes -7.41e-02J",
         "line": {
          "color": "rgb(173, 216, 230, 0.4)",
          "width": 8
         },
         "mode": "lines",
         "showlegend": false,
         "type": "scatter3d",
         "x": [
          0.574251580832293,
          -0.78756263154427
         ],
         "y": [
          -0.35827417364212266,
          -1.1805954581924714
         ],
         "z": [
          -0.7138923709455769,
          -1.3845942443851014
         ]
        },
        {
         "hoverinfo": "text",
         "hovertext": "Length: 9.75e-01, Contributes -9.74e-01J",
         "line": {
          "color": "rgb(173, 216, 230, 0.4)",
          "width": 8
         },
         "mode": "lines",
         "showlegend": false,
         "type": "scatter3d",
         "x": [
          0.574251580832293,
          0.6256788221452776
         ],
         "y": [
          -0.35827417364212266,
          0.11516512810227483
         ],
         "z": [
          -0.7138923709455769,
          -1.5652492770356794
         ]
        },
        {
         "hoverinfo": "text",
         "hovertext": "Length: 2.13e+00, Contributes -2.16e-02J",
         "line": {
          "color": "rgb(173, 216, 230, 0.4)",
          "width": 8
         },
         "mode": "lines",
         "showlegend": false,
         "type": "scatter3d",
         "x": [
          0.574251580832293,
          -1.195158705459841
         ],
         "y": [
          -0.35827417364212266,
          0.5919201008936208
         ],
         "z": [
          -0.7138923709455769,
          -1.410545755015437
         ]
        },
        {
         "hoverinfo": "text",
         "hovertext": "Length: 9.97e-01, Contributes -1.00e+00J",
         "line": {
          "color": "rgb(173, 216, 230, 0.4)",
          "width": 8
         },
         "mode": "lines",
         "showlegend": false,
         "type": "scatter3d",
         "x": [
          0.574251580832293,
          0.1482257492820664
         ],
         "y": [
          -0.35827417364212266,
          -0.7612298310694466
         ],
         "z": [
          -0.7138923709455769,
          -1.520599139986202
         ]
        },
        {
         "hoverinfo": "text",
         "hovertext": "Length: 1.54e+00, Contributes -1.43e-01J",
         "line": {
          "color": "rgb(173, 216, 230, 0.4)",
          "width": 8
         },
         "mode": "lines",
         "showlegend": false,
         "type": "scatter3d",
         "x": [
          0.574251580832293,
          -0.2134359569261824
         ],
         "y": [
          -0.35827417364212266,
          0.6192573034306015
         ],
         "z": [
          -0.7138923709455769,
          -1.6088205981309724
         ]
        },
        {
         "hoverinfo": "text",
         "hovertext": "Length: 1.51e+00, Contributes -1.63e-01J",
         "line": {
          "color": "rgb(173, 216, 230, 0.4)",
          "width": 8
         },
         "mode": "lines",
         "showlegend": false,
         "type": "scatter3d",
         "x": [
          0.574251580832293,
          -0.6642538505397937
         ],
         "y": [
          -0.35827417364212266,
          -0.23195019292360008
         ],
         "z": [
          -0.7138923709455769,
          -1.5633072773113383
         ]
        },
        {
         "hoverinfo": "text",
         "hovertext": "Length: 1.69e+00, Contributes -8.41e-02J",
         "line": {
          "color": "rgb(173, 216, 230, 0.4)",
          "width": 8
         },
         "mode": "lines",
         "showlegend": false,
         "type": "scatter3d",
         "x": [
          0.574251580832293,
          -0.012108698429047438
         ],
         "y": [
          -0.35827417364212266,
          -0.11144933758689654
         ],
         "z": [
          -0.7138923709455769,
          -2.279140405771609
         ]
        },
        {
         "hoverinfo": "text",
         "hovertext": "Length: 2.45e+00, Contributes -9.12e-03J",
         "line": {
          "color": "rgb(173, 216, 230, 0.4)",
          "width": 8
         },
         "mode": "lines",
         "showlegend": false,
         "type": "scatter3d",
         "x": [
          -0.5278022233446579,
          -0.78756263154427
         ],
         "y": [
          1.210714424838825,
          -1.1805954581924714
         ],
         "z": [
          -0.894544824535012,
          -1.3845942443851014
         ]
        },
        {
         "hoverinfo": "text",
         "hovertext": "Length: 1.73e+00, Contributes -7.41e-02J",
         "line": {
          "color": "rgb(173, 216, 230, 0.4)",
          "width": 8
         },
         "mode": "lines",
         "showlegend": false,
         "type": "scatter3d",
         "x": [
          -0.5278022233446579,
          0.6256788221452776
         ],
         "y": [
          1.210714424838825,
          0.11516512810227483
         ],
         "z": [
          -0.894544824535012,
          -1.5652492770356794
         ]
        },
        {
         "hoverinfo": "text",
         "hovertext": "Length: 1.05e+00, Contributes -9.44e-01J",
         "line": {
          "color": "rgb(173, 216, 230, 0.4)",
          "width": 8
         },
         "mode": "lines",
         "showlegend": false,
         "type": "scatter3d",
         "x": [
          -0.5278022233446579,
          -1.195158705459841
         ],
         "y": [
          1.210714424838825,
          0.5919201008936208
         ],
         "z": [
          -0.894544824535012,
          -1.410545755015437
         ]
        },
        {
         "hoverinfo": "text",
         "hovertext": "Length: 2.18e+00, Contributes -1.87e-02J",
         "line": {
          "color": "rgb(173, 216, 230, 0.4)",
          "width": 8
         },
         "mode": "lines",
         "showlegend": false,
         "type": "scatter3d",
         "x": [
          -0.5278022233446579,
          0.1482257492820664
         ],
         "y": [
          1.210714424838825,
          -0.7612298310694466
         ],
         "z": [
          -0.894544824535012,
          -1.520599139986202
         ]
        },
        {
         "hoverinfo": "text",
         "hovertext": "Length: 9.79e-01, Contributes -9.82e-01J",
         "line": {
          "color": "rgb(173, 216, 230, 0.4)",
          "width": 8
         },
         "mode": "lines",
         "showlegend": false,
         "type": "scatter3d",
         "x": [
          -0.5278022233446579,
          -0.2134359569261824
         ],
         "y": [
          1.210714424838825,
          0.6192573034306015
         ],
         "z": [
          -0.894544824535012,
          -1.6088205981309724
         ]
        },
        {
         "hoverinfo": "text",
         "hovertext": "Length: 1.60e+00, Contributes -1.17e-01J",
         "line": {
          "color": "rgb(173, 216, 230, 0.4)",
          "width": 8
         },
         "mode": "lines",
         "showlegend": false,
         "type": "scatter3d",
         "x": [
          -0.5278022233446579,
          -0.6642538505397937
         ],
         "y": [
          1.210714424838825,
          -0.23195019292360008
         ],
         "z": [
          -0.894544824535012,
          -1.5633072773113383
         ]
        },
        {
         "hoverinfo": "text",
         "hovertext": "Length: 1.98e+00, Contributes -3.26e-02J",
         "line": {
          "color": "rgb(173, 216, 230, 0.4)",
          "width": 8
         },
         "mode": "lines",
         "showlegend": false,
         "type": "scatter3d",
         "x": [
          -0.5278022233446579,
          -0.012108698429047438
         ],
         "y": [
          1.210714424838825,
          -0.11144933758689654
         ],
         "z": [
          -0.894544824535012,
          -2.279140405771609
         ]
        },
        {
         "hoverinfo": "text",
         "hovertext": "Length: 1.93e+00, Contributes -3.88e-02J",
         "line": {
          "color": "rgb(173, 216, 230, 0.4)",
          "width": 8
         },
         "mode": "lines",
         "showlegend": false,
         "type": "scatter3d",
         "x": [
          -0.78756263154427,
          0.6256788221452776
         ],
         "y": [
          -1.1805954581924714,
          0.11516512810227483
         ],
         "z": [
          -1.3845942443851014,
          -1.5652492770356794
         ]
        },
        {
         "hoverinfo": "text",
         "hovertext": "Length: 1.82e+00, Contributes -5.45e-02J",
         "line": {
          "color": "rgb(173, 216, 230, 0.4)",
          "width": 8
         },
         "mode": "lines",
         "showlegend": false,
         "type": "scatter3d",
         "x": [
          -0.78756263154427,
          -1.195158705459841
         ],
         "y": [
          -1.1805954581924714,
          0.5919201008936208
         ],
         "z": [
          -1.3845942443851014,
          -1.410545755015437
         ]
        },
        {
         "hoverinfo": "text",
         "hovertext": "Length: 1.03e+00, Contributes -9.66e-01J",
         "line": {
          "color": "rgb(173, 216, 230, 0.4)",
          "width": 8
         },
         "mode": "lines",
         "showlegend": false,
         "type": "scatter3d",
         "x": [
          -0.78756263154427,
          0.1482257492820664
         ],
         "y": [
          -1.1805954581924714,
          -0.7612298310694466
         ],
         "z": [
          -1.3845942443851014,
          -1.520599139986202
         ]
        },
        {
         "hoverinfo": "text",
         "hovertext": "Length: 1.90e+00, Contributes -4.17e-02J",
         "line": {
          "color": "rgb(173, 216, 230, 0.4)",
          "width": 8
         },
         "mode": "lines",
         "showlegend": false,
         "type": "scatter3d",
         "x": [
          -0.78756263154427,
          -0.2134359569261824
         ],
         "y": [
          -1.1805954581924714,
          0.6192573034306015
         ],
         "z": [
          -1.3845942443851014,
          -1.6088205981309724
         ]
        },
        {
         "hoverinfo": "text",
         "hovertext": "Length: 9.73e-01, Contributes -9.69e-01J",
         "line": {
          "color": "rgb(173, 216, 230, 0.4)",
          "width": 8
         },
         "mode": "lines",
         "showlegend": false,
         "type": "scatter3d",
         "x": [
          -0.78756263154427,
          -0.6642538505397937
         ],
         "y": [
          -1.1805954581924714,
          -0.23195019292360008
         ],
         "z": [
          -1.3845942443851014,
          -1.5633072773113383
         ]
        },
        {
         "hoverinfo": "text",
         "hovertext": "Length: 1.60e+00, Contributes -1.18e-01J",
         "line": {
          "color": "rgb(173, 216, 230, 0.4)",
          "width": 8
         },
         "mode": "lines",
         "showlegend": false,
         "type": "scatter3d",
         "x": [
          -0.78756263154427,
          -0.012108698429047438
         ],
         "y": [
          -1.1805954581924714,
          -0.11144933758689654
         ],
         "z": [
          -1.3845942443851014,
          -2.279140405771609
         ]
        },
        {
         "hoverinfo": "text",
         "hovertext": "Length: 1.89e+00, Contributes -4.36e-02J",
         "line": {
          "color": "rgb(173, 216, 230, 0.4)",
          "width": 8
         },
         "mode": "lines",
         "showlegend": false,
         "type": "scatter3d",
         "x": [
          0.6256788221452776,
          -1.195158705459841
         ],
         "y": [
          0.11516512810227483,
          0.5919201008936208
         ],
         "z": [
          -1.5652492770356794,
          -1.410545755015437
         ]
        },
        {
         "hoverinfo": "text",
         "hovertext": "Length: 9.99e-01, Contributes -1.00e+00J",
         "line": {
          "color": "rgb(173, 216, 230, 0.4)",
          "width": 8
         },
         "mode": "lines",
         "showlegend": false,
         "type": "scatter3d",
         "x": [
          0.6256788221452776,
          0.1482257492820664
         ],
         "y": [
          0.11516512810227483,
          -0.7612298310694466
         ],
         "z": [
          -1.5652492770356794,
          -1.520599139986202
         ]
        },
        {
         "hoverinfo": "text",
         "hovertext": "Length: 9.80e-01, Contributes -9.83e-01J",
         "line": {
          "color": "rgb(173, 216, 230, 0.4)",
          "width": 8
         },
         "mode": "lines",
         "showlegend": false,
         "type": "scatter3d",
         "x": [
          0.6256788221452776,
          -0.2134359569261824
         ],
         "y": [
          0.11516512810227483,
          0.6192573034306015
         ],
         "z": [
          -1.5652492770356794,
          -1.6088205981309724
         ]
        },
        {
         "hoverinfo": "text",
         "hovertext": "Length: 1.34e+00, Contributes -3.21e-01J",
         "line": {
          "color": "rgb(173, 216, 230, 0.4)",
          "width": 8
         },
         "mode": "lines",
         "showlegend": false,
         "type": "scatter3d",
         "x": [
          0.6256788221452776,
          -0.6642538505397937
         ],
         "y": [
          0.11516512810227483,
          -0.23195019292360008
         ],
         "z": [
          -1.5652492770356794,
          -1.5633072773113383
         ]
        },
        {
         "hoverinfo": "text",
         "hovertext": "Length: 9.84e-01, Contributes -9.89e-01J",
         "line": {
          "color": "rgb(173, 216, 230, 0.4)",
          "width": 8
         },
         "mode": "lines",
         "showlegend": false,
         "type": "scatter3d",
         "x": [
          0.6256788221452776,
          -0.012108698429047438
         ],
         "y": [
          0.11516512810227483,
          -0.11144933758689654
         ],
         "z": [
          -1.5652492770356794,
          -2.279140405771609
         ]
        },
        {
         "hoverinfo": "text",
         "hovertext": "Length: 1.91e+00, Contributes -4.08e-02J",
         "line": {
          "color": "rgb(173, 216, 230, 0.4)",
          "width": 8
         },
         "mode": "lines",
         "showlegend": false,
         "type": "scatter3d",
         "x": [
          -1.195158705459841,
          0.1482257492820664
         ],
         "y": [
          0.5919201008936208,
          -0.7612298310694466
         ],
         "z": [
          -1.410545755015437,
          -1.520599139986202
         ]
        },
        {
         "hoverinfo": "text",
         "hovertext": "Length: 1.00e+00, Contributes -1.00e+00J",
         "line": {
          "color": "rgb(173, 216, 230, 0.4)",
          "width": 8
         },
         "mode": "lines",
         "showlegend": false,
         "type": "scatter3d",
         "x": [
          -1.195158705459841,
          -0.2134359569261824
         ],
         "y": [
          0.5919201008936208,
          0.6192573034306015
         ],
         "z": [
          -1.410545755015437,
          -1.6088205981309724
         ]
        },
        {
         "hoverinfo": "text",
         "hovertext": "Length: 9.92e-01, Contributes -9.98e-01J",
         "line": {
          "color": "rgb(173, 216, 230, 0.4)",
          "width": 8
         },
         "mode": "lines",
         "showlegend": false,
         "type": "scatter3d",
         "x": [
          -1.195158705459841,
          -0.6642538505397937
         ],
         "y": [
          0.5919201008936208,
          -0.23195019292360008
         ],
         "z": [
          -1.410545755015437,
          -1.5633072773113383
         ]
        },
        {
         "hoverinfo": "text",
         "hovertext": "Length: 1.63e+00, Contributes -1.05e-01J",
         "line": {
          "color": "rgb(173, 216, 230, 0.4)",
          "width": 8
         },
         "mode": "lines",
         "showlegend": false,
         "type": "scatter3d",
         "x": [
          -1.195158705459841,
          -0.012108698429047438
         ],
         "y": [
          0.5919201008936208,
          -0.11144933758689654
         ],
         "z": [
          -1.410545755015437,
          -2.279140405771609
         ]
        },
        {
         "hoverinfo": "text",
         "hovertext": "Length: 1.43e+00, Contributes -2.20e-01J",
         "line": {
          "color": "rgb(173, 216, 230, 0.4)",
          "width": 8
         },
         "mode": "lines",
         "showlegend": false,
         "type": "scatter3d",
         "x": [
          0.1482257492820664,
          -0.2134359569261824
         ],
         "y": [
          -0.7612298310694466,
          0.6192573034306015
         ],
         "z": [
          -1.520599139986202,
          -1.6088205981309724
         ]
        },
        {
         "hoverinfo": "text",
         "hovertext": "Length: 9.71e-01, Contributes -9.62e-01J",
         "line": {
          "color": "rgb(173, 216, 230, 0.4)",
          "width": 8
         },
         "mode": "lines",
         "showlegend": false,
         "type": "scatter3d",
         "x": [
          0.1482257492820664,
          -0.6642538505397937
         ],
         "y": [
          -0.7612298310694466,
          -0.23195019292360008
         ],
         "z": [
          -1.520599139986202,
          -1.5633072773113383
         ]
        },
        {
         "hoverinfo": "text",
         "hovertext": "Length: 1.01e+00, Contributes -9.96e-01J",
         "line": {
          "color": "rgb(173, 216, 230, 0.4)",
          "width": 8
         },
         "mode": "lines",
         "showlegend": false,
         "type": "scatter3d",
         "x": [
          0.1482257492820664,
          -0.012108698429047438
         ],
         "y": [
          -0.7612298310694466,
          -0.11144933758689654
         ],
         "z": [
          -1.520599139986202,
          -2.279140405771609
         ]
        },
        {
         "hoverinfo": "text",
         "hovertext": "Length: 9.64e-01, Contributes -9.41e-01J",
         "line": {
          "color": "rgb(173, 216, 230, 0.4)",
          "width": 8
         },
         "mode": "lines",
         "showlegend": false,
         "type": "scatter3d",
         "x": [
          -0.2134359569261824,
          -0.6642538505397937
         ],
         "y": [
          0.6192573034306015,
          -0.23195019292360008
         ],
         "z": [
          -1.6088205981309724,
          -1.5633072773113383
         ]
        },
        {
         "hoverinfo": "text",
         "hovertext": "Length: 1.01e+00, Contributes -9.95e-01J",
         "line": {
          "color": "rgb(173, 216, 230, 0.4)",
          "width": 8
         },
         "mode": "lines",
         "showlegend": false,
         "type": "scatter3d",
         "x": [
          -0.2134359569261824,
          -0.012108698429047438
         ],
         "y": [
          0.6192573034306015,
          -0.11144933758689654
         ],
         "z": [
          -1.6088205981309724,
          -2.279140405771609
         ]
        },
        {
         "hoverinfo": "text",
         "hovertext": "Length: 9.76e-01, Contributes -9.75e-01J",
         "line": {
          "color": "rgb(173, 216, 230, 0.4)",
          "width": 8
         },
         "mode": "lines",
         "showlegend": false,
         "type": "scatter3d",
         "x": [
          -0.6642538505397937,
          -0.012108698429047438
         ],
         "y": [
          -0.23195019292360008,
          -0.11144933758689654
         ],
         "z": [
          -1.5633072773113383,
          -2.279140405771609
         ]
        },
        {
         "hovertext": [
          "Point 1",
          "Point 2",
          "Point 3",
          "Point 4",
          "Point 5",
          "Point 6",
          "Point 7",
          "Point 8",
          "Point 9",
          "Point 10",
          "Point 11",
          "Point 12",
          "Point 13",
          "Point 14"
         ],
         "marker": {
          "color": "red",
          "size": 8
         },
         "mode": "markers",
         "showlegend": false,
         "type": "scatter3d",
         "x": {
          "bdata": "AAAAAAAAAACUwpKq0Y3jvw5vi6I7oNa/pceZeYfz0j/CcLAFXef0v2I769lEYOI/Qa8AfcHj4L9LGUGMtjPpv5Y93ZePBeQ/6KwXvF4f87+WuMu0D/nCP+LqZJPeUcu/gO+JSpFB5b/gw//9ccyIvw==",
          "dtype": "f8"
         },
         "y": {
          "bdata": "AAAAAAAAAABcEhrRdn7QP5O759YydOW/UTk+kdI04z8sWWKCSLXbv4DWssz27da/uaa3FhZf8z+C4isQuOPyv4bD1jp2e70/ItxlbALx4j8j2qWp/lvovwZlQbH00OM/QDF0Pouwzb++uRic8Ye8vw==",
          "dtype": "f8"
         },
         "z": {
          "bdata": "AAAAAAAAAABChLEuGOjmv3JIq1NBc+W/h7bNT/lF6L+f4Zingcvrv6hnQtA02Oa/zOLFdxyg7L9M0l1LTCf2v1BLb9NCC/m/zdj0bJiR9r88EInDX1T4v7Ko4aq6vfm/gGrafU4D+b/2Pw73rTsCwA==",
          "dtype": "f8"
         }
        }
       ],
       "layout": {
        "height": 400,
        "paper_bgcolor": "rgba(0,0,0,0)",
        "plot_bgcolor": "rgba(0,0,0,0)",
        "scene": {
         "xaxis": {
          "showgrid": false,
          "showticklabels": false,
          "title": {
           "text": ""
          },
          "visible": false,
          "zeroline": false
         },
         "yaxis": {
          "showgrid": false,
          "showticklabels": false,
          "title": {
           "text": ""
          },
          "visible": false,
          "zeroline": false
         },
         "zaxis": {
          "showgrid": false,
          "showticklabels": false,
          "title": {
           "text": ""
          },
          "visible": false,
          "zeroline": false
         }
        },
        "template": {
         "data": {
          "bar": [
           {
            "error_x": {
             "color": "#2a3f5f"
            },
            "error_y": {
             "color": "#2a3f5f"
            },
            "marker": {
             "line": {
              "color": "#E5ECF6",
              "width": 0.5
             },
             "pattern": {
              "fillmode": "overlay",
              "size": 10,
              "solidity": 0.2
             }
            },
            "type": "bar"
           }
          ],
          "barpolar": [
           {
            "marker": {
             "line": {
              "color": "#E5ECF6",
              "width": 0.5
             },
             "pattern": {
              "fillmode": "overlay",
              "size": 10,
              "solidity": 0.2
             }
            },
            "type": "barpolar"
           }
          ],
          "carpet": [
           {
            "aaxis": {
             "endlinecolor": "#2a3f5f",
             "gridcolor": "white",
             "linecolor": "white",
             "minorgridcolor": "white",
             "startlinecolor": "#2a3f5f"
            },
            "baxis": {
             "endlinecolor": "#2a3f5f",
             "gridcolor": "white",
             "linecolor": "white",
             "minorgridcolor": "white",
             "startlinecolor": "#2a3f5f"
            },
            "type": "carpet"
           }
          ],
          "choropleth": [
           {
            "colorbar": {
             "outlinewidth": 0,
             "ticks": ""
            },
            "type": "choropleth"
           }
          ],
          "contour": [
           {
            "colorbar": {
             "outlinewidth": 0,
             "ticks": ""
            },
            "colorscale": [
             [
              0,
              "#0d0887"
             ],
             [
              0.1111111111111111,
              "#46039f"
             ],
             [
              0.2222222222222222,
              "#7201a8"
             ],
             [
              0.3333333333333333,
              "#9c179e"
             ],
             [
              0.4444444444444444,
              "#bd3786"
             ],
             [
              0.5555555555555556,
              "#d8576b"
             ],
             [
              0.6666666666666666,
              "#ed7953"
             ],
             [
              0.7777777777777778,
              "#fb9f3a"
             ],
             [
              0.8888888888888888,
              "#fdca26"
             ],
             [
              1,
              "#f0f921"
             ]
            ],
            "type": "contour"
           }
          ],
          "contourcarpet": [
           {
            "colorbar": {
             "outlinewidth": 0,
             "ticks": ""
            },
            "type": "contourcarpet"
           }
          ],
          "heatmap": [
           {
            "colorbar": {
             "outlinewidth": 0,
             "ticks": ""
            },
            "colorscale": [
             [
              0,
              "#0d0887"
             ],
             [
              0.1111111111111111,
              "#46039f"
             ],
             [
              0.2222222222222222,
              "#7201a8"
             ],
             [
              0.3333333333333333,
              "#9c179e"
             ],
             [
              0.4444444444444444,
              "#bd3786"
             ],
             [
              0.5555555555555556,
              "#d8576b"
             ],
             [
              0.6666666666666666,
              "#ed7953"
             ],
             [
              0.7777777777777778,
              "#fb9f3a"
             ],
             [
              0.8888888888888888,
              "#fdca26"
             ],
             [
              1,
              "#f0f921"
             ]
            ],
            "type": "heatmap"
           }
          ],
          "histogram": [
           {
            "marker": {
             "pattern": {
              "fillmode": "overlay",
              "size": 10,
              "solidity": 0.2
             }
            },
            "type": "histogram"
           }
          ],
          "histogram2d": [
           {
            "colorbar": {
             "outlinewidth": 0,
             "ticks": ""
            },
            "colorscale": [
             [
              0,
              "#0d0887"
             ],
             [
              0.1111111111111111,
              "#46039f"
             ],
             [
              0.2222222222222222,
              "#7201a8"
             ],
             [
              0.3333333333333333,
              "#9c179e"
             ],
             [
              0.4444444444444444,
              "#bd3786"
             ],
             [
              0.5555555555555556,
              "#d8576b"
             ],
             [
              0.6666666666666666,
              "#ed7953"
             ],
             [
              0.7777777777777778,
              "#fb9f3a"
             ],
             [
              0.8888888888888888,
              "#fdca26"
             ],
             [
              1,
              "#f0f921"
             ]
            ],
            "type": "histogram2d"
           }
          ],
          "histogram2dcontour": [
           {
            "colorbar": {
             "outlinewidth": 0,
             "ticks": ""
            },
            "colorscale": [
             [
              0,
              "#0d0887"
             ],
             [
              0.1111111111111111,
              "#46039f"
             ],
             [
              0.2222222222222222,
              "#7201a8"
             ],
             [
              0.3333333333333333,
              "#9c179e"
             ],
             [
              0.4444444444444444,
              "#bd3786"
             ],
             [
              0.5555555555555556,
              "#d8576b"
             ],
             [
              0.6666666666666666,
              "#ed7953"
             ],
             [
              0.7777777777777778,
              "#fb9f3a"
             ],
             [
              0.8888888888888888,
              "#fdca26"
             ],
             [
              1,
              "#f0f921"
             ]
            ],
            "type": "histogram2dcontour"
           }
          ],
          "mesh3d": [
           {
            "colorbar": {
             "outlinewidth": 0,
             "ticks": ""
            },
            "type": "mesh3d"
           }
          ],
          "parcoords": [
           {
            "line": {
             "colorbar": {
              "outlinewidth": 0,
              "ticks": ""
             }
            },
            "type": "parcoords"
           }
          ],
          "pie": [
           {
            "automargin": true,
            "type": "pie"
           }
          ],
          "scatter": [
           {
            "fillpattern": {
             "fillmode": "overlay",
             "size": 10,
             "solidity": 0.2
            },
            "type": "scatter"
           }
          ],
          "scatter3d": [
           {
            "line": {
             "colorbar": {
              "outlinewidth": 0,
              "ticks": ""
             }
            },
            "marker": {
             "colorbar": {
              "outlinewidth": 0,
              "ticks": ""
             }
            },
            "type": "scatter3d"
           }
          ],
          "scattercarpet": [
           {
            "marker": {
             "colorbar": {
              "outlinewidth": 0,
              "ticks": ""
             }
            },
            "type": "scattercarpet"
           }
          ],
          "scattergeo": [
           {
            "marker": {
             "colorbar": {
              "outlinewidth": 0,
              "ticks": ""
             }
            },
            "type": "scattergeo"
           }
          ],
          "scattergl": [
           {
            "marker": {
             "colorbar": {
              "outlinewidth": 0,
              "ticks": ""
             }
            },
            "type": "scattergl"
           }
          ],
          "scattermap": [
           {
            "marker": {
             "colorbar": {
              "outlinewidth": 0,
              "ticks": ""
             }
            },
            "type": "scattermap"
           }
          ],
          "scattermapbox": [
           {
            "marker": {
             "colorbar": {
              "outlinewidth": 0,
              "ticks": ""
             }
            },
            "type": "scattermapbox"
           }
          ],
          "scatterpolar": [
           {
            "marker": {
             "colorbar": {
              "outlinewidth": 0,
              "ticks": ""
             }
            },
            "type": "scatterpolar"
           }
          ],
          "scatterpolargl": [
           {
            "marker": {
             "colorbar": {
              "outlinewidth": 0,
              "ticks": ""
             }
            },
            "type": "scatterpolargl"
           }
          ],
          "scatterternary": [
           {
            "marker": {
             "colorbar": {
              "outlinewidth": 0,
              "ticks": ""
             }
            },
            "type": "scatterternary"
           }
          ],
          "surface": [
           {
            "colorbar": {
             "outlinewidth": 0,
             "ticks": ""
            },
            "colorscale": [
             [
              0,
              "#0d0887"
             ],
             [
              0.1111111111111111,
              "#46039f"
             ],
             [
              0.2222222222222222,
              "#7201a8"
             ],
             [
              0.3333333333333333,
              "#9c179e"
             ],
             [
              0.4444444444444444,
              "#bd3786"
             ],
             [
              0.5555555555555556,
              "#d8576b"
             ],
             [
              0.6666666666666666,
              "#ed7953"
             ],
             [
              0.7777777777777778,
              "#fb9f3a"
             ],
             [
              0.8888888888888888,
              "#fdca26"
             ],
             [
              1,
              "#f0f921"
             ]
            ],
            "type": "surface"
           }
          ],
          "table": [
           {
            "cells": {
             "fill": {
              "color": "#EBF0F8"
             },
             "line": {
              "color": "white"
             }
            },
            "header": {
             "fill": {
              "color": "#C8D4E3"
             },
             "line": {
              "color": "white"
             }
            },
            "type": "table"
           }
          ]
         },
         "layout": {
          "annotationdefaults": {
           "arrowcolor": "#2a3f5f",
           "arrowhead": 0,
           "arrowwidth": 1
          },
          "autotypenumbers": "strict",
          "coloraxis": {
           "colorbar": {
            "outlinewidth": 0,
            "ticks": ""
           }
          },
          "colorscale": {
           "diverging": [
            [
             0,
             "#8e0152"
            ],
            [
             0.1,
             "#c51b7d"
            ],
            [
             0.2,
             "#de77ae"
            ],
            [
             0.3,
             "#f1b6da"
            ],
            [
             0.4,
             "#fde0ef"
            ],
            [
             0.5,
             "#f7f7f7"
            ],
            [
             0.6,
             "#e6f5d0"
            ],
            [
             0.7,
             "#b8e186"
            ],
            [
             0.8,
             "#7fbc41"
            ],
            [
             0.9,
             "#4d9221"
            ],
            [
             1,
             "#276419"
            ]
           ],
           "sequential": [
            [
             0,
             "#0d0887"
            ],
            [
             0.1111111111111111,
             "#46039f"
            ],
            [
             0.2222222222222222,
             "#7201a8"
            ],
            [
             0.3333333333333333,
             "#9c179e"
            ],
            [
             0.4444444444444444,
             "#bd3786"
            ],
            [
             0.5555555555555556,
             "#d8576b"
            ],
            [
             0.6666666666666666,
             "#ed7953"
            ],
            [
             0.7777777777777778,
             "#fb9f3a"
            ],
            [
             0.8888888888888888,
             "#fdca26"
            ],
            [
             1,
             "#f0f921"
            ]
           ],
           "sequentialminus": [
            [
             0,
             "#0d0887"
            ],
            [
             0.1111111111111111,
             "#46039f"
            ],
            [
             0.2222222222222222,
             "#7201a8"
            ],
            [
             0.3333333333333333,
             "#9c179e"
            ],
            [
             0.4444444444444444,
             "#bd3786"
            ],
            [
             0.5555555555555556,
             "#d8576b"
            ],
            [
             0.6666666666666666,
             "#ed7953"
            ],
            [
             0.7777777777777778,
             "#fb9f3a"
            ],
            [
             0.8888888888888888,
             "#fdca26"
            ],
            [
             1,
             "#f0f921"
            ]
           ]
          },
          "colorway": [
           "#636efa",
           "#EF553B",
           "#00cc96",
           "#ab63fa",
           "#FFA15A",
           "#19d3f3",
           "#FF6692",
           "#B6E880",
           "#FF97FF",
           "#FECB52"
          ],
          "font": {
           "color": "#2a3f5f"
          },
          "geo": {
           "bgcolor": "white",
           "lakecolor": "white",
           "landcolor": "#E5ECF6",
           "showlakes": true,
           "showland": true,
           "subunitcolor": "white"
          },
          "hoverlabel": {
           "align": "left"
          },
          "hovermode": "closest",
          "mapbox": {
           "style": "light"
          },
          "paper_bgcolor": "white",
          "plot_bgcolor": "#E5ECF6",
          "polar": {
           "angularaxis": {
            "gridcolor": "white",
            "linecolor": "white",
            "ticks": ""
           },
           "bgcolor": "#E5ECF6",
           "radialaxis": {
            "gridcolor": "white",
            "linecolor": "white",
            "ticks": ""
           }
          },
          "scene": {
           "xaxis": {
            "backgroundcolor": "#E5ECF6",
            "gridcolor": "white",
            "gridwidth": 2,
            "linecolor": "white",
            "showbackground": true,
            "ticks": "",
            "zerolinecolor": "white"
           },
           "yaxis": {
            "backgroundcolor": "#E5ECF6",
            "gridcolor": "white",
            "gridwidth": 2,
            "linecolor": "white",
            "showbackground": true,
            "ticks": "",
            "zerolinecolor": "white"
           },
           "zaxis": {
            "backgroundcolor": "#E5ECF6",
            "gridcolor": "white",
            "gridwidth": 2,
            "linecolor": "white",
            "showbackground": true,
            "ticks": "",
            "zerolinecolor": "white"
           }
          },
          "shapedefaults": {
           "line": {
            "color": "#2a3f5f"
           }
          },
          "ternary": {
           "aaxis": {
            "gridcolor": "white",
            "linecolor": "white",
            "ticks": ""
           },
           "baxis": {
            "gridcolor": "white",
            "linecolor": "white",
            "ticks": ""
           },
           "bgcolor": "#E5ECF6",
           "caxis": {
            "gridcolor": "white",
            "linecolor": "white",
            "ticks": ""
           }
          },
          "title": {
           "x": 0.05
          },
          "xaxis": {
           "automargin": true,
           "gridcolor": "white",
           "linecolor": "white",
           "ticks": "",
           "title": {
            "standoff": 15
           },
           "zerolinecolor": "white",
           "zerolinewidth": 2
          },
          "yaxis": {
           "automargin": true,
           "gridcolor": "white",
           "linecolor": "white",
           "ticks": "",
           "title": {
            "standoff": 15
           },
           "zerolinecolor": "white",
           "zerolinewidth": 2
          }
         }
        },
        "title": {
         "text": "14-Atom Configuration: -42.579276J"
        },
        "width": 600
       }
      }
     },
     "metadata": {},
     "output_type": "display_data"
    }
   ],
   "source": [
    "config = bfgs(30, debug=True)\n",
    "plot_3d_points(*config)\n",
    "\n",
    "\n",
    "config = gd_solve(14, debug=True)\n",
    "plot_3d_points(*config)"
   ]
  }
 ],
 "metadata": {
  "kernelspec": {
   "display_name": "mlc-config",
   "language": "python",
   "name": "python3"
  },
  "language_info": {
   "codemirror_mode": {
    "name": "ipython",
    "version": 3
   },
   "file_extension": ".py",
   "mimetype": "text/x-python",
   "name": "python",
   "nbconvert_exporter": "python",
   "pygments_lexer": "ipython3",
   "version": "3.10.12"
  }
 },
 "nbformat": 4,
 "nbformat_minor": 5
}
